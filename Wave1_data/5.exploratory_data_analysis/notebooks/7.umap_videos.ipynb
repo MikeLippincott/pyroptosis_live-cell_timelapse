{
    "cells": [
        {
            "cell_type": "markdown",
            "metadata": {},
            "source": [
                "This notebook visualizes the exploratory data analysis. \n",
                "Specifically the UMAP and PCA plots of the data."
            ]
        },
        {
            "cell_type": "code",
            "execution_count": 1,
            "metadata": {
                "vscode": {
                    "languageId": "r"
                }
            },
            "outputs": [],
            "source": [
                "suppressWarnings(suppressPackageStartupMessages(library(ggplot2)))\n",
                "suppressWarnings(suppressPackageStartupMessages(library(cowplot)))\n",
                "suppressWarnings(suppressPackageStartupMessages(library(dplyr)))\n",
                "suppressWarnings(suppressPackageStartupMessages(library(arrow)))\n",
                "suppressWarnings(suppressPackageStartupMessages(library(argparse)))\n",
                "suppressWarnings(suppressPackageStartupMessages(library(gifski)))\n",
                "if (!requireNamespace(\"gganimate\", quietly = TRUE)) {\n",
                "  install.packages(\"gganimate\")\n",
                "}\n",

                "suppressWarnings(suppressPackageStartupMessages(library(gganimate)))"
            ]
        },
        {
            "cell_type": "code",
            "execution_count": 2,
            "metadata": {
                "vscode": {
                    "languageId": "r"
                }
            },
            "outputs": [],
            "source": [
                "# argparser <- ArgumentParser()\n",
                "# argparser$add_argument(\"--dataset\", help=\"Input file\", required=TRUE)\n",
                "\n",
                "# args <- argparser$parse_args()\n",
                "\n",
                "# data_set <- args$dataset\n",
                "\n",
                "data_set <- \"first_time\""
            ]
        },
        {
            "cell_type": "code",
            "execution_count": 3,
            "metadata": {
                "vscode": {
                    "languageId": "r"
                }
            },
            "outputs": [],
            "source": [
                "input_data_path <- file.path(\"..\",\"data\",data_set)"
            ]
        },
        {
            "cell_type": "code",
            "execution_count": 4,
            "metadata": {
                "vscode": {
                    "languageId": "r"
                }
            },
            "outputs": [],
            "source": [
                "# set the path to the data to visualize\n",
                "umap_data_path <- file.path(input_data_path,\"umap_embeddings.parquet\")\n",
                "pca_data_path <- file.path(input_data_path,\"pca_embeddings.parquet\")\n",
                "scree_data_path <- file.path(input_data_path,\"scree_plot.parquet\")\n",
                "\n",
                "# read the data\n",
                "umap_data <- arrow::read_parquet(umap_data_path)\n",
                "pca_data <- arrow::read_parquet(pca_data_path)\n",
                "scree_data <- arrow::read_parquet(scree_data_path)"
            ]
        },
        {
            "cell_type": "code",
            "execution_count": 5,
            "metadata": {
                "vscode": {
                    "languageId": "r"
                }
            },
            "outputs": [
                {
                    "data": {
                        "text/html": [
                            "<style>\n",
                            ".list-inline {list-style: none; margin:0; padding: 0}\n",
                            ".list-inline>li {display: inline-block}\n",
                            ".list-inline>li:not(:last-child)::after {content: \"\\00b7\"; padding: 0 .5ex}\n",
                            "</style>\n",
                            "<ol class=list-inline><li>3820888</li><li>35</li></ol>\n"
                        ],
                        "text/latex": [
                            "\\begin{enumerate*}\n",
                            "\\item 3820888\n",
                            "\\item 35\n",
                            "\\end{enumerate*}\n"
                        ],
                        "text/markdown": [
                            "1. 3820888\n",
                            "2. 35\n",
                            "\n",
                            "\n"
                        ],
                        "text/plain": [
                            "[1] 3820888      35"
                        ]
                    },
                    "metadata": {},
                    "output_type": "display_data"
                },
                {
                    "data": {
                        "text/html": [
                            "<style>\n",
                            ".list-inline {list-style: none; margin:0; padding: 0}\n",
                            ".list-inline>li {display: inline-block}\n",
                            ".list-inline>li:not(:last-child)::after {content: \"\\00b7\"; padding: 0 .5ex}\n",
                            "</style>\n",
                            "<ol class=list-inline><li>32892</li><li>35</li></ol>\n"
                        ],
                        "text/latex": [
                            "\\begin{enumerate*}\n",
                            "\\item 32892\n",
                            "\\item 35\n",
                            "\\end{enumerate*}\n"
                        ],
                        "text/markdown": [
                            "1. 32892\n",
                            "2. 35\n",
                            "\n",
                            "\n"
                        ],
                        "text/plain": [
                            "[1] 32892    35"
                        ]
                    },
                    "metadata": {},
                    "output_type": "display_data"
                }
            ],
            "source": [
                "# sample from well, fov, and time \n",
                "dim(umap_data)\n",
                "umap_data <- umap_data %>% \n",
                "  group_by(Metadata_Well, Metadata_FOV, Metadata_Time) %>% \n",
                "  sample_n(4) %>% \n",
                "  ungroup()\n",
                "dim(umap_data)"
            ]
        },
        {
            "cell_type": "code",
            "execution_count": 6,
            "metadata": {
                "vscode": {
                    "languageId": "r"
                }
            },
            "outputs": [
                {
                    "data": {
                        "text/html": [
                            "<table class=\"dataframe\">\n",
                            "<caption>A tibble: 6 \u00d7 35</caption>\n",
                            "<thead>\n",
                            "\t<tr><th scope=col>Metadata_treatment</th><th scope=col>Metadata_Well</th><th scope=col>Metadata_number_of_singlecells</th><th scope=col>Metadata_FOV</th><th scope=col>Metadata_treatment1</th><th scope=col>Metadata_Time</th><th scope=col>Metadata_treatment2</th><th scope=col>Metadata_treatment1_dose</th><th scope=col>Metadata_treatment1_unit</th><th scope=col>Metadata_treatment2_dose</th><th scope=col>\u22ef</th><th scope=col>Metadata_Image_PathName_BF</th><th scope=col>Metadata_Image_PathName_CL488</th><th scope=col>Metadata_Image_PathName_CL561</th><th scope=col>Metadata_Image_PathName_DNA</th><th scope=col>Metadata_Image_PathName_GSDM</th><th scope=col>Metadata_Nuclei_Location_Center_X</th><th scope=col>Metadata_Nuclei_Location_Center_Y</th><th scope=col>Metadata_cells_per_well</th><th scope=col>UMAP0</th><th scope=col>UMAP1</th></tr>\n",
                            "\t<tr><th scope=col>&lt;chr&gt;</th><th scope=col>&lt;chr&gt;</th><th scope=col>&lt;int&gt;</th><th scope=col>&lt;chr&gt;</th><th scope=col>&lt;chr&gt;</th><th scope=col>&lt;chr&gt;</th><th scope=col>&lt;chr&gt;</th><th scope=col>&lt;chr&gt;</th><th scope=col>&lt;chr&gt;</th><th scope=col>&lt;chr&gt;</th><th scope=col>\u22ef</th><th scope=col>&lt;chr&gt;</th><th scope=col>&lt;chr&gt;</th><th scope=col>&lt;chr&gt;</th><th scope=col>&lt;chr&gt;</th><th scope=col>&lt;chr&gt;</th><th scope=col>&lt;dbl&gt;</th><th scope=col>&lt;dbl&gt;</th><th scope=col>&lt;int&gt;</th><th scope=col>&lt;dbl&gt;</th><th scope=col>&lt;dbl&gt;</th></tr>\n",
                            "</thead>\n",
                            "<tbody>\n",
                            "\t<tr><td>Media</td><td>C04</td><td>502</td><td>0001</td><td>Media</td><td>00</td><td>NA</td><td>NA</td><td>NA</td><td>NA</td><td>\u22ef</td><td>/gpfs/alpine1/scratch/mlippincott@xsede.org/pyroptosis_live-cell_timelapse/Wave1_data/2.illumination_correction/illum_directory/W0052_F0001</td><td>/gpfs/alpine1/scratch/mlippincott@xsede.org/pyroptosis_live-cell_timelapse/Wave1_data/2.illumination_correction/illum_directory/W0052_F0001</td><td>/gpfs/alpine1/scratch/mlippincott@xsede.org/pyroptosis_live-cell_timelapse/Wave1_data/2.illumination_correction/illum_directory/W0052_F0001</td><td>/gpfs/alpine1/scratch/mlippincott@xsede.org/pyroptosis_live-cell_timelapse/Wave1_data/2.illumination_correction/illum_directory/W0052_F0001</td><td>/gpfs/alpine1/scratch/mlippincott@xsede.org/pyroptosis_live-cell_timelapse/Wave1_data/2.illumination_correction/illum_directory/W0052_F0001</td><td>1426.31944</td><td>1051.7531</td><td>56443</td><td> 4.50723457</td><td> 0.8430272</td></tr>\n",
                            "\t<tr><td>Media</td><td>C04</td><td>502</td><td>0001</td><td>Media</td><td>00</td><td>NA</td><td>NA</td><td>NA</td><td>NA</td><td>\u22ef</td><td>/gpfs/alpine1/scratch/mlippincott@xsede.org/pyroptosis_live-cell_timelapse/Wave1_data/2.illumination_correction/illum_directory/W0052_F0001</td><td>/gpfs/alpine1/scratch/mlippincott@xsede.org/pyroptosis_live-cell_timelapse/Wave1_data/2.illumination_correction/illum_directory/W0052_F0001</td><td>/gpfs/alpine1/scratch/mlippincott@xsede.org/pyroptosis_live-cell_timelapse/Wave1_data/2.illumination_correction/illum_directory/W0052_F0001</td><td>/gpfs/alpine1/scratch/mlippincott@xsede.org/pyroptosis_live-cell_timelapse/Wave1_data/2.illumination_correction/illum_directory/W0052_F0001</td><td>/gpfs/alpine1/scratch/mlippincott@xsede.org/pyroptosis_live-cell_timelapse/Wave1_data/2.illumination_correction/illum_directory/W0052_F0001</td><td>1278.15894</td><td> 451.1779</td><td>56443</td><td>-1.14765608</td><td>-0.8359004</td></tr>\n",
                            "\t<tr><td>Media</td><td>C04</td><td>502</td><td>0001</td><td>Media</td><td>00</td><td>NA</td><td>NA</td><td>NA</td><td>NA</td><td>\u22ef</td><td>/gpfs/alpine1/scratch/mlippincott@xsede.org/pyroptosis_live-cell_timelapse/Wave1_data/2.illumination_correction/illum_directory/W0052_F0001</td><td>/gpfs/alpine1/scratch/mlippincott@xsede.org/pyroptosis_live-cell_timelapse/Wave1_data/2.illumination_correction/illum_directory/W0052_F0001</td><td>/gpfs/alpine1/scratch/mlippincott@xsede.org/pyroptosis_live-cell_timelapse/Wave1_data/2.illumination_correction/illum_directory/W0052_F0001</td><td>/gpfs/alpine1/scratch/mlippincott@xsede.org/pyroptosis_live-cell_timelapse/Wave1_data/2.illumination_correction/illum_directory/W0052_F0001</td><td>/gpfs/alpine1/scratch/mlippincott@xsede.org/pyroptosis_live-cell_timelapse/Wave1_data/2.illumination_correction/illum_directory/W0052_F0001</td><td> 116.34923</td><td> 683.6766</td><td>56443</td><td> 0.05474161</td><td>-0.2473071</td></tr>\n",
                            "\t<tr><td>Media</td><td>C04</td><td>502</td><td>0001</td><td>Media</td><td>00</td><td>NA</td><td>NA</td><td>NA</td><td>NA</td><td>\u22ef</td><td>/gpfs/alpine1/scratch/mlippincott@xsede.org/pyroptosis_live-cell_timelapse/Wave1_data/2.illumination_correction/illum_directory/W0052_F0001</td><td>/gpfs/alpine1/scratch/mlippincott@xsede.org/pyroptosis_live-cell_timelapse/Wave1_data/2.illumination_correction/illum_directory/W0052_F0001</td><td>/gpfs/alpine1/scratch/mlippincott@xsede.org/pyroptosis_live-cell_timelapse/Wave1_data/2.illumination_correction/illum_directory/W0052_F0001</td><td>/gpfs/alpine1/scratch/mlippincott@xsede.org/pyroptosis_live-cell_timelapse/Wave1_data/2.illumination_correction/illum_directory/W0052_F0001</td><td>/gpfs/alpine1/scratch/mlippincott@xsede.org/pyroptosis_live-cell_timelapse/Wave1_data/2.illumination_correction/illum_directory/W0052_F0001</td><td> 399.61502</td><td>1031.3970</td><td>56443</td><td>-0.25203672</td><td> 0.2765246</td></tr>\n",
                            "\t<tr><td>Media</td><td>C04</td><td>533</td><td>0001</td><td>Media</td><td>01</td><td>NA</td><td>NA</td><td>NA</td><td>NA</td><td>\u22ef</td><td>/gpfs/alpine1/scratch/mlippincott@xsede.org/pyroptosis_live-cell_timelapse/Wave1_data/2.illumination_correction/illum_directory/W0052_F0001</td><td>/gpfs/alpine1/scratch/mlippincott@xsede.org/pyroptosis_live-cell_timelapse/Wave1_data/2.illumination_correction/illum_directory/W0052_F0001</td><td>/gpfs/alpine1/scratch/mlippincott@xsede.org/pyroptosis_live-cell_timelapse/Wave1_data/2.illumination_correction/illum_directory/W0052_F0001</td><td>/gpfs/alpine1/scratch/mlippincott@xsede.org/pyroptosis_live-cell_timelapse/Wave1_data/2.illumination_correction/illum_directory/W0052_F0001</td><td>/gpfs/alpine1/scratch/mlippincott@xsede.org/pyroptosis_live-cell_timelapse/Wave1_data/2.illumination_correction/illum_directory/W0052_F0001</td><td>  44.13271</td><td> 310.4918</td><td>56443</td><td> 1.85757732</td><td>-2.9642274</td></tr>\n",
                            "\t<tr><td>Media</td><td>C04</td><td>533</td><td>0001</td><td>Media</td><td>01</td><td>NA</td><td>NA</td><td>NA</td><td>NA</td><td>\u22ef</td><td>/gpfs/alpine1/scratch/mlippincott@xsede.org/pyroptosis_live-cell_timelapse/Wave1_data/2.illumination_correction/illum_directory/W0052_F0001</td><td>/gpfs/alpine1/scratch/mlippincott@xsede.org/pyroptosis_live-cell_timelapse/Wave1_data/2.illumination_correction/illum_directory/W0052_F0001</td><td>/gpfs/alpine1/scratch/mlippincott@xsede.org/pyroptosis_live-cell_timelapse/Wave1_data/2.illumination_correction/illum_directory/W0052_F0001</td><td>/gpfs/alpine1/scratch/mlippincott@xsede.org/pyroptosis_live-cell_timelapse/Wave1_data/2.illumination_correction/illum_directory/W0052_F0001</td><td>/gpfs/alpine1/scratch/mlippincott@xsede.org/pyroptosis_live-cell_timelapse/Wave1_data/2.illumination_correction/illum_directory/W0052_F0001</td><td>1978.14844</td><td> 625.7906</td><td>56443</td><td> 0.41697550</td><td>-1.0926238</td></tr>\n",
                            "</tbody>\n",
                            "</table>\n"
                        ],
                        "text/latex": [
                            "A tibble: 6 \u00d7 35\n",
                            "\\begin{tabular}{lllllllllllllllllllll}\n",
                            " Metadata\\_treatment & Metadata\\_Well & Metadata\\_number\\_of\\_singlecells & Metadata\\_FOV & Metadata\\_treatment1 & Metadata\\_Time & Metadata\\_treatment2 & Metadata\\_treatment1\\_dose & Metadata\\_treatment1\\_unit & Metadata\\_treatment2\\_dose & \u22ef & Metadata\\_Image\\_PathName\\_BF & Metadata\\_Image\\_PathName\\_CL488 & Metadata\\_Image\\_PathName\\_CL561 & Metadata\\_Image\\_PathName\\_DNA & Metadata\\_Image\\_PathName\\_GSDM & Metadata\\_Nuclei\\_Location\\_Center\\_X & Metadata\\_Nuclei\\_Location\\_Center\\_Y & Metadata\\_cells\\_per\\_well & UMAP0 & UMAP1\\\\\n",
                            " <chr> & <chr> & <int> & <chr> & <chr> & <chr> & <chr> & <chr> & <chr> & <chr> & \u22ef & <chr> & <chr> & <chr> & <chr> & <chr> & <dbl> & <dbl> & <int> & <dbl> & <dbl>\\\\\n",
                            "\\hline\n",
                            "\t Media & C04 & 502 & 0001 & Media & 00 & NA & NA & NA & NA & \u22ef & /gpfs/alpine1/scratch/mlippincott@xsede.org/pyroptosis\\_live-cell\\_timelapse/Wave1\\_data/2.illumination\\_correction/illum\\_directory/W0052\\_F0001 & /gpfs/alpine1/scratch/mlippincott@xsede.org/pyroptosis\\_live-cell\\_timelapse/Wave1\\_data/2.illumination\\_correction/illum\\_directory/W0052\\_F0001 & /gpfs/alpine1/scratch/mlippincott@xsede.org/pyroptosis\\_live-cell\\_timelapse/Wave1\\_data/2.illumination\\_correction/illum\\_directory/W0052\\_F0001 & /gpfs/alpine1/scratch/mlippincott@xsede.org/pyroptosis\\_live-cell\\_timelapse/Wave1\\_data/2.illumination\\_correction/illum\\_directory/W0052\\_F0001 & /gpfs/alpine1/scratch/mlippincott@xsede.org/pyroptosis\\_live-cell\\_timelapse/Wave1\\_data/2.illumination\\_correction/illum\\_directory/W0052\\_F0001 & 1426.31944 & 1051.7531 & 56443 &  4.50723457 &  0.8430272\\\\\n",
                            "\t Media & C04 & 502 & 0001 & Media & 00 & NA & NA & NA & NA & \u22ef & /gpfs/alpine1/scratch/mlippincott@xsede.org/pyroptosis\\_live-cell\\_timelapse/Wave1\\_data/2.illumination\\_correction/illum\\_directory/W0052\\_F0001 & /gpfs/alpine1/scratch/mlippincott@xsede.org/pyroptosis\\_live-cell\\_timelapse/Wave1\\_data/2.illumination\\_correction/illum\\_directory/W0052\\_F0001 & /gpfs/alpine1/scratch/mlippincott@xsede.org/pyroptosis\\_live-cell\\_timelapse/Wave1\\_data/2.illumination\\_correction/illum\\_directory/W0052\\_F0001 & /gpfs/alpine1/scratch/mlippincott@xsede.org/pyroptosis\\_live-cell\\_timelapse/Wave1\\_data/2.illumination\\_correction/illum\\_directory/W0052\\_F0001 & /gpfs/alpine1/scratch/mlippincott@xsede.org/pyroptosis\\_live-cell\\_timelapse/Wave1\\_data/2.illumination\\_correction/illum\\_directory/W0052\\_F0001 & 1278.15894 &  451.1779 & 56443 & -1.14765608 & -0.8359004\\\\\n",
                            "\t Media & C04 & 502 & 0001 & Media & 00 & NA & NA & NA & NA & \u22ef & /gpfs/alpine1/scratch/mlippincott@xsede.org/pyroptosis\\_live-cell\\_timelapse/Wave1\\_data/2.illumination\\_correction/illum\\_directory/W0052\\_F0001 & /gpfs/alpine1/scratch/mlippincott@xsede.org/pyroptosis\\_live-cell\\_timelapse/Wave1\\_data/2.illumination\\_correction/illum\\_directory/W0052\\_F0001 & /gpfs/alpine1/scratch/mlippincott@xsede.org/pyroptosis\\_live-cell\\_timelapse/Wave1\\_data/2.illumination\\_correction/illum\\_directory/W0052\\_F0001 & /gpfs/alpine1/scratch/mlippincott@xsede.org/pyroptosis\\_live-cell\\_timelapse/Wave1\\_data/2.illumination\\_correction/illum\\_directory/W0052\\_F0001 & /gpfs/alpine1/scratch/mlippincott@xsede.org/pyroptosis\\_live-cell\\_timelapse/Wave1\\_data/2.illumination\\_correction/illum\\_directory/W0052\\_F0001 &  116.34923 &  683.6766 & 56443 &  0.05474161 & -0.2473071\\\\\n",
                            "\t Media & C04 & 502 & 0001 & Media & 00 & NA & NA & NA & NA & \u22ef & /gpfs/alpine1/scratch/mlippincott@xsede.org/pyroptosis\\_live-cell\\_timelapse/Wave1\\_data/2.illumination\\_correction/illum\\_directory/W0052\\_F0001 & /gpfs/alpine1/scratch/mlippincott@xsede.org/pyroptosis\\_live-cell\\_timelapse/Wave1\\_data/2.illumination\\_correction/illum\\_directory/W0052\\_F0001 & /gpfs/alpine1/scratch/mlippincott@xsede.org/pyroptosis\\_live-cell\\_timelapse/Wave1\\_data/2.illumination\\_correction/illum\\_directory/W0052\\_F0001 & /gpfs/alpine1/scratch/mlippincott@xsede.org/pyroptosis\\_live-cell\\_timelapse/Wave1\\_data/2.illumination\\_correction/illum\\_directory/W0052\\_F0001 & /gpfs/alpine1/scratch/mlippincott@xsede.org/pyroptosis\\_live-cell\\_timelapse/Wave1\\_data/2.illumination\\_correction/illum\\_directory/W0052\\_F0001 &  399.61502 & 1031.3970 & 56443 & -0.25203672 &  0.2765246\\\\\n",
                            "\t Media & C04 & 533 & 0001 & Media & 01 & NA & NA & NA & NA & \u22ef & /gpfs/alpine1/scratch/mlippincott@xsede.org/pyroptosis\\_live-cell\\_timelapse/Wave1\\_data/2.illumination\\_correction/illum\\_directory/W0052\\_F0001 & /gpfs/alpine1/scratch/mlippincott@xsede.org/pyroptosis\\_live-cell\\_timelapse/Wave1\\_data/2.illumination\\_correction/illum\\_directory/W0052\\_F0001 & /gpfs/alpine1/scratch/mlippincott@xsede.org/pyroptosis\\_live-cell\\_timelapse/Wave1\\_data/2.illumination\\_correction/illum\\_directory/W0052\\_F0001 & /gpfs/alpine1/scratch/mlippincott@xsede.org/pyroptosis\\_live-cell\\_timelapse/Wave1\\_data/2.illumination\\_correction/illum\\_directory/W0052\\_F0001 & /gpfs/alpine1/scratch/mlippincott@xsede.org/pyroptosis\\_live-cell\\_timelapse/Wave1\\_data/2.illumination\\_correction/illum\\_directory/W0052\\_F0001 &   44.13271 &  310.4918 & 56443 &  1.85757732 & -2.9642274\\\\\n",
                            "\t Media & C04 & 533 & 0001 & Media & 01 & NA & NA & NA & NA & \u22ef & /gpfs/alpine1/scratch/mlippincott@xsede.org/pyroptosis\\_live-cell\\_timelapse/Wave1\\_data/2.illumination\\_correction/illum\\_directory/W0052\\_F0001 & /gpfs/alpine1/scratch/mlippincott@xsede.org/pyroptosis\\_live-cell\\_timelapse/Wave1\\_data/2.illumination\\_correction/illum\\_directory/W0052\\_F0001 & /gpfs/alpine1/scratch/mlippincott@xsede.org/pyroptosis\\_live-cell\\_timelapse/Wave1\\_data/2.illumination\\_correction/illum\\_directory/W0052\\_F0001 & /gpfs/alpine1/scratch/mlippincott@xsede.org/pyroptosis\\_live-cell\\_timelapse/Wave1\\_data/2.illumination\\_correction/illum\\_directory/W0052\\_F0001 & /gpfs/alpine1/scratch/mlippincott@xsede.org/pyroptosis\\_live-cell\\_timelapse/Wave1\\_data/2.illumination\\_correction/illum\\_directory/W0052\\_F0001 & 1978.14844 &  625.7906 & 56443 &  0.41697550 & -1.0926238\\\\\n",
                            "\\end{tabular}\n"
                        ],
                        "text/markdown": [
                            "\n",
                            "A tibble: 6 \u00d7 35\n",
                            "\n",
                            "| Metadata_treatment &lt;chr&gt; | Metadata_Well &lt;chr&gt; | Metadata_number_of_singlecells &lt;int&gt; | Metadata_FOV &lt;chr&gt; | Metadata_treatment1 &lt;chr&gt; | Metadata_Time &lt;chr&gt; | Metadata_treatment2 &lt;chr&gt; | Metadata_treatment1_dose &lt;chr&gt; | Metadata_treatment1_unit &lt;chr&gt; | Metadata_treatment2_dose &lt;chr&gt; | \u22ef \u22ef | Metadata_Image_PathName_BF &lt;chr&gt; | Metadata_Image_PathName_CL488 &lt;chr&gt; | Metadata_Image_PathName_CL561 &lt;chr&gt; | Metadata_Image_PathName_DNA &lt;chr&gt; | Metadata_Image_PathName_GSDM &lt;chr&gt; | Metadata_Nuclei_Location_Center_X &lt;dbl&gt; | Metadata_Nuclei_Location_Center_Y &lt;dbl&gt; | Metadata_cells_per_well &lt;int&gt; | UMAP0 &lt;dbl&gt; | UMAP1 &lt;dbl&gt; |\n",
                            "|---|---|---|---|---|---|---|---|---|---|---|---|---|---|---|---|---|---|---|---|---|\n",
                            "| Media | C04 | 502 | 0001 | Media | 00 | NA | NA | NA | NA | \u22ef | /gpfs/alpine1/scratch/mlippincott@xsede.org/pyroptosis_live-cell_timelapse/Wave1_data/2.illumination_correction/illum_directory/W0052_F0001 | /gpfs/alpine1/scratch/mlippincott@xsede.org/pyroptosis_live-cell_timelapse/Wave1_data/2.illumination_correction/illum_directory/W0052_F0001 | /gpfs/alpine1/scratch/mlippincott@xsede.org/pyroptosis_live-cell_timelapse/Wave1_data/2.illumination_correction/illum_directory/W0052_F0001 | /gpfs/alpine1/scratch/mlippincott@xsede.org/pyroptosis_live-cell_timelapse/Wave1_data/2.illumination_correction/illum_directory/W0052_F0001 | /gpfs/alpine1/scratch/mlippincott@xsede.org/pyroptosis_live-cell_timelapse/Wave1_data/2.illumination_correction/illum_directory/W0052_F0001 | 1426.31944 | 1051.7531 | 56443 |  4.50723457 |  0.8430272 |\n",
                            "| Media | C04 | 502 | 0001 | Media | 00 | NA | NA | NA | NA | \u22ef | /gpfs/alpine1/scratch/mlippincott@xsede.org/pyroptosis_live-cell_timelapse/Wave1_data/2.illumination_correction/illum_directory/W0052_F0001 | /gpfs/alpine1/scratch/mlippincott@xsede.org/pyroptosis_live-cell_timelapse/Wave1_data/2.illumination_correction/illum_directory/W0052_F0001 | /gpfs/alpine1/scratch/mlippincott@xsede.org/pyroptosis_live-cell_timelapse/Wave1_data/2.illumination_correction/illum_directory/W0052_F0001 | /gpfs/alpine1/scratch/mlippincott@xsede.org/pyroptosis_live-cell_timelapse/Wave1_data/2.illumination_correction/illum_directory/W0052_F0001 | /gpfs/alpine1/scratch/mlippincott@xsede.org/pyroptosis_live-cell_timelapse/Wave1_data/2.illumination_correction/illum_directory/W0052_F0001 | 1278.15894 |  451.1779 | 56443 | -1.14765608 | -0.8359004 |\n",
                            "| Media | C04 | 502 | 0001 | Media | 00 | NA | NA | NA | NA | \u22ef | /gpfs/alpine1/scratch/mlippincott@xsede.org/pyroptosis_live-cell_timelapse/Wave1_data/2.illumination_correction/illum_directory/W0052_F0001 | /gpfs/alpine1/scratch/mlippincott@xsede.org/pyroptosis_live-cell_timelapse/Wave1_data/2.illumination_correction/illum_directory/W0052_F0001 | /gpfs/alpine1/scratch/mlippincott@xsede.org/pyroptosis_live-cell_timelapse/Wave1_data/2.illumination_correction/illum_directory/W0052_F0001 | /gpfs/alpine1/scratch/mlippincott@xsede.org/pyroptosis_live-cell_timelapse/Wave1_data/2.illumination_correction/illum_directory/W0052_F0001 | /gpfs/alpine1/scratch/mlippincott@xsede.org/pyroptosis_live-cell_timelapse/Wave1_data/2.illumination_correction/illum_directory/W0052_F0001 |  116.34923 |  683.6766 | 56443 |  0.05474161 | -0.2473071 |\n",
                            "| Media | C04 | 502 | 0001 | Media | 00 | NA | NA | NA | NA | \u22ef | /gpfs/alpine1/scratch/mlippincott@xsede.org/pyroptosis_live-cell_timelapse/Wave1_data/2.illumination_correction/illum_directory/W0052_F0001 | /gpfs/alpine1/scratch/mlippincott@xsede.org/pyroptosis_live-cell_timelapse/Wave1_data/2.illumination_correction/illum_directory/W0052_F0001 | /gpfs/alpine1/scratch/mlippincott@xsede.org/pyroptosis_live-cell_timelapse/Wave1_data/2.illumination_correction/illum_directory/W0052_F0001 | /gpfs/alpine1/scratch/mlippincott@xsede.org/pyroptosis_live-cell_timelapse/Wave1_data/2.illumination_correction/illum_directory/W0052_F0001 | /gpfs/alpine1/scratch/mlippincott@xsede.org/pyroptosis_live-cell_timelapse/Wave1_data/2.illumination_correction/illum_directory/W0052_F0001 |  399.61502 | 1031.3970 | 56443 | -0.25203672 |  0.2765246 |\n",
                            "| Media | C04 | 533 | 0001 | Media | 01 | NA | NA | NA | NA | \u22ef | /gpfs/alpine1/scratch/mlippincott@xsede.org/pyroptosis_live-cell_timelapse/Wave1_data/2.illumination_correction/illum_directory/W0052_F0001 | /gpfs/alpine1/scratch/mlippincott@xsede.org/pyroptosis_live-cell_timelapse/Wave1_data/2.illumination_correction/illum_directory/W0052_F0001 | /gpfs/alpine1/scratch/mlippincott@xsede.org/pyroptosis_live-cell_timelapse/Wave1_data/2.illumination_correction/illum_directory/W0052_F0001 | /gpfs/alpine1/scratch/mlippincott@xsede.org/pyroptosis_live-cell_timelapse/Wave1_data/2.illumination_correction/illum_directory/W0052_F0001 | /gpfs/alpine1/scratch/mlippincott@xsede.org/pyroptosis_live-cell_timelapse/Wave1_data/2.illumination_correction/illum_directory/W0052_F0001 |   44.13271 |  310.4918 | 56443 |  1.85757732 | -2.9642274 |\n",
                            "| Media | C04 | 533 | 0001 | Media | 01 | NA | NA | NA | NA | \u22ef | /gpfs/alpine1/scratch/mlippincott@xsede.org/pyroptosis_live-cell_timelapse/Wave1_data/2.illumination_correction/illum_directory/W0052_F0001 | /gpfs/alpine1/scratch/mlippincott@xsede.org/pyroptosis_live-cell_timelapse/Wave1_data/2.illumination_correction/illum_directory/W0052_F0001 | /gpfs/alpine1/scratch/mlippincott@xsede.org/pyroptosis_live-cell_timelapse/Wave1_data/2.illumination_correction/illum_directory/W0052_F0001 | /gpfs/alpine1/scratch/mlippincott@xsede.org/pyroptosis_live-cell_timelapse/Wave1_data/2.illumination_correction/illum_directory/W0052_F0001 | /gpfs/alpine1/scratch/mlippincott@xsede.org/pyroptosis_live-cell_timelapse/Wave1_data/2.illumination_correction/illum_directory/W0052_F0001 | 1978.14844 |  625.7906 | 56443 |  0.41697550 | -1.0926238 |\n",
                            "\n"
                        ],
                        "text/plain": [
                            "  Metadata_treatment Metadata_Well Metadata_number_of_singlecells Metadata_FOV\n",
                            "1 Media              C04           502                            0001        \n",
                            "2 Media              C04           502                            0001        \n",
                            "3 Media              C04           502                            0001        \n",
                            "4 Media              C04           502                            0001        \n",
                            "5 Media              C04           533                            0001        \n",
                            "6 Media              C04           533                            0001        \n",
                            "  Metadata_treatment1 Metadata_Time Metadata_treatment2\n",
                            "1 Media               00            NA                 \n",
                            "2 Media               00            NA                 \n",
                            "3 Media               00            NA                 \n",
                            "4 Media               00            NA                 \n",
                            "5 Media               01            NA                 \n",
                            "6 Media               01            NA                 \n",
                            "  Metadata_treatment1_dose Metadata_treatment1_unit Metadata_treatment2_dose \u22ef\n",
                            "1 NA                       NA                       NA                       \u22ef\n",
                            "2 NA                       NA                       NA                       \u22ef\n",
                            "3 NA                       NA                       NA                       \u22ef\n",
                            "4 NA                       NA                       NA                       \u22ef\n",
                            "5 NA                       NA                       NA                       \u22ef\n",
                            "6 NA                       NA                       NA                       \u22ef\n",
                            "  Metadata_Image_PathName_BF                                                                                                                 \n",
                            "1 /gpfs/alpine1/scratch/mlippincott@xsede.org/pyroptosis_live-cell_timelapse/Wave1_data/2.illumination_correction/illum_directory/W0052_F0001\n",
                            "2 /gpfs/alpine1/scratch/mlippincott@xsede.org/pyroptosis_live-cell_timelapse/Wave1_data/2.illumination_correction/illum_directory/W0052_F0001\n",
                            "3 /gpfs/alpine1/scratch/mlippincott@xsede.org/pyroptosis_live-cell_timelapse/Wave1_data/2.illumination_correction/illum_directory/W0052_F0001\n",
                            "4 /gpfs/alpine1/scratch/mlippincott@xsede.org/pyroptosis_live-cell_timelapse/Wave1_data/2.illumination_correction/illum_directory/W0052_F0001\n",
                            "5 /gpfs/alpine1/scratch/mlippincott@xsede.org/pyroptosis_live-cell_timelapse/Wave1_data/2.illumination_correction/illum_directory/W0052_F0001\n",
                            "6 /gpfs/alpine1/scratch/mlippincott@xsede.org/pyroptosis_live-cell_timelapse/Wave1_data/2.illumination_correction/illum_directory/W0052_F0001\n",
                            "  Metadata_Image_PathName_CL488                                                                                                              \n",
                            "1 /gpfs/alpine1/scratch/mlippincott@xsede.org/pyroptosis_live-cell_timelapse/Wave1_data/2.illumination_correction/illum_directory/W0052_F0001\n",
                            "2 /gpfs/alpine1/scratch/mlippincott@xsede.org/pyroptosis_live-cell_timelapse/Wave1_data/2.illumination_correction/illum_directory/W0052_F0001\n",
                            "3 /gpfs/alpine1/scratch/mlippincott@xsede.org/pyroptosis_live-cell_timelapse/Wave1_data/2.illumination_correction/illum_directory/W0052_F0001\n",
                            "4 /gpfs/alpine1/scratch/mlippincott@xsede.org/pyroptosis_live-cell_timelapse/Wave1_data/2.illumination_correction/illum_directory/W0052_F0001\n",
                            "5 /gpfs/alpine1/scratch/mlippincott@xsede.org/pyroptosis_live-cell_timelapse/Wave1_data/2.illumination_correction/illum_directory/W0052_F0001\n",
                            "6 /gpfs/alpine1/scratch/mlippincott@xsede.org/pyroptosis_live-cell_timelapse/Wave1_data/2.illumination_correction/illum_directory/W0052_F0001\n",
                            "  Metadata_Image_PathName_CL561                                                                                                              \n",
                            "1 /gpfs/alpine1/scratch/mlippincott@xsede.org/pyroptosis_live-cell_timelapse/Wave1_data/2.illumination_correction/illum_directory/W0052_F0001\n",
                            "2 /gpfs/alpine1/scratch/mlippincott@xsede.org/pyroptosis_live-cell_timelapse/Wave1_data/2.illumination_correction/illum_directory/W0052_F0001\n",
                            "3 /gpfs/alpine1/scratch/mlippincott@xsede.org/pyroptosis_live-cell_timelapse/Wave1_data/2.illumination_correction/illum_directory/W0052_F0001\n",
                            "4 /gpfs/alpine1/scratch/mlippincott@xsede.org/pyroptosis_live-cell_timelapse/Wave1_data/2.illumination_correction/illum_directory/W0052_F0001\n",
                            "5 /gpfs/alpine1/scratch/mlippincott@xsede.org/pyroptosis_live-cell_timelapse/Wave1_data/2.illumination_correction/illum_directory/W0052_F0001\n",
                            "6 /gpfs/alpine1/scratch/mlippincott@xsede.org/pyroptosis_live-cell_timelapse/Wave1_data/2.illumination_correction/illum_directory/W0052_F0001\n",
                            "  Metadata_Image_PathName_DNA                                                                                                                \n",
                            "1 /gpfs/alpine1/scratch/mlippincott@xsede.org/pyroptosis_live-cell_timelapse/Wave1_data/2.illumination_correction/illum_directory/W0052_F0001\n",
                            "2 /gpfs/alpine1/scratch/mlippincott@xsede.org/pyroptosis_live-cell_timelapse/Wave1_data/2.illumination_correction/illum_directory/W0052_F0001\n",
                            "3 /gpfs/alpine1/scratch/mlippincott@xsede.org/pyroptosis_live-cell_timelapse/Wave1_data/2.illumination_correction/illum_directory/W0052_F0001\n",
                            "4 /gpfs/alpine1/scratch/mlippincott@xsede.org/pyroptosis_live-cell_timelapse/Wave1_data/2.illumination_correction/illum_directory/W0052_F0001\n",
                            "5 /gpfs/alpine1/scratch/mlippincott@xsede.org/pyroptosis_live-cell_timelapse/Wave1_data/2.illumination_correction/illum_directory/W0052_F0001\n",
                            "6 /gpfs/alpine1/scratch/mlippincott@xsede.org/pyroptosis_live-cell_timelapse/Wave1_data/2.illumination_correction/illum_directory/W0052_F0001\n",
                            "  Metadata_Image_PathName_GSDM                                                                                                               \n",
                            "1 /gpfs/alpine1/scratch/mlippincott@xsede.org/pyroptosis_live-cell_timelapse/Wave1_data/2.illumination_correction/illum_directory/W0052_F0001\n",
                            "2 /gpfs/alpine1/scratch/mlippincott@xsede.org/pyroptosis_live-cell_timelapse/Wave1_data/2.illumination_correction/illum_directory/W0052_F0001\n",
                            "3 /gpfs/alpine1/scratch/mlippincott@xsede.org/pyroptosis_live-cell_timelapse/Wave1_data/2.illumination_correction/illum_directory/W0052_F0001\n",
                            "4 /gpfs/alpine1/scratch/mlippincott@xsede.org/pyroptosis_live-cell_timelapse/Wave1_data/2.illumination_correction/illum_directory/W0052_F0001\n",
                            "5 /gpfs/alpine1/scratch/mlippincott@xsede.org/pyroptosis_live-cell_timelapse/Wave1_data/2.illumination_correction/illum_directory/W0052_F0001\n",
                            "6 /gpfs/alpine1/scratch/mlippincott@xsede.org/pyroptosis_live-cell_timelapse/Wave1_data/2.illumination_correction/illum_directory/W0052_F0001\n",
                            "  Metadata_Nuclei_Location_Center_X Metadata_Nuclei_Location_Center_Y\n",
                            "1 1426.31944                        1051.7531                        \n",
                            "2 1278.15894                         451.1779                        \n",
                            "3  116.34923                         683.6766                        \n",
                            "4  399.61502                        1031.3970                        \n",
                            "5   44.13271                         310.4918                        \n",
                            "6 1978.14844                         625.7906                        \n",
                            "  Metadata_cells_per_well UMAP0       UMAP1     \n",
                            "1 56443                    4.50723457  0.8430272\n",
                            "2 56443                   -1.14765608 -0.8359004\n",
                            "3 56443                    0.05474161 -0.2473071\n",
                            "4 56443                   -0.25203672  0.2765246\n",
                            "5 56443                    1.85757732 -2.9642274\n",
                            "6 56443                    0.41697550 -1.0926238"
                        ]
                    },
                    "metadata": {},
                    "output_type": "display_data"
                }
            ],
            "source": [
                "head(umap_data)"
            ]
        },
        {
            "cell_type": "code",
            "execution_count": 7,
            "metadata": {
                "vscode": {
                    "languageId": "r"
                }
            },
            "outputs": [
                {
                    "data": {
                        "text/html": [
                            "<table class=\"dataframe\">\n",
                            "<caption>A tibble: 6 \u00d7 37</caption>\n",
                            "<thead>\n",
                            "\t<tr><th scope=col>Metadata_treatment</th><th scope=col>Metadata_Well</th><th scope=col>Metadata_number_of_singlecells</th><th scope=col>Metadata_FOV</th><th scope=col>Metadata_treatment1</th><th scope=col>Metadata_Time</th><th scope=col>Metadata_treatment2</th><th scope=col>Metadata_treatment1_dose</th><th scope=col>Metadata_treatment1_unit</th><th scope=col>Metadata_treatment2_dose</th><th scope=col>\u22ef</th><th scope=col>Metadata_Image_PathName_CL561</th><th scope=col>Metadata_Image_PathName_DNA</th><th scope=col>Metadata_Image_PathName_GSDM</th><th scope=col>Metadata_Nuclei_Location_Center_X</th><th scope=col>Metadata_Nuclei_Location_Center_Y</th><th scope=col>Metadata_cells_per_well</th><th scope=col>UMAP0</th><th scope=col>UMAP1</th><th scope=col>Metadata_timepoint</th><th scope=col>Metadata_timepoint_hours</th></tr>\n",
                            "\t<tr><th scope=col>&lt;chr&gt;</th><th scope=col>&lt;chr&gt;</th><th scope=col>&lt;int&gt;</th><th scope=col>&lt;chr&gt;</th><th scope=col>&lt;chr&gt;</th><th scope=col>&lt;chr&gt;</th><th scope=col>&lt;chr&gt;</th><th scope=col>&lt;chr&gt;</th><th scope=col>&lt;chr&gt;</th><th scope=col>&lt;chr&gt;</th><th scope=col>\u22ef</th><th scope=col>&lt;chr&gt;</th><th scope=col>&lt;chr&gt;</th><th scope=col>&lt;chr&gt;</th><th scope=col>&lt;dbl&gt;</th><th scope=col>&lt;dbl&gt;</th><th scope=col>&lt;int&gt;</th><th scope=col>&lt;dbl&gt;</th><th scope=col>&lt;dbl&gt;</th><th scope=col>&lt;dbl&gt;</th><th scope=col>&lt;chr&gt;</th></tr>\n",
                            "</thead>\n",
                            "<tbody>\n",
                            "\t<tr><td>Media</td><td>C04</td><td>502</td><td>0001</td><td>Media</td><td>00</td><td>NA</td><td>NA</td><td>NA</td><td>NA</td><td>\u22ef</td><td>/gpfs/alpine1/scratch/mlippincott@xsede.org/pyroptosis_live-cell_timelapse/Wave1_data/2.illumination_correction/illum_directory/W0052_F0001</td><td>/gpfs/alpine1/scratch/mlippincott@xsede.org/pyroptosis_live-cell_timelapse/Wave1_data/2.illumination_correction/illum_directory/W0052_F0001</td><td>/gpfs/alpine1/scratch/mlippincott@xsede.org/pyroptosis_live-cell_timelapse/Wave1_data/2.illumination_correction/illum_directory/W0052_F0001</td><td>1426.31944</td><td>1051.7531</td><td>56443</td><td> 4.50723457</td><td> 0.8430272</td><td>1</td><td>1 hours</td></tr>\n",
                            "\t<tr><td>Media</td><td>C04</td><td>502</td><td>0001</td><td>Media</td><td>00</td><td>NA</td><td>NA</td><td>NA</td><td>NA</td><td>\u22ef</td><td>/gpfs/alpine1/scratch/mlippincott@xsede.org/pyroptosis_live-cell_timelapse/Wave1_data/2.illumination_correction/illum_directory/W0052_F0001</td><td>/gpfs/alpine1/scratch/mlippincott@xsede.org/pyroptosis_live-cell_timelapse/Wave1_data/2.illumination_correction/illum_directory/W0052_F0001</td><td>/gpfs/alpine1/scratch/mlippincott@xsede.org/pyroptosis_live-cell_timelapse/Wave1_data/2.illumination_correction/illum_directory/W0052_F0001</td><td>1278.15894</td><td> 451.1779</td><td>56443</td><td>-1.14765608</td><td>-0.8359004</td><td>1</td><td>1 hours</td></tr>\n",
                            "\t<tr><td>Media</td><td>C04</td><td>502</td><td>0001</td><td>Media</td><td>00</td><td>NA</td><td>NA</td><td>NA</td><td>NA</td><td>\u22ef</td><td>/gpfs/alpine1/scratch/mlippincott@xsede.org/pyroptosis_live-cell_timelapse/Wave1_data/2.illumination_correction/illum_directory/W0052_F0001</td><td>/gpfs/alpine1/scratch/mlippincott@xsede.org/pyroptosis_live-cell_timelapse/Wave1_data/2.illumination_correction/illum_directory/W0052_F0001</td><td>/gpfs/alpine1/scratch/mlippincott@xsede.org/pyroptosis_live-cell_timelapse/Wave1_data/2.illumination_correction/illum_directory/W0052_F0001</td><td> 116.34923</td><td> 683.6766</td><td>56443</td><td> 0.05474161</td><td>-0.2473071</td><td>1</td><td>1 hours</td></tr>\n",
                            "\t<tr><td>Media</td><td>C04</td><td>502</td><td>0001</td><td>Media</td><td>00</td><td>NA</td><td>NA</td><td>NA</td><td>NA</td><td>\u22ef</td><td>/gpfs/alpine1/scratch/mlippincott@xsede.org/pyroptosis_live-cell_timelapse/Wave1_data/2.illumination_correction/illum_directory/W0052_F0001</td><td>/gpfs/alpine1/scratch/mlippincott@xsede.org/pyroptosis_live-cell_timelapse/Wave1_data/2.illumination_correction/illum_directory/W0052_F0001</td><td>/gpfs/alpine1/scratch/mlippincott@xsede.org/pyroptosis_live-cell_timelapse/Wave1_data/2.illumination_correction/illum_directory/W0052_F0001</td><td> 399.61502</td><td>1031.3970</td><td>56443</td><td>-0.25203672</td><td> 0.2765246</td><td>1</td><td>1 hours</td></tr>\n",
                            "\t<tr><td>Media</td><td>C04</td><td>533</td><td>0001</td><td>Media</td><td>01</td><td>NA</td><td>NA</td><td>NA</td><td>NA</td><td>\u22ef</td><td>/gpfs/alpine1/scratch/mlippincott@xsede.org/pyroptosis_live-cell_timelapse/Wave1_data/2.illumination_correction/illum_directory/W0052_F0001</td><td>/gpfs/alpine1/scratch/mlippincott@xsede.org/pyroptosis_live-cell_timelapse/Wave1_data/2.illumination_correction/illum_directory/W0052_F0001</td><td>/gpfs/alpine1/scratch/mlippincott@xsede.org/pyroptosis_live-cell_timelapse/Wave1_data/2.illumination_correction/illum_directory/W0052_F0001</td><td>  44.13271</td><td> 310.4918</td><td>56443</td><td> 1.85757732</td><td>-2.9642274</td><td>4</td><td>4 hours</td></tr>\n",
                            "\t<tr><td>Media</td><td>C04</td><td>533</td><td>0001</td><td>Media</td><td>01</td><td>NA</td><td>NA</td><td>NA</td><td>NA</td><td>\u22ef</td><td>/gpfs/alpine1/scratch/mlippincott@xsede.org/pyroptosis_live-cell_timelapse/Wave1_data/2.illumination_correction/illum_directory/W0052_F0001</td><td>/gpfs/alpine1/scratch/mlippincott@xsede.org/pyroptosis_live-cell_timelapse/Wave1_data/2.illumination_correction/illum_directory/W0052_F0001</td><td>/gpfs/alpine1/scratch/mlippincott@xsede.org/pyroptosis_live-cell_timelapse/Wave1_data/2.illumination_correction/illum_directory/W0052_F0001</td><td>1978.14844</td><td> 625.7906</td><td>56443</td><td> 0.41697550</td><td>-1.0926238</td><td>4</td><td>4 hours</td></tr>\n",
                            "</tbody>\n",
                            "</table>\n"
                        ],
                        "text/latex": [
                            "A tibble: 6 \u00d7 37\n",
                            "\\begin{tabular}{lllllllllllllllllllll}\n",
                            " Metadata\\_treatment & Metadata\\_Well & Metadata\\_number\\_of\\_singlecells & Metadata\\_FOV & Metadata\\_treatment1 & Metadata\\_Time & Metadata\\_treatment2 & Metadata\\_treatment1\\_dose & Metadata\\_treatment1\\_unit & Metadata\\_treatment2\\_dose & \u22ef & Metadata\\_Image\\_PathName\\_CL561 & Metadata\\_Image\\_PathName\\_DNA & Metadata\\_Image\\_PathName\\_GSDM & Metadata\\_Nuclei\\_Location\\_Center\\_X & Metadata\\_Nuclei\\_Location\\_Center\\_Y & Metadata\\_cells\\_per\\_well & UMAP0 & UMAP1 & Metadata\\_timepoint & Metadata\\_timepoint\\_hours\\\\\n",
                            " <chr> & <chr> & <int> & <chr> & <chr> & <chr> & <chr> & <chr> & <chr> & <chr> & \u22ef & <chr> & <chr> & <chr> & <dbl> & <dbl> & <int> & <dbl> & <dbl> & <dbl> & <chr>\\\\\n",
                            "\\hline\n",
                            "\t Media & C04 & 502 & 0001 & Media & 00 & NA & NA & NA & NA & \u22ef & /gpfs/alpine1/scratch/mlippincott@xsede.org/pyroptosis\\_live-cell\\_timelapse/Wave1\\_data/2.illumination\\_correction/illum\\_directory/W0052\\_F0001 & /gpfs/alpine1/scratch/mlippincott@xsede.org/pyroptosis\\_live-cell\\_timelapse/Wave1\\_data/2.illumination\\_correction/illum\\_directory/W0052\\_F0001 & /gpfs/alpine1/scratch/mlippincott@xsede.org/pyroptosis\\_live-cell\\_timelapse/Wave1\\_data/2.illumination\\_correction/illum\\_directory/W0052\\_F0001 & 1426.31944 & 1051.7531 & 56443 &  4.50723457 &  0.8430272 & 1 & 1 hours\\\\\n",
                            "\t Media & C04 & 502 & 0001 & Media & 00 & NA & NA & NA & NA & \u22ef & /gpfs/alpine1/scratch/mlippincott@xsede.org/pyroptosis\\_live-cell\\_timelapse/Wave1\\_data/2.illumination\\_correction/illum\\_directory/W0052\\_F0001 & /gpfs/alpine1/scratch/mlippincott@xsede.org/pyroptosis\\_live-cell\\_timelapse/Wave1\\_data/2.illumination\\_correction/illum\\_directory/W0052\\_F0001 & /gpfs/alpine1/scratch/mlippincott@xsede.org/pyroptosis\\_live-cell\\_timelapse/Wave1\\_data/2.illumination\\_correction/illum\\_directory/W0052\\_F0001 & 1278.15894 &  451.1779 & 56443 & -1.14765608 & -0.8359004 & 1 & 1 hours\\\\\n",
                            "\t Media & C04 & 502 & 0001 & Media & 00 & NA & NA & NA & NA & \u22ef & /gpfs/alpine1/scratch/mlippincott@xsede.org/pyroptosis\\_live-cell\\_timelapse/Wave1\\_data/2.illumination\\_correction/illum\\_directory/W0052\\_F0001 & /gpfs/alpine1/scratch/mlippincott@xsede.org/pyroptosis\\_live-cell\\_timelapse/Wave1\\_data/2.illumination\\_correction/illum\\_directory/W0052\\_F0001 & /gpfs/alpine1/scratch/mlippincott@xsede.org/pyroptosis\\_live-cell\\_timelapse/Wave1\\_data/2.illumination\\_correction/illum\\_directory/W0052\\_F0001 &  116.34923 &  683.6766 & 56443 &  0.05474161 & -0.2473071 & 1 & 1 hours\\\\\n",
                            "\t Media & C04 & 502 & 0001 & Media & 00 & NA & NA & NA & NA & \u22ef & /gpfs/alpine1/scratch/mlippincott@xsede.org/pyroptosis\\_live-cell\\_timelapse/Wave1\\_data/2.illumination\\_correction/illum\\_directory/W0052\\_F0001 & /gpfs/alpine1/scratch/mlippincott@xsede.org/pyroptosis\\_live-cell\\_timelapse/Wave1\\_data/2.illumination\\_correction/illum\\_directory/W0052\\_F0001 & /gpfs/alpine1/scratch/mlippincott@xsede.org/pyroptosis\\_live-cell\\_timelapse/Wave1\\_data/2.illumination\\_correction/illum\\_directory/W0052\\_F0001 &  399.61502 & 1031.3970 & 56443 & -0.25203672 &  0.2765246 & 1 & 1 hours\\\\\n",
                            "\t Media & C04 & 533 & 0001 & Media & 01 & NA & NA & NA & NA & \u22ef & /gpfs/alpine1/scratch/mlippincott@xsede.org/pyroptosis\\_live-cell\\_timelapse/Wave1\\_data/2.illumination\\_correction/illum\\_directory/W0052\\_F0001 & /gpfs/alpine1/scratch/mlippincott@xsede.org/pyroptosis\\_live-cell\\_timelapse/Wave1\\_data/2.illumination\\_correction/illum\\_directory/W0052\\_F0001 & /gpfs/alpine1/scratch/mlippincott@xsede.org/pyroptosis\\_live-cell\\_timelapse/Wave1\\_data/2.illumination\\_correction/illum\\_directory/W0052\\_F0001 &   44.13271 &  310.4918 & 56443 &  1.85757732 & -2.9642274 & 4 & 4 hours\\\\\n",
                            "\t Media & C04 & 533 & 0001 & Media & 01 & NA & NA & NA & NA & \u22ef & /gpfs/alpine1/scratch/mlippincott@xsede.org/pyroptosis\\_live-cell\\_timelapse/Wave1\\_data/2.illumination\\_correction/illum\\_directory/W0052\\_F0001 & /gpfs/alpine1/scratch/mlippincott@xsede.org/pyroptosis\\_live-cell\\_timelapse/Wave1\\_data/2.illumination\\_correction/illum\\_directory/W0052\\_F0001 & /gpfs/alpine1/scratch/mlippincott@xsede.org/pyroptosis\\_live-cell\\_timelapse/Wave1\\_data/2.illumination\\_correction/illum\\_directory/W0052\\_F0001 & 1978.14844 &  625.7906 & 56443 &  0.41697550 & -1.0926238 & 4 & 4 hours\\\\\n",
                            "\\end{tabular}\n"
                        ],
                        "text/markdown": [
                            "\n",
                            "A tibble: 6 \u00d7 37\n",
                            "\n",
                            "| Metadata_treatment &lt;chr&gt; | Metadata_Well &lt;chr&gt; | Metadata_number_of_singlecells &lt;int&gt; | Metadata_FOV &lt;chr&gt; | Metadata_treatment1 &lt;chr&gt; | Metadata_Time &lt;chr&gt; | Metadata_treatment2 &lt;chr&gt; | Metadata_treatment1_dose &lt;chr&gt; | Metadata_treatment1_unit &lt;chr&gt; | Metadata_treatment2_dose &lt;chr&gt; | \u22ef \u22ef | Metadata_Image_PathName_CL561 &lt;chr&gt; | Metadata_Image_PathName_DNA &lt;chr&gt; | Metadata_Image_PathName_GSDM &lt;chr&gt; | Metadata_Nuclei_Location_Center_X &lt;dbl&gt; | Metadata_Nuclei_Location_Center_Y &lt;dbl&gt; | Metadata_cells_per_well &lt;int&gt; | UMAP0 &lt;dbl&gt; | UMAP1 &lt;dbl&gt; | Metadata_timepoint &lt;dbl&gt; | Metadata_timepoint_hours &lt;chr&gt; |\n",
                            "|---|---|---|---|---|---|---|---|---|---|---|---|---|---|---|---|---|---|---|---|---|\n",
                            "| Media | C04 | 502 | 0001 | Media | 00 | NA | NA | NA | NA | \u22ef | /gpfs/alpine1/scratch/mlippincott@xsede.org/pyroptosis_live-cell_timelapse/Wave1_data/2.illumination_correction/illum_directory/W0052_F0001 | /gpfs/alpine1/scratch/mlippincott@xsede.org/pyroptosis_live-cell_timelapse/Wave1_data/2.illumination_correction/illum_directory/W0052_F0001 | /gpfs/alpine1/scratch/mlippincott@xsede.org/pyroptosis_live-cell_timelapse/Wave1_data/2.illumination_correction/illum_directory/W0052_F0001 | 1426.31944 | 1051.7531 | 56443 |  4.50723457 |  0.8430272 | 1 | 1 hours |\n",
                            "| Media | C04 | 502 | 0001 | Media | 00 | NA | NA | NA | NA | \u22ef | /gpfs/alpine1/scratch/mlippincott@xsede.org/pyroptosis_live-cell_timelapse/Wave1_data/2.illumination_correction/illum_directory/W0052_F0001 | /gpfs/alpine1/scratch/mlippincott@xsede.org/pyroptosis_live-cell_timelapse/Wave1_data/2.illumination_correction/illum_directory/W0052_F0001 | /gpfs/alpine1/scratch/mlippincott@xsede.org/pyroptosis_live-cell_timelapse/Wave1_data/2.illumination_correction/illum_directory/W0052_F0001 | 1278.15894 |  451.1779 | 56443 | -1.14765608 | -0.8359004 | 1 | 1 hours |\n",
                            "| Media | C04 | 502 | 0001 | Media | 00 | NA | NA | NA | NA | \u22ef | /gpfs/alpine1/scratch/mlippincott@xsede.org/pyroptosis_live-cell_timelapse/Wave1_data/2.illumination_correction/illum_directory/W0052_F0001 | /gpfs/alpine1/scratch/mlippincott@xsede.org/pyroptosis_live-cell_timelapse/Wave1_data/2.illumination_correction/illum_directory/W0052_F0001 | /gpfs/alpine1/scratch/mlippincott@xsede.org/pyroptosis_live-cell_timelapse/Wave1_data/2.illumination_correction/illum_directory/W0052_F0001 |  116.34923 |  683.6766 | 56443 |  0.05474161 | -0.2473071 | 1 | 1 hours |\n",
                            "| Media | C04 | 502 | 0001 | Media | 00 | NA | NA | NA | NA | \u22ef | /gpfs/alpine1/scratch/mlippincott@xsede.org/pyroptosis_live-cell_timelapse/Wave1_data/2.illumination_correction/illum_directory/W0052_F0001 | /gpfs/alpine1/scratch/mlippincott@xsede.org/pyroptosis_live-cell_timelapse/Wave1_data/2.illumination_correction/illum_directory/W0052_F0001 | /gpfs/alpine1/scratch/mlippincott@xsede.org/pyroptosis_live-cell_timelapse/Wave1_data/2.illumination_correction/illum_directory/W0052_F0001 |  399.61502 | 1031.3970 | 56443 | -0.25203672 |  0.2765246 | 1 | 1 hours |\n",
                            "| Media | C04 | 533 | 0001 | Media | 01 | NA | NA | NA | NA | \u22ef | /gpfs/alpine1/scratch/mlippincott@xsede.org/pyroptosis_live-cell_timelapse/Wave1_data/2.illumination_correction/illum_directory/W0052_F0001 | /gpfs/alpine1/scratch/mlippincott@xsede.org/pyroptosis_live-cell_timelapse/Wave1_data/2.illumination_correction/illum_directory/W0052_F0001 | /gpfs/alpine1/scratch/mlippincott@xsede.org/pyroptosis_live-cell_timelapse/Wave1_data/2.illumination_correction/illum_directory/W0052_F0001 |   44.13271 |  310.4918 | 56443 |  1.85757732 | -2.9642274 | 4 | 4 hours |\n",
                            "| Media | C04 | 533 | 0001 | Media | 01 | NA | NA | NA | NA | \u22ef | /gpfs/alpine1/scratch/mlippincott@xsede.org/pyroptosis_live-cell_timelapse/Wave1_data/2.illumination_correction/illum_directory/W0052_F0001 | /gpfs/alpine1/scratch/mlippincott@xsede.org/pyroptosis_live-cell_timelapse/Wave1_data/2.illumination_correction/illum_directory/W0052_F0001 | /gpfs/alpine1/scratch/mlippincott@xsede.org/pyroptosis_live-cell_timelapse/Wave1_data/2.illumination_correction/illum_directory/W0052_F0001 | 1978.14844 |  625.7906 | 56443 |  0.41697550 | -1.0926238 | 4 | 4 hours |\n",
                            "\n"
                        ],
                        "text/plain": [
                            "  Metadata_treatment Metadata_Well Metadata_number_of_singlecells Metadata_FOV\n",
                            "1 Media              C04           502                            0001        \n",
                            "2 Media              C04           502                            0001        \n",
                            "3 Media              C04           502                            0001        \n",
                            "4 Media              C04           502                            0001        \n",
                            "5 Media              C04           533                            0001        \n",
                            "6 Media              C04           533                            0001        \n",
                            "  Metadata_treatment1 Metadata_Time Metadata_treatment2\n",
                            "1 Media               00            NA                 \n",
                            "2 Media               00            NA                 \n",
                            "3 Media               00            NA                 \n",
                            "4 Media               00            NA                 \n",
                            "5 Media               01            NA                 \n",
                            "6 Media               01            NA                 \n",
                            "  Metadata_treatment1_dose Metadata_treatment1_unit Metadata_treatment2_dose \u22ef\n",
                            "1 NA                       NA                       NA                       \u22ef\n",
                            "2 NA                       NA                       NA                       \u22ef\n",
                            "3 NA                       NA                       NA                       \u22ef\n",
                            "4 NA                       NA                       NA                       \u22ef\n",
                            "5 NA                       NA                       NA                       \u22ef\n",
                            "6 NA                       NA                       NA                       \u22ef\n",
                            "  Metadata_Image_PathName_CL561                                                                                                              \n",
                            "1 /gpfs/alpine1/scratch/mlippincott@xsede.org/pyroptosis_live-cell_timelapse/Wave1_data/2.illumination_correction/illum_directory/W0052_F0001\n",
                            "2 /gpfs/alpine1/scratch/mlippincott@xsede.org/pyroptosis_live-cell_timelapse/Wave1_data/2.illumination_correction/illum_directory/W0052_F0001\n",
                            "3 /gpfs/alpine1/scratch/mlippincott@xsede.org/pyroptosis_live-cell_timelapse/Wave1_data/2.illumination_correction/illum_directory/W0052_F0001\n",
                            "4 /gpfs/alpine1/scratch/mlippincott@xsede.org/pyroptosis_live-cell_timelapse/Wave1_data/2.illumination_correction/illum_directory/W0052_F0001\n",
                            "5 /gpfs/alpine1/scratch/mlippincott@xsede.org/pyroptosis_live-cell_timelapse/Wave1_data/2.illumination_correction/illum_directory/W0052_F0001\n",
                            "6 /gpfs/alpine1/scratch/mlippincott@xsede.org/pyroptosis_live-cell_timelapse/Wave1_data/2.illumination_correction/illum_directory/W0052_F0001\n",
                            "  Metadata_Image_PathName_DNA                                                                                                                \n",
                            "1 /gpfs/alpine1/scratch/mlippincott@xsede.org/pyroptosis_live-cell_timelapse/Wave1_data/2.illumination_correction/illum_directory/W0052_F0001\n",
                            "2 /gpfs/alpine1/scratch/mlippincott@xsede.org/pyroptosis_live-cell_timelapse/Wave1_data/2.illumination_correction/illum_directory/W0052_F0001\n",
                            "3 /gpfs/alpine1/scratch/mlippincott@xsede.org/pyroptosis_live-cell_timelapse/Wave1_data/2.illumination_correction/illum_directory/W0052_F0001\n",
                            "4 /gpfs/alpine1/scratch/mlippincott@xsede.org/pyroptosis_live-cell_timelapse/Wave1_data/2.illumination_correction/illum_directory/W0052_F0001\n",
                            "5 /gpfs/alpine1/scratch/mlippincott@xsede.org/pyroptosis_live-cell_timelapse/Wave1_data/2.illumination_correction/illum_directory/W0052_F0001\n",
                            "6 /gpfs/alpine1/scratch/mlippincott@xsede.org/pyroptosis_live-cell_timelapse/Wave1_data/2.illumination_correction/illum_directory/W0052_F0001\n",
                            "  Metadata_Image_PathName_GSDM                                                                                                               \n",
                            "1 /gpfs/alpine1/scratch/mlippincott@xsede.org/pyroptosis_live-cell_timelapse/Wave1_data/2.illumination_correction/illum_directory/W0052_F0001\n",
                            "2 /gpfs/alpine1/scratch/mlippincott@xsede.org/pyroptosis_live-cell_timelapse/Wave1_data/2.illumination_correction/illum_directory/W0052_F0001\n",
                            "3 /gpfs/alpine1/scratch/mlippincott@xsede.org/pyroptosis_live-cell_timelapse/Wave1_data/2.illumination_correction/illum_directory/W0052_F0001\n",
                            "4 /gpfs/alpine1/scratch/mlippincott@xsede.org/pyroptosis_live-cell_timelapse/Wave1_data/2.illumination_correction/illum_directory/W0052_F0001\n",
                            "5 /gpfs/alpine1/scratch/mlippincott@xsede.org/pyroptosis_live-cell_timelapse/Wave1_data/2.illumination_correction/illum_directory/W0052_F0001\n",
                            "6 /gpfs/alpine1/scratch/mlippincott@xsede.org/pyroptosis_live-cell_timelapse/Wave1_data/2.illumination_correction/illum_directory/W0052_F0001\n",
                            "  Metadata_Nuclei_Location_Center_X Metadata_Nuclei_Location_Center_Y\n",
                            "1 1426.31944                        1051.7531                        \n",
                            "2 1278.15894                         451.1779                        \n",
                            "3  116.34923                         683.6766                        \n",
                            "4  399.61502                        1031.3970                        \n",
                            "5   44.13271                         310.4918                        \n",
                            "6 1978.14844                         625.7906                        \n",
                            "  Metadata_cells_per_well UMAP0       UMAP1      Metadata_timepoint\n",
                            "1 56443                    4.50723457  0.8430272 1                 \n",
                            "2 56443                   -1.14765608 -0.8359004 1                 \n",
                            "3 56443                    0.05474161 -0.2473071 1                 \n",
                            "4 56443                   -0.25203672  0.2765246 1                 \n",
                            "5 56443                    1.85757732 -2.9642274 4                 \n",
                            "6 56443                    0.41697550 -1.0926238 4                 \n",
                            "  Metadata_timepoint_hours\n",
                            "1 1 hours                 \n",
                            "2 1 hours                 \n",
                            "3 1 hours                 \n",
                            "4 1 hours                 \n",
                            "5 4 hours                 \n",
                            "6 4 hours                 "
                        ]
                    },
                    "metadata": {},
                    "output_type": "display_data"
                }
            ],
            "source": [
                "# map the timepoints to the actual hour timepoint\n",
                "timepoints <- data.frame(\n",
                "    reference = c(\"00\", \"01\", \"02\", \"03\", \"04\", \"05\", \"06\", \"07\", \"08\", \"09\", \"10\", \"11\", \"12\", \"13\", \"14\", \"15\", \"16\", \"17\"),\n",
                "    Metadata_timepoint  = c(1,4,7,10,13,16,19,22,25,28,31,34,37,40,43,46,49,90)\n",
                ")\n",
                "# map the timepoints to the main df \n",
                "umap_data <- umap_data %>% left_join(timepoints, by = c(\"Metadata_Time\" = \"reference\"))\n",
                "umap_data$Metadata_timepoint <- as.numeric(umap_data$Metadata_timepoint)\n",
                "umap_data$Metadata_timepoint_hours <- paste0(umap_data$Metadata_timepoint, \" hours\")\n",
                "head(umap_data)"
            ]
        },
        {
            "cell_type": "code",
            "execution_count": 8,
            "metadata": {
                "vscode": {
                    "languageId": "r"
                }
            },
            "outputs": [],
            "source": [
                "figure_path <- file.path(\"..\",\"figures\",data_set)\n",
                "# create the output directory if it does not exist\n",
                "if (!dir.exists(figure_path)) {\n",
                "  dir.create(figure_path)\n",
                "}"
            ]
        },
        {
            "cell_type": "code",
            "execution_count": 9,
            "metadata": {
                "vscode": {
                    "languageId": "r"
                }
            },
            "outputs": [
                {
                    "data": {
                        "text/html": [
                            "<table class=\"dataframe\">\n",
                            "<caption>A tibble: 6 \u00d7 37</caption>\n",
                            "<thead>\n",
                            "\t<tr><th scope=col>Metadata_treatment</th><th scope=col>Metadata_Well</th><th scope=col>Metadata_number_of_singlecells</th><th scope=col>Metadata_FOV</th><th scope=col>Metadata_treatment1</th><th scope=col>Metadata_Time</th><th scope=col>Metadata_treatment2</th><th scope=col>Metadata_treatment1_dose</th><th scope=col>Metadata_treatment1_unit</th><th scope=col>Metadata_treatment2_dose</th><th scope=col>\u22ef</th><th scope=col>Metadata_Image_PathName_CL561</th><th scope=col>Metadata_Image_PathName_DNA</th><th scope=col>Metadata_Image_PathName_GSDM</th><th scope=col>Metadata_Nuclei_Location_Center_X</th><th scope=col>Metadata_Nuclei_Location_Center_Y</th><th scope=col>Metadata_cells_per_well</th><th scope=col>UMAP0</th><th scope=col>UMAP1</th><th scope=col>Metadata_timepoint</th><th scope=col>Metadata_timepoint_hours</th></tr>\n",
                            "\t<tr><th scope=col>&lt;chr&gt;</th><th scope=col>&lt;chr&gt;</th><th scope=col>&lt;int&gt;</th><th scope=col>&lt;chr&gt;</th><th scope=col>&lt;chr&gt;</th><th scope=col>&lt;chr&gt;</th><th scope=col>&lt;chr&gt;</th><th scope=col>&lt;chr&gt;</th><th scope=col>&lt;chr&gt;</th><th scope=col>&lt;chr&gt;</th><th scope=col>\u22ef</th><th scope=col>&lt;chr&gt;</th><th scope=col>&lt;chr&gt;</th><th scope=col>&lt;chr&gt;</th><th scope=col>&lt;dbl&gt;</th><th scope=col>&lt;dbl&gt;</th><th scope=col>&lt;int&gt;</th><th scope=col>&lt;dbl&gt;</th><th scope=col>&lt;dbl&gt;</th><th scope=col>&lt;dbl&gt;</th><th scope=col>&lt;chr&gt;</th></tr>\n",
                            "</thead>\n",
                            "<tbody>\n",
                            "\t<tr><td>Media</td><td>C04</td><td>502</td><td>0001</td><td>Media</td><td>00</td><td>NA</td><td>NA</td><td>NA</td><td>NA</td><td>\u22ef</td><td>/gpfs/alpine1/scratch/mlippincott@xsede.org/pyroptosis_live-cell_timelapse/Wave1_data/2.illumination_correction/illum_directory/W0052_F0001</td><td>/gpfs/alpine1/scratch/mlippincott@xsede.org/pyroptosis_live-cell_timelapse/Wave1_data/2.illumination_correction/illum_directory/W0052_F0001</td><td>/gpfs/alpine1/scratch/mlippincott@xsede.org/pyroptosis_live-cell_timelapse/Wave1_data/2.illumination_correction/illum_directory/W0052_F0001</td><td>1426.31944</td><td>1051.7531</td><td>56443</td><td> 4.50723457</td><td> 0.8430272</td><td>1</td><td>1 hours</td></tr>\n",
                            "\t<tr><td>Media</td><td>C04</td><td>502</td><td>0001</td><td>Media</td><td>00</td><td>NA</td><td>NA</td><td>NA</td><td>NA</td><td>\u22ef</td><td>/gpfs/alpine1/scratch/mlippincott@xsede.org/pyroptosis_live-cell_timelapse/Wave1_data/2.illumination_correction/illum_directory/W0052_F0001</td><td>/gpfs/alpine1/scratch/mlippincott@xsede.org/pyroptosis_live-cell_timelapse/Wave1_data/2.illumination_correction/illum_directory/W0052_F0001</td><td>/gpfs/alpine1/scratch/mlippincott@xsede.org/pyroptosis_live-cell_timelapse/Wave1_data/2.illumination_correction/illum_directory/W0052_F0001</td><td>1278.15894</td><td> 451.1779</td><td>56443</td><td>-1.14765608</td><td>-0.8359004</td><td>1</td><td>1 hours</td></tr>\n",
                            "\t<tr><td>Media</td><td>C04</td><td>502</td><td>0001</td><td>Media</td><td>00</td><td>NA</td><td>NA</td><td>NA</td><td>NA</td><td>\u22ef</td><td>/gpfs/alpine1/scratch/mlippincott@xsede.org/pyroptosis_live-cell_timelapse/Wave1_data/2.illumination_correction/illum_directory/W0052_F0001</td><td>/gpfs/alpine1/scratch/mlippincott@xsede.org/pyroptosis_live-cell_timelapse/Wave1_data/2.illumination_correction/illum_directory/W0052_F0001</td><td>/gpfs/alpine1/scratch/mlippincott@xsede.org/pyroptosis_live-cell_timelapse/Wave1_data/2.illumination_correction/illum_directory/W0052_F0001</td><td> 116.34923</td><td> 683.6766</td><td>56443</td><td> 0.05474161</td><td>-0.2473071</td><td>1</td><td>1 hours</td></tr>\n",
                            "\t<tr><td>Media</td><td>C04</td><td>502</td><td>0001</td><td>Media</td><td>00</td><td>NA</td><td>NA</td><td>NA</td><td>NA</td><td>\u22ef</td><td>/gpfs/alpine1/scratch/mlippincott@xsede.org/pyroptosis_live-cell_timelapse/Wave1_data/2.illumination_correction/illum_directory/W0052_F0001</td><td>/gpfs/alpine1/scratch/mlippincott@xsede.org/pyroptosis_live-cell_timelapse/Wave1_data/2.illumination_correction/illum_directory/W0052_F0001</td><td>/gpfs/alpine1/scratch/mlippincott@xsede.org/pyroptosis_live-cell_timelapse/Wave1_data/2.illumination_correction/illum_directory/W0052_F0001</td><td> 399.61502</td><td>1031.3970</td><td>56443</td><td>-0.25203672</td><td> 0.2765246</td><td>1</td><td>1 hours</td></tr>\n",
                            "\t<tr><td>Media</td><td>C04</td><td>533</td><td>0001</td><td>Media</td><td>01</td><td>NA</td><td>NA</td><td>NA</td><td>NA</td><td>\u22ef</td><td>/gpfs/alpine1/scratch/mlippincott@xsede.org/pyroptosis_live-cell_timelapse/Wave1_data/2.illumination_correction/illum_directory/W0052_F0001</td><td>/gpfs/alpine1/scratch/mlippincott@xsede.org/pyroptosis_live-cell_timelapse/Wave1_data/2.illumination_correction/illum_directory/W0052_F0001</td><td>/gpfs/alpine1/scratch/mlippincott@xsede.org/pyroptosis_live-cell_timelapse/Wave1_data/2.illumination_correction/illum_directory/W0052_F0001</td><td>  44.13271</td><td> 310.4918</td><td>56443</td><td> 1.85757732</td><td>-2.9642274</td><td>4</td><td>4 hours</td></tr>\n",
                            "\t<tr><td>Media</td><td>C04</td><td>533</td><td>0001</td><td>Media</td><td>01</td><td>NA</td><td>NA</td><td>NA</td><td>NA</td><td>\u22ef</td><td>/gpfs/alpine1/scratch/mlippincott@xsede.org/pyroptosis_live-cell_timelapse/Wave1_data/2.illumination_correction/illum_directory/W0052_F0001</td><td>/gpfs/alpine1/scratch/mlippincott@xsede.org/pyroptosis_live-cell_timelapse/Wave1_data/2.illumination_correction/illum_directory/W0052_F0001</td><td>/gpfs/alpine1/scratch/mlippincott@xsede.org/pyroptosis_live-cell_timelapse/Wave1_data/2.illumination_correction/illum_directory/W0052_F0001</td><td>1978.14844</td><td> 625.7906</td><td>56443</td><td> 0.41697550</td><td>-1.0926238</td><td>4</td><td>4 hours</td></tr>\n",
                            "</tbody>\n",
                            "</table>\n"
                        ],
                        "text/latex": [
                            "A tibble: 6 \u00d7 37\n",
                            "\\begin{tabular}{lllllllllllllllllllll}\n",
                            " Metadata\\_treatment & Metadata\\_Well & Metadata\\_number\\_of\\_singlecells & Metadata\\_FOV & Metadata\\_treatment1 & Metadata\\_Time & Metadata\\_treatment2 & Metadata\\_treatment1\\_dose & Metadata\\_treatment1\\_unit & Metadata\\_treatment2\\_dose & \u22ef & Metadata\\_Image\\_PathName\\_CL561 & Metadata\\_Image\\_PathName\\_DNA & Metadata\\_Image\\_PathName\\_GSDM & Metadata\\_Nuclei\\_Location\\_Center\\_X & Metadata\\_Nuclei\\_Location\\_Center\\_Y & Metadata\\_cells\\_per\\_well & UMAP0 & UMAP1 & Metadata\\_timepoint & Metadata\\_timepoint\\_hours\\\\\n",
                            " <chr> & <chr> & <int> & <chr> & <chr> & <chr> & <chr> & <chr> & <chr> & <chr> & \u22ef & <chr> & <chr> & <chr> & <dbl> & <dbl> & <int> & <dbl> & <dbl> & <dbl> & <chr>\\\\\n",
                            "\\hline\n",
                            "\t Media & C04 & 502 & 0001 & Media & 00 & NA & NA & NA & NA & \u22ef & /gpfs/alpine1/scratch/mlippincott@xsede.org/pyroptosis\\_live-cell\\_timelapse/Wave1\\_data/2.illumination\\_correction/illum\\_directory/W0052\\_F0001 & /gpfs/alpine1/scratch/mlippincott@xsede.org/pyroptosis\\_live-cell\\_timelapse/Wave1\\_data/2.illumination\\_correction/illum\\_directory/W0052\\_F0001 & /gpfs/alpine1/scratch/mlippincott@xsede.org/pyroptosis\\_live-cell\\_timelapse/Wave1\\_data/2.illumination\\_correction/illum\\_directory/W0052\\_F0001 & 1426.31944 & 1051.7531 & 56443 &  4.50723457 &  0.8430272 & 1 & 1 hours\\\\\n",
                            "\t Media & C04 & 502 & 0001 & Media & 00 & NA & NA & NA & NA & \u22ef & /gpfs/alpine1/scratch/mlippincott@xsede.org/pyroptosis\\_live-cell\\_timelapse/Wave1\\_data/2.illumination\\_correction/illum\\_directory/W0052\\_F0001 & /gpfs/alpine1/scratch/mlippincott@xsede.org/pyroptosis\\_live-cell\\_timelapse/Wave1\\_data/2.illumination\\_correction/illum\\_directory/W0052\\_F0001 & /gpfs/alpine1/scratch/mlippincott@xsede.org/pyroptosis\\_live-cell\\_timelapse/Wave1\\_data/2.illumination\\_correction/illum\\_directory/W0052\\_F0001 & 1278.15894 &  451.1779 & 56443 & -1.14765608 & -0.8359004 & 1 & 1 hours\\\\\n",
                            "\t Media & C04 & 502 & 0001 & Media & 00 & NA & NA & NA & NA & \u22ef & /gpfs/alpine1/scratch/mlippincott@xsede.org/pyroptosis\\_live-cell\\_timelapse/Wave1\\_data/2.illumination\\_correction/illum\\_directory/W0052\\_F0001 & /gpfs/alpine1/scratch/mlippincott@xsede.org/pyroptosis\\_live-cell\\_timelapse/Wave1\\_data/2.illumination\\_correction/illum\\_directory/W0052\\_F0001 & /gpfs/alpine1/scratch/mlippincott@xsede.org/pyroptosis\\_live-cell\\_timelapse/Wave1\\_data/2.illumination\\_correction/illum\\_directory/W0052\\_F0001 &  116.34923 &  683.6766 & 56443 &  0.05474161 & -0.2473071 & 1 & 1 hours\\\\\n",
                            "\t Media & C04 & 502 & 0001 & Media & 00 & NA & NA & NA & NA & \u22ef & /gpfs/alpine1/scratch/mlippincott@xsede.org/pyroptosis\\_live-cell\\_timelapse/Wave1\\_data/2.illumination\\_correction/illum\\_directory/W0052\\_F0001 & /gpfs/alpine1/scratch/mlippincott@xsede.org/pyroptosis\\_live-cell\\_timelapse/Wave1\\_data/2.illumination\\_correction/illum\\_directory/W0052\\_F0001 & /gpfs/alpine1/scratch/mlippincott@xsede.org/pyroptosis\\_live-cell\\_timelapse/Wave1\\_data/2.illumination\\_correction/illum\\_directory/W0052\\_F0001 &  399.61502 & 1031.3970 & 56443 & -0.25203672 &  0.2765246 & 1 & 1 hours\\\\\n",
                            "\t Media & C04 & 533 & 0001 & Media & 01 & NA & NA & NA & NA & \u22ef & /gpfs/alpine1/scratch/mlippincott@xsede.org/pyroptosis\\_live-cell\\_timelapse/Wave1\\_data/2.illumination\\_correction/illum\\_directory/W0052\\_F0001 & /gpfs/alpine1/scratch/mlippincott@xsede.org/pyroptosis\\_live-cell\\_timelapse/Wave1\\_data/2.illumination\\_correction/illum\\_directory/W0052\\_F0001 & /gpfs/alpine1/scratch/mlippincott@xsede.org/pyroptosis\\_live-cell\\_timelapse/Wave1\\_data/2.illumination\\_correction/illum\\_directory/W0052\\_F0001 &   44.13271 &  310.4918 & 56443 &  1.85757732 & -2.9642274 & 4 & 4 hours\\\\\n",
                            "\t Media & C04 & 533 & 0001 & Media & 01 & NA & NA & NA & NA & \u22ef & /gpfs/alpine1/scratch/mlippincott@xsede.org/pyroptosis\\_live-cell\\_timelapse/Wave1\\_data/2.illumination\\_correction/illum\\_directory/W0052\\_F0001 & /gpfs/alpine1/scratch/mlippincott@xsede.org/pyroptosis\\_live-cell\\_timelapse/Wave1\\_data/2.illumination\\_correction/illum\\_directory/W0052\\_F0001 & /gpfs/alpine1/scratch/mlippincott@xsede.org/pyroptosis\\_live-cell\\_timelapse/Wave1\\_data/2.illumination\\_correction/illum\\_directory/W0052\\_F0001 & 1978.14844 &  625.7906 & 56443 &  0.41697550 & -1.0926238 & 4 & 4 hours\\\\\n",
                            "\\end{tabular}\n"
                        ],
                        "text/markdown": [
                            "\n",
                            "A tibble: 6 \u00d7 37\n",
                            "\n",
                            "| Metadata_treatment &lt;chr&gt; | Metadata_Well &lt;chr&gt; | Metadata_number_of_singlecells &lt;int&gt; | Metadata_FOV &lt;chr&gt; | Metadata_treatment1 &lt;chr&gt; | Metadata_Time &lt;chr&gt; | Metadata_treatment2 &lt;chr&gt; | Metadata_treatment1_dose &lt;chr&gt; | Metadata_treatment1_unit &lt;chr&gt; | Metadata_treatment2_dose &lt;chr&gt; | \u22ef \u22ef | Metadata_Image_PathName_CL561 &lt;chr&gt; | Metadata_Image_PathName_DNA &lt;chr&gt; | Metadata_Image_PathName_GSDM &lt;chr&gt; | Metadata_Nuclei_Location_Center_X &lt;dbl&gt; | Metadata_Nuclei_Location_Center_Y &lt;dbl&gt; | Metadata_cells_per_well &lt;int&gt; | UMAP0 &lt;dbl&gt; | UMAP1 &lt;dbl&gt; | Metadata_timepoint &lt;dbl&gt; | Metadata_timepoint_hours &lt;chr&gt; |\n",
                            "|---|---|---|---|---|---|---|---|---|---|---|---|---|---|---|---|---|---|---|---|---|\n",
                            "| Media | C04 | 502 | 0001 | Media | 00 | NA | NA | NA | NA | \u22ef | /gpfs/alpine1/scratch/mlippincott@xsede.org/pyroptosis_live-cell_timelapse/Wave1_data/2.illumination_correction/illum_directory/W0052_F0001 | /gpfs/alpine1/scratch/mlippincott@xsede.org/pyroptosis_live-cell_timelapse/Wave1_data/2.illumination_correction/illum_directory/W0052_F0001 | /gpfs/alpine1/scratch/mlippincott@xsede.org/pyroptosis_live-cell_timelapse/Wave1_data/2.illumination_correction/illum_directory/W0052_F0001 | 1426.31944 | 1051.7531 | 56443 |  4.50723457 |  0.8430272 | 1 | 1 hours |\n",
                            "| Media | C04 | 502 | 0001 | Media | 00 | NA | NA | NA | NA | \u22ef | /gpfs/alpine1/scratch/mlippincott@xsede.org/pyroptosis_live-cell_timelapse/Wave1_data/2.illumination_correction/illum_directory/W0052_F0001 | /gpfs/alpine1/scratch/mlippincott@xsede.org/pyroptosis_live-cell_timelapse/Wave1_data/2.illumination_correction/illum_directory/W0052_F0001 | /gpfs/alpine1/scratch/mlippincott@xsede.org/pyroptosis_live-cell_timelapse/Wave1_data/2.illumination_correction/illum_directory/W0052_F0001 | 1278.15894 |  451.1779 | 56443 | -1.14765608 | -0.8359004 | 1 | 1 hours |\n",
                            "| Media | C04 | 502 | 0001 | Media | 00 | NA | NA | NA | NA | \u22ef | /gpfs/alpine1/scratch/mlippincott@xsede.org/pyroptosis_live-cell_timelapse/Wave1_data/2.illumination_correction/illum_directory/W0052_F0001 | /gpfs/alpine1/scratch/mlippincott@xsede.org/pyroptosis_live-cell_timelapse/Wave1_data/2.illumination_correction/illum_directory/W0052_F0001 | /gpfs/alpine1/scratch/mlippincott@xsede.org/pyroptosis_live-cell_timelapse/Wave1_data/2.illumination_correction/illum_directory/W0052_F0001 |  116.34923 |  683.6766 | 56443 |  0.05474161 | -0.2473071 | 1 | 1 hours |\n",
                            "| Media | C04 | 502 | 0001 | Media | 00 | NA | NA | NA | NA | \u22ef | /gpfs/alpine1/scratch/mlippincott@xsede.org/pyroptosis_live-cell_timelapse/Wave1_data/2.illumination_correction/illum_directory/W0052_F0001 | /gpfs/alpine1/scratch/mlippincott@xsede.org/pyroptosis_live-cell_timelapse/Wave1_data/2.illumination_correction/illum_directory/W0052_F0001 | /gpfs/alpine1/scratch/mlippincott@xsede.org/pyroptosis_live-cell_timelapse/Wave1_data/2.illumination_correction/illum_directory/W0052_F0001 |  399.61502 | 1031.3970 | 56443 | -0.25203672 |  0.2765246 | 1 | 1 hours |\n",
                            "| Media | C04 | 533 | 0001 | Media | 01 | NA | NA | NA | NA | \u22ef | /gpfs/alpine1/scratch/mlippincott@xsede.org/pyroptosis_live-cell_timelapse/Wave1_data/2.illumination_correction/illum_directory/W0052_F0001 | /gpfs/alpine1/scratch/mlippincott@xsede.org/pyroptosis_live-cell_timelapse/Wave1_data/2.illumination_correction/illum_directory/W0052_F0001 | /gpfs/alpine1/scratch/mlippincott@xsede.org/pyroptosis_live-cell_timelapse/Wave1_data/2.illumination_correction/illum_directory/W0052_F0001 |   44.13271 |  310.4918 | 56443 |  1.85757732 | -2.9642274 | 4 | 4 hours |\n",
                            "| Media | C04 | 533 | 0001 | Media | 01 | NA | NA | NA | NA | \u22ef | /gpfs/alpine1/scratch/mlippincott@xsede.org/pyroptosis_live-cell_timelapse/Wave1_data/2.illumination_correction/illum_directory/W0052_F0001 | /gpfs/alpine1/scratch/mlippincott@xsede.org/pyroptosis_live-cell_timelapse/Wave1_data/2.illumination_correction/illum_directory/W0052_F0001 | /gpfs/alpine1/scratch/mlippincott@xsede.org/pyroptosis_live-cell_timelapse/Wave1_data/2.illumination_correction/illum_directory/W0052_F0001 | 1978.14844 |  625.7906 | 56443 |  0.41697550 | -1.0926238 | 4 | 4 hours |\n",
                            "\n"
                        ],
                        "text/plain": [
                            "  Metadata_treatment Metadata_Well Metadata_number_of_singlecells Metadata_FOV\n",
                            "1 Media              C04           502                            0001        \n",
                            "2 Media              C04           502                            0001        \n",
                            "3 Media              C04           502                            0001        \n",
                            "4 Media              C04           502                            0001        \n",
                            "5 Media              C04           533                            0001        \n",
                            "6 Media              C04           533                            0001        \n",
                            "  Metadata_treatment1 Metadata_Time Metadata_treatment2\n",
                            "1 Media               00            NA                 \n",
                            "2 Media               00            NA                 \n",
                            "3 Media               00            NA                 \n",
                            "4 Media               00            NA                 \n",
                            "5 Media               01            NA                 \n",
                            "6 Media               01            NA                 \n",
                            "  Metadata_treatment1_dose Metadata_treatment1_unit Metadata_treatment2_dose \u22ef\n",
                            "1 NA                       NA                       NA                       \u22ef\n",
                            "2 NA                       NA                       NA                       \u22ef\n",
                            "3 NA                       NA                       NA                       \u22ef\n",
                            "4 NA                       NA                       NA                       \u22ef\n",
                            "5 NA                       NA                       NA                       \u22ef\n",
                            "6 NA                       NA                       NA                       \u22ef\n",
                            "  Metadata_Image_PathName_CL561                                                                                                              \n",
                            "1 /gpfs/alpine1/scratch/mlippincott@xsede.org/pyroptosis_live-cell_timelapse/Wave1_data/2.illumination_correction/illum_directory/W0052_F0001\n",
                            "2 /gpfs/alpine1/scratch/mlippincott@xsede.org/pyroptosis_live-cell_timelapse/Wave1_data/2.illumination_correction/illum_directory/W0052_F0001\n",
                            "3 /gpfs/alpine1/scratch/mlippincott@xsede.org/pyroptosis_live-cell_timelapse/Wave1_data/2.illumination_correction/illum_directory/W0052_F0001\n",
                            "4 /gpfs/alpine1/scratch/mlippincott@xsede.org/pyroptosis_live-cell_timelapse/Wave1_data/2.illumination_correction/illum_directory/W0052_F0001\n",
                            "5 /gpfs/alpine1/scratch/mlippincott@xsede.org/pyroptosis_live-cell_timelapse/Wave1_data/2.illumination_correction/illum_directory/W0052_F0001\n",
                            "6 /gpfs/alpine1/scratch/mlippincott@xsede.org/pyroptosis_live-cell_timelapse/Wave1_data/2.illumination_correction/illum_directory/W0052_F0001\n",
                            "  Metadata_Image_PathName_DNA                                                                                                                \n",
                            "1 /gpfs/alpine1/scratch/mlippincott@xsede.org/pyroptosis_live-cell_timelapse/Wave1_data/2.illumination_correction/illum_directory/W0052_F0001\n",
                            "2 /gpfs/alpine1/scratch/mlippincott@xsede.org/pyroptosis_live-cell_timelapse/Wave1_data/2.illumination_correction/illum_directory/W0052_F0001\n",
                            "3 /gpfs/alpine1/scratch/mlippincott@xsede.org/pyroptosis_live-cell_timelapse/Wave1_data/2.illumination_correction/illum_directory/W0052_F0001\n",
                            "4 /gpfs/alpine1/scratch/mlippincott@xsede.org/pyroptosis_live-cell_timelapse/Wave1_data/2.illumination_correction/illum_directory/W0052_F0001\n",
                            "5 /gpfs/alpine1/scratch/mlippincott@xsede.org/pyroptosis_live-cell_timelapse/Wave1_data/2.illumination_correction/illum_directory/W0052_F0001\n",
                            "6 /gpfs/alpine1/scratch/mlippincott@xsede.org/pyroptosis_live-cell_timelapse/Wave1_data/2.illumination_correction/illum_directory/W0052_F0001\n",
                            "  Metadata_Image_PathName_GSDM                                                                                                               \n",
                            "1 /gpfs/alpine1/scratch/mlippincott@xsede.org/pyroptosis_live-cell_timelapse/Wave1_data/2.illumination_correction/illum_directory/W0052_F0001\n",
                            "2 /gpfs/alpine1/scratch/mlippincott@xsede.org/pyroptosis_live-cell_timelapse/Wave1_data/2.illumination_correction/illum_directory/W0052_F0001\n",
                            "3 /gpfs/alpine1/scratch/mlippincott@xsede.org/pyroptosis_live-cell_timelapse/Wave1_data/2.illumination_correction/illum_directory/W0052_F0001\n",
                            "4 /gpfs/alpine1/scratch/mlippincott@xsede.org/pyroptosis_live-cell_timelapse/Wave1_data/2.illumination_correction/illum_directory/W0052_F0001\n",
                            "5 /gpfs/alpine1/scratch/mlippincott@xsede.org/pyroptosis_live-cell_timelapse/Wave1_data/2.illumination_correction/illum_directory/W0052_F0001\n",
                            "6 /gpfs/alpine1/scratch/mlippincott@xsede.org/pyroptosis_live-cell_timelapse/Wave1_data/2.illumination_correction/illum_directory/W0052_F0001\n",
                            "  Metadata_Nuclei_Location_Center_X Metadata_Nuclei_Location_Center_Y\n",
                            "1 1426.31944                        1051.7531                        \n",
                            "2 1278.15894                         451.1779                        \n",
                            "3  116.34923                         683.6766                        \n",
                            "4  399.61502                        1031.3970                        \n",
                            "5   44.13271                         310.4918                        \n",
                            "6 1978.14844                         625.7906                        \n",
                            "  Metadata_cells_per_well UMAP0       UMAP1      Metadata_timepoint\n",
                            "1 56443                    4.50723457  0.8430272 1                 \n",
                            "2 56443                   -1.14765608 -0.8359004 1                 \n",
                            "3 56443                    0.05474161 -0.2473071 1                 \n",
                            "4 56443                   -0.25203672  0.2765246 1                 \n",
                            "5 56443                    1.85757732 -2.9642274 4                 \n",
                            "6 56443                    0.41697550 -1.0926238 4                 \n",
                            "  Metadata_timepoint_hours\n",
                            "1 1 hours                 \n",
                            "2 1 hours                 \n",
                            "3 1 hours                 \n",
                            "4 1 hours                 \n",
                            "5 4 hours                 \n",
                            "6 4 hours                 "
                        ]
                    },
                    "metadata": {},
                    "output_type": "display_data"
                }
            ],
            "source": [
                "head(umap_data)\n",
                "\n",
                "\n",
                "wells <- unique(umap_data$Metadata_Well)\n",
                "# sort the wells alphabetically\n",
                "wells <- sort(wells)"
            ]
        },
        {
            "cell_type": "code",
            "execution_count": 10,
            "metadata": {
                "vscode": {
                    "languageId": "r"
                }
            },
            "outputs": [
                {
                    "name": "stdout",
                    "output_type": "stream",
                    "text": [
                        "[1] 32892    37\n",
                        "[1] 3820888      35\n",
                        "[1] 100   2\n"
                    ]
                },
                {
                    "data": {
                        "text/html": [
                            "<table class=\"dataframe\">\n",
                            "<caption>A tibble: 1 \u00d7 37</caption>\n",
                            "<thead>\n",
                            "\t<tr><th scope=col>Metadata_treatment</th><th scope=col>Metadata_Well</th><th scope=col>Metadata_number_of_singlecells</th><th scope=col>Metadata_FOV</th><th scope=col>Metadata_treatment1</th><th scope=col>Metadata_Time</th><th scope=col>Metadata_treatment2</th><th scope=col>Metadata_treatment1_dose</th><th scope=col>Metadata_treatment1_unit</th><th scope=col>Metadata_treatment2_dose</th><th scope=col>\u22ef</th><th scope=col>Metadata_Image_PathName_CL561</th><th scope=col>Metadata_Image_PathName_DNA</th><th scope=col>Metadata_Image_PathName_GSDM</th><th scope=col>Metadata_Nuclei_Location_Center_X</th><th scope=col>Metadata_Nuclei_Location_Center_Y</th><th scope=col>Metadata_cells_per_well</th><th scope=col>UMAP0</th><th scope=col>UMAP1</th><th scope=col>Metadata_timepoint</th><th scope=col>Metadata_timepoint_hours</th></tr>\n",
                            "\t<tr><th scope=col>&lt;chr&gt;</th><th scope=col>&lt;chr&gt;</th><th scope=col>&lt;int&gt;</th><th scope=col>&lt;chr&gt;</th><th scope=col>&lt;chr&gt;</th><th scope=col>&lt;chr&gt;</th><th scope=col>&lt;chr&gt;</th><th scope=col>&lt;chr&gt;</th><th scope=col>&lt;chr&gt;</th><th scope=col>&lt;chr&gt;</th><th scope=col>\u22ef</th><th scope=col>&lt;chr&gt;</th><th scope=col>&lt;chr&gt;</th><th scope=col>&lt;chr&gt;</th><th scope=col>&lt;dbl&gt;</th><th scope=col>&lt;dbl&gt;</th><th scope=col>&lt;int&gt;</th><th scope=col>&lt;dbl&gt;</th><th scope=col>&lt;dbl&gt;</th><th scope=col>&lt;dbl&gt;</th><th scope=col>&lt;chr&gt;</th></tr>\n",
                            "</thead>\n",
                            "<tbody>\n",
                            "\t<tr><td>Media</td><td>C04</td><td>502</td><td>0001</td><td>Media</td><td>00</td><td>NA</td><td>NA</td><td>NA</td><td>NA</td><td>\u22ef</td><td>/gpfs/alpine1/scratch/mlippincott@xsede.org/pyroptosis_live-cell_timelapse/Wave1_data/2.illumination_correction/illum_directory/W0052_F0001</td><td>/gpfs/alpine1/scratch/mlippincott@xsede.org/pyroptosis_live-cell_timelapse/Wave1_data/2.illumination_correction/illum_directory/W0052_F0001</td><td>/gpfs/alpine1/scratch/mlippincott@xsede.org/pyroptosis_live-cell_timelapse/Wave1_data/2.illumination_correction/illum_directory/W0052_F0001</td><td>1426.319</td><td>1051.753</td><td>56443</td><td>4.507235</td><td>0.8430272</td><td>1</td><td>1 hours</td></tr>\n",
                            "</tbody>\n",
                            "</table>\n"
                        ],
                        "text/latex": [
                            "A tibble: 1 \u00d7 37\n",
                            "\\begin{tabular}{lllllllllllllllllllll}\n",
                            " Metadata\\_treatment & Metadata\\_Well & Metadata\\_number\\_of\\_singlecells & Metadata\\_FOV & Metadata\\_treatment1 & Metadata\\_Time & Metadata\\_treatment2 & Metadata\\_treatment1\\_dose & Metadata\\_treatment1\\_unit & Metadata\\_treatment2\\_dose & \u22ef & Metadata\\_Image\\_PathName\\_CL561 & Metadata\\_Image\\_PathName\\_DNA & Metadata\\_Image\\_PathName\\_GSDM & Metadata\\_Nuclei\\_Location\\_Center\\_X & Metadata\\_Nuclei\\_Location\\_Center\\_Y & Metadata\\_cells\\_per\\_well & UMAP0 & UMAP1 & Metadata\\_timepoint & Metadata\\_timepoint\\_hours\\\\\n",
                            " <chr> & <chr> & <int> & <chr> & <chr> & <chr> & <chr> & <chr> & <chr> & <chr> & \u22ef & <chr> & <chr> & <chr> & <dbl> & <dbl> & <int> & <dbl> & <dbl> & <dbl> & <chr>\\\\\n",
                            "\\hline\n",
                            "\t Media & C04 & 502 & 0001 & Media & 00 & NA & NA & NA & NA & \u22ef & /gpfs/alpine1/scratch/mlippincott@xsede.org/pyroptosis\\_live-cell\\_timelapse/Wave1\\_data/2.illumination\\_correction/illum\\_directory/W0052\\_F0001 & /gpfs/alpine1/scratch/mlippincott@xsede.org/pyroptosis\\_live-cell\\_timelapse/Wave1\\_data/2.illumination\\_correction/illum\\_directory/W0052\\_F0001 & /gpfs/alpine1/scratch/mlippincott@xsede.org/pyroptosis\\_live-cell\\_timelapse/Wave1\\_data/2.illumination\\_correction/illum\\_directory/W0052\\_F0001 & 1426.319 & 1051.753 & 56443 & 4.507235 & 0.8430272 & 1 & 1 hours\\\\\n",
                            "\\end{tabular}\n"
                        ],
                        "text/markdown": [
                            "\n",
                            "A tibble: 1 \u00d7 37\n",
                            "\n",
                            "| Metadata_treatment &lt;chr&gt; | Metadata_Well &lt;chr&gt; | Metadata_number_of_singlecells &lt;int&gt; | Metadata_FOV &lt;chr&gt; | Metadata_treatment1 &lt;chr&gt; | Metadata_Time &lt;chr&gt; | Metadata_treatment2 &lt;chr&gt; | Metadata_treatment1_dose &lt;chr&gt; | Metadata_treatment1_unit &lt;chr&gt; | Metadata_treatment2_dose &lt;chr&gt; | \u22ef \u22ef | Metadata_Image_PathName_CL561 &lt;chr&gt; | Metadata_Image_PathName_DNA &lt;chr&gt; | Metadata_Image_PathName_GSDM &lt;chr&gt; | Metadata_Nuclei_Location_Center_X &lt;dbl&gt; | Metadata_Nuclei_Location_Center_Y &lt;dbl&gt; | Metadata_cells_per_well &lt;int&gt; | UMAP0 &lt;dbl&gt; | UMAP1 &lt;dbl&gt; | Metadata_timepoint &lt;dbl&gt; | Metadata_timepoint_hours &lt;chr&gt; |\n",
                            "|---|---|---|---|---|---|---|---|---|---|---|---|---|---|---|---|---|---|---|---|---|\n",
                            "| Media | C04 | 502 | 0001 | Media | 00 | NA | NA | NA | NA | \u22ef | /gpfs/alpine1/scratch/mlippincott@xsede.org/pyroptosis_live-cell_timelapse/Wave1_data/2.illumination_correction/illum_directory/W0052_F0001 | /gpfs/alpine1/scratch/mlippincott@xsede.org/pyroptosis_live-cell_timelapse/Wave1_data/2.illumination_correction/illum_directory/W0052_F0001 | /gpfs/alpine1/scratch/mlippincott@xsede.org/pyroptosis_live-cell_timelapse/Wave1_data/2.illumination_correction/illum_directory/W0052_F0001 | 1426.319 | 1051.753 | 56443 | 4.507235 | 0.8430272 | 1 | 1 hours |\n",
                            "\n"
                        ],
                        "text/plain": [
                            "  Metadata_treatment Metadata_Well Metadata_number_of_singlecells Metadata_FOV\n",
                            "1 Media              C04           502                            0001        \n",
                            "  Metadata_treatment1 Metadata_Time Metadata_treatment2\n",
                            "1 Media               00            NA                 \n",
                            "  Metadata_treatment1_dose Metadata_treatment1_unit Metadata_treatment2_dose \u22ef\n",
                            "1 NA                       NA                       NA                       \u22ef\n",
                            "  Metadata_Image_PathName_CL561                                                                                                              \n",
                            "1 /gpfs/alpine1/scratch/mlippincott@xsede.org/pyroptosis_live-cell_timelapse/Wave1_data/2.illumination_correction/illum_directory/W0052_F0001\n",
                            "  Metadata_Image_PathName_DNA                                                                                                                \n",
                            "1 /gpfs/alpine1/scratch/mlippincott@xsede.org/pyroptosis_live-cell_timelapse/Wave1_data/2.illumination_correction/illum_directory/W0052_F0001\n",
                            "  Metadata_Image_PathName_GSDM                                                                                                               \n",
                            "1 /gpfs/alpine1/scratch/mlippincott@xsede.org/pyroptosis_live-cell_timelapse/Wave1_data/2.illumination_correction/illum_directory/W0052_F0001\n",
                            "  Metadata_Nuclei_Location_Center_X Metadata_Nuclei_Location_Center_Y\n",
                            "1 1426.319                          1051.753                         \n",
                            "  Metadata_cells_per_well UMAP0    UMAP1     Metadata_timepoint\n",
                            "1 56443                   4.507235 0.8430272 1                 \n",
                            "  Metadata_timepoint_hours\n",
                            "1 1 hours                 "
                        ]
                    },
                    "metadata": {},
                    "output_type": "display_data"
                },
                {
                    "data": {
                        "text/html": [
                            "<table class=\"dataframe\">\n",
                            "<caption>A tibble: 1 \u00d7 35</caption>\n",
                            "<thead>\n",
                            "\t<tr><th scope=col>Metadata_treatment</th><th scope=col>Metadata_Well</th><th scope=col>Metadata_number_of_singlecells</th><th scope=col>Metadata_FOV</th><th scope=col>Metadata_treatment1</th><th scope=col>Metadata_Time</th><th scope=col>Metadata_treatment2</th><th scope=col>Metadata_treatment1_dose</th><th scope=col>Metadata_treatment1_unit</th><th scope=col>Metadata_treatment2_dose</th><th scope=col>\u22ef</th><th scope=col>Metadata_Image_PathName_BF</th><th scope=col>Metadata_Image_PathName_CL488</th><th scope=col>Metadata_Image_PathName_CL561</th><th scope=col>Metadata_Image_PathName_DNA</th><th scope=col>Metadata_Image_PathName_GSDM</th><th scope=col>Metadata_Nuclei_Location_Center_X</th><th scope=col>Metadata_Nuclei_Location_Center_Y</th><th scope=col>Metadata_cells_per_well</th><th scope=col>PCA0</th><th scope=col>PCA1</th></tr>\n",
                            "\t<tr><th scope=col>&lt;chr&gt;</th><th scope=col>&lt;chr&gt;</th><th scope=col>&lt;int&gt;</th><th scope=col>&lt;chr&gt;</th><th scope=col>&lt;chr&gt;</th><th scope=col>&lt;chr&gt;</th><th scope=col>&lt;chr&gt;</th><th scope=col>&lt;chr&gt;</th><th scope=col>&lt;chr&gt;</th><th scope=col>&lt;chr&gt;</th><th scope=col>\u22ef</th><th scope=col>&lt;chr&gt;</th><th scope=col>&lt;chr&gt;</th><th scope=col>&lt;chr&gt;</th><th scope=col>&lt;chr&gt;</th><th scope=col>&lt;chr&gt;</th><th scope=col>&lt;dbl&gt;</th><th scope=col>&lt;dbl&gt;</th><th scope=col>&lt;int&gt;</th><th scope=col>&lt;dbl&gt;</th><th scope=col>&lt;dbl&gt;</th></tr>\n",
                            "</thead>\n",
                            "<tbody>\n",
                            "\t<tr><td>Ab1-42 0.4 uM</td><td>N11</td><td>652</td><td>0002</td><td>Ab1-42</td><td>01</td><td>NA</td><td>0.4</td><td>uM</td><td>NA</td><td>\u22ef</td><td>/gpfs/alpine1/scratch/mlippincott@xsede.org/pyroptosis_live-cell_timelapse/Wave1_data/2.illumination_correction/illum_directory/W0323_F0002</td><td>/gpfs/alpine1/scratch/mlippincott@xsede.org/pyroptosis_live-cell_timelapse/Wave1_data/2.illumination_correction/illum_directory/W0323_F0002</td><td>/gpfs/alpine1/scratch/mlippincott@xsede.org/pyroptosis_live-cell_timelapse/Wave1_data/2.illumination_correction/illum_directory/W0323_F0002</td><td>/gpfs/alpine1/scratch/mlippincott@xsede.org/pyroptosis_live-cell_timelapse/Wave1_data/2.illumination_correction/illum_directory/W0323_F0002</td><td>/gpfs/alpine1/scratch/mlippincott@xsede.org/pyroptosis_live-cell_timelapse/Wave1_data/2.illumination_correction/illum_directory/W0323_F0002</td><td>16.93757</td><td>14.57341</td><td>68519</td><td>13923115</td><td>1941383</td></tr>\n",
                            "</tbody>\n",
                            "</table>\n"
                        ],
                        "text/latex": [
                            "A tibble: 1 \u00d7 35\n",
                            "\\begin{tabular}{lllllllllllllllllllll}\n",
                            " Metadata\\_treatment & Metadata\\_Well & Metadata\\_number\\_of\\_singlecells & Metadata\\_FOV & Metadata\\_treatment1 & Metadata\\_Time & Metadata\\_treatment2 & Metadata\\_treatment1\\_dose & Metadata\\_treatment1\\_unit & Metadata\\_treatment2\\_dose & \u22ef & Metadata\\_Image\\_PathName\\_BF & Metadata\\_Image\\_PathName\\_CL488 & Metadata\\_Image\\_PathName\\_CL561 & Metadata\\_Image\\_PathName\\_DNA & Metadata\\_Image\\_PathName\\_GSDM & Metadata\\_Nuclei\\_Location\\_Center\\_X & Metadata\\_Nuclei\\_Location\\_Center\\_Y & Metadata\\_cells\\_per\\_well & PCA0 & PCA1\\\\\n",
                            " <chr> & <chr> & <int> & <chr> & <chr> & <chr> & <chr> & <chr> & <chr> & <chr> & \u22ef & <chr> & <chr> & <chr> & <chr> & <chr> & <dbl> & <dbl> & <int> & <dbl> & <dbl>\\\\\n",
                            "\\hline\n",
                            "\t Ab1-42 0.4 uM & N11 & 652 & 0002 & Ab1-42 & 01 & NA & 0.4 & uM & NA & \u22ef & /gpfs/alpine1/scratch/mlippincott@xsede.org/pyroptosis\\_live-cell\\_timelapse/Wave1\\_data/2.illumination\\_correction/illum\\_directory/W0323\\_F0002 & /gpfs/alpine1/scratch/mlippincott@xsede.org/pyroptosis\\_live-cell\\_timelapse/Wave1\\_data/2.illumination\\_correction/illum\\_directory/W0323\\_F0002 & /gpfs/alpine1/scratch/mlippincott@xsede.org/pyroptosis\\_live-cell\\_timelapse/Wave1\\_data/2.illumination\\_correction/illum\\_directory/W0323\\_F0002 & /gpfs/alpine1/scratch/mlippincott@xsede.org/pyroptosis\\_live-cell\\_timelapse/Wave1\\_data/2.illumination\\_correction/illum\\_directory/W0323\\_F0002 & /gpfs/alpine1/scratch/mlippincott@xsede.org/pyroptosis\\_live-cell\\_timelapse/Wave1\\_data/2.illumination\\_correction/illum\\_directory/W0323\\_F0002 & 16.93757 & 14.57341 & 68519 & 13923115 & 1941383\\\\\n",
                            "\\end{tabular}\n"
                        ],
                        "text/markdown": [
                            "\n",
                            "A tibble: 1 \u00d7 35\n",
                            "\n",
                            "| Metadata_treatment &lt;chr&gt; | Metadata_Well &lt;chr&gt; | Metadata_number_of_singlecells &lt;int&gt; | Metadata_FOV &lt;chr&gt; | Metadata_treatment1 &lt;chr&gt; | Metadata_Time &lt;chr&gt; | Metadata_treatment2 &lt;chr&gt; | Metadata_treatment1_dose &lt;chr&gt; | Metadata_treatment1_unit &lt;chr&gt; | Metadata_treatment2_dose &lt;chr&gt; | \u22ef \u22ef | Metadata_Image_PathName_BF &lt;chr&gt; | Metadata_Image_PathName_CL488 &lt;chr&gt; | Metadata_Image_PathName_CL561 &lt;chr&gt; | Metadata_Image_PathName_DNA &lt;chr&gt; | Metadata_Image_PathName_GSDM &lt;chr&gt; | Metadata_Nuclei_Location_Center_X &lt;dbl&gt; | Metadata_Nuclei_Location_Center_Y &lt;dbl&gt; | Metadata_cells_per_well &lt;int&gt; | PCA0 &lt;dbl&gt; | PCA1 &lt;dbl&gt; |\n",
                            "|---|---|---|---|---|---|---|---|---|---|---|---|---|---|---|---|---|---|---|---|---|\n",
                            "| Ab1-42 0.4 uM | N11 | 652 | 0002 | Ab1-42 | 01 | NA | 0.4 | uM | NA | \u22ef | /gpfs/alpine1/scratch/mlippincott@xsede.org/pyroptosis_live-cell_timelapse/Wave1_data/2.illumination_correction/illum_directory/W0323_F0002 | /gpfs/alpine1/scratch/mlippincott@xsede.org/pyroptosis_live-cell_timelapse/Wave1_data/2.illumination_correction/illum_directory/W0323_F0002 | /gpfs/alpine1/scratch/mlippincott@xsede.org/pyroptosis_live-cell_timelapse/Wave1_data/2.illumination_correction/illum_directory/W0323_F0002 | /gpfs/alpine1/scratch/mlippincott@xsede.org/pyroptosis_live-cell_timelapse/Wave1_data/2.illumination_correction/illum_directory/W0323_F0002 | /gpfs/alpine1/scratch/mlippincott@xsede.org/pyroptosis_live-cell_timelapse/Wave1_data/2.illumination_correction/illum_directory/W0323_F0002 | 16.93757 | 14.57341 | 68519 | 13923115 | 1941383 |\n",
                            "\n"
                        ],
                        "text/plain": [
                            "  Metadata_treatment Metadata_Well Metadata_number_of_singlecells Metadata_FOV\n",
                            "1 Ab1-42 0.4 uM      N11           652                            0002        \n",
                            "  Metadata_treatment1 Metadata_Time Metadata_treatment2\n",
                            "1 Ab1-42              01            NA                 \n",
                            "  Metadata_treatment1_dose Metadata_treatment1_unit Metadata_treatment2_dose \u22ef\n",
                            "1 0.4                      uM                       NA                       \u22ef\n",
                            "  Metadata_Image_PathName_BF                                                                                                                 \n",
                            "1 /gpfs/alpine1/scratch/mlippincott@xsede.org/pyroptosis_live-cell_timelapse/Wave1_data/2.illumination_correction/illum_directory/W0323_F0002\n",
                            "  Metadata_Image_PathName_CL488                                                                                                              \n",
                            "1 /gpfs/alpine1/scratch/mlippincott@xsede.org/pyroptosis_live-cell_timelapse/Wave1_data/2.illumination_correction/illum_directory/W0323_F0002\n",
                            "  Metadata_Image_PathName_CL561                                                                                                              \n",
                            "1 /gpfs/alpine1/scratch/mlippincott@xsede.org/pyroptosis_live-cell_timelapse/Wave1_data/2.illumination_correction/illum_directory/W0323_F0002\n",
                            "  Metadata_Image_PathName_DNA                                                                                                                \n",
                            "1 /gpfs/alpine1/scratch/mlippincott@xsede.org/pyroptosis_live-cell_timelapse/Wave1_data/2.illumination_correction/illum_directory/W0323_F0002\n",
                            "  Metadata_Image_PathName_GSDM                                                                                                               \n",
                            "1 /gpfs/alpine1/scratch/mlippincott@xsede.org/pyroptosis_live-cell_timelapse/Wave1_data/2.illumination_correction/illum_directory/W0323_F0002\n",
                            "  Metadata_Nuclei_Location_Center_X Metadata_Nuclei_Location_Center_Y\n",
                            "1 16.93757                          14.57341                         \n",
                            "  Metadata_cells_per_well PCA0     PCA1   \n",
                            "1 68519                   13923115 1941383"
                        ]
                    },
                    "metadata": {},
                    "output_type": "display_data"
                },
                {
                    "data": {
                        "text/html": [
                            "<table class=\"dataframe\">\n",
                            "<caption>A tibble: 1 \u00d7 2</caption>\n",
                            "<thead>\n",
                            "\t<tr><th scope=col>Explained Variance</th><th scope=col>Principal Component</th></tr>\n",
                            "\t<tr><th scope=col>&lt;dbl&gt;</th><th scope=col>&lt;int&gt;</th></tr>\n",
                            "</thead>\n",
                            "<tbody>\n",
                            "\t<tr><td>0.5872091</td><td>1</td></tr>\n",
                            "</tbody>\n",
                            "</table>\n"
                        ],
                        "text/latex": [
                            "A tibble: 1 \u00d7 2\n",
                            "\\begin{tabular}{ll}\n",
                            " Explained Variance & Principal Component\\\\\n",
                            " <dbl> & <int>\\\\\n",
                            "\\hline\n",
                            "\t 0.5872091 & 1\\\\\n",
                            "\\end{tabular}\n"
                        ],
                        "text/markdown": [
                            "\n",
                            "A tibble: 1 \u00d7 2\n",
                            "\n",
                            "| Explained Variance &lt;dbl&gt; | Principal Component &lt;int&gt; |\n",
                            "|---|---|\n",
                            "| 0.5872091 | 1 |\n",
                            "\n"
                        ],
                        "text/plain": [
                            "  Explained Variance Principal Component\n",
                            "1 0.5872091          1                  "
                        ]
                    },
                    "metadata": {},
                    "output_type": "display_data"
                }
            ],
            "source": [
                "print(dim(umap_data))\n",
                "print(dim(pca_data))\n",
                "print(dim(scree_data))\n",
                "\n",
                "head(umap_data,1)\n",
                "head(pca_data,1)\n",
                "head(scree_data,1)"
            ]
        },
        {
            "cell_type": "code",
            "execution_count": 11,
            "metadata": {
                "vscode": {
                    "languageId": "r"
                }
            },
            "outputs": [
                {
                    "name": "stdout",
                    "output_type": "stream",
                    "text": [
                        "[1] 32892    37\n",
                        "[1] 3820888      35\n",
                        "[1] 32892    37\n",
                        "[1] 3820888      35\n"
                    ]
                }
            ],
            "source": [
                "print(dim(umap_data))\n",
                "print(dim(pca_data))\n",
                "\n",
                "# randomly mix the order of the rows to prevent plotting bias and artifacts\n",
                "umap_data <- umap_data[sample(nrow(umap_data)),]\n",
                "pca_data <- pca_data[sample(nrow(pca_data)),]\n",
                "\n",
                "print(dim(umap_data))\n",
                "print(dim(pca_data))"
            ]
        },
        {
            "cell_type": "code",
            "execution_count": 12,
            "metadata": {
                "vscode": {
                    "languageId": "r"
                }
            },
            "outputs": [
                {
                    "data": {
                        "text/html": [
                            "<style>\n",
                            ".list-inline {list-style: none; margin:0; padding: 0}\n",
                            ".list-inline>li {display: inline-block}\n",
                            ".list-inline>li:not(:last-child)::after {content: \"\\00b7\"; padding: 0 .5ex}\n",
                            "</style>\n",
                            "<ol class=list-inline><li>'Flagellin 1 ug/ml'</li><li>'LPS 1 ug/ml + Nigericin 0.5uM'</li><li>'H2O2 500 uM'</li><li>'LPS 10 ug/ml'</li><li>'Thapsigargin 0.5uM'</li><li>'LPS 1 ug/ml + ATP 2.5 mM'</li><li>'LPS 0.1 ug/ml'</li><li>'DMSO CTL'</li><li>'Flagellin 0.1 ug/ml'</li><li>'Ab1-42 0.4 uM'</li><li>'LPS 1 ug/ml + Nigericin 1 uM'</li><li>'H2O2 100 nM'</li><li>'Flagellin 10 ug/ml'</li><li>'LPS 1 ug/ml + Nigericin 0.1 uM'</li><li>'Thapsigargin 10 uM'</li><li>'Ab1-42 2 uM'</li><li>'LPS 1 ug/ml + Nigericin 3uM'</li><li>'H2O2 100 uM'</li><li>'Ab1-42 10 uM'</li><li>'LPS 1 ug/ml + Nigericin 5uM'</li><li>'LPS 1 ug/ml'</li><li>'Thapsigargin 1 uM'</li><li>'Media'</li></ol>\n"
                        ],
                        "text/latex": [
                            "\\begin{enumerate*}\n",
                            "\\item 'Flagellin 1 ug/ml'\n",
                            "\\item 'LPS 1 ug/ml + Nigericin 0.5uM'\n",
                            "\\item 'H2O2 500 uM'\n",
                            "\\item 'LPS 10 ug/ml'\n",
                            "\\item 'Thapsigargin 0.5uM'\n",
                            "\\item 'LPS 1 ug/ml + ATP 2.5 mM'\n",
                            "\\item 'LPS 0.1 ug/ml'\n",
                            "\\item 'DMSO CTL'\n",
                            "\\item 'Flagellin 0.1 ug/ml'\n",
                            "\\item 'Ab1-42 0.4 uM'\n",
                            "\\item 'LPS 1 ug/ml + Nigericin 1 uM'\n",
                            "\\item 'H2O2 100 nM'\n",
                            "\\item 'Flagellin 10 ug/ml'\n",
                            "\\item 'LPS 1 ug/ml + Nigericin 0.1 uM'\n",
                            "\\item 'Thapsigargin 10 uM'\n",
                            "\\item 'Ab1-42 2 uM'\n",
                            "\\item 'LPS 1 ug/ml + Nigericin 3uM'\n",
                            "\\item 'H2O2 100 uM'\n",
                            "\\item 'Ab1-42 10 uM'\n",
                            "\\item 'LPS 1 ug/ml + Nigericin 5uM'\n",
                            "\\item 'LPS 1 ug/ml'\n",
                            "\\item 'Thapsigargin 1 uM'\n",
                            "\\item 'Media'\n",
                            "\\end{enumerate*}\n"
                        ],
                        "text/markdown": [
                            "1. 'Flagellin 1 ug/ml'\n",
                            "2. 'LPS 1 ug/ml + Nigericin 0.5uM'\n",
                            "3. 'H2O2 500 uM'\n",
                            "4. 'LPS 10 ug/ml'\n",
                            "5. 'Thapsigargin 0.5uM'\n",
                            "6. 'LPS 1 ug/ml + ATP 2.5 mM'\n",
                            "7. 'LPS 0.1 ug/ml'\n",
                            "8. 'DMSO CTL'\n",
                            "9. 'Flagellin 0.1 ug/ml'\n",
                            "10. 'Ab1-42 0.4 uM'\n",
                            "11. 'LPS 1 ug/ml + Nigericin 1 uM'\n",
                            "12. 'H2O2 100 nM'\n",
                            "13. 'Flagellin 10 ug/ml'\n",
                            "14. 'LPS 1 ug/ml + Nigericin 0.1 uM'\n",
                            "15. 'Thapsigargin 10 uM'\n",
                            "16. 'Ab1-42 2 uM'\n",
                            "17. 'LPS 1 ug/ml + Nigericin 3uM'\n",
                            "18. 'H2O2 100 uM'\n",
                            "19. 'Ab1-42 10 uM'\n",
                            "20. 'LPS 1 ug/ml + Nigericin 5uM'\n",
                            "21. 'LPS 1 ug/ml'\n",
                            "22. 'Thapsigargin 1 uM'\n",
                            "23. 'Media'\n",
                            "\n",
                            "\n"
                        ],
                        "text/plain": [
                            " [1] \"Flagellin 1 ug/ml\"              \"LPS 1 ug/ml + Nigericin 0.5uM\" \n",
                            " [3] \"H2O2 500 uM\"                    \"LPS 10 ug/ml\"                  \n",
                            " [5] \"Thapsigargin 0.5uM\"             \"LPS 1 ug/ml + ATP 2.5 mM\"      \n",
                            " [7] \"LPS 0.1 ug/ml\"                  \"DMSO CTL\"                      \n",
                            " [9] \"Flagellin 0.1 ug/ml\"            \"Ab1-42 0.4 uM\"                 \n",
                            "[11] \"LPS 1 ug/ml + Nigericin 1 uM\"   \"H2O2 100 nM\"                   \n",
                            "[13] \"Flagellin 10 ug/ml\"             \"LPS 1 ug/ml + Nigericin 0.1 uM\"\n",
                            "[15] \"Thapsigargin 10 uM\"             \"Ab1-42 2 uM\"                   \n",
                            "[17] \"LPS 1 ug/ml + Nigericin 3uM\"    \"H2O2 100 uM\"                   \n",
                            "[19] \"Ab1-42 10 uM\"                   \"LPS 1 ug/ml + Nigericin 5uM\"   \n",
                            "[21] \"LPS 1 ug/ml\"                    \"Thapsigargin 1 uM\"             \n",
                            "[23] \"Media\"                         "
                        ]
                    },
                    "metadata": {},
                    "output_type": "display_data"
                },
                {
                    "data": {
                        "text/html": [
                            "<style>\n",
                            ".list-inline {list-style: none; margin:0; padding: 0}\n",
                            ".list-inline>li {display: inline-block}\n",
                            ".list-inline>li:not(:last-child)::after {content: \"\\00b7\"; padding: 0 .5ex}\n",
                            "</style>\n",
                            "<ol class=list-inline><li>Flagellin 1 ug/ml</li><li>LPS 1 ug/ml + Nigericin 0.5uM</li><li>H2O2 500 uM</li><li>LPS 10 ug/ml</li><li>Thapsigargin 0.5uM</li><li>LPS 1 ug/ml + ATP 2.5 mM</li><li>LPS 0.1 ug/ml</li><li>DMSO CTL</li><li>Flagellin 0.1 ug/ml</li><li>Ab1-42 0.4 uM</li><li>LPS 1 ug/ml + Nigericin 1 uM</li><li>H2O2 100 nM</li><li>Flagellin 10 ug/ml</li><li>LPS 1 ug/ml + Nigericin 0.1 uM</li><li>Thapsigargin 10 uM</li><li>Ab1-42 2 uM</li><li>LPS 1 ug/ml + Nigericin 3uM</li><li>H2O2 100 uM</li><li>Ab1-42 10 uM</li><li>LPS 1 ug/ml + Nigericin 5uM</li><li>LPS 1 ug/ml</li><li>Thapsigargin 1 uM</li><li>Media</li></ol>\n",
                            "\n",
                            "<details>\n",
                            "\t<summary style=display:list-item;cursor:pointer>\n",
                            "\t\t<strong>Levels</strong>:\n",
                            "\t</summary>\n",
                            "\t<style>\n",
                            "\t.list-inline {list-style: none; margin:0; padding: 0}\n",
                            "\t.list-inline>li {display: inline-block}\n",
                            "\t.list-inline>li:not(:last-child)::after {content: \"\\00b7\"; padding: 0 .5ex}\n",
                            "\t</style>\n",
                            "\t<ol class=list-inline><li>'Media'</li><li>'DMSO CTL'</li><li>'no Hoechst'</li><li>'LPS 0.1 ug/ml'</li><li>'LPS 1 ug/ml'</li><li>'LPS 10 ug/ml'</li><li>'LPS 1 ug/ml + ATP 2.5 mM'</li><li>'LPS 1 ug/ml + Nigericin 0.1 uM'</li><li>'LPS 1 ug/ml + Nigericin 0.5uM'</li><li>'LPS 1 ug/ml + Nigericin 1 uM'</li><li>'LPS 1 ug/ml + Nigericin 3uM'</li><li>'LPS 1 ug/ml + Nigericin 5uM'</li><li>'Flagellin 0.1 ug/ml'</li><li>'Flagellin 1 ug/ml'</li><li>'Flagellin 10 ug/ml'</li><li>'Thapsigargin 0.5uM'</li><li>'Thapsigargin 1 uM'</li><li>'Thapsigargin 10 uM'</li><li>'H2O2 100 nM'</li><li>'H2O2 100 uM'</li><li>'H2O2 500 uM'</li><li>'Ab1-42 0.4 uM'</li><li>'Ab1-42 2 uM'</li><li>'Ab1-42 10 uM'</li></ol>\n",
                            "</details>"
                        ],
                        "text/latex": [
                            "\\begin{enumerate*}\n",
                            "\\item Flagellin 1 ug/ml\n",
                            "\\item LPS 1 ug/ml + Nigericin 0.5uM\n",
                            "\\item H2O2 500 uM\n",
                            "\\item LPS 10 ug/ml\n",
                            "\\item Thapsigargin 0.5uM\n",
                            "\\item LPS 1 ug/ml + ATP 2.5 mM\n",
                            "\\item LPS 0.1 ug/ml\n",
                            "\\item DMSO CTL\n",
                            "\\item Flagellin 0.1 ug/ml\n",
                            "\\item Ab1-42 0.4 uM\n",
                            "\\item LPS 1 ug/ml + Nigericin 1 uM\n",
                            "\\item H2O2 100 nM\n",
                            "\\item Flagellin 10 ug/ml\n",
                            "\\item LPS 1 ug/ml + Nigericin 0.1 uM\n",
                            "\\item Thapsigargin 10 uM\n",
                            "\\item Ab1-42 2 uM\n",
                            "\\item LPS 1 ug/ml + Nigericin 3uM\n",
                            "\\item H2O2 100 uM\n",
                            "\\item Ab1-42 10 uM\n",
                            "\\item LPS 1 ug/ml + Nigericin 5uM\n",
                            "\\item LPS 1 ug/ml\n",
                            "\\item Thapsigargin 1 uM\n",
                            "\\item Media\n",
                            "\\end{enumerate*}\n",
                            "\n",
                            "\\emph{Levels}: \\begin{enumerate*}\n",
                            "\\item 'Media'\n",
                            "\\item 'DMSO CTL'\n",
                            "\\item 'no Hoechst'\n",
                            "\\item 'LPS 0.1 ug/ml'\n",
                            "\\item 'LPS 1 ug/ml'\n",
                            "\\item 'LPS 10 ug/ml'\n",
                            "\\item 'LPS 1 ug/ml + ATP 2.5 mM'\n",
                            "\\item 'LPS 1 ug/ml + Nigericin 0.1 uM'\n",
                            "\\item 'LPS 1 ug/ml + Nigericin 0.5uM'\n",
                            "\\item 'LPS 1 ug/ml + Nigericin 1 uM'\n",
                            "\\item 'LPS 1 ug/ml + Nigericin 3uM'\n",
                            "\\item 'LPS 1 ug/ml + Nigericin 5uM'\n",
                            "\\item 'Flagellin 0.1 ug/ml'\n",
                            "\\item 'Flagellin 1 ug/ml'\n",
                            "\\item 'Flagellin 10 ug/ml'\n",
                            "\\item 'Thapsigargin 0.5uM'\n",
                            "\\item 'Thapsigargin 1 uM'\n",
                            "\\item 'Thapsigargin 10 uM'\n",
                            "\\item 'H2O2 100 nM'\n",
                            "\\item 'H2O2 100 uM'\n",
                            "\\item 'H2O2 500 uM'\n",
                            "\\item 'Ab1-42 0.4 uM'\n",
                            "\\item 'Ab1-42 2 uM'\n",
                            "\\item 'Ab1-42 10 uM'\n",
                            "\\end{enumerate*}\n"
                        ],
                        "text/markdown": [
                            "1. Flagellin 1 ug/ml\n",
                            "2. LPS 1 ug/ml + Nigericin 0.5uM\n",
                            "3. H2O2 500 uM\n",
                            "4. LPS 10 ug/ml\n",
                            "5. Thapsigargin 0.5uM\n",
                            "6. LPS 1 ug/ml + ATP 2.5 mM\n",
                            "7. LPS 0.1 ug/ml\n",
                            "8. DMSO CTL\n",
                            "9. Flagellin 0.1 ug/ml\n",
                            "10. Ab1-42 0.4 uM\n",
                            "11. LPS 1 ug/ml + Nigericin 1 uM\n",
                            "12. H2O2 100 nM\n",
                            "13. Flagellin 10 ug/ml\n",
                            "14. LPS 1 ug/ml + Nigericin 0.1 uM\n",
                            "15. Thapsigargin 10 uM\n",
                            "16. Ab1-42 2 uM\n",
                            "17. LPS 1 ug/ml + Nigericin 3uM\n",
                            "18. H2O2 100 uM\n",
                            "19. Ab1-42 10 uM\n",
                            "20. LPS 1 ug/ml + Nigericin 5uM\n",
                            "21. LPS 1 ug/ml\n",
                            "22. Thapsigargin 1 uM\n",
                            "23. Media\n",
                            "\n",
                            "\n",
                            "\n",
                            "**Levels**: 1. 'Media'\n",
                            "2. 'DMSO CTL'\n",
                            "3. 'no Hoechst'\n",
                            "4. 'LPS 0.1 ug/ml'\n",
                            "5. 'LPS 1 ug/ml'\n",
                            "6. 'LPS 10 ug/ml'\n",
                            "7. 'LPS 1 ug/ml + ATP 2.5 mM'\n",
                            "8. 'LPS 1 ug/ml + Nigericin 0.1 uM'\n",
                            "9. 'LPS 1 ug/ml + Nigericin 0.5uM'\n",
                            "10. 'LPS 1 ug/ml + Nigericin 1 uM'\n",
                            "11. 'LPS 1 ug/ml + Nigericin 3uM'\n",
                            "12. 'LPS 1 ug/ml + Nigericin 5uM'\n",
                            "13. 'Flagellin 0.1 ug/ml'\n",
                            "14. 'Flagellin 1 ug/ml'\n",
                            "15. 'Flagellin 10 ug/ml'\n",
                            "16. 'Thapsigargin 0.5uM'\n",
                            "17. 'Thapsigargin 1 uM'\n",
                            "18. 'Thapsigargin 10 uM'\n",
                            "19. 'H2O2 100 nM'\n",
                            "20. 'H2O2 100 uM'\n",
                            "21. 'H2O2 500 uM'\n",
                            "22. 'Ab1-42 0.4 uM'\n",
                            "23. 'Ab1-42 2 uM'\n",
                            "24. 'Ab1-42 10 uM'\n",
                            "\n",
                            "\n"
                        ],
                        "text/plain": [
                            " [1] Flagellin 1 ug/ml              LPS 1 ug/ml + Nigericin 0.5uM \n",
                            " [3] H2O2 500 uM                    LPS 10 ug/ml                  \n",
                            " [5] Thapsigargin 0.5uM             LPS 1 ug/ml + ATP 2.5 mM      \n",
                            " [7] LPS 0.1 ug/ml                  DMSO CTL                      \n",
                            " [9] Flagellin 0.1 ug/ml            Ab1-42 0.4 uM                 \n",
                            "[11] LPS 1 ug/ml + Nigericin 1 uM   H2O2 100 nM                   \n",
                            "[13] Flagellin 10 ug/ml             LPS 1 ug/ml + Nigericin 0.1 uM\n",
                            "[15] Thapsigargin 10 uM             Ab1-42 2 uM                   \n",
                            "[17] LPS 1 ug/ml + Nigericin 3uM    H2O2 100 uM                   \n",
                            "[19] Ab1-42 10 uM                   LPS 1 ug/ml + Nigericin 5uM   \n",
                            "[21] LPS 1 ug/ml                    Thapsigargin 1 uM             \n",
                            "[23] Media                         \n",
                            "24 Levels: Media DMSO CTL no Hoechst LPS 0.1 ug/ml LPS 1 ug/ml ... Ab1-42 10 uM"
                        ]
                    },
                    "metadata": {},
                    "output_type": "display_data"
                }
            ],
            "source": [
                "unique(umap_data$Metadata_treatment)\n",
                "umap_data$Metadata_treatment <- factor(umap_data$Metadata_treatment, levels = c(\n",
                "    'Media',\n",
                "    'DMSO CTL',\n",
                "    'no Hoechst',\n",
                "\n",
                "    'LPS 0.1 ug/ml',\n",
                "    'LPS 1 ug/ml',\n",
                "    'LPS 10 ug/ml',\n",
                "    'LPS 1 ug/ml + ATP 2.5 mM',\n",
                "    'LPS 1 ug/ml + Nigericin 0.1 uM',\n",
                "    'LPS 1 ug/ml + Nigericin 0.5uM',\n",
                "    'LPS 1 ug/ml + Nigericin 1 uM',\n",
                "    'LPS 1 ug/ml + Nigericin 3uM',\n",
                "    'LPS 1 ug/ml + Nigericin 5uM',\n",
                "\n",
                "    'Flagellin 0.1 ug/ml',\n",
                "    'Flagellin 1 ug/ml',\n",
                "    'Flagellin 10 ug/ml',\n",
                "\n",
                "    'Thapsigargin 0.5uM',\n",
                "    'Thapsigargin 1 uM',\n",
                "    'Thapsigargin 10 uM',\n",
                "    'H2O2 100 nM',\n",
                "    'H2O2 100 uM',\n",
                "    'H2O2 500 uM',\n",
                "\n",
                "    'Ab1-42 0.4 uM',\n",
                "    'Ab1-42 2 uM',\n",
                "    'Ab1-42 10 uM'\n",
                "))\n",
                "unique(umap_data$Metadata_treatment)\n"
            ]
        },
        {
            "cell_type": "code",
            "execution_count": 13,
            "metadata": {
                "vscode": {
                    "languageId": "r"
                }
            },
            "outputs": [],
            "source": [
                "\n",
                "\n",
                "# 9 colors\n",
                "# col 1 - 3 hues\n",
                "# colorgrad1 <- c(\"white\", \"grey\", \"#585858\")\n",
                "colorgrad1 <- colorRampPalette(c(\"lightgrey\", \"grey\"))(3)\n",
                "# col 2 - 5 hues color ramp 5 hues\n",
                "colorgrad2 <- colorRampPalette(c(\"pink\", \"darkred\"))(11)\n",
                "# col 3 - 3 hues\n",
                "colorgrad3 <- colorRampPalette(c(\"yellow\", \"brown\"))(3)\n",
                "# col 4 - 3 hues\n",
                "colorgrad4 <- colorRampPalette(c(\"lightblue\", \"darkblue\"))(6)\n",
                "# col 5 - 2 hues\n",
                "colorgrad5 <- colorRampPalette(c(\"lightgreen\", \"darkgreen\"))(3)\n",
                "# col 6 - 3 hues\n",
                "colorgrad6 <- colorRampPalette(c(\"purple\", \"#2e004b\"))(3)\n",
                "# col 7 - 2 hues\n",
                "colorgrad7 <- colorRampPalette(c(\"cyan\", \"darkcyan\"))(4)\n",
                "# col 8 - 2 hues\n",
                "colorgrad8 <- colorRampPalette(c(\"#ebb676\", \"darkorange\"))(3)\n",
                "# col 9 - 3 hues\n",
                "colorgrad9 <- colorRampPalette(c(\"magenta\", \"#833b83\"))(3)"
            ]
        },
        {
            "cell_type": "code",
            "execution_count": 14,
            "metadata": {
                "vscode": {
                    "languageId": "r"
                }
            },
            "outputs": [],
            "source": [
                "# define the colors\n",
                "colors <- c(\n",
                "    'Media' = colorgrad1[1],\n",
                "    'DMSO CTL' = colorgrad1[2],\n",
                "    'no Hoechst' = colorgrad1[3],\n",
                "\n",
                "    'LPS 0.1 ug/ml' = colorgrad2[1],\n",
                "    'LPS 1 ug/ml' = colorgrad2[2],\n",
                "    'LPS 10 ug/ml' = colorgrad2[3],\n",
                "    'LPS 1 ug/ml + ATP 2.5 mM' = colorgrad2[4],\n",
                "    'LPS 1 ug/ml + Nigericin 0.1 uM' = colorgrad2[5],\n",
                "    'LPS 1 ug/ml + Nigericin 0.5uM' = colorgrad2[6],\n",
                "    'LPS 1 ug/ml + Nigericin 1 uM' = colorgrad2[7],\n",
                "    'LPS 1 ug/ml + Nigericin 3uM' = colorgrad2[8],\n",
                "    'LPS 1 ug/ml + Nigericin 5uM' = colorgrad2[9],\n",
                "\n",
                "    'Flagellin 0.1 ug/ml' = colorgrad5[1],\n",
                "    'Flagellin 1 ug/ml' = colorgrad5[2],\n",
                "    'Flagellin 10 ug/ml' = colorgrad5[3],\n",
                "\n",
                "    'Thapsigargin 0.5uM' = colorgrad8[1],\n",
                "    'Thapsigargin 1 uM' = colorgrad8[2],\n",
                "    'Thapsigargin 10 uM' = colorgrad8[3],\n",
                "    \n",
                "    'H2O2 100 nM' = colorgrad7[1],\n",
                "    'H2O2 100 uM' = colorgrad7[2],\n",
                "    'H2O2 500 uM' = colorgrad7[3],\n",
                "\n",
                "    'Ab1-42 0.4 uM' = colorgrad4[1],\n",
                "    'Ab1-42 2 uM' = colorgrad4[2],\n",
                "    'Ab1-42 10 uM' = colorgrad4[3]\n",
                ")"
            ]
        },
        {
            "cell_type": "code",
            "execution_count": 15,
            "metadata": {
                "vscode": {
                    "languageId": "r"
                }
            },
            "outputs": [
                {
                    "data": {
                        "text/html": [
                            "<table class=\"dataframe\">\n",
                            "<caption>A tibble: 6 \u00d7 37</caption>\n",
                            "<thead>\n",
                            "\t<tr><th scope=col>Metadata_treatment</th><th scope=col>Metadata_Well</th><th scope=col>Metadata_number_of_singlecells</th><th scope=col>Metadata_FOV</th><th scope=col>Metadata_treatment1</th><th scope=col>Metadata_Time</th><th scope=col>Metadata_treatment2</th><th scope=col>Metadata_treatment1_dose</th><th scope=col>Metadata_treatment1_unit</th><th scope=col>Metadata_treatment2_dose</th><th scope=col>\u22ef</th><th scope=col>Metadata_Image_PathName_CL561</th><th scope=col>Metadata_Image_PathName_DNA</th><th scope=col>Metadata_Image_PathName_GSDM</th><th scope=col>Metadata_Nuclei_Location_Center_X</th><th scope=col>Metadata_Nuclei_Location_Center_Y</th><th scope=col>Metadata_cells_per_well</th><th scope=col>UMAP0</th><th scope=col>UMAP1</th><th scope=col>Metadata_timepoint</th><th scope=col>Metadata_timepoint_hours</th></tr>\n",
                            "\t<tr><th scope=col>&lt;fct&gt;</th><th scope=col>&lt;chr&gt;</th><th scope=col>&lt;int&gt;</th><th scope=col>&lt;chr&gt;</th><th scope=col>&lt;chr&gt;</th><th scope=col>&lt;chr&gt;</th><th scope=col>&lt;chr&gt;</th><th scope=col>&lt;chr&gt;</th><th scope=col>&lt;chr&gt;</th><th scope=col>&lt;chr&gt;</th><th scope=col>\u22ef</th><th scope=col>&lt;chr&gt;</th><th scope=col>&lt;chr&gt;</th><th scope=col>&lt;chr&gt;</th><th scope=col>&lt;dbl&gt;</th><th scope=col>&lt;dbl&gt;</th><th scope=col>&lt;int&gt;</th><th scope=col>&lt;dbl&gt;</th><th scope=col>&lt;dbl&gt;</th><th scope=col>&lt;dbl&gt;</th><th scope=col>&lt;chr&gt;</th></tr>\n",
                            "</thead>\n",
                            "<tbody>\n",
                            "\t<tr><td>LPS 1 ug/ml + ATP 2.5 mM</td><td>G08</td><td>378</td><td>0001</td><td>LPS      </td><td>00</td><td>ATP</td><td>1  </td><td>ug/ml</td><td>2.5</td><td>\u22ef</td><td>/gpfs/alpine1/scratch/mlippincott@xsede.org/pyroptosis_live-cell_timelapse/Wave1_data/2.illumination_correction/illum_directory/W0152_F0001</td><td>/gpfs/alpine1/scratch/mlippincott@xsede.org/pyroptosis_live-cell_timelapse/Wave1_data/2.illumination_correction/illum_directory/W0152_F0001</td><td>/gpfs/alpine1/scratch/mlippincott@xsede.org/pyroptosis_live-cell_timelapse/Wave1_data/2.illumination_correction/illum_directory/W0152_F0001</td><td> 192.7695</td><td> 417.1523</td><td>39239</td><td>-0.2725063</td><td> 0.8213332</td><td>1</td><td>1 hours</td></tr>\n",
                            "\t<tr><td>Flagellin 10 ug/ml      </td><td>H04</td><td>419</td><td>0001</td><td>Flagellin</td><td>00</td><td>NA </td><td>10 </td><td>ug/ml</td><td>NA </td><td>\u22ef</td><td>/gpfs/alpine1/scratch/mlippincott@xsede.org/pyroptosis_live-cell_timelapse/Wave1_data/2.illumination_correction/illum_directory/W0172_F0001</td><td>/gpfs/alpine1/scratch/mlippincott@xsede.org/pyroptosis_live-cell_timelapse/Wave1_data/2.illumination_correction/illum_directory/W0172_F0001</td><td>/gpfs/alpine1/scratch/mlippincott@xsede.org/pyroptosis_live-cell_timelapse/Wave1_data/2.illumination_correction/illum_directory/W0172_F0001</td><td>1935.8476</td><td>1496.7722</td><td>49263</td><td> 2.5540144</td><td>-1.2589241</td><td>1</td><td>1 hours</td></tr>\n",
                            "\t<tr><td>Flagellin 0.1 ug/ml     </td><td>J06</td><td>432</td><td>0005</td><td>Flagellin</td><td>00</td><td>NA </td><td>0.1</td><td>ug/ml</td><td>NA </td><td>\u22ef</td><td>/gpfs/alpine1/scratch/mlippincott@xsede.org/pyroptosis_live-cell_timelapse/Wave1_data/2.illumination_correction/illum_directory/W0222_F0005</td><td>/gpfs/alpine1/scratch/mlippincott@xsede.org/pyroptosis_live-cell_timelapse/Wave1_data/2.illumination_correction/illum_directory/W0222_F0005</td><td>/gpfs/alpine1/scratch/mlippincott@xsede.org/pyroptosis_live-cell_timelapse/Wave1_data/2.illumination_correction/illum_directory/W0222_F0005</td><td> 190.9239</td><td>1093.7941</td><td>46820</td><td> 0.6835998</td><td> 0.8113541</td><td>1</td><td>1 hours</td></tr>\n",
                            "\t<tr><td>LPS 1 ug/ml + ATP 2.5 mM</td><td>G06</td><td>468</td><td>0003</td><td>LPS      </td><td>00</td><td>ATP</td><td>1  </td><td>ug/ml</td><td>2.5</td><td>\u22ef</td><td>/gpfs/alpine1/scratch/mlippincott@xsede.org/pyroptosis_live-cell_timelapse/Wave1_data/2.illumination_correction/illum_directory/W0150_F0003</td><td>/gpfs/alpine1/scratch/mlippincott@xsede.org/pyroptosis_live-cell_timelapse/Wave1_data/2.illumination_correction/illum_directory/W0150_F0003</td><td>/gpfs/alpine1/scratch/mlippincott@xsede.org/pyroptosis_live-cell_timelapse/Wave1_data/2.illumination_correction/illum_directory/W0150_F0003</td><td> 389.6216</td><td> 690.3729</td><td>35745</td><td> 3.1698720</td><td> 0.9466364</td><td>1</td><td>1 hours</td></tr>\n",
                            "\t<tr><td>Ab1-42 2 uM             </td><td>M11</td><td>613</td><td>0001</td><td>Ab1-42   </td><td>00</td><td>NA </td><td>2  </td><td>uM   </td><td>NA </td><td>\u22ef</td><td>/gpfs/alpine1/scratch/mlippincott@xsede.org/pyroptosis_live-cell_timelapse/Wave1_data/2.illumination_correction/illum_directory/W0299_F0001</td><td>/gpfs/alpine1/scratch/mlippincott@xsede.org/pyroptosis_live-cell_timelapse/Wave1_data/2.illumination_correction/illum_directory/W0299_F0001</td><td>/gpfs/alpine1/scratch/mlippincott@xsede.org/pyroptosis_live-cell_timelapse/Wave1_data/2.illumination_correction/illum_directory/W0299_F0001</td><td> 487.6335</td><td> 418.6684</td><td>68654</td><td> 0.3263702</td><td>-3.3908195</td><td>1</td><td>1 hours</td></tr>\n",
                            "\t<tr><td>Flagellin 0.1 ug/ml     </td><td>J08</td><td>376</td><td>0001</td><td>Flagellin</td><td>00</td><td>NA </td><td>0.1</td><td>ug/ml</td><td>NA </td><td>\u22ef</td><td>/gpfs/alpine1/scratch/mlippincott@xsede.org/pyroptosis_live-cell_timelapse/Wave1_data/2.illumination_correction/illum_directory/W0224_F0001</td><td>/gpfs/alpine1/scratch/mlippincott@xsede.org/pyroptosis_live-cell_timelapse/Wave1_data/2.illumination_correction/illum_directory/W0224_F0001</td><td>/gpfs/alpine1/scratch/mlippincott@xsede.org/pyroptosis_live-cell_timelapse/Wave1_data/2.illumination_correction/illum_directory/W0224_F0001</td><td>1142.8211</td><td>1759.5402</td><td>46217</td><td>-1.1130608</td><td>-0.7135559</td><td>1</td><td>1 hours</td></tr>\n",
                            "</tbody>\n",
                            "</table>\n"
                        ],
                        "text/latex": [
                            "A tibble: 6 \u00d7 37\n",
                            "\\begin{tabular}{lllllllllllllllllllll}\n",
                            " Metadata\\_treatment & Metadata\\_Well & Metadata\\_number\\_of\\_singlecells & Metadata\\_FOV & Metadata\\_treatment1 & Metadata\\_Time & Metadata\\_treatment2 & Metadata\\_treatment1\\_dose & Metadata\\_treatment1\\_unit & Metadata\\_treatment2\\_dose & \u22ef & Metadata\\_Image\\_PathName\\_CL561 & Metadata\\_Image\\_PathName\\_DNA & Metadata\\_Image\\_PathName\\_GSDM & Metadata\\_Nuclei\\_Location\\_Center\\_X & Metadata\\_Nuclei\\_Location\\_Center\\_Y & Metadata\\_cells\\_per\\_well & UMAP0 & UMAP1 & Metadata\\_timepoint & Metadata\\_timepoint\\_hours\\\\\n",
                            " <fct> & <chr> & <int> & <chr> & <chr> & <chr> & <chr> & <chr> & <chr> & <chr> & \u22ef & <chr> & <chr> & <chr> & <dbl> & <dbl> & <int> & <dbl> & <dbl> & <dbl> & <chr>\\\\\n",
                            "\\hline\n",
                            "\t LPS 1 ug/ml + ATP 2.5 mM & G08 & 378 & 0001 & LPS       & 00 & ATP & 1   & ug/ml & 2.5 & \u22ef & /gpfs/alpine1/scratch/mlippincott@xsede.org/pyroptosis\\_live-cell\\_timelapse/Wave1\\_data/2.illumination\\_correction/illum\\_directory/W0152\\_F0001 & /gpfs/alpine1/scratch/mlippincott@xsede.org/pyroptosis\\_live-cell\\_timelapse/Wave1\\_data/2.illumination\\_correction/illum\\_directory/W0152\\_F0001 & /gpfs/alpine1/scratch/mlippincott@xsede.org/pyroptosis\\_live-cell\\_timelapse/Wave1\\_data/2.illumination\\_correction/illum\\_directory/W0152\\_F0001 &  192.7695 &  417.1523 & 39239 & -0.2725063 &  0.8213332 & 1 & 1 hours\\\\\n",
                            "\t Flagellin 10 ug/ml       & H04 & 419 & 0001 & Flagellin & 00 & NA  & 10  & ug/ml & NA  & \u22ef & /gpfs/alpine1/scratch/mlippincott@xsede.org/pyroptosis\\_live-cell\\_timelapse/Wave1\\_data/2.illumination\\_correction/illum\\_directory/W0172\\_F0001 & /gpfs/alpine1/scratch/mlippincott@xsede.org/pyroptosis\\_live-cell\\_timelapse/Wave1\\_data/2.illumination\\_correction/illum\\_directory/W0172\\_F0001 & /gpfs/alpine1/scratch/mlippincott@xsede.org/pyroptosis\\_live-cell\\_timelapse/Wave1\\_data/2.illumination\\_correction/illum\\_directory/W0172\\_F0001 & 1935.8476 & 1496.7722 & 49263 &  2.5540144 & -1.2589241 & 1 & 1 hours\\\\\n",
                            "\t Flagellin 0.1 ug/ml      & J06 & 432 & 0005 & Flagellin & 00 & NA  & 0.1 & ug/ml & NA  & \u22ef & /gpfs/alpine1/scratch/mlippincott@xsede.org/pyroptosis\\_live-cell\\_timelapse/Wave1\\_data/2.illumination\\_correction/illum\\_directory/W0222\\_F0005 & /gpfs/alpine1/scratch/mlippincott@xsede.org/pyroptosis\\_live-cell\\_timelapse/Wave1\\_data/2.illumination\\_correction/illum\\_directory/W0222\\_F0005 & /gpfs/alpine1/scratch/mlippincott@xsede.org/pyroptosis\\_live-cell\\_timelapse/Wave1\\_data/2.illumination\\_correction/illum\\_directory/W0222\\_F0005 &  190.9239 & 1093.7941 & 46820 &  0.6835998 &  0.8113541 & 1 & 1 hours\\\\\n",
                            "\t LPS 1 ug/ml + ATP 2.5 mM & G06 & 468 & 0003 & LPS       & 00 & ATP & 1   & ug/ml & 2.5 & \u22ef & /gpfs/alpine1/scratch/mlippincott@xsede.org/pyroptosis\\_live-cell\\_timelapse/Wave1\\_data/2.illumination\\_correction/illum\\_directory/W0150\\_F0003 & /gpfs/alpine1/scratch/mlippincott@xsede.org/pyroptosis\\_live-cell\\_timelapse/Wave1\\_data/2.illumination\\_correction/illum\\_directory/W0150\\_F0003 & /gpfs/alpine1/scratch/mlippincott@xsede.org/pyroptosis\\_live-cell\\_timelapse/Wave1\\_data/2.illumination\\_correction/illum\\_directory/W0150\\_F0003 &  389.6216 &  690.3729 & 35745 &  3.1698720 &  0.9466364 & 1 & 1 hours\\\\\n",
                            "\t Ab1-42 2 uM              & M11 & 613 & 0001 & Ab1-42    & 00 & NA  & 2   & uM    & NA  & \u22ef & /gpfs/alpine1/scratch/mlippincott@xsede.org/pyroptosis\\_live-cell\\_timelapse/Wave1\\_data/2.illumination\\_correction/illum\\_directory/W0299\\_F0001 & /gpfs/alpine1/scratch/mlippincott@xsede.org/pyroptosis\\_live-cell\\_timelapse/Wave1\\_data/2.illumination\\_correction/illum\\_directory/W0299\\_F0001 & /gpfs/alpine1/scratch/mlippincott@xsede.org/pyroptosis\\_live-cell\\_timelapse/Wave1\\_data/2.illumination\\_correction/illum\\_directory/W0299\\_F0001 &  487.6335 &  418.6684 & 68654 &  0.3263702 & -3.3908195 & 1 & 1 hours\\\\\n",
                            "\t Flagellin 0.1 ug/ml      & J08 & 376 & 0001 & Flagellin & 00 & NA  & 0.1 & ug/ml & NA  & \u22ef & /gpfs/alpine1/scratch/mlippincott@xsede.org/pyroptosis\\_live-cell\\_timelapse/Wave1\\_data/2.illumination\\_correction/illum\\_directory/W0224\\_F0001 & /gpfs/alpine1/scratch/mlippincott@xsede.org/pyroptosis\\_live-cell\\_timelapse/Wave1\\_data/2.illumination\\_correction/illum\\_directory/W0224\\_F0001 & /gpfs/alpine1/scratch/mlippincott@xsede.org/pyroptosis\\_live-cell\\_timelapse/Wave1\\_data/2.illumination\\_correction/illum\\_directory/W0224\\_F0001 & 1142.8211 & 1759.5402 & 46217 & -1.1130608 & -0.7135559 & 1 & 1 hours\\\\\n",
                            "\\end{tabular}\n"
                        ],
                        "text/markdown": [
                            "\n",
                            "A tibble: 6 \u00d7 37\n",
                            "\n",
                            "| Metadata_treatment &lt;fct&gt; | Metadata_Well &lt;chr&gt; | Metadata_number_of_singlecells &lt;int&gt; | Metadata_FOV &lt;chr&gt; | Metadata_treatment1 &lt;chr&gt; | Metadata_Time &lt;chr&gt; | Metadata_treatment2 &lt;chr&gt; | Metadata_treatment1_dose &lt;chr&gt; | Metadata_treatment1_unit &lt;chr&gt; | Metadata_treatment2_dose &lt;chr&gt; | \u22ef \u22ef | Metadata_Image_PathName_CL561 &lt;chr&gt; | Metadata_Image_PathName_DNA &lt;chr&gt; | Metadata_Image_PathName_GSDM &lt;chr&gt; | Metadata_Nuclei_Location_Center_X &lt;dbl&gt; | Metadata_Nuclei_Location_Center_Y &lt;dbl&gt; | Metadata_cells_per_well &lt;int&gt; | UMAP0 &lt;dbl&gt; | UMAP1 &lt;dbl&gt; | Metadata_timepoint &lt;dbl&gt; | Metadata_timepoint_hours &lt;chr&gt; |\n",
                            "|---|---|---|---|---|---|---|---|---|---|---|---|---|---|---|---|---|---|---|---|---|\n",
                            "| LPS 1 ug/ml + ATP 2.5 mM | G08 | 378 | 0001 | LPS       | 00 | ATP | 1   | ug/ml | 2.5 | \u22ef | /gpfs/alpine1/scratch/mlippincott@xsede.org/pyroptosis_live-cell_timelapse/Wave1_data/2.illumination_correction/illum_directory/W0152_F0001 | /gpfs/alpine1/scratch/mlippincott@xsede.org/pyroptosis_live-cell_timelapse/Wave1_data/2.illumination_correction/illum_directory/W0152_F0001 | /gpfs/alpine1/scratch/mlippincott@xsede.org/pyroptosis_live-cell_timelapse/Wave1_data/2.illumination_correction/illum_directory/W0152_F0001 |  192.7695 |  417.1523 | 39239 | -0.2725063 |  0.8213332 | 1 | 1 hours |\n",
                            "| Flagellin 10 ug/ml       | H04 | 419 | 0001 | Flagellin | 00 | NA  | 10  | ug/ml | NA  | \u22ef | /gpfs/alpine1/scratch/mlippincott@xsede.org/pyroptosis_live-cell_timelapse/Wave1_data/2.illumination_correction/illum_directory/W0172_F0001 | /gpfs/alpine1/scratch/mlippincott@xsede.org/pyroptosis_live-cell_timelapse/Wave1_data/2.illumination_correction/illum_directory/W0172_F0001 | /gpfs/alpine1/scratch/mlippincott@xsede.org/pyroptosis_live-cell_timelapse/Wave1_data/2.illumination_correction/illum_directory/W0172_F0001 | 1935.8476 | 1496.7722 | 49263 |  2.5540144 | -1.2589241 | 1 | 1 hours |\n",
                            "| Flagellin 0.1 ug/ml      | J06 | 432 | 0005 | Flagellin | 00 | NA  | 0.1 | ug/ml | NA  | \u22ef | /gpfs/alpine1/scratch/mlippincott@xsede.org/pyroptosis_live-cell_timelapse/Wave1_data/2.illumination_correction/illum_directory/W0222_F0005 | /gpfs/alpine1/scratch/mlippincott@xsede.org/pyroptosis_live-cell_timelapse/Wave1_data/2.illumination_correction/illum_directory/W0222_F0005 | /gpfs/alpine1/scratch/mlippincott@xsede.org/pyroptosis_live-cell_timelapse/Wave1_data/2.illumination_correction/illum_directory/W0222_F0005 |  190.9239 | 1093.7941 | 46820 |  0.6835998 |  0.8113541 | 1 | 1 hours |\n",
                            "| LPS 1 ug/ml + ATP 2.5 mM | G06 | 468 | 0003 | LPS       | 00 | ATP | 1   | ug/ml | 2.5 | \u22ef | /gpfs/alpine1/scratch/mlippincott@xsede.org/pyroptosis_live-cell_timelapse/Wave1_data/2.illumination_correction/illum_directory/W0150_F0003 | /gpfs/alpine1/scratch/mlippincott@xsede.org/pyroptosis_live-cell_timelapse/Wave1_data/2.illumination_correction/illum_directory/W0150_F0003 | /gpfs/alpine1/scratch/mlippincott@xsede.org/pyroptosis_live-cell_timelapse/Wave1_data/2.illumination_correction/illum_directory/W0150_F0003 |  389.6216 |  690.3729 | 35745 |  3.1698720 |  0.9466364 | 1 | 1 hours |\n",
                            "| Ab1-42 2 uM              | M11 | 613 | 0001 | Ab1-42    | 00 | NA  | 2   | uM    | NA  | \u22ef | /gpfs/alpine1/scratch/mlippincott@xsede.org/pyroptosis_live-cell_timelapse/Wave1_data/2.illumination_correction/illum_directory/W0299_F0001 | /gpfs/alpine1/scratch/mlippincott@xsede.org/pyroptosis_live-cell_timelapse/Wave1_data/2.illumination_correction/illum_directory/W0299_F0001 | /gpfs/alpine1/scratch/mlippincott@xsede.org/pyroptosis_live-cell_timelapse/Wave1_data/2.illumination_correction/illum_directory/W0299_F0001 |  487.6335 |  418.6684 | 68654 |  0.3263702 | -3.3908195 | 1 | 1 hours |\n",
                            "| Flagellin 0.1 ug/ml      | J08 | 376 | 0001 | Flagellin | 00 | NA  | 0.1 | ug/ml | NA  | \u22ef | /gpfs/alpine1/scratch/mlippincott@xsede.org/pyroptosis_live-cell_timelapse/Wave1_data/2.illumination_correction/illum_directory/W0224_F0001 | /gpfs/alpine1/scratch/mlippincott@xsede.org/pyroptosis_live-cell_timelapse/Wave1_data/2.illumination_correction/illum_directory/W0224_F0001 | /gpfs/alpine1/scratch/mlippincott@xsede.org/pyroptosis_live-cell_timelapse/Wave1_data/2.illumination_correction/illum_directory/W0224_F0001 | 1142.8211 | 1759.5402 | 46217 | -1.1130608 | -0.7135559 | 1 | 1 hours |\n",
                            "\n"
                        ],
                        "text/plain": [
                            "  Metadata_treatment       Metadata_Well Metadata_number_of_singlecells\n",
                            "1 LPS 1 ug/ml + ATP 2.5 mM G08           378                           \n",
                            "2 Flagellin 10 ug/ml       H04           419                           \n",
                            "3 Flagellin 0.1 ug/ml      J06           432                           \n",
                            "4 LPS 1 ug/ml + ATP 2.5 mM G06           468                           \n",
                            "5 Ab1-42 2 uM              M11           613                           \n",
                            "6 Flagellin 0.1 ug/ml      J08           376                           \n",
                            "  Metadata_FOV Metadata_treatment1 Metadata_Time Metadata_treatment2\n",
                            "1 0001         LPS                 00            ATP                \n",
                            "2 0001         Flagellin           00            NA                 \n",
                            "3 0005         Flagellin           00            NA                 \n",
                            "4 0003         LPS                 00            ATP                \n",
                            "5 0001         Ab1-42              00            NA                 \n",
                            "6 0001         Flagellin           00            NA                 \n",
                            "  Metadata_treatment1_dose Metadata_treatment1_unit Metadata_treatment2_dose \u22ef\n",
                            "1 1                        ug/ml                    2.5                      \u22ef\n",
                            "2 10                       ug/ml                    NA                       \u22ef\n",
                            "3 0.1                      ug/ml                    NA                       \u22ef\n",
                            "4 1                        ug/ml                    2.5                      \u22ef\n",
                            "5 2                        uM                       NA                       \u22ef\n",
                            "6 0.1                      ug/ml                    NA                       \u22ef\n",
                            "  Metadata_Image_PathName_CL561                                                                                                              \n",
                            "1 /gpfs/alpine1/scratch/mlippincott@xsede.org/pyroptosis_live-cell_timelapse/Wave1_data/2.illumination_correction/illum_directory/W0152_F0001\n",
                            "2 /gpfs/alpine1/scratch/mlippincott@xsede.org/pyroptosis_live-cell_timelapse/Wave1_data/2.illumination_correction/illum_directory/W0172_F0001\n",
                            "3 /gpfs/alpine1/scratch/mlippincott@xsede.org/pyroptosis_live-cell_timelapse/Wave1_data/2.illumination_correction/illum_directory/W0222_F0005\n",
                            "4 /gpfs/alpine1/scratch/mlippincott@xsede.org/pyroptosis_live-cell_timelapse/Wave1_data/2.illumination_correction/illum_directory/W0150_F0003\n",
                            "5 /gpfs/alpine1/scratch/mlippincott@xsede.org/pyroptosis_live-cell_timelapse/Wave1_data/2.illumination_correction/illum_directory/W0299_F0001\n",
                            "6 /gpfs/alpine1/scratch/mlippincott@xsede.org/pyroptosis_live-cell_timelapse/Wave1_data/2.illumination_correction/illum_directory/W0224_F0001\n",
                            "  Metadata_Image_PathName_DNA                                                                                                                \n",
                            "1 /gpfs/alpine1/scratch/mlippincott@xsede.org/pyroptosis_live-cell_timelapse/Wave1_data/2.illumination_correction/illum_directory/W0152_F0001\n",
                            "2 /gpfs/alpine1/scratch/mlippincott@xsede.org/pyroptosis_live-cell_timelapse/Wave1_data/2.illumination_correction/illum_directory/W0172_F0001\n",
                            "3 /gpfs/alpine1/scratch/mlippincott@xsede.org/pyroptosis_live-cell_timelapse/Wave1_data/2.illumination_correction/illum_directory/W0222_F0005\n",
                            "4 /gpfs/alpine1/scratch/mlippincott@xsede.org/pyroptosis_live-cell_timelapse/Wave1_data/2.illumination_correction/illum_directory/W0150_F0003\n",
                            "5 /gpfs/alpine1/scratch/mlippincott@xsede.org/pyroptosis_live-cell_timelapse/Wave1_data/2.illumination_correction/illum_directory/W0299_F0001\n",
                            "6 /gpfs/alpine1/scratch/mlippincott@xsede.org/pyroptosis_live-cell_timelapse/Wave1_data/2.illumination_correction/illum_directory/W0224_F0001\n",
                            "  Metadata_Image_PathName_GSDM                                                                                                               \n",
                            "1 /gpfs/alpine1/scratch/mlippincott@xsede.org/pyroptosis_live-cell_timelapse/Wave1_data/2.illumination_correction/illum_directory/W0152_F0001\n",
                            "2 /gpfs/alpine1/scratch/mlippincott@xsede.org/pyroptosis_live-cell_timelapse/Wave1_data/2.illumination_correction/illum_directory/W0172_F0001\n",
                            "3 /gpfs/alpine1/scratch/mlippincott@xsede.org/pyroptosis_live-cell_timelapse/Wave1_data/2.illumination_correction/illum_directory/W0222_F0005\n",
                            "4 /gpfs/alpine1/scratch/mlippincott@xsede.org/pyroptosis_live-cell_timelapse/Wave1_data/2.illumination_correction/illum_directory/W0150_F0003\n",
                            "5 /gpfs/alpine1/scratch/mlippincott@xsede.org/pyroptosis_live-cell_timelapse/Wave1_data/2.illumination_correction/illum_directory/W0299_F0001\n",
                            "6 /gpfs/alpine1/scratch/mlippincott@xsede.org/pyroptosis_live-cell_timelapse/Wave1_data/2.illumination_correction/illum_directory/W0224_F0001\n",
                            "  Metadata_Nuclei_Location_Center_X Metadata_Nuclei_Location_Center_Y\n",
                            "1  192.7695                          417.1523                        \n",
                            "2 1935.8476                         1496.7722                        \n",
                            "3  190.9239                         1093.7941                        \n",
                            "4  389.6216                          690.3729                        \n",
                            "5  487.6335                          418.6684                        \n",
                            "6 1142.8211                         1759.5402                        \n",
                            "  Metadata_cells_per_well UMAP0      UMAP1      Metadata_timepoint\n",
                            "1 39239                   -0.2725063  0.8213332 1                 \n",
                            "2 49263                    2.5540144 -1.2589241 1                 \n",
                            "3 46820                    0.6835998  0.8113541 1                 \n",
                            "4 35745                    3.1698720  0.9466364 1                 \n",
                            "5 68654                    0.3263702 -3.3908195 1                 \n",
                            "6 46217                   -1.1130608 -0.7135559 1                 \n",
                            "  Metadata_timepoint_hours\n",
                            "1 1 hours                 \n",
                            "2 1 hours                 \n",
                            "3 1 hours                 \n",
                            "4 1 hours                 \n",
                            "5 1 hours                 \n",
                            "6 1 hours                 "
                        ]
                    },
                    "metadata": {},
                    "output_type": "display_data"
                }
            ],
            "source": [
                "# order the df by time \n",
                "umap_data <- umap_data %>% arrange(Metadata_Time)\n",
                "head(umap_data)"
            ]
        },
        {
            "cell_type": "code",
            "execution_count": 16,
            "metadata": {
                "vscode": {
                    "languageId": "r"
                }
            },
            "outputs": [
                {
                    "data": {
                        "text/html": [
                            "<table class=\"dataframe\">\n",
                            "<caption>A tibble: 6 \u00d7 38</caption>\n",
                            "<thead>\n",
                            "\t<tr><th scope=col>Metadata_treatment_original</th><th scope=col>Metadata_Well</th><th scope=col>Metadata_number_of_singlecells</th><th scope=col>Metadata_FOV</th><th scope=col>Metadata_treatment1</th><th scope=col>Metadata_Time</th><th scope=col>Metadata_treatment2</th><th scope=col>Metadata_treatment1_dose</th><th scope=col>Metadata_treatment1_unit</th><th scope=col>Metadata_treatment2_dose</th><th scope=col>\u22ef</th><th scope=col>Metadata_Image_PathName_DNA</th><th scope=col>Metadata_Image_PathName_GSDM</th><th scope=col>Metadata_Nuclei_Location_Center_X</th><th scope=col>Metadata_Nuclei_Location_Center_Y</th><th scope=col>Metadata_cells_per_well</th><th scope=col>UMAP0</th><th scope=col>UMAP1</th><th scope=col>Metadata_timepoint</th><th scope=col>Metadata_timepoint_hours</th><th scope=col>Metadata_treatment</th></tr>\n",
                            "\t<tr><th scope=col>&lt;fct&gt;</th><th scope=col>&lt;chr&gt;</th><th scope=col>&lt;int&gt;</th><th scope=col>&lt;chr&gt;</th><th scope=col>&lt;chr&gt;</th><th scope=col>&lt;chr&gt;</th><th scope=col>&lt;chr&gt;</th><th scope=col>&lt;chr&gt;</th><th scope=col>&lt;chr&gt;</th><th scope=col>&lt;chr&gt;</th><th scope=col>\u22ef</th><th scope=col>&lt;chr&gt;</th><th scope=col>&lt;chr&gt;</th><th scope=col>&lt;dbl&gt;</th><th scope=col>&lt;dbl&gt;</th><th scope=col>&lt;int&gt;</th><th scope=col>&lt;dbl&gt;</th><th scope=col>&lt;dbl&gt;</th><th scope=col>&lt;dbl&gt;</th><th scope=col>&lt;chr&gt;</th><th scope=col>&lt;fct&gt;</th></tr>\n",
                            "</thead>\n",
                            "<tbody>\n",
                            "\t<tr><td>Media</td><td>C04</td><td>306</td><td>0004</td><td>Media</td><td>03</td><td>NA</td><td>NA</td><td>NA</td><td>NA</td><td>\u22ef</td><td>/gpfs/alpine1/scratch/mlippincott@xsede.org/pyroptosis_live-cell_timelapse/Wave1_data/2.illumination_correction/illum_directory/W0052_F0004</td><td>/gpfs/alpine1/scratch/mlippincott@xsede.org/pyroptosis_live-cell_timelapse/Wave1_data/2.illumination_correction/illum_directory/W0052_F0004</td><td>1669.406</td><td>1051.072</td><td>56443</td><td>-0.8967128</td><td>2.37334</td><td>10</td><td>10 hours</td><td>Media        </td></tr>\n",
                            "\t<tr><td>Media</td><td>C04</td><td>306</td><td>0004</td><td>Media</td><td>03</td><td>NA</td><td>NA</td><td>NA</td><td>NA</td><td>\u22ef</td><td>/gpfs/alpine1/scratch/mlippincott@xsede.org/pyroptosis_live-cell_timelapse/Wave1_data/2.illumination_correction/illum_directory/W0052_F0004</td><td>/gpfs/alpine1/scratch/mlippincott@xsede.org/pyroptosis_live-cell_timelapse/Wave1_data/2.illumination_correction/illum_directory/W0052_F0004</td><td>1669.406</td><td>1051.072</td><td>56443</td><td>-0.8967128</td><td>2.37334</td><td>10</td><td>10 hours</td><td>DMSO CTL     </td></tr>\n",
                            "\t<tr><td>Media</td><td>C04</td><td>306</td><td>0004</td><td>Media</td><td>03</td><td>NA</td><td>NA</td><td>NA</td><td>NA</td><td>\u22ef</td><td>/gpfs/alpine1/scratch/mlippincott@xsede.org/pyroptosis_live-cell_timelapse/Wave1_data/2.illumination_correction/illum_directory/W0052_F0004</td><td>/gpfs/alpine1/scratch/mlippincott@xsede.org/pyroptosis_live-cell_timelapse/Wave1_data/2.illumination_correction/illum_directory/W0052_F0004</td><td>1669.406</td><td>1051.072</td><td>56443</td><td>-0.8967128</td><td>2.37334</td><td>10</td><td>10 hours</td><td>no Hoechst   </td></tr>\n",
                            "\t<tr><td>Media</td><td>C04</td><td>306</td><td>0004</td><td>Media</td><td>03</td><td>NA</td><td>NA</td><td>NA</td><td>NA</td><td>\u22ef</td><td>/gpfs/alpine1/scratch/mlippincott@xsede.org/pyroptosis_live-cell_timelapse/Wave1_data/2.illumination_correction/illum_directory/W0052_F0004</td><td>/gpfs/alpine1/scratch/mlippincott@xsede.org/pyroptosis_live-cell_timelapse/Wave1_data/2.illumination_correction/illum_directory/W0052_F0004</td><td>1669.406</td><td>1051.072</td><td>56443</td><td>-0.8967128</td><td>2.37334</td><td>10</td><td>10 hours</td><td>LPS 0.1 ug/ml</td></tr>\n",
                            "\t<tr><td>Media</td><td>C04</td><td>306</td><td>0004</td><td>Media</td><td>03</td><td>NA</td><td>NA</td><td>NA</td><td>NA</td><td>\u22ef</td><td>/gpfs/alpine1/scratch/mlippincott@xsede.org/pyroptosis_live-cell_timelapse/Wave1_data/2.illumination_correction/illum_directory/W0052_F0004</td><td>/gpfs/alpine1/scratch/mlippincott@xsede.org/pyroptosis_live-cell_timelapse/Wave1_data/2.illumination_correction/illum_directory/W0052_F0004</td><td>1669.406</td><td>1051.072</td><td>56443</td><td>-0.8967128</td><td>2.37334</td><td>10</td><td>10 hours</td><td>LPS 1 ug/ml  </td></tr>\n",
                            "\t<tr><td>Media</td><td>C04</td><td>306</td><td>0004</td><td>Media</td><td>03</td><td>NA</td><td>NA</td><td>NA</td><td>NA</td><td>\u22ef</td><td>/gpfs/alpine1/scratch/mlippincott@xsede.org/pyroptosis_live-cell_timelapse/Wave1_data/2.illumination_correction/illum_directory/W0052_F0004</td><td>/gpfs/alpine1/scratch/mlippincott@xsede.org/pyroptosis_live-cell_timelapse/Wave1_data/2.illumination_correction/illum_directory/W0052_F0004</td><td>1669.406</td><td>1051.072</td><td>56443</td><td>-0.8967128</td><td>2.37334</td><td>10</td><td>10 hours</td><td>LPS 10 ug/ml </td></tr>\n",
                            "</tbody>\n",
                            "</table>\n"
                        ],
                        "text/latex": [
                            "A tibble: 6 \u00d7 38\n",
                            "\\begin{tabular}{lllllllllllllllllllll}\n",
                            " Metadata\\_treatment\\_original & Metadata\\_Well & Metadata\\_number\\_of\\_singlecells & Metadata\\_FOV & Metadata\\_treatment1 & Metadata\\_Time & Metadata\\_treatment2 & Metadata\\_treatment1\\_dose & Metadata\\_treatment1\\_unit & Metadata\\_treatment2\\_dose & \u22ef & Metadata\\_Image\\_PathName\\_DNA & Metadata\\_Image\\_PathName\\_GSDM & Metadata\\_Nuclei\\_Location\\_Center\\_X & Metadata\\_Nuclei\\_Location\\_Center\\_Y & Metadata\\_cells\\_per\\_well & UMAP0 & UMAP1 & Metadata\\_timepoint & Metadata\\_timepoint\\_hours & Metadata\\_treatment\\\\\n",
                            " <fct> & <chr> & <int> & <chr> & <chr> & <chr> & <chr> & <chr> & <chr> & <chr> & \u22ef & <chr> & <chr> & <dbl> & <dbl> & <int> & <dbl> & <dbl> & <dbl> & <chr> & <fct>\\\\\n",
                            "\\hline\n",
                            "\t Media & C04 & 306 & 0004 & Media & 03 & NA & NA & NA & NA & \u22ef & /gpfs/alpine1/scratch/mlippincott@xsede.org/pyroptosis\\_live-cell\\_timelapse/Wave1\\_data/2.illumination\\_correction/illum\\_directory/W0052\\_F0004 & /gpfs/alpine1/scratch/mlippincott@xsede.org/pyroptosis\\_live-cell\\_timelapse/Wave1\\_data/2.illumination\\_correction/illum\\_directory/W0052\\_F0004 & 1669.406 & 1051.072 & 56443 & -0.8967128 & 2.37334 & 10 & 10 hours & Media        \\\\\n",
                            "\t Media & C04 & 306 & 0004 & Media & 03 & NA & NA & NA & NA & \u22ef & /gpfs/alpine1/scratch/mlippincott@xsede.org/pyroptosis\\_live-cell\\_timelapse/Wave1\\_data/2.illumination\\_correction/illum\\_directory/W0052\\_F0004 & /gpfs/alpine1/scratch/mlippincott@xsede.org/pyroptosis\\_live-cell\\_timelapse/Wave1\\_data/2.illumination\\_correction/illum\\_directory/W0052\\_F0004 & 1669.406 & 1051.072 & 56443 & -0.8967128 & 2.37334 & 10 & 10 hours & DMSO CTL     \\\\\n",
                            "\t Media & C04 & 306 & 0004 & Media & 03 & NA & NA & NA & NA & \u22ef & /gpfs/alpine1/scratch/mlippincott@xsede.org/pyroptosis\\_live-cell\\_timelapse/Wave1\\_data/2.illumination\\_correction/illum\\_directory/W0052\\_F0004 & /gpfs/alpine1/scratch/mlippincott@xsede.org/pyroptosis\\_live-cell\\_timelapse/Wave1\\_data/2.illumination\\_correction/illum\\_directory/W0052\\_F0004 & 1669.406 & 1051.072 & 56443 & -0.8967128 & 2.37334 & 10 & 10 hours & no Hoechst   \\\\\n",
                            "\t Media & C04 & 306 & 0004 & Media & 03 & NA & NA & NA & NA & \u22ef & /gpfs/alpine1/scratch/mlippincott@xsede.org/pyroptosis\\_live-cell\\_timelapse/Wave1\\_data/2.illumination\\_correction/illum\\_directory/W0052\\_F0004 & /gpfs/alpine1/scratch/mlippincott@xsede.org/pyroptosis\\_live-cell\\_timelapse/Wave1\\_data/2.illumination\\_correction/illum\\_directory/W0052\\_F0004 & 1669.406 & 1051.072 & 56443 & -0.8967128 & 2.37334 & 10 & 10 hours & LPS 0.1 ug/ml\\\\\n",
                            "\t Media & C04 & 306 & 0004 & Media & 03 & NA & NA & NA & NA & \u22ef & /gpfs/alpine1/scratch/mlippincott@xsede.org/pyroptosis\\_live-cell\\_timelapse/Wave1\\_data/2.illumination\\_correction/illum\\_directory/W0052\\_F0004 & /gpfs/alpine1/scratch/mlippincott@xsede.org/pyroptosis\\_live-cell\\_timelapse/Wave1\\_data/2.illumination\\_correction/illum\\_directory/W0052\\_F0004 & 1669.406 & 1051.072 & 56443 & -0.8967128 & 2.37334 & 10 & 10 hours & LPS 1 ug/ml  \\\\\n",
                            "\t Media & C04 & 306 & 0004 & Media & 03 & NA & NA & NA & NA & \u22ef & /gpfs/alpine1/scratch/mlippincott@xsede.org/pyroptosis\\_live-cell\\_timelapse/Wave1\\_data/2.illumination\\_correction/illum\\_directory/W0052\\_F0004 & /gpfs/alpine1/scratch/mlippincott@xsede.org/pyroptosis\\_live-cell\\_timelapse/Wave1\\_data/2.illumination\\_correction/illum\\_directory/W0052\\_F0004 & 1669.406 & 1051.072 & 56443 & -0.8967128 & 2.37334 & 10 & 10 hours & LPS 10 ug/ml \\\\\n",
                            "\\end{tabular}\n"
                        ],
                        "text/markdown": [
                            "\n",
                            "A tibble: 6 \u00d7 38\n",
                            "\n",
                            "| Metadata_treatment_original &lt;fct&gt; | Metadata_Well &lt;chr&gt; | Metadata_number_of_singlecells &lt;int&gt; | Metadata_FOV &lt;chr&gt; | Metadata_treatment1 &lt;chr&gt; | Metadata_Time &lt;chr&gt; | Metadata_treatment2 &lt;chr&gt; | Metadata_treatment1_dose &lt;chr&gt; | Metadata_treatment1_unit &lt;chr&gt; | Metadata_treatment2_dose &lt;chr&gt; | \u22ef \u22ef | Metadata_Image_PathName_DNA &lt;chr&gt; | Metadata_Image_PathName_GSDM &lt;chr&gt; | Metadata_Nuclei_Location_Center_X &lt;dbl&gt; | Metadata_Nuclei_Location_Center_Y &lt;dbl&gt; | Metadata_cells_per_well &lt;int&gt; | UMAP0 &lt;dbl&gt; | UMAP1 &lt;dbl&gt; | Metadata_timepoint &lt;dbl&gt; | Metadata_timepoint_hours &lt;chr&gt; | Metadata_treatment &lt;fct&gt; |\n",
                            "|---|---|---|---|---|---|---|---|---|---|---|---|---|---|---|---|---|---|---|---|---|\n",
                            "| Media | C04 | 306 | 0004 | Media | 03 | NA | NA | NA | NA | \u22ef | /gpfs/alpine1/scratch/mlippincott@xsede.org/pyroptosis_live-cell_timelapse/Wave1_data/2.illumination_correction/illum_directory/W0052_F0004 | /gpfs/alpine1/scratch/mlippincott@xsede.org/pyroptosis_live-cell_timelapse/Wave1_data/2.illumination_correction/illum_directory/W0052_F0004 | 1669.406 | 1051.072 | 56443 | -0.8967128 | 2.37334 | 10 | 10 hours | Media         |\n",
                            "| Media | C04 | 306 | 0004 | Media | 03 | NA | NA | NA | NA | \u22ef | /gpfs/alpine1/scratch/mlippincott@xsede.org/pyroptosis_live-cell_timelapse/Wave1_data/2.illumination_correction/illum_directory/W0052_F0004 | /gpfs/alpine1/scratch/mlippincott@xsede.org/pyroptosis_live-cell_timelapse/Wave1_data/2.illumination_correction/illum_directory/W0052_F0004 | 1669.406 | 1051.072 | 56443 | -0.8967128 | 2.37334 | 10 | 10 hours | DMSO CTL      |\n",
                            "| Media | C04 | 306 | 0004 | Media | 03 | NA | NA | NA | NA | \u22ef | /gpfs/alpine1/scratch/mlippincott@xsede.org/pyroptosis_live-cell_timelapse/Wave1_data/2.illumination_correction/illum_directory/W0052_F0004 | /gpfs/alpine1/scratch/mlippincott@xsede.org/pyroptosis_live-cell_timelapse/Wave1_data/2.illumination_correction/illum_directory/W0052_F0004 | 1669.406 | 1051.072 | 56443 | -0.8967128 | 2.37334 | 10 | 10 hours | no Hoechst    |\n",
                            "| Media | C04 | 306 | 0004 | Media | 03 | NA | NA | NA | NA | \u22ef | /gpfs/alpine1/scratch/mlippincott@xsede.org/pyroptosis_live-cell_timelapse/Wave1_data/2.illumination_correction/illum_directory/W0052_F0004 | /gpfs/alpine1/scratch/mlippincott@xsede.org/pyroptosis_live-cell_timelapse/Wave1_data/2.illumination_correction/illum_directory/W0052_F0004 | 1669.406 | 1051.072 | 56443 | -0.8967128 | 2.37334 | 10 | 10 hours | LPS 0.1 ug/ml |\n",
                            "| Media | C04 | 306 | 0004 | Media | 03 | NA | NA | NA | NA | \u22ef | /gpfs/alpine1/scratch/mlippincott@xsede.org/pyroptosis_live-cell_timelapse/Wave1_data/2.illumination_correction/illum_directory/W0052_F0004 | /gpfs/alpine1/scratch/mlippincott@xsede.org/pyroptosis_live-cell_timelapse/Wave1_data/2.illumination_correction/illum_directory/W0052_F0004 | 1669.406 | 1051.072 | 56443 | -0.8967128 | 2.37334 | 10 | 10 hours | LPS 1 ug/ml   |\n",
                            "| Media | C04 | 306 | 0004 | Media | 03 | NA | NA | NA | NA | \u22ef | /gpfs/alpine1/scratch/mlippincott@xsede.org/pyroptosis_live-cell_timelapse/Wave1_data/2.illumination_correction/illum_directory/W0052_F0004 | /gpfs/alpine1/scratch/mlippincott@xsede.org/pyroptosis_live-cell_timelapse/Wave1_data/2.illumination_correction/illum_directory/W0052_F0004 | 1669.406 | 1051.072 | 56443 | -0.8967128 | 2.37334 | 10 | 10 hours | LPS 10 ug/ml  |\n",
                            "\n"
                        ],
                        "text/plain": [
                            "  Metadata_treatment_original Metadata_Well Metadata_number_of_singlecells\n",
                            "1 Media                       C04           306                           \n",
                            "2 Media                       C04           306                           \n",
                            "3 Media                       C04           306                           \n",
                            "4 Media                       C04           306                           \n",
                            "5 Media                       C04           306                           \n",
                            "6 Media                       C04           306                           \n",
                            "  Metadata_FOV Metadata_treatment1 Metadata_Time Metadata_treatment2\n",
                            "1 0004         Media               03            NA                 \n",
                            "2 0004         Media               03            NA                 \n",
                            "3 0004         Media               03            NA                 \n",
                            "4 0004         Media               03            NA                 \n",
                            "5 0004         Media               03            NA                 \n",
                            "6 0004         Media               03            NA                 \n",
                            "  Metadata_treatment1_dose Metadata_treatment1_unit Metadata_treatment2_dose \u22ef\n",
                            "1 NA                       NA                       NA                       \u22ef\n",
                            "2 NA                       NA                       NA                       \u22ef\n",
                            "3 NA                       NA                       NA                       \u22ef\n",
                            "4 NA                       NA                       NA                       \u22ef\n",
                            "5 NA                       NA                       NA                       \u22ef\n",
                            "6 NA                       NA                       NA                       \u22ef\n",
                            "  Metadata_Image_PathName_DNA                                                                                                                \n",
                            "1 /gpfs/alpine1/scratch/mlippincott@xsede.org/pyroptosis_live-cell_timelapse/Wave1_data/2.illumination_correction/illum_directory/W0052_F0004\n",
                            "2 /gpfs/alpine1/scratch/mlippincott@xsede.org/pyroptosis_live-cell_timelapse/Wave1_data/2.illumination_correction/illum_directory/W0052_F0004\n",
                            "3 /gpfs/alpine1/scratch/mlippincott@xsede.org/pyroptosis_live-cell_timelapse/Wave1_data/2.illumination_correction/illum_directory/W0052_F0004\n",
                            "4 /gpfs/alpine1/scratch/mlippincott@xsede.org/pyroptosis_live-cell_timelapse/Wave1_data/2.illumination_correction/illum_directory/W0052_F0004\n",
                            "5 /gpfs/alpine1/scratch/mlippincott@xsede.org/pyroptosis_live-cell_timelapse/Wave1_data/2.illumination_correction/illum_directory/W0052_F0004\n",
                            "6 /gpfs/alpine1/scratch/mlippincott@xsede.org/pyroptosis_live-cell_timelapse/Wave1_data/2.illumination_correction/illum_directory/W0052_F0004\n",
                            "  Metadata_Image_PathName_GSDM                                                                                                               \n",
                            "1 /gpfs/alpine1/scratch/mlippincott@xsede.org/pyroptosis_live-cell_timelapse/Wave1_data/2.illumination_correction/illum_directory/W0052_F0004\n",
                            "2 /gpfs/alpine1/scratch/mlippincott@xsede.org/pyroptosis_live-cell_timelapse/Wave1_data/2.illumination_correction/illum_directory/W0052_F0004\n",
                            "3 /gpfs/alpine1/scratch/mlippincott@xsede.org/pyroptosis_live-cell_timelapse/Wave1_data/2.illumination_correction/illum_directory/W0052_F0004\n",
                            "4 /gpfs/alpine1/scratch/mlippincott@xsede.org/pyroptosis_live-cell_timelapse/Wave1_data/2.illumination_correction/illum_directory/W0052_F0004\n",
                            "5 /gpfs/alpine1/scratch/mlippincott@xsede.org/pyroptosis_live-cell_timelapse/Wave1_data/2.illumination_correction/illum_directory/W0052_F0004\n",
                            "6 /gpfs/alpine1/scratch/mlippincott@xsede.org/pyroptosis_live-cell_timelapse/Wave1_data/2.illumination_correction/illum_directory/W0052_F0004\n",
                            "  Metadata_Nuclei_Location_Center_X Metadata_Nuclei_Location_Center_Y\n",
                            "1 1669.406                          1051.072                         \n",
                            "2 1669.406                          1051.072                         \n",
                            "3 1669.406                          1051.072                         \n",
                            "4 1669.406                          1051.072                         \n",
                            "5 1669.406                          1051.072                         \n",
                            "6 1669.406                          1051.072                         \n",
                            "  Metadata_cells_per_well UMAP0      UMAP1   Metadata_timepoint\n",
                            "1 56443                   -0.8967128 2.37334 10                \n",
                            "2 56443                   -0.8967128 2.37334 10                \n",
                            "3 56443                   -0.8967128 2.37334 10                \n",
                            "4 56443                   -0.8967128 2.37334 10                \n",
                            "5 56443                   -0.8967128 2.37334 10                \n",
                            "6 56443                   -0.8967128 2.37334 10                \n",
                            "  Metadata_timepoint_hours Metadata_treatment\n",
                            "1 10 hours                 Media             \n",
                            "2 10 hours                 DMSO CTL          \n",
                            "3 10 hours                 no Hoechst        \n",
                            "4 10 hours                 LPS 0.1 ug/ml     \n",
                            "5 10 hours                 LPS 1 ug/ml       \n",
                            "6 10 hours                 LPS 10 ug/ml      "
                        ]
                    },
                    "metadata": {},
                    "output_type": "display_data"
                }
            ],
            "source": [
                "name_repair_function <- function(names) {\n",
                "  names[1] <- paste0(names[1], \"_original\")\n",
                "  return(names)\n",
                "}\n",
                "df_background <- tidyr::crossing(\n",
                "    umap_data,\n",
                "    Metadata_treatment = unique(umap_data$Metadata_treatment),\n",
                "    .name_repair = name_repair_function\n",
                ")\n",
                "head(df_background)"
            ]
        },
        {
            "cell_type": "code",
            "execution_count": 17,
            "metadata": {
                "vscode": {
                    "languageId": "r"
                }
            },
            "outputs": [
                {
                    "name": "stderr",
                    "output_type": "stream",
                    "text": [
                        "\u001b[1m\u001b[22m`summarise()` has grouped output by 'Metadata_treatment'. You can override\n",
                        "using the `.groups` argument.\n"
                    ]
                },
                {
                    "data": {
                        "text/html": [
                            "<table class=\"dataframe\">\n",
                            "<caption>A tibble: 6 \u00d7 4</caption>\n",
                            "<thead>\n",
                            "\t<tr><th scope=col>Metadata_treatment</th><th scope=col>Metadata_timepoint</th><th scope=col>UMAP0</th><th scope=col>UMAP1</th></tr>\n",
                            "\t<tr><th scope=col>&lt;fct&gt;</th><th scope=col>&lt;dbl&gt;</th><th scope=col>&lt;dbl&gt;</th><th scope=col>&lt;dbl&gt;</th></tr>\n",
                            "</thead>\n",
                            "<tbody>\n",
                            "\t<tr><td>Media</td><td> 1</td><td>0.8535414</td><td> 0.1607261</td></tr>\n",
                            "\t<tr><td>Media</td><td> 4</td><td>1.5595761</td><td>-0.2079760</td></tr>\n",
                            "\t<tr><td>Media</td><td> 7</td><td>0.8656837</td><td>-0.1712147</td></tr>\n",
                            "\t<tr><td>Media</td><td>10</td><td>0.4046431</td><td> 0.3157091</td></tr>\n",
                            "\t<tr><td>Media</td><td>13</td><td>1.1584869</td><td>-0.3718695</td></tr>\n",
                            "\t<tr><td>Media</td><td>16</td><td>0.7226481</td><td>-0.2188411</td></tr>\n",
                            "</tbody>\n",
                            "</table>\n"
                        ],
                        "text/latex": [
                            "A tibble: 6 \u00d7 4\n",
                            "\\begin{tabular}{llll}\n",
                            " Metadata\\_treatment & Metadata\\_timepoint & UMAP0 & UMAP1\\\\\n",
                            " <fct> & <dbl> & <dbl> & <dbl>\\\\\n",
                            "\\hline\n",
                            "\t Media &  1 & 0.8535414 &  0.1607261\\\\\n",
                            "\t Media &  4 & 1.5595761 & -0.2079760\\\\\n",
                            "\t Media &  7 & 0.8656837 & -0.1712147\\\\\n",
                            "\t Media & 10 & 0.4046431 &  0.3157091\\\\\n",
                            "\t Media & 13 & 1.1584869 & -0.3718695\\\\\n",
                            "\t Media & 16 & 0.7226481 & -0.2188411\\\\\n",
                            "\\end{tabular}\n"
                        ],
                        "text/markdown": [
                            "\n",
                            "A tibble: 6 \u00d7 4\n",
                            "\n",
                            "| Metadata_treatment &lt;fct&gt; | Metadata_timepoint &lt;dbl&gt; | UMAP0 &lt;dbl&gt; | UMAP1 &lt;dbl&gt; |\n",
                            "|---|---|---|---|\n",
                            "| Media |  1 | 0.8535414 |  0.1607261 |\n",
                            "| Media |  4 | 1.5595761 | -0.2079760 |\n",
                            "| Media |  7 | 0.8656837 | -0.1712147 |\n",
                            "| Media | 10 | 0.4046431 |  0.3157091 |\n",
                            "| Media | 13 | 1.1584869 | -0.3718695 |\n",
                            "| Media | 16 | 0.7226481 | -0.2188411 |\n",
                            "\n"
                        ],
                        "text/plain": [
                            "  Metadata_treatment Metadata_timepoint UMAP0     UMAP1     \n",
                            "1 Media               1                 0.8535414  0.1607261\n",
                            "2 Media               4                 1.5595761 -0.2079760\n",
                            "3 Media               7                 0.8656837 -0.1712147\n",
                            "4 Media              10                 0.4046431  0.3157091\n",
                            "5 Media              13                 1.1584869 -0.3718695\n",
                            "6 Media              16                 0.7226481 -0.2188411"
                        ]
                    },
                    "metadata": {},
                    "output_type": "display_data"
                }
            ],
            "source": [
                "# get the centroids of each treatment, at each timepoint \n",
                "centroids <- umap_data %>% \n",
                "  group_by(Metadata_treatment, Metadata_timepoint) %>% \n",
                "  summarize(\n",
                "    UMAP0 = mean(UMAP0),\n",
                "    UMAP1 = mean(UMAP1)\n",
                "  ) %>% \n",
                "  ungroup()\n",
                "head(centroids)\n"
            ]
        },
        {
            "cell_type": "code",
            "execution_count": 18,
            "metadata": {
                "vscode": {
                    "languageId": "r"
                }
            },
            "outputs": [],
            "source": [
                "\n",
                "# plot the centroids over time\n",
                "width <- 10\n",
                "height <- 10\n",
                "options(repr.plot.width=width, repr.plot.height=height)\n",
                "centroids_umap_plot <- (\n",
                "    # plot the whole dataset in grey with low alpha\n",
                "    ggplot(centroids, aes(x=UMAP0, y=UMAP1))\n",
                "    + geom_point(\n",
                "        data = df_background,\n",
                "        color = \"lightgrey\",\n",
                "        size = 0.5,\n",
                "        alpha = 0.1\n",
                "    )\n",
                "    + geom_point(aes(color=Metadata_treatment), size=1.5, alpha=0.9)\n",
                "\n",
                "    + scale_color_manual(\n",
                "        values = colors\n",
                "    )\n",
                "    + theme_bw()\n",
                "    + theme(\n",
                "        axis.text.x = element_text(size=14),\n",
                "        axis.text.y = element_text(size=14),\n",
                "        axis.title.x = element_text(size=14),\n",
                "        axis.title.y = element_text(size=14),\n",
                "        legend.text = element_text(size=14),\n",
                "        legend.title = element_text(size=14, hjust=0.5),\n",
                "        legend.position=\"bottom\",\n",
                "        legend.title.position=\"top\"\n",
                "    )\n",
                "    + transition_time(Metadata_timepoint)\n",
                "    + labs(title = \"Time: {frame_time}\")\n",
                ")\n",
                "\n",
                "n_timepoints <- length(unique(centroids$Metadata_timepoint))\n",
                "fps <- 15\n",
                "\n",
                "nframes <- n_timepoints * fps\n"
            ]
        },
        {
            "cell_type": "code",
            "execution_count": 19,
            "metadata": {
                "vscode": {
                    "languageId": "r"
                }
            },
            "outputs": [],
            "source": [
                "\n",
                "anim_save(\n",
                "    \"../figures/pyroptosis_timelapsed_centroids.gif\", \n",
                "    animate(\n",
                "        centroids_umap_plot,\n",
                "        fps = fps, \n",
                "        nframes = nframes,\n",
                "        width = width, \n",
                "        height = height, \n",
                "        units = \"in\",\n",
                "        res = 600\n",
                "        ))"
            ]
        },
        {
            "cell_type": "code",
            "execution_count": 20,
            "metadata": {
                "vscode": {
                    "languageId": "r"
                }
            },
            "outputs": [],
            "source": [
                "\n",
                "# plot the centroids over time\n",
                "width <- 30\n",
                "height <- 30\n",
                "options(repr.plot.width=width, repr.plot.height=height)\n",
                "centroids_umap_plot <- (\n",
                "    # plot the whole dataset in grey with low alpha\n",
                "    ggplot(centroids, aes(x=UMAP0, y=UMAP1))\n",
                "    + geom_point(\n",
                "        data = df_background,\n",
                "        color = \"lightgrey\",\n",
                "        size = 0.5,\n",
                "        alpha = 0.1\n",
                "    )\n",
                "    + geom_point(aes(color=Metadata_treatment), size=1.5, alpha=0.9)\n",
                "\n",
                "    + scale_color_manual(\n",
                "        values = colors\n",
                "    )\n",
                "    + theme_bw()\n",
                "    + theme(\n",
                "        axis.text.x = element_text(size=14),\n",
                "        axis.text.y = element_text(size=14),\n",
                "        axis.title.x = element_text(size=14),\n",
                "        axis.title.y = element_text(size=14),\n",
                "        legend.text = element_text(size=14),\n",
                "        legend.title = element_text(size=14, hjust=0.5),\n",
                "        legend.position=\"bottom\",\n",
                "        legend.title.position=\"top\"\n",
                "    )\n",
                "    + facet_wrap(~Metadata_treatment, ncol = 6)\n",
                "    + transition_time(Metadata_timepoint)\n",
                "    + labs(title = \"Time: {frame_time}\")\n",
                ")\n",
                "\n",
                "n_timepoints <- length(unique(centroids$Metadata_timepoint))\n",
                "fps <- 15\n",
                "\n",
                "nframes <- n_timepoints * fps\n"
            ]
        },
        {
            "cell_type": "code",
            "execution_count": 21,
            "metadata": {
                "vscode": {
                    "languageId": "r"
                }
            },
            "outputs": [],
            "source": [
                "anim_save(\n",
                "    \"../figures/pyroptosis_timelapsed_centroids_facet_by_treatment.gif\", \n",
                "    animate(\n",
                "        centroids_umap_plot,\n",
                "        fps = fps, \n",
                "        nframes = nframes, \n",
                "        width = width, \n",
                "        height = height, \n",
                "        units = \"in\",\n",
                "        res = 600\n",
                "        ))"
            ]
        }
    ],
    "metadata": {
        "kernelspec": {
            "display_name": "R",
            "language": "R",
            "name": "ir"
        },
        "language_info": {
            "codemirror_mode": "r",
            "file_extension": ".r",
            "mimetype": "text/x-r-source",
            "name": "R",
            "pygments_lexer": "r",
            "version": "4.2.2"
        }
    },
    "nbformat": 4,
    "nbformat_minor": 2
}
