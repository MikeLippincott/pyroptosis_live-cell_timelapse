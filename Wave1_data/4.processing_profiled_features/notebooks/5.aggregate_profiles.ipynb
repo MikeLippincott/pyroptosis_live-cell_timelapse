{
    "cells": [
        {
            "cell_type": "markdown",
            "metadata": {},
            "source": [
                "# Aggregate the single-cell profiles to the well level\n",
                "This notebook is not run as a large amount of RAM is needed to run it. It is provided for reference only."
            ]
        },
        {
            "cell_type": "code",
            "execution_count": 1,
            "metadata": {},
            "outputs": [],
            "source": [
                "import pathlib\n",
                "\n",
                "import pandas as pd\n",
                "import pycytominer"
            ]
        },
        {
            "cell_type": "code",
            "execution_count": 2,
            "metadata": {},
            "outputs": [],
            "source": [
                "# directory where combined parquet file are located\n",
                "data_dir = pathlib.Path(\"../data\")\n",
                "aggregate_dir = pathlib.Path(\"../data/aggregated\")\n",
                "aggregate_dir.mkdir(exist_ok=True, parents=True)"
            ]
        },
        {
            "cell_type": "code",
            "execution_count": null,
            "metadata": {},
            "outputs": [],
            "source": [
                "# dictionary with each run for the cell type\n",
                "dict_of_inputs = {\n",
                "    \"first_time\": {\n",
                "        \"normalized\": pathlib.Path(\n",
                "            f\"{data_dir}/normalized_data/live_cell_pyroptosis_wave1_sc_first_time_norm.parquet\"\n",
                "        ).resolve(strict=True),\n",
                "        \"selected\": pathlib.Path(\n",
                "            f\"{data_dir}/feature_selected_data/live_cell_pyroptosis_wave1_sc_first_time_norm_fs.parquet\"\n",
                "        ).resolve(strict=True),\n",
                "        \"aggregate_normalized\": pathlib.Path(\n",
                "            f\"{aggregate_dir}/live_cell_pyroptosis_wave1_first_time_norm_agg.parquet\"\n",
                "        ).resolve(),\n",
                "        \"aggregate_selected\": pathlib.Path(\n",
                "            f\"{aggregate_dir}/live_cell_pyroptosis_wave1_first_time_norm_fs_agg.parquet\"\n",
                "        ).resolve(),\n",
                "    },\n",
                "    \"pan_time\": {\n",
                "        \"normalized\": pathlib.Path(\n",
                "            f\"{data_dir}/normalized_data/live_cell_pyroptosis_wave1_sc_pan_time_norm.parquet\"\n",
                "        ).resolve(strict=True),\n",
                "        \"selected\": pathlib.Path(\n",
                "            f\"{data_dir}/feature_selected_data/live_cell_pyroptosis_wave1_sc_pan_time_norm_fs.parquet\"\n",
                "        ).resolve(strict=True),\n",
                "        \"aggregate_normalized\": pathlib.Path(\n",
                "            f\"{aggregate_dir}/live_cell_pyroptosis_wave1_pan_time_norm_agg.parquet\"\n",
                "        ).resolve(),\n",
                "        \"aggregate_selected\": pathlib.Path(\n",
                "            f\"{aggregate_dir}/live_cell_pyroptosis_wave1_pan_time_norm_fs_agg.parquet\"\n",
                "        ).resolve(),\n",
                "    },\n",
                "    \"within_time\": {\n",
                "        \"normalized\": pathlib.Path(\n",
                "            f\"{data_dir}/normalized_data/live_cell_pyroptosis_wave1_sc_within_time_norm.parquet\"\n",
                "        ).resolve(strict=True),\n",
                "        \"selected\": pathlib.Path(\n",
                "            f\"{data_dir}/feature_selected_data/live_cell_pyroptosis_wave1_sc_within_time_norm_fs.parquet\"\n",
                "        ).resolve(strict=True),\n",
                "        \"aggregate_normalized\": pathlib.Path(\n",
                "            f\"{aggregate_dir}/live_cell_pyroptosis_wave1_within_time_norm_agg.parquet\"\n",
                "        ).resolve(),\n",
                "        \"aggregate_selected\": pathlib.Path(\n",
                "            f\"{aggregate_dir}/live_cell_pyroptosis_wave1_within_time_norm_fs_agg.parquet\"\n",
                "        ).resolve(),\n",
                "    },\n",
                "}"
            ]
        },
        {
            "cell_type": "markdown",
            "metadata": {},
            "source": [
                "The cell below must be run as a script on an HPC cluster with sufficient memory."
            ]
        },
        {
            "cell_type": "code",
            "execution_count": 4,
            "metadata": {},
            "outputs": [],
            "source": [
                "sc_metadata_cols_to_drop = [\n",
                "    \"Metadata_ImageNumber\",\n",
                "    \"Metadata_Cells_Number_Object_Number\",\n",
                "    \"Metadata_Cytoplasm_Parent_Cells\",\n",
                "    \"Metadata_Cytoplasm_Parent_Nuclei\",\n",
                "    \"Metadata_ImageNumber_1\",\n",
                "    \"Metadata_ImageNumber_2\",\n",
                "    \"Metadata_ImageNumber_3\",\n",
                "    \"Metadata_Nuclei_Number_Object_Number\",\n",
                "    \"Metadata_Image_FileName_BF\",\n",
                "    \"Metadata_Image_FileName_CL488\",\n",
                "    \"Metadata_Image_FileName_CL561\",\n",
                "    \"Metadata_Image_FileName_DNA\",\n",
                "    \"Metadata_Image_FileName_GSDM\",\n",
                "    \"Metadata_Image_PathName_BF\",\n",
                "    \"Metadata_Image_PathName_CL488\",\n",
                "    \"Metadata_Image_PathName_CL561\",\n",
                "    \"Metadata_Image_PathName_DNA\",\n",
                "    \"Metadata_Image_PathName_GSDM\",\n",
                "    \"Metadata_Nuclei_Location_Center_X\",\n",
                "    \"Metadata_Nuclei_Location_Center_Y\",\n",
                "]"
            ]
        },
        {
            "cell_type": "code",
            "execution_count": 5,
            "metadata": {},
            "outputs": [
                {
                    "name": "stdout",
                    "output_type": "stream",
                    "text": [
                        "Normalized data shape: (2300, 1147)\n",
                        "Aggregated normalized data shape: (1958, 1127)\n"
                    ]
                }
            ],
            "source": [
                "for profile in dict_of_inputs.keys():\n",
                "\n",
                "    ###########################################################################################\n",
                "    # Normalized data\n",
                "    ###########################################################################################\n",
                "    # Load the normalized data\n",
                "    norm_df = pd.read_parquet(dict_of_inputs[profile][\"normalized\"])\n",
                "    metadata_cols = [cols for cols in norm_df.columns if \"Metadata\" in cols]\n",
                "    features_cols = [cols for cols in norm_df.columns if \"Metadata\" not in cols]\n",
                "\n",
                "    norm_aggregate_df = pycytominer.aggregate(\n",
                "        population_df=norm_df,\n",
                "        strata=[\"Metadata_Well\", \"Metadata_Time\"],\n",
                "        features=features_cols,\n",
                "        operation=\"median\",\n",
                "    )\n",
                "    # Drop metadata columns\n",
                "    metadata_cols = [x for x in metadata_cols if x not in sc_metadata_cols_to_drop]\n",
                "    metadata_df = norm_df[metadata_cols]\n",
                "    metadata_df = metadata_df.drop_duplicates()\n",
                "    norm_aggregate_df = pd.merge(\n",
                "        metadata_df, norm_aggregate_df, on=[\"Metadata_Well\", \"Metadata_Time\"]\n",
                "    )\n",
                "    print(f\"Normalized data shape: {norm_df.shape}\")\n",
                "    print(f\"Aggregated normalized data shape: {norm_aggregate_df.shape}\")\n",
                "\n",
                "    # Save the aggregated normalized data\n",
                "    norm_aggregate_df.to_parquet(dict_of_inputs[profile][\"aggregate_normalized\"])\n",
                "    del norm_df, norm_aggregate_df\n",
                "    ###########################################################################################\n",
                "    # Selected data\n",
                "    ###########################################################################################\n",
                "    # Load the selected data\n",
                "    norm_fs_df = pd.read_parquet(dict_of_inputs[profile][\"selected\"])\n",
                "    metadata_cols = [cols for cols in norm_fs_df.columns if \"Metadata\" in cols]\n",
                "    features_cols = [cols for cols in norm_fs_df.columns if \"Metadata\" not in cols]\n",
                "\n",
                "    norm_fs_aggregate_df = pycytominer.aggregate(\n",
                "        population_df=norm_fs_df,\n",
                "        strata=[\"Metadata_Well\", \"Metadata_Time\"],\n",
                "        features=features_cols,\n",
                "        operation=\"median\",\n",
                "    )\n",
                "    # Drop metadata columns\n",
                "    metadata_cols = [x for x in metadata_cols if x not in sc_metadata_cols_to_drop]\n",
                "    metadata_df = norm_fs_df[metadata_cols]\n",
                "    metadata_df = metadata_df.drop_duplicates()\n",
                "    norm_fs_aggregate_df = pd.merge(\n",
                "        metadata_df, norm_fs_aggregate_df, on=[\"Metadata_Well\", \"Metadata_Time\"]\n",
                "    )\n",
                "    print(f\"Normalized data shape: {norm_fs_df.shape}\")\n",
                "    print(f\"Aggregated normalized data shape: {norm_fs_aggregate_df.shape}\")\n",
                "\n",
                "    # Save the aggregated selected data\n",
                "    norm_fs_aggregate_df.to_parquet(dict_of_inputs[profile][\"aggregate_selected\"])\n",
                "    del norm_fs_df, norm_fs_aggregate_df"
            ]
        }
    ],
    "metadata": {
        "kernelspec": {
            "display_name": "cellprofiler_timelapse_env",
            "language": "python",
            "name": "python3"
        },
        "language_info": {
            "codemirror_mode": {
                "name": "ipython",
                "version": 3
            },
            "file_extension": ".py",
            "mimetype": "text/x-python",
            "name": "python",
            "nbconvert_exporter": "python",
            "pygments_lexer": "ipython3",
            "version": "3.8.20"
        }
    },
    "nbformat": 4,
    "nbformat_minor": 2
}
