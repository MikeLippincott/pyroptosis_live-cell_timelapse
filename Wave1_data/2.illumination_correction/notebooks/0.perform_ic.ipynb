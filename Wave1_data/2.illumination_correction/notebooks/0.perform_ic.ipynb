{
    "cells": [
        {
            "attachments": {},
            "cell_type": "markdown",
            "metadata": {},
            "source": [
                "# Run CellProfiler `illum.cppipe` (IC) pipeline\n",
                "\n",
                "In this notebook, we run the CellProfiler IC pipeline to calculate the illumination (illum) correction functions for all images per channel (5), apply the functions, and save images into a new directory."
            ]
        },
        {
            "attachments": {},
            "cell_type": "markdown",
            "metadata": {},
            "source": [
                "## Import libraries"
            ]
        },
        {
            "cell_type": "code",
            "execution_count": 1,
            "metadata": {},
            "outputs": [],
            "source": [
                "import argparse\n",
                "import pathlib\n",
                "import sys\n",
                "import time\n",
                "\n",
                "sys.path.append(\"../../../utils\")\n",
                "import cp_parallel\n",
                "import cp_utils as cp_utils\n",
                "import tqdm\n",
                "\n",
                "# check if in a jupyter notebook\n",
                "try:\n",
                "    cfg = get_ipython().config\n",
                "    in_notebook = True\n",
                "except NameError:\n",
                "    in_notebook = False"
            ]
        },
        {
            "attachments": {},
            "cell_type": "markdown",
            "metadata": {},
            "source": [
                "## Set paths"
            ]
        },
        {
            "cell_type": "code",
            "execution_count": 2,
            "metadata": {},
            "outputs": [
                {
                    "name": "stdout",
                    "output_type": "stream",
                    "text": [
                        "Running in a notebook\n"
                    ]
                }
            ],
            "source": [
                "if not in_notebook:\n",
                "    print(\"Running as script\")\n",
                "    # set up arg parser\n",
                "    parser = argparse.ArgumentParser(description=\"Segment the nuclei of a tiff image\")\n",
                "\n",
                "    parser.add_argument(\n",
                "        \"--input_dir\",\n",
                "        type=str,\n",
                "        help=\"Path to the input directory containing the tiff images\",\n",
                "    )\n",
                "\n",
                "    args = parser.parse_args()\n",
                "    input_dir = pathlib.Path(args.input_dir).resolve(strict=True)\n",
                "else:\n",
                "    print(\"Running in a notebook\")\n",
                "    input_dir = pathlib.Path(\"../../../data/test_dir/\").resolve(strict=True)\n",
                "\n",
                "run_name = \"illumination_correction\"\n",
                "# path to folder for IC images\n",
                "illum_directory = pathlib.Path(\"../illum_directory\").resolve()\n",
                "# make sure the directory exists\n",
                "illum_directory.mkdir(exist_ok=True, parents=True)"
            ]
        },
        {
            "cell_type": "markdown",
            "metadata": {},
            "source": [
                "## Define the input paths"
            ]
        },
        {
            "cell_type": "markdown",
            "metadata": {},
            "source": [
                "5 FOVs per well, 96 wells per plate, 1 plate at 18 time points = 8640 image sets"
            ]
        },
        {
            "cell_type": "code",
            "execution_count": 3,
            "metadata": {},
            "outputs": [
                {
                    "name": "stdout",
                    "output_type": "stream",
                    "text": [
                        "W0052_F0001\n",
                        "/home/lippincm/Documents/pyroptosis_live-cell_timelapse/data/test_dir/W0052_F0001\n",
                        "Added 1 to the list of runs\n"
                    ]
                }
            ],
            "source": [
                "path_to_pipeline = pathlib.Path(\"../pipelines/illum_5ch.cppipe\").resolve(strict=True)\n",
                "# get all directories with raw images\n",
                "dict_of_runs = {}\n",
                "raw_directories = list(input_dir.glob(\"*\"))\n",
                "raw_directories = [x for x in raw_directories if x.is_dir()]\n",
                "raw_directories = sorted(raw_directories)\n",
                "\n",
                "\n",
                "for dir in raw_directories:\n",
                "    well_FOV = dir.name\n",
                "    print(dir.name)\n",
                "    print(dir)\n",
                "    dict_of_runs[well_FOV] = {\n",
                "        \"path_to_images\": str(dir),\n",
                "        \"path_to_output\": illum_directory / well_FOV,\n",
                "        \"path_to_pipeline\": path_to_pipeline,\n",
                "    }\n",
                "print(f\"Added {len(dict_of_runs.keys())} to the list of runs\")"
            ]
        },
        {
            "attachments": {},
            "cell_type": "markdown",
            "metadata": {},
            "source": [
                "## Run `illum.cppipe` pipeline and calculate + save IC images\n",
                "This last cell does not get run as we run this pipeline in the command line."
            ]
        },
        {
            "cell_type": "code",
            "execution_count": 4,
            "metadata": {},
            "outputs": [],
            "source": [
                "start = time.time()"
            ]
        },
        {
            "cell_type": "code",
            "execution_count": 5,
            "metadata": {},
            "outputs": [
                {
                    "name": "stdout",
                    "output_type": "stream",
                    "text": [
                        "Number of processes: 1\n",
                        "All processes have been completed!\n",
                        "1\n",
                        "A return code of 1 was returned for CompletedProcess(args=['cellprofiler', '-c', '-r', '-p', PosixPath('/home/lippincm/Documents/pyroptosis_live-cell_timelapse/Wave1_data/2.illumination_correction/pipelines/illum_5ch.cppipe'), '-o', PosixPath('/home/lippincm/Documents/pyroptosis_live-cell_timelapse/Wave1_data/2.illumination_correction/illum_directory/W0052_F0001'), '-i', '/home/lippincm/Documents/pyroptosis_live-cell_timelapse/data/test_dir/W0052_F0001'], returncode=1, stdout=b'CP-JAVA 21:28:03.553 [Thread-0] WARN  o.c.imageset.ChannelFilter - Empty image set list: no images passed the filtering criteria.\\n', stderr=b''), which means there was an error in the CellProfiler run.\n",
                        "All results have been converted to log files!\n"
                    ]
                }
            ],
            "source": [
                "cp_parallel.run_cellprofiler_parallel(\n",
                "    plate_info_dictionary=dict_of_runs, run_name=run_name\n",
                ")"
            ]
        },
        {
            "cell_type": "code",
            "execution_count": 6,
            "metadata": {},
            "outputs": [
                {
                    "name": "stdout",
                    "output_type": "stream",
                    "text": [
                        "Total time taken: 00:00:01.47\n"
                    ]
                }
            ],
            "source": [
                "end = time.time()\n",
                "# format the time taken into hours, minutes, seconds\n",
                "hours, rem = divmod(end - start, 3600)\n",
                "minutes, seconds = divmod(rem, 60)\n",
                "print(\n",
                "    \"Total time taken: {:0>2}:{:0>2}:{:05.2f}\".format(int(hours), int(minutes), seconds)\n",
                ")"
            ]
        }
    ],
    "metadata": {
        "kernelspec": {
            "display_name": "cellprofiler_timelapse_env",
            "language": "python",
            "name": "python3"
        },
        "language_info": {
            "codemirror_mode": {
                "name": "ipython",
                "version": 3
            },
            "file_extension": ".py",
            "mimetype": "text/x-python",
            "name": "python",
            "nbconvert_exporter": "python",
            "pygments_lexer": "ipython3",
            "version": "3.8.20"
        },
        "orig_nbformat": 4
    },
    "nbformat": 4,
    "nbformat_minor": 2
}
