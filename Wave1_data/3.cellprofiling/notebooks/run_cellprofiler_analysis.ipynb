{
    "cells": [
        {
            "attachments": {},
            "cell_type": "markdown",
            "metadata": {},
            "source": [
                "# Perform segmentation and feature extraction for each plate using CellProfiler Parallel"
            ]
        },
        {
            "attachments": {},
            "cell_type": "markdown",
            "metadata": {},
            "source": [
                "## Import libraries"
            ]
        },
        {
            "cell_type": "code",
            "execution_count": 1,
            "metadata": {},
            "outputs": [],
            "source": [
                "import pathlib\n",
                "import pprint\n",
                "import sys\n",
                "import time\n",
                "\n",
                "sys.path.append(\"../../../utils/\")\n",
                "import cp_parallel"
            ]
        },
        {
            "attachments": {},
            "cell_type": "markdown",
            "metadata": {},
            "source": [
                "## Set paths and variables"
            ]
        },
        {
            "cell_type": "code",
            "execution_count": 2,
            "metadata": {},
            "outputs": [],
            "source": [
                "# set the run type for the parallelization\n",
                "run_name = \"analysis\"\n",
                "\n",
                "# set main output dir for all plates\n",
                "output_dir = pathlib.Path(\"../analysis_output\")\n",
                "output_dir.mkdir(exist_ok=True, parents=True)\n",
                "\n",
                "# directory where images are located within folders\n",
                "images_dir = pathlib.Path(\"../../2.illumination_correction/illum_directory/\")\n",
                "\n",
                "# path to plugins directory as one of the pipelines uses the RunCellpose plugin\n",
                "plugins_dir = pathlib.Path(\n",
                "    \"/home/lippincm/Documents/CellProfiler-plugins/active_plugins\"\n",
                ")\n",
                "path_to_pipeline = pathlib.Path(\"../pipelines/analysis_5ch.cppipe\").resolve(strict=True)"
            ]
        },
        {
            "cell_type": "markdown",
            "metadata": {},
            "source": [
                "## Create dictionary with all info for each well"
            ]
        },
        {
            "cell_type": "code",
            "execution_count": 3,
            "metadata": {},
            "outputs": [],
            "source": [
                "# get all directories with raw images\n",
                "dict_of_runs = {}\n",
                "raw_directories = list(images_dir.rglob(\"*\"))\n",
                "raw_directories = [x for x in raw_directories if x.is_dir()]\n",
                "# filter for directories with images\n",
                "raw_directories = [x for x in raw_directories if len(list(x.glob(\"*.tiff\"))) > 0]\n",
                "for dir in raw_directories:\n",
                "    dict_of_runs[dir.name] = {\n",
                "        \"path_to_images\": dir,\n",
                "        \"path_to_output\": output_dir / dir.name,\n",
                "        \"path_to_pipeline\": path_to_pipeline,\n",
                "    }"
            ]
        },
        {
            "attachments": {},
            "cell_type": "markdown",
            "metadata": {},
            "source": [
                "## Run analysis pipeline on each plate in parallel\n",
                "\n",
                "This cell is not finished to completion due to how long it would take. It is ran in the python file instead."
            ]
        },
        {
            "cell_type": "code",
            "execution_count": null,
            "metadata": {},
            "outputs": [],
            "source": [
                "start = time.time()"
            ]
        },
        {
            "cell_type": "code",
            "execution_count": null,
            "metadata": {},
            "outputs": [],
            "source": [
                "cp_parallel.run_cellprofiler_parallel(\n",
                "    plate_info_dictionary=dict_of_runs,\n",
                "    run_name=run_name,\n",
                "    plugins_dir=plugins_dir,\n",
                ")"
            ]
        },
        {
            "cell_type": "code",
            "execution_count": null,
            "metadata": {},
            "outputs": [],
            "source": [
                "end = time.time()\n",
                "# format the time taken into hours, minutes, seconds\n",
                "hours, rem = divmod(end - start, 3600)\n",
                "minutes, seconds = divmod(rem, 60)\n",
                "print(\n",
                "    \"Total time taken: {:0>2}:{:0>2}:{:05.2f}\".format(int(hours), int(minutes), seconds)\n",
                ")"
            ]
        }
    ],
    "metadata": {
        "kernelspec": {
            "display_name": "cellprofiler_timelapse_env",
            "language": "python",
            "name": "python3"
        },
        "language_info": {
            "codemirror_mode": {
                "name": "ipython",
                "version": 3
            },
            "file_extension": ".py",
            "mimetype": "text/x-python",
            "name": "python",
            "nbconvert_exporter": "python",
            "pygments_lexer": "ipython3",
            "version": "3.8.20"
        },
        "orig_nbformat": 4
    },
    "nbformat": 4,
    "nbformat_minor": 2
}
