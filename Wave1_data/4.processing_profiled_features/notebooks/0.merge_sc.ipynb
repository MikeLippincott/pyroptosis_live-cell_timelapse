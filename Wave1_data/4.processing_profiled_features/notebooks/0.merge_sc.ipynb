{
    "cells": [
        {
            "attachments": {},
            "cell_type": "markdown",
            "metadata": {},
            "source": [
                "# Merge single cells from CellProfiler outputs using CytoTable"
            ]
        },
        {
            "cell_type": "code",
            "execution_count": 1,
            "metadata": {},
            "outputs": [],
            "source": [
                "import argparse\n",
                "import pathlib\n",
                "import pprint\n",
                "import sys\n",
                "\n",
                "import pandas as pd\n",
                "from cytotable import convert, presets\n",
                "\n",
                "sys.path.append(\"../../../utils\")\n",
                "import sc_extraction_utils as sc_utils\n",
                "from parsl.config import Config\n",
                "from parsl.executors import HighThroughputExecutor"
            ]
        },
        {
            "attachments": {},
            "cell_type": "markdown",
            "metadata": {},
            "source": [
                "## Set paths and variables\n",
                "\n",
                "All paths must be string but we use pathlib to show which variables are paths"
            ]
        },
        {
            "cell_type": "code",
            "execution_count": 2,
            "metadata": {},
            "outputs": [
                {
                    "name": "stdout",
                    "output_type": "stream",
                    "text": [
                        "Running in a notebook\n"
                    ]
                }
            ],
            "source": [
                "# check if in a jupyter notebook\n",
                "try:\n",
                "    cfg = get_ipython().config\n",
                "    in_notebook = True\n",
                "except NameError:\n",
                "    in_notebook = False\n",
                "\n",
                "if not in_notebook:\n",
                "    print(\"Running as script\")\n",
                "    # set up arg parser\n",
                "    parser = argparse.ArgumentParser(description=\"Segment the nuclei of a tiff image\")\n",
                "\n",
                "    parser.add_argument(\n",
                "        \"--input_dir\",\n",
                "        type=str,\n",
                "        help=\"Path to the input directory containing the tiff images\",\n",
                "    )\n",
                "\n",
                "    args = parser.parse_args()\n",
                "    input_dir = pathlib.Path(args.input_dir).resolve(strict=True)\n",
                "else:\n",
                "    print(\"Running in a notebook\")\n",
                "    input_dir = pathlib.Path(\n",
                "        \"../../3.cellprofiling/analysis_output/W0052_F0001\"\n",
                "    ).resolve(strict=True)"
            ]
        },
        {
            "cell_type": "code",
            "execution_count": 3,
            "metadata": {},
            "outputs": [],
            "source": [
                "# type of file output from CytoTable (currently only parquet)\n",
                "dest_datatype = \"parquet\"\n",
                "\n",
                "# directory where parquet files are saved to\n",
                "output_dir = pathlib.Path(\"../data/converted_data\")\n",
                "output_dir.mkdir(exist_ok=True, parents=True)"
            ]
        },
        {
            "cell_type": "code",
            "execution_count": 4,
            "metadata": {},
            "outputs": [],
            "source": [
                "# get the .sqlite file from the input directory\n",
                "sqlite_file = list(input_dir.glob(\"*.sqlite\"))[0]\n",
                "dest_path = output_dir / str(sqlite_file.parent).split(\"/\")[-1]"
            ]
        },
        {
            "cell_type": "markdown",
            "metadata": {},
            "source": [
                "## set config joins for each preset"
            ]
        },
        {
            "cell_type": "code",
            "execution_count": 5,
            "metadata": {},
            "outputs": [],
            "source": [
                "# preset configurations based on typical CellProfiler outputs\n",
                "preset = \"cellprofiler_sqlite_pycytominer\"\n",
                "# remove Image_Metadata_Plate from SELECT as this metadata was not extracted from file names\n",
                "# add Image_Metadata_Site as this is an important metadata when finding where single cells are located\n",
                "presets_config = \"\"\"WITH Per_Image_Filtered AS (\n",
                "                SELECT\n",
                "                    Metadata_ImageNumber,\n",
                "                    Image_Metadata_Well,\n",
                "                    Image_Metadata_FOV,\n",
                "                    Image_PathName_CL488,\n",
                "                    Image_PathName_CL561,\n",
                "                    Image_PathName_GSDM,\n",
                "                    Image_PathName_BF,\n",
                "                    Image_PathName_DNA,\n",
                "                    Image_FileName_CL488,\n",
                "                    Image_FileName_CL561,\n",
                "                    Image_FileName_GSDM,\n",
                "                    Image_FileName_BF,\n",
                "                    Image_FileName_DNA\n",
                "                FROM\n",
                "                    read_parquet('per_image.parquet')\n",
                "                )\n",
                "            SELECT\n",
                "                *\n",
                "            FROM\n",
                "                Per_Image_Filtered AS per_image\n",
                "            LEFT JOIN read_parquet('per_cytoplasm.parquet') AS per_cytoplasm ON\n",
                "                per_cytoplasm.Metadata_ImageNumber = per_image.Metadata_ImageNumber\n",
                "            LEFT JOIN read_parquet('per_cells.parquet') AS per_cells ON\n",
                "                per_cells.Metadata_ImageNumber = per_cytoplasm.Metadata_ImageNumber\n",
                "                AND per_cells.Metadata_Cells_Number_Object_Number = per_cytoplasm.Metadata_Cytoplasm_Parent_Cells\n",
                "            LEFT JOIN read_parquet('per_nuclei.parquet') AS per_nuclei ON\n",
                "                per_nuclei.Metadata_ImageNumber = per_cytoplasm.Metadata_ImageNumber\n",
                "                AND per_nuclei.Metadata_Nuclei_Number_Object_Number = per_cytoplasm.Metadata_Cytoplasm_Parent_Nuclei\n",
                "            \"\"\""
            ]
        },
        {
            "attachments": {},
            "cell_type": "markdown",
            "metadata": {},
            "source": [
                "## Convert SQLite file and merge single cell objects into parquet file\n",
                "\n",
                "This was not run to completion as we use the nbconverted python file for full run."
            ]
        },
        {
            "cell_type": "code",
            "execution_count": 6,
            "metadata": {},
            "outputs": [
                {
                    "ename": "IndexError",
                    "evalue": "list index out of range",
                    "output_type": "error",
                    "traceback": [
                        "\u001b[0;31m---------------------------------------------------------------------------\u001b[0m",
                        "\u001b[0;31mIndexError\u001b[0m                                Traceback (most recent call last)",
                        "Cell \u001b[0;32mIn[6], line 2\u001b[0m\n\u001b[1;32m      1\u001b[0m \u001b[38;5;66;03m# merge single cells and output as parquet file\u001b[39;00m\n\u001b[0;32m----> 2\u001b[0m \u001b[43mconvert\u001b[49m\u001b[43m(\u001b[49m\n\u001b[1;32m      3\u001b[0m \u001b[43m    \u001b[49m\u001b[43msource_path\u001b[49m\u001b[38;5;241;43m=\u001b[39;49m\u001b[43msqlite_file\u001b[49m\u001b[43m,\u001b[49m\n\u001b[1;32m      4\u001b[0m \u001b[43m    \u001b[49m\u001b[43mdest_path\u001b[49m\u001b[38;5;241;43m=\u001b[39;49m\u001b[43mdest_path\u001b[49m\u001b[43m,\u001b[49m\n\u001b[1;32m      5\u001b[0m \u001b[43m    \u001b[49m\u001b[43mdest_datatype\u001b[49m\u001b[38;5;241;43m=\u001b[39;49m\u001b[43mdest_datatype\u001b[49m\u001b[43m,\u001b[49m\n\u001b[1;32m      6\u001b[0m \u001b[43m    \u001b[49m\u001b[43mpreset\u001b[49m\u001b[38;5;241;43m=\u001b[39;49m\u001b[43mpreset\u001b[49m\u001b[43m,\u001b[49m\n\u001b[1;32m      7\u001b[0m \u001b[43m    \u001b[49m\u001b[43mparsl_config\u001b[49m\u001b[38;5;241;43m=\u001b[39;49m\u001b[43mConfig\u001b[49m\u001b[43m(\u001b[49m\n\u001b[1;32m      8\u001b[0m \u001b[43m        \u001b[49m\u001b[43mexecutors\u001b[49m\u001b[38;5;241;43m=\u001b[39;49m\u001b[43m[\u001b[49m\u001b[43mHighThroughputExecutor\u001b[49m\u001b[43m(\u001b[49m\u001b[43m)\u001b[49m\u001b[43m]\u001b[49m\u001b[43m,\u001b[49m\n\u001b[1;32m      9\u001b[0m \u001b[43m    \u001b[49m\u001b[43m)\u001b[49m\u001b[43m,\u001b[49m\n\u001b[1;32m     10\u001b[0m \u001b[43m    \u001b[49m\u001b[43mchunk_size\u001b[49m\u001b[38;5;241;43m=\u001b[39;49m\u001b[38;5;241;43m1000\u001b[39;49m\u001b[43m,\u001b[49m\n\u001b[1;32m     11\u001b[0m \u001b[43m)\u001b[49m\n",
                        "File \u001b[0;32m~/miniforge3/envs/cellprofiler_timelapse_env/lib/python3.8/site-packages/cytotable/convert.py:1451\u001b[0m, in \u001b[0;36mconvert\u001b[0;34m(source_path, dest_path, dest_datatype, source_datatype, metadata, compartments, identifying_columns, concat, join, joins, chunk_size, infer_common_schema, drop_null, data_type_cast_map, page_keys, sort_output, preset, parsl_config, **kwargs)\u001b[0m\n\u001b[1;32m   1449\u001b[0m \u001b[38;5;66;03m# send sources to be written to parquet if selected\u001b[39;00m\n\u001b[1;32m   1450\u001b[0m \u001b[38;5;28;01mif\u001b[39;00m dest_datatype \u001b[38;5;241m==\u001b[39m \u001b[38;5;124m\"\u001b[39m\u001b[38;5;124mparquet\u001b[39m\u001b[38;5;124m\"\u001b[39m:\n\u001b[0;32m-> 1451\u001b[0m     output \u001b[38;5;241m=\u001b[39m \u001b[43m_to_parquet\u001b[49m\u001b[43m(\u001b[49m\n\u001b[1;32m   1452\u001b[0m \u001b[43m        \u001b[49m\u001b[43msource_path\u001b[49m\u001b[38;5;241;43m=\u001b[39;49m\u001b[43msource_path\u001b[49m\u001b[43m,\u001b[49m\n\u001b[1;32m   1453\u001b[0m \u001b[43m        \u001b[49m\u001b[43mdest_path\u001b[49m\u001b[38;5;241;43m=\u001b[39;49m\u001b[43mdest_path\u001b[49m\u001b[43m,\u001b[49m\n\u001b[1;32m   1454\u001b[0m \u001b[43m        \u001b[49m\u001b[43msource_datatype\u001b[49m\u001b[38;5;241;43m=\u001b[39;49m\u001b[43msource_datatype\u001b[49m\u001b[43m,\u001b[49m\n\u001b[1;32m   1455\u001b[0m \u001b[43m        \u001b[49m\u001b[43mmetadata\u001b[49m\u001b[38;5;241;43m=\u001b[39;49m\u001b[43mmetadata\u001b[49m\u001b[43m,\u001b[49m\n\u001b[1;32m   1456\u001b[0m \u001b[43m        \u001b[49m\u001b[43mcompartments\u001b[49m\u001b[38;5;241;43m=\u001b[39;49m\u001b[43mcompartments\u001b[49m\u001b[43m,\u001b[49m\n\u001b[1;32m   1457\u001b[0m \u001b[43m        \u001b[49m\u001b[43midentifying_columns\u001b[49m\u001b[38;5;241;43m=\u001b[39;49m\u001b[43midentifying_columns\u001b[49m\u001b[43m,\u001b[49m\n\u001b[1;32m   1458\u001b[0m \u001b[43m        \u001b[49m\u001b[43mconcat\u001b[49m\u001b[38;5;241;43m=\u001b[39;49m\u001b[43mconcat\u001b[49m\u001b[43m,\u001b[49m\n\u001b[1;32m   1459\u001b[0m \u001b[43m        \u001b[49m\u001b[43mjoin\u001b[49m\u001b[38;5;241;43m=\u001b[39;49m\u001b[43mjoin\u001b[49m\u001b[43m,\u001b[49m\n\u001b[1;32m   1460\u001b[0m \u001b[43m        \u001b[49m\u001b[43mjoins\u001b[49m\u001b[38;5;241;43m=\u001b[39;49m\u001b[43mjoins\u001b[49m\u001b[43m,\u001b[49m\n\u001b[1;32m   1461\u001b[0m \u001b[43m        \u001b[49m\u001b[43mchunk_size\u001b[49m\u001b[38;5;241;43m=\u001b[39;49m\u001b[43mchunk_size\u001b[49m\u001b[43m,\u001b[49m\n\u001b[1;32m   1462\u001b[0m \u001b[43m        \u001b[49m\u001b[43minfer_common_schema\u001b[49m\u001b[38;5;241;43m=\u001b[39;49m\u001b[43minfer_common_schema\u001b[49m\u001b[43m,\u001b[49m\n\u001b[1;32m   1463\u001b[0m \u001b[43m        \u001b[49m\u001b[43mdrop_null\u001b[49m\u001b[38;5;241;43m=\u001b[39;49m\u001b[43mdrop_null\u001b[49m\u001b[43m,\u001b[49m\n\u001b[1;32m   1464\u001b[0m \u001b[43m        \u001b[49m\u001b[43mdata_type_cast_map\u001b[49m\u001b[38;5;241;43m=\u001b[39;49m\u001b[43mdata_type_cast_map\u001b[49m\u001b[43m,\u001b[49m\n\u001b[1;32m   1465\u001b[0m \u001b[43m        \u001b[49m\u001b[43msort_output\u001b[49m\u001b[38;5;241;43m=\u001b[39;49m\u001b[43msort_output\u001b[49m\u001b[43m,\u001b[49m\n\u001b[1;32m   1466\u001b[0m \u001b[43m        \u001b[49m\u001b[43mpage_keys\u001b[49m\u001b[38;5;241;43m=\u001b[39;49m\u001b[43mcast\u001b[49m\u001b[43m(\u001b[49m\u001b[38;5;28;43mdict\u001b[39;49m\u001b[43m,\u001b[49m\u001b[43m \u001b[49m\u001b[43mpage_keys\u001b[49m\u001b[43m)\u001b[49m\u001b[43m,\u001b[49m\n\u001b[1;32m   1467\u001b[0m \u001b[43m        \u001b[49m\u001b[38;5;241;43m*\u001b[39;49m\u001b[38;5;241;43m*\u001b[39;49m\u001b[43mkwargs\u001b[49m\u001b[43m,\u001b[49m\n\u001b[1;32m   1468\u001b[0m \u001b[43m    \u001b[49m\u001b[43m)\u001b[49m\n\u001b[1;32m   1470\u001b[0m \u001b[38;5;28;01mreturn\u001b[39;00m output\n",
                        "File \u001b[0;32m~/miniforge3/envs/cellprofiler_timelapse_env/lib/python3.8/site-packages/cytotable/convert.py:1167\u001b[0m, in \u001b[0;36m_to_parquet\u001b[0;34m(source_path, dest_path, source_datatype, metadata, compartments, identifying_columns, concat, join, joins, chunk_size, infer_common_schema, drop_null, sort_output, page_keys, data_type_cast_map, **kwargs)\u001b[0m\n\u001b[1;32m   1121\u001b[0m \u001b[38;5;66;03m# gather column names and types from source tables\u001b[39;00m\n\u001b[1;32m   1122\u001b[0m column_names_and_types_gathered \u001b[38;5;241m=\u001b[39m {\n\u001b[1;32m   1123\u001b[0m     source_group_name: [\n\u001b[1;32m   1124\u001b[0m         \u001b[38;5;28mdict\u001b[39m(\n\u001b[0;32m   (...)\u001b[0m\n\u001b[1;32m   1137\u001b[0m     \u001b[38;5;28;01mfor\u001b[39;00m source_group_name, source_group_vals \u001b[38;5;129;01min\u001b[39;00m invalid_files_dropped\u001b[38;5;241m.\u001b[39mitems()\n\u001b[1;32m   1138\u001b[0m }\n\u001b[1;32m   1140\u001b[0m results \u001b[38;5;241m=\u001b[39m {\n\u001b[1;32m   1141\u001b[0m     source_group_name: [\n\u001b[1;32m   1142\u001b[0m         \u001b[38;5;28mdict\u001b[39m(\n\u001b[1;32m   1143\u001b[0m             source,\n\u001b[1;32m   1144\u001b[0m             \u001b[38;5;241m*\u001b[39m\u001b[38;5;241m*\u001b[39m{\n\u001b[1;32m   1145\u001b[0m                 \u001b[38;5;124m\"\u001b[39m\u001b[38;5;124mtable\u001b[39m\u001b[38;5;124m\"\u001b[39m: [\n\u001b[1;32m   1146\u001b[0m                     \u001b[38;5;66;03m# perform column renaming and create potential return result\u001b[39;00m\n\u001b[1;32m   1147\u001b[0m                     _prepend_column_name(\n\u001b[1;32m   1148\u001b[0m                         \u001b[38;5;66;03m# perform chunked data export to parquet using pagesets\u001b[39;00m\n\u001b[1;32m   1149\u001b[0m                         table_path\u001b[38;5;241m=\u001b[39m_source_pageset_to_parquet(\n\u001b[1;32m   1150\u001b[0m                             source_group_name\u001b[38;5;241m=\u001b[39msource_group_name,\n\u001b[1;32m   1151\u001b[0m                             source\u001b[38;5;241m=\u001b[39msource,\n\u001b[1;32m   1152\u001b[0m                             pageset\u001b[38;5;241m=\u001b[39mpageset,\n\u001b[1;32m   1153\u001b[0m                             dest_path\u001b[38;5;241m=\u001b[39mexpanded_dest_path,\n\u001b[1;32m   1154\u001b[0m                             sort_output\u001b[38;5;241m=\u001b[39msort_output,\n\u001b[1;32m   1155\u001b[0m                         ),\n\u001b[1;32m   1156\u001b[0m                         source_group_name\u001b[38;5;241m=\u001b[39msource_group_name,\n\u001b[1;32m   1157\u001b[0m                         identifying_columns\u001b[38;5;241m=\u001b[39midentifying_columns,\n\u001b[1;32m   1158\u001b[0m                         metadata\u001b[38;5;241m=\u001b[39mmetadata,\n\u001b[1;32m   1159\u001b[0m                         compartments\u001b[38;5;241m=\u001b[39mcompartments,\n\u001b[1;32m   1160\u001b[0m                     )\n\u001b[1;32m   1161\u001b[0m                     \u001b[38;5;28;01mfor\u001b[39;00m pageset \u001b[38;5;129;01min\u001b[39;00m source[\u001b[38;5;124m\"\u001b[39m\u001b[38;5;124mpagesets\u001b[39m\u001b[38;5;124m\"\u001b[39m]\n\u001b[1;32m   1162\u001b[0m                 ]\n\u001b[1;32m   1163\u001b[0m             },\n\u001b[1;32m   1164\u001b[0m         )\n\u001b[1;32m   1165\u001b[0m         \u001b[38;5;28;01mfor\u001b[39;00m source \u001b[38;5;129;01min\u001b[39;00m source_group_vals\n\u001b[1;32m   1166\u001b[0m     ]\n\u001b[0;32m-> 1167\u001b[0m     \u001b[38;5;28;01mfor\u001b[39;00m source_group_name, source_group_vals \u001b[38;5;129;01min\u001b[39;00m \u001b[43mevaluate_futures\u001b[49m\u001b[43m(\u001b[49m\n\u001b[1;32m   1168\u001b[0m \u001b[43m        \u001b[49m\u001b[43mcolumn_names_and_types_gathered\u001b[49m\n\u001b[1;32m   1169\u001b[0m \u001b[43m    \u001b[49m\u001b[43m)\u001b[49m\u001b[38;5;241m.\u001b[39mitems()\n\u001b[1;32m   1170\u001b[0m }\n\u001b[1;32m   1172\u001b[0m \u001b[38;5;66;03m# if we're concatting or joining and need to infer the common schema\u001b[39;00m\n\u001b[1;32m   1173\u001b[0m \u001b[38;5;28;01mif\u001b[39;00m (concat \u001b[38;5;129;01mor\u001b[39;00m join) \u001b[38;5;129;01mand\u001b[39;00m infer_common_schema:\n\u001b[1;32m   1174\u001b[0m     \u001b[38;5;66;03m# create a common schema for concatenation work\u001b[39;00m\n",
                        "File \u001b[0;32m~/miniforge3/envs/cellprofiler_timelapse_env/lib/python3.8/site-packages/cytotable/utils.py:553\u001b[0m, in \u001b[0;36mevaluate_futures\u001b[0;34m(sources)\u001b[0m\n\u001b[1;32m    534\u001b[0m \u001b[38;5;28;01mdef\u001b[39;00m \u001b[38;5;21mevaluate_futures\u001b[39m(sources: Union[Dict[\u001b[38;5;28mstr\u001b[39m, List[Dict[\u001b[38;5;28mstr\u001b[39m, Any]]], \u001b[38;5;28mstr\u001b[39m]) \u001b[38;5;241m-\u001b[39m\u001b[38;5;241m>\u001b[39m Any:\n\u001b[1;32m    535\u001b[0m \u001b[38;5;250m    \u001b[39m\u001b[38;5;124;03m\"\"\"\u001b[39;00m\n\u001b[1;32m    536\u001b[0m \u001b[38;5;124;03m    Evaluates any Parsl futures for use within other tasks.\u001b[39;00m\n\u001b[1;32m    537\u001b[0m \u001b[38;5;124;03m    This enables a pattern of Parsl app usage as \"tasks\" and delayed\u001b[39;00m\n\u001b[0;32m   (...)\u001b[0m\n\u001b[1;32m    549\u001b[0m \u001b[38;5;124;03m            A data structure which includes evaluated futures where they were found.\u001b[39;00m\n\u001b[1;32m    550\u001b[0m \u001b[38;5;124;03m    \"\"\"\u001b[39;00m\n\u001b[1;32m    552\u001b[0m     \u001b[38;5;28;01mreturn\u001b[39;00m (\n\u001b[0;32m--> 553\u001b[0m         {\n\u001b[1;32m    554\u001b[0m             source_group_name: [\n\u001b[1;32m    555\u001b[0m                 \u001b[38;5;66;03m# unwrap sources into future results\u001b[39;00m\n\u001b[1;32m    556\u001b[0m                 _unwrap_source(source)\n\u001b[1;32m    557\u001b[0m                 \u001b[38;5;28;01mfor\u001b[39;00m source \u001b[38;5;129;01min\u001b[39;00m (\n\u001b[1;32m    558\u001b[0m                     source_group_vals\u001b[38;5;241m.\u001b[39mresult()\n\u001b[1;32m    559\u001b[0m                     \u001b[38;5;66;03m# if we have a future, return the result\u001b[39;00m\n\u001b[1;32m    560\u001b[0m                     \u001b[38;5;28;01mif\u001b[39;00m \u001b[38;5;28misinstance\u001b[39m(source_group_vals, parsl\u001b[38;5;241m.\u001b[39mdataflow\u001b[38;5;241m.\u001b[39mfutures\u001b[38;5;241m.\u001b[39mAppFuture)\n\u001b[1;32m    561\u001b[0m                     \u001b[38;5;66;03m# otherwise return the value\u001b[39;00m\n\u001b[1;32m    562\u001b[0m                     \u001b[38;5;28;01melse\u001b[39;00m source_group_vals\n\u001b[1;32m    563\u001b[0m                 )\n\u001b[1;32m    564\u001b[0m             ]\n\u001b[1;32m    565\u001b[0m             \u001b[38;5;28;01mfor\u001b[39;00m source_group_name, source_group_vals \u001b[38;5;129;01min\u001b[39;00m sources\u001b[38;5;241m.\u001b[39mitems()\n\u001b[1;32m    566\u001b[0m             \u001b[38;5;66;03m# if we have a dict, use the above, otherwise unwrap the value in case of future\u001b[39;00m\n\u001b[1;32m    567\u001b[0m         }\n\u001b[1;32m    568\u001b[0m         \u001b[38;5;28;01mif\u001b[39;00m \u001b[38;5;28misinstance\u001b[39m(sources, \u001b[38;5;28mdict\u001b[39m)\n\u001b[1;32m    569\u001b[0m         \u001b[38;5;28;01melse\u001b[39;00m _unwrap_value(sources)\n\u001b[1;32m    570\u001b[0m     )\n",
                        "File \u001b[0;32m~/miniforge3/envs/cellprofiler_timelapse_env/lib/python3.8/site-packages/cytotable/utils.py:554\u001b[0m, in \u001b[0;36m<dictcomp>\u001b[0;34m(.0)\u001b[0m\n\u001b[1;32m    534\u001b[0m \u001b[38;5;28;01mdef\u001b[39;00m \u001b[38;5;21mevaluate_futures\u001b[39m(sources: Union[Dict[\u001b[38;5;28mstr\u001b[39m, List[Dict[\u001b[38;5;28mstr\u001b[39m, Any]]], \u001b[38;5;28mstr\u001b[39m]) \u001b[38;5;241m-\u001b[39m\u001b[38;5;241m>\u001b[39m Any:\n\u001b[1;32m    535\u001b[0m \u001b[38;5;250m    \u001b[39m\u001b[38;5;124;03m\"\"\"\u001b[39;00m\n\u001b[1;32m    536\u001b[0m \u001b[38;5;124;03m    Evaluates any Parsl futures for use within other tasks.\u001b[39;00m\n\u001b[1;32m    537\u001b[0m \u001b[38;5;124;03m    This enables a pattern of Parsl app usage as \"tasks\" and delayed\u001b[39;00m\n\u001b[0;32m   (...)\u001b[0m\n\u001b[1;32m    549\u001b[0m \u001b[38;5;124;03m            A data structure which includes evaluated futures where they were found.\u001b[39;00m\n\u001b[1;32m    550\u001b[0m \u001b[38;5;124;03m    \"\"\"\u001b[39;00m\n\u001b[1;32m    552\u001b[0m     \u001b[38;5;28;01mreturn\u001b[39;00m (\n\u001b[1;32m    553\u001b[0m         {\n\u001b[0;32m--> 554\u001b[0m             source_group_name: [\n\u001b[1;32m    555\u001b[0m                 \u001b[38;5;66;03m# unwrap sources into future results\u001b[39;00m\n\u001b[1;32m    556\u001b[0m                 _unwrap_source(source)\n\u001b[1;32m    557\u001b[0m                 \u001b[38;5;28;01mfor\u001b[39;00m source \u001b[38;5;129;01min\u001b[39;00m (\n\u001b[1;32m    558\u001b[0m                     source_group_vals\u001b[38;5;241m.\u001b[39mresult()\n\u001b[1;32m    559\u001b[0m                     \u001b[38;5;66;03m# if we have a future, return the result\u001b[39;00m\n\u001b[1;32m    560\u001b[0m                     \u001b[38;5;28;01mif\u001b[39;00m \u001b[38;5;28misinstance\u001b[39m(source_group_vals, parsl\u001b[38;5;241m.\u001b[39mdataflow\u001b[38;5;241m.\u001b[39mfutures\u001b[38;5;241m.\u001b[39mAppFuture)\n\u001b[1;32m    561\u001b[0m                     \u001b[38;5;66;03m# otherwise return the value\u001b[39;00m\n\u001b[1;32m    562\u001b[0m                     \u001b[38;5;28;01melse\u001b[39;00m source_group_vals\n\u001b[1;32m    563\u001b[0m                 )\n\u001b[1;32m    564\u001b[0m             ]\n\u001b[1;32m    565\u001b[0m             \u001b[38;5;28;01mfor\u001b[39;00m source_group_name, source_group_vals \u001b[38;5;129;01min\u001b[39;00m sources\u001b[38;5;241m.\u001b[39mitems()\n\u001b[1;32m    566\u001b[0m             \u001b[38;5;66;03m# if we have a dict, use the above, otherwise unwrap the value in case of future\u001b[39;00m\n\u001b[1;32m    567\u001b[0m         }\n\u001b[1;32m    568\u001b[0m         \u001b[38;5;28;01mif\u001b[39;00m \u001b[38;5;28misinstance\u001b[39m(sources, \u001b[38;5;28mdict\u001b[39m)\n\u001b[1;32m    569\u001b[0m         \u001b[38;5;28;01melse\u001b[39;00m _unwrap_value(sources)\n\u001b[1;32m    570\u001b[0m     )\n",
                        "File \u001b[0;32m~/miniforge3/envs/cellprofiler_timelapse_env/lib/python3.8/site-packages/cytotable/utils.py:556\u001b[0m, in \u001b[0;36m<listcomp>\u001b[0;34m(.0)\u001b[0m\n\u001b[1;32m    534\u001b[0m \u001b[38;5;28;01mdef\u001b[39;00m \u001b[38;5;21mevaluate_futures\u001b[39m(sources: Union[Dict[\u001b[38;5;28mstr\u001b[39m, List[Dict[\u001b[38;5;28mstr\u001b[39m, Any]]], \u001b[38;5;28mstr\u001b[39m]) \u001b[38;5;241m-\u001b[39m\u001b[38;5;241m>\u001b[39m Any:\n\u001b[1;32m    535\u001b[0m \u001b[38;5;250m    \u001b[39m\u001b[38;5;124;03m\"\"\"\u001b[39;00m\n\u001b[1;32m    536\u001b[0m \u001b[38;5;124;03m    Evaluates any Parsl futures for use within other tasks.\u001b[39;00m\n\u001b[1;32m    537\u001b[0m \u001b[38;5;124;03m    This enables a pattern of Parsl app usage as \"tasks\" and delayed\u001b[39;00m\n\u001b[0;32m   (...)\u001b[0m\n\u001b[1;32m    549\u001b[0m \u001b[38;5;124;03m            A data structure which includes evaluated futures where they were found.\u001b[39;00m\n\u001b[1;32m    550\u001b[0m \u001b[38;5;124;03m    \"\"\"\u001b[39;00m\n\u001b[1;32m    552\u001b[0m     \u001b[38;5;28;01mreturn\u001b[39;00m (\n\u001b[1;32m    553\u001b[0m         {\n\u001b[1;32m    554\u001b[0m             source_group_name: [\n\u001b[1;32m    555\u001b[0m                 \u001b[38;5;66;03m# unwrap sources into future results\u001b[39;00m\n\u001b[0;32m--> 556\u001b[0m                 \u001b[43m_unwrap_source\u001b[49m\u001b[43m(\u001b[49m\u001b[43msource\u001b[49m\u001b[43m)\u001b[49m\n\u001b[1;32m    557\u001b[0m                 \u001b[38;5;28;01mfor\u001b[39;00m source \u001b[38;5;129;01min\u001b[39;00m (\n\u001b[1;32m    558\u001b[0m                     source_group_vals\u001b[38;5;241m.\u001b[39mresult()\n\u001b[1;32m    559\u001b[0m                     \u001b[38;5;66;03m# if we have a future, return the result\u001b[39;00m\n\u001b[1;32m    560\u001b[0m                     \u001b[38;5;28;01mif\u001b[39;00m \u001b[38;5;28misinstance\u001b[39m(source_group_vals, parsl\u001b[38;5;241m.\u001b[39mdataflow\u001b[38;5;241m.\u001b[39mfutures\u001b[38;5;241m.\u001b[39mAppFuture)\n\u001b[1;32m    561\u001b[0m                     \u001b[38;5;66;03m# otherwise return the value\u001b[39;00m\n\u001b[1;32m    562\u001b[0m                     \u001b[38;5;28;01melse\u001b[39;00m source_group_vals\n\u001b[1;32m    563\u001b[0m                 )\n\u001b[1;32m    564\u001b[0m             ]\n\u001b[1;32m    565\u001b[0m             \u001b[38;5;28;01mfor\u001b[39;00m source_group_name, source_group_vals \u001b[38;5;129;01min\u001b[39;00m sources\u001b[38;5;241m.\u001b[39mitems()\n\u001b[1;32m    566\u001b[0m             \u001b[38;5;66;03m# if we have a dict, use the above, otherwise unwrap the value in case of future\u001b[39;00m\n\u001b[1;32m    567\u001b[0m         }\n\u001b[1;32m    568\u001b[0m         \u001b[38;5;28;01mif\u001b[39;00m \u001b[38;5;28misinstance\u001b[39m(sources, \u001b[38;5;28mdict\u001b[39m)\n\u001b[1;32m    569\u001b[0m         \u001b[38;5;28;01melse\u001b[39;00m _unwrap_value(sources)\n\u001b[1;32m    570\u001b[0m     )\n",
                        "File \u001b[0;32m~/miniforge3/envs/cellprofiler_timelapse_env/lib/python3.8/site-packages/cytotable/utils.py:528\u001b[0m, in \u001b[0;36m_unwrap_source\u001b[0;34m(source)\u001b[0m\n\u001b[1;32m    526\u001b[0m \u001b[38;5;66;03m# if we have a dictionary, unwrap any values which may be futures\u001b[39;00m\n\u001b[1;32m    527\u001b[0m \u001b[38;5;28;01mif\u001b[39;00m \u001b[38;5;28misinstance\u001b[39m(source, \u001b[38;5;28mdict\u001b[39m):\n\u001b[0;32m--> 528\u001b[0m     \u001b[38;5;28;01mreturn\u001b[39;00m {key: _unwrap_value(val) \u001b[38;5;28;01mfor\u001b[39;00m key, val \u001b[38;5;129;01min\u001b[39;00m source\u001b[38;5;241m.\u001b[39mitems()}\n\u001b[1;32m    529\u001b[0m \u001b[38;5;28;01melse\u001b[39;00m:\n\u001b[1;32m    530\u001b[0m     \u001b[38;5;66;03m# otherwise try to unwrap the source as-is without dictionary nesting\u001b[39;00m\n\u001b[1;32m    531\u001b[0m     \u001b[38;5;28;01mreturn\u001b[39;00m _unwrap_value(source)\n",
                        "File \u001b[0;32m~/miniforge3/envs/cellprofiler_timelapse_env/lib/python3.8/site-packages/cytotable/utils.py:528\u001b[0m, in \u001b[0;36m<dictcomp>\u001b[0;34m(.0)\u001b[0m\n\u001b[1;32m    526\u001b[0m \u001b[38;5;66;03m# if we have a dictionary, unwrap any values which may be futures\u001b[39;00m\n\u001b[1;32m    527\u001b[0m \u001b[38;5;28;01mif\u001b[39;00m \u001b[38;5;28misinstance\u001b[39m(source, \u001b[38;5;28mdict\u001b[39m):\n\u001b[0;32m--> 528\u001b[0m     \u001b[38;5;28;01mreturn\u001b[39;00m {key: \u001b[43m_unwrap_value\u001b[49m\u001b[43m(\u001b[49m\u001b[43mval\u001b[49m\u001b[43m)\u001b[49m \u001b[38;5;28;01mfor\u001b[39;00m key, val \u001b[38;5;129;01min\u001b[39;00m source\u001b[38;5;241m.\u001b[39mitems()}\n\u001b[1;32m    529\u001b[0m \u001b[38;5;28;01melse\u001b[39;00m:\n\u001b[1;32m    530\u001b[0m     \u001b[38;5;66;03m# otherwise try to unwrap the source as-is without dictionary nesting\u001b[39;00m\n\u001b[1;32m    531\u001b[0m     \u001b[38;5;28;01mreturn\u001b[39;00m _unwrap_value(source)\n",
                        "File \u001b[0;32m~/miniforge3/envs/cellprofiler_timelapse_env/lib/python3.8/site-packages/cytotable/utils.py:500\u001b[0m, in \u001b[0;36m_unwrap_value\u001b[0;34m(val)\u001b[0m\n\u001b[1;32m    497\u001b[0m     \u001b[38;5;28;01mreturn\u001b[39;00m val\u001b[38;5;241m.\u001b[39mresult()\n\u001b[1;32m    498\u001b[0m \u001b[38;5;28;01melif\u001b[39;00m \u001b[38;5;28misinstance\u001b[39m(val, \u001b[38;5;28mlist\u001b[39m):\n\u001b[1;32m    499\u001b[0m     \u001b[38;5;66;03m# if we have a list of futures, return the results\u001b[39;00m\n\u001b[0;32m--> 500\u001b[0m     \u001b[38;5;28;01mif\u001b[39;00m \u001b[38;5;28misinstance\u001b[39m(\u001b[43mval\u001b[49m\u001b[43m[\u001b[49m\u001b[38;5;241;43m0\u001b[39;49m\u001b[43m]\u001b[49m, parsl\u001b[38;5;241m.\u001b[39mdataflow\u001b[38;5;241m.\u001b[39mfutures\u001b[38;5;241m.\u001b[39mAppFuture):\n\u001b[1;32m    501\u001b[0m         \u001b[38;5;28;01mreturn\u001b[39;00m [elem\u001b[38;5;241m.\u001b[39mresult() \u001b[38;5;28;01mfor\u001b[39;00m elem \u001b[38;5;129;01min\u001b[39;00m val]\n\u001b[1;32m    502\u001b[0m \u001b[38;5;66;03m# otherwise return the value\u001b[39;00m\n",
                        "\u001b[0;31mIndexError\u001b[0m: list index out of range"
                    ]
                }
            ],
            "source": [
                "# merge single cells and output as parquet file\n",
                "convert(\n",
                "    source_path=sqlite_file,\n",
                "    dest_path=dest_path,\n",
                "    dest_datatype=dest_datatype,\n",
                "    preset=preset,\n",
                "    parsl_config=Config(\n",
                "        executors=[HighThroughputExecutor()],\n",
                "    ),\n",
                "    chunk_size=1000,\n",
                ")"
            ]
        },
        {
            "cell_type": "code",
            "execution_count": null,
            "metadata": {},
            "outputs": [],
            "source": [
                "print(f\"Merged and converted {pathlib.Path(dest_path).name}!\")\n",
                "df = pd.read_parquet(dest_path)\n",
                "print(f\"Shape of {pathlib.Path(dest_path).name}: {df.shape}\")\n",
                "# add single cell count per well as metadata column to parquet file and save back to same path\n",
                "sc_utils.add_sc_count_metadata_file(\n",
                "    data_path=dest_path,\n",
                "    well_column_name=\"Metadata_ImageNumber\",\n",
                "    file_type=\"parquet\",\n",
                ")\n",
                "# read the parquet file to check if metadata was added\n",
                "df1 = pd.read_parquet(dest_path)\n",
                "print(f\"Shape of {pathlib.Path(dest_path).name}: {df.shape}\")\n",
                "print(f\"Added single cell count as metadata to {pathlib.Path(dest_path).name}!\")"
            ]
        },
        {
            "cell_type": "code",
            "execution_count": null,
            "metadata": {},
            "outputs": [],
            "source": [
                "df1.head()"
            ]
        }
    ],
    "metadata": {
        "kernelspec": {
            "display_name": "cellprofiler_timelapse_env",
            "language": "python",
            "name": "python3"
        },
        "language_info": {
            "codemirror_mode": {
                "name": "ipython",
                "version": 3
            },
            "file_extension": ".py",
            "mimetype": "text/x-python",
            "name": "python",
            "nbconvert_exporter": "python",
            "pygments_lexer": "ipython3",
            "version": "3.8.20"
        },
        "orig_nbformat": 4
    },
    "nbformat": 4,
    "nbformat_minor": 2
}
