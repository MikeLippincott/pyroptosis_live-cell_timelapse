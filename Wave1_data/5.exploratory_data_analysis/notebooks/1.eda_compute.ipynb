{
    "cells": [
        {
            "cell_type": "markdown",
            "metadata": {},
            "source": [
                "This notebook explores the data at hand to understand the distribution and shape, as well as perform some pca and UMAP analysis to understand the data better."
            ]
        },
        {
            "cell_type": "code",
            "execution_count": 1,
            "metadata": {},
            "outputs": [],
            "source": [
                "import pathlib\n",
                "from pprint import pprint\n",
                "\n",
                "import matplotlib.pyplot as plt\n",
                "import numpy as np\n",
                "import pandas as pd\n",
                "import pyarrow.parquet as pq\n",
                "import seaborn as sns\n",
                "import umap\n",
                "from sklearn.decomposition import PCA"
            ]
        },
        {
            "cell_type": "code",
            "execution_count": null,
            "metadata": {},
            "outputs": [],
            "source": [
                "figure_dir = pathlib.Path(\"../figures\").resolve()\n",
                "output_data_dir = pathlib.Path(\"../data\").resolve()\n",
                "figure_dir.mkdir(parents=True, exist_ok=True)\n",
                "output_data_dir.mkdir(parents=True, exist_ok=True)\n",
                "\n",
                "data_subset = False"
            ]
        },
        {
            "cell_type": "code",
            "execution_count": 3,
            "metadata": {},
            "outputs": [
                {
                    "name": "stdout",
                    "output_type": "stream",
                    "text": [
                        "{'first_time': {'figure_dir': PosixPath('/home/lippincm/Documents/pyroptosis_live-cell_timelapse/Wave1_data/5.exploratory_data_analysis/figures/first_time'),\n",
                        "                'input_file_path': PosixPath('/home/lippincm/Documents/pyroptosis_live-cell_timelapse/Wave1_data/4.processing_profiled_features/data/feature_selected_data/live_cell_pyroptosis_wave1_sc_first_time_norm_fs.parquet'),\n",
                        "                'input_file_path_subset': PosixPath('/home/lippincm/Documents/pyroptosis_live-cell_timelapse/Wave1_data/5.exploratory_data_analysis/data/first_time/live_cell_pyroptosis_wave1_sc_first_time_norm_fs_subset_testing_data.parquet'),\n",
                        "                'output_data_dir': PosixPath('/home/lippincm/Documents/pyroptosis_live-cell_timelapse/Wave1_data/5.exploratory_data_analysis/data/first_time')},\n",
                        " 'pan_time': {'figure_dir': PosixPath('/home/lippincm/Documents/pyroptosis_live-cell_timelapse/Wave1_data/5.exploratory_data_analysis/figures/pan_time'),\n",
                        "              'input_file_path': PosixPath('/home/lippincm/Documents/pyroptosis_live-cell_timelapse/Wave1_data/4.processing_profiled_features/data/feature_selected_data/live_cell_pyroptosis_wave1_sc_pan_time_norm_fs.parquet'),\n",
                        "              'input_file_path_subset': PosixPath('/home/lippincm/Documents/pyroptosis_live-cell_timelapse/Wave1_data/5.exploratory_data_analysis/data/pan_time/live_cell_pyroptosis_wave1_sc_pan_time_norm_fs_subset_testing_data.parquet'),\n",
                        "              'output_data_dir': PosixPath('/home/lippincm/Documents/pyroptosis_live-cell_timelapse/Wave1_data/5.exploratory_data_analysis/data/pan_time')},\n",
                        " 'within_time': {'figure_dir': PosixPath('/home/lippincm/Documents/pyroptosis_live-cell_timelapse/Wave1_data/5.exploratory_data_analysis/figures/within_time'),\n",
                        "                 'input_file_path': PosixPath('/home/lippincm/Documents/pyroptosis_live-cell_timelapse/Wave1_data/4.processing_profiled_features/data/feature_selected_data/live_cell_pyroptosis_wave1_sc_within_time_norm_fs.parquet'),\n",
                        "                 'input_file_path_subset': PosixPath('/home/lippincm/Documents/pyroptosis_live-cell_timelapse/Wave1_data/5.exploratory_data_analysis/data/within_time/live_cell_pyroptosis_wave1_sc_within_time_norm_fs_subset_testing_data.parquet'),\n",
                        "                 'output_data_dir': PosixPath('/home/lippincm/Documents/pyroptosis_live-cell_timelapse/Wave1_data/5.exploratory_data_analysis/data/within_time')}}\n"
                    ]
                }
            ],
            "source": [
                "input_data_dict = {\n",
                "    \"first_time\": {\n",
                "        \"input_file_path_subset\": pathlib.Path(\n",
                "            \"../data/first_time/live_cell_pyroptosis_wave1_sc_first_time_norm_fs_subset_testing_data.parquet\"\n",
                "        ).resolve(strict=True),\n",
                "        \"input_file_path\": pathlib.Path(\n",
                "            \"../../4.processing_profiled_features/data/feature_selected_data/live_cell_pyroptosis_wave1_sc_first_time_norm_fs.parquet\"\n",
                "        ).resolve(strict=True),\n",
                "        \"output_data_dir\": pathlib.Path(\"../data/first_time\").resolve(),\n",
                "        \"figure_dir\": pathlib.Path(\"../figures/first_time\").resolve(),\n",
                "    },\n",
                "    \"pan_time\": {\n",
                "        \"input_file_path_subset\": pathlib.Path(\n",
                "            \"../data/pan_time/live_cell_pyroptosis_wave1_sc_pan_time_norm_fs_subset_testing_data.parquet\"\n",
                "        ).resolve(strict=True),\n",
                "        \"input_file_path\": pathlib.Path(\n",
                "            \"../../4.processing_profiled_features/data/feature_selected_data/live_cell_pyroptosis_wave1_sc_pan_time_norm_fs.parquet\"\n",
                "        ).resolve(strict=True),\n",
                "        \"output_data_dir\": pathlib.Path(\"../data/pan_time\").resolve(),\n",
                "        \"figure_dir\": pathlib.Path(\"../figures/pan_time\").resolve(),\n",
                "    },\n",
                "    \"within_time\": {\n",
                "        \"input_file_path_subset\": pathlib.Path(\n",
                "            \"../data/within_time/live_cell_pyroptosis_wave1_sc_within_time_norm_fs_subset_testing_data.parquet\"\n",
                "        ).resolve(strict=True),\n",
                "        \"input_file_path\": pathlib.Path(\n",
                "            \"../../4.processing_profiled_features/data/feature_selected_data/live_cell_pyroptosis_wave1_sc_within_time_norm_fs.parquet\"\n",
                "        ).resolve(strict=True),\n",
                "        \"output_data_dir\": pathlib.Path(\"../data/within_time\").resolve(),\n",
                "        \"figure_dir\": pathlib.Path(\"../figures/within_time\").resolve(),\n",
                "    },\n",
                "}\n",
                "pprint(input_data_dict)"
            ]
        },
        {
            "cell_type": "code",
            "execution_count": 4,
            "metadata": {},
            "outputs": [
                {
                    "name": "stdout",
                    "output_type": "stream",
                    "text": [
                        "Original data shape: (4800, 824), features shape: (4800, 790), and metadata shape: (4800, 34)\n"
                    ]
                },
                {
                    "name": "stderr",
                    "output_type": "stream",
                    "text": [
                        "/home/lippincm/miniforge3/envs/pyroptosis_timnelapse_env/lib/python3.12/site-packages/umap/umap_.py:1952: UserWarning: n_jobs value 1 overridden to 1 by setting random_state. Use no seed for parallelism.\n",
                        "  warn(\n"
                    ]
                },
                {
                    "name": "stdout",
                    "output_type": "stream",
                    "text": [
                        "UMAP embedding shape: (4800, 36)\n",
                        "PCA embedding shape: (4800, 36)\n",
                        "Original data shape: (4800, 824), features shape: (4800, 790), and metadata shape: (4800, 34)\n",
                        "UMAP embedding shape: (4800, 36)\n",
                        "PCA embedding shape: (4800, 36)\n",
                        "Original data shape: (4800, 1570), features shape: (4800, 1536), and metadata shape: (4800, 34)\n",
                        "UMAP embedding shape: (4800, 36)\n",
                        "PCA embedding shape: (4800, 36)\n"
                    ]
                }
            ],
            "source": [
                "random_state = 0\n",
                "umap_reducer = umap.UMAP(\n",
                "    n_neighbors=15, min_dist=0.1, n_components=2, random_state=random_state\n",
                ")\n",
                "max_pca_components = 100\n",
                "scree_pca = PCA(n_components=max_pca_components)\n",
                "pca_reducer = PCA(n_components=2, random_state=random_state)\n",
                "\n",
                "for data_set_name in input_data_dict.keys():\n",
                "    data_df = pd.read_parquet(input_data_dict[data_set_name][\"input_file_path_subset\"])\n",
                "    # set the UMAP parameters\n",
                "    # separate the data into features and labels\n",
                "    metadata_columns = data_df.columns[data_df.columns.str.contains(\"Metadata\")]\n",
                "    metadata_columns_df = data_df[metadata_columns]\n",
                "    features_df = data_df.drop(metadata_columns, axis=1)\n",
                "    features_df = features_df.fillna(0)\n",
                "    print(\n",
                "        f\"Original data shape: {data_df.shape}, features shape: {features_df.shape}, and metadata shape: {metadata_columns_df.shape}\"\n",
                "    )\n",
                "\n",
                "    # fit the UMAP model\n",
                "    umap_embedding = umap_reducer.fit_transform(features_df)\n",
                "    umap_embedding_df = pd.DataFrame(umap_embedding, columns=[\"UMAP0\", \"UMAP1\"])\n",
                "    umap_embedding_df = pd.concat(\n",
                "        [metadata_columns_df.reset_index(drop=True), umap_embedding_df], axis=1\n",
                "    )\n",
                "\n",
                "    umap_embeddings_file_path = pathlib.Path(\n",
                "        input_data_dict[data_set_name][\"output_data_dir\"] / \"umap_embeddings.parquet\"\n",
                "    ).resolve()\n",
                "    umap_embedding_df.to_parquet(umap_embeddings_file_path)\n",
                "    print(f\"UMAP embedding shape: {umap_embedding_df.shape}\")\n",
                "    umap_embedding_df.head()\n",
                "    # scree plot analysis\n",
                "    scree_pca.fit(features_df)\n",
                "    pca_variance = scree_pca.explained_variance_ratio_\n",
                "\n",
                "    scree_plot_file_path = pathlib.Path(\n",
                "        input_data_dict[data_set_name][\"output_data_dir\"] / \"scree_plot.parquet\"\n",
                "    ).resolve()\n",
                "    scree_plot_df = pd.DataFrame(pca_variance, columns=[\"Explained Variance\"])\n",
                "    scree_plot_df[\"Principal Component\"] = range(1, max_pca_components + 1)\n",
                "    scree_plot_df.to_parquet(scree_plot_file_path)\n",
                "\n",
                "    # perform PCA on the data\n",
                "\n",
                "    pca_embedding = pca_reducer.fit_transform(features_df)\n",
                "    pca_embedding_df = pd.DataFrame(pca_embedding, columns=[\"PCA0\", \"PCA1\"])\n",
                "    pca_embedding_df = pd.concat(\n",
                "        [metadata_columns_df.reset_index(drop=True), pca_embedding_df], axis=1\n",
                "    )\n",
                "\n",
                "    pca_embeddings_file_path = pathlib.Path(\n",
                "        input_data_dict[data_set_name][\"output_data_dir\"] / \"pca_embeddings.parquet\"\n",
                "    ).resolve()\n",
                "    pca_embedding_df.to_parquet(pca_embeddings_file_path)\n",
                "    print(f\"PCA embedding shape: {pca_embedding_df.shape}\")\n",
                "    pca_embedding_df.head()"
            ]
        }
    ],
    "metadata": {
        "kernelspec": {
            "display_name": "pyroptosis_timnelapse_env",
            "language": "python",
            "name": "python3"
        },
        "language_info": {
            "codemirror_mode": {
                "name": "ipython",
                "version": 3
            },
            "file_extension": ".py",
            "mimetype": "text/x-python",
            "name": "python",
            "nbconvert_exporter": "python",
            "pygments_lexer": "ipython3",
            "version": "3.12.7"
        }
    },
    "nbformat": 4,
    "nbformat_minor": 2
}
