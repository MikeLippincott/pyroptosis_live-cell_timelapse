{
    "cells": [
        {
            "attachments": {},
            "cell_type": "markdown",
            "metadata": {},
            "source": [
                "# Annotate merged single cells with metadata from platemap file"
            ]
        },
        {
            "attachments": {},
            "cell_type": "markdown",
            "metadata": {},
            "source": [
                "## Import libraries"
            ]
        },
        {
            "cell_type": "code",
            "execution_count": 1,
            "metadata": {},
            "outputs": [
                {
                    "name": "stderr",
                    "output_type": "stream",
                    "text": [
                        "/home/lippincm/miniforge3/envs/cellprofiler_timelapse_env/lib/python3.8/site-packages/tqdm/auto.py:21: TqdmWarning: IProgress not found. Please update jupyter and ipywidgets. See https://ipywidgets.readthedocs.io/en/stable/user_install.html\n",
                        "  from .autonotebook import tqdm as notebook_tqdm\n"
                    ]
                }
            ],
            "source": [
                "import json\n",
                "import pathlib\n",
                "import sys\n",
                "\n",
                "import lancedb\n",
                "import matplotlib.pyplot as plt\n",
                "import numpy as np\n",
                "import pandas as pd\n",
                "import seaborn as sns\n",
                "from pycytominer import annotate\n",
                "from pycytominer.cyto_utils import output"
            ]
        },
        {
            "attachments": {},
            "cell_type": "markdown",
            "metadata": {},
            "source": [
                "## Set paths and variables"
            ]
        },
        {
            "cell_type": "code",
            "execution_count": 2,
            "metadata": {},
            "outputs": [],
            "source": [
                "# load in platemap file as a pandas dataframe\n",
                "platemap_path = pathlib.Path(\n",
                "    \"../../../data/raw/platemaps/wave1_plate_map.csv\"\n",
                ").resolve()\n",
                "well_mapping_path = pathlib.Path(\"../../../data/processed/well_map.json\").resolve(\n",
                "    strict=True\n",
                ")\n",
                "\n",
                "# directory where parquet files are located\n",
                "data_dir = pathlib.Path(\"../data/converted_data\")\n",
                "\n",
                "# directory where the annotated parquet files are saved to\n",
                "output_dir = pathlib.Path(\"../data/annotated_data\")\n",
                "output_dir.mkdir(exist_ok=True)\n",
                "\n",
                "well_number_to_name_map = json.load(open(well_mapping_path))"
            ]
        },
        {
            "cell_type": "code",
            "execution_count": 3,
            "metadata": {},
            "outputs": [
                {
                    "name": "stdout",
                    "output_type": "stream",
                    "text": [
                        "Processing 20241024T194653_W0053_F0001\n",
                        "Processing 20241026T134545_W0150_F0004\n",
                        "Processing 20241026T104653_W0082_F0005\n",
                        "Processing 3 files\n"
                    ]
                }
            ],
            "source": [
                "# get a list of all files in the data directory\n",
                "files = list(data_dir.glob(\"*.parquet\"))\n",
                "dict_of_inputs = {}\n",
                "for file in files:\n",
                "    file_name = file.stem\n",
                "    print(f\"Processing {file_name}\")\n",
                "    dict_of_inputs[file_name] = {\n",
                "        \"source_path\": f\"{file}\",\n",
                "        \"platemap_file_path\": f\"{platemap_path}\",\n",
                "    }\n",
                "print(f\"Processing {len(dict_of_inputs.keys())} files\")"
            ]
        },
        {
            "attachments": {},
            "cell_type": "markdown",
            "metadata": {},
            "source": [
                "## Annotate merged single cells"
            ]
        },
        {
            "cell_type": "code",
            "execution_count": 4,
            "metadata": {},
            "outputs": [
                {
                    "name": "stdout",
                    "output_type": "stream",
                    "text": [
                        "20241024T194653_W0053_F0001 has been annotated\n",
                        "With the input shape of (423, 2888)\n",
                        "Output shape of (423, 2897)\n",
                        "20241026T134545_W0150_F0004 has been annotated\n",
                        "With the input shape of (337, 2888)\n",
                        "Output shape of (337, 2897)\n",
                        "20241026T104653_W0082_F0005 has been annotated\n",
                        "With the input shape of (757, 2888)\n",
                        "Output shape of (757, 2897)\n"
                    ]
                }
            ],
            "source": [
                "for data_run, info in dict_of_inputs.items():\n",
                "    # load in converted parquet file as df to use in annotate function\n",
                "    single_cell_df = pd.read_parquet(info[\"source_path\"])\n",
                "\n",
                "    # map the well to the well_map\n",
                "    single_cell_df[\"Image_Metadata_Well\"] = single_cell_df[\"Image_Metadata_Well\"].map(\n",
                "        well_number_to_name_map\n",
                "    )\n",
                "\n",
                "    platemap_df = pd.read_csv(info[\"platemap_file_path\"])\n",
                "\n",
                "    output_file = str(pathlib.Path(f\"{output_dir}/{data_run}_sc.parquet\"))\n",
                "\n",
                "    # add metadata from platemap file to extracted single cell features\n",
                "    annotated_df = annotate(\n",
                "        profiles=single_cell_df,\n",
                "        platemap=platemap_df,\n",
                "        join_on=[\"Metadata_well\", \"Image_Metadata_Well\"],\n",
                "    )\n",
                "    annotated_df.rename(columns={\"Image_Metadata_FOV\": \"Metadata_FOV\"}, inplace=True)\n",
                "    annotated_df[\"Metadata_Plate\"] = data_run.split(\"_\")[0]\n",
                "\n",
                "    # move metadata well and single cell count to the front of the df (for easy visualization in python)\n",
                "    well_column = annotated_df.pop(\"Metadata_Well\")\n",
                "    singlecell_column = annotated_df.pop(\"Metadata_number_of_singlecells\")\n",
                "    FOV_column = annotated_df.pop(\"Metadata_FOV\")\n",
                "    plate_column = annotated_df.pop(\"Metadata_Plate\")\n",
                "    # insert the column as the second index column in the dataframe\n",
                "    annotated_df.insert(1, \"Metadata_Well\", well_column)\n",
                "    annotated_df.insert(2, \"Metadata_number_of_singlecells\", singlecell_column)\n",
                "    annotated_df.insert(3, \"Metadata_FOV\", FOV_column)\n",
                "    annotated_df.insert(4, \"Metadata_Plate\", plate_column)\n",
                "\n",
                "    # rename metadata columns to match the expected column names\n",
                "    columns_to_rename = {\n",
                "        \"Nuclei_Location_Center_Y\": \"Metadata_Nuclei_Location_Center_Y\",\n",
                "        \"Nuclei_Location_Center_X\": \"Metadata_Nuclei_Location_Center_X\",\n",
                "    }\n",
                "    # Image_FileName cols\n",
                "    for col in annotated_df.columns:\n",
                "        if \"Image_FileName\" in col:\n",
                "            columns_to_rename[col] = f\"Metadata_{col}\"\n",
                "        elif \"Image_PathName\" in col:\n",
                "            columns_to_rename[col] = f\"Metadata_{col}\"\n",
                "        elif \"TrackObjects\" in col:\n",
                "            columns_to_rename[col] = f\"Metadata_{col}\"\n",
                "    # rename metadata columns\n",
                "    annotated_df.rename(columns=columns_to_rename, inplace=True)\n",
                "\n",
                "    # save annotated df as parquet file\n",
                "    output(\n",
                "        df=annotated_df,\n",
                "        output_filename=output_file,\n",
                "        output_type=\"parquet\",\n",
                "    )\n",
                "    # check last annotated df to see if it has been annotated correctly\n",
                "    print(f\"{data_run} has been annotated\")\n",
                "    print(f\"With the input shape of {single_cell_df.shape}\")\n",
                "    print(f\"Output shape of {annotated_df.shape}\")"
            ]
        }
    ],
    "metadata": {
        "kernelspec": {
            "display_name": "interstellar_data",
            "language": "python",
            "name": "python3"
        },
        "language_info": {
            "codemirror_mode": {
                "name": "ipython",
                "version": 3
            },
            "file_extension": ".py",
            "mimetype": "text/x-python",
            "name": "python",
            "nbconvert_exporter": "python",
            "pygments_lexer": "ipython3",
            "version": "3.8.20"
        },
        "orig_nbformat": 4
    },
    "nbformat": 4,
    "nbformat_minor": 2
}
