{
    "cells": [
        {
            "cell_type": "code",
            "execution_count": 1,
            "metadata": {},
            "outputs": [],
            "source": [
                "import argparse\n",
                "import pathlib\n",
                "import random\n",
                "\n",
                "import numpy as np\n",
                "import pandas as pd\n",
                "from copairs import map\n",
                "from copairs.matching import assign_reference_index\n",
                "\n",
                "# check if in a jupyter notebook\n",
                "try:\n",
                "    cfg = get_ipython().config\n",
                "    in_notebook = True\n",
                "except NameError:\n",
                "    in_notebook = False\n",
                "import warnings\n",
                "\n",
                "import pycytominer.aggregate\n",
                "import tqdm\n",
                "\n",
                "# Suppress all RuntimeWarnings\n",
                "warnings.filterwarnings(\"ignore\", category=RuntimeWarning)\n",
                "\n",
                "#"
            ]
        },
        {
            "cell_type": "code",
            "execution_count": 2,
            "metadata": {},
            "outputs": [],
            "source": [
                "if not in_notebook:\n",
                "    # setup the argument parser\n",
                "    parser = argparse.ArgumentParser(\n",
                "        description=\"Generate a map for differing cell counts\"\n",
                "    )\n",
                "\n",
                "    parser.add_argument(\n",
                "        \"--percentage\", type=float, help=\"Percentage of wells to use for the map file\"\n",
                "    )\n",
                "    parser.add_argument(\"--seed\", type=int, help=\"Seed for the random number generator\")\n",
                "    parser.add_argument(\n",
                "        \"--shuffle\", action=\"store_true\", help=\"Shuffle the order of the wells\"\n",
                "    )\n",
                "    # parse the arguments\n",
                "    args = parser.parse_args()\n",
                "    percentage = args.percentage\n",
                "    set_seed = args.seed\n",
                "    shuffle = args.shuffle\n",
                "else:\n",
                "    percentage = 0.4\n",
                "    set_seed = 0\n",
                "    shuffle = False\n",
                "\n",
                "output_file = pathlib.Path(\n",
                "    f\"../results/mAP_cell_percentages/{percentage}_{set_seed}_{shuffle}.parquet\"\n",
                ")\n",
                "output_file.parent.mkdir(exist_ok=True, parents=True)"
            ]
        },
        {
            "cell_type": "code",
            "execution_count": 3,
            "metadata": {},
            "outputs": [],
            "source": [
                "def run_mAP_across_time(\n",
                "    df: pd.DataFrame,\n",
                "):\n",
                "    \"\"\"\n",
                "    Run mAP across timepoints specifies and hardcoded columns for this data\n",
                "\n",
                "    Parameters\n",
                "    ----------\n",
                "    df : pd.DataFrame\n",
                "        An aggregated dataframe with metadata and features and temporal information\n",
                "\n",
                "    Returns\n",
                "    -------\n",
                "    dict\n",
                "        A dictionary of dataframes with the mAP results for each\n",
                "        timepoint.\n",
                "    \"\"\"\n",
                "    unique_timepoints = df.Metadata_Time.unique()\n",
                "    dict_of_map_dfs = {}\n",
                "    for timepoint in unique_timepoints:\n",
                "        single_time_df = df.loc[df.Metadata_Time == timepoint]\n",
                "        reference_col = \"Metadata_reference_index\"\n",
                "        df_activity = assign_reference_index(\n",
                "            single_time_df,\n",
                "            \"Metadata_treatment == 'DMSO CTL'\",\n",
                "            reference_col=reference_col,\n",
                "            default_value=-1,\n",
                "        )\n",
                "        pos_sameby = [\"Metadata_treatment\", reference_col]\n",
                "        pos_diffby = []\n",
                "        neg_sameby = []\n",
                "        neg_diffby = [\"Metadata_treatment\", reference_col]\n",
                "        metadata = df_activity.filter(regex=\"Metadata\")\n",
                "        profiles = df_activity.filter(regex=\"^(?!Metadata)\").values\n",
                "\n",
                "        activity_ap = map.average_precision(\n",
                "            metadata, profiles, pos_sameby, pos_diffby, neg_sameby, neg_diffby\n",
                "        )\n",
                "\n",
                "        activity_ap = activity_ap.query(\"Metadata_treatment != 'DMSO CTL'\")\n",
                "        activity_map = map.mean_average_precision(\n",
                "            activity_ap, pos_sameby, null_size=1000000, threshold=0.05, seed=0\n",
                "        )\n",
                "        activity_map[\"-log10(p-value)\"] = -activity_map[\"corrected_p_value\"].apply(\n",
                "            np.log10\n",
                "        )\n",
                "        # flatten the multi-index columns to make it easier to work with\n",
                "        dict_of_map_dfs[timepoint] = activity_map\n",
                "    return dict_of_map_dfs"
            ]
        },
        {
            "cell_type": "code",
            "execution_count": 4,
            "metadata": {},
            "outputs": [],
            "source": [
                "sc_metadata_cols_to_drop = [\n",
                "    \"Metadata_ImageNumber\",\n",
                "    \"Metadata_Cells_Number_Object_Number\",\n",
                "    \"Metadata_Cytoplasm_Parent_Cells\",\n",
                "    \"Metadata_Cytoplasm_Parent_Nuclei\",\n",
                "    \"Metadata_ImageNumber_1\",\n",
                "    \"Metadata_ImageNumber_2\",\n",
                "    \"Metadata_ImageNumber_3\",\n",
                "    \"Metadata_Nuclei_Number_Object_Number\",\n",
                "    \"Metadata_Image_FileName_BF\",\n",
                "    \"Metadata_Image_FileName_CL488\",\n",
                "    \"Metadata_Image_FileName_CL561\",\n",
                "    \"Metadata_Image_FileName_DNA\",\n",
                "    \"Metadata_Image_FileName_GSDM\",\n",
                "    \"Metadata_Image_PathName_BF\",\n",
                "    \"Metadata_Image_PathName_CL488\",\n",
                "    \"Metadata_Image_PathName_CL561\",\n",
                "    \"Metadata_Image_PathName_DNA\",\n",
                "    \"Metadata_Image_PathName_GSDM\",\n",
                "    \"Metadata_Nuclei_Location_Center_X\",\n",
                "    \"Metadata_Nuclei_Location_Center_Y\",\n",
                "    \"Metadata_number_of_singlecells\",\n",
                "    \"Metadata_FOV\",\n",
                "]"
            ]
        },
        {
            "cell_type": "code",
            "execution_count": 5,
            "metadata": {},
            "outputs": [
                {
                    "data": {
                        "text/html": [
                            "<div>\n",
                            "<style scoped>\n",
                            "    .dataframe tbody tr th:only-of-type {\n",
                            "        vertical-align: middle;\n",
                            "    }\n",
                            "\n",
                            "    .dataframe tbody tr th {\n",
                            "        vertical-align: top;\n",
                            "    }\n",
                            "\n",
                            "    .dataframe thead th {\n",
                            "        text-align: right;\n",
                            "    }\n",
                            "</style>\n",
                            "<table border=\"1\" class=\"dataframe\">\n",
                            "  <thead>\n",
                            "    <tr style=\"text-align: right;\">\n",
                            "      <th></th>\n",
                            "      <th>Metadata_treatment</th>\n",
                            "      <th>Metadata_Well</th>\n",
                            "      <th>Metadata_number_of_singlecells</th>\n",
                            "      <th>Metadata_FOV</th>\n",
                            "      <th>Metadata_treatment1</th>\n",
                            "      <th>Metadata_Time</th>\n",
                            "      <th>Metadata_treatment2</th>\n",
                            "      <th>Metadata_treatment1_dose</th>\n",
                            "      <th>Metadata_treatment1_unit</th>\n",
                            "      <th>Metadata_treatment2_dose</th>\n",
                            "      <th>...</th>\n",
                            "      <th>Nuclei_Texture_InfoMeas2_BF_3_03_256</th>\n",
                            "      <th>Nuclei_Texture_InverseDifferenceMoment_CL488_3_00_256</th>\n",
                            "      <th>Nuclei_Texture_InverseDifferenceMoment_CL561_3_01_256</th>\n",
                            "      <th>Nuclei_Texture_InverseDifferenceMoment_DNA_3_00_256</th>\n",
                            "      <th>Nuclei_Texture_InverseDifferenceMoment_GSDM_3_01_256</th>\n",
                            "      <th>Nuclei_Texture_SumAverage_BF_3_03_256</th>\n",
                            "      <th>Nuclei_Texture_SumAverage_CL488_3_01_256</th>\n",
                            "      <th>Nuclei_Texture_SumAverage_CL561_3_03_256</th>\n",
                            "      <th>Nuclei_Texture_SumAverage_GSDM_3_00_256</th>\n",
                            "      <th>Metadata_cells_per_well</th>\n",
                            "    </tr>\n",
                            "  </thead>\n",
                            "  <tbody>\n",
                            "    <tr>\n",
                            "      <th>14515</th>\n",
                            "      <td>DMSO CTL</td>\n",
                            "      <td>C05</td>\n",
                            "      <td>417</td>\n",
                            "      <td>0005</td>\n",
                            "      <td>DMSO</td>\n",
                            "      <td>00</td>\n",
                            "      <td>None</td>\n",
                            "      <td>CTL</td>\n",
                            "      <td>None</td>\n",
                            "      <td>None</td>\n",
                            "      <td>...</td>\n",
                            "      <td>0.889628</td>\n",
                            "      <td>0.518516</td>\n",
                            "      <td>-1.509714</td>\n",
                            "      <td>0.972317</td>\n",
                            "      <td>0.920650</td>\n",
                            "      <td>-0.175937</td>\n",
                            "      <td>-0.249682</td>\n",
                            "      <td>-0.970753</td>\n",
                            "      <td>0.598953</td>\n",
                            "      <td>51378</td>\n",
                            "    </tr>\n",
                            "    <tr>\n",
                            "      <th>14516</th>\n",
                            "      <td>DMSO CTL</td>\n",
                            "      <td>C05</td>\n",
                            "      <td>417</td>\n",
                            "      <td>0005</td>\n",
                            "      <td>DMSO</td>\n",
                            "      <td>00</td>\n",
                            "      <td>None</td>\n",
                            "      <td>CTL</td>\n",
                            "      <td>None</td>\n",
                            "      <td>None</td>\n",
                            "      <td>...</td>\n",
                            "      <td>0.968803</td>\n",
                            "      <td>0.509346</td>\n",
                            "      <td>0.212119</td>\n",
                            "      <td>-0.719591</td>\n",
                            "      <td>-1.168241</td>\n",
                            "      <td>0.910783</td>\n",
                            "      <td>-0.310844</td>\n",
                            "      <td>0.528903</td>\n",
                            "      <td>-0.675315</td>\n",
                            "      <td>51378</td>\n",
                            "    </tr>\n",
                            "    <tr>\n",
                            "      <th>14517</th>\n",
                            "      <td>DMSO CTL</td>\n",
                            "      <td>C05</td>\n",
                            "      <td>417</td>\n",
                            "      <td>0005</td>\n",
                            "      <td>DMSO</td>\n",
                            "      <td>00</td>\n",
                            "      <td>None</td>\n",
                            "      <td>CTL</td>\n",
                            "      <td>None</td>\n",
                            "      <td>None</td>\n",
                            "      <td>...</td>\n",
                            "      <td>-0.887092</td>\n",
                            "      <td>0.274846</td>\n",
                            "      <td>0.810185</td>\n",
                            "      <td>-0.215096</td>\n",
                            "      <td>-1.168241</td>\n",
                            "      <td>-0.199008</td>\n",
                            "      <td>-0.222628</td>\n",
                            "      <td>0.186214</td>\n",
                            "      <td>-0.675315</td>\n",
                            "      <td>51378</td>\n",
                            "    </tr>\n",
                            "    <tr>\n",
                            "      <th>14518</th>\n",
                            "      <td>DMSO CTL</td>\n",
                            "      <td>C05</td>\n",
                            "      <td>417</td>\n",
                            "      <td>0005</td>\n",
                            "      <td>DMSO</td>\n",
                            "      <td>00</td>\n",
                            "      <td>None</td>\n",
                            "      <td>CTL</td>\n",
                            "      <td>None</td>\n",
                            "      <td>None</td>\n",
                            "      <td>...</td>\n",
                            "      <td>-0.209219</td>\n",
                            "      <td>1.141047</td>\n",
                            "      <td>-1.509714</td>\n",
                            "      <td>-0.791934</td>\n",
                            "      <td>0.706648</td>\n",
                            "      <td>-0.051787</td>\n",
                            "      <td>-0.391319</td>\n",
                            "      <td>-0.970753</td>\n",
                            "      <td>0.032265</td>\n",
                            "      <td>51378</td>\n",
                            "    </tr>\n",
                            "    <tr>\n",
                            "      <th>14519</th>\n",
                            "      <td>DMSO CTL</td>\n",
                            "      <td>C05</td>\n",
                            "      <td>417</td>\n",
                            "      <td>0005</td>\n",
                            "      <td>DMSO</td>\n",
                            "      <td>00</td>\n",
                            "      <td>None</td>\n",
                            "      <td>CTL</td>\n",
                            "      <td>None</td>\n",
                            "      <td>None</td>\n",
                            "      <td>...</td>\n",
                            "      <td>-0.448472</td>\n",
                            "      <td>0.759349</td>\n",
                            "      <td>0.573115</td>\n",
                            "      <td>0.089354</td>\n",
                            "      <td>-1.168241</td>\n",
                            "      <td>0.722260</td>\n",
                            "      <td>-0.351976</td>\n",
                            "      <td>0.281935</td>\n",
                            "      <td>-0.675315</td>\n",
                            "      <td>51378</td>\n",
                            "    </tr>\n",
                            "  </tbody>\n",
                            "</table>\n",
                            "<p>5 rows \u00d7 710 columns</p>\n",
                            "</div>"
                        ],
                        "text/plain": [
                            "      Metadata_treatment Metadata_Well  Metadata_number_of_singlecells  \\\n",
                            "14515           DMSO CTL           C05                             417   \n",
                            "14516           DMSO CTL           C05                             417   \n",
                            "14517           DMSO CTL           C05                             417   \n",
                            "14518           DMSO CTL           C05                             417   \n",
                            "14519           DMSO CTL           C05                             417   \n",
                            "\n",
                            "      Metadata_FOV Metadata_treatment1 Metadata_Time Metadata_treatment2  \\\n",
                            "14515         0005                DMSO            00                None   \n",
                            "14516         0005                DMSO            00                None   \n",
                            "14517         0005                DMSO            00                None   \n",
                            "14518         0005                DMSO            00                None   \n",
                            "14519         0005                DMSO            00                None   \n",
                            "\n",
                            "      Metadata_treatment1_dose Metadata_treatment1_unit  \\\n",
                            "14515                      CTL                     None   \n",
                            "14516                      CTL                     None   \n",
                            "14517                      CTL                     None   \n",
                            "14518                      CTL                     None   \n",
                            "14519                      CTL                     None   \n",
                            "\n",
                            "      Metadata_treatment2_dose  ... Nuclei_Texture_InfoMeas2_BF_3_03_256  \\\n",
                            "14515                     None  ...                             0.889628   \n",
                            "14516                     None  ...                             0.968803   \n",
                            "14517                     None  ...                            -0.887092   \n",
                            "14518                     None  ...                            -0.209219   \n",
                            "14519                     None  ...                            -0.448472   \n",
                            "\n",
                            "      Nuclei_Texture_InverseDifferenceMoment_CL488_3_00_256  \\\n",
                            "14515                                           0.518516      \n",
                            "14516                                           0.509346      \n",
                            "14517                                           0.274846      \n",
                            "14518                                           1.141047      \n",
                            "14519                                           0.759349      \n",
                            "\n",
                            "       Nuclei_Texture_InverseDifferenceMoment_CL561_3_01_256  \\\n",
                            "14515                                          -1.509714       \n",
                            "14516                                           0.212119       \n",
                            "14517                                           0.810185       \n",
                            "14518                                          -1.509714       \n",
                            "14519                                           0.573115       \n",
                            "\n",
                            "       Nuclei_Texture_InverseDifferenceMoment_DNA_3_00_256  \\\n",
                            "14515                                           0.972317     \n",
                            "14516                                          -0.719591     \n",
                            "14517                                          -0.215096     \n",
                            "14518                                          -0.791934     \n",
                            "14519                                           0.089354     \n",
                            "\n",
                            "       Nuclei_Texture_InverseDifferenceMoment_GSDM_3_01_256  \\\n",
                            "14515                                           0.920650      \n",
                            "14516                                          -1.168241      \n",
                            "14517                                          -1.168241      \n",
                            "14518                                           0.706648      \n",
                            "14519                                          -1.168241      \n",
                            "\n",
                            "       Nuclei_Texture_SumAverage_BF_3_03_256  \\\n",
                            "14515                              -0.175937   \n",
                            "14516                               0.910783   \n",
                            "14517                              -0.199008   \n",
                            "14518                              -0.051787   \n",
                            "14519                               0.722260   \n",
                            "\n",
                            "       Nuclei_Texture_SumAverage_CL488_3_01_256  \\\n",
                            "14515                                 -0.249682   \n",
                            "14516                                 -0.310844   \n",
                            "14517                                 -0.222628   \n",
                            "14518                                 -0.391319   \n",
                            "14519                                 -0.351976   \n",
                            "\n",
                            "       Nuclei_Texture_SumAverage_CL561_3_03_256  \\\n",
                            "14515                                 -0.970753   \n",
                            "14516                                  0.528903   \n",
                            "14517                                  0.186214   \n",
                            "14518                                 -0.970753   \n",
                            "14519                                  0.281935   \n",
                            "\n",
                            "       Nuclei_Texture_SumAverage_GSDM_3_00_256  Metadata_cells_per_well  \n",
                            "14515                                 0.598953                    51378  \n",
                            "14516                                -0.675315                    51378  \n",
                            "14517                                -0.675315                    51378  \n",
                            "14518                                 0.032265                    51378  \n",
                            "14519                                -0.675315                    51378  \n",
                            "\n",
                            "[5 rows x 710 columns]"
                        ]
                    },
                    "execution_count": 5,
                    "metadata": {},
                    "output_type": "execute_result"
                }
            ],
            "source": [
                "data_file_path = pathlib.Path(\n",
                "    \"../../4.processing_profiled_features/data/preprocessed_data/live_cell_pyroptosis_wave1_sc_first_time_norm_fs.parquet\"\n",
                ").resolve(strict=True)\n",
                "df = pd.read_parquet(data_file_path)\n",
                "df.reset_index(drop=True, inplace=True)\n",
                "df = df[~df.Metadata_serum.str.contains(\"NuSerum\")]\n",
                "\n",
                "df.head()"
            ]
        },
        {
            "cell_type": "code",
            "execution_count": 6,
            "metadata": {},
            "outputs": [
                {
                    "data": {
                        "application/vnd.jupyter.widget-view+json": {
                            "model_id": "00a28cb8e54749edbe35b5b76848b1a8",
                            "version_major": 2,
                            "version_minor": 0
                        },
                        "text/plain": [
                            "  0%|          | 0/1 [00:00<?, ?it/s]"
                        ]
                    },
                    "metadata": {},
                    "output_type": "display_data"
                },
                {
                    "data": {
                        "application/vnd.jupyter.widget-view+json": {
                            "model_id": "06fc3e218ce4488a8c7ae310f69c5c2b",
                            "version_major": 2,
                            "version_minor": 0
                        },
                        "text/plain": [
                            "  0%|          | 0/1 [00:00<?, ?it/s]"
                        ]
                    },
                    "metadata": {},
                    "output_type": "display_data"
                },
                {
                    "data": {
                        "application/vnd.jupyter.widget-view+json": {
                            "model_id": "fb06e119c32849778574d8b384461e1b",
                            "version_major": 2,
                            "version_minor": 0
                        },
                        "text/plain": [
                            "  0%|          | 0/1 [00:00<?, ?it/s]"
                        ]
                    },
                    "metadata": {},
                    "output_type": "display_data"
                },
                {
                    "data": {
                        "application/vnd.jupyter.widget-view+json": {
                            "model_id": "3169d650195f4c3fad5481ba2613f8a2",
                            "version_major": 2,
                            "version_minor": 0
                        },
                        "text/plain": [
                            "  0%|          | 0/22 [00:00<?, ?it/s]"
                        ]
                    },
                    "metadata": {},
                    "output_type": "display_data"
                },
                {
                    "data": {
                        "application/vnd.jupyter.widget-view+json": {
                            "model_id": "77299d2ca5144936ac537f0d297740a2",
                            "version_major": 2,
                            "version_minor": 0
                        },
                        "text/plain": [
                            "  0%|          | 0/1 [00:00<?, ?it/s]"
                        ]
                    },
                    "metadata": {},
                    "output_type": "display_data"
                },
                {
                    "data": {
                        "application/vnd.jupyter.widget-view+json": {
                            "model_id": "9e5935a71f7b4f49a911d27334620309",
                            "version_major": 2,
                            "version_minor": 0
                        },
                        "text/plain": [
                            "  0%|          | 0/1 [00:00<?, ?it/s]"
                        ]
                    },
                    "metadata": {},
                    "output_type": "display_data"
                },
                {
                    "data": {
                        "application/vnd.jupyter.widget-view+json": {
                            "model_id": "9d5d522ed4d84d62a5de5d62e16ecb24",
                            "version_major": 2,
                            "version_minor": 0
                        },
                        "text/plain": [
                            "  0%|          | 0/1 [00:00<?, ?it/s]"
                        ]
                    },
                    "metadata": {},
                    "output_type": "display_data"
                },
                {
                    "data": {
                        "application/vnd.jupyter.widget-view+json": {
                            "model_id": "dfd2d54e32bf4a928626047d6f587d48",
                            "version_major": 2,
                            "version_minor": 0
                        },
                        "text/plain": [
                            "  0%|          | 0/22 [00:00<?, ?it/s]"
                        ]
                    },
                    "metadata": {},
                    "output_type": "display_data"
                },
                {
                    "data": {
                        "application/vnd.jupyter.widget-view+json": {
                            "model_id": "89581be5a9494974abd35448eecb6cef",
                            "version_major": 2,
                            "version_minor": 0
                        },
                        "text/plain": [
                            "  0%|          | 0/1 [00:00<?, ?it/s]"
                        ]
                    },
                    "metadata": {},
                    "output_type": "display_data"
                },
                {
                    "data": {
                        "application/vnd.jupyter.widget-view+json": {
                            "model_id": "3b7f08f26a764424bc29669017f21712",
                            "version_major": 2,
                            "version_minor": 0
                        },
                        "text/plain": [
                            "  0%|          | 0/1 [00:00<?, ?it/s]"
                        ]
                    },
                    "metadata": {},
                    "output_type": "display_data"
                },
                {
                    "data": {
                        "application/vnd.jupyter.widget-view+json": {
                            "model_id": "893bcd0d37e947c5ae8d90a8b4278f59",
                            "version_major": 2,
                            "version_minor": 0
                        },
                        "text/plain": [
                            "  0%|          | 0/1 [00:00<?, ?it/s]"
                        ]
                    },
                    "metadata": {},
                    "output_type": "display_data"
                },
                {
                    "data": {
                        "application/vnd.jupyter.widget-view+json": {
                            "model_id": "becc15e266764c89ae39121ac4da4705",
                            "version_major": 2,
                            "version_minor": 0
                        },
                        "text/plain": [
                            "  0%|          | 0/22 [00:00<?, ?it/s]"
                        ]
                    },
                    "metadata": {},
                    "output_type": "display_data"
                },
                {
                    "data": {
                        "application/vnd.jupyter.widget-view+json": {
                            "model_id": "454b1fdc32cb4c2e83f03cac67c48e48",
                            "version_major": 2,
                            "version_minor": 0
                        },
                        "text/plain": [
                            "  0%|          | 0/1 [00:00<?, ?it/s]"
                        ]
                    },
                    "metadata": {},
                    "output_type": "display_data"
                },
                {
                    "data": {
                        "application/vnd.jupyter.widget-view+json": {
                            "model_id": "6be41ed12e584eab9ca565b485248221",
                            "version_major": 2,
                            "version_minor": 0
                        },
                        "text/plain": [
                            "  0%|          | 0/1 [00:00<?, ?it/s]"
                        ]
                    },
                    "metadata": {},
                    "output_type": "display_data"
                },
                {
                    "data": {
                        "application/vnd.jupyter.widget-view+json": {
                            "model_id": "661918f8678c4ec7b4b10049a0b5fbd7",
                            "version_major": 2,
                            "version_minor": 0
                        },
                        "text/plain": [
                            "  0%|          | 0/1 [00:00<?, ?it/s]"
                        ]
                    },
                    "metadata": {},
                    "output_type": "display_data"
                },
                {
                    "data": {
                        "application/vnd.jupyter.widget-view+json": {
                            "model_id": "6b180bf6cc1b424e9e3ed8f28e238ea4",
                            "version_major": 2,
                            "version_minor": 0
                        },
                        "text/plain": [
                            "  0%|          | 0/22 [00:00<?, ?it/s]"
                        ]
                    },
                    "metadata": {},
                    "output_type": "display_data"
                },
                {
                    "data": {
                        "application/vnd.jupyter.widget-view+json": {
                            "model_id": "27a4c9aa89b4454aaabc01d60c444203",
                            "version_major": 2,
                            "version_minor": 0
                        },
                        "text/plain": [
                            "  0%|          | 0/1 [00:00<?, ?it/s]"
                        ]
                    },
                    "metadata": {},
                    "output_type": "display_data"
                },
                {
                    "data": {
                        "application/vnd.jupyter.widget-view+json": {
                            "model_id": "ca02615c5904401fb1b0e7e7bb115695",
                            "version_major": 2,
                            "version_minor": 0
                        },
                        "text/plain": [
                            "  0%|          | 0/1 [00:00<?, ?it/s]"
                        ]
                    },
                    "metadata": {},
                    "output_type": "display_data"
                },
                {
                    "data": {
                        "application/vnd.jupyter.widget-view+json": {
                            "model_id": "d9dceb0a434b4b6e8b31a5a4eb6653a0",
                            "version_major": 2,
                            "version_minor": 0
                        },
                        "text/plain": [
                            "  0%|          | 0/1 [00:00<?, ?it/s]"
                        ]
                    },
                    "metadata": {},
                    "output_type": "display_data"
                },
                {
                    "data": {
                        "application/vnd.jupyter.widget-view+json": {
                            "model_id": "f1f3b1a98c594d4ebbb80a45a35c0aac",
                            "version_major": 2,
                            "version_minor": 0
                        },
                        "text/plain": [
                            "  0%|          | 0/22 [00:00<?, ?it/s]"
                        ]
                    },
                    "metadata": {},
                    "output_type": "display_data"
                },
                {
                    "data": {
                        "application/vnd.jupyter.widget-view+json": {
                            "model_id": "7c5db117953f47fdbf431a7a79acc20f",
                            "version_major": 2,
                            "version_minor": 0
                        },
                        "text/plain": [
                            "  0%|          | 0/1 [00:00<?, ?it/s]"
                        ]
                    },
                    "metadata": {},
                    "output_type": "display_data"
                },
                {
                    "data": {
                        "application/vnd.jupyter.widget-view+json": {
                            "model_id": "22410a76c1fd487cb079bfe54470bb5d",
                            "version_major": 2,
                            "version_minor": 0
                        },
                        "text/plain": [
                            "  0%|          | 0/1 [00:00<?, ?it/s]"
                        ]
                    },
                    "metadata": {},
                    "output_type": "display_data"
                },
                {
                    "data": {
                        "application/vnd.jupyter.widget-view+json": {
                            "model_id": "e3dd39dd0c5a4715881a827e2700d482",
                            "version_major": 2,
                            "version_minor": 0
                        },
                        "text/plain": [
                            "  0%|          | 0/1 [00:00<?, ?it/s]"
                        ]
                    },
                    "metadata": {},
                    "output_type": "display_data"
                },
                {
                    "data": {
                        "application/vnd.jupyter.widget-view+json": {
                            "model_id": "8298cc225afa4034a068fb8ee9c842b3",
                            "version_major": 2,
                            "version_minor": 0
                        },
                        "text/plain": [
                            "  0%|          | 0/22 [00:00<?, ?it/s]"
                        ]
                    },
                    "metadata": {},
                    "output_type": "display_data"
                },
                {
                    "data": {
                        "application/vnd.jupyter.widget-view+json": {
                            "model_id": "f1bbdf566a154fa68fb7ece66abe7e23",
                            "version_major": 2,
                            "version_minor": 0
                        },
                        "text/plain": [
                            "  0%|          | 0/1 [00:00<?, ?it/s]"
                        ]
                    },
                    "metadata": {},
                    "output_type": "display_data"
                },
                {
                    "data": {
                        "application/vnd.jupyter.widget-view+json": {
                            "model_id": "23b34c4106c649058d1f6842e495ec10",
                            "version_major": 2,
                            "version_minor": 0
                        },
                        "text/plain": [
                            "  0%|          | 0/1 [00:00<?, ?it/s]"
                        ]
                    },
                    "metadata": {},
                    "output_type": "display_data"
                },
                {
                    "data": {
                        "application/vnd.jupyter.widget-view+json": {
                            "model_id": "bdd0df392d3f4c9cbb1dd4dace22cc50",
                            "version_major": 2,
                            "version_minor": 0
                        },
                        "text/plain": [
                            "  0%|          | 0/1 [00:00<?, ?it/s]"
                        ]
                    },
                    "metadata": {},
                    "output_type": "display_data"
                },
                {
                    "data": {
                        "application/vnd.jupyter.widget-view+json": {
                            "model_id": "8b5d7047d1ff4382a12eceb4fa8c2005",
                            "version_major": 2,
                            "version_minor": 0
                        },
                        "text/plain": [
                            "  0%|          | 0/22 [00:00<?, ?it/s]"
                        ]
                    },
                    "metadata": {},
                    "output_type": "display_data"
                },
                {
                    "data": {
                        "application/vnd.jupyter.widget-view+json": {
                            "model_id": "c7058b5fbb934a4a968b240e42b22a35",
                            "version_major": 2,
                            "version_minor": 0
                        },
                        "text/plain": [
                            "  0%|          | 0/1 [00:00<?, ?it/s]"
                        ]
                    },
                    "metadata": {},
                    "output_type": "display_data"
                },
                {
                    "data": {
                        "application/vnd.jupyter.widget-view+json": {
                            "model_id": "c097c4f61fd449359c64f8fc936ac37f",
                            "version_major": 2,
                            "version_minor": 0
                        },
                        "text/plain": [
                            "  0%|          | 0/1 [00:00<?, ?it/s]"
                        ]
                    },
                    "metadata": {},
                    "output_type": "display_data"
                },
                {
                    "data": {
                        "application/vnd.jupyter.widget-view+json": {
                            "model_id": "8b1e6c11d7f24674b2ebac0ea32fdd65",
                            "version_major": 2,
                            "version_minor": 0
                        },
                        "text/plain": [
                            "  0%|          | 0/1 [00:00<?, ?it/s]"
                        ]
                    },
                    "metadata": {},
                    "output_type": "display_data"
                },
                {
                    "data": {
                        "application/vnd.jupyter.widget-view+json": {
                            "model_id": "dcf0e2375845478fa622b346edd99cda",
                            "version_major": 2,
                            "version_minor": 0
                        },
                        "text/plain": [
                            "  0%|          | 0/22 [00:00<?, ?it/s]"
                        ]
                    },
                    "metadata": {},
                    "output_type": "display_data"
                },
                {
                    "data": {
                        "application/vnd.jupyter.widget-view+json": {
                            "model_id": "2222bbc9047649e5b0e9a7ab5f7716ab",
                            "version_major": 2,
                            "version_minor": 0
                        },
                        "text/plain": [
                            "  0%|          | 0/1 [00:00<?, ?it/s]"
                        ]
                    },
                    "metadata": {},
                    "output_type": "display_data"
                },
                {
                    "data": {
                        "application/vnd.jupyter.widget-view+json": {
                            "model_id": "cc586b372e834b65b003ff4d9125db21",
                            "version_major": 2,
                            "version_minor": 0
                        },
                        "text/plain": [
                            "  0%|          | 0/1 [00:00<?, ?it/s]"
                        ]
                    },
                    "metadata": {},
                    "output_type": "display_data"
                },
                {
                    "data": {
                        "application/vnd.jupyter.widget-view+json": {
                            "model_id": "ec6cd3d81a6c4f30bbca1c913094f360",
                            "version_major": 2,
                            "version_minor": 0
                        },
                        "text/plain": [
                            "  0%|          | 0/1 [00:00<?, ?it/s]"
                        ]
                    },
                    "metadata": {},
                    "output_type": "display_data"
                },
                {
                    "data": {
                        "application/vnd.jupyter.widget-view+json": {
                            "model_id": "38e149b7901949488279a75732696007",
                            "version_major": 2,
                            "version_minor": 0
                        },
                        "text/plain": [
                            "  0%|          | 0/22 [00:00<?, ?it/s]"
                        ]
                    },
                    "metadata": {},
                    "output_type": "display_data"
                },
                {
                    "data": {
                        "application/vnd.jupyter.widget-view+json": {
                            "model_id": "2865fbaa268d4295bba80855f44f349e",
                            "version_major": 2,
                            "version_minor": 0
                        },
                        "text/plain": [
                            "  0%|          | 0/1 [00:00<?, ?it/s]"
                        ]
                    },
                    "metadata": {},
                    "output_type": "display_data"
                },
                {
                    "data": {
                        "application/vnd.jupyter.widget-view+json": {
                            "model_id": "4b6cb9f73e9e4d0b806c19877a67f145",
                            "version_major": 2,
                            "version_minor": 0
                        },
                        "text/plain": [
                            "  0%|          | 0/1 [00:00<?, ?it/s]"
                        ]
                    },
                    "metadata": {},
                    "output_type": "display_data"
                },
                {
                    "data": {
                        "application/vnd.jupyter.widget-view+json": {
                            "model_id": "4561d0aa694a47a3899f1091fd9b9b14",
                            "version_major": 2,
                            "version_minor": 0
                        },
                        "text/plain": [
                            "  0%|          | 0/1 [00:00<?, ?it/s]"
                        ]
                    },
                    "metadata": {},
                    "output_type": "display_data"
                },
                {
                    "data": {
                        "application/vnd.jupyter.widget-view+json": {
                            "model_id": "7089c5871e1048c78712d7ad931d3640",
                            "version_major": 2,
                            "version_minor": 0
                        },
                        "text/plain": [
                            "  0%|          | 0/22 [00:00<?, ?it/s]"
                        ]
                    },
                    "metadata": {},
                    "output_type": "display_data"
                },
                {
                    "data": {
                        "application/vnd.jupyter.widget-view+json": {
                            "model_id": "7d823f3591554d7e9dc82fd413bec317",
                            "version_major": 2,
                            "version_minor": 0
                        },
                        "text/plain": [
                            "  0%|          | 0/1 [00:00<?, ?it/s]"
                        ]
                    },
                    "metadata": {},
                    "output_type": "display_data"
                },
                {
                    "data": {
                        "application/vnd.jupyter.widget-view+json": {
                            "model_id": "a0519d3d4186422bb754f84e60eb067f",
                            "version_major": 2,
                            "version_minor": 0
                        },
                        "text/plain": [
                            "  0%|          | 0/1 [00:00<?, ?it/s]"
                        ]
                    },
                    "metadata": {},
                    "output_type": "display_data"
                },
                {
                    "data": {
                        "application/vnd.jupyter.widget-view+json": {
                            "model_id": "479d1c5c867446b6b9db6e6f10c54c43",
                            "version_major": 2,
                            "version_minor": 0
                        },
                        "text/plain": [
                            "  0%|          | 0/1 [00:00<?, ?it/s]"
                        ]
                    },
                    "metadata": {},
                    "output_type": "display_data"
                },
                {
                    "data": {
                        "application/vnd.jupyter.widget-view+json": {
                            "model_id": "2eb931693a2c420e80dcf6eda07b700c",
                            "version_major": 2,
                            "version_minor": 0
                        },
                        "text/plain": [
                            "  0%|          | 0/22 [00:00<?, ?it/s]"
                        ]
                    },
                    "metadata": {},
                    "output_type": "display_data"
                },
                {
                    "data": {
                        "application/vnd.jupyter.widget-view+json": {
                            "model_id": "1d299208895d44ee886a6e81735c25ad",
                            "version_major": 2,
                            "version_minor": 0
                        },
                        "text/plain": [
                            "  0%|          | 0/1 [00:00<?, ?it/s]"
                        ]
                    },
                    "metadata": {},
                    "output_type": "display_data"
                },
                {
                    "data": {
                        "application/vnd.jupyter.widget-view+json": {
                            "model_id": "654b26077e63434cbd2600483629d13b",
                            "version_major": 2,
                            "version_minor": 0
                        },
                        "text/plain": [
                            "  0%|          | 0/1 [00:00<?, ?it/s]"
                        ]
                    },
                    "metadata": {},
                    "output_type": "display_data"
                },
                {
                    "data": {
                        "application/vnd.jupyter.widget-view+json": {
                            "model_id": "2905297ba6674ce6b72d5c948663663b",
                            "version_major": 2,
                            "version_minor": 0
                        },
                        "text/plain": [
                            "  0%|          | 0/1 [00:00<?, ?it/s]"
                        ]
                    },
                    "metadata": {},
                    "output_type": "display_data"
                },
                {
                    "data": {
                        "application/vnd.jupyter.widget-view+json": {
                            "model_id": "57c4a3103e2b489f9a4b3029b30fcf31",
                            "version_major": 2,
                            "version_minor": 0
                        },
                        "text/plain": [
                            "  0%|          | 0/22 [00:00<?, ?it/s]"
                        ]
                    },
                    "metadata": {},
                    "output_type": "display_data"
                },
                {
                    "data": {
                        "application/vnd.jupyter.widget-view+json": {
                            "model_id": "20e13d1f8bc04594a591d200e4e5fd89",
                            "version_major": 2,
                            "version_minor": 0
                        },
                        "text/plain": [
                            "  0%|          | 0/1 [00:00<?, ?it/s]"
                        ]
                    },
                    "metadata": {},
                    "output_type": "display_data"
                },
                {
                    "data": {
                        "application/vnd.jupyter.widget-view+json": {
                            "model_id": "6f395234b476405b8212f34ed802f2d9",
                            "version_major": 2,
                            "version_minor": 0
                        },
                        "text/plain": [
                            "  0%|          | 0/1 [00:00<?, ?it/s]"
                        ]
                    },
                    "metadata": {},
                    "output_type": "display_data"
                },
                {
                    "data": {
                        "application/vnd.jupyter.widget-view+json": {
                            "model_id": "56e13852856d4d6b8351f54dd7f71bd9",
                            "version_major": 2,
                            "version_minor": 0
                        },
                        "text/plain": [
                            "  0%|          | 0/1 [00:00<?, ?it/s]"
                        ]
                    },
                    "metadata": {},
                    "output_type": "display_data"
                },
                {
                    "data": {
                        "application/vnd.jupyter.widget-view+json": {
                            "model_id": "f9a833c1b4234dd0b766bb43e61d2dfa",
                            "version_major": 2,
                            "version_minor": 0
                        },
                        "text/plain": [
                            "  0%|          | 0/22 [00:00<?, ?it/s]"
                        ]
                    },
                    "metadata": {},
                    "output_type": "display_data"
                },
                {
                    "data": {
                        "application/vnd.jupyter.widget-view+json": {
                            "model_id": "29b079a9e58b430abd9020a7e4f45390",
                            "version_major": 2,
                            "version_minor": 0
                        },
                        "text/plain": [
                            "  0%|          | 0/1 [00:00<?, ?it/s]"
                        ]
                    },
                    "metadata": {},
                    "output_type": "display_data"
                },
                {
                    "data": {
                        "application/vnd.jupyter.widget-view+json": {
                            "model_id": "d4cc731598054efead202f81f36e0925",
                            "version_major": 2,
                            "version_minor": 0
                        },
                        "text/plain": [
                            "  0%|          | 0/1 [00:00<?, ?it/s]"
                        ]
                    },
                    "metadata": {},
                    "output_type": "display_data"
                },
                {
                    "data": {
                        "application/vnd.jupyter.widget-view+json": {
                            "model_id": "caed65c550b248b9a573d34ba510f65b",
                            "version_major": 2,
                            "version_minor": 0
                        },
                        "text/plain": [
                            "  0%|          | 0/1 [00:00<?, ?it/s]"
                        ]
                    },
                    "metadata": {},
                    "output_type": "display_data"
                },
                {
                    "data": {
                        "application/vnd.jupyter.widget-view+json": {
                            "model_id": "63248e84b02f45fabd71de622f1391b8",
                            "version_major": 2,
                            "version_minor": 0
                        },
                        "text/plain": [
                            "  0%|          | 0/22 [00:00<?, ?it/s]"
                        ]
                    },
                    "metadata": {},
                    "output_type": "display_data"
                },
                {
                    "data": {
                        "application/vnd.jupyter.widget-view+json": {
                            "model_id": "af0fca89aff94163ab16e8ab51f481ec",
                            "version_major": 2,
                            "version_minor": 0
                        },
                        "text/plain": [
                            "  0%|          | 0/1 [00:00<?, ?it/s]"
                        ]
                    },
                    "metadata": {},
                    "output_type": "display_data"
                },
                {
                    "data": {
                        "application/vnd.jupyter.widget-view+json": {
                            "model_id": "fb25f477e41f412885c96dce8875f578",
                            "version_major": 2,
                            "version_minor": 0
                        },
                        "text/plain": [
                            "  0%|          | 0/1 [00:00<?, ?it/s]"
                        ]
                    },
                    "metadata": {},
                    "output_type": "display_data"
                },
                {
                    "data": {
                        "application/vnd.jupyter.widget-view+json": {
                            "model_id": "0ba6e4233732439abb5799b377b6f78c",
                            "version_major": 2,
                            "version_minor": 0
                        },
                        "text/plain": [
                            "  0%|          | 0/1 [00:00<?, ?it/s]"
                        ]
                    },
                    "metadata": {},
                    "output_type": "display_data"
                },
                {
                    "data": {
                        "application/vnd.jupyter.widget-view+json": {
                            "model_id": "04bc94b28ee94c1386dcbbf9071d0a76",
                            "version_major": 2,
                            "version_minor": 0
                        },
                        "text/plain": [
                            "  0%|          | 0/22 [00:00<?, ?it/s]"
                        ]
                    },
                    "metadata": {},
                    "output_type": "display_data"
                },
                {
                    "data": {
                        "application/vnd.jupyter.widget-view+json": {
                            "model_id": "79dc5d8801c5418bb95505bec5864441",
                            "version_major": 2,
                            "version_minor": 0
                        },
                        "text/plain": [
                            "  0%|          | 0/1 [00:00<?, ?it/s]"
                        ]
                    },
                    "metadata": {},
                    "output_type": "display_data"
                },
                {
                    "data": {
                        "application/vnd.jupyter.widget-view+json": {
                            "model_id": "5a533b5128d3435bac2c682ee6fe37fd",
                            "version_major": 2,
                            "version_minor": 0
                        },
                        "text/plain": [
                            "  0%|          | 0/1 [00:00<?, ?it/s]"
                        ]
                    },
                    "metadata": {},
                    "output_type": "display_data"
                },
                {
                    "data": {
                        "application/vnd.jupyter.widget-view+json": {
                            "model_id": "efa0c9d3cffd46fb8d6f9e7c6012d2c0",
                            "version_major": 2,
                            "version_minor": 0
                        },
                        "text/plain": [
                            "  0%|          | 0/1 [00:00<?, ?it/s]"
                        ]
                    },
                    "metadata": {},
                    "output_type": "display_data"
                },
                {
                    "data": {
                        "application/vnd.jupyter.widget-view+json": {
                            "model_id": "363b753ad61e4b93ad2e316072a5779f",
                            "version_major": 2,
                            "version_minor": 0
                        },
                        "text/plain": [
                            "  0%|          | 0/22 [00:00<?, ?it/s]"
                        ]
                    },
                    "metadata": {},
                    "output_type": "display_data"
                },
                {
                    "data": {
                        "application/vnd.jupyter.widget-view+json": {
                            "model_id": "ad1d0e28c7424a31a0bdadc9d5de1756",
                            "version_major": 2,
                            "version_minor": 0
                        },
                        "text/plain": [
                            "  0%|          | 0/1 [00:00<?, ?it/s]"
                        ]
                    },
                    "metadata": {},
                    "output_type": "display_data"
                },
                {
                    "data": {
                        "application/vnd.jupyter.widget-view+json": {
                            "model_id": "6886dbd0ee2847acbbe55f8ca2523f64",
                            "version_major": 2,
                            "version_minor": 0
                        },
                        "text/plain": [
                            "  0%|          | 0/1 [00:00<?, ?it/s]"
                        ]
                    },
                    "metadata": {},
                    "output_type": "display_data"
                },
                {
                    "data": {
                        "application/vnd.jupyter.widget-view+json": {
                            "model_id": "2a17d9c420b9429aac0524a0218d8d39",
                            "version_major": 2,
                            "version_minor": 0
                        },
                        "text/plain": [
                            "  0%|          | 0/1 [00:00<?, ?it/s]"
                        ]
                    },
                    "metadata": {},
                    "output_type": "display_data"
                },
                {
                    "data": {
                        "application/vnd.jupyter.widget-view+json": {
                            "model_id": "0417da4750d84c95ae7b34c5edaaf3be",
                            "version_major": 2,
                            "version_minor": 0
                        },
                        "text/plain": [
                            "  0%|          | 0/22 [00:00<?, ?it/s]"
                        ]
                    },
                    "metadata": {},
                    "output_type": "display_data"
                },
                {
                    "data": {
                        "application/vnd.jupyter.widget-view+json": {
                            "model_id": "0b9ca799d6904e05b3b9ca27f908560b",
                            "version_major": 2,
                            "version_minor": 0
                        },
                        "text/plain": [
                            "  0%|          | 0/1 [00:00<?, ?it/s]"
                        ]
                    },
                    "metadata": {},
                    "output_type": "display_data"
                },
                {
                    "data": {
                        "application/vnd.jupyter.widget-view+json": {
                            "model_id": "32ee745ba25441c0867cc97fe3af9f58",
                            "version_major": 2,
                            "version_minor": 0
                        },
                        "text/plain": [
                            "  0%|          | 0/1 [00:00<?, ?it/s]"
                        ]
                    },
                    "metadata": {},
                    "output_type": "display_data"
                },
                {
                    "data": {
                        "application/vnd.jupyter.widget-view+json": {
                            "model_id": "37c6eb6709d44925ab1924a119d016b9",
                            "version_major": 2,
                            "version_minor": 0
                        },
                        "text/plain": [
                            "  0%|          | 0/1 [00:00<?, ?it/s]"
                        ]
                    },
                    "metadata": {},
                    "output_type": "display_data"
                },
                {
                    "data": {
                        "application/vnd.jupyter.widget-view+json": {
                            "model_id": "cfe3fdc89f0f42f2af486911c7214cdf",
                            "version_major": 2,
                            "version_minor": 0
                        },
                        "text/plain": [
                            "  0%|          | 0/22 [00:00<?, ?it/s]"
                        ]
                    },
                    "metadata": {},
                    "output_type": "display_data"
                },
                {
                    "data": {
                        "text/html": [
                            "<div>\n",
                            "<style scoped>\n",
                            "    .dataframe tbody tr th:only-of-type {\n",
                            "        vertical-align: middle;\n",
                            "    }\n",
                            "\n",
                            "    .dataframe tbody tr th {\n",
                            "        vertical-align: top;\n",
                            "    }\n",
                            "\n",
                            "    .dataframe thead th {\n",
                            "        text-align: right;\n",
                            "    }\n",
                            "</style>\n",
                            "<table border=\"1\" class=\"dataframe\">\n",
                            "  <thead>\n",
                            "    <tr style=\"text-align: right;\">\n",
                            "      <th></th>\n",
                            "      <th>Metadata_Time</th>\n",
                            "      <th>Metadata_treatment</th>\n",
                            "      <th>Metadata_reference_index</th>\n",
                            "      <th>mean_average_precision</th>\n",
                            "      <th>indices</th>\n",
                            "      <th>p_value</th>\n",
                            "      <th>corrected_p_value</th>\n",
                            "      <th>below_p</th>\n",
                            "      <th>below_corrected_p</th>\n",
                            "      <th>-log10(p-value)</th>\n",
                            "      <th>percentage_of_cells</th>\n",
                            "      <th>seed</th>\n",
                            "      <th>shuffle</th>\n",
                            "    </tr>\n",
                            "  </thead>\n",
                            "  <tbody>\n",
                            "    <tr>\n",
                            "      <th>0</th>\n",
                            "      <td>00</td>\n",
                            "      <td>Ab1-42 0.4 uM</td>\n",
                            "      <td>-1</td>\n",
                            "      <td>1.000000</td>\n",
                            "      <td>[14, 43, 47]</td>\n",
                            "      <td>9.999990e-07</td>\n",
                            "      <td>0.000001</td>\n",
                            "      <td>True</td>\n",
                            "      <td>True</td>\n",
                            "      <td>5.833669</td>\n",
                            "      <td>0.4</td>\n",
                            "      <td>0</td>\n",
                            "      <td>False</td>\n",
                            "    </tr>\n",
                            "    <tr>\n",
                            "      <th>1</th>\n",
                            "      <td>00</td>\n",
                            "      <td>Ab1-42 10 uM</td>\n",
                            "      <td>-1</td>\n",
                            "      <td>1.000000</td>\n",
                            "      <td>[18, 31, 62]</td>\n",
                            "      <td>9.999990e-07</td>\n",
                            "      <td>0.000001</td>\n",
                            "      <td>True</td>\n",
                            "      <td>True</td>\n",
                            "      <td>5.833669</td>\n",
                            "      <td>0.4</td>\n",
                            "      <td>0</td>\n",
                            "      <td>False</td>\n",
                            "    </tr>\n",
                            "    <tr>\n",
                            "      <th>2</th>\n",
                            "      <td>00</td>\n",
                            "      <td>Ab1-42 2 uM</td>\n",
                            "      <td>-1</td>\n",
                            "      <td>1.000000</td>\n",
                            "      <td>[17, 33, 57]</td>\n",
                            "      <td>9.999990e-07</td>\n",
                            "      <td>0.000001</td>\n",
                            "      <td>True</td>\n",
                            "      <td>True</td>\n",
                            "      <td>5.833669</td>\n",
                            "      <td>0.4</td>\n",
                            "      <td>0</td>\n",
                            "      <td>False</td>\n",
                            "    </tr>\n",
                            "    <tr>\n",
                            "      <th>3</th>\n",
                            "      <td>00</td>\n",
                            "      <td>Flagellin 0.1 ug/ml</td>\n",
                            "      <td>-1</td>\n",
                            "      <td>0.861111</td>\n",
                            "      <td>[1, 3, 9]</td>\n",
                            "      <td>9.988090e-02</td>\n",
                            "      <td>0.122077</td>\n",
                            "      <td>False</td>\n",
                            "      <td>False</td>\n",
                            "      <td>0.913367</td>\n",
                            "      <td>0.4</td>\n",
                            "      <td>0</td>\n",
                            "      <td>False</td>\n",
                            "    </tr>\n",
                            "    <tr>\n",
                            "      <th>4</th>\n",
                            "      <td>00</td>\n",
                            "      <td>Flagellin 1 ug/ml</td>\n",
                            "      <td>-1</td>\n",
                            "      <td>0.619444</td>\n",
                            "      <td>[4, 20, 30]</td>\n",
                            "      <td>3.995696e-01</td>\n",
                            "      <td>0.418597</td>\n",
                            "      <td>False</td>\n",
                            "      <td>False</td>\n",
                            "      <td>0.378204</td>\n",
                            "      <td>0.4</td>\n",
                            "      <td>0</td>\n",
                            "      <td>False</td>\n",
                            "    </tr>\n",
                            "  </tbody>\n",
                            "</table>\n",
                            "</div>"
                        ],
                        "text/plain": [
                            "  Metadata_Time   Metadata_treatment  Metadata_reference_index  \\\n",
                            "0            00        Ab1-42 0.4 uM                        -1   \n",
                            "1            00         Ab1-42 10 uM                        -1   \n",
                            "2            00          Ab1-42 2 uM                        -1   \n",
                            "3            00  Flagellin 0.1 ug/ml                        -1   \n",
                            "4            00    Flagellin 1 ug/ml                        -1   \n",
                            "\n",
                            "   mean_average_precision       indices       p_value  corrected_p_value  \\\n",
                            "0                1.000000  [14, 43, 47]  9.999990e-07           0.000001   \n",
                            "1                1.000000  [18, 31, 62]  9.999990e-07           0.000001   \n",
                            "2                1.000000  [17, 33, 57]  9.999990e-07           0.000001   \n",
                            "3                0.861111     [1, 3, 9]  9.988090e-02           0.122077   \n",
                            "4                0.619444   [4, 20, 30]  3.995696e-01           0.418597   \n",
                            "\n",
                            "   below_p  below_corrected_p  -log10(p-value)  percentage_of_cells  seed  \\\n",
                            "0     True               True         5.833669                  0.4     0   \n",
                            "1     True               True         5.833669                  0.4     0   \n",
                            "2     True               True         5.833669                  0.4     0   \n",
                            "3    False              False         0.913367                  0.4     0   \n",
                            "4    False              False         0.378204                  0.4     0   \n",
                            "\n",
                            "   shuffle  \n",
                            "0    False  \n",
                            "1    False  \n",
                            "2    False  \n",
                            "3    False  \n",
                            "4    False  "
                        ]
                    },
                    "execution_count": 6,
                    "metadata": {},
                    "output_type": "execute_result"
                }
            ],
            "source": [
                "random.seed(set_seed)\n",
                "subset_df = df.groupby([\"Metadata_Time\", \"Metadata_treatment\"]).apply(\n",
                "    lambda x: x.sample(frac=percentage, random_state=set_seed),\n",
                "    include_groups=False,\n",
                ")\n",
                "if shuffle:\n",
                "    random.seed(0)\n",
                "    # permutate the data\n",
                "    for col in subset_df.columns:\n",
                "        subset_df[col] = np.random.permutation(subset_df[col])\n",
                "metadata_cols = [cols for cols in df.columns if \"Metadata\" in cols]\n",
                "features_cols = [cols for cols in df.columns if \"Metadata\" not in cols]\n",
                "features_cols = features_cols + [\"Metadata_number_of_singlecells\"]\n",
                "aggregate_df = pycytominer.aggregate(\n",
                "    population_df=df,\n",
                "    strata=[\"Metadata_Well\", \"Metadata_Time\"],\n",
                "    features=features_cols,\n",
                "    operation=\"median\",\n",
                ")\n",
                "# Drop metadata columns\n",
                "metadata_cols = [x for x in metadata_cols if x not in sc_metadata_cols_to_drop]\n",
                "\n",
                "metadata_df = df[metadata_cols]\n",
                "metadata_df = metadata_df.drop_duplicates()\n",
                "aggregate_df = pd.merge(\n",
                "    metadata_df, aggregate_df, on=[\"Metadata_Well\", \"Metadata_Time\"]\n",
                ")\n",
                "dict_of_map_dfs = run_mAP_across_time(aggregate_df)\n",
                "output_df = pd.concat(dict_of_map_dfs.values(), keys=dict_of_map_dfs.keys())\n",
                "output_df.reset_index(inplace=True)\n",
                "output_df.rename(columns={\"level_0\": \"Metadata_Time\"}, inplace=True)\n",
                "# add the percentage of cells to the keys\n",
                "output_df[\"percentage_of_cells\"] = percentage\n",
                "output_df[\"seed\"] = set_seed\n",
                "output_df[\"shuffle\"] = shuffle\n",
                "output_df.reset_index(drop=True, inplace=True)\n",
                "output_df.to_parquet(output_file)\n",
                "output_df.head()"
            ]
        }
    ],
    "metadata": {
        "kernelspec": {
            "display_name": "timelapse_map_env",
            "language": "python",
            "name": "python3"
        },
        "language_info": {
            "codemirror_mode": {
                "name": "ipython",
                "version": 3
            },
            "file_extension": ".py",
            "mimetype": "text/x-python",
            "name": "python",
            "nbconvert_exporter": "python",
            "pygments_lexer": "ipython3",
            "version": "3.11.11"
        }
    },
    "nbformat": 4,
    "nbformat_minor": 2
}
