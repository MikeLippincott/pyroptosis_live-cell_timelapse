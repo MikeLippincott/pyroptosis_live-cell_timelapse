{
    "cells": [
        {
            "attachments": {},
            "cell_type": "markdown",
            "metadata": {},
            "source": [
                "# Merge single cells from CellProfiler outputs using CytoTable"
            ]
        },
        {
            "cell_type": "code",
            "execution_count": 1,
            "metadata": {},
            "outputs": [],
            "source": [
                "import argparse\n",
                "import pathlib\n",
                "import pprint\n",
                "import sys\n",
                "\n",
                "import pandas as pd\n",
                "from cytotable import convert, presets\n",
                "\n",
                "sys.path.append(\"../../../utils\")\n",
                "import sc_extraction_utils as sc_utils\n",
                "from parsl.config import Config\n",
                "from parsl.executors import HighThroughputExecutor"
            ]
        },
        {
            "attachments": {},
            "cell_type": "markdown",
            "metadata": {},
            "source": [
                "## Set paths and variables\n",
                "\n",
                "All paths must be string but we use pathlib to show which variables are paths"
            ]
        },
        {
            "cell_type": "code",
            "execution_count": 2,
            "metadata": {},
            "outputs": [
                {
                    "name": "stdout",
                    "output_type": "stream",
                    "text": [
                        "Running in a notebook\n"
                    ]
                }
            ],
            "source": [
                "# check if in a jupyter notebook\n",
                "try:\n",
                "    cfg = get_ipython().config\n",
                "    in_notebook = True\n",
                "except NameError:\n",
                "    in_notebook = False\n",
                "\n",
                "if not in_notebook:\n",
                "    print(\"Running as script\")\n",
                "    # set up arg parser\n",
                "    parser = argparse.ArgumentParser(description=\"Segment the nuclei of a tiff image\")\n",
                "\n",
                "    parser.add_argument(\n",
                "        \"--input_dir\",\n",
                "        type=str,\n",
                "        help=\"Path to the input directory containing the tiff images\",\n",
                "    )\n",
                "\n",
                "    args = parser.parse_args()\n",
                "    input_dir = pathlib.Path(args.input_dir).resolve(strict=True)\n",
                "else:\n",
                "    print(\"Running in a notebook\")\n",
                "    input_dir = pathlib.Path(\n",
                "        \"../../3.cellprofiling/analysis_output/W0052_F0001\"\n",
                "    ).resolve(strict=True)"
            ]
        },
        {
            "cell_type": "code",
            "execution_count": 3,
            "metadata": {},
            "outputs": [],
            "source": [
                "# type of file output from CytoTable (currently only parquet)\n",
                "dest_datatype = \"parquet\"\n",
                "\n",
                "# directory where parquet files are saved to\n",
                "output_dir = pathlib.Path(\"../data/converted_data\")\n",
                "output_dir.mkdir(exist_ok=True, parents=True)"
            ]
        },
        {
            "cell_type": "code",
            "execution_count": 5,
            "metadata": {},
            "outputs": [
                {
                    "name": "stdout",
                    "output_type": "stream",
                    "text": [
                        "Destination path: ../data/converted_data/W0052_F0001/pyroptosis_timelapse.parquet\n"
                    ]
                }
            ],
            "source": [
                "# get the .sqlite file from the input directory\n",
                "sqlite_file = list(input_dir.glob(\"*.sqlite\"))[0]\n",
                "dest_path = output_dir / str(sqlite_file.parent).split(\"/\")[-1]\n",
                "dest_path.mkdir(exist_ok=True, parents=True)\n",
                "dest_path = dest_path / f\"{sqlite_file.stem}.{dest_datatype}\"\n",
                "print(f\"Destination path: {dest_path}\")"
            ]
        },
        {
            "cell_type": "markdown",
            "metadata": {},
            "source": [
                "## set config joins for each preset"
            ]
        },
        {
            "cell_type": "code",
            "execution_count": 6,
            "metadata": {},
            "outputs": [],
            "source": [
                "# preset configurations based on typical CellProfiler outputs\n",
                "preset = \"cellprofiler_sqlite_pycytominer\"\n",
                "presets.config[preset][\n",
                "    \"CONFIG_JOINS\"\n",
                "    # remove Image_Metadata_Plate from SELECT as this metadata was not extracted from file names\n",
                "    # add Image_Metadata_Site as this is an important metadata when finding where single cells are located\n",
                "] = \"\"\"WITH Per_Image_Filtered AS (\n",
                "                SELECT\n",
                "                    Metadata_ImageNumber,\n",
                "                    Image_Metadata_Well,\n",
                "                    Image_Metadata_FOV,\n",
                "                    Image_PathName_CL488,\n",
                "                    Image_PathName_CL561,\n",
                "                    Image_PathName_GSDM,\n",
                "                    Image_PathName_BF,\n",
                "                    Image_PathName_DNA,\n",
                "                    Image_FileName_CL488,\n",
                "                    Image_FileName_CL561,\n",
                "                    Image_FileName_GSDM,\n",
                "                    Image_FileName_BF,\n",
                "                    Image_FileName_DNA,\n",
                "                FROM\n",
                "                    read_parquet('per_image.parquet')\n",
                "                )\n",
                "            SELECT\n",
                "                *\n",
                "            FROM\n",
                "                Per_Image_Filtered AS per_image\n",
                "            LEFT JOIN read_parquet('per_cytoplasm.parquet') AS per_cytoplasm ON\n",
                "                per_cytoplasm.Metadata_ImageNumber = per_image.Metadata_ImageNumber\n",
                "            LEFT JOIN read_parquet('per_cells.parquet') AS per_cells ON\n",
                "                per_cells.Metadata_ImageNumber = per_cytoplasm.Metadata_ImageNumber\n",
                "                AND per_cells.Metadata_Cells_Number_Object_Number = per_cytoplasm.Metadata_Cytoplasm_Parent_Cells\n",
                "            LEFT JOIN read_parquet('per_nuclei.parquet') AS per_nuclei ON\n",
                "                per_nuclei.Metadata_ImageNumber = per_cytoplasm.Metadata_ImageNumber\n",
                "                AND per_nuclei.Metadata_Nuclei_Number_Object_Number = per_cytoplasm.Metadata_Cytoplasm_Parent_Nuclei\n",
                "            \"\"\""
            ]
        },
        {
            "attachments": {},
            "cell_type": "markdown",
            "metadata": {},
            "source": [
                "## Convert SQLite file and merge single cell objects into parquet file\n",
                "\n",
                "This was not run to completion as we use the nbconverted python file for full run."
            ]
        },
        {
            "cell_type": "code",
            "execution_count": 8,
            "metadata": {},
            "outputs": [
                {
                    "data": {
                        "text/plain": [
                            "PosixPath('/home/lippincm/Documents/pyroptosis_live-cell_timelapse/Wave1_data/4.processing_profiled_features/data/converted_data/W0052_F0001/pyroptosis_timelapse.parquet')"
                        ]
                    },
                    "execution_count": 8,
                    "metadata": {},
                    "output_type": "execute_result"
                }
            ],
            "source": [
                "# merge single cells and output as parquet file\n",
                "convert(\n",
                "    source_path=sqlite_file,\n",
                "    dest_path=dest_path,\n",
                "    dest_datatype=dest_datatype,\n",
                "    preset=preset,\n",
                "    parsl_config=Config(\n",
                "        executors=[HighThroughputExecutor()],\n",
                "    ),\n",
                "    chunk_size=1000,\n",
                ")"
            ]
        },
        {
            "cell_type": "code",
            "execution_count": 9,
            "metadata": {},
            "outputs": [
                {
                    "name": "stdout",
                    "output_type": "stream",
                    "text": [
                        "Merged and converted pyroptosis_timelapse.parquet!\n",
                        "Saved to ../data/converted_data/W0052_F0001/pyroptosis_timelapse.parquet\n",
                        "Shape of pyroptosis_timelapse.parquet: (12384, 2777)\n",
                        "Shape of pyroptosis_timelapse.parquet: (12384, 2777)\n",
                        "Added single cell count as metadata to pyroptosis_timelapse.parquet!\n"
                    ]
                }
            ],
            "source": [
                "print(f\"Merged and converted {pathlib.Path(dest_path).name}!\")\n",
                "print(f\"Saved to {dest_path}\")\n",
                "df = pd.read_parquet(dest_path)\n",
                "print(f\"Shape of {pathlib.Path(dest_path).name}: {df.shape}\")\n",
                "# add single cell count per well as metadata column to parquet file and save back to same path\n",
                "sc_utils.add_sc_count_metadata_file(\n",
                "    data_path=dest_path,\n",
                "    well_column_name=\"Metadata_ImageNumber\",\n",
                "    file_type=\"parquet\",\n",
                ")\n",
                "# read the parquet file to check if metadata was added\n",
                "df1 = pd.read_parquet(dest_path)\n",
                "print(f\"Shape of {pathlib.Path(dest_path).name}: {df.shape}\")\n",
                "print(f\"Added single cell count as metadata to {pathlib.Path(dest_path).name}!\")"
            ]
        },
        {
            "cell_type": "code",
            "execution_count": null,
            "metadata": {},
            "outputs": [],
            "source": [
                "df1.head()"
            ]
        }
    ],
    "metadata": {
        "kernelspec": {
            "display_name": "cellprofiler_timelapse_env",
            "language": "python",
            "name": "python3"
        },
        "language_info": {
            "codemirror_mode": {
                "name": "ipython",
                "version": 3
            },
            "file_extension": ".py",
            "mimetype": "text/x-python",
            "name": "python",
            "nbconvert_exporter": "python",
            "pygments_lexer": "ipython3",
            "version": "3.8.20"
        },
        "orig_nbformat": 4
    },
    "nbformat": 4,
    "nbformat_minor": 2
}
