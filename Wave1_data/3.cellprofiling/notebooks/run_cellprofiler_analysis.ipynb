{
    "cells": [
        {
            "attachments": {},
            "cell_type": "markdown",
            "metadata": {},
            "source": [
                "# Perform segmentation and feature extraction for each plate using CellProfiler Parallel"
            ]
        },
        {
            "attachments": {},
            "cell_type": "markdown",
            "metadata": {},
            "source": [
                "## Import libraries"
            ]
        },
        {
            "cell_type": "code",
            "execution_count": 1,
            "metadata": {},
            "outputs": [],
            "source": [
                "import argparse\n",
                "import pathlib\n",
                "import pprint\n",
                "import sys\n",
                "import time\n",
                "\n",
                "sys.path.append(\"../../../utils/\")\n",
                "import cp_utils\n",
                "\n",
                "# check if in a jupyter notebook\n",
                "try:\n",
                "    cfg = get_ipython().config\n",
                "    in_notebook = True\n",
                "except NameError:\n",
                "    in_notebook = False"
            ]
        },
        {
            "attachments": {},
            "cell_type": "markdown",
            "metadata": {},
            "source": [
                "## Set paths and variables"
            ]
        },
        {
            "cell_type": "code",
            "execution_count": 2,
            "metadata": {},
            "outputs": [
                {
                    "name": "stdout",
                    "output_type": "stream",
                    "text": [
                        "Running in a notebook\n"
                    ]
                }
            ],
            "source": [
                "if not in_notebook:\n",
                "    print(\"Running as script\")\n",
                "    # set up arg parser\n",
                "    parser = argparse.ArgumentParser(description=\"Illumination correction\")\n",
                "\n",
                "    parser.add_argument(\n",
                "        \"--input_dir\",\n",
                "        type=str,\n",
                "        help=\"Path to the input directory containing the tiff images\",\n",
                "    )\n",
                "\n",
                "    args = parser.parse_args()\n",
                "    images_dir = pathlib.Path(args.input_dir).resolve(strict=True)\n",
                "else:\n",
                "    print(\"Running in a notebook\")\n",
                "    images_dir = pathlib.Path(\n",
                "        \"../../2.illumination_correction/illum_directory/W0052_F0001/\"\n",
                "    )\n",
                "\n",
                "# path to plugins directory as one of the pipelines uses the RunCellpose plugin\n",
                "plugins_dir = pathlib.Path(\n",
                "    \"/home/lippincm/Documents/CellProfiler-plugins/active_plugins\"\n",
                ")\n",
                "path_to_pipeline = pathlib.Path(\"../pipelines/analysis_5ch.cppipe\").resolve(strict=True)\n",
                "\n",
                "# set main output dir for all plates\n",
                "output_dir = pathlib.Path(\"../analysis_output\")\n",
                "output_dir.mkdir(exist_ok=True, parents=True)"
            ]
        },
        {
            "cell_type": "markdown",
            "metadata": {},
            "source": [
                "## Create dictionary with all info for each well"
            ]
        },
        {
            "cell_type": "code",
            "execution_count": 3,
            "metadata": {},
            "outputs": [
                {
                    "name": "stdout",
                    "output_type": "stream",
                    "text": [
                        "Running W0052_F0001\n"
                    ]
                }
            ],
            "source": [
                "# get all directories with raw images\n",
                "dict_of_runs = {}\n",
                "\n",
                "dict_of_runs[images_dir.stem] = {\n",
                "    \"path_to_images\": str(images_dir),\n",
                "    \"path_to_output\": str(images_dir / images_dir.stem),\n",
                "    \"path_to_pipeline\": path_to_pipeline,\n",
                "}\n",
                "print(f\"Running {images_dir.stem}\")"
            ]
        },
        {
            "attachments": {},
            "cell_type": "markdown",
            "metadata": {},
            "source": [
                "## Run analysis pipeline on each plate in parallel\n",
                "\n",
                "This cell is not finished to completion due to how long it would take. It is ran in the python file instead."
            ]
        },
        {
            "cell_type": "code",
            "execution_count": 4,
            "metadata": {},
            "outputs": [],
            "source": [
                "start = time.time()"
            ]
        },
        {
            "cell_type": "code",
            "execution_count": 5,
            "metadata": {},
            "outputs": [
                {
                    "ename": "CalledProcessError",
                    "evalue": "Command '['cellprofiler', '-c', '-r', '-p', PosixPath('/home/lippincm/Documents/pyroptosis_live-cell_timelapse/Wave1_data/3.cellprofiling/pipelines/analysis_5ch.cppipe'), '-i', '../../2.illumination_correction/illum_directory/W0052_F0001', '-o', '../../2.illumination_correction/illum_directory/W0052_F0001/W0052_F0001']' returned non-zero exit status 1.",
                    "output_type": "error",
                    "traceback": [
                        "\u001b[0;31m---------------------------------------------------------------------------\u001b[0m",
                        "\u001b[0;31mCalledProcessError\u001b[0m                        Traceback (most recent call last)",
                        "Cell \u001b[0;32mIn[5], line 1\u001b[0m\n\u001b[0;32m----> 1\u001b[0m \u001b[43mcp_utils\u001b[49m\u001b[38;5;241;43m.\u001b[39;49m\u001b[43mrun_cellprofiler\u001b[49m\u001b[43m(\u001b[49m\n\u001b[1;32m      2\u001b[0m \u001b[43m    \u001b[49m\u001b[43mpath_to_pipeline\u001b[49m\u001b[38;5;241;43m=\u001b[39;49m\u001b[43mdict_of_runs\u001b[49m\u001b[43m[\u001b[49m\u001b[43mimages_dir\u001b[49m\u001b[38;5;241;43m.\u001b[39;49m\u001b[43mstem\u001b[49m\u001b[43m]\u001b[49m\u001b[43m[\u001b[49m\u001b[38;5;124;43m\"\u001b[39;49m\u001b[38;5;124;43mpath_to_pipeline\u001b[39;49m\u001b[38;5;124;43m\"\u001b[39;49m\u001b[43m]\u001b[49m\u001b[43m,\u001b[49m\n\u001b[1;32m      3\u001b[0m \u001b[43m    \u001b[49m\u001b[43mpath_to_input\u001b[49m\u001b[38;5;241;43m=\u001b[39;49m\u001b[43mdict_of_runs\u001b[49m\u001b[43m[\u001b[49m\u001b[43mimages_dir\u001b[49m\u001b[38;5;241;43m.\u001b[39;49m\u001b[43mstem\u001b[49m\u001b[43m]\u001b[49m\u001b[43m[\u001b[49m\u001b[38;5;124;43m\"\u001b[39;49m\u001b[38;5;124;43mpath_to_images\u001b[39;49m\u001b[38;5;124;43m\"\u001b[39;49m\u001b[43m]\u001b[49m\u001b[43m,\u001b[49m\n\u001b[1;32m      4\u001b[0m \u001b[43m    \u001b[49m\u001b[43mpath_to_output\u001b[49m\u001b[38;5;241;43m=\u001b[39;49m\u001b[43mdict_of_runs\u001b[49m\u001b[43m[\u001b[49m\u001b[43mimages_dir\u001b[49m\u001b[38;5;241;43m.\u001b[39;49m\u001b[43mstem\u001b[49m\u001b[43m]\u001b[49m\u001b[43m[\u001b[49m\u001b[38;5;124;43m\"\u001b[39;49m\u001b[38;5;124;43mpath_to_output\u001b[39;49m\u001b[38;5;124;43m\"\u001b[39;49m\u001b[43m]\u001b[49m\u001b[43m,\u001b[49m\n\u001b[1;32m      5\u001b[0m \u001b[43m)\u001b[49m\n",
                        "File \u001b[0;32m~/Documents/pyroptosis_live-cell_timelapse/Wave1_data/3.cellprofiling/notebooks/../../../utils/cp_utils.py:105\u001b[0m, in \u001b[0;36mrun_cellprofiler\u001b[0;34m(path_to_pipeline, path_to_input, path_to_output, sqlite_name, hardcode_sqlite_name, analysis_run, rename_sqlite_file_bool)\u001b[0m\n\u001b[1;32m     89\u001b[0m     \u001b[38;5;28;01mwith\u001b[39;00m \u001b[38;5;28mopen\u001b[39m(\n\u001b[1;32m     90\u001b[0m         pathlib\u001b[38;5;241m.\u001b[39mPath(\u001b[38;5;124mf\u001b[39m\u001b[38;5;124m\"\u001b[39m\u001b[38;5;124mlogs/cellprofiler_output.log\u001b[39m\u001b[38;5;124m\"\u001b[39m),\n\u001b[1;32m     91\u001b[0m         \u001b[38;5;124m\"\u001b[39m\u001b[38;5;124mw\u001b[39m\u001b[38;5;124m\"\u001b[39m,\n\u001b[1;32m     92\u001b[0m     ) \u001b[38;5;28;01mas\u001b[39;00m cellprofiler_output_file:\n\u001b[1;32m     93\u001b[0m         \u001b[38;5;66;03m# run CellProfiler pipeline\u001b[39;00m\n\u001b[1;32m     94\u001b[0m         command \u001b[38;5;241m=\u001b[39m [\n\u001b[1;32m     95\u001b[0m             \u001b[38;5;124m\"\u001b[39m\u001b[38;5;124mcellprofiler\u001b[39m\u001b[38;5;124m\"\u001b[39m,\n\u001b[1;32m     96\u001b[0m             \u001b[38;5;124m\"\u001b[39m\u001b[38;5;124m-c\u001b[39m\u001b[38;5;124m\"\u001b[39m,\n\u001b[0;32m   (...)\u001b[0m\n\u001b[1;32m    103\u001b[0m             path_to_output,\n\u001b[1;32m    104\u001b[0m         ]\n\u001b[0;32m--> 105\u001b[0m         \u001b[43msubprocess\u001b[49m\u001b[38;5;241;43m.\u001b[39;49m\u001b[43mrun\u001b[49m\u001b[43m(\u001b[49m\n\u001b[1;32m    106\u001b[0m \u001b[43m            \u001b[49m\u001b[43mcommand\u001b[49m\u001b[43m,\u001b[49m\n\u001b[1;32m    107\u001b[0m \u001b[43m            \u001b[49m\u001b[43mstdout\u001b[49m\u001b[38;5;241;43m=\u001b[39;49m\u001b[43mcellprofiler_output_file\u001b[49m\u001b[43m,\u001b[49m\n\u001b[1;32m    108\u001b[0m \u001b[43m            \u001b[49m\u001b[43mstderr\u001b[49m\u001b[38;5;241;43m=\u001b[39;49m\u001b[43mcellprofiler_output_file\u001b[49m\u001b[43m,\u001b[49m\n\u001b[1;32m    109\u001b[0m \u001b[43m            \u001b[49m\u001b[43mcheck\u001b[49m\u001b[38;5;241;43m=\u001b[39;49m\u001b[38;5;28;43;01mTrue\u001b[39;49;00m\u001b[43m,\u001b[49m\n\u001b[1;32m    110\u001b[0m \u001b[43m        \u001b[49m\u001b[43m)\u001b[49m\n\u001b[1;32m    111\u001b[0m         \u001b[38;5;28mprint\u001b[39m(\n\u001b[1;32m    112\u001b[0m             \u001b[38;5;124m\"\u001b[39m\u001b[38;5;124mThe CellProfiler run has been completed with log. Please check log file for any errors.\u001b[39m\u001b[38;5;124m\"\u001b[39m\n\u001b[1;32m    113\u001b[0m         )\n\u001b[1;32m    115\u001b[0m \u001b[38;5;28;01mif\u001b[39;00m analysis_run:\n\u001b[1;32m    116\u001b[0m     \u001b[38;5;66;03m# runs through any files that are in the output path and checks to see if analysis pipeline was already run\u001b[39;00m\n",
                        "File \u001b[0;32m~/miniforge3/envs/cellprofiler_timelapse_env/lib/python3.8/subprocess.py:516\u001b[0m, in \u001b[0;36mrun\u001b[0;34m(input, capture_output, timeout, check, *popenargs, **kwargs)\u001b[0m\n\u001b[1;32m    514\u001b[0m     retcode \u001b[38;5;241m=\u001b[39m process\u001b[38;5;241m.\u001b[39mpoll()\n\u001b[1;32m    515\u001b[0m     \u001b[38;5;28;01mif\u001b[39;00m check \u001b[38;5;129;01mand\u001b[39;00m retcode:\n\u001b[0;32m--> 516\u001b[0m         \u001b[38;5;28;01mraise\u001b[39;00m CalledProcessError(retcode, process\u001b[38;5;241m.\u001b[39margs,\n\u001b[1;32m    517\u001b[0m                                  output\u001b[38;5;241m=\u001b[39mstdout, stderr\u001b[38;5;241m=\u001b[39mstderr)\n\u001b[1;32m    518\u001b[0m \u001b[38;5;28;01mreturn\u001b[39;00m CompletedProcess(process\u001b[38;5;241m.\u001b[39margs, retcode, stdout, stderr)\n",
                        "\u001b[0;31mCalledProcessError\u001b[0m: Command '['cellprofiler', '-c', '-r', '-p', PosixPath('/home/lippincm/Documents/pyroptosis_live-cell_timelapse/Wave1_data/3.cellprofiling/pipelines/analysis_5ch.cppipe'), '-i', '../../2.illumination_correction/illum_directory/W0052_F0001', '-o', '../../2.illumination_correction/illum_directory/W0052_F0001/W0052_F0001']' returned non-zero exit status 1."
                    ]
                }
            ],
            "source": [
                "cp_utils.run_cellprofiler(\n",
                "    path_to_pipeline=dict_of_runs[images_dir.stem][\"path_to_pipeline\"],\n",
                "    path_to_input=dict_of_runs[images_dir.stem][\"path_to_images\"],\n",
                "    path_to_output=dict_of_runs[images_dir.stem][\"path_to_output\"],\n",
                ")"
            ]
        },
        {
            "cell_type": "code",
            "execution_count": null,
            "metadata": {},
            "outputs": [
                {
                    "name": "stdout",
                    "output_type": "stream",
                    "text": [
                        "Total time taken: 00:02:08.28\n"
                    ]
                }
            ],
            "source": [
                "end = time.time()\n",
                "# format the time taken into hours, minutes, seconds\n",
                "hours, rem = divmod(end - start, 3600)\n",
                "minutes, seconds = divmod(rem, 60)\n",
                "print(\n",
                "    \"Total time taken: {:0>2}:{:0>2}:{:05.2f}\".format(int(hours), int(minutes), seconds)\n",
                ")"
            ]
        }
    ],
    "metadata": {
        "kernelspec": {
            "display_name": "cellprofiler_timelapse_env",
            "language": "python",
            "name": "python3"
        },
        "language_info": {
            "codemirror_mode": {
                "name": "ipython",
                "version": 3
            },
            "file_extension": ".py",
            "mimetype": "text/x-python",
            "name": "python",
            "nbconvert_exporter": "python",
            "pygments_lexer": "ipython3",
            "version": "3.8.20"
        },
        "orig_nbformat": 4
    },
    "nbformat": 4,
    "nbformat_minor": 2
}
