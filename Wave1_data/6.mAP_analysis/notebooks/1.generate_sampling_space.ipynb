{
    "cells": [
        {
            "cell_type": "code",
            "execution_count": 1,
            "metadata": {},
            "outputs": [],
            "source": [
                "import pathlib\n",
                "import random\n",
                "\n",
                "import numpy as np\n",
                "\n",
                "# check if in a jupyter notebook\n",
                "try:\n",
                "    cfg = get_ipython().config\n",
                "    in_notebook = True\n",
                "except NameError:\n",
                "    in_notebook = False\n",
                "import itertools\n",
                "\n",
                "#"
            ]
        },
        {
            "cell_type": "code",
            "execution_count": 2,
            "metadata": {},
            "outputs": [],
            "source": [
                "seeds_path = pathlib.Path(\"../combinations/seeds.txt\").resolve()\n",
                "percentage_path = pathlib.Path(\"../combinations/percentage.txt\").resolve()\n",
                "\n",
                "seeds_path.parent.mkdir(parents=True, exist_ok=True)"
            ]
        },
        {
            "cell_type": "code",
            "execution_count": 3,
            "metadata": {},
            "outputs": [],
            "source": [
                "random.seed(0)\n",
                "num_of_iterations = 100\n",
                "seed_space = np.random.randint(0, 1000000, num_of_iterations).tolist()  # min, max\n",
                "percentages_to_run = np.linspace(0.1, 1, 10).tolist()  # start, stop, num\n",
                "percentages_to_run = [round(x, 2) for x in percentages_to_run]\n",
                "# write each combination to a line in the file\n",
                "with open(seeds_path, \"w\") as f:\n",
                "    for seed in seed_space:\n",
                "        f.write(f\"{seed}\\n\")\n",
                "\n",
                "with open(percentage_path, \"w\") as f:\n",
                "    for percentage in percentages_to_run:\n",
                "        f.write(f\"{percentage}\\n\")"
            ]
        }
    ],
    "metadata": {
        "kernelspec": {
            "display_name": "timelapse_map_env",
            "language": "python",
            "name": "python3"
        },
        "language_info": {
            "codemirror_mode": {
                "name": "ipython",
                "version": 3
            },
            "file_extension": ".py",
            "mimetype": "text/x-python",
            "name": "python",
            "nbconvert_exporter": "python",
            "pygments_lexer": "ipython3",
            "version": "3.11.11"
        }
    },
    "nbformat": 4,
    "nbformat_minor": 2
}
