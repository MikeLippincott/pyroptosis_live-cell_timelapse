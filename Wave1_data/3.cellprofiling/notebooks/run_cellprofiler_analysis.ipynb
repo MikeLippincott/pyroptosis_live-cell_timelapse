{
    "cells": [
        {
            "attachments": {},
            "cell_type": "markdown",
            "metadata": {},
            "source": [
                "# Perform segmentation and feature extraction for each plate using CellProfiler Parallel"
            ]
        },
        {
            "attachments": {},
            "cell_type": "markdown",
            "metadata": {},
            "source": [
                "## Import libraries"
            ]
        },
        {
            "cell_type": "code",
            "execution_count": null,
            "metadata": {},
            "outputs": [],
            "source": [
                "import argparse\n",
                "import pathlib\n",
                "import sys\n",
                "import time\n",
                "\n",
                "sys.path.append(\"../../../utils/\")\n",
                "import cp_utils\n",
                "\n",
                "# check if in a jupyter notebook\n",
                "try:\n",
                "    cfg = get_ipython().config\n",
                "    in_notebook = True\n",
                "except NameError:\n",
                "    in_notebook = False"
            ]
        },
        {
            "attachments": {},
            "cell_type": "markdown",
            "metadata": {},
            "source": [
                "## Set paths and variables"
            ]
        },
        {
            "cell_type": "code",
            "execution_count": null,
            "metadata": {},
            "outputs": [],
            "source": [
                "if not in_notebook:\n",
                "    print(\"Running as script\")\n",
                "    # set up arg parser\n",
                "    parser = argparse.ArgumentParser(description=\"Illumination correction\")\n",
                "\n",
                "    parser.add_argument(\n",
                "        \"--input_dir\",\n",
                "        type=str,\n",
                "        help=\"Path to the input directory containing the tiff images\",\n",
                "    )\n",
                "\n",
                "    args = parser.parse_args()\n",
                "    images_dir = pathlib.Path(args.input_dir).resolve(strict=True)\n",
                "else:\n",
                "    print(\"Running in a notebook\")\n",
                "    images_dir = pathlib.Path(\n",
                "        \"../../2.illumination_correction/illum_directory/W0052_F0001/\"\n",
                "    )\n",
                "\n",
                "# path to plugins directory as one of the pipelines uses the RunCellpose plugin\n",
                "plugins_dir = pathlib.Path(\n",
                "    \"/home/lippincm/Documents/CellProfiler-plugins/active_plugins\"\n",
                ")\n",
                "path_to_pipeline = pathlib.Path(\"../pipelines/analysis_5ch.cppipe\").resolve(strict=True)\n",
                "\n",
                "# set main output dir for all plates\n",
                "output_dir = pathlib.Path(f\"../analysis_output/{images_dir.stem}\")\n",
                "output_dir.mkdir(exist_ok=True, parents=True)"
            ]
        },
        {
            "cell_type": "markdown",
            "metadata": {},
            "source": [
                "## Create dictionary with all info for each well"
            ]
        },
        {
            "cell_type": "code",
            "execution_count": null,
            "metadata": {},
            "outputs": [],
            "source": [
                "# get all directories with raw images\n",
                "dict_of_runs = {}\n",
                "\n",
                "dict_of_runs[images_dir.stem] = {\n",
                "    \"path_to_images\": str(images_dir),\n",
                "    \"path_to_output\": str(output_dir),\n",
                "    \"path_to_pipeline\": path_to_pipeline,\n",
                "}\n",
                "print(f\"Running {images_dir.stem}\")"
            ]
        },
        {
            "attachments": {},
            "cell_type": "markdown",
            "metadata": {},
            "source": [
                "## Run analysis pipeline on each plate in parallel\n",
                "\n",
                "This cell is not finished to completion due to how long it would take. It is ran in the python file instead."
            ]
        },
        {
            "cell_type": "code",
            "execution_count": null,
            "metadata": {},
            "outputs": [],
            "source": [
                "start = time.time()"
            ]
        },
        {
            "cell_type": "code",
            "execution_count": null,
            "metadata": {},
            "outputs": [],
            "source": [
                "cp_utils.run_cellprofiler(\n",
                "    path_to_pipeline=dict_of_runs[images_dir.stem][\"path_to_pipeline\"],\n",
                "    path_to_input=dict_of_runs[images_dir.stem][\"path_to_images\"],\n",
                "    path_to_output=dict_of_runs[images_dir.stem][\"path_to_output\"],\n",
                ")"
            ]
        },
        {
            "cell_type": "code",
            "execution_count": null,
            "metadata": {},
            "outputs": [],
            "source": [
                "end = time.time()\n",
                "# format the time taken into hours, minutes, seconds\n",
                "hours, rem = divmod(end - start, 3600)\n",
                "minutes, seconds = divmod(rem, 60)\n",
                "print(\n",
                "    \"Total time taken: {:0>2}:{:0>2}:{:05.2f}\".format(int(hours), int(minutes), seconds)\n",
                ")"
            ]
        }
    ],
    "metadata": {
        "kernelspec": {
            "display_name": "cellprofiler_timelapse_env",
            "language": "python",
            "name": "python3"
        },
        "language_info": {
            "codemirror_mode": {
                "name": "ipython",
                "version": 3
            },
            "file_extension": ".py",
            "mimetype": "text/x-python",
            "name": "python",
            "nbconvert_exporter": "python",
            "pygments_lexer": "ipython3",
            "version": "3.8.20"
        },
        "orig_nbformat": 4
    },
    "nbformat": 4,
    "nbformat_minor": 2
}
