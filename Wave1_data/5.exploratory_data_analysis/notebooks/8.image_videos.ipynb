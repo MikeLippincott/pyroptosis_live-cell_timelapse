{
    "cells": [
        {
            "cell_type": "code",
            "execution_count": 1,
            "id": "d3890bdc",
            "metadata": {
                "execution": {
                    "iopub.execute_input": "2025-02-28T17:48:35.885599Z",
                    "iopub.status.busy": "2025-02-28T17:48:35.885246Z",
                    "iopub.status.idle": "2025-02-28T17:48:36.666861Z",
                    "shell.execute_reply": "2025-02-28T17:48:36.666538Z"
                },
                "papermill": {
                    "duration": 0.784627,
                    "end_time": "2025-02-28T17:48:36.667731",
                    "exception": false,
                    "start_time": "2025-02-28T17:48:35.883104",
                    "status": "completed"
                },
                "tags": []
            },
            "outputs": [],
            "source": [
                "import pathlib\n",
                "\n",
                "import cv2\n",
                "import imageio\n",
                "import matplotlib.pyplot as plt\n",
                "import numpy as np\n",
                "import pandas as pd\n",
                "import seaborn as sns\n",
                "import skimage\n",
                "import tifffile\n",
                "import tqdm"
            ]
        },
        {
            "cell_type": "code",
            "execution_count": 2,
            "id": "a9c71d79",
            "metadata": {
                "execution": {
                    "iopub.execute_input": "2025-02-28T17:48:36.671795Z",
                    "iopub.status.busy": "2025-02-28T17:48:36.671575Z",
                    "iopub.status.idle": "2025-02-28T17:48:36.676149Z",
                    "shell.execute_reply": "2025-02-28T17:48:36.675868Z"
                },
                "papermill": {
                    "duration": 0.00687,
                    "end_time": "2025-02-28T17:48:36.676700",
                    "exception": false,
                    "start_time": "2025-02-28T17:48:36.669830",
                    "status": "completed"
                },
                "tags": []
            },
            "outputs": [],
            "source": [
                "def create_composite_image(\n",
                "    lut_dict: dict, image_path_list: list, num_channels: int = 3\n",
                ") -> np.ndarray:\n",
                "    \"\"\"\n",
                "    Create a composite image from three grayscale images using a lookup table.\n",
                "\n",
                "    Parameters\n",
                "    ----------\n",
                "    lut_dict : dict\n",
                "        Dictionary containing the lookup tables for the three images.\n",
                "    image_path_list : list\n",
                "        List of three image paths.\n",
                "\n",
                "    Returns\n",
                "    -------\n",
                "    np.ndarray\n",
                "        Composite image.\n",
                "    \"\"\"\n",
                "    assert (\n",
                "        len(image_path_list) == num_channels\n",
                "    ), \"Number of images must be equal to the number of channels. There are {} images and {} channels.\".format(\n",
                "        len(image_path_list), num_channels\n",
                "    )\n",
                "    if num_channels == 3:\n",
                "        image1 = cv2.imread(str(image_path_list[0]), cv2.IMREAD_GRAYSCALE)\n",
                "        image2 = cv2.imread(str(image_path_list[1]), cv2.IMREAD_GRAYSCALE)\n",
                "        image3 = cv2.imread(str(image_path_list[2]), cv2.IMREAD_GRAYSCALE)\n",
                "\n",
                "        # bgr\n",
                "        image1 = cv2.merge([image1, image1, image1])\n",
                "        image2 = cv2.merge([image2, image2, image2])\n",
                "        image3 = cv2.merge([image3, image3, image3])\n",
                "        # Apply the colormap lookup table to the grayscale image\n",
                "        image1 = cv2.LUT(image1, lut_dict[\"2\"])\n",
                "        image2 = cv2.LUT(image2, lut_dict[\"3\"])\n",
                "        image3 = cv2.LUT(image3, lut_dict[\"4\"])\n",
                "        # adjust contrast\n",
                "        image1 = cv2.convertScaleAbs(image1, alpha=10)\n",
                "        image2 = cv2.convertScaleAbs(image2, alpha=20)\n",
                "        image3 = cv2.convertScaleAbs(image3, alpha=15)\n",
                "\n",
                "        composite_image = cv2.addWeighted(image1, 1, image2, 1, 0)\n",
                "        composite_image = cv2.addWeighted(composite_image, 1, image3, 1, 0)\n",
                "    if num_channels == 4:\n",
                "        image1 = cv2.imread(str(image_path_list[0]), cv2.IMREAD_GRAYSCALE)\n",
                "        image2 = cv2.imread(str(image_path_list[1]), cv2.IMREAD_GRAYSCALE)\n",
                "        image3 = cv2.imread(str(image_path_list[2]), cv2.IMREAD_GRAYSCALE)\n",
                "        image4 = cv2.imread(str(image_path_list[3]), cv2.IMREAD_GRAYSCALE)\n",
                "\n",
                "        # bgr\n",
                "        image1 = cv2.merge([image1, image1, image1])\n",
                "        image2 = cv2.merge([image2, image2, image2])\n",
                "        image3 = cv2.merge([image3, image3, image3])\n",
                "        image4 = cv2.merge([image4, image4, image4])\n",
                "        # Apply the colormap lookup table to the grayscale image\n",
                "        image1 = cv2.LUT(image1, lut_dict[\"1\"])\n",
                "        image2 = cv2.LUT(image2, lut_dict[\"2\"])\n",
                "        image3 = cv2.LUT(image3, lut_dict[\"3\"])\n",
                "        image4 = cv2.LUT(image4, lut_dict[\"4\"])\n",
                "        # adjust contrast\n",
                "        image1 = cv2.convertScaleAbs(image1, alpha=10)\n",
                "        image2 = cv2.convertScaleAbs(image2, alpha=20)\n",
                "        image3 = cv2.convertScaleAbs(image3, alpha=15)\n",
                "        image4 = cv2.convertScaleAbs(image4, alpha=15)\n",
                "\n",
                "        composite_image = cv2.addWeighted(image1, 1, image2, 1, 0)\n",
                "        composite_image = cv2.addWeighted(composite_image, 1, image3, 1, 0)\n",
                "        composite_image = cv2.addWeighted(composite_image, 1, image4, 1, 0)\n",
                "    return composite_image"
            ]
        },
        {
            "cell_type": "code",
            "execution_count": 3,
            "id": "99f15e27",
            "metadata": {
                "execution": {
                    "iopub.execute_input": "2025-02-28T17:48:36.679730Z",
                    "iopub.status.busy": "2025-02-28T17:48:36.679603Z",
                    "iopub.status.idle": "2025-02-28T17:48:36.681487Z",
                    "shell.execute_reply": "2025-02-28T17:48:36.681255Z"
                },
                "papermill": {
                    "duration": 0.003971,
                    "end_time": "2025-02-28T17:48:36.682010",
                    "exception": false,
                    "start_time": "2025-02-28T17:48:36.678039",
                    "status": "completed"
                },
                "tags": []
            },
            "outputs": [],
            "source": [
                "def make_animation_gif(\n",
                "    image_list: int,\n",
                "    save_path: pathlib.Path,\n",
                "    duration: int = 500,\n",
                "    fps: int = 5,\n",
                "    loop: int = 0,\n",
                "):\n",
                "\n",
                "    imageio.mimsave(save_path, image_list, duration=duration, loop=loop, fps=fps)"
            ]
        },
        {
            "cell_type": "markdown",
            "id": "ea86ad29",
            "metadata": {
                "papermill": {
                    "duration": 0.001255,
                    "end_time": "2025-02-28T17:48:36.684569",
                    "exception": false,
                    "start_time": "2025-02-28T17:48:36.683314",
                    "status": "completed"
                },
                "tags": []
            },
            "source": [
                "### Define the LUTs"
            ]
        },
        {
            "cell_type": "code",
            "execution_count": 4,
            "id": "5ea5bdd1",
            "metadata": {
                "execution": {
                    "iopub.execute_input": "2025-02-28T17:48:36.688451Z",
                    "iopub.status.busy": "2025-02-28T17:48:36.688197Z",
                    "iopub.status.idle": "2025-02-28T17:48:36.691314Z",
                    "shell.execute_reply": "2025-02-28T17:48:36.691086Z"
                },
                "papermill": {
                    "duration": 0.005892,
                    "end_time": "2025-02-28T17:48:36.691779",
                    "exception": false,
                    "start_time": "2025-02-28T17:48:36.685887",
                    "status": "completed"
                },
                "tags": []
            },
            "outputs": [],
            "source": [
                "# Create a lookup table (256 values, mapping grayscale to magenta)\n",
                "magenta_lut = np.zeros((256, 1, 3), dtype=np.uint8)\n",
                "for i in range(256):\n",
                "    magenta_lut[i] = [i, 0, i]  # R = i, G = 0, B = i (magenta gradient)\n",
                "# Create a lookup table (256 values, mapping grayscale to yellow)\n",
                "yellow_lut = np.zeros((256, 1, 3), dtype=np.uint8)\n",
                "for i in range(256):\n",
                "    yellow_lut[i] = [i, i, 0]  # R = i, G = i, B = 0 (yellow gradient)\n",
                "# Create a lookup table (256 values, mapping grayscale to cyan)\n",
                "cyan_lut = np.zeros((256, 1, 3), dtype=np.uint8)\n",
                "for i in range(256):\n",
                "    cyan_lut[i] = [0, i, i]  # R = 0, G = i, B = i (cyan gradient)\n",
                "# Create a lookup table (256 values, mapping grayscale to green)\n",
                "green_lut = np.zeros((256, 1, 3), dtype=np.uint8)\n",
                "for i in range(256):\n",
                "    green_lut[i] = [0, i, 0]  # R = 0, G = i, B = 0 (green gradient)\n",
                "lut_dict = {\"1\": green_lut, \"2\": magenta_lut, \"3\": yellow_lut, \"4\": cyan_lut}"
            ]
        },
        {
            "cell_type": "code",
            "execution_count": 5,
            "id": "6ed50b66",
            "metadata": {
                "execution": {
                    "iopub.execute_input": "2025-02-28T17:48:36.694787Z",
                    "iopub.status.busy": "2025-02-28T17:48:36.694654Z",
                    "iopub.status.idle": "2025-02-28T17:48:36.696642Z",
                    "shell.execute_reply": "2025-02-28T17:48:36.696400Z"
                },
                "papermill": {
                    "duration": 0.00404,
                    "end_time": "2025-02-28T17:48:36.697130",
                    "exception": false,
                    "start_time": "2025-02-28T17:48:36.693090",
                    "status": "completed"
                },
                "tags": []
            },
            "outputs": [],
            "source": [
                "# path the the data\n",
                "image_data_path = pathlib.Path(\"../../../data/raw\").resolve(strict=True)\n",
                "image_gifs_path = pathlib.Path(\"../figures/image_gifs/\").resolve()\n",
                "image_gifs_path.mkdir(parents=True, exist_ok=True)"
            ]
        },
        {
            "cell_type": "code",
            "execution_count": 6,
            "id": "000df39d",
            "metadata": {
                "execution": {
                    "iopub.execute_input": "2025-02-28T17:48:36.700344Z",
                    "iopub.status.busy": "2025-02-28T17:48:36.700064Z",
                    "iopub.status.idle": "2025-02-28T17:48:36.705126Z",
                    "shell.execute_reply": "2025-02-28T17:48:36.704891Z"
                },
                "papermill": {
                    "duration": 0.007141,
                    "end_time": "2025-02-28T17:48:36.705615",
                    "exception": false,
                    "start_time": "2025-02-28T17:48:36.698474",
                    "status": "completed"
                },
                "tags": []
            },
            "outputs": [],
            "source": [
                "# get all dirs in the path\n",
                "all_dirs = [x for x in image_data_path.iterdir() if x.is_dir()]\n",
                "all_dirs = sorted(all_dirs)"
            ]
        },
        {
            "cell_type": "code",
            "execution_count": 7,
            "id": "dec3f926",
            "metadata": {
                "execution": {
                    "iopub.execute_input": "2025-02-28T17:48:36.708773Z",
                    "iopub.status.busy": "2025-02-28T17:48:36.708652Z",
                    "iopub.status.idle": "2025-02-28T17:48:36.710455Z",
                    "shell.execute_reply": "2025-02-28T17:48:36.710231Z"
                },
                "papermill": {
                    "duration": 0.003855,
                    "end_time": "2025-02-28T17:48:36.710936",
                    "exception": false,
                    "start_time": "2025-02-28T17:48:36.707081",
                    "status": "completed"
                },
                "tags": []
            },
            "outputs": [],
            "source": [
                "channels_to_plot = [\"2\", \"3\", \"4\"]"
            ]
        },
        {
            "cell_type": "code",
            "execution_count": 8,
            "id": "c850b2a1",
            "metadata": {
                "execution": {
                    "iopub.execute_input": "2025-02-28T17:48:36.714199Z",
                    "iopub.status.busy": "2025-02-28T17:48:36.713952Z",
                    "iopub.status.idle": "2025-02-28T17:48:38.157543Z",
                    "shell.execute_reply": "2025-02-28T17:48:38.157280Z"
                },
                "papermill": {
                    "duration": 1.445764,
                    "end_time": "2025-02-28T17:48:38.158077",
                    "exception": false,
                    "start_time": "2025-02-28T17:48:36.712313",
                    "status": "completed"
                },
                "tags": []
            },
            "outputs": [
                {
                    "data": {
                        "text/html": [
                            "<div>\n",
                            "<style scoped>\n",
                            "    .dataframe tbody tr th:only-of-type {\n",
                            "        vertical-align: middle;\n",
                            "    }\n",
                            "\n",
                            "    .dataframe tbody tr th {\n",
                            "        vertical-align: top;\n",
                            "    }\n",
                            "\n",
                            "    .dataframe thead th {\n",
                            "        text-align: right;\n",
                            "    }\n",
                            "</style>\n",
                            "<table border=\"1\" class=\"dataframe\">\n",
                            "  <thead>\n",
                            "    <tr style=\"text-align: right;\">\n",
                            "      <th></th>\n",
                            "      <th>file_path</th>\n",
                            "      <th>file_name</th>\n",
                            "      <th>time</th>\n",
                            "      <th>well_fov</th>\n",
                            "      <th>channel</th>\n",
                            "    </tr>\n",
                            "  </thead>\n",
                            "  <tbody>\n",
                            "    <tr>\n",
                            "      <th>1</th>\n",
                            "      <td>/home/lippincm/Documents/pyroptosis_live-cell_...</td>\n",
                            "      <td>T00_W0052_F0001_C2</td>\n",
                            "      <td>T00</td>\n",
                            "      <td>0052_F0001</td>\n",
                            "      <td>2</td>\n",
                            "    </tr>\n",
                            "    <tr>\n",
                            "      <th>2</th>\n",
                            "      <td>/home/lippincm/Documents/pyroptosis_live-cell_...</td>\n",
                            "      <td>T00_W0052_F0001_C3</td>\n",
                            "      <td>T00</td>\n",
                            "      <td>0052_F0001</td>\n",
                            "      <td>3</td>\n",
                            "    </tr>\n",
                            "    <tr>\n",
                            "      <th>3</th>\n",
                            "      <td>/home/lippincm/Documents/pyroptosis_live-cell_...</td>\n",
                            "      <td>T00_W0052_F0001_C4</td>\n",
                            "      <td>T00</td>\n",
                            "      <td>0052_F0001</td>\n",
                            "      <td>4</td>\n",
                            "    </tr>\n",
                            "    <tr>\n",
                            "      <th>6</th>\n",
                            "      <td>/home/lippincm/Documents/pyroptosis_live-cell_...</td>\n",
                            "      <td>T01_W0052_F0001_C2</td>\n",
                            "      <td>T01</td>\n",
                            "      <td>0052_F0001</td>\n",
                            "      <td>2</td>\n",
                            "    </tr>\n",
                            "    <tr>\n",
                            "      <th>7</th>\n",
                            "      <td>/home/lippincm/Documents/pyroptosis_live-cell_...</td>\n",
                            "      <td>T01_W0052_F0001_C3</td>\n",
                            "      <td>T01</td>\n",
                            "      <td>0052_F0001</td>\n",
                            "      <td>3</td>\n",
                            "    </tr>\n",
                            "  </tbody>\n",
                            "</table>\n",
                            "</div>"
                        ],
                        "text/plain": [
                            "                                           file_path           file_name time  \\\n",
                            "1  /home/lippincm/Documents/pyroptosis_live-cell_...  T00_W0052_F0001_C2  T00   \n",
                            "2  /home/lippincm/Documents/pyroptosis_live-cell_...  T00_W0052_F0001_C3  T00   \n",
                            "3  /home/lippincm/Documents/pyroptosis_live-cell_...  T00_W0052_F0001_C4  T00   \n",
                            "6  /home/lippincm/Documents/pyroptosis_live-cell_...  T01_W0052_F0001_C2  T01   \n",
                            "7  /home/lippincm/Documents/pyroptosis_live-cell_...  T01_W0052_F0001_C3  T01   \n",
                            "\n",
                            "     well_fov channel  \n",
                            "1  0052_F0001       2  \n",
                            "2  0052_F0001       3  \n",
                            "3  0052_F0001       4  \n",
                            "6  0052_F0001       2  \n",
                            "7  0052_F0001       3  "
                        ]
                    },
                    "execution_count": 8,
                    "metadata": {},
                    "output_type": "execute_result"
                }
            ],
            "source": [
                "# loop through each well_fov_dir\n",
                "all_dfs = []\n",
                "for well_fov_dir in all_dirs:\n",
                "    # get all files in the first dir\n",
                "    all_files = [x for x in well_fov_dir.iterdir() if x.is_file()]\n",
                "    all_files = sorted(all_files)\n",
                "    all_files = [x for x in all_files if not \"mask\" in x.stem]\n",
                "    # make a df out of the files in the first dir\n",
                "    df = pd.DataFrame(all_files, columns=[\"file_path\"])\n",
                "    df[\"file_name\"] = (\n",
                "        df[\"file_path\"].apply(lambda x: x.stem).str.split(\"_illumcorrect\").str[0]\n",
                "    )\n",
                "    df[\"time\"] = df[\"file_name\"].str.split(\"_\").str[0]\n",
                "    df[\"well_fov\"] = df[\"file_name\"].str.split(\"_W\").str[1].str.split(\"_C\").str[0]\n",
                "    df[\"channel\"] = df[\"file_name\"].str.split(\"_C\").str[1]\n",
                "    # drop the max timepoint\n",
                "    df = df[df[\"time\"] != df[\"time\"].max()]\n",
                "    df = df[df[\"channel\"].isin(channels_to_plot)]\n",
                "    all_dfs.append(df)\n",
                "df = pd.concat(all_dfs)\n",
                "# sort by well_fov and time\n",
                "df = df.sort_values(by=[\"well_fov\", \"time\"])\n",
                "df.head()"
            ]
        },
        {
            "cell_type": "code",
            "execution_count": 9,
            "id": "9b996008",
            "metadata": {
                "execution": {
                    "iopub.execute_input": "2025-02-28T17:48:38.161987Z",
                    "iopub.status.busy": "2025-02-28T17:48:38.161856Z",
                    "iopub.status.idle": "2025-02-28T17:48:56.910168Z",
                    "shell.execute_reply": "2025-02-28T17:48:56.909640Z"
                },
                "papermill": {
                    "duration": 18.580062,
                    "end_time": "2025-02-28T17:48:56.740036",
                    "exception": false,
                    "start_time": "2025-02-28T17:48:38.159974",
                    "status": "completed"
                },
                "tags": []
            },
            "outputs": [
                {
                    "name": "stderr",
                    "output_type": "stream",
                    "text": [
                        "100%|\u2588\u2588\u2588\u2588\u2588\u2588\u2588\u2588\u2588\u2588| 480/480 [00:00<00:00, 937.04it/s]\n"
                    ]
                }
            ],
            "source": [
                "overwrite = False\n",
                "# loop through each well_fov and make a gif\n",
                "for well_fov in tqdm.tqdm(df[\"well_fov\"].unique()):\n",
                "    tmp_well_df = df[df[\"well_fov\"] == well_fov]\n",
                "    list_of_images = []\n",
                "    save_path = pathlib.Path(image_gifs_path / f\"{well_fov}_CL448-561_DNA.gif\")\n",
                "    if save_path.exists() and overwrite is False:\n",
                "        pass\n",
                "    elif save_path.exists() and overwrite is True:\n",
                "        for time in df[\"time\"].unique():\n",
                "            tmp_time_df = tmp_well_df[tmp_well_df[\"time\"] == time]\n",
                "            list_of_images.append(\n",
                "                create_composite_image(\n",
                "                    lut_dict,\n",
                "                    tmp_time_df[\"file_path\"].tolist(),\n",
                "                    num_channels=len(channels_to_plot),\n",
                "                )\n",
                "            )\n",
                "        make_animation_gif(\n",
                "            image_list=list_of_images, save_path=save_path, duration=1000, fps=2, loop=0\n",
                "        )"
            ]
        },
        {
            "cell_type": "markdown",
            "id": "ed348047",
            "metadata": {
                "papermill": {
                    "duration": null,
                    "end_time": null,
                    "exception": null,
                    "start_time": null,
                    "status": "completed"
                },
                "tags": []
            },
            "source": [
                "## Add in GSDM"
            ]
        },
        {
            "cell_type": "code",
            "execution_count": 10,
            "id": "907503ba",
            "metadata": {
                "papermill": {
                    "duration": null,
                    "end_time": null,
                    "exception": null,
                    "start_time": null,
                    "status": "completed"
                },
                "tags": []
            },
            "outputs": [],
            "source": [
                "channels_to_plot = [\"1\", \"2\", \"3\", \"4\"]"
            ]
        },
        {
            "cell_type": "code",
            "execution_count": 11,
            "id": "7e20e4d8",
            "metadata": {
                "papermill": {
                    "duration": null,
                    "end_time": null,
                    "exception": null,
                    "start_time": null,
                    "status": "completed"
                },
                "tags": []
            },
            "outputs": [
                {
                    "data": {
                        "text/html": [
                            "<div>\n",
                            "<style scoped>\n",
                            "    .dataframe tbody tr th:only-of-type {\n",
                            "        vertical-align: middle;\n",
                            "    }\n",
                            "\n",
                            "    .dataframe tbody tr th {\n",
                            "        vertical-align: top;\n",
                            "    }\n",
                            "\n",
                            "    .dataframe thead th {\n",
                            "        text-align: right;\n",
                            "    }\n",
                            "</style>\n",
                            "<table border=\"1\" class=\"dataframe\">\n",
                            "  <thead>\n",
                            "    <tr style=\"text-align: right;\">\n",
                            "      <th></th>\n",
                            "      <th>file_path</th>\n",
                            "      <th>file_name</th>\n",
                            "      <th>time</th>\n",
                            "      <th>well_fov</th>\n",
                            "      <th>channel</th>\n",
                            "    </tr>\n",
                            "  </thead>\n",
                            "  <tbody>\n",
                            "    <tr>\n",
                            "      <th>0</th>\n",
                            "      <td>/home/lippincm/Documents/pyroptosis_live-cell_...</td>\n",
                            "      <td>T00_W0052_F0001_C1</td>\n",
                            "      <td>T00</td>\n",
                            "      <td>0052_F0001</td>\n",
                            "      <td>1</td>\n",
                            "    </tr>\n",
                            "    <tr>\n",
                            "      <th>1</th>\n",
                            "      <td>/home/lippincm/Documents/pyroptosis_live-cell_...</td>\n",
                            "      <td>T00_W0052_F0001_C2</td>\n",
                            "      <td>T00</td>\n",
                            "      <td>0052_F0001</td>\n",
                            "      <td>2</td>\n",
                            "    </tr>\n",
                            "    <tr>\n",
                            "      <th>2</th>\n",
                            "      <td>/home/lippincm/Documents/pyroptosis_live-cell_...</td>\n",
                            "      <td>T00_W0052_F0001_C3</td>\n",
                            "      <td>T00</td>\n",
                            "      <td>0052_F0001</td>\n",
                            "      <td>3</td>\n",
                            "    </tr>\n",
                            "    <tr>\n",
                            "      <th>3</th>\n",
                            "      <td>/home/lippincm/Documents/pyroptosis_live-cell_...</td>\n",
                            "      <td>T00_W0052_F0001_C4</td>\n",
                            "      <td>T00</td>\n",
                            "      <td>0052_F0001</td>\n",
                            "      <td>4</td>\n",
                            "    </tr>\n",
                            "    <tr>\n",
                            "      <th>5</th>\n",
                            "      <td>/home/lippincm/Documents/pyroptosis_live-cell_...</td>\n",
                            "      <td>T01_W0052_F0001_C1</td>\n",
                            "      <td>T01</td>\n",
                            "      <td>0052_F0001</td>\n",
                            "      <td>1</td>\n",
                            "    </tr>\n",
                            "  </tbody>\n",
                            "</table>\n",
                            "</div>"
                        ],
                        "text/plain": [
                            "                                           file_path           file_name time  \\\n",
                            "0  /home/lippincm/Documents/pyroptosis_live-cell_...  T00_W0052_F0001_C1  T00   \n",
                            "1  /home/lippincm/Documents/pyroptosis_live-cell_...  T00_W0052_F0001_C2  T00   \n",
                            "2  /home/lippincm/Documents/pyroptosis_live-cell_...  T00_W0052_F0001_C3  T00   \n",
                            "3  /home/lippincm/Documents/pyroptosis_live-cell_...  T00_W0052_F0001_C4  T00   \n",
                            "5  /home/lippincm/Documents/pyroptosis_live-cell_...  T01_W0052_F0001_C1  T01   \n",
                            "\n",
                            "     well_fov channel  \n",
                            "0  0052_F0001       1  \n",
                            "1  0052_F0001       2  \n",
                            "2  0052_F0001       3  \n",
                            "3  0052_F0001       4  \n",
                            "5  0052_F0001       1  "
                        ]
                    },
                    "execution_count": 11,
                    "metadata": {},
                    "output_type": "execute_result"
                }
            ],
            "source": [
                "# loop through each well_fov_dir\n",
                "all_dfs = []\n",
                "for well_fov_dir in all_dirs:\n",
                "    # get all files in the first dir\n",
                "    all_files = [x for x in well_fov_dir.iterdir() if x.is_file()]\n",
                "    all_files = sorted(all_files)\n",
                "    all_files = [x for x in all_files if not \"mask\" in x.stem]\n",
                "    # make a df out of the files in the first dir\n",
                "    df = pd.DataFrame(all_files, columns=[\"file_path\"])\n",
                "    df[\"file_name\"] = (\n",
                "        df[\"file_path\"].apply(lambda x: x.stem).str.split(\"_illumcorrect\").str[0]\n",
                "    )\n",
                "    df[\"time\"] = df[\"file_name\"].str.split(\"_\").str[0]\n",
                "    df[\"well_fov\"] = df[\"file_name\"].str.split(\"_W\").str[1].str.split(\"_C\").str[0]\n",
                "    df[\"channel\"] = df[\"file_name\"].str.split(\"_C\").str[1]\n",
                "    # drop the max timepoint\n",
                "    df = df[df[\"time\"] != df[\"time\"].max()]\n",
                "    df = df[df[\"channel\"].isin(channels_to_plot)]\n",
                "    all_dfs.append(df)\n",
                "df = pd.concat(all_dfs)\n",
                "# sort by well_fov and time\n",
                "df = df.sort_values(by=[\"well_fov\", \"time\"])\n",
                "df.head()"
            ]
        },
        {
            "cell_type": "code",
            "execution_count": 12,
            "id": "4de7f24f",
            "metadata": {
                "papermill": {
                    "duration": null,
                    "end_time": null,
                    "exception": null,
                    "start_time": null,
                    "status": "completed"
                },
                "tags": []
            },
            "outputs": [
                {
                    "name": "stderr",
                    "output_type": "stream",
                    "text": [
                        "100%|\u2588\u2588\u2588\u2588\u2588\u2588\u2588\u2588\u2588\u2588| 480/480 [02:06<00:00,  3.78it/s] \n"
                    ]
                }
            ],
            "source": [
                "# loop through each well_fov and make a gif\n",
                "for well_fov in tqdm.tqdm(df[\"well_fov\"].unique()):\n",
                "    tmp_well_df = df[df[\"well_fov\"] == well_fov]\n",
                "    save_path = pathlib.Path(image_gifs_path / f\"{well_fov}_GSDM_CL488-561_DNA.gif\")\n",
                "    list_of_images = []\n",
                "    if save_path.exists() and overwrite is False:\n",
                "        pass\n",
                "\n",
                "    elif not save_path.exists() or overwrite is True:\n",
                "        for time in tmp_well_df[\"time\"].unique():\n",
                "            tmp_time_df = tmp_well_df[tmp_well_df[\"time\"] == time]\n",
                "            list_of_images.append(\n",
                "                create_composite_image(\n",
                "                    lut_dict,\n",
                "                    tmp_time_df[\"file_path\"].tolist(),\n",
                "                    num_channels=len(channels_to_plot),\n",
                "                )\n",
                "            )\n",
                "        make_animation_gif(\n",
                "            image_list=list_of_images, save_path=save_path, duration=1000, fps=2, loop=0\n",
                "        )"
            ]
        }
    ],
    "metadata": {
        "kernelspec": {
            "display_name": "pyroptosis_timnelapse_env",
            "language": "python",
            "name": "python3"
        },
        "language_info": {
            "codemirror_mode": {
                "name": "ipython",
                "version": 3
            },
            "file_extension": ".py",
            "mimetype": "text/x-python",
            "name": "python",
            "nbconvert_exporter": "python",
            "pygments_lexer": "ipython3",
            "version": "3.12.7"
        },
        "papermill": {
            "default_parameters": {},
            "duration": 22.155697,
            "end_time": "2025-02-28T17:48:57.357619",
            "environment_variables": {},
            "exception": null,
            "input_path": "8.image_videos.ipynb",
            "output_path": "8.image_videos.ipynb",
            "parameters": {},
            "start_time": "2025-02-28T17:48:35.201922",
            "version": "2.6.0"
        }
    },
    "nbformat": 4,
    "nbformat_minor": 5
}
