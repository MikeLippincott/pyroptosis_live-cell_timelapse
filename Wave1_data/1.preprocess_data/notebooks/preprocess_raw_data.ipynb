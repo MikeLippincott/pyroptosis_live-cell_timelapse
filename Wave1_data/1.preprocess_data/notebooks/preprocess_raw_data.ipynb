{
    "cells": [
        {
            "cell_type": "code",
            "execution_count": 1,
            "metadata": {},
            "outputs": [],
            "source": [
                "import glob\n",
                "import pathlib\n",
                "import shutil\n",
                "\n",
                "import pandas as pd\n",
                "import tqdm"
            ]
        },
        {
            "cell_type": "code",
            "execution_count": 2,
            "metadata": {},
            "outputs": [
                {
                    "name": "stdout",
                    "output_type": "stream",
                    "text": [
                        "Found 19190 files\n"
                    ]
                }
            ],
            "source": [
                "# absolute path to the raw data directory only works on this machine\n",
                "path_to_raw_data = pathlib.Path(\n",
                "    \"/home/lippincm/Desktop/18TB/Saguaro_pyroptosis_wave1/\"\n",
                ").resolve(strict=True)\n",
                "\n",
                "# repository data directory to access the data faster\n",
                "path_to_repo_data = pathlib.Path(\"../../../data/raw/\").resolve()\n",
                "path_to_repo_data.mkdir(exist_ok=True, parents=True)\n",
                "\n",
                "# recurse through the directory and find all the .tif or .tiff files\n",
                "list_of_files = glob.glob(str(path_to_raw_data / \"**/Image/*.tif*\"), recursive=True)\n",
                "print(f\"Found {len(list_of_files)} files\")"
            ]
        },
        {
            "cell_type": "code",
            "execution_count": 3,
            "metadata": {},
            "outputs": [
                {
                    "name": "stderr",
                    "output_type": "stream",
                    "text": [
                        "100%|\u2588\u2588\u2588\u2588\u2588\u2588\u2588\u2588\u2588\u2588| 19190/19190 [00:00<00:00, 69825.08it/s]\n"
                    ]
                }
            ],
            "source": [
                "# copy the files to the repository data directory\n",
                "for file in tqdm.tqdm(list_of_files):\n",
                "    file_path = pathlib.Path(file)\n",
                "    file_parent = file_path.parent\n",
                "    file_parent_path = path_to_repo_data / pathlib.Path(str(file_parent).split(\"/\")[-2])\n",
                "    file_parent_path.mkdir(exist_ok=True, parents=True)\n",
                "    new_file_path = file_parent_path / file_path.name\n",
                "    # copy the file to the repository data directory\n",
                "    shutil.copy(file_path, new_file_path)"
            ]
        },
        {
            "cell_type": "code",
            "execution_count": 4,
            "metadata": {},
            "outputs": [
                {
                    "name": "stdout",
                    "output_type": "stream",
                    "text": [
                        "There were 19190 original files\n",
                        "We copied 19190 files\n"
                    ]
                }
            ],
            "source": [
                "# verify that the number of images in are the same as the number of files copied\n",
                "list_of_new_files = glob.glob(str(path_to_repo_data / \"**/*.tif*\"), recursive=True)\n",
                "print(f\"There were {len(list_of_files)} original files\")\n",
                "print(f\"We copied {len(list_of_new_files)} files\")\n",
                "assert len(list_of_files) == len(list_of_new_files)"
            ]
        },
        {
            "cell_type": "code",
            "execution_count": 5,
            "metadata": {},
            "outputs": [
                {
                    "data": {
                        "text/html": [
                            "<div>\n",
                            "<style scoped>\n",
                            "    .dataframe tbody tr th:only-of-type {\n",
                            "        vertical-align: middle;\n",
                            "    }\n",
                            "\n",
                            "    .dataframe tbody tr th {\n",
                            "        vertical-align: top;\n",
                            "    }\n",
                            "\n",
                            "    .dataframe thead th {\n",
                            "        text-align: right;\n",
                            "    }\n",
                            "</style>\n",
                            "<table border=\"1\" class=\"dataframe\">\n",
                            "  <thead>\n",
                            "    <tr style=\"text-align: right;\">\n",
                            "      <th></th>\n",
                            "      <th>FOV</th>\n",
                            "      <th>Well</th>\n",
                            "      <th>Date_Time</th>\n",
                            "      <th>Plate</th>\n",
                            "    </tr>\n",
                            "  </thead>\n",
                            "  <tbody>\n",
                            "    <tr>\n",
                            "      <th>12362</th>\n",
                            "      <td>0001</td>\n",
                            "      <td>0052</td>\n",
                            "      <td>2024-10-24 19:46:53</td>\n",
                            "      <td>20241024T194653_</td>\n",
                            "    </tr>\n",
                            "    <tr>\n",
                            "      <th>12384</th>\n",
                            "      <td>0001</td>\n",
                            "      <td>0052</td>\n",
                            "      <td>2024-10-24 19:46:53</td>\n",
                            "      <td>20241024T194653_</td>\n",
                            "    </tr>\n",
                            "    <tr>\n",
                            "      <th>12763</th>\n",
                            "      <td>0001</td>\n",
                            "      <td>0052</td>\n",
                            "      <td>2024-10-24 19:46:53</td>\n",
                            "      <td>20241024T194653_</td>\n",
                            "    </tr>\n",
                            "    <tr>\n",
                            "      <th>13536</th>\n",
                            "      <td>0001</td>\n",
                            "      <td>0052</td>\n",
                            "      <td>2024-10-24 19:46:53</td>\n",
                            "      <td>20241024T194653_</td>\n",
                            "    </tr>\n",
                            "    <tr>\n",
                            "      <th>13594</th>\n",
                            "      <td>0001</td>\n",
                            "      <td>0052</td>\n",
                            "      <td>2024-10-24 19:46:53</td>\n",
                            "      <td>20241024T194653_</td>\n",
                            "    </tr>\n",
                            "  </tbody>\n",
                            "</table>\n",
                            "</div>"
                        ],
                        "text/plain": [
                            "        FOV  Well           Date_Time             Plate\n",
                            "12362  0001  0052 2024-10-24 19:46:53  20241024T194653_\n",
                            "12384  0001  0052 2024-10-24 19:46:53  20241024T194653_\n",
                            "12763  0001  0052 2024-10-24 19:46:53  20241024T194653_\n",
                            "13536  0001  0052 2024-10-24 19:46:53  20241024T194653_\n",
                            "13594  0001  0052 2024-10-24 19:46:53  20241024T194653_"
                        ]
                    },
                    "execution_count": 5,
                    "metadata": {},
                    "output_type": "execute_result"
                }
            ],
            "source": [
                "# make a df out of the file names\n",
                "df = pd.DataFrame(list_of_new_files, columns=[\"file_path\"])\n",
                "df.insert(0, \"file_name\", df[\"file_path\"].apply(lambda x: pathlib.Path(x).name))\n",
                "df.insert(0, \"Plate\", df[\"file_path\"].apply(lambda x: x.split(\"/\")[7]))\n",
                "df.insert(0, \"Well\", df[\"file_name\"].apply(lambda x: x.split(\"F\")[0].split(\"W\")[-1]))\n",
                "df.insert(0, \"FOV\", df[\"file_name\"].apply(lambda x: x.split(\"T\")[0].split(\"F\")[-1]))\n",
                "df.drop(\"file_path\", axis=1, inplace=True)\n",
                "df.drop(\"file_name\", axis=1, inplace=True)\n",
                "# split the plate into time and date\n",
                "df.insert(2, \"Date_Time\", df[\"Plate\"].apply(lambda x: x.strip(\"_\").replace(\"T\", \"\")))\n",
                "# format the time into YYYY-MM-DD HH:MM:SS\n",
                "df[\"Date_Time\"] = pd.to_datetime(df[\"Date_Time\"], format=\"%Y%m%d%H%M%S\")\n",
                "\n",
                "# sort by Date, Time, Plate, Well, FOV\n",
                "df.sort_values(by=[\"Date_Time\", \"Plate\", \"Well\", \"FOV\"], inplace=True)\n",
                "df.head()"
            ]
        },
        {
            "cell_type": "code",
            "execution_count": 6,
            "metadata": {},
            "outputs": [
                {
                    "name": "stdout",
                    "output_type": "stream",
                    "text": [
                        "There are 96 wells.\n",
                        "There are 5 fields of view.\n",
                        "There are 8 plates.\n",
                        "The times are:\n",
                        "\n",
                        "<DatetimeArray>\n",
                        "['2024-10-24 19:46:53', '2024-10-24 22:48:49', '2024-10-25 01:50:40',\n",
                        " '2024-10-25 04:52:29', '2024-10-25 07:54:29', '2024-10-25 10:57:38',\n",
                        " '2024-10-25 13:56:21', '2024-10-25 16:55:02']\n",
                        "Length: 8, dtype: datetime64[ns]\n"
                    ]
                }
            ],
            "source": [
                "print(f\"There are {len(df['Well'].unique())} wells.\")\n",
                "print(f\"There are {len(df['FOV'].unique())} fields of view.\")\n",
                "print(f\"There are {len(df['Plate'].unique())} plates.\")\n",
                "print(\"The times are:\\n\")\n",
                "print(df[\"Date_Time\"].unique())"
            ]
        }
    ],
    "metadata": {
        "kernelspec": {
            "display_name": "pyroptosis_timnelapse_env",
            "language": "python",
            "name": "python3"
        },
        "language_info": {
            "codemirror_mode": {
                "name": "ipython",
                "version": 3
            },
            "file_extension": ".py",
            "mimetype": "text/x-python",
            "name": "python",
            "nbconvert_exporter": "python",
            "pygments_lexer": "ipython3",
            "version": "3.12.7"
        }
    },
    "nbformat": 4,
    "nbformat_minor": 2
}
