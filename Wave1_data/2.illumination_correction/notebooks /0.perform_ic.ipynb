{
    "cells": [
        {
            "attachments": {},
            "cell_type": "markdown",
            "metadata": {},
            "source": [
                "# Run CellProfiler `illum.cppipe` (IC) pipeline\n",
                "\n",
                "In this notebook, we run the CellProfiler IC pipeline to calculate the illumination (illum) correction functions for all images per channel (5), apply the functions, and save images into a new directory."
            ]
        },
        {
            "attachments": {},
            "cell_type": "markdown",
            "metadata": {},
            "source": [
                "## Import libraries"
            ]
        },
        {
            "cell_type": "code",
            "execution_count": null,
            "metadata": {},
            "outputs": [],
            "source": [
                "import pathlib\n",
                "import sys\n",
                "import time\n",
                "\n",
                "sys.path.append(\"../../../utils\")\n",
                "import cp_parallel\n",
                "import cp_utils as cp_utils\n",
                "import tqdm"
            ]
        },
        {
            "attachments": {},
            "cell_type": "markdown",
            "metadata": {},
            "source": [
                "## Set paths"
            ]
        },
        {
            "cell_type": "code",
            "execution_count": null,
            "metadata": {},
            "outputs": [],
            "source": [
                "run_name = \"illumination_correction\"\n",
                "# path to folder for IC images\n",
                "illum_directory = pathlib.Path(\"../illum_directory\").resolve()\n",
                "# make sure the directory exists\n",
                "illum_directory.mkdir(exist_ok=True, parents=True)"
            ]
        },
        {
            "cell_type": "markdown",
            "metadata": {},
            "source": [
                "## Define the input paths"
            ]
        },
        {
            "cell_type": "markdown",
            "metadata": {},
            "source": [
                "5 FOVs per well, 96 wells per plate, 1 plate at 18 time points = 8640 image sets"
            ]
        },
        {
            "cell_type": "code",
            "execution_count": null,
            "metadata": {},
            "outputs": [],
            "source": [
                "path_to_pipeline = pathlib.Path(\"../pipelines/illum_5ch.cppipe\").resolve(strict=True)\n",
                "raw_images_path = pathlib.Path(\"../../../data/raw\").resolve(strict=True)\n",
                "# get all directories with raw images\n",
                "dict_of_runs = {}\n",
                "raw_directories = list(raw_images_path.rglob(\"*\"))\n",
                "raw_directories = [x for x in raw_directories if x.is_dir()]\n",
                "# filter for directories with images\n",
                "raw_directories = [x for x in raw_directories if len(list(x.glob(\"*.tif\"))) > 0]\n",
                "raw_directories = sorted(raw_directories)\n",
                "#####################################\n",
                "# for testing purposes\n",
                "# get 5 random directories with images\n",
                "import random\n",
                "\n",
                "import numpy as np\n",
                "\n",
                "random.seed(0)\n",
                "DMSO_sample = raw_directories[:1]\n",
                "raw_directories = random.sample(raw_directories, 2)\n",
                "raw_directories = DMSO_sample + raw_directories\n",
                "#####################################\n",
                "for dir in raw_directories:\n",
                "    well_FOV = dir.name\n",
                "    plate = str(dir).split(\"/\")[-2]\n",
                "    plate_well_FOV = plate + well_FOV\n",
                "    dict_of_runs[plate_well_FOV] = {\n",
                "        \"path_to_images\": dir,\n",
                "        \"path_to_output\": illum_directory / plate_well_FOV,\n",
                "        \"path_to_pipeline\": path_to_pipeline,\n",
                "    }\n",
                "print(f\"Added {len(dict_of_runs.keys())} to the list of runs\")"
            ]
        },
        {
            "attachments": {},
            "cell_type": "markdown",
            "metadata": {},
            "source": [
                "## Run `illum.cppipe` pipeline and calculate + save IC images\n",
                "This last cell does not get run as we run this pipeline in the command line."
            ]
        },
        {
            "cell_type": "code",
            "execution_count": null,
            "metadata": {},
            "outputs": [],
            "source": [
                "start = time.time()"
            ]
        },
        {
            "cell_type": "code",
            "execution_count": null,
            "metadata": {},
            "outputs": [],
            "source": [
                "cp_parallel.run_cellprofiler_parallel(\n",
                "    plate_info_dictionary=dict_of_runs, run_name=run_name\n",
                ")"
            ]
        },
        {
            "cell_type": "code",
            "execution_count": null,
            "metadata": {},
            "outputs": [
                {
                    "ename": "",
                    "evalue": "",
                    "output_type": "error",
                    "traceback": [
                        "\u001b[1;31mThe Kernel crashed while executing code in the current cell or a previous cell. \n",
                        "\u001b[1;31mPlease review the code in the cell(s) to identify a possible cause of the failure. \n",
                        "\u001b[1;31mClick <a href='https://aka.ms/vscodeJupyterKernelCrash'>here</a> for more info. \n",
                        "\u001b[1;31mView Jupyter <a href='command:jupyter.viewOutput'>log</a> for further details."
                    ]
                }
            ],
            "source": [
                "end = time.time()\n",
                "# format the time taken into hours, minutes, seconds\n",
                "hours, rem = divmod(end - start, 3600)\n",
                "minutes, seconds = divmod(rem, 60)\n",
                "print(\n",
                "    \"Total time taken: {:0>2}:{:0>2}:{:05.2f}\".format(int(hours), int(minutes), seconds)\n",
                ")"
            ]
        }
    ],
    "metadata": {
        "kernelspec": {
            "display_name": "cellprofiler_timelapse_env",
            "language": "python",
            "name": "python3"
        },
        "language_info": {
            "codemirror_mode": {
                "name": "ipython",
                "version": 3
            },
            "file_extension": ".py",
            "mimetype": "text/x-python",
            "name": "python",
            "nbconvert_exporter": "python",
            "pygments_lexer": "ipython3",
            "version": "3.8.20"
        },
        "orig_nbformat": 4
    },
    "nbformat": 4,
    "nbformat_minor": 2
}
