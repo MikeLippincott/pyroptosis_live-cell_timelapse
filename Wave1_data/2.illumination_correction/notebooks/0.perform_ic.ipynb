{
    "cells": [
        {
            "attachments": {},
            "cell_type": "markdown",
            "metadata": {},
            "source": [
                "# Run CellProfiler `illum.cppipe` (IC) pipeline\n",
                "\n",
                "In this notebook, we run the CellProfiler IC pipeline to calculate the illumination (illum) correction functions for all images per channel (5), apply the functions, and save images into a new directory."
            ]
        },
        {
            "attachments": {},
            "cell_type": "markdown",
            "metadata": {},
            "source": [
                "## Import libraries"
            ]
        },
        {
            "cell_type": "code",
            "execution_count": 1,
            "metadata": {},
            "outputs": [],
            "source": [
                "import argparse\n",
                "import pathlib\n",
                "import sys\n",
                "import time\n",
                "\n",
                "sys.path.append(\"../../../utils\")\n",
                "import cp_utils\n",
                "import cp_utils as cp_utils\n",
                "import tqdm\n",
                "\n",
                "# check if in a jupyter notebook\n",
                "try:\n",
                "    cfg = get_ipython().config\n",
                "    in_notebook = True\n",
                "except NameError:\n",
                "    in_notebook = False"
            ]
        },
        {
            "attachments": {},
            "cell_type": "markdown",
            "metadata": {},
            "source": [
                "## Set paths"
            ]
        },
        {
            "cell_type": "code",
            "execution_count": null,
            "metadata": {},
            "outputs": [
                {
                    "name": "stdout",
                    "output_type": "stream",
                    "text": [
                        "Running in a notebook\n"
                    ]
                }
            ],
            "source": [
                "if not in_notebook:\n",
                "    print(\"Running as script\")\n",
                "    # set up arg parser\n",
                "    parser = argparse.ArgumentParser(description=\"Segment the nuclei of a tiff image\")\n",
                "\n",
                "    parser.add_argument(\n",
                "        \"--input_dir\",\n",
                "        type=str,\n",
                "        help=\"Path to the input directory containing the tiff images\",\n",
                "    )\n",
                "\n",
                "    args = parser.parse_args()\n",
                "    input_dir = pathlib.Path(args.input_dir).resolve(strict=True)\n",
                "else:\n",
                "    print(\"Running in a notebook\")\n",
                "    input_dir = pathlib.Path(\"../../../data/test_dir/W0052_F0001\").resolve(strict=True)\n",
                "\n",
                "run_name = \"illumination_correction\"\n",
                "# path to folder for IC images\n",
                "illum_directory = pathlib.Path(\"../illum_directory\").resolve()\n",
                "# make sure the directory exists\n",
                "illum_directory.mkdir(exist_ok=True, parents=True)"
            ]
        },
        {
            "cell_type": "markdown",
            "metadata": {},
            "source": [
                "## Define the input paths"
            ]
        },
        {
            "cell_type": "markdown",
            "metadata": {},
            "source": [
                "5 FOVs per well, 96 wells per plate, 1 plate at 18 time points = 8640 image sets"
            ]
        },
        {
            "cell_type": "code",
            "execution_count": 9,
            "metadata": {},
            "outputs": [
                {
                    "name": "stdout",
                    "output_type": "stream",
                    "text": [
                        "Added 1 to the list of runs\n",
                        "Running W0052_F0001\n"
                    ]
                }
            ],
            "source": [
                "path_to_pipeline = pathlib.Path(\"../pipelines/illum_5ch.cppipe\").resolve(strict=True)\n",
                "# get all directories with raw images\n",
                "\n",
                "\n",
                "dict_of_runs = {}\n",
                "dict_of_runs[input_dir.stem] = {\n",
                "    \"path_to_images\": str(input_dir),\n",
                "    \"path_to_output\": str(illum_directory / input_dir.stem),\n",
                "    \"path_to_pipeline\": path_to_pipeline,\n",
                "}\n",
                "print(f\"Added {len(dict_of_runs.keys())} to the list of runs\")\n",
                "print(f\"Running {input_dir.stem}\")"
            ]
        },
        {
            "attachments": {},
            "cell_type": "markdown",
            "metadata": {},
            "source": [
                "## Run `illum.cppipe` pipeline and calculate + save IC images\n",
                "This last cell does not get run as we run this pipeline in the command line."
            ]
        },
        {
            "cell_type": "code",
            "execution_count": 10,
            "metadata": {},
            "outputs": [],
            "source": [
                "start = time.time()"
            ]
        },
        {
            "cell_type": "code",
            "execution_count": null,
            "metadata": {},
            "outputs": [
                {
                    "name": "stdout",
                    "output_type": "stream",
                    "text": [
                        "The CellProfiler run has been completed with log. Please check log file for any errors.\n"
                    ]
                }
            ],
            "source": [
                "cp_utils.run_cellprofiler(\n",
                "    path_to_pipeline=dict_of_runs[input_dir.stem][\"path_to_pipeline\"],\n",
                "    path_to_input=dict_of_runs[input_dir.stem][\"path_to_images\"],\n",
                "    path_to_output=dict_of_runs[input_dir.stem][\"path_to_output\"],\n",
                ")"
            ]
        },
        {
            "cell_type": "code",
            "execution_count": null,
            "metadata": {},
            "outputs": [
                {
                    "name": "stdout",
                    "output_type": "stream",
                    "text": [
                        "Total time taken: 00:02:06.95\n"
                    ]
                }
            ],
            "source": [
                "end = time.time()\n",
                "# format the time taken into hours, minutes, seconds\n",
                "hours, rem = divmod(end - start, 3600)\n",
                "minutes, seconds = divmod(rem, 60)\n",
                "print(\n",
                "    \"Total time taken: {:0>2}:{:0>2}:{:05.2f}\".format(int(hours), int(minutes), seconds)\n",
                ")"
            ]
        }
    ],
    "metadata": {
        "kernelspec": {
            "display_name": "cellprofiler_timelapse_env",
            "language": "python",
            "name": "python3"
        },
        "language_info": {
            "codemirror_mode": {
                "name": "ipython",
                "version": 3
            },
            "file_extension": ".py",
            "mimetype": "text/x-python",
            "name": "python",
            "nbconvert_exporter": "python",
            "pygments_lexer": "ipython3",
            "version": "3.8.20"
        },
        "orig_nbformat": 4
    },
    "nbformat": 4,
    "nbformat_minor": 2
}
