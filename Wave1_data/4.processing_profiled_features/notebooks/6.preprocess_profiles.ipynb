{
    "cells": [
        {
            "cell_type": "markdown",
            "metadata": {},
            "source": [
                "This notebook preprocesses the data to have correct time and treatment metadata."
            ]
        },
        {
            "cell_type": "code",
            "execution_count": 2,
            "metadata": {},
            "outputs": [],
            "source": [
                "import argparse\n",
                "import pathlib\n",
                "from pprint import pprint\n",
                "\n",
                "import pandas as pd"
            ]
        },
        {
            "cell_type": "code",
            "execution_count": null,
            "metadata": {},
            "outputs": [],
            "source": [
                "# check if in a jupyter notebook\n",
                "try:\n",
                "    cfg = get_ipython().config\n",
                "    in_notebook = True\n",
                "except NameError:\n",
                "    in_notebook = False\n",
                "\n",
                "if not in_notebook:\n",
                "    print(\"Running as script\")\n",
                "    # set up arg parser\n",
                "    parser = argparse.ArgumentParser(description=\"Segment the nuclei of a tiff image\")\n",
                "\n",
                "    parser.add_argument(\n",
                "        \"--samples_per_group\",\n",
                "        type=int,\n",
                "        default=25,\n",
                "        help=\"Number of samples per group\",\n",
                "    )\n",
                "\n",
                "    parser.add_argument(\n",
                "        \"--data_subset\",\n",
                "        action=\"store_true\",\n",
                "        help=\"Use a subset of the data\",\n",
                "    )\n",
                "\n",
                "    args = parser.parse_args()\n",
                "    samples_per_group = args.samples_per_group\n",
                "    data_subset = args.data_subset\n",
                "else:\n",
                "    print(\"Running in a notebook\")\n",
                "    data_subset = True\n",
                "    samples_per_group = 1000"
            ]
        },
        {
            "cell_type": "code",
            "execution_count": 8,
            "metadata": {},
            "outputs": [],
            "source": [
                "normalized_dir = pathlib.Path(\"../data/normalized_data\").resolve()\n",
                "feature_selected_dir = pathlib.Path(\"../data/feature_selected_data\").resolve()\n",
                "aggregate_dir = pathlib.Path(\"../data/aggregated\").resolve()\n",
                "preprocessed_dir = pathlib.Path(\"../data/preprocessed_data\").resolve()\n",
                "preprocessed_dir.mkdir(exist_ok=True, parents=True)"
            ]
        },
        {
            "cell_type": "code",
            "execution_count": null,
            "metadata": {},
            "outputs": [],
            "source": [
                "input_data_dict = {\n",
                "    \"first_time\": {\n",
                "        \"normalized\": {\n",
                "            \"input_data\": pathlib.Path(\n",
                "                f\"{normalized_dir}/live_cell_pyroptosis_wave1_sc_first_time_norm.parquet\"\n",
                "            ).resolve(),\n",
                "            \"output_data\": pathlib.Path(\n",
                "                f\"{preprocessed_dir}/live_cell_pyroptosis_wave1_sc_first_time_norm.parquet\"\n",
                "            ).resolve(),\n",
                "        },\n",
                "        \"selected\": {\n",
                "            \"input_data\": pathlib.Path(\n",
                "                f\"{feature_selected_dir}/live_cell_pyroptosis_wave1_sc_first_time_norm_fs.parquet\"\n",
                "            ).resolve(),\n",
                "            \"output_data\": pathlib.Path(\n",
                "                f\"{preprocessed_dir}/live_cell_pyroptosis_wave1_sc_first_time_norm_fs.parquet\"\n",
                "            ).resolve(),\n",
                "        },\n",
                "        \"aggregate_normalized\": {\n",
                "            \"input_data\": pathlib.Path(\n",
                "                f\"{aggregate_dir}/live_cell_pyroptosis_wave1_first_time_norm_agg.parquet\"\n",
                "            ).resolve(),\n",
                "            \"output_data\": pathlib.Path(\n",
                "                f\"{preprocessed_dir}/live_cell_pyroptosis_wave1_first_time_norm_agg.parquet\"\n",
                "            ).resolve(),\n",
                "        },\n",
                "        \"aggregate_selected\": {\n",
                "            \"input_data\": pathlib.Path(\n",
                "                f\"{aggregate_dir}/live_cell_pyroptosis_wave1_first_time_norm_fs_agg.parquet\"\n",
                "            ).resolve(),\n",
                "            \"output_data\": pathlib.Path(\n",
                "                f\"{preprocessed_dir}/live_cell_pyroptosis_wave1_first_time_norm_fs_agg.parquet\"\n",
                "            ).resolve(),\n",
                "        },\n",
                "    },\n",
                "}\n",
                "\n",
                "pprint(input_data_dict)"
            ]
        },
        {
            "cell_type": "code",
            "execution_count": null,
            "metadata": {},
            "outputs": [],
            "source": [
                "for dataset in input_data_dict:\n",
                "    for data_type in input_data_dict[dataset]:\n",
                "        data = pd.read_parquet(input_data_dict[dataset][data_type][\"input_data\"])\n",
                "\n",
                "        # drop Wells N04, N06, N08, and N10 as they have no Hoechst stain\n",
                "        data = data[~data[\"Metadata_Well\"].str.contains(\"N04|N06|N08|N10\")]\n",
                "        # calculate the number of cells per well\n",
                "        cells_per_well = data.groupby(\"Metadata_Well\").size()\n",
                "        data[\"Metadata_cells_per_well\"] = data[\"Metadata_Well\"].map(cells_per_well)\n",
                "\n",
                "        if \"aggregate\" in data_type:\n",
                "            data.to_parquet(input_data_dict[dataset][data_type][\"output_data\"])\n",
                "        elif data_subset:\n",
                "            # sample the data stratified by Metadata_Well and Metadata Time\n",
                "            data = data.groupby([\"Metadata_Well\", \"Metadata_Time\"]).apply(\n",
                "                lambda x: x.sample(samples_per_group)\n",
                "            )\n",
                "            subset_output = (\n",
                "                input_data_dict[dataset][data_type][\"output_data\"].parent\n",
                "                / f\"{input_data_dict[dataset][data_type]['output_data'].stem}_subset.parquet\"\n",
                "            )\n",
                "            data.to_parquet(subset_output)\n",
                "        else:\n",
                "            data.to_parquet(input_data_dict[dataset][data_type][\"output_data\"])\n",
                "\n",
                "        print(f\"Preprocessed data for {dataset} has the shape: {data.shape}\")"
            ]
        },
        {
            "cell_type": "code",
            "execution_count": null,
            "metadata": {},
            "outputs": [],
            "source": [
                "data.head()"
            ]
        }
    ],
    "metadata": {
        "kernelspec": {
            "display_name": "cellprofiler_timelapse_env",
            "language": "python",
            "name": "python3"
        },
        "language_info": {
            "codemirror_mode": {
                "name": "ipython",
                "version": 3
            },
            "file_extension": ".py",
            "mimetype": "text/x-python",
            "name": "python",
            "nbconvert_exporter": "python",
            "pygments_lexer": "ipython3",
            "version": "3.8.20"
        }
    },
    "nbformat": 4,
    "nbformat_minor": 2
}
