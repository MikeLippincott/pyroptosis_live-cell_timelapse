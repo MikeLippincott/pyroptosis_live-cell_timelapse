{
    "cells": [
        {
            "attachments": {},
            "cell_type": "markdown",
            "metadata": {},
            "source": [
                "# Perform feature selection on normalized data"
            ]
        },
        {
            "attachments": {},
            "cell_type": "markdown",
            "metadata": {},
            "source": [
                "## Import libraries"
            ]
        },
        {
            "cell_type": "code",
            "execution_count": 1,
            "metadata": {},
            "outputs": [],
            "source": [
                "import gc\n",
                "import pathlib\n",
                "import sys\n",
                "\n",
                "import pandas as pd\n",
                "from pycytominer import feature_select\n",
                "from pycytominer.cyto_utils import output"
            ]
        },
        {
            "attachments": {},
            "cell_type": "markdown",
            "metadata": {},
            "source": [
                "## Set paths and variables"
            ]
        },
        {
            "cell_type": "code",
            "execution_count": 2,
            "metadata": {},
            "outputs": [],
            "source": [
                "# directory where combined parquet file are located\n",
                "data_dir = pathlib.Path(\"../data/normalized_data/\")\n",
                "\n",
                "# directory where the normalized parquet file is saved to\n",
                "output_dir = pathlib.Path(\"../data/feature_selected_data\")\n",
                "output_dir.mkdir(exist_ok=True, parents=True)"
            ]
        },
        {
            "cell_type": "markdown",
            "metadata": {},
            "source": [
                "## Define dict of paths"
            ]
        },
        {
            "cell_type": "code",
            "execution_count": null,
            "metadata": {},
            "outputs": [],
            "source": [
                "# dictionary with each run for the cell type\n",
                "dict_of_inputs = {\n",
                "    \"live_cell_pyroptosis_wave1_sc_first_time_norm\": {\n",
                "        \"normalized_df_path\": pathlib.Path(\n",
                "            f\"{data_dir}/live_cell_pyroptosis_wave1_sc_first_time_norm.parquet\"\n",
                "        ).resolve(strict=True),\n",
                "        \"output_file_path\": pathlib.Path(\n",
                "            f\"{output_dir}/live_cell_pyroptosis_wave1_sc_first_time_norm_fs.parquet\"\n",
                "        ).resolve(),\n",
                "    },\n",
                "}"
            ]
        },
        {
            "attachments": {},
            "cell_type": "markdown",
            "metadata": {},
            "source": [
                "## Perform feature selection"
            ]
        },
        {
            "cell_type": "code",
            "execution_count": 4,
            "metadata": {},
            "outputs": [],
            "source": [
                "# define operations to be performed on the data\n",
                "# list of operations for feature select function to use on input profile\n",
                "feature_select_ops = [\n",
                "    \"variance_threshold\",\n",
                "    \"blocklist\",\n",
                "    \"drop_na_columns\",\n",
                "    \"correlation_threshold\",\n",
                "]"
            ]
        },
        {
            "cell_type": "code",
            "execution_count": null,
            "metadata": {},
            "outputs": [],
            "source": [
                "manual_block_list = [\n",
                "    \"Nuclei_AreaShape_BoundingBoxArea\",\n",
                "    \"Nuclei_AreaShape_BoundingBoxMinimum_X\",\n",
                "    \"Cells_AreaShape_BoundingBoxArea\",\n",
                "]"
            ]
        },
        {
            "cell_type": "code",
            "execution_count": 9,
            "metadata": {},
            "outputs": [
                {
                    "name": "stdout",
                    "output_type": "stream",
                    "text": [
                        "Performing feature selection on normalized annotated merged single cells!\n",
                        "Feature selection complete, saving to parquet file!\n",
                        "Features have been selected for PBMC cells and saved to subset_test!\n",
                        "(2300, 1147)\n"
                    ]
                }
            ],
            "source": [
                "# feature selection parameters\n",
                "print(\"Performing feature selection on normalized annotated merged single cells!\")\n",
                "for info, input_path in dict_of_inputs.items():\n",
                "    # read in the annotated file\n",
                "    normalized_df = pd.read_parquet(input_path[\"normalized_df_path\"])\n",
                "    metadata_cols = [x for x in normalized_df.columns if x.startswith(\"Metadata_\")]\n",
                "    normalized_features_df = normalized_df.drop(metadata_cols, axis=\"columns\")\n",
                "    # perform feature selection with the operations specified\n",
                "    feature_select_df = feature_select(\n",
                "        normalized_features_df,\n",
                "        operation=feature_select_ops,\n",
                "    )\n",
                "\n",
                "    # add \"Metadata_\" to the beginning of each column name in the list\n",
                "    feature_select_df.columns = [\n",
                "        \"Metadata_\" + column if column in manual_block_list else column\n",
                "        for column in feature_select_df.columns\n",
                "    ]\n",
                "    # add metadata columns back to the feature selected df\n",
                "    feature_select_df = pd.concat(\n",
                "        [normalized_df[metadata_cols], feature_select_df], axis=\"columns\"\n",
                "    )\n",
                "    print(\"Feature selection complete, saving to parquet file!\")\n",
                "    # save features selected df as parquet file\n",
                "    output(\n",
                "        df=feature_select_df,\n",
                "        output_filename=input_path[\"output_file_path\"],\n",
                "        output_type=\"parquet\",\n",
                "    )\n",
                "    print(\n",
                "        f\"Features have been selected for PBMC cells and saved to {pathlib.Path(info).name}!\"\n",
                "    )\n",
                "    # check to see if the shape of the df has changed indicating feature selection occurred\n",
                "    print(feature_select_df.shape)\n",
                "    feature_select_df.head()"
            ]
        }
    ],
    "metadata": {
        "kernelspec": {
            "display_name": "cellprofiler_timelapse_env",
            "language": "python",
            "name": "python3"
        },
        "language_info": {
            "codemirror_mode": {
                "name": "ipython",
                "version": 3
            },
            "file_extension": ".py",
            "mimetype": "text/x-python",
            "name": "python",
            "nbconvert_exporter": "python",
            "pygments_lexer": "ipython3",
            "version": "3.8.20"
        },
        "orig_nbformat": 4
    },
    "nbformat": 4,
    "nbformat_minor": 2
}
