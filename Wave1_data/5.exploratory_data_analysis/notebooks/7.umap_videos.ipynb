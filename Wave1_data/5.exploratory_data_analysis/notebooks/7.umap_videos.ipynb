{
    "cells": [
        {
            "cell_type": "markdown",
            "metadata": {},
            "source": [
                "This notebook visualizes the exploratory data analysis. \n",
                "Specifically the UMAP and PCA plots of the data."
            ]
        },
        {
            "cell_type": "code",
            "execution_count": 1,
            "metadata": {
                "vscode": {
                    "languageId": "r"
                }
            },
            "outputs": [],
            "source": [
                "suppressWarnings(suppressPackageStartupMessages(library(ggplot2)))\n",
                "suppressWarnings(suppressPackageStartupMessages(library(cowplot)))\n",
                "suppressWarnings(suppressPackageStartupMessages(library(dplyr)))\n",
                "suppressWarnings(suppressPackageStartupMessages(library(arrow)))\n",
                "suppressWarnings(suppressPackageStartupMessages(library(argparse)))\n",
                "\n",
                "suppressWarnings(suppressPackageStartupMessages(library(gganimate)))"
            ]
        },
        {
            "cell_type": "code",
            "execution_count": 2,
            "metadata": {
                "vscode": {
                    "languageId": "r"
                }
            },
            "outputs": [],
            "source": [
                "# argparser <- ArgumentParser()\n",
                "# argparser$add_argument(\"--dataset\", help=\"Input file\", required=TRUE)\n",
                "\n",
                "# args <- argparser$parse_args()\n",
                "\n",
                "# data_set <- args$dataset\n",
                "\n",
                "data_set <- \"first_time\""
            ]
        },
        {
            "cell_type": "code",
            "execution_count": 3,
            "metadata": {
                "vscode": {
                    "languageId": "r"
                }
            },
            "outputs": [],
            "source": [
                "input_data_path <- file.path(\"..\",\"data\",data_set)"
            ]
        },
        {
            "cell_type": "code",
            "execution_count": 4,
            "metadata": {
                "vscode": {
                    "languageId": "r"
                }
            },
            "outputs": [],
            "source": [
                "# set the path to the data to visualize\n",
                "umap_data_path <- file.path(input_data_path,\"umap_embeddings.parquet\")\n",
                "pca_data_path <- file.path(input_data_path,\"pca_embeddings.parquet\")\n",
                "scree_data_path <- file.path(input_data_path,\"scree_plot.parquet\")\n",
                "\n",
                "# read the data\n",
                "umap_data <- arrow::read_parquet(umap_data_path)\n",
                "pca_data <- arrow::read_parquet(pca_data_path)\n",
                "scree_data <- arrow::read_parquet(scree_data_path)"
            ]
        },
        {
            "cell_type": "code",
            "execution_count": 5,
            "metadata": {
                "vscode": {
                    "languageId": "r"
                }
            },
            "outputs": [],
            "source": [
                "# # sample from well, fov, and time \n",
                "# dim(umap_data)\n",
                "# umap_data <- umap_data %>% \n",
                "#   group_by(Metadata_Well, Metadata_FOV, Metadata_Time) %>% \n",
                "#   sample_n(1) %>% \n",
                "#   ungroup()\n",
                "# dim(umap_data)"
            ]
        },
        {
            "cell_type": "code",
            "execution_count": null,
            "metadata": {
                "vscode": {
                    "languageId": "r"
                }
            },
            "outputs": [],
            "source": [
                "head(umap_data)"
            ]
        },
        {
            "cell_type": "code",
            "execution_count": null,
            "metadata": {
                "vscode": {
                    "languageId": "r"
                }
            },
            "outputs": [],
            "source": [
                "# map the timepoints to the actual hour timepoint\n",
                "timepoints <- data.frame(\n",
                "    reference = c(\"00\", \"01\", \"02\", \"03\", \"04\", \"05\", \"06\", \"07\", \"08\", \"09\", \"10\", \"11\", \"12\", \"13\", \"14\", \"15\", \"16\", \"17\"),\n",
                "    Metadata_timepoint  = c(1,4,7,10,13,16,19,22,25,28,31,34,37,40,43,46,49,90)\n",
                ")\n",
                "# map the timepoints to the main df \n",
                "umap_data <- umap_data %>% left_join(timepoints, by = c(\"Metadata_Time\" = \"reference\"))\n",
                "umap_data$Metadata_timepoint <- as.numeric(umap_data$Metadata_timepoint)\n",
                "umap_data$Metadata_timepoint_hours <- paste0(umap_data$Metadata_timepoint, \" hours\")\n",
                "head(umap_data)"
            ]
        },
        {
            "cell_type": "code",
            "execution_count": 8,
            "metadata": {
                "vscode": {
                    "languageId": "r"
                }
            },
            "outputs": [],
            "source": [
                "figure_path <- file.path(\"..\",\"figures\",data_set)\n",
                "# create the output directory if it does not exist\n",
                "if (!dir.exists(figure_path)) {\n",
                "  dir.create(figure_path)\n",
                "}"
            ]
        },
        {
            "cell_type": "code",
            "execution_count": null,
            "metadata": {
                "vscode": {
                    "languageId": "r"
                }
            },
            "outputs": [],
            "source": [
                "head(umap_data)\n",
                "\n",
                "\n",
                "wells <- unique(umap_data$Metadata_Well)\n",
                "# sort the wells alphabetically\n",
                "wells <- sort(wells)"
            ]
        },
        {
            "cell_type": "code",
            "execution_count": null,
            "metadata": {
                "vscode": {
                    "languageId": "r"
                }
            },
            "outputs": [],
            "source": [
                "print(dim(umap_data))\n",
                "print(dim(pca_data))\n",
                "print(dim(scree_data))\n",
                "\n",
                "head(umap_data,1)\n",
                "head(pca_data,1)\n",
                "head(scree_data,1)"
            ]
        },
        {
            "cell_type": "code",
            "execution_count": null,
            "metadata": {
                "vscode": {
                    "languageId": "r"
                }
            },
            "outputs": [],
            "source": [
                "print(dim(umap_data))\n",
                "print(dim(pca_data))\n",
                "\n",
                "# randomly mix the order of the rows to prevent plotting bias and artifacts\n",
                "umap_data <- umap_data[sample(nrow(umap_data)),]\n",
                "pca_data <- pca_data[sample(nrow(pca_data)),]\n",
                "\n",
                "print(dim(umap_data))\n",
                "print(dim(pca_data))"
            ]
        },
        {
            "cell_type": "code",
            "execution_count": null,
            "metadata": {
                "vscode": {
                    "languageId": "r"
                }
            },
            "outputs": [],
            "source": [
                "unique(umap_data$Metadata_treatment)\n",
                "umap_data$Metadata_treatment <- factor(umap_data$Metadata_treatment, levels = c(\n",
                "    'Media',\n",
                "    'DMSO CTL',\n",
                "    'no Hoechst',\n",
                "\n",
                "    'LPS 0.1 ug/ml',\n",
                "    'LPS 1 ug/ml',\n",
                "    'LPS 10 ug/ml',\n",
                "    'LPS 1 ug/ml + ATP 2.5 mM',\n",
                "    'LPS 1 ug/ml + Nigericin 0.1 uM',\n",
                "    'LPS 1 ug/ml + Nigericin 0.5uM',\n",
                "    'LPS 1 ug/ml + Nigericin 1 uM',\n",
                "    'LPS 1 ug/ml + Nigericin 3uM',\n",
                "    'LPS 1 ug/ml + Nigericin 5uM',\n",
                "\n",
                "    'Flagellin 0.1 ug/ml',\n",
                "    'Flagellin 1 ug/ml',\n",
                "    'Flagellin 10 ug/ml',\n",
                "\n",
                "    'Thapsigargin 0.5uM',\n",
                "    'Thapsigargin 1 uM',\n",
                "    'Thapsigargin 10 uM',\n",
                "    'H2O2 100 nM',\n",
                "    'H2O2 100 uM',\n",
                "    'H2O2 500 uM',\n",
                "\n",
                "    'Ab1-42 0.4 uM',\n",
                "    'Ab1-42 2 uM',\n",
                "    'Ab1-42 10 uM'\n",
                "))\n",
                "unique(umap_data$Metadata_treatment)\n"
            ]
        },
        {
            "cell_type": "code",
            "execution_count": 13,
            "metadata": {
                "vscode": {
                    "languageId": "r"
                }
            },
            "outputs": [],
            "source": [
                "\n",
                "\n",
                "# 9 colors\n",
                "# col 1 - 3 hues\n",
                "# colorgrad1 <- c(\"white\", \"grey\", \"#585858\")\n",
                "colorgrad1 <- colorRampPalette(c(\"lightgrey\", \"grey\"))(3)\n",
                "# col 2 - 5 hues color ramp 5 hues\n",
                "colorgrad2 <- colorRampPalette(c(\"pink\", \"darkred\"))(11)\n",
                "# col 3 - 3 hues\n",
                "colorgrad3 <- colorRampPalette(c(\"yellow\", \"brown\"))(3)\n",
                "# col 4 - 3 hues\n",
                "colorgrad4 <- colorRampPalette(c(\"lightblue\", \"darkblue\"))(6)\n",
                "# col 5 - 2 hues\n",
                "colorgrad5 <- colorRampPalette(c(\"lightgreen\", \"darkgreen\"))(3)\n",
                "# col 6 - 3 hues\n",
                "colorgrad6 <- colorRampPalette(c(\"purple\", \"#2e004b\"))(3)\n",
                "# col 7 - 2 hues\n",
                "colorgrad7 <- colorRampPalette(c(\"cyan\", \"darkcyan\"))(4)\n",
                "# col 8 - 2 hues\n",
                "colorgrad8 <- colorRampPalette(c(\"#ebb676\", \"darkorange\"))(3)\n",
                "# col 9 - 3 hues\n",
                "colorgrad9 <- colorRampPalette(c(\"magenta\", \"#833b83\"))(3)"
            ]
        },
        {
            "cell_type": "code",
            "execution_count": 14,
            "metadata": {
                "vscode": {
                    "languageId": "r"
                }
            },
            "outputs": [],
            "source": [
                "# define the colors\n",
                "colors <- c(\n",
                "    'Media' = colorgrad1[1],\n",
                "    'DMSO CTL' = colorgrad1[2],\n",
                "    'no Hoechst' = colorgrad1[3],\n",
                "\n",
                "    'LPS 0.1 ug/ml' = colorgrad2[1],\n",
                "    'LPS 1 ug/ml' = colorgrad2[2],\n",
                "    'LPS 10 ug/ml' = colorgrad2[3],\n",
                "    'LPS 1 ug/ml + ATP 2.5 mM' = colorgrad2[4],\n",
                "    'LPS 1 ug/ml + Nigericin 0.1 uM' = colorgrad2[5],\n",
                "    'LPS 1 ug/ml + Nigericin 0.5uM' = colorgrad2[6],\n",
                "    'LPS 1 ug/ml + Nigericin 1 uM' = colorgrad2[7],\n",
                "    'LPS 1 ug/ml + Nigericin 3uM' = colorgrad2[8],\n",
                "    'LPS 1 ug/ml + Nigericin 5uM' = colorgrad2[9],\n",
                "\n",
                "    'Flagellin 0.1 ug/ml' = colorgrad5[1],\n",
                "    'Flagellin 1 ug/ml' = colorgrad5[2],\n",
                "    'Flagellin 10 ug/ml' = colorgrad5[3],\n",
                "\n",
                "    'Thapsigargin 0.5uM' = colorgrad8[1],\n",
                "    'Thapsigargin 1 uM' = colorgrad8[2],\n",
                "    'Thapsigargin 10 uM' = colorgrad8[3],\n",
                "    \n",
                "    'H2O2 100 nM' = colorgrad7[1],\n",
                "    'H2O2 100 uM' = colorgrad7[2],\n",
                "    'H2O2 500 uM' = colorgrad7[3],\n",
                "\n",
                "    'Ab1-42 0.4 uM' = colorgrad4[1],\n",
                "    'Ab1-42 2 uM' = colorgrad4[2],\n",
                "    'Ab1-42 10 uM' = colorgrad4[3]\n",
                ")"
            ]
        },
        {
            "cell_type": "code",
            "execution_count": null,
            "metadata": {
                "vscode": {
                    "languageId": "r"
                }
            },
            "outputs": [],
            "source": [
                "# order the df by time \n",
                "umap_data <- umap_data %>% arrange(Metadata_Time)\n",
                "head(umap_data)"
            ]
        },
        {
            "cell_type": "code",
            "execution_count": null,
            "metadata": {
                "vscode": {
                    "languageId": "r"
                }
            },
            "outputs": [],
            "source": [
                "name_repair_function <- function(names) {\n",
                "  names[1] <- paste0(names[1], \"_original\")\n",
                "  return(names)\n",
                "}\n",
                "df_background <- tidyr::crossing(\n",
                "    umap_data,\n",
                "    Metadata_treatment = unique(umap_data$Metadata_treatment),\n",
                "    .name_repair = name_repair_function\n",
                ")\n",
                "head(df_background)"
            ]
        },
        {
            "cell_type": "code",
            "execution_count": null,
            "metadata": {
                "vscode": {
                    "languageId": "r"
                }
            },
            "outputs": [],
            "source": [
                "# get the centroids of each treatment, at each timepoint \n",
                "centroids <- umap_data %>% \n",
                "  group_by(Metadata_treatment, Metadata_timepoint) %>% \n",
                "  summarize(\n",
                "    UMAP0 = mean(UMAP0),\n",
                "    UMAP1 = mean(UMAP1)\n",
                "  ) %>% \n",
                "  ungroup()\n",
                "head(centroids)\n"
            ]
        },
        {
            "cell_type": "code",
            "execution_count": 18,
            "metadata": {
                "vscode": {
                    "languageId": "r"
                }
            },
            "outputs": [],
            "source": [
                "\n",
                "# plot the centroids over time\n",
                "width <- 10\n",
                "height <- 10\n",
                "options(repr.plot.width=width, repr.plot.height=height)\n",
                "centroids_umap_plot <- (\n",
                "    # plot the whole dataset in grey with low alpha\n",
                "    ggplot(centroids, aes(x=UMAP0, y=UMAP1))\n",
                "    + geom_point(\n",
                "        data = df_background,\n",
                "        color = \"lightgrey\",\n",
                "        size = 0.5,\n",
                "        alpha = 0.1\n",
                "    )\n",
                "    + geom_point(aes(color=Metadata_treatment), size=1.5, alpha=0.9)\n",
                "\n",
                "    + scale_color_manual(\n",
                "        values = colors\n",
                "    )\n",
                "    + theme_bw()\n",
                "    + theme(\n",
                "        axis.text.x = element_text(size=14),\n",
                "        axis.text.y = element_text(size=14),\n",
                "        axis.title.x = element_text(size=14),\n",
                "        axis.title.y = element_text(size=14),\n",
                "        legend.text = element_text(size=14),\n",
                "        legend.title = element_text(size=14, hjust=0.5),\n",
                "        legend.position=\"bottom\",\n",
                "        legend.title.position=\"top\"\n",
                "    )\n",
                "    # + facet_wrap(~Metadata_treatment, ncol = 6)\n",
                "    + transition_time(Metadata_timepoint)\n",
                "    + labs(title = \"Time: {frame_time}\")\n",
                ")\n",
                "\n",
                "n_timepoints <- length(unique(centroids$Metadata_timepoint))\n",
                "fps <- 15\n",
                "\n",
                "nframes <- n_timepoints * fps\n",
                "anim_save(\"../figures/pyroptosis_timelapsed_centroids.gif\", animate(centroids_umap_plot,fps = fps, nframes = nframes))"
            ]
        },
        {
            "cell_type": "code",
            "execution_count": 19,
            "metadata": {
                "vscode": {
                    "languageId": "r"
                }
            },
            "outputs": [],
            "source": [
                "\n",
                "# plot the centroids over time\n",
                "width <- 30\n",
                "height <- 30\n",
                "options(repr.plot.width=width, repr.plot.height=height)\n",
                "centroids_umap_plot <- (\n",
                "    # plot the whole dataset in grey with low alpha\n",
                "    ggplot(centroids, aes(x=UMAP0, y=UMAP1))\n",
                "    + geom_point(\n",
                "        data = df_background,\n",
                "        color = \"lightgrey\",\n",
                "        size = 0.5,\n",
                "        alpha = 0.1\n",
                "    )\n",
                "    + geom_point(aes(color=Metadata_treatment), size=1.5, alpha=0.9)\n",
                "\n",
                "    + scale_color_manual(\n",
                "        values = colors\n",
                "    )\n",
                "    + theme_bw()\n",
                "    + theme(\n",
                "        axis.text.x = element_text(size=14),\n",
                "        axis.text.y = element_text(size=14),\n",
                "        axis.title.x = element_text(size=14),\n",
                "        axis.title.y = element_text(size=14),\n",
                "        legend.text = element_text(size=14),\n",
                "        legend.title = element_text(size=14, hjust=0.5),\n",
                "        legend.position=\"bottom\",\n",
                "        legend.title.position=\"top\"\n",
                "    )\n",
                "    + facet_wrap(~Metadata_treatment, ncol = 6)\n",
                "    + transition_time(Metadata_timepoint)\n",
                "    + labs(title = \"Time: {frame_time}\")\n",
                ")\n",
                "\n",
                "n_timepoints <- length(unique(centroids$Metadata_timepoint))\n",
                "fps <- 15\n",
                "\n",
                "nframes <- n_timepoints * fps\n",
                "anim_save(\"../figures/pyroptosis_timelapsed_centroids_facet_by_treatment.gif\", animate(centroids_umap_plot,fps = fps, nframes = nframes))"
            ]
        }
    ],
    "metadata": {
        "kernelspec": {
            "display_name": "R",
            "language": "R",
            "name": "ir"
        },
        "language_info": {
            "codemirror_mode": "r",
            "file_extension": ".r",
            "mimetype": "text/x-r-source",
            "name": "R",
            "pygments_lexer": "r",
            "version": "4.2.2"
        }
    },
    "nbformat": 4,
    "nbformat_minor": 2
}
