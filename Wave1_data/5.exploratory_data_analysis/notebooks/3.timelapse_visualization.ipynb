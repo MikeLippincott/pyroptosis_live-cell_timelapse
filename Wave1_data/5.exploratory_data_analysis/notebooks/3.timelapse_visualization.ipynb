{
    "cells": [
        {
            "cell_type": "code",
            "execution_count": 1,
            "metadata": {},
            "outputs": [],
            "source": [
                "import pathlib\n",
                "from pprint import pprint\n",
                "\n",
                "import matplotlib.pyplot as plt\n",
                "import numpy as np\n",
                "import pandas as pd\n",
                "from IPython.display import HTML, Image, display\n",
                "from matplotlib import animation"
            ]
        },
        {
            "cell_type": "code",
            "execution_count": 2,
            "metadata": {},
            "outputs": [
                {
                    "name": "stdout",
                    "output_type": "stream",
                    "text": [
                        "{'first_time': {'figure_dir': PosixPath('/home/lippincm/Documents/pyroptosis_live-cell_timelapse/Wave1_data/5.exploratory_data_analysis/figures/first_time/timelapse_gifs'),\n",
                        "                'umap_file_path': PosixPath('/home/lippincm/Documents/pyroptosis_live-cell_timelapse/Wave1_data/5.exploratory_data_analysis/data/first_time/umap_embeddings.parquet')},\n",
                        " 'pan_time': {'figure_dir': PosixPath('/home/lippincm/Documents/pyroptosis_live-cell_timelapse/Wave1_data/5.exploratory_data_analysis/figures/pan_time/timelapse_gifs'),\n",
                        "              'umap_file_path': PosixPath('/home/lippincm/Documents/pyroptosis_live-cell_timelapse/Wave1_data/5.exploratory_data_analysis/data/pan_time/umap_embeddings.parquet')},\n",
                        " 'within_time': {'figure_dir': PosixPath('/home/lippincm/Documents/pyroptosis_live-cell_timelapse/Wave1_data/5.exploratory_data_analysis/figures/within_time/timelapse_gifs'),\n",
                        "                 'umap_file_path': PosixPath('/home/lippincm/Documents/pyroptosis_live-cell_timelapse/Wave1_data/5.exploratory_data_analysis/data/within_time/umap_embeddings.parquet')}}\n"
                    ]
                }
            ],
            "source": [
                "input_data_dict = {\n",
                "    \"first_time\": {\n",
                "        \"umap_file_path\": pathlib.Path(\n",
                "            \"../data/first_time/umap_embeddings.parquet\"\n",
                "        ).resolve(strict=True),\n",
                "        \"figure_dir\": pathlib.Path(\"../figures/first_time/timelapse_gifs\").resolve(),\n",
                "    },\n",
                "    \"pan_time\": {\n",
                "        \"umap_file_path\": pathlib.Path(\n",
                "            \"../data/pan_time/umap_embeddings.parquet\"\n",
                "        ).resolve(strict=True),\n",
                "        \"figure_dir\": pathlib.Path(\"../figures/pan_time/timelapse_gifs\").resolve(),\n",
                "    },\n",
                "    \"within_time\": {\n",
                "        \"umap_file_path\": pathlib.Path(\n",
                "            \"../data/within_time/umap_embeddings.parquet\"\n",
                "        ).resolve(strict=True),\n",
                "        \"figure_dir\": pathlib.Path(\"../figures/within_time/timelapse_gifs\").resolve(),\n",
                "    },\n",
                "}\n",
                "pprint(input_data_dict)\n",
                "\n",
                "visualize = False"
            ]
        },
        {
            "cell_type": "code",
            "execution_count": 3,
            "metadata": {},
            "outputs": [
                {
                    "name": "stdout",
                    "output_type": "stream",
                    "text": [
                        "(3570185, 36)\n",
                        "Interval: 200.0\n",
                        "(3570185, 36)\n",
                        "Interval: 200.0\n",
                        "(3570185, 36)\n",
                        "Interval: 200.0\n"
                    ]
                }
            ],
            "source": [
                "for profile in input_data_dict.keys():\n",
                "    # make figure directory if it does not exist\n",
                "    output_path = input_data_dict[profile][\"figure_dir\"]\n",
                "    output_path.mkdir(parents=True, exist_ok=True)\n",
                "    # read in the umap embeddings\n",
                "    umap_df = pd.read_parquet(input_data_dict[profile][\"umap_file_path\"])\n",
                "    print(umap_df.shape)\n",
                "    # define an interval for the animation\n",
                "    # I want it to be 5 frames per second (fps)\n",
                "    # so I will set the interval to 1000/5\n",
                "    fps = 5\n",
                "    interval = 1000 / fps\n",
                "    print(f\"Interval: {interval}\")\n",
                "\n",
                "    for treatment in umap_df[\"Metadata_treatment\"].unique():\n",
                "        treatment_name = treatment.replace(\" \", \"_\").replace(\"/\", \"_\")\n",
                "        tmp_df = umap_df.loc[umap_df[\"Metadata_treatment\"] == treatment]\n",
                "        classes = umap_df[\"Metadata_Time\"].unique()\n",
                "        # split the data into n different dfs based on the classes\n",
                "        dfs = [tmp_df[tmp_df[\"Metadata_Time\"] == c] for c in classes]\n",
                "        for i in range(len(dfs)):\n",
                "            df = dfs[i]\n",
                "            # split the data into the Metadata and the Features\n",
                "            metadata_columns = df.columns[df.columns.str.contains(\"Metadata\")]\n",
                "            metadata_df = df[metadata_columns]\n",
                "            features_df = df.drop(metadata_columns, axis=1)\n",
                "            dfs[i] = features_df\n",
                "\n",
                "        # plot the list of dfs and animate them\n",
                "        fig, ax = plt.subplots(figsize=(6, 6))\n",
                "        ax.set_xlim(-10, 20)\n",
                "        ax.set_ylim(-10, 15)\n",
                "        scat = ax.scatter([], [], c=\"b\", s=0.1)\n",
                "        text = ax.text(-9, -9, \"\", ha=\"left\", va=\"top\")\n",
                "        # add title\n",
                "        ax.set_title(f\"{treatment}\")\n",
                "        # axis titles\n",
                "        ax.set_xlabel(\"UMAP0\")\n",
                "        ax.set_ylabel(\"UMAP1\")\n",
                "\n",
                "        def animate(i):\n",
                "            df = dfs[i]\n",
                "            i = i * 30\n",
                "            scat.set_offsets(df.values)\n",
                "            text.set_text(f\"{i} minutes.\")\n",
                "            return (scat,)\n",
                "\n",
                "        anim = animation.FuncAnimation(\n",
                "            fig, init_func=None, func=animate, frames=len(dfs), interval=interval\n",
                "        )\n",
                "        anim.save(f\"{output_path}/{treatment_name}.gif\", writer=\"imagemagick\")\n",
                "        plt.close(fig)\n",
                "\n",
                "        if visualize:\n",
                "            # Display the animations\n",
                "            for treatment in umap_df[\"Metadata_treatment\"].unique():\n",
                "                treatment_name = treatment.replace(\" \", \"_\").replace(\"/\", \"_\")\n",
                "                with open(f\"{output_path}/test_{treatment_name}.gif\", \"rb\") as f:\n",
                "                    display(Image(f.read()))"
            ]
        }
    ],
    "metadata": {
        "kernelspec": {
            "display_name": "pyroptosis_timnelapse_env",
            "language": "python",
            "name": "python3"
        },
        "language_info": {
            "codemirror_mode": {
                "name": "ipython",
                "version": 3
            },
            "file_extension": ".py",
            "mimetype": "text/x-python",
            "name": "python",
            "nbconvert_exporter": "python",
            "pygments_lexer": "ipython3",
            "version": "3.12.7"
        }
    },
    "nbformat": 4,
    "nbformat_minor": 2
}
