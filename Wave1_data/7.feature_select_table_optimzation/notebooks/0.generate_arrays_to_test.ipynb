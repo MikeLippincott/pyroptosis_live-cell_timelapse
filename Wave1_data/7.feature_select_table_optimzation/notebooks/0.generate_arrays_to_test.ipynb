{
    "cells": [
        {
            "cell_type": "code",
            "execution_count": 1,
            "metadata": {},
            "outputs": [],
            "source": [
                "import pathlib\n",
                "\n",
                "import numpy as np\n",
                "import pandas as pandas"
            ]
        },
        {
            "cell_type": "code",
            "execution_count": 2,
            "metadata": {},
            "outputs": [],
            "source": [
                "output_dir = pathlib.Path(\"../arrays\").resolve()\n",
                "output_dir.mkdir(exist_ok=True)"
            ]
        },
        {
            "cell_type": "code",
            "execution_count": 3,
            "metadata": {},
            "outputs": [
                {
                    "name": "stdout",
                    "output_type": "stream",
                    "text": [
                        "Total number of combinations: 162864\n"
                    ]
                }
            ],
            "source": [
                "num_of_features = 100\n",
                "num_of_cells_per_well = 100\n",
                "num_of_groups = 50\n",
                "num_of_replicates = 4\n",
                "\n",
                "\n",
                "def generate_parameter_search_space(\n",
                "    min,\n",
                "    max,\n",
                "    increment,\n",
                "):\n",
                "    range = max - min\n",
                "    num_of_steps = np.floor(range / increment).astype(int)\n",
                "    return np.linspace(min, max, num_of_steps, dtype=int)\n",
                "\n",
                "\n",
                "num_of_features = generate_parameter_search_space(10, 3000, 100)\n",
                "num_of_cells_per_well = generate_parameter_search_space(10, 10000, 1000)\n",
                "num_of_groups = generate_parameter_search_space(2, 50, 1)\n",
                "num_of_replicates = generate_parameter_search_space(2, 15, 1)\n",
                "\n",
                "# get the total number of combinations\n",
                "total_combinations = (\n",
                "    len(num_of_features)\n",
                "    * len(num_of_cells_per_well)\n",
                "    * len(num_of_groups)\n",
                "    * len(num_of_replicates)\n",
                ")\n",
                "print(f\"Total number of combinations: {total_combinations}\")"
            ]
        },
        {
            "cell_type": "code",
            "execution_count": 4,
            "metadata": {},
            "outputs": [],
            "source": [
                "# write each array to a file\n",
                "with open(pathlib.Path(f\"{output_dir}/num_of_features.txt\"), \"w\") as f:\n",
                "    for num_of_feature in num_of_features:\n",
                "        f.write(str(num_of_feature))\n",
                "        f.write(\"\\n\")\n",
                "\n",
                "with open(pathlib.Path(f\"{output_dir}/num_of_cells_per_well.txt\"), \"w\") as f:\n",
                "    for num_of_cell_per_well in num_of_cells_per_well:\n",
                "        f.write(str(num_of_cell_per_well))\n",
                "        f.write(\"\\n\")\n",
                "\n",
                "with open(pathlib.Path(f\"{output_dir}/num_of_groups.txt\"), \"w\") as f:\n",
                "    for num_of_group in num_of_groups:\n",
                "        f.write(str(num_of_group))\n",
                "        f.write(\"\\n\")\n",
                "\n",
                "with open(pathlib.Path(f\"{output_dir}/num_of_replicates.txt\"), \"w\") as f:\n",
                "    for num_of_replicate in num_of_replicates:\n",
                "        f.write(str(num_of_replicate))\n",
                "        f.write(\"\\n\")"
            ]
        }
    ],
    "metadata": {
        "kernelspec": {
            "display_name": "cellprofiler_timelapse_env",
            "language": "python",
            "name": "python3"
        },
        "language_info": {
            "codemirror_mode": {
                "name": "ipython",
                "version": 3
            },
            "file_extension": ".py",
            "mimetype": "text/x-python",
            "name": "python",
            "nbconvert_exporter": "python",
            "pygments_lexer": "ipython3",
            "version": "3.8.20"
        }
    },
    "nbformat": 4,
    "nbformat_minor": 2
}
