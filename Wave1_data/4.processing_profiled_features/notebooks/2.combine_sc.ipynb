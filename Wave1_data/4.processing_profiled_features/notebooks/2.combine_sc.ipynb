{
    "cells": [
        {
            "attachments": {},
            "cell_type": "markdown",
            "metadata": {},
            "source": [
                "# Annotate merged single cells with metadata from platemap file"
            ]
        },
        {
            "attachments": {},
            "cell_type": "markdown",
            "metadata": {},
            "source": [
                "## Import libraries"
            ]
        },
        {
            "cell_type": "code",
            "execution_count": 1,
            "metadata": {},
            "outputs": [
                {
                    "name": "stderr",
                    "output_type": "stream",
                    "text": [
                        "/home/lippincm/miniforge3/envs/cellprofiler_timelapse_env/lib/python3.8/site-packages/tqdm/auto.py:21: TqdmWarning: IProgress not found. Please update jupyter and ipywidgets. See https://ipywidgets.readthedocs.io/en/stable/user_install.html\n",
                        "  from .autonotebook import tqdm as notebook_tqdm\n"
                    ]
                }
            ],
            "source": [
                "import json\n",
                "import pathlib\n",
                "import sys\n",
                "\n",
                "import lancedb\n",
                "import matplotlib.pyplot as plt\n",
                "import numpy as np\n",
                "import pandas as pd\n",
                "import seaborn as sns\n",
                "from pycytominer import annotate\n",
                "from pycytominer.cyto_utils import output"
            ]
        },
        {
            "attachments": {},
            "cell_type": "markdown",
            "metadata": {},
            "source": [
                "## Set paths and variables"
            ]
        },
        {
            "cell_type": "code",
            "execution_count": 2,
            "metadata": {},
            "outputs": [
                {
                    "name": "stdout",
                    "output_type": "stream",
                    "text": [
                        "Found 477 files\n"
                    ]
                }
            ],
            "source": [
                "# directory where parquet files are located\n",
                "data_dir = pathlib.Path(\"../data/converted_data\")\n",
                "\n",
                "# directory where the annotated parquet files are saved to\n",
                "data_dir = pathlib.Path(\"../data/annotated_data\")\n",
                "\n",
                "output_dir = pathlib.Path(\"../data/annotated_data_combined/\")\n",
                "output_dir.mkdir(exist_ok=True)\n",
                "# get all the parquet files in the directory recursively\n",
                "files = list(data_dir.glob(\"**/*.parquet\"))\n",
                "files = [file for file in files if file.is_file()]\n",
                "print(f\"Found {len(files)} files\")"
            ]
        },
        {
            "cell_type": "markdown",
            "metadata": {},
            "source": [
                "This last cell does not get run due to memory constraints. \n",
                "It is run on an HPC cluster with more memory available."
            ]
        },
        {
            "cell_type": "code",
            "execution_count": null,
            "metadata": {},
            "outputs": [],
            "source": [
                "# get a list of all files in the data directory\n",
                "df = pd.concat([pd.read_parquet(file) for file in files])\n",
                "print(df.shape)\n",
                "df.to_parquet(output_dir / \"live_cell_pyroptosis_wave1_sc.parquet\")\n",
                "df.head()"
            ]
        }
    ],
    "metadata": {
        "kernelspec": {
            "display_name": "cellprofiler_timelapse_env",
            "language": "python",
            "name": "python3"
        },
        "language_info": {
            "codemirror_mode": {
                "name": "ipython",
                "version": 3
            },
            "file_extension": ".py",
            "mimetype": "text/x-python",
            "name": "python",
            "nbconvert_exporter": "python",
            "pygments_lexer": "ipython3",
            "version": "3.8.20"
        },
        "orig_nbformat": 4
    },
    "nbformat": 4,
    "nbformat_minor": 2
}
