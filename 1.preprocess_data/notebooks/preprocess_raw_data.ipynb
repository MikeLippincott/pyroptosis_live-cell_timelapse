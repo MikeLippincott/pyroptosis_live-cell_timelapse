{
    "cells": [
        {
            "cell_type": "code",
            "execution_count": 1,
            "metadata": {},
            "outputs": [],
            "source": [
                "import glob\n",
                "import pathlib\n",
                "import shutil\n",
                "\n",
                "import pandas as pd\n",
                "import tqdm"
            ]
        },
        {
            "cell_type": "code",
            "execution_count": 2,
            "metadata": {},
            "outputs": [
                {
                    "name": "stdout",
                    "output_type": "stream",
                    "text": [
                        "Found 9590 files\n"
                    ]
                }
            ],
            "source": [
                "# absolute path to the raw data directory only works on this machine\n",
                "path_to_raw_data = pathlib.Path(\n",
                "    \"/home/lippincm/Desktop/18TB/Saguaro_pyroptosis_wave1/\"\n",
                ").resolve(strict=True)\n",
                "\n",
                "# repository data directory to access the data faster\n",
                "path_to_repo_data = pathlib.Path(\"../../data/raw/\").resolve()\n",
                "path_to_repo_data.mkdir(exist_ok=True)\n",
                "\n",
                "# recurse through the directory and find all the .tif or .tiff files\n",
                "list_of_files = glob.glob(str(path_to_raw_data / \"**/Image/*.tif*\"), recursive=True)\n",
                "print(f\"Found {len(list_of_files)} files\")"
            ]
        },
        {
            "cell_type": "code",
            "execution_count": 3,
            "metadata": {},
            "outputs": [
                {
                    "name": "stderr",
                    "output_type": "stream",
                    "text": [
                        "100%|\u2588\u2588\u2588\u2588\u2588\u2588\u2588\u2588\u2588\u2588| 9590/9590 [06:47<00:00, 23.53it/s] \n"
                    ]
                }
            ],
            "source": [
                "# copy the files to the repository data directory\n",
                "for file in tqdm.tqdm(list_of_files):\n",
                "    file_path = pathlib.Path(file)\n",
                "    new_file_path = path_to_repo_data / file_path.name\n",
                "    # copy the file to the repository data directory\n",
                "    shutil.copy(file_path, new_file_path)"
            ]
        },
        {
            "cell_type": "code",
            "execution_count": 4,
            "metadata": {},
            "outputs": [
                {
                    "name": "stdout",
                    "output_type": "stream",
                    "text": [
                        "Copied 9590 files\n"
                    ]
                },
                {
                    "ename": "AssertionError",
                    "evalue": "",
                    "output_type": "error",
                    "traceback": [
                        "\u001b[0;31m---------------------------------------------------------------------------\u001b[0m",
                        "\u001b[0;31mAssertionError\u001b[0m                            Traceback (most recent call last)",
                        "Cell \u001b[0;32mIn[4], line 4\u001b[0m\n\u001b[1;32m      2\u001b[0m list_of_new_files \u001b[38;5;241m=\u001b[39m glob\u001b[38;5;241m.\u001b[39mglob(\u001b[38;5;28mstr\u001b[39m(path_to_repo_data \u001b[38;5;241m/\u001b[39m \u001b[38;5;124m\"\u001b[39m\u001b[38;5;124m*.tif*\u001b[39m\u001b[38;5;124m\"\u001b[39m))\n\u001b[1;32m      3\u001b[0m \u001b[38;5;28mprint\u001b[39m(\u001b[38;5;124mf\u001b[39m\u001b[38;5;124m\"\u001b[39m\u001b[38;5;124mCopied \u001b[39m\u001b[38;5;132;01m{\u001b[39;00m\u001b[38;5;28mlen\u001b[39m(list_of_files)\u001b[38;5;132;01m}\u001b[39;00m\u001b[38;5;124m files\u001b[39m\u001b[38;5;124m\"\u001b[39m)\n\u001b[0;32m----> 4\u001b[0m \u001b[38;5;28;01massert\u001b[39;00m \u001b[38;5;28mlen\u001b[39m(list_of_files) \u001b[38;5;241m==\u001b[39m  \u001b[38;5;28mlen\u001b[39m(list_of_new_files)\n",
                        "\u001b[0;31mAssertionError\u001b[0m: "
                    ]
                }
            ],
            "source": [
                "# verify that the number of images in are the same as the number of files copied\n",
                "list_of_new_files = glob.glob(str(path_to_repo_data / \"*.tif*\"))\n",
                "print(f\"Copied {len(list_of_files)} files\")\n",
                "assert len(list_of_files) == len(list_of_new_files)"
            ]
        }
    ],
    "metadata": {
        "kernelspec": {
            "display_name": "pyroptosis_timnelapse_env",
            "language": "python",
            "name": "python3"
        },
        "language_info": {
            "codemirror_mode": {
                "name": "ipython",
                "version": 3
            },
            "file_extension": ".py",
            "mimetype": "text/x-python",
            "name": "python",
            "nbconvert_exporter": "python",
            "pygments_lexer": "ipython3",
            "version": "3.12.7"
        }
    },
    "nbformat": 4,
    "nbformat_minor": 2
}
