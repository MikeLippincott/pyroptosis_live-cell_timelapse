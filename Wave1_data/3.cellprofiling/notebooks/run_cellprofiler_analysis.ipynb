{
    "cells": [
        {
            "attachments": {},
            "cell_type": "markdown",
            "metadata": {},
            "source": [
                "# Perform segmentation and feature extraction for each plate using CellProfiler Parallel"
            ]
        },
        {
            "attachments": {},
            "cell_type": "markdown",
            "metadata": {},
            "source": [
                "## Import libraries"
            ]
        },
        {
            "cell_type": "code",
            "execution_count": null,
            "metadata": {},
            "outputs": [
                {
                    "name": "stdout",
                    "output_type": "stream",
                    "text": [
                        "Collecting memray\n",
                        "  Downloading memray-1.15.0-cp38-cp38-manylinux_2_12_x86_64.manylinux2010_x86_64.whl.metadata (19 kB)\n",
                        "Requirement already satisfied: jinja2>=2.9 in /home/lippincm/miniforge3/envs/cellprofiler_timelapse_env/lib/python3.8/site-packages (from memray) (3.0.3)\n",
                        "Collecting rich>=11.2.0 (from memray)\n",
                        "  Using cached rich-13.9.4-py3-none-any.whl.metadata (18 kB)\n",
                        "Collecting textual>=0.41.0 (from memray)\n",
                        "  Downloading textual-1.0.0-py3-none-any.whl.metadata (9.0 kB)\n",
                        "Requirement already satisfied: MarkupSafe>=2.0 in /home/lippincm/miniforge3/envs/cellprofiler_timelapse_env/lib/python3.8/site-packages (from jinja2>=2.9->memray) (2.1.5)\n",
                        "Collecting markdown-it-py>=2.2.0 (from rich>=11.2.0->memray)\n",
                        "  Using cached markdown_it_py-3.0.0-py3-none-any.whl.metadata (6.9 kB)\n",
                        "Requirement already satisfied: pygments<3.0.0,>=2.13.0 in /home/lippincm/miniforge3/envs/cellprofiler_timelapse_env/lib/python3.8/site-packages (from rich>=11.2.0->memray) (2.18.0)\n",
                        "Requirement already satisfied: typing-extensions<5.0,>=4.0.0 in /home/lippincm/miniforge3/envs/cellprofiler_timelapse_env/lib/python3.8/site-packages (from rich>=11.2.0->memray) (4.12.2)\n",
                        "Requirement already satisfied: platformdirs<5,>=3.6.0 in /home/lippincm/miniforge3/envs/cellprofiler_timelapse_env/lib/python3.8/site-packages (from textual>=0.41.0->memray) (4.3.6)\n",
                        "Collecting mdurl~=0.1 (from markdown-it-py>=2.2.0->rich>=11.2.0->memray)\n",
                        "  Using cached mdurl-0.1.2-py3-none-any.whl.metadata (1.6 kB)\n",
                        "Collecting linkify-it-py<3,>=1 (from markdown-it-py[linkify,plugins]>=2.1.0->textual>=0.41.0->memray)\n",
                        "  Downloading linkify_it_py-2.0.3-py3-none-any.whl.metadata (8.5 kB)\n",
                        "Collecting mdit-py-plugins (from markdown-it-py[linkify,plugins]>=2.1.0->textual>=0.41.0->memray)\n",
                        "  Downloading mdit_py_plugins-0.4.2-py3-none-any.whl.metadata (2.8 kB)\n",
                        "Collecting uc-micro-py (from linkify-it-py<3,>=1->markdown-it-py[linkify,plugins]>=2.1.0->textual>=0.41.0->memray)\n",
                        "  Downloading uc_micro_py-1.0.3-py3-none-any.whl.metadata (2.0 kB)\n",
                        "Downloading memray-1.15.0-cp38-cp38-manylinux_2_12_x86_64.manylinux2010_x86_64.whl (8.5 MB)\n",
                        "\u001b[2K   \u001b[90m\u2501\u2501\u2501\u2501\u2501\u2501\u2501\u2501\u2501\u2501\u2501\u2501\u2501\u2501\u2501\u2501\u2501\u2501\u2501\u2501\u2501\u2501\u2501\u2501\u2501\u2501\u2501\u2501\u2501\u2501\u2501\u2501\u2501\u2501\u2501\u2501\u2501\u2501\u2501\u2501\u001b[0m \u001b[32m8.5/8.5 MB\u001b[0m \u001b[31m10.2 MB/s\u001b[0m eta \u001b[36m0:00:00\u001b[0m00:01\u001b[0m00:01\u001b[0m\n",
                        "\u001b[?25hUsing cached rich-13.9.4-py3-none-any.whl (242 kB)\n",
                        "Downloading textual-1.0.0-py3-none-any.whl (660 kB)\n",
                        "\u001b[2K   \u001b[90m\u2501\u2501\u2501\u2501\u2501\u2501\u2501\u2501\u2501\u2501\u2501\u2501\u2501\u2501\u2501\u2501\u2501\u2501\u2501\u2501\u2501\u2501\u2501\u2501\u2501\u2501\u2501\u2501\u2501\u2501\u2501\u2501\u2501\u2501\u2501\u2501\u2501\u2501\u2501\u2501\u001b[0m \u001b[32m660.5/660.5 kB\u001b[0m \u001b[31m26.1 MB/s\u001b[0m eta \u001b[36m0:00:00\u001b[0m\n",
                        "\u001b[?25hUsing cached markdown_it_py-3.0.0-py3-none-any.whl (87 kB)\n",
                        "Downloading linkify_it_py-2.0.3-py3-none-any.whl (19 kB)\n",
                        "Using cached mdurl-0.1.2-py3-none-any.whl (10.0 kB)\n",
                        "Downloading mdit_py_plugins-0.4.2-py3-none-any.whl (55 kB)\n",
                        "Downloading uc_micro_py-1.0.3-py3-none-any.whl (6.2 kB)\n",
                        "Installing collected packages: uc-micro-py, mdurl, markdown-it-py, linkify-it-py, rich, mdit-py-plugins, textual, memray\n",
                        "Successfully installed linkify-it-py-2.0.3 markdown-it-py-3.0.0 mdit-py-plugins-0.4.2 mdurl-0.1.2 memray-1.15.0 rich-13.9.4 textual-1.0.0 uc-micro-py-1.0.3\n",
                        "Note: you may need to restart the kernel to use updated packages.\n"
                    ]
                }
            ],
            "source": [
                "import argparse\n",
                "import pathlib\n",
                "import sys\n",
                "import time\n",
                "\n",
                "sys.path.append(\"../../../utils/\")\n",
                "import cp_utils\n",
                "\n",
                "# check if in a jupyter notebook\n",
                "try:\n",
                "    cfg = get_ipython().config\n",
                "    in_notebook = True\n",
                "except NameError:\n",
                "    in_notebook = False"
            ]
        },
        {
            "attachments": {},
            "cell_type": "markdown",
            "metadata": {},
            "source": [
                "## Set paths and variables"
            ]
        },
        {
            "cell_type": "code",
            "execution_count": 3,
            "metadata": {},
            "outputs": [
                {
                    "name": "stdout",
                    "output_type": "stream",
                    "text": [
                        "Running in a notebook\n"
                    ]
                }
            ],
            "source": [
                "if not in_notebook:\n",
                "    print(\"Running as script\")\n",
                "    # set up arg parser\n",
                "    parser = argparse.ArgumentParser(description=\"Illumination correction\")\n",
                "\n",
                "    parser.add_argument(\n",
                "        \"--input_dir\",\n",
                "        type=str,\n",
                "        help=\"Path to the input directory containing the tiff images\",\n",
                "    )\n",
                "\n",
                "    args = parser.parse_args()\n",
                "    images_dir = pathlib.Path(args.input_dir).resolve(strict=True)\n",
                "else:\n",
                "    print(\"Running in a notebook\")\n",
                "    images_dir = pathlib.Path(\n",
                "        \"../../2.illumination_correction/illum_directory/W0052_F0001/\"\n",
                "    )\n",
                "\n",
                "# path to plugins directory as one of the pipelines uses the RunCellpose plugin\n",
                "plugins_dir = pathlib.Path(\n",
                "    \"/home/lippincm/Documents/CellProfiler-plugins/active_plugins\"\n",
                ")\n",
                "path_to_pipeline = pathlib.Path(\"../pipelines/analysis_5ch.cppipe\").resolve(strict=True)\n",
                "\n",
                "# set main output dir for all plates\n",
                "output_dir = pathlib.Path(\"../analysis_output\")\n",
                "output_dir.mkdir(exist_ok=True, parents=True)"
            ]
        },
        {
            "cell_type": "markdown",
            "metadata": {},
            "source": [
                "## Create dictionary with all info for each well"
            ]
        },
        {
            "cell_type": "code",
            "execution_count": 4,
            "metadata": {},
            "outputs": [
                {
                    "name": "stdout",
                    "output_type": "stream",
                    "text": [
                        "Running W0052_F0001\n"
                    ]
                }
            ],
            "source": [
                "# get all directories with raw images\n",
                "dict_of_runs = {}\n",
                "\n",
                "dict_of_runs[images_dir.stem] = {\n",
                "    \"path_to_images\": str(images_dir),\n",
                "    \"path_to_output\": str(output_dir),\n",
                "    \"path_to_pipeline\": path_to_pipeline,\n",
                "}\n",
                "print(f\"Running {images_dir.stem}\")"
            ]
        },
        {
            "attachments": {},
            "cell_type": "markdown",
            "metadata": {},
            "source": [
                "## Run analysis pipeline on each plate in parallel\n",
                "\n",
                "This cell is not finished to completion due to how long it would take. It is ran in the python file instead."
            ]
        },
        {
            "cell_type": "code",
            "execution_count": 5,
            "metadata": {},
            "outputs": [],
            "source": [
                "start = time.time()"
            ]
        },
        {
            "cell_type": "code",
            "execution_count": null,
            "metadata": {},
            "outputs": [
                {
                    "name": "stderr",
                    "output_type": "stream",
                    "text": [
                        "Memray WARNING: Correcting symbol for aligned_alloc from 0x71599ba6df70 to 0x7159b56a5c60\n"
                    ]
                }
            ],
            "source": [
                "cp_utils.run_cellprofiler(\n",
                "    path_to_pipeline=dict_of_runs[images_dir.stem][\"path_to_pipeline\"],\n",
                "    path_to_input=dict_of_runs[images_dir.stem][\"path_to_images\"],\n",
                "    path_to_output=dict_of_runs[images_dir.stem][\"path_to_output\"],\n",
                ")"
            ]
        },
        {
            "cell_type": "code",
            "execution_count": null,
            "metadata": {},
            "outputs": [],
            "source": [
                "end = time.time()\n",
                "# format the time taken into hours, minutes, seconds\n",
                "hours, rem = divmod(end - start, 3600)\n",
                "minutes, seconds = divmod(rem, 60)\n",
                "print(\n",
                "    \"Total time taken: {:0>2}:{:0>2}:{:05.2f}\".format(int(hours), int(minutes), seconds)\n",
                ")"
            ]
        }
    ],
    "metadata": {
        "kernelspec": {
            "display_name": "cellprofiler_timelapse_env",
            "language": "python",
            "name": "python3"
        },
        "language_info": {
            "codemirror_mode": {
                "name": "ipython",
                "version": 3
            },
            "file_extension": ".py",
            "mimetype": "text/x-python",
            "name": "python",
            "nbconvert_exporter": "python",
            "pygments_lexer": "ipython3",
            "version": "3.8.20"
        },
        "orig_nbformat": 4
    },
    "nbformat": 4,
    "nbformat_minor": 2
}
