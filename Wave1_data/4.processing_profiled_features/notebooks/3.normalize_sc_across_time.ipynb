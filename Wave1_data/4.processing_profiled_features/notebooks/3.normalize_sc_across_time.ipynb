{
    "cells": [
        {
            "attachments": {},
            "cell_type": "markdown",
            "metadata": {},
            "source": [
                "# Normalize annotated single cells using negative control"
            ]
        },
        {
            "attachments": {},
            "cell_type": "markdown",
            "metadata": {},
            "source": [
                "## Import libraries"
            ]
        },
        {
            "cell_type": "code",
            "execution_count": 1,
            "metadata": {},
            "outputs": [],
            "source": [
                "import pathlib\n",
                "import pprint\n",
                "\n",
                "import pandas as pd\n",
                "from pycytominer import normalize\n",
                "from pycytominer.cyto_utils import output"
            ]
        },
        {
            "attachments": {},
            "cell_type": "markdown",
            "metadata": {},
            "source": [
                "## Set paths and variables"
            ]
        },
        {
            "cell_type": "code",
            "execution_count": 2,
            "metadata": {},
            "outputs": [],
            "source": [
                "# directory where combined parquet file are located\n",
                "data_dir = pathlib.Path(\"../data/annotated_data_combined\")\n",
                "\n",
                "# directory where the normalized parquet file is saved to\n",
                "output_dir = pathlib.Path(\"../data/normalized_data\")\n",
                "output_dir.mkdir(exist_ok=True)"
            ]
        },
        {
            "cell_type": "markdown",
            "metadata": {},
            "source": [
                "## Define dict of paths"
            ]
        },
        {
            "cell_type": "code",
            "execution_count": 3,
            "metadata": {},
            "outputs": [],
            "source": [
                "# dictionary with each run for the cell type\n",
                "dict_of_inputs = {\n",
                "    \"live_cell_pyroptosis_wave1_sc\": {\n",
                "        \"combined_file_path\": pathlib.Path(\n",
                "            f\"{data_dir}/live_cell_pyroptosis_wave1_sc.parquet\"\n",
                "        ).resolve(strict=True),\n",
                "        \"output_file_path\": pathlib.Path(\n",
                "            f\"{output_dir}/live_cell_pyroptosis_wave1_sc_pan_time_norm.parquet\"\n",
                "        ).resolve(),\n",
                "    },\n",
                "}"
            ]
        },
        {
            "attachments": {},
            "cell_type": "markdown",
            "metadata": {},
            "source": [
                "## Normalize with standardize method with negative control on annotated data"
            ]
        },
        {
            "cell_type": "markdown",
            "metadata": {},
            "source": [
                "The normalization needs to occur per time step. \n",
                "This code cell will split the data into time steps and normalize each time step separately.\n",
                "Then each normalized time step will be concatenated back together. "
            ]
        },
        {
            "cell_type": "code",
            "execution_count": 4,
            "metadata": {},
            "outputs": [
                {
                    "name": "stdout",
                    "output_type": "stream",
                    "text": [
                        "{'combined_file_path': PosixPath('/home/lippincm/Documents/pyroptosis_live-cell_timelapse/Wave1_data/4.processing_pofiled_features/data/annotated_data_combined/live_cell_pyroptosis_wave1_sc.parquet'), 'output_file_path': PosixPath('/home/lippincm/Documents/pyroptosis_live-cell_timelapse/Wave1_data/4.processing_pofiled_features/data/normalized_data/live_cell_pyroptosis_wave1_sc_pan_time_norm.parquet')}\n",
                        "Shape of the annotated data: (1517, 2897)\n",
                        "Single cells have been normalized and saved to live_cell_pyroptosis_wave1_sc !\n",
                        "(1517, 2897)\n"
                    ]
                }
            ],
            "source": [
                "for info, input_path in dict_of_inputs.items():\n",
                "    # read in the annotated file\n",
                "    print(input_path)\n",
                "    annotated_df = pd.read_parquet(input_path[\"combined_file_path\"])\n",
                "    annotated_df.reset_index(drop=True, inplace=True)\n",
                "    # Normalize the single cell data per time point\n",
                "    print(f\"Shape of the annotated data: {annotated_df.shape}\")\n",
                "    normalized_df = normalize(\n",
                "        # df with annotated raw merged single cell features\n",
                "        profiles=annotated_df,\n",
                "        # specify samples used as normalization reference (negative control)\n",
                "        samples=\"Metadata_treatment == 'DMSO CTL'\",\n",
                "        # normalization method used\n",
                "        method=\"standardize\",\n",
                "    )\n",
                "\n",
                "    output(\n",
                "        normalized_df,\n",
                "        output_filename=input_path[\"output_file_path\"],\n",
                "        output_type=\"parquet\",\n",
                "    )\n",
                "    print(f\"Single cells have been normalized and saved to {pathlib.Path(info).name} !\")\n",
                "    # check to see if the features have been normalized\n",
                "    print(normalized_df.shape)\n",
                "    normalized_df.head()"
            ]
        }
    ],
    "metadata": {
        "kernelspec": {
            "display_name": "interstellar_data",
            "language": "python",
            "name": "python3"
        },
        "language_info": {
            "codemirror_mode": {
                "name": "ipython",
                "version": 3
            },
            "file_extension": ".py",
            "mimetype": "text/x-python",
            "name": "python",
            "nbconvert_exporter": "python",
            "pygments_lexer": "ipython3",
            "version": "3.8.20"
        },
        "orig_nbformat": 4
    },
    "nbformat": 4,
    "nbformat_minor": 2
}
