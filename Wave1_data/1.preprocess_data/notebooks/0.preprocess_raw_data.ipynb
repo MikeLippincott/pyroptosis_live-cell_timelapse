{
    "cells": [
        {
            "cell_type": "markdown",
            "metadata": {},
            "source": [
                "This notebook pre-processes the data to be available in the repo path."
            ]
        },
        {
            "cell_type": "code",
            "execution_count": 1,
            "metadata": {},
            "outputs": [],
            "source": [
                "import glob\n",
                "import json\n",
                "import pathlib\n",
                "import shutil\n",
                "import string\n",
                "\n",
                "import pandas as pd\n",
                "import tqdm"
            ]
        },
        {
            "cell_type": "markdown",
            "metadata": {},
            "source": [
                "## Paths and import data "
            ]
        },
        {
            "cell_type": "code",
            "execution_count": 2,
            "metadata": {},
            "outputs": [
                {
                    "name": "stdout",
                    "output_type": "stream",
                    "text": [
                        "Found 43170 files\n"
                    ]
                }
            ],
            "source": [
                "# absolute path to the raw data directory (only works on this machine)\n",
                "path_to_raw_data = pathlib.Path(\n",
                "    \"/home/lippincm/Desktop/18TB/Saguaro_pyroptosis_wave1/\"\n",
                ").resolve(strict=True)\n",
                "\n",
                "# repository data directory to access the data faster\n",
                "path_to_repo_data = pathlib.Path(\"../../../data/raw/\").resolve()\n",
                "path_to_repo_data.mkdir(exist_ok=True, parents=True)\n",
                "\n",
                "# recurse through the directory and find all the .tif or .tiff files\n",
                "list_of_files = glob.glob(str(path_to_raw_data / \"**/Image/*.tif*\"), recursive=True)\n",
                "print(f\"Found {len(list_of_files)} files\")"
            ]
        },
        {
            "cell_type": "code",
            "execution_count": 3,
            "metadata": {},
            "outputs": [
                {
                    "name": "stderr",
                    "output_type": "stream",
                    "text": [
                        "100%|\u2588\u2588\u2588\u2588\u2588\u2588\u2588\u2588\u2588\u2588| 43170/43170 [00:00<00:00, 44335.75it/s]\n"
                    ]
                }
            ],
            "source": [
                "# copy the files to the repository data directory\n",
                "for file in tqdm.tqdm(list_of_files):\n",
                "    file_path = pathlib.Path(file)\n",
                "    file_parent = file_path.parent\n",
                "    file_parent_path = path_to_repo_data / pathlib.Path(\n",
                "        str(file_parent).split(\"/\")[-2]\n",
                "        / pathlib.Path(str(file_path.stem).split(\"T\")[0].replace(\"F\", \"_F\"))\n",
                "    )\n",
                "    file_parent_path.mkdir(exist_ok=True, parents=True)\n",
                "    new_file_path = file_parent_path / file_path.name\n",
                "    if not new_file_path.exists():\n",
                "        # copy the file to the repository data directory\n",
                "        shutil.copy(file_path, new_file_path)"
            ]
        },
        {
            "cell_type": "code",
            "execution_count": 4,
            "metadata": {},
            "outputs": [
                {
                    "name": "stdout",
                    "output_type": "stream",
                    "text": [
                        "There were 43170 original files\n",
                        "We copied 43170 files\n"
                    ]
                }
            ],
            "source": [
                "# verify that the number of images in are the same as the number of files copied\n",
                "list_of_new_files = glob.glob(str(path_to_repo_data / \"**/*.tif*\"), recursive=True)\n",
                "print(f\"There were {len(list_of_files)} original files\")\n",
                "print(f\"We copied {len(list_of_new_files)} files\")\n",
                "assert len(list_of_files) == len(list_of_new_files)"
            ]
        },
        {
            "cell_type": "markdown",
            "metadata": {},
            "source": [
                "## Set up a metadata frame "
            ]
        },
        {
            "cell_type": "code",
            "execution_count": 5,
            "metadata": {},
            "outputs": [
                {
                    "data": {
                        "text/html": [
                            "<div>\n",
                            "<style scoped>\n",
                            "    .dataframe tbody tr th:only-of-type {\n",
                            "        vertical-align: middle;\n",
                            "    }\n",
                            "\n",
                            "    .dataframe tbody tr th {\n",
                            "        vertical-align: top;\n",
                            "    }\n",
                            "\n",
                            "    .dataframe thead th {\n",
                            "        text-align: right;\n",
                            "    }\n",
                            "</style>\n",
                            "<table border=\"1\" class=\"dataframe\">\n",
                            "  <thead>\n",
                            "    <tr style=\"text-align: right;\">\n",
                            "      <th></th>\n",
                            "      <th>FOV</th>\n",
                            "      <th>Well</th>\n",
                            "      <th>Date_Time</th>\n",
                            "      <th>Plate</th>\n",
                            "    </tr>\n",
                            "  </thead>\n",
                            "  <tbody>\n",
                            "    <tr>\n",
                            "      <th>0</th>\n",
                            "      <td>0001</td>\n",
                            "      <td>0052</td>\n",
                            "      <td>2024-10-24 19:46:53</td>\n",
                            "      <td>20241024T194653_</td>\n",
                            "    </tr>\n",
                            "    <tr>\n",
                            "      <th>1</th>\n",
                            "      <td>0001</td>\n",
                            "      <td>0052</td>\n",
                            "      <td>2024-10-24 19:46:53</td>\n",
                            "      <td>20241024T194653_</td>\n",
                            "    </tr>\n",
                            "    <tr>\n",
                            "      <th>2</th>\n",
                            "      <td>0001</td>\n",
                            "      <td>0052</td>\n",
                            "      <td>2024-10-24 19:46:53</td>\n",
                            "      <td>20241024T194653_</td>\n",
                            "    </tr>\n",
                            "    <tr>\n",
                            "      <th>3</th>\n",
                            "      <td>0001</td>\n",
                            "      <td>0052</td>\n",
                            "      <td>2024-10-24 19:46:53</td>\n",
                            "      <td>20241024T194653_</td>\n",
                            "    </tr>\n",
                            "    <tr>\n",
                            "      <th>4</th>\n",
                            "      <td>0001</td>\n",
                            "      <td>0052</td>\n",
                            "      <td>2024-10-24 19:46:53</td>\n",
                            "      <td>20241024T194653_</td>\n",
                            "    </tr>\n",
                            "  </tbody>\n",
                            "</table>\n",
                            "</div>"
                        ],
                        "text/plain": [
                            "    FOV  Well           Date_Time             Plate\n",
                            "0  0001  0052 2024-10-24 19:46:53  20241024T194653_\n",
                            "1  0001  0052 2024-10-24 19:46:53  20241024T194653_\n",
                            "2  0001  0052 2024-10-24 19:46:53  20241024T194653_\n",
                            "3  0001  0052 2024-10-24 19:46:53  20241024T194653_\n",
                            "4  0001  0052 2024-10-24 19:46:53  20241024T194653_"
                        ]
                    },
                    "execution_count": 5,
                    "metadata": {},
                    "output_type": "execute_result"
                }
            ],
            "source": [
                "# make a df out of the file names\n",
                "df = pd.DataFrame(list_of_new_files, columns=[\"file_path\"])\n",
                "df.insert(0, \"file_name\", df[\"file_path\"].apply(lambda x: pathlib.Path(x).name))\n",
                "df.insert(0, \"Plate\", df[\"file_path\"].apply(lambda x: x.split(\"/\")[7]))\n",
                "df.insert(0, \"Well\", df[\"file_name\"].apply(lambda x: x.split(\"F\")[0].split(\"W\")[-1]))\n",
                "df.insert(0, \"FOV\", df[\"file_name\"].apply(lambda x: x.split(\"T\")[0].split(\"F\")[-1]))\n",
                "df.drop(\"file_path\", axis=1, inplace=True)\n",
                "df.drop(\"file_name\", axis=1, inplace=True)\n",
                "# split the plate into time and date\n",
                "df.insert(2, \"Date_Time\", df[\"Plate\"].apply(lambda x: x.strip(\"_\").replace(\"T\", \"\")))\n",
                "# format the time into YYYY-MM-DD HH:MM:SS\n",
                "df[\"Date_Time\"] = pd.to_datetime(df[\"Date_Time\"], format=\"%Y%m%d%H%M%S\")\n",
                "\n",
                "# sort by Date, Time, Plate, Well, FOV\n",
                "df.sort_values(by=[\"Date_Time\", \"Plate\", \"Well\", \"FOV\"], inplace=True)\n",
                "df.reset_index(drop=True, inplace=True)\n",
                "df.head()"
            ]
        },
        {
            "cell_type": "code",
            "execution_count": 6,
            "metadata": {},
            "outputs": [
                {
                    "data": {
                        "text/html": [
                            "<div>\n",
                            "<style scoped>\n",
                            "    .dataframe tbody tr th:only-of-type {\n",
                            "        vertical-align: middle;\n",
                            "    }\n",
                            "\n",
                            "    .dataframe tbody tr th {\n",
                            "        vertical-align: top;\n",
                            "    }\n",
                            "\n",
                            "    .dataframe thead th {\n",
                            "        text-align: right;\n",
                            "    }\n",
                            "</style>\n",
                            "<table border=\"1\" class=\"dataframe\">\n",
                            "  <thead>\n",
                            "    <tr style=\"text-align: right;\">\n",
                            "      <th></th>\n",
                            "      <th>FOV</th>\n",
                            "      <th>Well</th>\n",
                            "      <th>Date_Time</th>\n",
                            "      <th>Plate</th>\n",
                            "    </tr>\n",
                            "  </thead>\n",
                            "  <tbody>\n",
                            "    <tr>\n",
                            "      <th>0</th>\n",
                            "      <td>0001</td>\n",
                            "      <td>C04</td>\n",
                            "      <td>2024-10-24 19:46:53</td>\n",
                            "      <td>20241024T194653_</td>\n",
                            "    </tr>\n",
                            "    <tr>\n",
                            "      <th>1</th>\n",
                            "      <td>0001</td>\n",
                            "      <td>C04</td>\n",
                            "      <td>2024-10-24 19:46:53</td>\n",
                            "      <td>20241024T194653_</td>\n",
                            "    </tr>\n",
                            "    <tr>\n",
                            "      <th>2</th>\n",
                            "      <td>0001</td>\n",
                            "      <td>C04</td>\n",
                            "      <td>2024-10-24 19:46:53</td>\n",
                            "      <td>20241024T194653_</td>\n",
                            "    </tr>\n",
                            "    <tr>\n",
                            "      <th>3</th>\n",
                            "      <td>0001</td>\n",
                            "      <td>C04</td>\n",
                            "      <td>2024-10-24 19:46:53</td>\n",
                            "      <td>20241024T194653_</td>\n",
                            "    </tr>\n",
                            "    <tr>\n",
                            "      <th>4</th>\n",
                            "      <td>0001</td>\n",
                            "      <td>C04</td>\n",
                            "      <td>2024-10-24 19:46:53</td>\n",
                            "      <td>20241024T194653_</td>\n",
                            "    </tr>\n",
                            "  </tbody>\n",
                            "</table>\n",
                            "</div>"
                        ],
                        "text/plain": [
                            "    FOV Well           Date_Time             Plate\n",
                            "0  0001  C04 2024-10-24 19:46:53  20241024T194653_\n",
                            "1  0001  C04 2024-10-24 19:46:53  20241024T194653_\n",
                            "2  0001  C04 2024-10-24 19:46:53  20241024T194653_\n",
                            "3  0001  C04 2024-10-24 19:46:53  20241024T194653_\n",
                            "4  0001  C04 2024-10-24 19:46:53  20241024T194653_"
                        ]
                    },
                    "execution_count": 6,
                    "metadata": {},
                    "output_type": "execute_result"
                }
            ],
            "source": [
                "# well dictionary for mapping\n",
                "# Generate the dictionary dynamically\n",
                "# implemented via Jenna Tomkinson\n",
                "well_map = {\n",
                "    f\"{i:04d}\": f\"{row}{col:02d}\"\n",
                "    for i, (row, col) in enumerate(\n",
                "        ((r, c) for r in string.ascii_uppercase[:16] for c in range(1, 25)), start=1\n",
                "    )\n",
                "}\n",
                "\n",
                "# write the well map to a json file\n",
                "path_to_repo_data = pathlib.Path(\"../../../data/processed/\").resolve()\n",
                "path_to_repo_data.mkdir(exist_ok=True, parents=True)\n",
                "with open(path_to_repo_data / \"well_map.json\", \"w\") as f:\n",
                "    json.dump(well_map, f)\n",
                "# map the well to the well_map\n",
                "df[\"Well\"] = df[\"Well\"].map(well_map)\n",
                "df.head()"
            ]
        },
        {
            "cell_type": "code",
            "execution_count": 7,
            "metadata": {},
            "outputs": [
                {
                    "name": "stdout",
                    "output_type": "stream",
                    "text": [
                        "There are 96 wells.\n",
                        "There are 5 fields of view.\n",
                        "There are 18 plates.\n",
                        "There are 18 unique time points.\n",
                        "The times are:\n",
                        "\n",
                        "<DatetimeArray>\n",
                        "['2024-10-24 19:46:53', '2024-10-24 22:48:49', '2024-10-25 01:50:40',\n",
                        " '2024-10-25 04:52:29', '2024-10-25 07:54:29', '2024-10-25 10:57:38',\n",
                        " '2024-10-25 13:56:21', '2024-10-25 16:55:02', '2024-10-25 19:53:39',\n",
                        " '2024-10-25 22:52:18', '2024-10-26 01:50:58', '2024-10-26 04:49:35',\n",
                        " '2024-10-26 07:48:14', '2024-10-26 10:46:53', '2024-10-26 13:45:45',\n",
                        " '2024-10-26 16:44:25', '2024-10-26 19:43:05', '2024-10-28 11:19:08']\n",
                        "Length: 18, dtype: datetime64[ns]\n"
                    ]
                }
            ],
            "source": [
                "print(f\"There are {len(df['Well'].unique())} wells.\")\n",
                "print(f\"There are {len(df['FOV'].unique())} fields of view.\")\n",
                "print(f\"There are {len(df['Plate'].unique())} plates.\")\n",
                "print(f\"There are {len(df['Date_Time'].unique())} unique time points.\")\n",
                "print(\"The times are:\\n\")\n",
                "print(df[\"Date_Time\"].unique())"
            ]
        },
        {
            "cell_type": "code",
            "execution_count": 8,
            "metadata": {},
            "outputs": [
                {
                    "data": {
                        "text/html": [
                            "<div>\n",
                            "<style scoped>\n",
                            "    .dataframe tbody tr th:only-of-type {\n",
                            "        vertical-align: middle;\n",
                            "    }\n",
                            "\n",
                            "    .dataframe tbody tr th {\n",
                            "        vertical-align: top;\n",
                            "    }\n",
                            "\n",
                            "    .dataframe thead th {\n",
                            "        text-align: right;\n",
                            "    }\n",
                            "</style>\n",
                            "<table border=\"1\" class=\"dataframe\">\n",
                            "  <thead>\n",
                            "    <tr style=\"text-align: right;\">\n",
                            "      <th></th>\n",
                            "      <th>plate_name</th>\n",
                            "      <th>num_files</th>\n",
                            "      <th>correct_num_files</th>\n",
                            "    </tr>\n",
                            "  </thead>\n",
                            "  <tbody>\n",
                            "    <tr>\n",
                            "      <th>0</th>\n",
                            "      <td>20241026T074814_</td>\n",
                            "      <td>0</td>\n",
                            "      <td>False</td>\n",
                            "    </tr>\n",
                            "    <tr>\n",
                            "      <th>1</th>\n",
                            "      <td>20241025T075429_</td>\n",
                            "      <td>0</td>\n",
                            "      <td>False</td>\n",
                            "    </tr>\n",
                            "    <tr>\n",
                            "      <th>2</th>\n",
                            "      <td>20241026T194305_</td>\n",
                            "      <td>0</td>\n",
                            "      <td>False</td>\n",
                            "    </tr>\n",
                            "    <tr>\n",
                            "      <th>3</th>\n",
                            "      <td>20241025T045229_</td>\n",
                            "      <td>0</td>\n",
                            "      <td>False</td>\n",
                            "    </tr>\n",
                            "    <tr>\n",
                            "      <th>4</th>\n",
                            "      <td>20241024T194653_</td>\n",
                            "      <td>0</td>\n",
                            "      <td>False</td>\n",
                            "    </tr>\n",
                            "    <tr>\n",
                            "      <th>5</th>\n",
                            "      <td>20241026T044935_</td>\n",
                            "      <td>0</td>\n",
                            "      <td>False</td>\n",
                            "    </tr>\n",
                            "    <tr>\n",
                            "      <th>6</th>\n",
                            "      <td>20241026T015058_</td>\n",
                            "      <td>0</td>\n",
                            "      <td>False</td>\n",
                            "    </tr>\n",
                            "    <tr>\n",
                            "      <th>7</th>\n",
                            "      <td>20241026T134545_</td>\n",
                            "      <td>0</td>\n",
                            "      <td>False</td>\n",
                            "    </tr>\n",
                            "    <tr>\n",
                            "      <th>8</th>\n",
                            "      <td>20241025T015040_</td>\n",
                            "      <td>0</td>\n",
                            "      <td>False</td>\n",
                            "    </tr>\n",
                            "    <tr>\n",
                            "      <th>9</th>\n",
                            "      <td>20241025T105738_</td>\n",
                            "      <td>0</td>\n",
                            "      <td>False</td>\n",
                            "    </tr>\n",
                            "    <tr>\n",
                            "      <th>10</th>\n",
                            "      <td>20241025T165502_</td>\n",
                            "      <td>0</td>\n",
                            "      <td>False</td>\n",
                            "    </tr>\n",
                            "    <tr>\n",
                            "      <th>11</th>\n",
                            "      <td>20241024T224849_</td>\n",
                            "      <td>0</td>\n",
                            "      <td>False</td>\n",
                            "    </tr>\n",
                            "    <tr>\n",
                            "      <th>12</th>\n",
                            "      <td>20241028T111908_</td>\n",
                            "      <td>0</td>\n",
                            "      <td>False</td>\n",
                            "    </tr>\n",
                            "    <tr>\n",
                            "      <th>13</th>\n",
                            "      <td>20241025T135621_</td>\n",
                            "      <td>0</td>\n",
                            "      <td>False</td>\n",
                            "    </tr>\n",
                            "    <tr>\n",
                            "      <th>14</th>\n",
                            "      <td>20241025T225218_</td>\n",
                            "      <td>0</td>\n",
                            "      <td>False</td>\n",
                            "    </tr>\n",
                            "    <tr>\n",
                            "      <th>15</th>\n",
                            "      <td>20241026T164425_</td>\n",
                            "      <td>0</td>\n",
                            "      <td>False</td>\n",
                            "    </tr>\n",
                            "    <tr>\n",
                            "      <th>16</th>\n",
                            "      <td>20241026T104653_</td>\n",
                            "      <td>0</td>\n",
                            "      <td>False</td>\n",
                            "    </tr>\n",
                            "    <tr>\n",
                            "      <th>17</th>\n",
                            "      <td>20241025T195339_</td>\n",
                            "      <td>0</td>\n",
                            "      <td>False</td>\n",
                            "    </tr>\n",
                            "  </tbody>\n",
                            "</table>\n",
                            "</div>"
                        ],
                        "text/plain": [
                            "          plate_name  num_files  correct_num_files\n",
                            "0   20241026T074814_          0              False\n",
                            "1   20241025T075429_          0              False\n",
                            "2   20241026T194305_          0              False\n",
                            "3   20241025T045229_          0              False\n",
                            "4   20241024T194653_          0              False\n",
                            "5   20241026T044935_          0              False\n",
                            "6   20241026T015058_          0              False\n",
                            "7   20241026T134545_          0              False\n",
                            "8   20241025T015040_          0              False\n",
                            "9   20241025T105738_          0              False\n",
                            "10  20241025T165502_          0              False\n",
                            "11  20241024T224849_          0              False\n",
                            "12  20241028T111908_          0              False\n",
                            "13  20241025T135621_          0              False\n",
                            "14  20241025T225218_          0              False\n",
                            "15  20241026T164425_          0              False\n",
                            "16  20241026T104653_          0              False\n",
                            "17  20241025T195339_          0              False"
                        ]
                    },
                    "execution_count": 8,
                    "metadata": {},
                    "output_type": "execute_result"
                }
            ],
            "source": [
                "# check that there are\n",
                "# 5 fovs * 5 channels * 96 wells = 2400 images per plate\n",
                "fovs = 5\n",
                "channels = 5\n",
                "wells = 96\n",
                "images_per_plate = fovs * channels * wells\n",
                "# get the dirs in the data directory\n",
                "dirs = glob.glob(str(pathlib.Path(\"../../../data/raw\") / \"*\"))\n",
                "dirs = [x for x in dirs if pathlib.Path(x).is_dir()]\n",
                "plate_dict = {\n",
                "    \"plate_name\": [],\n",
                "    \"num_files\": [],\n",
                "}\n",
                "for dir in dirs:\n",
                "    if pathlib.Path(dir).name != \"platemaps\":\n",
                "        # get the files in the dir\n",
                "        files = glob.glob(str(pathlib.Path(dir) / \"*\"))\n",
                "        files = [x for x in files if pathlib.Path(x).is_file()]\n",
                "        plate_dict[\"plate_name\"].append(pathlib.Path(dir).name)\n",
                "        plate_dict[\"num_files\"].append(len(files))\n",
                "plate_df = pd.DataFrame(plate_dict)\n",
                "plate_df[\"correct_num_files\"] = plate_df[\"num_files\"] == images_per_plate\n",
                "# sort by correct_num_files\n",
                "plate_df.sort_values(by=\"correct_num_files\", inplace=True)\n",
                "plate_df.reset_index(drop=True, inplace=True)\n",
                "plate_df"
            ]
        },
        {
            "cell_type": "markdown",
            "metadata": {},
            "source": [
                "## Extract the metadata from one plate\n",
                "Each subsequent plate is a copy of the first at a differet time point and thus the metadata will remain the same."
            ]
        },
        {
            "cell_type": "code",
            "execution_count": 9,
            "metadata": {},
            "outputs": [
                {
                    "data": {
                        "text/plain": [
                            "Series([], Name: count, dtype: int64)"
                        ]
                    },
                    "execution_count": 9,
                    "metadata": {},
                    "output_type": "execute_result"
                }
            ],
            "source": [
                "# get all files in the plate_id dir\n",
                "files = glob.glob(str(pathlib.Path(\"../../../data/raw/20241026T164425_\") / \"*\"))\n",
                "files = [pathlib.Path(x).stem for x in files if pathlib.Path(x).is_file()]\n",
                "df = pd.DataFrame(files, columns=[\"file_name\"])\n",
                "df[\"well\"] = df[\"file_name\"].str.split(\"F\").str[0]\n",
                "df[\"FOV\"] = df[\"file_name\"].str.split(\"F\").str[1].str.split(\"T\").str[0]\n",
                "df[\"channel\"] = df[\"file_name\"].str.split(\"F\").str[1].str.split(\"Z001\").str[1]\n",
                "# sort by well, FOV, channel\n",
                "df.sort_values(by=[\"well\", \"FOV\", \"channel\"], inplace=True)\n",
                "\n",
                "# get the value counts for well, FOV\n",
                "df[[\"well\", \"FOV\"]].value_counts().sort_values()"
            ]
        },
        {
            "cell_type": "code",
            "execution_count": 10,
            "metadata": {},
            "outputs": [
                {
                    "data": {
                        "text/html": [
                            "<div>\n",
                            "<style scoped>\n",
                            "    .dataframe tbody tr th:only-of-type {\n",
                            "        vertical-align: middle;\n",
                            "    }\n",
                            "\n",
                            "    .dataframe tbody tr th {\n",
                            "        vertical-align: top;\n",
                            "    }\n",
                            "\n",
                            "    .dataframe thead th {\n",
                            "        text-align: right;\n",
                            "    }\n",
                            "</style>\n",
                            "<table border=\"1\" class=\"dataframe\">\n",
                            "  <thead>\n",
                            "    <tr style=\"text-align: right;\">\n",
                            "      <th></th>\n",
                            "      <th>well</th>\n",
                            "      <th>FOV</th>\n",
                            "      <th>count</th>\n",
                            "    </tr>\n",
                            "  </thead>\n",
                            "  <tbody>\n",
                            "  </tbody>\n",
                            "</table>\n",
                            "</div>"
                        ],
                        "text/plain": [
                            "Empty DataFrame\n",
                            "Columns: [well, FOV, count]\n",
                            "Index: []"
                        ]
                    },
                    "execution_count": 10,
                    "metadata": {},
                    "output_type": "execute_result"
                }
            ],
            "source": [
                "# get all files in the 20241026T164425_ dir\n",
                "files = glob.glob(str(pathlib.Path(\"../../../data/raw/20241025T045229_\") / \"*\"))\n",
                "files = [pathlib.Path(x).stem for x in files if pathlib.Path(x).is_file()]\n",
                "df = pd.DataFrame(files, columns=[\"file_name\"])\n",
                "df[\"well\"] = df[\"file_name\"].str.split(\"F\").str[0]\n",
                "df[\"FOV\"] = df[\"file_name\"].str.split(\"F\").str[1].str.split(\"T\").str[0]\n",
                "df[\"channel\"] = df[\"file_name\"].str.split(\"F\").str[1].str.split(\"Z001\").str[1]\n",
                "# sort by well, FOV, channel\n",
                "df.sort_values(by=[\"well\", \"FOV\", \"channel\"], inplace=True)\n",
                "\n",
                "# get the value counts for well, FOV\n",
                "df[[\"well\", \"FOV\"]].value_counts().reset_index().sort_values(by=[\"count\"])"
            ]
        }
    ],
    "metadata": {
        "kernelspec": {
            "display_name": "cellprofiler_timelapse_env",
            "language": "python",
            "name": "python3"
        },
        "language_info": {
            "codemirror_mode": {
                "name": "ipython",
                "version": 3
            },
            "file_extension": ".py",
            "mimetype": "text/x-python",
            "name": "python",
            "nbconvert_exporter": "python",
            "pygments_lexer": "ipython3",
            "version": "3.8.20"
        }
    },
    "nbformat": 4,
    "nbformat_minor": 2
}
