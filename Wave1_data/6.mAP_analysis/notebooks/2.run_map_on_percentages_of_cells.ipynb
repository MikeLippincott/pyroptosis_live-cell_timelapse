{
    "cells": [
        {
            "cell_type": "code",
            "execution_count": 1,
            "metadata": {},
            "outputs": [],
            "source": [
                "import argparse\n",
                "import pathlib\n",
                "import random\n",
                "\n",
                "import numpy as np\n",
                "import pandas as pd\n",
                "from copairs import map\n",
                "from copairs.matching import assign_reference_index\n",
                "\n",
                "# check if in a jupyter notebook\n",
                "try:\n",
                "    cfg = get_ipython().config\n",
                "    in_notebook = True\n",
                "except NameError:\n",
                "    in_notebook = False\n",
                "import warnings\n",
                "\n",
                "import pycytominer.aggregate\n",
                "import tqdm\n",
                "\n",
                "# Suppress all RuntimeWarnings\n",
                "warnings.filterwarnings(\"ignore\", category=RuntimeWarning)\n",
                "\n",
                "#"
            ]
        },
        {
            "cell_type": "code",
            "execution_count": 2,
            "metadata": {},
            "outputs": [],
            "source": [
                "if not in_notebook:\n",
                "    # setup the argument parser\n",
                "    parser = argparse.ArgumentParser(\n",
                "        description=\"Generate a map for differing cell counts\"\n",
                "    )\n",
                "\n",
                "    parser.add_argument(\n",
                "        \"--percentage\", type=float, help=\"Percentage of wells to use for the map file\"\n",
                "    )\n",
                "    parser.add_argument(\"--seed\", type=int, help=\"Seed for the random number generator\")\n",
                "    parser.add_argument(\n",
                "        \"--shuffle\", action=\"store_true\", help=\"Shuffle the order of the wells\"\n",
                "    )\n",
                "    # parse the arguments\n",
                "    args = parser.parse_args()\n",
                "    percentage = args.percentage\n",
                "    set_seed = args.seed\n",
                "    shuffle = args.shuffle\n",
                "else:\n",
                "    percentage = 0.4\n",
                "    set_seed = 0\n",
                "    shuffle = False\n",
                "\n",
                "output_file = pathlib.Path(\n",
                "    f\"../results/mAP_cell_percentages/{percentage}_{set_seed}_{shuffle}.parquet\"\n",
                ")\n",
                "output_file.parent.mkdir(exist_ok=True, parents=True)"
            ]
        },
        {
            "cell_type": "code",
            "execution_count": 3,
            "metadata": {},
            "outputs": [],
            "source": [
                "def run_mAP_across_time(\n",
                "    df: pd.DataFrame,\n",
                "):\n",
                "    \"\"\"\n",
                "    Run mAP across timepoints specifies and hardcoded columns for this data\n",
                "\n",
                "    Parameters\n",
                "    ----------\n",
                "    df : pd.DataFrame\n",
                "        An aggregated dataframe with metadata and features and temporal information\n",
                "\n",
                "    Returns\n",
                "    -------\n",
                "    dict\n",
                "        A dictionary of dataframes with the mAP results for each\n",
                "        timepoint.\n",
                "    \"\"\"\n",
                "    unique_timepoints = df.Metadata_Time.unique()\n",
                "    dict_of_map_dfs = {}\n",
                "    for timepoint in unique_timepoints:\n",
                "        single_time_df = df.loc[df.Metadata_Time == timepoint]\n",
                "        reference_col = \"Metadata_reference_index\"\n",
                "        df_activity = assign_reference_index(\n",
                "            single_time_df,\n",
                "            \"Metadata_treatment == 'DMSO CTL'\",\n",
                "            reference_col=reference_col,\n",
                "            default_value=-1,\n",
                "        )\n",
                "        pos_sameby = [\"Metadata_treatment\", reference_col]\n",
                "        pos_diffby = []\n",
                "        neg_sameby = []\n",
                "        neg_diffby = [\"Metadata_treatment\", reference_col]\n",
                "        metadata = df_activity.filter(regex=\"Metadata\")\n",
                "        profiles = df_activity.filter(regex=\"^(?!Metadata)\").values\n",
                "\n",
                "        activity_ap = map.average_precision(\n",
                "            metadata, profiles, pos_sameby, pos_diffby, neg_sameby, neg_diffby\n",
                "        )\n",
                "\n",
                "        activity_ap = activity_ap.query(\"Metadata_treatment != 'DMSO CTL'\")\n",
                "        activity_map = map.mean_average_precision(\n",
                "            activity_ap, pos_sameby, null_size=1000000, threshold=0.05, seed=0\n",
                "        )\n",
                "        activity_map[\"-log10(p-value)\"] = -activity_map[\"corrected_p_value\"].apply(\n",
                "            np.log10\n",
                "        )\n",
                "        # flatten the multi-index columns to make it easier to work with\n",
                "        dict_of_map_dfs[timepoint] = activity_map\n",
                "    return dict_of_map_dfs"
            ]
        },
        {
            "cell_type": "code",
            "execution_count": 4,
            "metadata": {},
            "outputs": [],
            "source": [
                "sc_metadata_cols_to_drop = [\n",
                "    \"Metadata_ImageNumber\",\n",
                "    \"Metadata_Cells_Number_Object_Number\",\n",
                "    \"Metadata_Cytoplasm_Parent_Cells\",\n",
                "    \"Metadata_Cytoplasm_Parent_Nuclei\",\n",
                "    \"Metadata_ImageNumber_1\",\n",
                "    \"Metadata_ImageNumber_2\",\n",
                "    \"Metadata_ImageNumber_3\",\n",
                "    \"Metadata_Nuclei_Number_Object_Number\",\n",
                "    \"Metadata_Image_FileName_BF\",\n",
                "    \"Metadata_Image_FileName_CL488\",\n",
                "    \"Metadata_Image_FileName_CL561\",\n",
                "    \"Metadata_Image_FileName_DNA\",\n",
                "    \"Metadata_Image_FileName_GSDM\",\n",
                "    \"Metadata_Image_PathName_BF\",\n",
                "    \"Metadata_Image_PathName_CL488\",\n",
                "    \"Metadata_Image_PathName_CL561\",\n",
                "    \"Metadata_Image_PathName_DNA\",\n",
                "    \"Metadata_Image_PathName_GSDM\",\n",
                "    \"Metadata_Nuclei_Location_Center_X\",\n",
                "    \"Metadata_Nuclei_Location_Center_Y\",\n",
                "    \"Metadata_number_of_singlecells\",\n",
                "    \"Metadata_FOV\",\n",
                "]"
            ]
        },
        {
            "cell_type": "code",
            "execution_count": 5,
            "metadata": {},
            "outputs": [
                {
                    "data": {
                        "text/html": [
                            "<div>\n",
                            "<style scoped>\n",
                            "    .dataframe tbody tr th:only-of-type {\n",
                            "        vertical-align: middle;\n",
                            "    }\n",
                            "\n",
                            "    .dataframe tbody tr th {\n",
                            "        vertical-align: top;\n",
                            "    }\n",
                            "\n",
                            "    .dataframe thead th {\n",
                            "        text-align: right;\n",
                            "    }\n",
                            "</style>\n",
                            "<table border=\"1\" class=\"dataframe\">\n",
                            "  <thead>\n",
                            "    <tr style=\"text-align: right;\">\n",
                            "      <th></th>\n",
                            "      <th>Metadata_treatment</th>\n",
                            "      <th>Metadata_Well</th>\n",
                            "      <th>Metadata_number_of_singlecells</th>\n",
                            "      <th>Metadata_FOV</th>\n",
                            "      <th>Metadata_treatment1</th>\n",
                            "      <th>Metadata_Time</th>\n",
                            "      <th>Metadata_treatment2</th>\n",
                            "      <th>Metadata_treatment1_dose</th>\n",
                            "      <th>Metadata_treatment1_unit</th>\n",
                            "      <th>Metadata_treatment2_dose</th>\n",
                            "      <th>...</th>\n",
                            "      <th>Nuclei_Texture_InfoMeas2_BF_3_03_256</th>\n",
                            "      <th>Nuclei_Texture_InverseDifferenceMoment_CL488_3_00_256</th>\n",
                            "      <th>Nuclei_Texture_InverseDifferenceMoment_CL561_3_01_256</th>\n",
                            "      <th>Nuclei_Texture_InverseDifferenceMoment_DNA_3_00_256</th>\n",
                            "      <th>Nuclei_Texture_InverseDifferenceMoment_GSDM_3_01_256</th>\n",
                            "      <th>Nuclei_Texture_SumAverage_BF_3_03_256</th>\n",
                            "      <th>Nuclei_Texture_SumAverage_CL488_3_01_256</th>\n",
                            "      <th>Nuclei_Texture_SumAverage_CL561_3_03_256</th>\n",
                            "      <th>Nuclei_Texture_SumAverage_GSDM_3_00_256</th>\n",
                            "      <th>Metadata_cells_per_well</th>\n",
                            "    </tr>\n",
                            "  </thead>\n",
                            "  <tbody>\n",
                            "    <tr>\n",
                            "      <th>0</th>\n",
                            "      <td>Media</td>\n",
                            "      <td>C04</td>\n",
                            "      <td>502</td>\n",
                            "      <td>0001</td>\n",
                            "      <td>Media</td>\n",
                            "      <td>00</td>\n",
                            "      <td>None</td>\n",
                            "      <td>None</td>\n",
                            "      <td>None</td>\n",
                            "      <td>None</td>\n",
                            "      <td>...</td>\n",
                            "      <td>-0.508520</td>\n",
                            "      <td>0.175213</td>\n",
                            "      <td>0.752187</td>\n",
                            "      <td>0.098034</td>\n",
                            "      <td>0.539390</td>\n",
                            "      <td>0.723292</td>\n",
                            "      <td>-0.103324</td>\n",
                            "      <td>0.235447</td>\n",
                            "      <td>-0.166432</td>\n",
                            "      <td>56443</td>\n",
                            "    </tr>\n",
                            "    <tr>\n",
                            "      <th>1</th>\n",
                            "      <td>Media</td>\n",
                            "      <td>C04</td>\n",
                            "      <td>502</td>\n",
                            "      <td>0001</td>\n",
                            "      <td>Media</td>\n",
                            "      <td>00</td>\n",
                            "      <td>None</td>\n",
                            "      <td>None</td>\n",
                            "      <td>None</td>\n",
                            "      <td>None</td>\n",
                            "      <td>...</td>\n",
                            "      <td>1.336084</td>\n",
                            "      <td>-2.123982</td>\n",
                            "      <td>-0.684702</td>\n",
                            "      <td>1.086309</td>\n",
                            "      <td>-1.168241</td>\n",
                            "      <td>1.152753</td>\n",
                            "      <td>4.695296</td>\n",
                            "      <td>2.018079</td>\n",
                            "      <td>-0.675315</td>\n",
                            "      <td>56443</td>\n",
                            "    </tr>\n",
                            "    <tr>\n",
                            "      <th>2</th>\n",
                            "      <td>Media</td>\n",
                            "      <td>C04</td>\n",
                            "      <td>474</td>\n",
                            "      <td>0002</td>\n",
                            "      <td>Media</td>\n",
                            "      <td>00</td>\n",
                            "      <td>None</td>\n",
                            "      <td>None</td>\n",
                            "      <td>None</td>\n",
                            "      <td>None</td>\n",
                            "      <td>...</td>\n",
                            "      <td>-1.051741</td>\n",
                            "      <td>0.936068</td>\n",
                            "      <td>-1.509714</td>\n",
                            "      <td>1.476585</td>\n",
                            "      <td>-1.168241</td>\n",
                            "      <td>-0.683012</td>\n",
                            "      <td>-0.383226</td>\n",
                            "      <td>-0.970753</td>\n",
                            "      <td>-0.675315</td>\n",
                            "      <td>56443</td>\n",
                            "    </tr>\n",
                            "    <tr>\n",
                            "      <th>3</th>\n",
                            "      <td>Media</td>\n",
                            "      <td>C04</td>\n",
                            "      <td>474</td>\n",
                            "      <td>0002</td>\n",
                            "      <td>Media</td>\n",
                            "      <td>00</td>\n",
                            "      <td>None</td>\n",
                            "      <td>None</td>\n",
                            "      <td>None</td>\n",
                            "      <td>None</td>\n",
                            "      <td>...</td>\n",
                            "      <td>-1.073423</td>\n",
                            "      <td>0.024511</td>\n",
                            "      <td>0.230210</td>\n",
                            "      <td>0.535240</td>\n",
                            "      <td>1.165398</td>\n",
                            "      <td>-1.397708</td>\n",
                            "      <td>-0.136373</td>\n",
                            "      <td>0.251703</td>\n",
                            "      <td>-0.235567</td>\n",
                            "      <td>56443</td>\n",
                            "    </tr>\n",
                            "    <tr>\n",
                            "      <th>4</th>\n",
                            "      <td>Media</td>\n",
                            "      <td>C04</td>\n",
                            "      <td>525</td>\n",
                            "      <td>0005</td>\n",
                            "      <td>Media</td>\n",
                            "      <td>00</td>\n",
                            "      <td>None</td>\n",
                            "      <td>None</td>\n",
                            "      <td>None</td>\n",
                            "      <td>None</td>\n",
                            "      <td>...</td>\n",
                            "      <td>1.489020</td>\n",
                            "      <td>-0.805110</td>\n",
                            "      <td>0.810185</td>\n",
                            "      <td>-0.158104</td>\n",
                            "      <td>1.165398</td>\n",
                            "      <td>1.827503</td>\n",
                            "      <td>0.222441</td>\n",
                            "      <td>0.186214</td>\n",
                            "      <td>-0.235567</td>\n",
                            "      <td>56443</td>\n",
                            "    </tr>\n",
                            "  </tbody>\n",
                            "</table>\n",
                            "<p>5 rows \u00d7 710 columns</p>\n",
                            "</div>"
                        ],
                        "text/plain": [
                            "  Metadata_treatment Metadata_Well  Metadata_number_of_singlecells  \\\n",
                            "0              Media           C04                             502   \n",
                            "1              Media           C04                             502   \n",
                            "2              Media           C04                             474   \n",
                            "3              Media           C04                             474   \n",
                            "4              Media           C04                             525   \n",
                            "\n",
                            "  Metadata_FOV Metadata_treatment1 Metadata_Time Metadata_treatment2  \\\n",
                            "0         0001               Media            00                None   \n",
                            "1         0001               Media            00                None   \n",
                            "2         0002               Media            00                None   \n",
                            "3         0002               Media            00                None   \n",
                            "4         0005               Media            00                None   \n",
                            "\n",
                            "  Metadata_treatment1_dose Metadata_treatment1_unit Metadata_treatment2_dose  \\\n",
                            "0                     None                     None                     None   \n",
                            "1                     None                     None                     None   \n",
                            "2                     None                     None                     None   \n",
                            "3                     None                     None                     None   \n",
                            "4                     None                     None                     None   \n",
                            "\n",
                            "   ... Nuclei_Texture_InfoMeas2_BF_3_03_256  \\\n",
                            "0  ...                            -0.508520   \n",
                            "1  ...                             1.336084   \n",
                            "2  ...                            -1.051741   \n",
                            "3  ...                            -1.073423   \n",
                            "4  ...                             1.489020   \n",
                            "\n",
                            "  Nuclei_Texture_InverseDifferenceMoment_CL488_3_00_256  \\\n",
                            "0                                           0.175213      \n",
                            "1                                          -2.123982      \n",
                            "2                                           0.936068      \n",
                            "3                                           0.024511      \n",
                            "4                                          -0.805110      \n",
                            "\n",
                            "   Nuclei_Texture_InverseDifferenceMoment_CL561_3_01_256  \\\n",
                            "0                                           0.752187       \n",
                            "1                                          -0.684702       \n",
                            "2                                          -1.509714       \n",
                            "3                                           0.230210       \n",
                            "4                                           0.810185       \n",
                            "\n",
                            "   Nuclei_Texture_InverseDifferenceMoment_DNA_3_00_256  \\\n",
                            "0                                           0.098034     \n",
                            "1                                           1.086309     \n",
                            "2                                           1.476585     \n",
                            "3                                           0.535240     \n",
                            "4                                          -0.158104     \n",
                            "\n",
                            "   Nuclei_Texture_InverseDifferenceMoment_GSDM_3_01_256  \\\n",
                            "0                                           0.539390      \n",
                            "1                                          -1.168241      \n",
                            "2                                          -1.168241      \n",
                            "3                                           1.165398      \n",
                            "4                                           1.165398      \n",
                            "\n",
                            "   Nuclei_Texture_SumAverage_BF_3_03_256  \\\n",
                            "0                               0.723292   \n",
                            "1                               1.152753   \n",
                            "2                              -0.683012   \n",
                            "3                              -1.397708   \n",
                            "4                               1.827503   \n",
                            "\n",
                            "   Nuclei_Texture_SumAverage_CL488_3_01_256  \\\n",
                            "0                                 -0.103324   \n",
                            "1                                  4.695296   \n",
                            "2                                 -0.383226   \n",
                            "3                                 -0.136373   \n",
                            "4                                  0.222441   \n",
                            "\n",
                            "   Nuclei_Texture_SumAverage_CL561_3_03_256  \\\n",
                            "0                                  0.235447   \n",
                            "1                                  2.018079   \n",
                            "2                                 -0.970753   \n",
                            "3                                  0.251703   \n",
                            "4                                  0.186214   \n",
                            "\n",
                            "   Nuclei_Texture_SumAverage_GSDM_3_00_256  Metadata_cells_per_well  \n",
                            "0                                -0.166432                    56443  \n",
                            "1                                -0.675315                    56443  \n",
                            "2                                -0.675315                    56443  \n",
                            "3                                -0.235567                    56443  \n",
                            "4                                -0.235567                    56443  \n",
                            "\n",
                            "[5 rows x 710 columns]"
                        ]
                    },
                    "execution_count": 5,
                    "metadata": {},
                    "output_type": "execute_result"
                }
            ],
            "source": [
                "data_file_path = pathlib.Path(\n",
                "    \"../../4.processing_profiled_features/data/preprocessed_data/live_cell_pyroptosis_wave1_sc_first_time_norm_fs_subset.parquet\"\n",
                ").resolve(strict=True)\n",
                "df = pd.read_parquet(data_file_path)\n",
                "df.reset_index(drop=True, inplace=True)\n",
                "df = df[~df.Metadata_serum.str.contains(\"NuSerum\")]\n",
                "\n",
                "df.head()"
            ]
        },
        {
            "cell_type": "code",
            "execution_count": 6,
            "metadata": {},
            "outputs": [
                {
                    "data": {
                        "application/vnd.jupyter.widget-view+json": {
                            "model_id": "b4307354b8c9478cb2ac5c43bf684ee2",
                            "version_major": 2,
                            "version_minor": 0
                        },
                        "text/plain": [
                            "  0%|          | 0/1 [00:00<?, ?it/s]"
                        ]
                    },
                    "metadata": {},
                    "output_type": "display_data"
                },
                {
                    "data": {
                        "application/vnd.jupyter.widget-view+json": {
                            "model_id": "5ee2af02edf54114a2d83336e4238704",
                            "version_major": 2,
                            "version_minor": 0
                        },
                        "text/plain": [
                            "  0%|          | 0/1 [00:00<?, ?it/s]"
                        ]
                    },
                    "metadata": {},
                    "output_type": "display_data"
                },
                {
                    "data": {
                        "application/vnd.jupyter.widget-view+json": {
                            "model_id": "52bc1934893a47b0adee87ff584f8f8e",
                            "version_major": 2,
                            "version_minor": 0
                        },
                        "text/plain": [
                            "  0%|          | 0/1 [00:00<?, ?it/s]"
                        ]
                    },
                    "metadata": {},
                    "output_type": "display_data"
                },
                {
                    "data": {
                        "application/vnd.jupyter.widget-view+json": {
                            "model_id": "2834143ae1874133a85705b946d4471f",
                            "version_major": 2,
                            "version_minor": 0
                        },
                        "text/plain": [
                            "  0%|          | 0/22 [00:00<?, ?it/s]"
                        ]
                    },
                    "metadata": {},
                    "output_type": "display_data"
                },
                {
                    "data": {
                        "application/vnd.jupyter.widget-view+json": {
                            "model_id": "27199676e1c14fd8a6689cd549ca1055",
                            "version_major": 2,
                            "version_minor": 0
                        },
                        "text/plain": [
                            "  0%|          | 0/1 [00:00<?, ?it/s]"
                        ]
                    },
                    "metadata": {},
                    "output_type": "display_data"
                },
                {
                    "data": {
                        "application/vnd.jupyter.widget-view+json": {
                            "model_id": "67ac84bb05c6408ba9f24ff3feef1b67",
                            "version_major": 2,
                            "version_minor": 0
                        },
                        "text/plain": [
                            "  0%|          | 0/1 [00:00<?, ?it/s]"
                        ]
                    },
                    "metadata": {},
                    "output_type": "display_data"
                },
                {
                    "data": {
                        "application/vnd.jupyter.widget-view+json": {
                            "model_id": "48751dc86a16425886391732aa4eeb36",
                            "version_major": 2,
                            "version_minor": 0
                        },
                        "text/plain": [
                            "  0%|          | 0/1 [00:00<?, ?it/s]"
                        ]
                    },
                    "metadata": {},
                    "output_type": "display_data"
                },
                {
                    "data": {
                        "application/vnd.jupyter.widget-view+json": {
                            "model_id": "8644760c0cdc4b82927487afbdf3f1e2",
                            "version_major": 2,
                            "version_minor": 0
                        },
                        "text/plain": [
                            "  0%|          | 0/22 [00:00<?, ?it/s]"
                        ]
                    },
                    "metadata": {},
                    "output_type": "display_data"
                },
                {
                    "data": {
                        "application/vnd.jupyter.widget-view+json": {
                            "model_id": "a1090e0a89104e9aa41b6277336be16d",
                            "version_major": 2,
                            "version_minor": 0
                        },
                        "text/plain": [
                            "  0%|          | 0/1 [00:00<?, ?it/s]"
                        ]
                    },
                    "metadata": {},
                    "output_type": "display_data"
                },
                {
                    "data": {
                        "application/vnd.jupyter.widget-view+json": {
                            "model_id": "1c7951b8b8cd468da9f84969569b328a",
                            "version_major": 2,
                            "version_minor": 0
                        },
                        "text/plain": [
                            "  0%|          | 0/1 [00:00<?, ?it/s]"
                        ]
                    },
                    "metadata": {},
                    "output_type": "display_data"
                },
                {
                    "data": {
                        "application/vnd.jupyter.widget-view+json": {
                            "model_id": "a47bf2faa59f4bf1b0a4262356de275f",
                            "version_major": 2,
                            "version_minor": 0
                        },
                        "text/plain": [
                            "  0%|          | 0/1 [00:00<?, ?it/s]"
                        ]
                    },
                    "metadata": {},
                    "output_type": "display_data"
                },
                {
                    "data": {
                        "application/vnd.jupyter.widget-view+json": {
                            "model_id": "394b33d21d2d47b4a4d9b1232bb49b4c",
                            "version_major": 2,
                            "version_minor": 0
                        },
                        "text/plain": [
                            "  0%|          | 0/22 [00:00<?, ?it/s]"
                        ]
                    },
                    "metadata": {},
                    "output_type": "display_data"
                },
                {
                    "data": {
                        "application/vnd.jupyter.widget-view+json": {
                            "model_id": "8715bb08e7b54c6daede273250a97597",
                            "version_major": 2,
                            "version_minor": 0
                        },
                        "text/plain": [
                            "  0%|          | 0/1 [00:00<?, ?it/s]"
                        ]
                    },
                    "metadata": {},
                    "output_type": "display_data"
                },
                {
                    "data": {
                        "application/vnd.jupyter.widget-view+json": {
                            "model_id": "ce97d96202fc443a9d6d732b38383d67",
                            "version_major": 2,
                            "version_minor": 0
                        },
                        "text/plain": [
                            "  0%|          | 0/1 [00:00<?, ?it/s]"
                        ]
                    },
                    "metadata": {},
                    "output_type": "display_data"
                },
                {
                    "data": {
                        "application/vnd.jupyter.widget-view+json": {
                            "model_id": "4108a50a3e7a406e96fa0c75ce2b861d",
                            "version_major": 2,
                            "version_minor": 0
                        },
                        "text/plain": [
                            "  0%|          | 0/1 [00:00<?, ?it/s]"
                        ]
                    },
                    "metadata": {},
                    "output_type": "display_data"
                },
                {
                    "data": {
                        "application/vnd.jupyter.widget-view+json": {
                            "model_id": "a21061a51d694517b6776a3049b16c02",
                            "version_major": 2,
                            "version_minor": 0
                        },
                        "text/plain": [
                            "  0%|          | 0/22 [00:00<?, ?it/s]"
                        ]
                    },
                    "metadata": {},
                    "output_type": "display_data"
                },
                {
                    "data": {
                        "application/vnd.jupyter.widget-view+json": {
                            "model_id": "aac0c80b18c44f56a3d54d7ad2638a71",
                            "version_major": 2,
                            "version_minor": 0
                        },
                        "text/plain": [
                            "  0%|          | 0/1 [00:00<?, ?it/s]"
                        ]
                    },
                    "metadata": {},
                    "output_type": "display_data"
                },
                {
                    "data": {
                        "application/vnd.jupyter.widget-view+json": {
                            "model_id": "2c533a79e1744e6bac18bb0557ccea5d",
                            "version_major": 2,
                            "version_minor": 0
                        },
                        "text/plain": [
                            "  0%|          | 0/1 [00:00<?, ?it/s]"
                        ]
                    },
                    "metadata": {},
                    "output_type": "display_data"
                },
                {
                    "data": {
                        "application/vnd.jupyter.widget-view+json": {
                            "model_id": "644b697a046e47bb9e8d19dfb56cba48",
                            "version_major": 2,
                            "version_minor": 0
                        },
                        "text/plain": [
                            "  0%|          | 0/1 [00:00<?, ?it/s]"
                        ]
                    },
                    "metadata": {},
                    "output_type": "display_data"
                },
                {
                    "data": {
                        "application/vnd.jupyter.widget-view+json": {
                            "model_id": "68e44e7df8984bb2ba1f64aa111c87e3",
                            "version_major": 2,
                            "version_minor": 0
                        },
                        "text/plain": [
                            "  0%|          | 0/22 [00:00<?, ?it/s]"
                        ]
                    },
                    "metadata": {},
                    "output_type": "display_data"
                },
                {
                    "data": {
                        "application/vnd.jupyter.widget-view+json": {
                            "model_id": "c2b8726c517c4a2c8697be1db628f7a5",
                            "version_major": 2,
                            "version_minor": 0
                        },
                        "text/plain": [
                            "  0%|          | 0/1 [00:00<?, ?it/s]"
                        ]
                    },
                    "metadata": {},
                    "output_type": "display_data"
                },
                {
                    "data": {
                        "application/vnd.jupyter.widget-view+json": {
                            "model_id": "f098195b3a134cb796170c61efc40190",
                            "version_major": 2,
                            "version_minor": 0
                        },
                        "text/plain": [
                            "  0%|          | 0/1 [00:00<?, ?it/s]"
                        ]
                    },
                    "metadata": {},
                    "output_type": "display_data"
                },
                {
                    "data": {
                        "application/vnd.jupyter.widget-view+json": {
                            "model_id": "246297da6e1f474f904a765d11404793",
                            "version_major": 2,
                            "version_minor": 0
                        },
                        "text/plain": [
                            "  0%|          | 0/1 [00:00<?, ?it/s]"
                        ]
                    },
                    "metadata": {},
                    "output_type": "display_data"
                },
                {
                    "data": {
                        "application/vnd.jupyter.widget-view+json": {
                            "model_id": "d800d2aac7da477f809047789adf860b",
                            "version_major": 2,
                            "version_minor": 0
                        },
                        "text/plain": [
                            "  0%|          | 0/22 [00:00<?, ?it/s]"
                        ]
                    },
                    "metadata": {},
                    "output_type": "display_data"
                },
                {
                    "data": {
                        "application/vnd.jupyter.widget-view+json": {
                            "model_id": "e868fba8cff84a6998b4b27bd1d3d46d",
                            "version_major": 2,
                            "version_minor": 0
                        },
                        "text/plain": [
                            "  0%|          | 0/1 [00:00<?, ?it/s]"
                        ]
                    },
                    "metadata": {},
                    "output_type": "display_data"
                },
                {
                    "data": {
                        "application/vnd.jupyter.widget-view+json": {
                            "model_id": "411954dc090d46c397e048dc70e58688",
                            "version_major": 2,
                            "version_minor": 0
                        },
                        "text/plain": [
                            "  0%|          | 0/1 [00:00<?, ?it/s]"
                        ]
                    },
                    "metadata": {},
                    "output_type": "display_data"
                },
                {
                    "data": {
                        "application/vnd.jupyter.widget-view+json": {
                            "model_id": "ee72b9cd9887494ea7d9a94063d4a6a3",
                            "version_major": 2,
                            "version_minor": 0
                        },
                        "text/plain": [
                            "  0%|          | 0/1 [00:00<?, ?it/s]"
                        ]
                    },
                    "metadata": {},
                    "output_type": "display_data"
                },
                {
                    "data": {
                        "application/vnd.jupyter.widget-view+json": {
                            "model_id": "e24008513fac4fb18f228678c2194830",
                            "version_major": 2,
                            "version_minor": 0
                        },
                        "text/plain": [
                            "  0%|          | 0/22 [00:00<?, ?it/s]"
                        ]
                    },
                    "metadata": {},
                    "output_type": "display_data"
                },
                {
                    "data": {
                        "application/vnd.jupyter.widget-view+json": {
                            "model_id": "345f7631095d4b8c931fdcfe1df75cfe",
                            "version_major": 2,
                            "version_minor": 0
                        },
                        "text/plain": [
                            "  0%|          | 0/1 [00:00<?, ?it/s]"
                        ]
                    },
                    "metadata": {},
                    "output_type": "display_data"
                },
                {
                    "data": {
                        "application/vnd.jupyter.widget-view+json": {
                            "model_id": "f0e7866263ad4604bab5c7bb0208cf50",
                            "version_major": 2,
                            "version_minor": 0
                        },
                        "text/plain": [
                            "  0%|          | 0/1 [00:00<?, ?it/s]"
                        ]
                    },
                    "metadata": {},
                    "output_type": "display_data"
                },
                {
                    "data": {
                        "application/vnd.jupyter.widget-view+json": {
                            "model_id": "b94f3c377f594a7983120141710a31c4",
                            "version_major": 2,
                            "version_minor": 0
                        },
                        "text/plain": [
                            "  0%|          | 0/1 [00:00<?, ?it/s]"
                        ]
                    },
                    "metadata": {},
                    "output_type": "display_data"
                },
                {
                    "data": {
                        "application/vnd.jupyter.widget-view+json": {
                            "model_id": "88af85d97b3845cc8735183a0c012660",
                            "version_major": 2,
                            "version_minor": 0
                        },
                        "text/plain": [
                            "  0%|          | 0/22 [00:00<?, ?it/s]"
                        ]
                    },
                    "metadata": {},
                    "output_type": "display_data"
                },
                {
                    "data": {
                        "application/vnd.jupyter.widget-view+json": {
                            "model_id": "8f50ceb9d625433ab7c510b8c7e41fd9",
                            "version_major": 2,
                            "version_minor": 0
                        },
                        "text/plain": [
                            "  0%|          | 0/1 [00:00<?, ?it/s]"
                        ]
                    },
                    "metadata": {},
                    "output_type": "display_data"
                },
                {
                    "data": {
                        "application/vnd.jupyter.widget-view+json": {
                            "model_id": "7badfb7324c84b8081820a4ad14920a3",
                            "version_major": 2,
                            "version_minor": 0
                        },
                        "text/plain": [
                            "  0%|          | 0/1 [00:00<?, ?it/s]"
                        ]
                    },
                    "metadata": {},
                    "output_type": "display_data"
                },
                {
                    "data": {
                        "application/vnd.jupyter.widget-view+json": {
                            "model_id": "96213c8aba5f45faa824bffe7176c81a",
                            "version_major": 2,
                            "version_minor": 0
                        },
                        "text/plain": [
                            "  0%|          | 0/1 [00:00<?, ?it/s]"
                        ]
                    },
                    "metadata": {},
                    "output_type": "display_data"
                },
                {
                    "data": {
                        "application/vnd.jupyter.widget-view+json": {
                            "model_id": "cc20c91097634a46b2626fe3287adbe4",
                            "version_major": 2,
                            "version_minor": 0
                        },
                        "text/plain": [
                            "  0%|          | 0/22 [00:00<?, ?it/s]"
                        ]
                    },
                    "metadata": {},
                    "output_type": "display_data"
                },
                {
                    "data": {
                        "application/vnd.jupyter.widget-view+json": {
                            "model_id": "bf2a2405219c43b1b83d0ed81d26b05a",
                            "version_major": 2,
                            "version_minor": 0
                        },
                        "text/plain": [
                            "  0%|          | 0/1 [00:00<?, ?it/s]"
                        ]
                    },
                    "metadata": {},
                    "output_type": "display_data"
                },
                {
                    "data": {
                        "application/vnd.jupyter.widget-view+json": {
                            "model_id": "19f88015a99346f494ff2e8b7b9a863a",
                            "version_major": 2,
                            "version_minor": 0
                        },
                        "text/plain": [
                            "  0%|          | 0/1 [00:00<?, ?it/s]"
                        ]
                    },
                    "metadata": {},
                    "output_type": "display_data"
                },
                {
                    "data": {
                        "application/vnd.jupyter.widget-view+json": {
                            "model_id": "a4be57c80c0f494abc760e55d73ca6c3",
                            "version_major": 2,
                            "version_minor": 0
                        },
                        "text/plain": [
                            "  0%|          | 0/1 [00:00<?, ?it/s]"
                        ]
                    },
                    "metadata": {},
                    "output_type": "display_data"
                },
                {
                    "data": {
                        "application/vnd.jupyter.widget-view+json": {
                            "model_id": "6388afd566eb40af968b15fd0715b77b",
                            "version_major": 2,
                            "version_minor": 0
                        },
                        "text/plain": [
                            "  0%|          | 0/22 [00:00<?, ?it/s]"
                        ]
                    },
                    "metadata": {},
                    "output_type": "display_data"
                },
                {
                    "data": {
                        "application/vnd.jupyter.widget-view+json": {
                            "model_id": "92fa2867abcb476aaf1cbcf565a7668e",
                            "version_major": 2,
                            "version_minor": 0
                        },
                        "text/plain": [
                            "  0%|          | 0/1 [00:00<?, ?it/s]"
                        ]
                    },
                    "metadata": {},
                    "output_type": "display_data"
                },
                {
                    "data": {
                        "application/vnd.jupyter.widget-view+json": {
                            "model_id": "6baf2b14d2f7462199fd9309447b4f5a",
                            "version_major": 2,
                            "version_minor": 0
                        },
                        "text/plain": [
                            "  0%|          | 0/1 [00:00<?, ?it/s]"
                        ]
                    },
                    "metadata": {},
                    "output_type": "display_data"
                },
                {
                    "data": {
                        "application/vnd.jupyter.widget-view+json": {
                            "model_id": "bcde4d9ecc0547ddbb58dc768cb26e48",
                            "version_major": 2,
                            "version_minor": 0
                        },
                        "text/plain": [
                            "  0%|          | 0/1 [00:00<?, ?it/s]"
                        ]
                    },
                    "metadata": {},
                    "output_type": "display_data"
                },
                {
                    "data": {
                        "application/vnd.jupyter.widget-view+json": {
                            "model_id": "e9952d289af443dbab44aad9d7e99081",
                            "version_major": 2,
                            "version_minor": 0
                        },
                        "text/plain": [
                            "  0%|          | 0/22 [00:00<?, ?it/s]"
                        ]
                    },
                    "metadata": {},
                    "output_type": "display_data"
                },
                {
                    "data": {
                        "application/vnd.jupyter.widget-view+json": {
                            "model_id": "d86f631c029044738d91e899106244c7",
                            "version_major": 2,
                            "version_minor": 0
                        },
                        "text/plain": [
                            "  0%|          | 0/1 [00:00<?, ?it/s]"
                        ]
                    },
                    "metadata": {},
                    "output_type": "display_data"
                },
                {
                    "data": {
                        "application/vnd.jupyter.widget-view+json": {
                            "model_id": "57f0d8c84c8e4dae885f5525c31d16ff",
                            "version_major": 2,
                            "version_minor": 0
                        },
                        "text/plain": [
                            "  0%|          | 0/1 [00:00<?, ?it/s]"
                        ]
                    },
                    "metadata": {},
                    "output_type": "display_data"
                },
                {
                    "data": {
                        "application/vnd.jupyter.widget-view+json": {
                            "model_id": "947aaf18ba884643ae8a8eadda9e1442",
                            "version_major": 2,
                            "version_minor": 0
                        },
                        "text/plain": [
                            "  0%|          | 0/1 [00:00<?, ?it/s]"
                        ]
                    },
                    "metadata": {},
                    "output_type": "display_data"
                },
                {
                    "data": {
                        "application/vnd.jupyter.widget-view+json": {
                            "model_id": "bcc8ee6f5fbc4daa9e0a72b38a62611e",
                            "version_major": 2,
                            "version_minor": 0
                        },
                        "text/plain": [
                            "  0%|          | 0/22 [00:00<?, ?it/s]"
                        ]
                    },
                    "metadata": {},
                    "output_type": "display_data"
                },
                {
                    "data": {
                        "application/vnd.jupyter.widget-view+json": {
                            "model_id": "93eeff3b307948c782355c1a9abd67a1",
                            "version_major": 2,
                            "version_minor": 0
                        },
                        "text/plain": [
                            "  0%|          | 0/1 [00:00<?, ?it/s]"
                        ]
                    },
                    "metadata": {},
                    "output_type": "display_data"
                },
                {
                    "data": {
                        "application/vnd.jupyter.widget-view+json": {
                            "model_id": "1f633a03466343ffb946e807237e6ff9",
                            "version_major": 2,
                            "version_minor": 0
                        },
                        "text/plain": [
                            "  0%|          | 0/1 [00:00<?, ?it/s]"
                        ]
                    },
                    "metadata": {},
                    "output_type": "display_data"
                },
                {
                    "data": {
                        "application/vnd.jupyter.widget-view+json": {
                            "model_id": "0c5fda46f3764317b198bc436be8d64c",
                            "version_major": 2,
                            "version_minor": 0
                        },
                        "text/plain": [
                            "  0%|          | 0/1 [00:00<?, ?it/s]"
                        ]
                    },
                    "metadata": {},
                    "output_type": "display_data"
                },
                {
                    "data": {
                        "application/vnd.jupyter.widget-view+json": {
                            "model_id": "cc1986fd58554d2d8c3fb58618256657",
                            "version_major": 2,
                            "version_minor": 0
                        },
                        "text/plain": [
                            "  0%|          | 0/22 [00:00<?, ?it/s]"
                        ]
                    },
                    "metadata": {},
                    "output_type": "display_data"
                },
                {
                    "data": {
                        "application/vnd.jupyter.widget-view+json": {
                            "model_id": "6036fc2d541145049e67632c13fbfbd9",
                            "version_major": 2,
                            "version_minor": 0
                        },
                        "text/plain": [
                            "  0%|          | 0/1 [00:00<?, ?it/s]"
                        ]
                    },
                    "metadata": {},
                    "output_type": "display_data"
                },
                {
                    "data": {
                        "application/vnd.jupyter.widget-view+json": {
                            "model_id": "66354670d0f047499926fe6488e60650",
                            "version_major": 2,
                            "version_minor": 0
                        },
                        "text/plain": [
                            "  0%|          | 0/1 [00:00<?, ?it/s]"
                        ]
                    },
                    "metadata": {},
                    "output_type": "display_data"
                },
                {
                    "data": {
                        "application/vnd.jupyter.widget-view+json": {
                            "model_id": "e1245e83d0254963b5850e4669485f24",
                            "version_major": 2,
                            "version_minor": 0
                        },
                        "text/plain": [
                            "  0%|          | 0/1 [00:00<?, ?it/s]"
                        ]
                    },
                    "metadata": {},
                    "output_type": "display_data"
                },
                {
                    "data": {
                        "application/vnd.jupyter.widget-view+json": {
                            "model_id": "b57c2b2137bc4e319d850ea5e7a2d04e",
                            "version_major": 2,
                            "version_minor": 0
                        },
                        "text/plain": [
                            "  0%|          | 0/22 [00:00<?, ?it/s]"
                        ]
                    },
                    "metadata": {},
                    "output_type": "display_data"
                },
                {
                    "data": {
                        "application/vnd.jupyter.widget-view+json": {
                            "model_id": "466cda6a373546da84f2d04b6805968a",
                            "version_major": 2,
                            "version_minor": 0
                        },
                        "text/plain": [
                            "  0%|          | 0/1 [00:00<?, ?it/s]"
                        ]
                    },
                    "metadata": {},
                    "output_type": "display_data"
                },
                {
                    "data": {
                        "application/vnd.jupyter.widget-view+json": {
                            "model_id": "6c023639021f4bd0892c61254e72f808",
                            "version_major": 2,
                            "version_minor": 0
                        },
                        "text/plain": [
                            "  0%|          | 0/1 [00:00<?, ?it/s]"
                        ]
                    },
                    "metadata": {},
                    "output_type": "display_data"
                },
                {
                    "data": {
                        "application/vnd.jupyter.widget-view+json": {
                            "model_id": "150494102abf4e35ad99b9bd3f0d2193",
                            "version_major": 2,
                            "version_minor": 0
                        },
                        "text/plain": [
                            "  0%|          | 0/1 [00:00<?, ?it/s]"
                        ]
                    },
                    "metadata": {},
                    "output_type": "display_data"
                },
                {
                    "data": {
                        "application/vnd.jupyter.widget-view+json": {
                            "model_id": "8a5930b9c3c54ab0bfba1dcee76b0c59",
                            "version_major": 2,
                            "version_minor": 0
                        },
                        "text/plain": [
                            "  0%|          | 0/22 [00:00<?, ?it/s]"
                        ]
                    },
                    "metadata": {},
                    "output_type": "display_data"
                },
                {
                    "data": {
                        "application/vnd.jupyter.widget-view+json": {
                            "model_id": "94703b50f4284548882600c356d8090c",
                            "version_major": 2,
                            "version_minor": 0
                        },
                        "text/plain": [
                            "  0%|          | 0/1 [00:00<?, ?it/s]"
                        ]
                    },
                    "metadata": {},
                    "output_type": "display_data"
                },
                {
                    "data": {
                        "application/vnd.jupyter.widget-view+json": {
                            "model_id": "9aeb7c55930c4dcc968e309363c93ddd",
                            "version_major": 2,
                            "version_minor": 0
                        },
                        "text/plain": [
                            "  0%|          | 0/1 [00:00<?, ?it/s]"
                        ]
                    },
                    "metadata": {},
                    "output_type": "display_data"
                },
                {
                    "data": {
                        "application/vnd.jupyter.widget-view+json": {
                            "model_id": "73c8ca1bfa7f4dedb00a97d743adb816",
                            "version_major": 2,
                            "version_minor": 0
                        },
                        "text/plain": [
                            "  0%|          | 0/1 [00:00<?, ?it/s]"
                        ]
                    },
                    "metadata": {},
                    "output_type": "display_data"
                },
                {
                    "data": {
                        "application/vnd.jupyter.widget-view+json": {
                            "model_id": "bd5490dc72a04e118384ce9382028bd3",
                            "version_major": 2,
                            "version_minor": 0
                        },
                        "text/plain": [
                            "  0%|          | 0/22 [00:00<?, ?it/s]"
                        ]
                    },
                    "metadata": {},
                    "output_type": "display_data"
                },
                {
                    "data": {
                        "application/vnd.jupyter.widget-view+json": {
                            "model_id": "9bc210a0da9a4ee092993654f1118a8c",
                            "version_major": 2,
                            "version_minor": 0
                        },
                        "text/plain": [
                            "  0%|          | 0/1 [00:00<?, ?it/s]"
                        ]
                    },
                    "metadata": {},
                    "output_type": "display_data"
                },
                {
                    "data": {
                        "application/vnd.jupyter.widget-view+json": {
                            "model_id": "ebcebf87fb4645f6b6100af00e0e4831",
                            "version_major": 2,
                            "version_minor": 0
                        },
                        "text/plain": [
                            "  0%|          | 0/1 [00:00<?, ?it/s]"
                        ]
                    },
                    "metadata": {},
                    "output_type": "display_data"
                },
                {
                    "data": {
                        "application/vnd.jupyter.widget-view+json": {
                            "model_id": "8f5bf9cc51914c1c9f9d5a4f93908d8f",
                            "version_major": 2,
                            "version_minor": 0
                        },
                        "text/plain": [
                            "  0%|          | 0/1 [00:00<?, ?it/s]"
                        ]
                    },
                    "metadata": {},
                    "output_type": "display_data"
                },
                {
                    "data": {
                        "application/vnd.jupyter.widget-view+json": {
                            "model_id": "2c21669c29df436d9a000bc9fdc1562c",
                            "version_major": 2,
                            "version_minor": 0
                        },
                        "text/plain": [
                            "  0%|          | 0/22 [00:00<?, ?it/s]"
                        ]
                    },
                    "metadata": {},
                    "output_type": "display_data"
                },
                {
                    "data": {
                        "application/vnd.jupyter.widget-view+json": {
                            "model_id": "541ea962bf3f4c3a88f3869346ececbc",
                            "version_major": 2,
                            "version_minor": 0
                        },
                        "text/plain": [
                            "  0%|          | 0/1 [00:00<?, ?it/s]"
                        ]
                    },
                    "metadata": {},
                    "output_type": "display_data"
                },
                {
                    "data": {
                        "application/vnd.jupyter.widget-view+json": {
                            "model_id": "b05da862360e481fb0d1825fe7cc5121",
                            "version_major": 2,
                            "version_minor": 0
                        },
                        "text/plain": [
                            "  0%|          | 0/1 [00:00<?, ?it/s]"
                        ]
                    },
                    "metadata": {},
                    "output_type": "display_data"
                },
                {
                    "data": {
                        "application/vnd.jupyter.widget-view+json": {
                            "model_id": "3b071d4881d64e22823603c0a6cde6a0",
                            "version_major": 2,
                            "version_minor": 0
                        },
                        "text/plain": [
                            "  0%|          | 0/1 [00:00<?, ?it/s]"
                        ]
                    },
                    "metadata": {},
                    "output_type": "display_data"
                },
                {
                    "data": {
                        "application/vnd.jupyter.widget-view+json": {
                            "model_id": "bc8fb07a832f469197c98660b7bb4631",
                            "version_major": 2,
                            "version_minor": 0
                        },
                        "text/plain": [
                            "  0%|          | 0/22 [00:00<?, ?it/s]"
                        ]
                    },
                    "metadata": {},
                    "output_type": "display_data"
                },
                {
                    "data": {
                        "text/html": [
                            "<div>\n",
                            "<style scoped>\n",
                            "    .dataframe tbody tr th:only-of-type {\n",
                            "        vertical-align: middle;\n",
                            "    }\n",
                            "\n",
                            "    .dataframe tbody tr th {\n",
                            "        vertical-align: top;\n",
                            "    }\n",
                            "\n",
                            "    .dataframe thead th {\n",
                            "        text-align: right;\n",
                            "    }\n",
                            "</style>\n",
                            "<table border=\"1\" class=\"dataframe\">\n",
                            "  <thead>\n",
                            "    <tr style=\"text-align: right;\">\n",
                            "      <th></th>\n",
                            "      <th>Metadata_Time</th>\n",
                            "      <th>Metadata_treatment</th>\n",
                            "      <th>Metadata_reference_index</th>\n",
                            "      <th>mean_average_precision</th>\n",
                            "      <th>indices</th>\n",
                            "      <th>p_value</th>\n",
                            "      <th>corrected_p_value</th>\n",
                            "      <th>below_p</th>\n",
                            "      <th>below_corrected_p</th>\n",
                            "      <th>-log10(p-value)</th>\n",
                            "      <th>percentage_of_cells</th>\n",
                            "      <th>seed</th>\n",
                            "      <th>shuffle</th>\n",
                            "    </tr>\n",
                            "  </thead>\n",
                            "  <tbody>\n",
                            "    <tr>\n",
                            "      <th>0</th>\n",
                            "      <td>00</td>\n",
                            "      <td>Ab1-42 0.4 uM</td>\n",
                            "      <td>-1</td>\n",
                            "      <td>0.716667</td>\n",
                            "      <td>[63, 64, 65]</td>\n",
                            "      <td>0.299861</td>\n",
                            "      <td>0.471210</td>\n",
                            "      <td>False</td>\n",
                            "      <td>False</td>\n",
                            "      <td>0.326786</td>\n",
                            "      <td>0.4</td>\n",
                            "      <td>0</td>\n",
                            "      <td>False</td>\n",
                            "    </tr>\n",
                            "    <tr>\n",
                            "      <th>1</th>\n",
                            "      <td>00</td>\n",
                            "      <td>Ab1-42 10 uM</td>\n",
                            "      <td>-1</td>\n",
                            "      <td>0.719444</td>\n",
                            "      <td>[52, 54, 56]</td>\n",
                            "      <td>0.299861</td>\n",
                            "      <td>0.471210</td>\n",
                            "      <td>False</td>\n",
                            "      <td>False</td>\n",
                            "      <td>0.326786</td>\n",
                            "      <td>0.4</td>\n",
                            "      <td>0</td>\n",
                            "      <td>False</td>\n",
                            "    </tr>\n",
                            "    <tr>\n",
                            "      <th>2</th>\n",
                            "      <td>00</td>\n",
                            "      <td>Ab1-42 2 uM</td>\n",
                            "      <td>-1</td>\n",
                            "      <td>0.525000</td>\n",
                            "      <td>[58, 60, 62]</td>\n",
                            "      <td>0.499343</td>\n",
                            "      <td>0.549277</td>\n",
                            "      <td>False</td>\n",
                            "      <td>False</td>\n",
                            "      <td>0.260209</td>\n",
                            "      <td>0.4</td>\n",
                            "      <td>0</td>\n",
                            "      <td>False</td>\n",
                            "    </tr>\n",
                            "    <tr>\n",
                            "      <th>3</th>\n",
                            "      <td>00</td>\n",
                            "      <td>Flagellin 0.1 ug/ml</td>\n",
                            "      <td>-1</td>\n",
                            "      <td>0.352778</td>\n",
                            "      <td>[39, 41, 43]</td>\n",
                            "      <td>0.899782</td>\n",
                            "      <td>0.899782</td>\n",
                            "      <td>False</td>\n",
                            "      <td>False</td>\n",
                            "      <td>0.045863</td>\n",
                            "      <td>0.4</td>\n",
                            "      <td>0</td>\n",
                            "      <td>False</td>\n",
                            "    </tr>\n",
                            "    <tr>\n",
                            "      <th>4</th>\n",
                            "      <td>00</td>\n",
                            "      <td>Flagellin 1 ug/ml</td>\n",
                            "      <td>-1</td>\n",
                            "      <td>0.555556</td>\n",
                            "      <td>[33, 35, 37]</td>\n",
                            "      <td>0.499343</td>\n",
                            "      <td>0.549277</td>\n",
                            "      <td>False</td>\n",
                            "      <td>False</td>\n",
                            "      <td>0.260209</td>\n",
                            "      <td>0.4</td>\n",
                            "      <td>0</td>\n",
                            "      <td>False</td>\n",
                            "    </tr>\n",
                            "  </tbody>\n",
                            "</table>\n",
                            "</div>"
                        ],
                        "text/plain": [
                            "  Metadata_Time   Metadata_treatment  Metadata_reference_index  \\\n",
                            "0            00        Ab1-42 0.4 uM                        -1   \n",
                            "1            00         Ab1-42 10 uM                        -1   \n",
                            "2            00          Ab1-42 2 uM                        -1   \n",
                            "3            00  Flagellin 0.1 ug/ml                        -1   \n",
                            "4            00    Flagellin 1 ug/ml                        -1   \n",
                            "\n",
                            "   mean_average_precision       indices   p_value  corrected_p_value  below_p  \\\n",
                            "0                0.716667  [63, 64, 65]  0.299861           0.471210    False   \n",
                            "1                0.719444  [52, 54, 56]  0.299861           0.471210    False   \n",
                            "2                0.525000  [58, 60, 62]  0.499343           0.549277    False   \n",
                            "3                0.352778  [39, 41, 43]  0.899782           0.899782    False   \n",
                            "4                0.555556  [33, 35, 37]  0.499343           0.549277    False   \n",
                            "\n",
                            "   below_corrected_p  -log10(p-value)  percentage_of_cells  seed  shuffle  \n",
                            "0              False         0.326786                  0.4     0    False  \n",
                            "1              False         0.326786                  0.4     0    False  \n",
                            "2              False         0.260209                  0.4     0    False  \n",
                            "3              False         0.045863                  0.4     0    False  \n",
                            "4              False         0.260209                  0.4     0    False  "
                        ]
                    },
                    "execution_count": 6,
                    "metadata": {},
                    "output_type": "execute_result"
                }
            ],
            "source": [
                "random.seed(set_seed)\n",
                "subset_df = df.groupby([\"Metadata_Time\", \"Metadata_treatment\"]).apply(\n",
                "    lambda x: x.sample(frac=percentage, random_state=set_seed),\n",
                "    include_groups=False,\n",
                ")\n",
                "if shuffle:\n",
                "    random.seed(0)\n",
                "    # permutate the data\n",
                "    for col in subset_df.columns:\n",
                "        subset_df[col] = np.random.permutation(subset_df[col])\n",
                "metadata_cols = [cols for cols in df.columns if \"Metadata\" in cols]\n",
                "features_cols = [cols for cols in df.columns if \"Metadata\" not in cols]\n",
                "features_cols = features_cols + [\"Metadata_number_of_singlecells\"]\n",
                "aggregate_df = pycytominer.aggregate(\n",
                "    population_df=df,\n",
                "    strata=[\"Metadata_Well\", \"Metadata_Time\"],\n",
                "    features=features_cols,\n",
                "    operation=\"median\",\n",
                ")\n",
                "# Drop metadata columns\n",
                "metadata_cols = [x for x in metadata_cols if x not in sc_metadata_cols_to_drop]\n",
                "\n",
                "metadata_df = df[metadata_cols]\n",
                "metadata_df = metadata_df.drop_duplicates()\n",
                "aggregate_df = pd.merge(\n",
                "    metadata_df, aggregate_df, on=[\"Metadata_Well\", \"Metadata_Time\"]\n",
                ")\n",
                "dict_of_map_dfs = run_mAP_across_time(aggregate_df)\n",
                "output_df = pd.concat(dict_of_map_dfs.values(), keys=dict_of_map_dfs.keys())\n",
                "output_df.reset_index(inplace=True)\n",
                "output_df.rename(columns={\"level_0\": \"Metadata_Time\"}, inplace=True)\n",
                "# add the percentage of cells to the keys\n",
                "output_df[\"percentage_of_cells\"] = percentage\n",
                "output_df[\"seed\"] = set_seed\n",
                "output_df[\"shuffle\"] = shuffle\n",
                "output_df.reset_index(drop=True, inplace=True)\n",
                "output_df.to_parquet(output_file)\n",
                "output_df.head()"
            ]
        }
    ],
    "metadata": {
        "kernelspec": {
            "display_name": "timelapse_map_env",
            "language": "python",
            "name": "python3"
        },
        "language_info": {
            "codemirror_mode": {
                "name": "ipython",
                "version": 3
            },
            "file_extension": ".py",
            "mimetype": "text/x-python",
            "name": "python",
            "nbconvert_exporter": "python",
            "pygments_lexer": "ipython3",
            "version": "3.11.11"
        }
    },
    "nbformat": 4,
    "nbformat_minor": 2
}
