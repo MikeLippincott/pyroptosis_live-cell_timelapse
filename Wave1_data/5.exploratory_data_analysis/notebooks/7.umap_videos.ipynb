{
    "cells": [
        {
            "cell_type": "markdown",
            "metadata": {},
            "source": [
                "This notebook visualizes the exploratory data analysis. \n",
                "Specifically the UMAP and PCA plots of the data."
            ]
        },
        {
            "cell_type": "code",
            "execution_count": 1,
            "metadata": {
                "vscode": {
                    "languageId": "r"
                }
            },
            "outputs": [],
            "source": [
                "suppressWarnings(suppressPackageStartupMessages(library(ggplot2)))\n",
                "suppressWarnings(suppressPackageStartupMessages(library(cowplot)))\n",
                "suppressWarnings(suppressPackageStartupMessages(library(dplyr)))\n",
                "suppressWarnings(suppressPackageStartupMessages(library(arrow)))\n",
                "suppressWarnings(suppressPackageStartupMessages(library(argparse)))\n",
                "suppressWarnings(suppressPackageStartupMessages(library(gifski)))\n",
                "if (!requireNamespace(\"gganimate\", quietly = TRUE)) {\n",
                "  install.packages(\"gganimate\")\n",
                "}\n",
                "suppressWarnings(suppressPackageStartupMessages(library(gganimate)))"
            ]
        },
        {
            "cell_type": "code",
            "execution_count": 2,
            "metadata": {
                "vscode": {
                    "languageId": "r"
                }
            },
            "outputs": [],
            "source": [
                "# argparser <- ArgumentParser()\n",
                "# argparser$add_argument(\"--dataset\", help=\"Input file\", required=TRUE)\n",
                "\n",
                "# args <- argparser$parse_args()\n",
                "\n",
                "# data_set <- args$dataset\n",
                "\n",
                "data_set <- \"first_time\""
            ]
        },
        {
            "cell_type": "code",
            "execution_count": 3,
            "metadata": {
                "vscode": {
                    "languageId": "r"
                }
            },
            "outputs": [],
            "source": [
                "input_data_path <- file.path(\"..\",\"data\",data_set)"
            ]
        },
        {
            "cell_type": "code",
            "execution_count": 4,
            "metadata": {
                "vscode": {
                    "languageId": "r"
                }
            },
            "outputs": [],
            "source": [
                "# set the path to the data to visualize\n",
                "umap_data_path <- file.path(input_data_path,\"umap_embeddings.parquet\")\n",
                "pca_data_path <- file.path(input_data_path,\"pca_embeddings.parquet\")\n",
                "scree_data_path <- file.path(input_data_path,\"scree_plot.parquet\")\n",
                "\n",
                "# read the data\n",
                "umap_data <- arrow::read_parquet(umap_data_path)\n",
                "pca_data <- arrow::read_parquet(pca_data_path)\n",
                "scree_data <- arrow::read_parquet(scree_data_path)"
            ]
        },
        {
            "cell_type": "code",
            "execution_count": 5,
            "metadata": {
                "vscode": {
                    "languageId": "r"
                }
            },
            "outputs": [
                {
                    "data": {
                        "text/html": [
                            "<style>\n",
                            ".list-inline {list-style: none; margin:0; padding: 0}\n",
                            ".list-inline>li {display: inline-block}\n",
                            ".list-inline>li:not(:last-child)::after {content: \"\\00b7\"; padding: 0 .5ex}\n",
                            "</style>\n",
                            "<ol class=list-inline><li>3820888</li><li>35</li></ol>\n"
                        ],
                        "text/latex": [
                            "\\begin{enumerate*}\n",
                            "\\item 3820888\n",
                            "\\item 35\n",
                            "\\end{enumerate*}\n"
                        ],
                        "text/markdown": [
                            "1. 3820888\n",
                            "2. 35\n",
                            "\n",
                            "\n"
                        ],
                        "text/plain": [
                            "[1] 3820888      35"
                        ]
                    },
                    "metadata": {},
                    "output_type": "display_data"
                },
                {
                    "data": {
                        "text/html": [
                            "<style>\n",
                            ".list-inline {list-style: none; margin:0; padding: 0}\n",
                            ".list-inline>li {display: inline-block}\n",
                            ".list-inline>li:not(:last-child)::after {content: \"\\00b7\"; padding: 0 .5ex}\n",
                            "</style>\n",
                            "<ol class=list-inline><li>8223</li><li>35</li></ol>\n"
                        ],
                        "text/latex": [
                            "\\begin{enumerate*}\n",
                            "\\item 8223\n",
                            "\\item 35\n",
                            "\\end{enumerate*}\n"
                        ],
                        "text/markdown": [
                            "1. 8223\n",
                            "2. 35\n",
                            "\n",
                            "\n"
                        ],
                        "text/plain": [
                            "[1] 8223   35"
                        ]
                    },
                    "metadata": {},
                    "output_type": "display_data"
                }
            ],
            "source": [
                "# sample from well, fov, and time \n",
                "dim(umap_data)\n",
                "umap_data <- umap_data %>% \n",
                "  group_by(Metadata_Well, Metadata_FOV, Metadata_Time) %>% \n",
                "  sample_n(1) %>% \n",
                "  ungroup()\n",
                "dim(umap_data)"
            ]
        },
        {
            "cell_type": "code",
            "execution_count": 6,
            "metadata": {
                "vscode": {
                    "languageId": "r"
                }
            },
            "outputs": [
                {
                    "data": {
                        "text/html": [
                            "<table class=\"dataframe\">\n",
                            "<caption>A tibble: 6 \u00d7 35</caption>\n",
                            "<thead>\n",
                            "\t<tr><th scope=col>Metadata_treatment</th><th scope=col>Metadata_Well</th><th scope=col>Metadata_number_of_singlecells</th><th scope=col>Metadata_FOV</th><th scope=col>Metadata_treatment1</th><th scope=col>Metadata_Time</th><th scope=col>Metadata_treatment2</th><th scope=col>Metadata_treatment1_dose</th><th scope=col>Metadata_treatment1_unit</th><th scope=col>Metadata_treatment2_dose</th><th scope=col>\u22ef</th><th scope=col>Metadata_Image_PathName_BF</th><th scope=col>Metadata_Image_PathName_CL488</th><th scope=col>Metadata_Image_PathName_CL561</th><th scope=col>Metadata_Image_PathName_DNA</th><th scope=col>Metadata_Image_PathName_GSDM</th><th scope=col>Metadata_Nuclei_Location_Center_X</th><th scope=col>Metadata_Nuclei_Location_Center_Y</th><th scope=col>Metadata_cells_per_well</th><th scope=col>UMAP0</th><th scope=col>UMAP1</th></tr>\n",
                            "\t<tr><th scope=col>&lt;chr&gt;</th><th scope=col>&lt;chr&gt;</th><th scope=col>&lt;int&gt;</th><th scope=col>&lt;chr&gt;</th><th scope=col>&lt;chr&gt;</th><th scope=col>&lt;chr&gt;</th><th scope=col>&lt;chr&gt;</th><th scope=col>&lt;chr&gt;</th><th scope=col>&lt;chr&gt;</th><th scope=col>&lt;chr&gt;</th><th scope=col>\u22ef</th><th scope=col>&lt;chr&gt;</th><th scope=col>&lt;chr&gt;</th><th scope=col>&lt;chr&gt;</th><th scope=col>&lt;chr&gt;</th><th scope=col>&lt;chr&gt;</th><th scope=col>&lt;dbl&gt;</th><th scope=col>&lt;dbl&gt;</th><th scope=col>&lt;int&gt;</th><th scope=col>&lt;dbl&gt;</th><th scope=col>&lt;dbl&gt;</th></tr>\n",
                            "</thead>\n",
                            "<tbody>\n",
                            "\t<tr><td>Media</td><td>C04</td><td>502</td><td>0001</td><td>Media</td><td>00</td><td>NA</td><td>NA</td><td>NA</td><td>NA</td><td>\u22ef</td><td>/gpfs/alpine1/scratch/mlippincott@xsede.org/pyroptosis_live-cell_timelapse/Wave1_data/2.illumination_correction/illum_directory/W0052_F0001</td><td>/gpfs/alpine1/scratch/mlippincott@xsede.org/pyroptosis_live-cell_timelapse/Wave1_data/2.illumination_correction/illum_directory/W0052_F0001</td><td>/gpfs/alpine1/scratch/mlippincott@xsede.org/pyroptosis_live-cell_timelapse/Wave1_data/2.illumination_correction/illum_directory/W0052_F0001</td><td>/gpfs/alpine1/scratch/mlippincott@xsede.org/pyroptosis_live-cell_timelapse/Wave1_data/2.illumination_correction/illum_directory/W0052_F0001</td><td>/gpfs/alpine1/scratch/mlippincott@xsede.org/pyroptosis_live-cell_timelapse/Wave1_data/2.illumination_correction/illum_directory/W0052_F0001</td><td> 601.2912</td><td>1567.2196</td><td>56443</td><td> 3.8763394</td><td>2.4094985</td></tr>\n",
                            "\t<tr><td>Media</td><td>C04</td><td>533</td><td>0001</td><td>Media</td><td>01</td><td>NA</td><td>NA</td><td>NA</td><td>NA</td><td>\u22ef</td><td>/gpfs/alpine1/scratch/mlippincott@xsede.org/pyroptosis_live-cell_timelapse/Wave1_data/2.illumination_correction/illum_directory/W0052_F0001</td><td>/gpfs/alpine1/scratch/mlippincott@xsede.org/pyroptosis_live-cell_timelapse/Wave1_data/2.illumination_correction/illum_directory/W0052_F0001</td><td>/gpfs/alpine1/scratch/mlippincott@xsede.org/pyroptosis_live-cell_timelapse/Wave1_data/2.illumination_correction/illum_directory/W0052_F0001</td><td>/gpfs/alpine1/scratch/mlippincott@xsede.org/pyroptosis_live-cell_timelapse/Wave1_data/2.illumination_correction/illum_directory/W0052_F0001</td><td>/gpfs/alpine1/scratch/mlippincott@xsede.org/pyroptosis_live-cell_timelapse/Wave1_data/2.illumination_correction/illum_directory/W0052_F0001</td><td>1080.4002</td><td>1734.7233</td><td>56443</td><td> 3.6407273</td><td>0.9986708</td></tr>\n",
                            "\t<tr><td>Media</td><td>C04</td><td>497</td><td>0001</td><td>Media</td><td>02</td><td>NA</td><td>NA</td><td>NA</td><td>NA</td><td>\u22ef</td><td>/gpfs/alpine1/scratch/mlippincott@xsede.org/pyroptosis_live-cell_timelapse/Wave1_data/2.illumination_correction/illum_directory/W0052_F0001</td><td>/gpfs/alpine1/scratch/mlippincott@xsede.org/pyroptosis_live-cell_timelapse/Wave1_data/2.illumination_correction/illum_directory/W0052_F0001</td><td>/gpfs/alpine1/scratch/mlippincott@xsede.org/pyroptosis_live-cell_timelapse/Wave1_data/2.illumination_correction/illum_directory/W0052_F0001</td><td>/gpfs/alpine1/scratch/mlippincott@xsede.org/pyroptosis_live-cell_timelapse/Wave1_data/2.illumination_correction/illum_directory/W0052_F0001</td><td>/gpfs/alpine1/scratch/mlippincott@xsede.org/pyroptosis_live-cell_timelapse/Wave1_data/2.illumination_correction/illum_directory/W0052_F0001</td><td>1146.3812</td><td> 449.3549</td><td>56443</td><td> 3.3844705</td><td>1.1134436</td></tr>\n",
                            "\t<tr><td>Media</td><td>C04</td><td>516</td><td>0001</td><td>Media</td><td>03</td><td>NA</td><td>NA</td><td>NA</td><td>NA</td><td>\u22ef</td><td>/gpfs/alpine1/scratch/mlippincott@xsede.org/pyroptosis_live-cell_timelapse/Wave1_data/2.illumination_correction/illum_directory/W0052_F0001</td><td>/gpfs/alpine1/scratch/mlippincott@xsede.org/pyroptosis_live-cell_timelapse/Wave1_data/2.illumination_correction/illum_directory/W0052_F0001</td><td>/gpfs/alpine1/scratch/mlippincott@xsede.org/pyroptosis_live-cell_timelapse/Wave1_data/2.illumination_correction/illum_directory/W0052_F0001</td><td>/gpfs/alpine1/scratch/mlippincott@xsede.org/pyroptosis_live-cell_timelapse/Wave1_data/2.illumination_correction/illum_directory/W0052_F0001</td><td>/gpfs/alpine1/scratch/mlippincott@xsede.org/pyroptosis_live-cell_timelapse/Wave1_data/2.illumination_correction/illum_directory/W0052_F0001</td><td> 238.5214</td><td>1297.8941</td><td>56443</td><td> 3.6616333</td><td>1.1494745</td></tr>\n",
                            "\t<tr><td>Media</td><td>C04</td><td>513</td><td>0001</td><td>Media</td><td>04</td><td>NA</td><td>NA</td><td>NA</td><td>NA</td><td>\u22ef</td><td>/gpfs/alpine1/scratch/mlippincott@xsede.org/pyroptosis_live-cell_timelapse/Wave1_data/2.illumination_correction/illum_directory/W0052_F0001</td><td>/gpfs/alpine1/scratch/mlippincott@xsede.org/pyroptosis_live-cell_timelapse/Wave1_data/2.illumination_correction/illum_directory/W0052_F0001</td><td>/gpfs/alpine1/scratch/mlippincott@xsede.org/pyroptosis_live-cell_timelapse/Wave1_data/2.illumination_correction/illum_directory/W0052_F0001</td><td>/gpfs/alpine1/scratch/mlippincott@xsede.org/pyroptosis_live-cell_timelapse/Wave1_data/2.illumination_correction/illum_directory/W0052_F0001</td><td>/gpfs/alpine1/scratch/mlippincott@xsede.org/pyroptosis_live-cell_timelapse/Wave1_data/2.illumination_correction/illum_directory/W0052_F0001</td><td>1826.5509</td><td> 109.9335</td><td>56443</td><td> 0.1622963</td><td>1.1005958</td></tr>\n",
                            "\t<tr><td>Media</td><td>C04</td><td>525</td><td>0001</td><td>Media</td><td>05</td><td>NA</td><td>NA</td><td>NA</td><td>NA</td><td>\u22ef</td><td>/gpfs/alpine1/scratch/mlippincott@xsede.org/pyroptosis_live-cell_timelapse/Wave1_data/2.illumination_correction/illum_directory/W0052_F0001</td><td>/gpfs/alpine1/scratch/mlippincott@xsede.org/pyroptosis_live-cell_timelapse/Wave1_data/2.illumination_correction/illum_directory/W0052_F0001</td><td>/gpfs/alpine1/scratch/mlippincott@xsede.org/pyroptosis_live-cell_timelapse/Wave1_data/2.illumination_correction/illum_directory/W0052_F0001</td><td>/gpfs/alpine1/scratch/mlippincott@xsede.org/pyroptosis_live-cell_timelapse/Wave1_data/2.illumination_correction/illum_directory/W0052_F0001</td><td>/gpfs/alpine1/scratch/mlippincott@xsede.org/pyroptosis_live-cell_timelapse/Wave1_data/2.illumination_correction/illum_directory/W0052_F0001</td><td>       NA</td><td>       NA</td><td>56443</td><td>-3.7572844</td><td>5.0627861</td></tr>\n",
                            "</tbody>\n",
                            "</table>\n"
                        ],
                        "text/latex": [
                            "A tibble: 6 \u00d7 35\n",
                            "\\begin{tabular}{lllllllllllllllllllll}\n",
                            " Metadata\\_treatment & Metadata\\_Well & Metadata\\_number\\_of\\_singlecells & Metadata\\_FOV & Metadata\\_treatment1 & Metadata\\_Time & Metadata\\_treatment2 & Metadata\\_treatment1\\_dose & Metadata\\_treatment1\\_unit & Metadata\\_treatment2\\_dose & \u22ef & Metadata\\_Image\\_PathName\\_BF & Metadata\\_Image\\_PathName\\_CL488 & Metadata\\_Image\\_PathName\\_CL561 & Metadata\\_Image\\_PathName\\_DNA & Metadata\\_Image\\_PathName\\_GSDM & Metadata\\_Nuclei\\_Location\\_Center\\_X & Metadata\\_Nuclei\\_Location\\_Center\\_Y & Metadata\\_cells\\_per\\_well & UMAP0 & UMAP1\\\\\n",
                            " <chr> & <chr> & <int> & <chr> & <chr> & <chr> & <chr> & <chr> & <chr> & <chr> & \u22ef & <chr> & <chr> & <chr> & <chr> & <chr> & <dbl> & <dbl> & <int> & <dbl> & <dbl>\\\\\n",
                            "\\hline\n",
                            "\t Media & C04 & 502 & 0001 & Media & 00 & NA & NA & NA & NA & \u22ef & /gpfs/alpine1/scratch/mlippincott@xsede.org/pyroptosis\\_live-cell\\_timelapse/Wave1\\_data/2.illumination\\_correction/illum\\_directory/W0052\\_F0001 & /gpfs/alpine1/scratch/mlippincott@xsede.org/pyroptosis\\_live-cell\\_timelapse/Wave1\\_data/2.illumination\\_correction/illum\\_directory/W0052\\_F0001 & /gpfs/alpine1/scratch/mlippincott@xsede.org/pyroptosis\\_live-cell\\_timelapse/Wave1\\_data/2.illumination\\_correction/illum\\_directory/W0052\\_F0001 & /gpfs/alpine1/scratch/mlippincott@xsede.org/pyroptosis\\_live-cell\\_timelapse/Wave1\\_data/2.illumination\\_correction/illum\\_directory/W0052\\_F0001 & /gpfs/alpine1/scratch/mlippincott@xsede.org/pyroptosis\\_live-cell\\_timelapse/Wave1\\_data/2.illumination\\_correction/illum\\_directory/W0052\\_F0001 &  601.2912 & 1567.2196 & 56443 &  3.8763394 & 2.4094985\\\\\n",
                            "\t Media & C04 & 533 & 0001 & Media & 01 & NA & NA & NA & NA & \u22ef & /gpfs/alpine1/scratch/mlippincott@xsede.org/pyroptosis\\_live-cell\\_timelapse/Wave1\\_data/2.illumination\\_correction/illum\\_directory/W0052\\_F0001 & /gpfs/alpine1/scratch/mlippincott@xsede.org/pyroptosis\\_live-cell\\_timelapse/Wave1\\_data/2.illumination\\_correction/illum\\_directory/W0052\\_F0001 & /gpfs/alpine1/scratch/mlippincott@xsede.org/pyroptosis\\_live-cell\\_timelapse/Wave1\\_data/2.illumination\\_correction/illum\\_directory/W0052\\_F0001 & /gpfs/alpine1/scratch/mlippincott@xsede.org/pyroptosis\\_live-cell\\_timelapse/Wave1\\_data/2.illumination\\_correction/illum\\_directory/W0052\\_F0001 & /gpfs/alpine1/scratch/mlippincott@xsede.org/pyroptosis\\_live-cell\\_timelapse/Wave1\\_data/2.illumination\\_correction/illum\\_directory/W0052\\_F0001 & 1080.4002 & 1734.7233 & 56443 &  3.6407273 & 0.9986708\\\\\n",
                            "\t Media & C04 & 497 & 0001 & Media & 02 & NA & NA & NA & NA & \u22ef & /gpfs/alpine1/scratch/mlippincott@xsede.org/pyroptosis\\_live-cell\\_timelapse/Wave1\\_data/2.illumination\\_correction/illum\\_directory/W0052\\_F0001 & /gpfs/alpine1/scratch/mlippincott@xsede.org/pyroptosis\\_live-cell\\_timelapse/Wave1\\_data/2.illumination\\_correction/illum\\_directory/W0052\\_F0001 & /gpfs/alpine1/scratch/mlippincott@xsede.org/pyroptosis\\_live-cell\\_timelapse/Wave1\\_data/2.illumination\\_correction/illum\\_directory/W0052\\_F0001 & /gpfs/alpine1/scratch/mlippincott@xsede.org/pyroptosis\\_live-cell\\_timelapse/Wave1\\_data/2.illumination\\_correction/illum\\_directory/W0052\\_F0001 & /gpfs/alpine1/scratch/mlippincott@xsede.org/pyroptosis\\_live-cell\\_timelapse/Wave1\\_data/2.illumination\\_correction/illum\\_directory/W0052\\_F0001 & 1146.3812 &  449.3549 & 56443 &  3.3844705 & 1.1134436\\\\\n",
                            "\t Media & C04 & 516 & 0001 & Media & 03 & NA & NA & NA & NA & \u22ef & /gpfs/alpine1/scratch/mlippincott@xsede.org/pyroptosis\\_live-cell\\_timelapse/Wave1\\_data/2.illumination\\_correction/illum\\_directory/W0052\\_F0001 & /gpfs/alpine1/scratch/mlippincott@xsede.org/pyroptosis\\_live-cell\\_timelapse/Wave1\\_data/2.illumination\\_correction/illum\\_directory/W0052\\_F0001 & /gpfs/alpine1/scratch/mlippincott@xsede.org/pyroptosis\\_live-cell\\_timelapse/Wave1\\_data/2.illumination\\_correction/illum\\_directory/W0052\\_F0001 & /gpfs/alpine1/scratch/mlippincott@xsede.org/pyroptosis\\_live-cell\\_timelapse/Wave1\\_data/2.illumination\\_correction/illum\\_directory/W0052\\_F0001 & /gpfs/alpine1/scratch/mlippincott@xsede.org/pyroptosis\\_live-cell\\_timelapse/Wave1\\_data/2.illumination\\_correction/illum\\_directory/W0052\\_F0001 &  238.5214 & 1297.8941 & 56443 &  3.6616333 & 1.1494745\\\\\n",
                            "\t Media & C04 & 513 & 0001 & Media & 04 & NA & NA & NA & NA & \u22ef & /gpfs/alpine1/scratch/mlippincott@xsede.org/pyroptosis\\_live-cell\\_timelapse/Wave1\\_data/2.illumination\\_correction/illum\\_directory/W0052\\_F0001 & /gpfs/alpine1/scratch/mlippincott@xsede.org/pyroptosis\\_live-cell\\_timelapse/Wave1\\_data/2.illumination\\_correction/illum\\_directory/W0052\\_F0001 & /gpfs/alpine1/scratch/mlippincott@xsede.org/pyroptosis\\_live-cell\\_timelapse/Wave1\\_data/2.illumination\\_correction/illum\\_directory/W0052\\_F0001 & /gpfs/alpine1/scratch/mlippincott@xsede.org/pyroptosis\\_live-cell\\_timelapse/Wave1\\_data/2.illumination\\_correction/illum\\_directory/W0052\\_F0001 & /gpfs/alpine1/scratch/mlippincott@xsede.org/pyroptosis\\_live-cell\\_timelapse/Wave1\\_data/2.illumination\\_correction/illum\\_directory/W0052\\_F0001 & 1826.5509 &  109.9335 & 56443 &  0.1622963 & 1.1005958\\\\\n",
                            "\t Media & C04 & 525 & 0001 & Media & 05 & NA & NA & NA & NA & \u22ef & /gpfs/alpine1/scratch/mlippincott@xsede.org/pyroptosis\\_live-cell\\_timelapse/Wave1\\_data/2.illumination\\_correction/illum\\_directory/W0052\\_F0001 & /gpfs/alpine1/scratch/mlippincott@xsede.org/pyroptosis\\_live-cell\\_timelapse/Wave1\\_data/2.illumination\\_correction/illum\\_directory/W0052\\_F0001 & /gpfs/alpine1/scratch/mlippincott@xsede.org/pyroptosis\\_live-cell\\_timelapse/Wave1\\_data/2.illumination\\_correction/illum\\_directory/W0052\\_F0001 & /gpfs/alpine1/scratch/mlippincott@xsede.org/pyroptosis\\_live-cell\\_timelapse/Wave1\\_data/2.illumination\\_correction/illum\\_directory/W0052\\_F0001 & /gpfs/alpine1/scratch/mlippincott@xsede.org/pyroptosis\\_live-cell\\_timelapse/Wave1\\_data/2.illumination\\_correction/illum\\_directory/W0052\\_F0001 &        NA &        NA & 56443 & -3.7572844 & 5.0627861\\\\\n",
                            "\\end{tabular}\n"
                        ],
                        "text/markdown": [
                            "\n",
                            "A tibble: 6 \u00d7 35\n",
                            "\n",
                            "| Metadata_treatment &lt;chr&gt; | Metadata_Well &lt;chr&gt; | Metadata_number_of_singlecells &lt;int&gt; | Metadata_FOV &lt;chr&gt; | Metadata_treatment1 &lt;chr&gt; | Metadata_Time &lt;chr&gt; | Metadata_treatment2 &lt;chr&gt; | Metadata_treatment1_dose &lt;chr&gt; | Metadata_treatment1_unit &lt;chr&gt; | Metadata_treatment2_dose &lt;chr&gt; | \u22ef \u22ef | Metadata_Image_PathName_BF &lt;chr&gt; | Metadata_Image_PathName_CL488 &lt;chr&gt; | Metadata_Image_PathName_CL561 &lt;chr&gt; | Metadata_Image_PathName_DNA &lt;chr&gt; | Metadata_Image_PathName_GSDM &lt;chr&gt; | Metadata_Nuclei_Location_Center_X &lt;dbl&gt; | Metadata_Nuclei_Location_Center_Y &lt;dbl&gt; | Metadata_cells_per_well &lt;int&gt; | UMAP0 &lt;dbl&gt; | UMAP1 &lt;dbl&gt; |\n",
                            "|---|---|---|---|---|---|---|---|---|---|---|---|---|---|---|---|---|---|---|---|---|\n",
                            "| Media | C04 | 502 | 0001 | Media | 00 | NA | NA | NA | NA | \u22ef | /gpfs/alpine1/scratch/mlippincott@xsede.org/pyroptosis_live-cell_timelapse/Wave1_data/2.illumination_correction/illum_directory/W0052_F0001 | /gpfs/alpine1/scratch/mlippincott@xsede.org/pyroptosis_live-cell_timelapse/Wave1_data/2.illumination_correction/illum_directory/W0052_F0001 | /gpfs/alpine1/scratch/mlippincott@xsede.org/pyroptosis_live-cell_timelapse/Wave1_data/2.illumination_correction/illum_directory/W0052_F0001 | /gpfs/alpine1/scratch/mlippincott@xsede.org/pyroptosis_live-cell_timelapse/Wave1_data/2.illumination_correction/illum_directory/W0052_F0001 | /gpfs/alpine1/scratch/mlippincott@xsede.org/pyroptosis_live-cell_timelapse/Wave1_data/2.illumination_correction/illum_directory/W0052_F0001 |  601.2912 | 1567.2196 | 56443 |  3.8763394 | 2.4094985 |\n",
                            "| Media | C04 | 533 | 0001 | Media | 01 | NA | NA | NA | NA | \u22ef | /gpfs/alpine1/scratch/mlippincott@xsede.org/pyroptosis_live-cell_timelapse/Wave1_data/2.illumination_correction/illum_directory/W0052_F0001 | /gpfs/alpine1/scratch/mlippincott@xsede.org/pyroptosis_live-cell_timelapse/Wave1_data/2.illumination_correction/illum_directory/W0052_F0001 | /gpfs/alpine1/scratch/mlippincott@xsede.org/pyroptosis_live-cell_timelapse/Wave1_data/2.illumination_correction/illum_directory/W0052_F0001 | /gpfs/alpine1/scratch/mlippincott@xsede.org/pyroptosis_live-cell_timelapse/Wave1_data/2.illumination_correction/illum_directory/W0052_F0001 | /gpfs/alpine1/scratch/mlippincott@xsede.org/pyroptosis_live-cell_timelapse/Wave1_data/2.illumination_correction/illum_directory/W0052_F0001 | 1080.4002 | 1734.7233 | 56443 |  3.6407273 | 0.9986708 |\n",
                            "| Media | C04 | 497 | 0001 | Media | 02 | NA | NA | NA | NA | \u22ef | /gpfs/alpine1/scratch/mlippincott@xsede.org/pyroptosis_live-cell_timelapse/Wave1_data/2.illumination_correction/illum_directory/W0052_F0001 | /gpfs/alpine1/scratch/mlippincott@xsede.org/pyroptosis_live-cell_timelapse/Wave1_data/2.illumination_correction/illum_directory/W0052_F0001 | /gpfs/alpine1/scratch/mlippincott@xsede.org/pyroptosis_live-cell_timelapse/Wave1_data/2.illumination_correction/illum_directory/W0052_F0001 | /gpfs/alpine1/scratch/mlippincott@xsede.org/pyroptosis_live-cell_timelapse/Wave1_data/2.illumination_correction/illum_directory/W0052_F0001 | /gpfs/alpine1/scratch/mlippincott@xsede.org/pyroptosis_live-cell_timelapse/Wave1_data/2.illumination_correction/illum_directory/W0052_F0001 | 1146.3812 |  449.3549 | 56443 |  3.3844705 | 1.1134436 |\n",
                            "| Media | C04 | 516 | 0001 | Media | 03 | NA | NA | NA | NA | \u22ef | /gpfs/alpine1/scratch/mlippincott@xsede.org/pyroptosis_live-cell_timelapse/Wave1_data/2.illumination_correction/illum_directory/W0052_F0001 | /gpfs/alpine1/scratch/mlippincott@xsede.org/pyroptosis_live-cell_timelapse/Wave1_data/2.illumination_correction/illum_directory/W0052_F0001 | /gpfs/alpine1/scratch/mlippincott@xsede.org/pyroptosis_live-cell_timelapse/Wave1_data/2.illumination_correction/illum_directory/W0052_F0001 | /gpfs/alpine1/scratch/mlippincott@xsede.org/pyroptosis_live-cell_timelapse/Wave1_data/2.illumination_correction/illum_directory/W0052_F0001 | /gpfs/alpine1/scratch/mlippincott@xsede.org/pyroptosis_live-cell_timelapse/Wave1_data/2.illumination_correction/illum_directory/W0052_F0001 |  238.5214 | 1297.8941 | 56443 |  3.6616333 | 1.1494745 |\n",
                            "| Media | C04 | 513 | 0001 | Media | 04 | NA | NA | NA | NA | \u22ef | /gpfs/alpine1/scratch/mlippincott@xsede.org/pyroptosis_live-cell_timelapse/Wave1_data/2.illumination_correction/illum_directory/W0052_F0001 | /gpfs/alpine1/scratch/mlippincott@xsede.org/pyroptosis_live-cell_timelapse/Wave1_data/2.illumination_correction/illum_directory/W0052_F0001 | /gpfs/alpine1/scratch/mlippincott@xsede.org/pyroptosis_live-cell_timelapse/Wave1_data/2.illumination_correction/illum_directory/W0052_F0001 | /gpfs/alpine1/scratch/mlippincott@xsede.org/pyroptosis_live-cell_timelapse/Wave1_data/2.illumination_correction/illum_directory/W0052_F0001 | /gpfs/alpine1/scratch/mlippincott@xsede.org/pyroptosis_live-cell_timelapse/Wave1_data/2.illumination_correction/illum_directory/W0052_F0001 | 1826.5509 |  109.9335 | 56443 |  0.1622963 | 1.1005958 |\n",
                            "| Media | C04 | 525 | 0001 | Media | 05 | NA | NA | NA | NA | \u22ef | /gpfs/alpine1/scratch/mlippincott@xsede.org/pyroptosis_live-cell_timelapse/Wave1_data/2.illumination_correction/illum_directory/W0052_F0001 | /gpfs/alpine1/scratch/mlippincott@xsede.org/pyroptosis_live-cell_timelapse/Wave1_data/2.illumination_correction/illum_directory/W0052_F0001 | /gpfs/alpine1/scratch/mlippincott@xsede.org/pyroptosis_live-cell_timelapse/Wave1_data/2.illumination_correction/illum_directory/W0052_F0001 | /gpfs/alpine1/scratch/mlippincott@xsede.org/pyroptosis_live-cell_timelapse/Wave1_data/2.illumination_correction/illum_directory/W0052_F0001 | /gpfs/alpine1/scratch/mlippincott@xsede.org/pyroptosis_live-cell_timelapse/Wave1_data/2.illumination_correction/illum_directory/W0052_F0001 |        NA |        NA | 56443 | -3.7572844 | 5.0627861 |\n",
                            "\n"
                        ],
                        "text/plain": [
                            "  Metadata_treatment Metadata_Well Metadata_number_of_singlecells Metadata_FOV\n",
                            "1 Media              C04           502                            0001        \n",
                            "2 Media              C04           533                            0001        \n",
                            "3 Media              C04           497                            0001        \n",
                            "4 Media              C04           516                            0001        \n",
                            "5 Media              C04           513                            0001        \n",
                            "6 Media              C04           525                            0001        \n",
                            "  Metadata_treatment1 Metadata_Time Metadata_treatment2\n",
                            "1 Media               00            NA                 \n",
                            "2 Media               01            NA                 \n",
                            "3 Media               02            NA                 \n",
                            "4 Media               03            NA                 \n",
                            "5 Media               04            NA                 \n",
                            "6 Media               05            NA                 \n",
                            "  Metadata_treatment1_dose Metadata_treatment1_unit Metadata_treatment2_dose \u22ef\n",
                            "1 NA                       NA                       NA                       \u22ef\n",
                            "2 NA                       NA                       NA                       \u22ef\n",
                            "3 NA                       NA                       NA                       \u22ef\n",
                            "4 NA                       NA                       NA                       \u22ef\n",
                            "5 NA                       NA                       NA                       \u22ef\n",
                            "6 NA                       NA                       NA                       \u22ef\n",
                            "  Metadata_Image_PathName_BF                                                                                                                 \n",
                            "1 /gpfs/alpine1/scratch/mlippincott@xsede.org/pyroptosis_live-cell_timelapse/Wave1_data/2.illumination_correction/illum_directory/W0052_F0001\n",
                            "2 /gpfs/alpine1/scratch/mlippincott@xsede.org/pyroptosis_live-cell_timelapse/Wave1_data/2.illumination_correction/illum_directory/W0052_F0001\n",
                            "3 /gpfs/alpine1/scratch/mlippincott@xsede.org/pyroptosis_live-cell_timelapse/Wave1_data/2.illumination_correction/illum_directory/W0052_F0001\n",
                            "4 /gpfs/alpine1/scratch/mlippincott@xsede.org/pyroptosis_live-cell_timelapse/Wave1_data/2.illumination_correction/illum_directory/W0052_F0001\n",
                            "5 /gpfs/alpine1/scratch/mlippincott@xsede.org/pyroptosis_live-cell_timelapse/Wave1_data/2.illumination_correction/illum_directory/W0052_F0001\n",
                            "6 /gpfs/alpine1/scratch/mlippincott@xsede.org/pyroptosis_live-cell_timelapse/Wave1_data/2.illumination_correction/illum_directory/W0052_F0001\n",
                            "  Metadata_Image_PathName_CL488                                                                                                              \n",
                            "1 /gpfs/alpine1/scratch/mlippincott@xsede.org/pyroptosis_live-cell_timelapse/Wave1_data/2.illumination_correction/illum_directory/W0052_F0001\n",
                            "2 /gpfs/alpine1/scratch/mlippincott@xsede.org/pyroptosis_live-cell_timelapse/Wave1_data/2.illumination_correction/illum_directory/W0052_F0001\n",
                            "3 /gpfs/alpine1/scratch/mlippincott@xsede.org/pyroptosis_live-cell_timelapse/Wave1_data/2.illumination_correction/illum_directory/W0052_F0001\n",
                            "4 /gpfs/alpine1/scratch/mlippincott@xsede.org/pyroptosis_live-cell_timelapse/Wave1_data/2.illumination_correction/illum_directory/W0052_F0001\n",
                            "5 /gpfs/alpine1/scratch/mlippincott@xsede.org/pyroptosis_live-cell_timelapse/Wave1_data/2.illumination_correction/illum_directory/W0052_F0001\n",
                            "6 /gpfs/alpine1/scratch/mlippincott@xsede.org/pyroptosis_live-cell_timelapse/Wave1_data/2.illumination_correction/illum_directory/W0052_F0001\n",
                            "  Metadata_Image_PathName_CL561                                                                                                              \n",
                            "1 /gpfs/alpine1/scratch/mlippincott@xsede.org/pyroptosis_live-cell_timelapse/Wave1_data/2.illumination_correction/illum_directory/W0052_F0001\n",
                            "2 /gpfs/alpine1/scratch/mlippincott@xsede.org/pyroptosis_live-cell_timelapse/Wave1_data/2.illumination_correction/illum_directory/W0052_F0001\n",
                            "3 /gpfs/alpine1/scratch/mlippincott@xsede.org/pyroptosis_live-cell_timelapse/Wave1_data/2.illumination_correction/illum_directory/W0052_F0001\n",
                            "4 /gpfs/alpine1/scratch/mlippincott@xsede.org/pyroptosis_live-cell_timelapse/Wave1_data/2.illumination_correction/illum_directory/W0052_F0001\n",
                            "5 /gpfs/alpine1/scratch/mlippincott@xsede.org/pyroptosis_live-cell_timelapse/Wave1_data/2.illumination_correction/illum_directory/W0052_F0001\n",
                            "6 /gpfs/alpine1/scratch/mlippincott@xsede.org/pyroptosis_live-cell_timelapse/Wave1_data/2.illumination_correction/illum_directory/W0052_F0001\n",
                            "  Metadata_Image_PathName_DNA                                                                                                                \n",
                            "1 /gpfs/alpine1/scratch/mlippincott@xsede.org/pyroptosis_live-cell_timelapse/Wave1_data/2.illumination_correction/illum_directory/W0052_F0001\n",
                            "2 /gpfs/alpine1/scratch/mlippincott@xsede.org/pyroptosis_live-cell_timelapse/Wave1_data/2.illumination_correction/illum_directory/W0052_F0001\n",
                            "3 /gpfs/alpine1/scratch/mlippincott@xsede.org/pyroptosis_live-cell_timelapse/Wave1_data/2.illumination_correction/illum_directory/W0052_F0001\n",
                            "4 /gpfs/alpine1/scratch/mlippincott@xsede.org/pyroptosis_live-cell_timelapse/Wave1_data/2.illumination_correction/illum_directory/W0052_F0001\n",
                            "5 /gpfs/alpine1/scratch/mlippincott@xsede.org/pyroptosis_live-cell_timelapse/Wave1_data/2.illumination_correction/illum_directory/W0052_F0001\n",
                            "6 /gpfs/alpine1/scratch/mlippincott@xsede.org/pyroptosis_live-cell_timelapse/Wave1_data/2.illumination_correction/illum_directory/W0052_F0001\n",
                            "  Metadata_Image_PathName_GSDM                                                                                                               \n",
                            "1 /gpfs/alpine1/scratch/mlippincott@xsede.org/pyroptosis_live-cell_timelapse/Wave1_data/2.illumination_correction/illum_directory/W0052_F0001\n",
                            "2 /gpfs/alpine1/scratch/mlippincott@xsede.org/pyroptosis_live-cell_timelapse/Wave1_data/2.illumination_correction/illum_directory/W0052_F0001\n",
                            "3 /gpfs/alpine1/scratch/mlippincott@xsede.org/pyroptosis_live-cell_timelapse/Wave1_data/2.illumination_correction/illum_directory/W0052_F0001\n",
                            "4 /gpfs/alpine1/scratch/mlippincott@xsede.org/pyroptosis_live-cell_timelapse/Wave1_data/2.illumination_correction/illum_directory/W0052_F0001\n",
                            "5 /gpfs/alpine1/scratch/mlippincott@xsede.org/pyroptosis_live-cell_timelapse/Wave1_data/2.illumination_correction/illum_directory/W0052_F0001\n",
                            "6 /gpfs/alpine1/scratch/mlippincott@xsede.org/pyroptosis_live-cell_timelapse/Wave1_data/2.illumination_correction/illum_directory/W0052_F0001\n",
                            "  Metadata_Nuclei_Location_Center_X Metadata_Nuclei_Location_Center_Y\n",
                            "1  601.2912                         1567.2196                        \n",
                            "2 1080.4002                         1734.7233                        \n",
                            "3 1146.3812                          449.3549                        \n",
                            "4  238.5214                         1297.8941                        \n",
                            "5 1826.5509                          109.9335                        \n",
                            "6        NA                                NA                        \n",
                            "  Metadata_cells_per_well UMAP0      UMAP1    \n",
                            "1 56443                    3.8763394 2.4094985\n",
                            "2 56443                    3.6407273 0.9986708\n",
                            "3 56443                    3.3844705 1.1134436\n",
                            "4 56443                    3.6616333 1.1494745\n",
                            "5 56443                    0.1622963 1.1005958\n",
                            "6 56443                   -3.7572844 5.0627861"
                        ]
                    },
                    "metadata": {},
                    "output_type": "display_data"
                }
            ],
            "source": [
                "head(umap_data)"
            ]
        },
        {
            "cell_type": "code",
            "execution_count": 7,
            "metadata": {
                "vscode": {
                    "languageId": "r"
                }
            },
            "outputs": [
                {
                    "data": {
                        "text/html": [
                            "<table class=\"dataframe\">\n",
                            "<caption>A tibble: 6 \u00d7 37</caption>\n",
                            "<thead>\n",
                            "\t<tr><th scope=col>Metadata_treatment</th><th scope=col>Metadata_Well</th><th scope=col>Metadata_number_of_singlecells</th><th scope=col>Metadata_FOV</th><th scope=col>Metadata_treatment1</th><th scope=col>Metadata_Time</th><th scope=col>Metadata_treatment2</th><th scope=col>Metadata_treatment1_dose</th><th scope=col>Metadata_treatment1_unit</th><th scope=col>Metadata_treatment2_dose</th><th scope=col>\u22ef</th><th scope=col>Metadata_Image_PathName_CL561</th><th scope=col>Metadata_Image_PathName_DNA</th><th scope=col>Metadata_Image_PathName_GSDM</th><th scope=col>Metadata_Nuclei_Location_Center_X</th><th scope=col>Metadata_Nuclei_Location_Center_Y</th><th scope=col>Metadata_cells_per_well</th><th scope=col>UMAP0</th><th scope=col>UMAP1</th><th scope=col>Metadata_timepoint</th><th scope=col>Metadata_timepoint_hours</th></tr>\n",
                            "\t<tr><th scope=col>&lt;chr&gt;</th><th scope=col>&lt;chr&gt;</th><th scope=col>&lt;int&gt;</th><th scope=col>&lt;chr&gt;</th><th scope=col>&lt;chr&gt;</th><th scope=col>&lt;chr&gt;</th><th scope=col>&lt;chr&gt;</th><th scope=col>&lt;chr&gt;</th><th scope=col>&lt;chr&gt;</th><th scope=col>&lt;chr&gt;</th><th scope=col>\u22ef</th><th scope=col>&lt;chr&gt;</th><th scope=col>&lt;chr&gt;</th><th scope=col>&lt;chr&gt;</th><th scope=col>&lt;dbl&gt;</th><th scope=col>&lt;dbl&gt;</th><th scope=col>&lt;int&gt;</th><th scope=col>&lt;dbl&gt;</th><th scope=col>&lt;dbl&gt;</th><th scope=col>&lt;dbl&gt;</th><th scope=col>&lt;chr&gt;</th></tr>\n",
                            "</thead>\n",
                            "<tbody>\n",
                            "\t<tr><td>Media</td><td>C04</td><td>502</td><td>0001</td><td>Media</td><td>00</td><td>NA</td><td>NA</td><td>NA</td><td>NA</td><td>\u22ef</td><td>/gpfs/alpine1/scratch/mlippincott@xsede.org/pyroptosis_live-cell_timelapse/Wave1_data/2.illumination_correction/illum_directory/W0052_F0001</td><td>/gpfs/alpine1/scratch/mlippincott@xsede.org/pyroptosis_live-cell_timelapse/Wave1_data/2.illumination_correction/illum_directory/W0052_F0001</td><td>/gpfs/alpine1/scratch/mlippincott@xsede.org/pyroptosis_live-cell_timelapse/Wave1_data/2.illumination_correction/illum_directory/W0052_F0001</td><td> 601.2912</td><td>1567.2196</td><td>56443</td><td> 3.8763394</td><td>2.4094985</td><td> 1</td><td>1 hours </td></tr>\n",
                            "\t<tr><td>Media</td><td>C04</td><td>533</td><td>0001</td><td>Media</td><td>01</td><td>NA</td><td>NA</td><td>NA</td><td>NA</td><td>\u22ef</td><td>/gpfs/alpine1/scratch/mlippincott@xsede.org/pyroptosis_live-cell_timelapse/Wave1_data/2.illumination_correction/illum_directory/W0052_F0001</td><td>/gpfs/alpine1/scratch/mlippincott@xsede.org/pyroptosis_live-cell_timelapse/Wave1_data/2.illumination_correction/illum_directory/W0052_F0001</td><td>/gpfs/alpine1/scratch/mlippincott@xsede.org/pyroptosis_live-cell_timelapse/Wave1_data/2.illumination_correction/illum_directory/W0052_F0001</td><td>1080.4002</td><td>1734.7233</td><td>56443</td><td> 3.6407273</td><td>0.9986708</td><td> 4</td><td>4 hours </td></tr>\n",
                            "\t<tr><td>Media</td><td>C04</td><td>497</td><td>0001</td><td>Media</td><td>02</td><td>NA</td><td>NA</td><td>NA</td><td>NA</td><td>\u22ef</td><td>/gpfs/alpine1/scratch/mlippincott@xsede.org/pyroptosis_live-cell_timelapse/Wave1_data/2.illumination_correction/illum_directory/W0052_F0001</td><td>/gpfs/alpine1/scratch/mlippincott@xsede.org/pyroptosis_live-cell_timelapse/Wave1_data/2.illumination_correction/illum_directory/W0052_F0001</td><td>/gpfs/alpine1/scratch/mlippincott@xsede.org/pyroptosis_live-cell_timelapse/Wave1_data/2.illumination_correction/illum_directory/W0052_F0001</td><td>1146.3812</td><td> 449.3549</td><td>56443</td><td> 3.3844705</td><td>1.1134436</td><td> 7</td><td>7 hours </td></tr>\n",
                            "\t<tr><td>Media</td><td>C04</td><td>516</td><td>0001</td><td>Media</td><td>03</td><td>NA</td><td>NA</td><td>NA</td><td>NA</td><td>\u22ef</td><td>/gpfs/alpine1/scratch/mlippincott@xsede.org/pyroptosis_live-cell_timelapse/Wave1_data/2.illumination_correction/illum_directory/W0052_F0001</td><td>/gpfs/alpine1/scratch/mlippincott@xsede.org/pyroptosis_live-cell_timelapse/Wave1_data/2.illumination_correction/illum_directory/W0052_F0001</td><td>/gpfs/alpine1/scratch/mlippincott@xsede.org/pyroptosis_live-cell_timelapse/Wave1_data/2.illumination_correction/illum_directory/W0052_F0001</td><td> 238.5214</td><td>1297.8941</td><td>56443</td><td> 3.6616333</td><td>1.1494745</td><td>10</td><td>10 hours</td></tr>\n",
                            "\t<tr><td>Media</td><td>C04</td><td>513</td><td>0001</td><td>Media</td><td>04</td><td>NA</td><td>NA</td><td>NA</td><td>NA</td><td>\u22ef</td><td>/gpfs/alpine1/scratch/mlippincott@xsede.org/pyroptosis_live-cell_timelapse/Wave1_data/2.illumination_correction/illum_directory/W0052_F0001</td><td>/gpfs/alpine1/scratch/mlippincott@xsede.org/pyroptosis_live-cell_timelapse/Wave1_data/2.illumination_correction/illum_directory/W0052_F0001</td><td>/gpfs/alpine1/scratch/mlippincott@xsede.org/pyroptosis_live-cell_timelapse/Wave1_data/2.illumination_correction/illum_directory/W0052_F0001</td><td>1826.5509</td><td> 109.9335</td><td>56443</td><td> 0.1622963</td><td>1.1005958</td><td>13</td><td>13 hours</td></tr>\n",
                            "\t<tr><td>Media</td><td>C04</td><td>525</td><td>0001</td><td>Media</td><td>05</td><td>NA</td><td>NA</td><td>NA</td><td>NA</td><td>\u22ef</td><td>/gpfs/alpine1/scratch/mlippincott@xsede.org/pyroptosis_live-cell_timelapse/Wave1_data/2.illumination_correction/illum_directory/W0052_F0001</td><td>/gpfs/alpine1/scratch/mlippincott@xsede.org/pyroptosis_live-cell_timelapse/Wave1_data/2.illumination_correction/illum_directory/W0052_F0001</td><td>/gpfs/alpine1/scratch/mlippincott@xsede.org/pyroptosis_live-cell_timelapse/Wave1_data/2.illumination_correction/illum_directory/W0052_F0001</td><td>       NA</td><td>       NA</td><td>56443</td><td>-3.7572844</td><td>5.0627861</td><td>16</td><td>16 hours</td></tr>\n",
                            "</tbody>\n",
                            "</table>\n"
                        ],
                        "text/latex": [
                            "A tibble: 6 \u00d7 37\n",
                            "\\begin{tabular}{lllllllllllllllllllll}\n",
                            " Metadata\\_treatment & Metadata\\_Well & Metadata\\_number\\_of\\_singlecells & Metadata\\_FOV & Metadata\\_treatment1 & Metadata\\_Time & Metadata\\_treatment2 & Metadata\\_treatment1\\_dose & Metadata\\_treatment1\\_unit & Metadata\\_treatment2\\_dose & \u22ef & Metadata\\_Image\\_PathName\\_CL561 & Metadata\\_Image\\_PathName\\_DNA & Metadata\\_Image\\_PathName\\_GSDM & Metadata\\_Nuclei\\_Location\\_Center\\_X & Metadata\\_Nuclei\\_Location\\_Center\\_Y & Metadata\\_cells\\_per\\_well & UMAP0 & UMAP1 & Metadata\\_timepoint & Metadata\\_timepoint\\_hours\\\\\n",
                            " <chr> & <chr> & <int> & <chr> & <chr> & <chr> & <chr> & <chr> & <chr> & <chr> & \u22ef & <chr> & <chr> & <chr> & <dbl> & <dbl> & <int> & <dbl> & <dbl> & <dbl> & <chr>\\\\\n",
                            "\\hline\n",
                            "\t Media & C04 & 502 & 0001 & Media & 00 & NA & NA & NA & NA & \u22ef & /gpfs/alpine1/scratch/mlippincott@xsede.org/pyroptosis\\_live-cell\\_timelapse/Wave1\\_data/2.illumination\\_correction/illum\\_directory/W0052\\_F0001 & /gpfs/alpine1/scratch/mlippincott@xsede.org/pyroptosis\\_live-cell\\_timelapse/Wave1\\_data/2.illumination\\_correction/illum\\_directory/W0052\\_F0001 & /gpfs/alpine1/scratch/mlippincott@xsede.org/pyroptosis\\_live-cell\\_timelapse/Wave1\\_data/2.illumination\\_correction/illum\\_directory/W0052\\_F0001 &  601.2912 & 1567.2196 & 56443 &  3.8763394 & 2.4094985 &  1 & 1 hours \\\\\n",
                            "\t Media & C04 & 533 & 0001 & Media & 01 & NA & NA & NA & NA & \u22ef & /gpfs/alpine1/scratch/mlippincott@xsede.org/pyroptosis\\_live-cell\\_timelapse/Wave1\\_data/2.illumination\\_correction/illum\\_directory/W0052\\_F0001 & /gpfs/alpine1/scratch/mlippincott@xsede.org/pyroptosis\\_live-cell\\_timelapse/Wave1\\_data/2.illumination\\_correction/illum\\_directory/W0052\\_F0001 & /gpfs/alpine1/scratch/mlippincott@xsede.org/pyroptosis\\_live-cell\\_timelapse/Wave1\\_data/2.illumination\\_correction/illum\\_directory/W0052\\_F0001 & 1080.4002 & 1734.7233 & 56443 &  3.6407273 & 0.9986708 &  4 & 4 hours \\\\\n",
                            "\t Media & C04 & 497 & 0001 & Media & 02 & NA & NA & NA & NA & \u22ef & /gpfs/alpine1/scratch/mlippincott@xsede.org/pyroptosis\\_live-cell\\_timelapse/Wave1\\_data/2.illumination\\_correction/illum\\_directory/W0052\\_F0001 & /gpfs/alpine1/scratch/mlippincott@xsede.org/pyroptosis\\_live-cell\\_timelapse/Wave1\\_data/2.illumination\\_correction/illum\\_directory/W0052\\_F0001 & /gpfs/alpine1/scratch/mlippincott@xsede.org/pyroptosis\\_live-cell\\_timelapse/Wave1\\_data/2.illumination\\_correction/illum\\_directory/W0052\\_F0001 & 1146.3812 &  449.3549 & 56443 &  3.3844705 & 1.1134436 &  7 & 7 hours \\\\\n",
                            "\t Media & C04 & 516 & 0001 & Media & 03 & NA & NA & NA & NA & \u22ef & /gpfs/alpine1/scratch/mlippincott@xsede.org/pyroptosis\\_live-cell\\_timelapse/Wave1\\_data/2.illumination\\_correction/illum\\_directory/W0052\\_F0001 & /gpfs/alpine1/scratch/mlippincott@xsede.org/pyroptosis\\_live-cell\\_timelapse/Wave1\\_data/2.illumination\\_correction/illum\\_directory/W0052\\_F0001 & /gpfs/alpine1/scratch/mlippincott@xsede.org/pyroptosis\\_live-cell\\_timelapse/Wave1\\_data/2.illumination\\_correction/illum\\_directory/W0052\\_F0001 &  238.5214 & 1297.8941 & 56443 &  3.6616333 & 1.1494745 & 10 & 10 hours\\\\\n",
                            "\t Media & C04 & 513 & 0001 & Media & 04 & NA & NA & NA & NA & \u22ef & /gpfs/alpine1/scratch/mlippincott@xsede.org/pyroptosis\\_live-cell\\_timelapse/Wave1\\_data/2.illumination\\_correction/illum\\_directory/W0052\\_F0001 & /gpfs/alpine1/scratch/mlippincott@xsede.org/pyroptosis\\_live-cell\\_timelapse/Wave1\\_data/2.illumination\\_correction/illum\\_directory/W0052\\_F0001 & /gpfs/alpine1/scratch/mlippincott@xsede.org/pyroptosis\\_live-cell\\_timelapse/Wave1\\_data/2.illumination\\_correction/illum\\_directory/W0052\\_F0001 & 1826.5509 &  109.9335 & 56443 &  0.1622963 & 1.1005958 & 13 & 13 hours\\\\\n",
                            "\t Media & C04 & 525 & 0001 & Media & 05 & NA & NA & NA & NA & \u22ef & /gpfs/alpine1/scratch/mlippincott@xsede.org/pyroptosis\\_live-cell\\_timelapse/Wave1\\_data/2.illumination\\_correction/illum\\_directory/W0052\\_F0001 & /gpfs/alpine1/scratch/mlippincott@xsede.org/pyroptosis\\_live-cell\\_timelapse/Wave1\\_data/2.illumination\\_correction/illum\\_directory/W0052\\_F0001 & /gpfs/alpine1/scratch/mlippincott@xsede.org/pyroptosis\\_live-cell\\_timelapse/Wave1\\_data/2.illumination\\_correction/illum\\_directory/W0052\\_F0001 &        NA &        NA & 56443 & -3.7572844 & 5.0627861 & 16 & 16 hours\\\\\n",
                            "\\end{tabular}\n"
                        ],
                        "text/markdown": [
                            "\n",
                            "A tibble: 6 \u00d7 37\n",
                            "\n",
                            "| Metadata_treatment &lt;chr&gt; | Metadata_Well &lt;chr&gt; | Metadata_number_of_singlecells &lt;int&gt; | Metadata_FOV &lt;chr&gt; | Metadata_treatment1 &lt;chr&gt; | Metadata_Time &lt;chr&gt; | Metadata_treatment2 &lt;chr&gt; | Metadata_treatment1_dose &lt;chr&gt; | Metadata_treatment1_unit &lt;chr&gt; | Metadata_treatment2_dose &lt;chr&gt; | \u22ef \u22ef | Metadata_Image_PathName_CL561 &lt;chr&gt; | Metadata_Image_PathName_DNA &lt;chr&gt; | Metadata_Image_PathName_GSDM &lt;chr&gt; | Metadata_Nuclei_Location_Center_X &lt;dbl&gt; | Metadata_Nuclei_Location_Center_Y &lt;dbl&gt; | Metadata_cells_per_well &lt;int&gt; | UMAP0 &lt;dbl&gt; | UMAP1 &lt;dbl&gt; | Metadata_timepoint &lt;dbl&gt; | Metadata_timepoint_hours &lt;chr&gt; |\n",
                            "|---|---|---|---|---|---|---|---|---|---|---|---|---|---|---|---|---|---|---|---|---|\n",
                            "| Media | C04 | 502 | 0001 | Media | 00 | NA | NA | NA | NA | \u22ef | /gpfs/alpine1/scratch/mlippincott@xsede.org/pyroptosis_live-cell_timelapse/Wave1_data/2.illumination_correction/illum_directory/W0052_F0001 | /gpfs/alpine1/scratch/mlippincott@xsede.org/pyroptosis_live-cell_timelapse/Wave1_data/2.illumination_correction/illum_directory/W0052_F0001 | /gpfs/alpine1/scratch/mlippincott@xsede.org/pyroptosis_live-cell_timelapse/Wave1_data/2.illumination_correction/illum_directory/W0052_F0001 |  601.2912 | 1567.2196 | 56443 |  3.8763394 | 2.4094985 |  1 | 1 hours  |\n",
                            "| Media | C04 | 533 | 0001 | Media | 01 | NA | NA | NA | NA | \u22ef | /gpfs/alpine1/scratch/mlippincott@xsede.org/pyroptosis_live-cell_timelapse/Wave1_data/2.illumination_correction/illum_directory/W0052_F0001 | /gpfs/alpine1/scratch/mlippincott@xsede.org/pyroptosis_live-cell_timelapse/Wave1_data/2.illumination_correction/illum_directory/W0052_F0001 | /gpfs/alpine1/scratch/mlippincott@xsede.org/pyroptosis_live-cell_timelapse/Wave1_data/2.illumination_correction/illum_directory/W0052_F0001 | 1080.4002 | 1734.7233 | 56443 |  3.6407273 | 0.9986708 |  4 | 4 hours  |\n",
                            "| Media | C04 | 497 | 0001 | Media | 02 | NA | NA | NA | NA | \u22ef | /gpfs/alpine1/scratch/mlippincott@xsede.org/pyroptosis_live-cell_timelapse/Wave1_data/2.illumination_correction/illum_directory/W0052_F0001 | /gpfs/alpine1/scratch/mlippincott@xsede.org/pyroptosis_live-cell_timelapse/Wave1_data/2.illumination_correction/illum_directory/W0052_F0001 | /gpfs/alpine1/scratch/mlippincott@xsede.org/pyroptosis_live-cell_timelapse/Wave1_data/2.illumination_correction/illum_directory/W0052_F0001 | 1146.3812 |  449.3549 | 56443 |  3.3844705 | 1.1134436 |  7 | 7 hours  |\n",
                            "| Media | C04 | 516 | 0001 | Media | 03 | NA | NA | NA | NA | \u22ef | /gpfs/alpine1/scratch/mlippincott@xsede.org/pyroptosis_live-cell_timelapse/Wave1_data/2.illumination_correction/illum_directory/W0052_F0001 | /gpfs/alpine1/scratch/mlippincott@xsede.org/pyroptosis_live-cell_timelapse/Wave1_data/2.illumination_correction/illum_directory/W0052_F0001 | /gpfs/alpine1/scratch/mlippincott@xsede.org/pyroptosis_live-cell_timelapse/Wave1_data/2.illumination_correction/illum_directory/W0052_F0001 |  238.5214 | 1297.8941 | 56443 |  3.6616333 | 1.1494745 | 10 | 10 hours |\n",
                            "| Media | C04 | 513 | 0001 | Media | 04 | NA | NA | NA | NA | \u22ef | /gpfs/alpine1/scratch/mlippincott@xsede.org/pyroptosis_live-cell_timelapse/Wave1_data/2.illumination_correction/illum_directory/W0052_F0001 | /gpfs/alpine1/scratch/mlippincott@xsede.org/pyroptosis_live-cell_timelapse/Wave1_data/2.illumination_correction/illum_directory/W0052_F0001 | /gpfs/alpine1/scratch/mlippincott@xsede.org/pyroptosis_live-cell_timelapse/Wave1_data/2.illumination_correction/illum_directory/W0052_F0001 | 1826.5509 |  109.9335 | 56443 |  0.1622963 | 1.1005958 | 13 | 13 hours |\n",
                            "| Media | C04 | 525 | 0001 | Media | 05 | NA | NA | NA | NA | \u22ef | /gpfs/alpine1/scratch/mlippincott@xsede.org/pyroptosis_live-cell_timelapse/Wave1_data/2.illumination_correction/illum_directory/W0052_F0001 | /gpfs/alpine1/scratch/mlippincott@xsede.org/pyroptosis_live-cell_timelapse/Wave1_data/2.illumination_correction/illum_directory/W0052_F0001 | /gpfs/alpine1/scratch/mlippincott@xsede.org/pyroptosis_live-cell_timelapse/Wave1_data/2.illumination_correction/illum_directory/W0052_F0001 |        NA |        NA | 56443 | -3.7572844 | 5.0627861 | 16 | 16 hours |\n",
                            "\n"
                        ],
                        "text/plain": [
                            "  Metadata_treatment Metadata_Well Metadata_number_of_singlecells Metadata_FOV\n",
                            "1 Media              C04           502                            0001        \n",
                            "2 Media              C04           533                            0001        \n",
                            "3 Media              C04           497                            0001        \n",
                            "4 Media              C04           516                            0001        \n",
                            "5 Media              C04           513                            0001        \n",
                            "6 Media              C04           525                            0001        \n",
                            "  Metadata_treatment1 Metadata_Time Metadata_treatment2\n",
                            "1 Media               00            NA                 \n",
                            "2 Media               01            NA                 \n",
                            "3 Media               02            NA                 \n",
                            "4 Media               03            NA                 \n",
                            "5 Media               04            NA                 \n",
                            "6 Media               05            NA                 \n",
                            "  Metadata_treatment1_dose Metadata_treatment1_unit Metadata_treatment2_dose \u22ef\n",
                            "1 NA                       NA                       NA                       \u22ef\n",
                            "2 NA                       NA                       NA                       \u22ef\n",
                            "3 NA                       NA                       NA                       \u22ef\n",
                            "4 NA                       NA                       NA                       \u22ef\n",
                            "5 NA                       NA                       NA                       \u22ef\n",
                            "6 NA                       NA                       NA                       \u22ef\n",
                            "  Metadata_Image_PathName_CL561                                                                                                              \n",
                            "1 /gpfs/alpine1/scratch/mlippincott@xsede.org/pyroptosis_live-cell_timelapse/Wave1_data/2.illumination_correction/illum_directory/W0052_F0001\n",
                            "2 /gpfs/alpine1/scratch/mlippincott@xsede.org/pyroptosis_live-cell_timelapse/Wave1_data/2.illumination_correction/illum_directory/W0052_F0001\n",
                            "3 /gpfs/alpine1/scratch/mlippincott@xsede.org/pyroptosis_live-cell_timelapse/Wave1_data/2.illumination_correction/illum_directory/W0052_F0001\n",
                            "4 /gpfs/alpine1/scratch/mlippincott@xsede.org/pyroptosis_live-cell_timelapse/Wave1_data/2.illumination_correction/illum_directory/W0052_F0001\n",
                            "5 /gpfs/alpine1/scratch/mlippincott@xsede.org/pyroptosis_live-cell_timelapse/Wave1_data/2.illumination_correction/illum_directory/W0052_F0001\n",
                            "6 /gpfs/alpine1/scratch/mlippincott@xsede.org/pyroptosis_live-cell_timelapse/Wave1_data/2.illumination_correction/illum_directory/W0052_F0001\n",
                            "  Metadata_Image_PathName_DNA                                                                                                                \n",
                            "1 /gpfs/alpine1/scratch/mlippincott@xsede.org/pyroptosis_live-cell_timelapse/Wave1_data/2.illumination_correction/illum_directory/W0052_F0001\n",
                            "2 /gpfs/alpine1/scratch/mlippincott@xsede.org/pyroptosis_live-cell_timelapse/Wave1_data/2.illumination_correction/illum_directory/W0052_F0001\n",
                            "3 /gpfs/alpine1/scratch/mlippincott@xsede.org/pyroptosis_live-cell_timelapse/Wave1_data/2.illumination_correction/illum_directory/W0052_F0001\n",
                            "4 /gpfs/alpine1/scratch/mlippincott@xsede.org/pyroptosis_live-cell_timelapse/Wave1_data/2.illumination_correction/illum_directory/W0052_F0001\n",
                            "5 /gpfs/alpine1/scratch/mlippincott@xsede.org/pyroptosis_live-cell_timelapse/Wave1_data/2.illumination_correction/illum_directory/W0052_F0001\n",
                            "6 /gpfs/alpine1/scratch/mlippincott@xsede.org/pyroptosis_live-cell_timelapse/Wave1_data/2.illumination_correction/illum_directory/W0052_F0001\n",
                            "  Metadata_Image_PathName_GSDM                                                                                                               \n",
                            "1 /gpfs/alpine1/scratch/mlippincott@xsede.org/pyroptosis_live-cell_timelapse/Wave1_data/2.illumination_correction/illum_directory/W0052_F0001\n",
                            "2 /gpfs/alpine1/scratch/mlippincott@xsede.org/pyroptosis_live-cell_timelapse/Wave1_data/2.illumination_correction/illum_directory/W0052_F0001\n",
                            "3 /gpfs/alpine1/scratch/mlippincott@xsede.org/pyroptosis_live-cell_timelapse/Wave1_data/2.illumination_correction/illum_directory/W0052_F0001\n",
                            "4 /gpfs/alpine1/scratch/mlippincott@xsede.org/pyroptosis_live-cell_timelapse/Wave1_data/2.illumination_correction/illum_directory/W0052_F0001\n",
                            "5 /gpfs/alpine1/scratch/mlippincott@xsede.org/pyroptosis_live-cell_timelapse/Wave1_data/2.illumination_correction/illum_directory/W0052_F0001\n",
                            "6 /gpfs/alpine1/scratch/mlippincott@xsede.org/pyroptosis_live-cell_timelapse/Wave1_data/2.illumination_correction/illum_directory/W0052_F0001\n",
                            "  Metadata_Nuclei_Location_Center_X Metadata_Nuclei_Location_Center_Y\n",
                            "1  601.2912                         1567.2196                        \n",
                            "2 1080.4002                         1734.7233                        \n",
                            "3 1146.3812                          449.3549                        \n",
                            "4  238.5214                         1297.8941                        \n",
                            "5 1826.5509                          109.9335                        \n",
                            "6        NA                                NA                        \n",
                            "  Metadata_cells_per_well UMAP0      UMAP1     Metadata_timepoint\n",
                            "1 56443                    3.8763394 2.4094985  1                \n",
                            "2 56443                    3.6407273 0.9986708  4                \n",
                            "3 56443                    3.3844705 1.1134436  7                \n",
                            "4 56443                    3.6616333 1.1494745 10                \n",
                            "5 56443                    0.1622963 1.1005958 13                \n",
                            "6 56443                   -3.7572844 5.0627861 16                \n",
                            "  Metadata_timepoint_hours\n",
                            "1 1 hours                 \n",
                            "2 4 hours                 \n",
                            "3 7 hours                 \n",
                            "4 10 hours                \n",
                            "5 13 hours                \n",
                            "6 16 hours                "
                        ]
                    },
                    "metadata": {},
                    "output_type": "display_data"
                }
            ],
            "source": [
                "# map the timepoints to the actual hour timepoint\n",
                "timepoints <- data.frame(\n",
                "    reference = c(\"00\", \"01\", \"02\", \"03\", \"04\", \"05\", \"06\", \"07\", \"08\", \"09\", \"10\", \"11\", \"12\", \"13\", \"14\", \"15\", \"16\", \"17\"),\n",
                "    Metadata_timepoint  = c(1,4,7,10,13,16,19,22,25,28,31,34,37,40,43,46,49,90)\n",
                ")\n",
                "# map the timepoints to the main df \n",
                "umap_data <- umap_data %>% left_join(timepoints, by = c(\"Metadata_Time\" = \"reference\"))\n",
                "umap_data$Metadata_timepoint <- as.numeric(umap_data$Metadata_timepoint)\n",
                "umap_data$Metadata_timepoint_hours <- paste0(umap_data$Metadata_timepoint, \" hours\")\n",
                "head(umap_data)"
            ]
        },
        {
            "cell_type": "code",
            "execution_count": 8,
            "metadata": {
                "vscode": {
                    "languageId": "r"
                }
            },
            "outputs": [],
            "source": [
                "figure_path <- file.path(\"..\",\"figures\",data_set)\n",
                "# create the output directory if it does not exist\n",
                "if (!dir.exists(figure_path)) {\n",
                "  dir.create(figure_path)\n",
                "}"
            ]
        },
        {
            "cell_type": "code",
            "execution_count": 9,
            "metadata": {
                "vscode": {
                    "languageId": "r"
                }
            },
            "outputs": [
                {
                    "data": {
                        "text/html": [
                            "<table class=\"dataframe\">\n",
                            "<caption>A tibble: 6 \u00d7 37</caption>\n",
                            "<thead>\n",
                            "\t<tr><th scope=col>Metadata_treatment</th><th scope=col>Metadata_Well</th><th scope=col>Metadata_number_of_singlecells</th><th scope=col>Metadata_FOV</th><th scope=col>Metadata_treatment1</th><th scope=col>Metadata_Time</th><th scope=col>Metadata_treatment2</th><th scope=col>Metadata_treatment1_dose</th><th scope=col>Metadata_treatment1_unit</th><th scope=col>Metadata_treatment2_dose</th><th scope=col>\u22ef</th><th scope=col>Metadata_Image_PathName_CL561</th><th scope=col>Metadata_Image_PathName_DNA</th><th scope=col>Metadata_Image_PathName_GSDM</th><th scope=col>Metadata_Nuclei_Location_Center_X</th><th scope=col>Metadata_Nuclei_Location_Center_Y</th><th scope=col>Metadata_cells_per_well</th><th scope=col>UMAP0</th><th scope=col>UMAP1</th><th scope=col>Metadata_timepoint</th><th scope=col>Metadata_timepoint_hours</th></tr>\n",
                            "\t<tr><th scope=col>&lt;chr&gt;</th><th scope=col>&lt;chr&gt;</th><th scope=col>&lt;int&gt;</th><th scope=col>&lt;chr&gt;</th><th scope=col>&lt;chr&gt;</th><th scope=col>&lt;chr&gt;</th><th scope=col>&lt;chr&gt;</th><th scope=col>&lt;chr&gt;</th><th scope=col>&lt;chr&gt;</th><th scope=col>&lt;chr&gt;</th><th scope=col>\u22ef</th><th scope=col>&lt;chr&gt;</th><th scope=col>&lt;chr&gt;</th><th scope=col>&lt;chr&gt;</th><th scope=col>&lt;dbl&gt;</th><th scope=col>&lt;dbl&gt;</th><th scope=col>&lt;int&gt;</th><th scope=col>&lt;dbl&gt;</th><th scope=col>&lt;dbl&gt;</th><th scope=col>&lt;dbl&gt;</th><th scope=col>&lt;chr&gt;</th></tr>\n",
                            "</thead>\n",
                            "<tbody>\n",
                            "\t<tr><td>Media</td><td>C04</td><td>502</td><td>0001</td><td>Media</td><td>00</td><td>NA</td><td>NA</td><td>NA</td><td>NA</td><td>\u22ef</td><td>/gpfs/alpine1/scratch/mlippincott@xsede.org/pyroptosis_live-cell_timelapse/Wave1_data/2.illumination_correction/illum_directory/W0052_F0001</td><td>/gpfs/alpine1/scratch/mlippincott@xsede.org/pyroptosis_live-cell_timelapse/Wave1_data/2.illumination_correction/illum_directory/W0052_F0001</td><td>/gpfs/alpine1/scratch/mlippincott@xsede.org/pyroptosis_live-cell_timelapse/Wave1_data/2.illumination_correction/illum_directory/W0052_F0001</td><td> 601.2912</td><td>1567.2196</td><td>56443</td><td> 3.8763394</td><td>2.4094985</td><td> 1</td><td>1 hours </td></tr>\n",
                            "\t<tr><td>Media</td><td>C04</td><td>533</td><td>0001</td><td>Media</td><td>01</td><td>NA</td><td>NA</td><td>NA</td><td>NA</td><td>\u22ef</td><td>/gpfs/alpine1/scratch/mlippincott@xsede.org/pyroptosis_live-cell_timelapse/Wave1_data/2.illumination_correction/illum_directory/W0052_F0001</td><td>/gpfs/alpine1/scratch/mlippincott@xsede.org/pyroptosis_live-cell_timelapse/Wave1_data/2.illumination_correction/illum_directory/W0052_F0001</td><td>/gpfs/alpine1/scratch/mlippincott@xsede.org/pyroptosis_live-cell_timelapse/Wave1_data/2.illumination_correction/illum_directory/W0052_F0001</td><td>1080.4002</td><td>1734.7233</td><td>56443</td><td> 3.6407273</td><td>0.9986708</td><td> 4</td><td>4 hours </td></tr>\n",
                            "\t<tr><td>Media</td><td>C04</td><td>497</td><td>0001</td><td>Media</td><td>02</td><td>NA</td><td>NA</td><td>NA</td><td>NA</td><td>\u22ef</td><td>/gpfs/alpine1/scratch/mlippincott@xsede.org/pyroptosis_live-cell_timelapse/Wave1_data/2.illumination_correction/illum_directory/W0052_F0001</td><td>/gpfs/alpine1/scratch/mlippincott@xsede.org/pyroptosis_live-cell_timelapse/Wave1_data/2.illumination_correction/illum_directory/W0052_F0001</td><td>/gpfs/alpine1/scratch/mlippincott@xsede.org/pyroptosis_live-cell_timelapse/Wave1_data/2.illumination_correction/illum_directory/W0052_F0001</td><td>1146.3812</td><td> 449.3549</td><td>56443</td><td> 3.3844705</td><td>1.1134436</td><td> 7</td><td>7 hours </td></tr>\n",
                            "\t<tr><td>Media</td><td>C04</td><td>516</td><td>0001</td><td>Media</td><td>03</td><td>NA</td><td>NA</td><td>NA</td><td>NA</td><td>\u22ef</td><td>/gpfs/alpine1/scratch/mlippincott@xsede.org/pyroptosis_live-cell_timelapse/Wave1_data/2.illumination_correction/illum_directory/W0052_F0001</td><td>/gpfs/alpine1/scratch/mlippincott@xsede.org/pyroptosis_live-cell_timelapse/Wave1_data/2.illumination_correction/illum_directory/W0052_F0001</td><td>/gpfs/alpine1/scratch/mlippincott@xsede.org/pyroptosis_live-cell_timelapse/Wave1_data/2.illumination_correction/illum_directory/W0052_F0001</td><td> 238.5214</td><td>1297.8941</td><td>56443</td><td> 3.6616333</td><td>1.1494745</td><td>10</td><td>10 hours</td></tr>\n",
                            "\t<tr><td>Media</td><td>C04</td><td>513</td><td>0001</td><td>Media</td><td>04</td><td>NA</td><td>NA</td><td>NA</td><td>NA</td><td>\u22ef</td><td>/gpfs/alpine1/scratch/mlippincott@xsede.org/pyroptosis_live-cell_timelapse/Wave1_data/2.illumination_correction/illum_directory/W0052_F0001</td><td>/gpfs/alpine1/scratch/mlippincott@xsede.org/pyroptosis_live-cell_timelapse/Wave1_data/2.illumination_correction/illum_directory/W0052_F0001</td><td>/gpfs/alpine1/scratch/mlippincott@xsede.org/pyroptosis_live-cell_timelapse/Wave1_data/2.illumination_correction/illum_directory/W0052_F0001</td><td>1826.5509</td><td> 109.9335</td><td>56443</td><td> 0.1622963</td><td>1.1005958</td><td>13</td><td>13 hours</td></tr>\n",
                            "\t<tr><td>Media</td><td>C04</td><td>525</td><td>0001</td><td>Media</td><td>05</td><td>NA</td><td>NA</td><td>NA</td><td>NA</td><td>\u22ef</td><td>/gpfs/alpine1/scratch/mlippincott@xsede.org/pyroptosis_live-cell_timelapse/Wave1_data/2.illumination_correction/illum_directory/W0052_F0001</td><td>/gpfs/alpine1/scratch/mlippincott@xsede.org/pyroptosis_live-cell_timelapse/Wave1_data/2.illumination_correction/illum_directory/W0052_F0001</td><td>/gpfs/alpine1/scratch/mlippincott@xsede.org/pyroptosis_live-cell_timelapse/Wave1_data/2.illumination_correction/illum_directory/W0052_F0001</td><td>       NA</td><td>       NA</td><td>56443</td><td>-3.7572844</td><td>5.0627861</td><td>16</td><td>16 hours</td></tr>\n",
                            "</tbody>\n",
                            "</table>\n"
                        ],
                        "text/latex": [
                            "A tibble: 6 \u00d7 37\n",
                            "\\begin{tabular}{lllllllllllllllllllll}\n",
                            " Metadata\\_treatment & Metadata\\_Well & Metadata\\_number\\_of\\_singlecells & Metadata\\_FOV & Metadata\\_treatment1 & Metadata\\_Time & Metadata\\_treatment2 & Metadata\\_treatment1\\_dose & Metadata\\_treatment1\\_unit & Metadata\\_treatment2\\_dose & \u22ef & Metadata\\_Image\\_PathName\\_CL561 & Metadata\\_Image\\_PathName\\_DNA & Metadata\\_Image\\_PathName\\_GSDM & Metadata\\_Nuclei\\_Location\\_Center\\_X & Metadata\\_Nuclei\\_Location\\_Center\\_Y & Metadata\\_cells\\_per\\_well & UMAP0 & UMAP1 & Metadata\\_timepoint & Metadata\\_timepoint\\_hours\\\\\n",
                            " <chr> & <chr> & <int> & <chr> & <chr> & <chr> & <chr> & <chr> & <chr> & <chr> & \u22ef & <chr> & <chr> & <chr> & <dbl> & <dbl> & <int> & <dbl> & <dbl> & <dbl> & <chr>\\\\\n",
                            "\\hline\n",
                            "\t Media & C04 & 502 & 0001 & Media & 00 & NA & NA & NA & NA & \u22ef & /gpfs/alpine1/scratch/mlippincott@xsede.org/pyroptosis\\_live-cell\\_timelapse/Wave1\\_data/2.illumination\\_correction/illum\\_directory/W0052\\_F0001 & /gpfs/alpine1/scratch/mlippincott@xsede.org/pyroptosis\\_live-cell\\_timelapse/Wave1\\_data/2.illumination\\_correction/illum\\_directory/W0052\\_F0001 & /gpfs/alpine1/scratch/mlippincott@xsede.org/pyroptosis\\_live-cell\\_timelapse/Wave1\\_data/2.illumination\\_correction/illum\\_directory/W0052\\_F0001 &  601.2912 & 1567.2196 & 56443 &  3.8763394 & 2.4094985 &  1 & 1 hours \\\\\n",
                            "\t Media & C04 & 533 & 0001 & Media & 01 & NA & NA & NA & NA & \u22ef & /gpfs/alpine1/scratch/mlippincott@xsede.org/pyroptosis\\_live-cell\\_timelapse/Wave1\\_data/2.illumination\\_correction/illum\\_directory/W0052\\_F0001 & /gpfs/alpine1/scratch/mlippincott@xsede.org/pyroptosis\\_live-cell\\_timelapse/Wave1\\_data/2.illumination\\_correction/illum\\_directory/W0052\\_F0001 & /gpfs/alpine1/scratch/mlippincott@xsede.org/pyroptosis\\_live-cell\\_timelapse/Wave1\\_data/2.illumination\\_correction/illum\\_directory/W0052\\_F0001 & 1080.4002 & 1734.7233 & 56443 &  3.6407273 & 0.9986708 &  4 & 4 hours \\\\\n",
                            "\t Media & C04 & 497 & 0001 & Media & 02 & NA & NA & NA & NA & \u22ef & /gpfs/alpine1/scratch/mlippincott@xsede.org/pyroptosis\\_live-cell\\_timelapse/Wave1\\_data/2.illumination\\_correction/illum\\_directory/W0052\\_F0001 & /gpfs/alpine1/scratch/mlippincott@xsede.org/pyroptosis\\_live-cell\\_timelapse/Wave1\\_data/2.illumination\\_correction/illum\\_directory/W0052\\_F0001 & /gpfs/alpine1/scratch/mlippincott@xsede.org/pyroptosis\\_live-cell\\_timelapse/Wave1\\_data/2.illumination\\_correction/illum\\_directory/W0052\\_F0001 & 1146.3812 &  449.3549 & 56443 &  3.3844705 & 1.1134436 &  7 & 7 hours \\\\\n",
                            "\t Media & C04 & 516 & 0001 & Media & 03 & NA & NA & NA & NA & \u22ef & /gpfs/alpine1/scratch/mlippincott@xsede.org/pyroptosis\\_live-cell\\_timelapse/Wave1\\_data/2.illumination\\_correction/illum\\_directory/W0052\\_F0001 & /gpfs/alpine1/scratch/mlippincott@xsede.org/pyroptosis\\_live-cell\\_timelapse/Wave1\\_data/2.illumination\\_correction/illum\\_directory/W0052\\_F0001 & /gpfs/alpine1/scratch/mlippincott@xsede.org/pyroptosis\\_live-cell\\_timelapse/Wave1\\_data/2.illumination\\_correction/illum\\_directory/W0052\\_F0001 &  238.5214 & 1297.8941 & 56443 &  3.6616333 & 1.1494745 & 10 & 10 hours\\\\\n",
                            "\t Media & C04 & 513 & 0001 & Media & 04 & NA & NA & NA & NA & \u22ef & /gpfs/alpine1/scratch/mlippincott@xsede.org/pyroptosis\\_live-cell\\_timelapse/Wave1\\_data/2.illumination\\_correction/illum\\_directory/W0052\\_F0001 & /gpfs/alpine1/scratch/mlippincott@xsede.org/pyroptosis\\_live-cell\\_timelapse/Wave1\\_data/2.illumination\\_correction/illum\\_directory/W0052\\_F0001 & /gpfs/alpine1/scratch/mlippincott@xsede.org/pyroptosis\\_live-cell\\_timelapse/Wave1\\_data/2.illumination\\_correction/illum\\_directory/W0052\\_F0001 & 1826.5509 &  109.9335 & 56443 &  0.1622963 & 1.1005958 & 13 & 13 hours\\\\\n",
                            "\t Media & C04 & 525 & 0001 & Media & 05 & NA & NA & NA & NA & \u22ef & /gpfs/alpine1/scratch/mlippincott@xsede.org/pyroptosis\\_live-cell\\_timelapse/Wave1\\_data/2.illumination\\_correction/illum\\_directory/W0052\\_F0001 & /gpfs/alpine1/scratch/mlippincott@xsede.org/pyroptosis\\_live-cell\\_timelapse/Wave1\\_data/2.illumination\\_correction/illum\\_directory/W0052\\_F0001 & /gpfs/alpine1/scratch/mlippincott@xsede.org/pyroptosis\\_live-cell\\_timelapse/Wave1\\_data/2.illumination\\_correction/illum\\_directory/W0052\\_F0001 &        NA &        NA & 56443 & -3.7572844 & 5.0627861 & 16 & 16 hours\\\\\n",
                            "\\end{tabular}\n"
                        ],
                        "text/markdown": [
                            "\n",
                            "A tibble: 6 \u00d7 37\n",
                            "\n",
                            "| Metadata_treatment &lt;chr&gt; | Metadata_Well &lt;chr&gt; | Metadata_number_of_singlecells &lt;int&gt; | Metadata_FOV &lt;chr&gt; | Metadata_treatment1 &lt;chr&gt; | Metadata_Time &lt;chr&gt; | Metadata_treatment2 &lt;chr&gt; | Metadata_treatment1_dose &lt;chr&gt; | Metadata_treatment1_unit &lt;chr&gt; | Metadata_treatment2_dose &lt;chr&gt; | \u22ef \u22ef | Metadata_Image_PathName_CL561 &lt;chr&gt; | Metadata_Image_PathName_DNA &lt;chr&gt; | Metadata_Image_PathName_GSDM &lt;chr&gt; | Metadata_Nuclei_Location_Center_X &lt;dbl&gt; | Metadata_Nuclei_Location_Center_Y &lt;dbl&gt; | Metadata_cells_per_well &lt;int&gt; | UMAP0 &lt;dbl&gt; | UMAP1 &lt;dbl&gt; | Metadata_timepoint &lt;dbl&gt; | Metadata_timepoint_hours &lt;chr&gt; |\n",
                            "|---|---|---|---|---|---|---|---|---|---|---|---|---|---|---|---|---|---|---|---|---|\n",
                            "| Media | C04 | 502 | 0001 | Media | 00 | NA | NA | NA | NA | \u22ef | /gpfs/alpine1/scratch/mlippincott@xsede.org/pyroptosis_live-cell_timelapse/Wave1_data/2.illumination_correction/illum_directory/W0052_F0001 | /gpfs/alpine1/scratch/mlippincott@xsede.org/pyroptosis_live-cell_timelapse/Wave1_data/2.illumination_correction/illum_directory/W0052_F0001 | /gpfs/alpine1/scratch/mlippincott@xsede.org/pyroptosis_live-cell_timelapse/Wave1_data/2.illumination_correction/illum_directory/W0052_F0001 |  601.2912 | 1567.2196 | 56443 |  3.8763394 | 2.4094985 |  1 | 1 hours  |\n",
                            "| Media | C04 | 533 | 0001 | Media | 01 | NA | NA | NA | NA | \u22ef | /gpfs/alpine1/scratch/mlippincott@xsede.org/pyroptosis_live-cell_timelapse/Wave1_data/2.illumination_correction/illum_directory/W0052_F0001 | /gpfs/alpine1/scratch/mlippincott@xsede.org/pyroptosis_live-cell_timelapse/Wave1_data/2.illumination_correction/illum_directory/W0052_F0001 | /gpfs/alpine1/scratch/mlippincott@xsede.org/pyroptosis_live-cell_timelapse/Wave1_data/2.illumination_correction/illum_directory/W0052_F0001 | 1080.4002 | 1734.7233 | 56443 |  3.6407273 | 0.9986708 |  4 | 4 hours  |\n",
                            "| Media | C04 | 497 | 0001 | Media | 02 | NA | NA | NA | NA | \u22ef | /gpfs/alpine1/scratch/mlippincott@xsede.org/pyroptosis_live-cell_timelapse/Wave1_data/2.illumination_correction/illum_directory/W0052_F0001 | /gpfs/alpine1/scratch/mlippincott@xsede.org/pyroptosis_live-cell_timelapse/Wave1_data/2.illumination_correction/illum_directory/W0052_F0001 | /gpfs/alpine1/scratch/mlippincott@xsede.org/pyroptosis_live-cell_timelapse/Wave1_data/2.illumination_correction/illum_directory/W0052_F0001 | 1146.3812 |  449.3549 | 56443 |  3.3844705 | 1.1134436 |  7 | 7 hours  |\n",
                            "| Media | C04 | 516 | 0001 | Media | 03 | NA | NA | NA | NA | \u22ef | /gpfs/alpine1/scratch/mlippincott@xsede.org/pyroptosis_live-cell_timelapse/Wave1_data/2.illumination_correction/illum_directory/W0052_F0001 | /gpfs/alpine1/scratch/mlippincott@xsede.org/pyroptosis_live-cell_timelapse/Wave1_data/2.illumination_correction/illum_directory/W0052_F0001 | /gpfs/alpine1/scratch/mlippincott@xsede.org/pyroptosis_live-cell_timelapse/Wave1_data/2.illumination_correction/illum_directory/W0052_F0001 |  238.5214 | 1297.8941 | 56443 |  3.6616333 | 1.1494745 | 10 | 10 hours |\n",
                            "| Media | C04 | 513 | 0001 | Media | 04 | NA | NA | NA | NA | \u22ef | /gpfs/alpine1/scratch/mlippincott@xsede.org/pyroptosis_live-cell_timelapse/Wave1_data/2.illumination_correction/illum_directory/W0052_F0001 | /gpfs/alpine1/scratch/mlippincott@xsede.org/pyroptosis_live-cell_timelapse/Wave1_data/2.illumination_correction/illum_directory/W0052_F0001 | /gpfs/alpine1/scratch/mlippincott@xsede.org/pyroptosis_live-cell_timelapse/Wave1_data/2.illumination_correction/illum_directory/W0052_F0001 | 1826.5509 |  109.9335 | 56443 |  0.1622963 | 1.1005958 | 13 | 13 hours |\n",
                            "| Media | C04 | 525 | 0001 | Media | 05 | NA | NA | NA | NA | \u22ef | /gpfs/alpine1/scratch/mlippincott@xsede.org/pyroptosis_live-cell_timelapse/Wave1_data/2.illumination_correction/illum_directory/W0052_F0001 | /gpfs/alpine1/scratch/mlippincott@xsede.org/pyroptosis_live-cell_timelapse/Wave1_data/2.illumination_correction/illum_directory/W0052_F0001 | /gpfs/alpine1/scratch/mlippincott@xsede.org/pyroptosis_live-cell_timelapse/Wave1_data/2.illumination_correction/illum_directory/W0052_F0001 |        NA |        NA | 56443 | -3.7572844 | 5.0627861 | 16 | 16 hours |\n",
                            "\n"
                        ],
                        "text/plain": [
                            "  Metadata_treatment Metadata_Well Metadata_number_of_singlecells Metadata_FOV\n",
                            "1 Media              C04           502                            0001        \n",
                            "2 Media              C04           533                            0001        \n",
                            "3 Media              C04           497                            0001        \n",
                            "4 Media              C04           516                            0001        \n",
                            "5 Media              C04           513                            0001        \n",
                            "6 Media              C04           525                            0001        \n",
                            "  Metadata_treatment1 Metadata_Time Metadata_treatment2\n",
                            "1 Media               00            NA                 \n",
                            "2 Media               01            NA                 \n",
                            "3 Media               02            NA                 \n",
                            "4 Media               03            NA                 \n",
                            "5 Media               04            NA                 \n",
                            "6 Media               05            NA                 \n",
                            "  Metadata_treatment1_dose Metadata_treatment1_unit Metadata_treatment2_dose \u22ef\n",
                            "1 NA                       NA                       NA                       \u22ef\n",
                            "2 NA                       NA                       NA                       \u22ef\n",
                            "3 NA                       NA                       NA                       \u22ef\n",
                            "4 NA                       NA                       NA                       \u22ef\n",
                            "5 NA                       NA                       NA                       \u22ef\n",
                            "6 NA                       NA                       NA                       \u22ef\n",
                            "  Metadata_Image_PathName_CL561                                                                                                              \n",
                            "1 /gpfs/alpine1/scratch/mlippincott@xsede.org/pyroptosis_live-cell_timelapse/Wave1_data/2.illumination_correction/illum_directory/W0052_F0001\n",
                            "2 /gpfs/alpine1/scratch/mlippincott@xsede.org/pyroptosis_live-cell_timelapse/Wave1_data/2.illumination_correction/illum_directory/W0052_F0001\n",
                            "3 /gpfs/alpine1/scratch/mlippincott@xsede.org/pyroptosis_live-cell_timelapse/Wave1_data/2.illumination_correction/illum_directory/W0052_F0001\n",
                            "4 /gpfs/alpine1/scratch/mlippincott@xsede.org/pyroptosis_live-cell_timelapse/Wave1_data/2.illumination_correction/illum_directory/W0052_F0001\n",
                            "5 /gpfs/alpine1/scratch/mlippincott@xsede.org/pyroptosis_live-cell_timelapse/Wave1_data/2.illumination_correction/illum_directory/W0052_F0001\n",
                            "6 /gpfs/alpine1/scratch/mlippincott@xsede.org/pyroptosis_live-cell_timelapse/Wave1_data/2.illumination_correction/illum_directory/W0052_F0001\n",
                            "  Metadata_Image_PathName_DNA                                                                                                                \n",
                            "1 /gpfs/alpine1/scratch/mlippincott@xsede.org/pyroptosis_live-cell_timelapse/Wave1_data/2.illumination_correction/illum_directory/W0052_F0001\n",
                            "2 /gpfs/alpine1/scratch/mlippincott@xsede.org/pyroptosis_live-cell_timelapse/Wave1_data/2.illumination_correction/illum_directory/W0052_F0001\n",
                            "3 /gpfs/alpine1/scratch/mlippincott@xsede.org/pyroptosis_live-cell_timelapse/Wave1_data/2.illumination_correction/illum_directory/W0052_F0001\n",
                            "4 /gpfs/alpine1/scratch/mlippincott@xsede.org/pyroptosis_live-cell_timelapse/Wave1_data/2.illumination_correction/illum_directory/W0052_F0001\n",
                            "5 /gpfs/alpine1/scratch/mlippincott@xsede.org/pyroptosis_live-cell_timelapse/Wave1_data/2.illumination_correction/illum_directory/W0052_F0001\n",
                            "6 /gpfs/alpine1/scratch/mlippincott@xsede.org/pyroptosis_live-cell_timelapse/Wave1_data/2.illumination_correction/illum_directory/W0052_F0001\n",
                            "  Metadata_Image_PathName_GSDM                                                                                                               \n",
                            "1 /gpfs/alpine1/scratch/mlippincott@xsede.org/pyroptosis_live-cell_timelapse/Wave1_data/2.illumination_correction/illum_directory/W0052_F0001\n",
                            "2 /gpfs/alpine1/scratch/mlippincott@xsede.org/pyroptosis_live-cell_timelapse/Wave1_data/2.illumination_correction/illum_directory/W0052_F0001\n",
                            "3 /gpfs/alpine1/scratch/mlippincott@xsede.org/pyroptosis_live-cell_timelapse/Wave1_data/2.illumination_correction/illum_directory/W0052_F0001\n",
                            "4 /gpfs/alpine1/scratch/mlippincott@xsede.org/pyroptosis_live-cell_timelapse/Wave1_data/2.illumination_correction/illum_directory/W0052_F0001\n",
                            "5 /gpfs/alpine1/scratch/mlippincott@xsede.org/pyroptosis_live-cell_timelapse/Wave1_data/2.illumination_correction/illum_directory/W0052_F0001\n",
                            "6 /gpfs/alpine1/scratch/mlippincott@xsede.org/pyroptosis_live-cell_timelapse/Wave1_data/2.illumination_correction/illum_directory/W0052_F0001\n",
                            "  Metadata_Nuclei_Location_Center_X Metadata_Nuclei_Location_Center_Y\n",
                            "1  601.2912                         1567.2196                        \n",
                            "2 1080.4002                         1734.7233                        \n",
                            "3 1146.3812                          449.3549                        \n",
                            "4  238.5214                         1297.8941                        \n",
                            "5 1826.5509                          109.9335                        \n",
                            "6        NA                                NA                        \n",
                            "  Metadata_cells_per_well UMAP0      UMAP1     Metadata_timepoint\n",
                            "1 56443                    3.8763394 2.4094985  1                \n",
                            "2 56443                    3.6407273 0.9986708  4                \n",
                            "3 56443                    3.3844705 1.1134436  7                \n",
                            "4 56443                    3.6616333 1.1494745 10                \n",
                            "5 56443                    0.1622963 1.1005958 13                \n",
                            "6 56443                   -3.7572844 5.0627861 16                \n",
                            "  Metadata_timepoint_hours\n",
                            "1 1 hours                 \n",
                            "2 4 hours                 \n",
                            "3 7 hours                 \n",
                            "4 10 hours                \n",
                            "5 13 hours                \n",
                            "6 16 hours                "
                        ]
                    },
                    "metadata": {},
                    "output_type": "display_data"
                }
            ],
            "source": [
                "head(umap_data)\n",
                "\n",
                "\n",
                "wells <- unique(umap_data$Metadata_Well)\n",
                "# sort the wells alphabetically\n",
                "wells <- sort(wells)"
            ]
        },
        {
            "cell_type": "code",
            "execution_count": 10,
            "metadata": {
                "vscode": {
                    "languageId": "r"
                }
            },
            "outputs": [
                {
                    "name": "stdout",
                    "output_type": "stream",
                    "text": [
                        "[1] 8223   37\n",
                        "[1] 3820888      35\n",
                        "[1] 100   2\n"
                    ]
                },
                {
                    "data": {
                        "text/html": [
                            "<table class=\"dataframe\">\n",
                            "<caption>A tibble: 1 \u00d7 37</caption>\n",
                            "<thead>\n",
                            "\t<tr><th scope=col>Metadata_treatment</th><th scope=col>Metadata_Well</th><th scope=col>Metadata_number_of_singlecells</th><th scope=col>Metadata_FOV</th><th scope=col>Metadata_treatment1</th><th scope=col>Metadata_Time</th><th scope=col>Metadata_treatment2</th><th scope=col>Metadata_treatment1_dose</th><th scope=col>Metadata_treatment1_unit</th><th scope=col>Metadata_treatment2_dose</th><th scope=col>\u22ef</th><th scope=col>Metadata_Image_PathName_CL561</th><th scope=col>Metadata_Image_PathName_DNA</th><th scope=col>Metadata_Image_PathName_GSDM</th><th scope=col>Metadata_Nuclei_Location_Center_X</th><th scope=col>Metadata_Nuclei_Location_Center_Y</th><th scope=col>Metadata_cells_per_well</th><th scope=col>UMAP0</th><th scope=col>UMAP1</th><th scope=col>Metadata_timepoint</th><th scope=col>Metadata_timepoint_hours</th></tr>\n",
                            "\t<tr><th scope=col>&lt;chr&gt;</th><th scope=col>&lt;chr&gt;</th><th scope=col>&lt;int&gt;</th><th scope=col>&lt;chr&gt;</th><th scope=col>&lt;chr&gt;</th><th scope=col>&lt;chr&gt;</th><th scope=col>&lt;chr&gt;</th><th scope=col>&lt;chr&gt;</th><th scope=col>&lt;chr&gt;</th><th scope=col>&lt;chr&gt;</th><th scope=col>\u22ef</th><th scope=col>&lt;chr&gt;</th><th scope=col>&lt;chr&gt;</th><th scope=col>&lt;chr&gt;</th><th scope=col>&lt;dbl&gt;</th><th scope=col>&lt;dbl&gt;</th><th scope=col>&lt;int&gt;</th><th scope=col>&lt;dbl&gt;</th><th scope=col>&lt;dbl&gt;</th><th scope=col>&lt;dbl&gt;</th><th scope=col>&lt;chr&gt;</th></tr>\n",
                            "</thead>\n",
                            "<tbody>\n",
                            "\t<tr><td>Media</td><td>C04</td><td>502</td><td>0001</td><td>Media</td><td>00</td><td>NA</td><td>NA</td><td>NA</td><td>NA</td><td>\u22ef</td><td>/gpfs/alpine1/scratch/mlippincott@xsede.org/pyroptosis_live-cell_timelapse/Wave1_data/2.illumination_correction/illum_directory/W0052_F0001</td><td>/gpfs/alpine1/scratch/mlippincott@xsede.org/pyroptosis_live-cell_timelapse/Wave1_data/2.illumination_correction/illum_directory/W0052_F0001</td><td>/gpfs/alpine1/scratch/mlippincott@xsede.org/pyroptosis_live-cell_timelapse/Wave1_data/2.illumination_correction/illum_directory/W0052_F0001</td><td>601.2912</td><td>1567.22</td><td>56443</td><td>3.876339</td><td>2.409498</td><td>1</td><td>1 hours</td></tr>\n",
                            "</tbody>\n",
                            "</table>\n"
                        ],
                        "text/latex": [
                            "A tibble: 1 \u00d7 37\n",
                            "\\begin{tabular}{lllllllllllllllllllll}\n",
                            " Metadata\\_treatment & Metadata\\_Well & Metadata\\_number\\_of\\_singlecells & Metadata\\_FOV & Metadata\\_treatment1 & Metadata\\_Time & Metadata\\_treatment2 & Metadata\\_treatment1\\_dose & Metadata\\_treatment1\\_unit & Metadata\\_treatment2\\_dose & \u22ef & Metadata\\_Image\\_PathName\\_CL561 & Metadata\\_Image\\_PathName\\_DNA & Metadata\\_Image\\_PathName\\_GSDM & Metadata\\_Nuclei\\_Location\\_Center\\_X & Metadata\\_Nuclei\\_Location\\_Center\\_Y & Metadata\\_cells\\_per\\_well & UMAP0 & UMAP1 & Metadata\\_timepoint & Metadata\\_timepoint\\_hours\\\\\n",
                            " <chr> & <chr> & <int> & <chr> & <chr> & <chr> & <chr> & <chr> & <chr> & <chr> & \u22ef & <chr> & <chr> & <chr> & <dbl> & <dbl> & <int> & <dbl> & <dbl> & <dbl> & <chr>\\\\\n",
                            "\\hline\n",
                            "\t Media & C04 & 502 & 0001 & Media & 00 & NA & NA & NA & NA & \u22ef & /gpfs/alpine1/scratch/mlippincott@xsede.org/pyroptosis\\_live-cell\\_timelapse/Wave1\\_data/2.illumination\\_correction/illum\\_directory/W0052\\_F0001 & /gpfs/alpine1/scratch/mlippincott@xsede.org/pyroptosis\\_live-cell\\_timelapse/Wave1\\_data/2.illumination\\_correction/illum\\_directory/W0052\\_F0001 & /gpfs/alpine1/scratch/mlippincott@xsede.org/pyroptosis\\_live-cell\\_timelapse/Wave1\\_data/2.illumination\\_correction/illum\\_directory/W0052\\_F0001 & 601.2912 & 1567.22 & 56443 & 3.876339 & 2.409498 & 1 & 1 hours\\\\\n",
                            "\\end{tabular}\n"
                        ],
                        "text/markdown": [
                            "\n",
                            "A tibble: 1 \u00d7 37\n",
                            "\n",
                            "| Metadata_treatment &lt;chr&gt; | Metadata_Well &lt;chr&gt; | Metadata_number_of_singlecells &lt;int&gt; | Metadata_FOV &lt;chr&gt; | Metadata_treatment1 &lt;chr&gt; | Metadata_Time &lt;chr&gt; | Metadata_treatment2 &lt;chr&gt; | Metadata_treatment1_dose &lt;chr&gt; | Metadata_treatment1_unit &lt;chr&gt; | Metadata_treatment2_dose &lt;chr&gt; | \u22ef \u22ef | Metadata_Image_PathName_CL561 &lt;chr&gt; | Metadata_Image_PathName_DNA &lt;chr&gt; | Metadata_Image_PathName_GSDM &lt;chr&gt; | Metadata_Nuclei_Location_Center_X &lt;dbl&gt; | Metadata_Nuclei_Location_Center_Y &lt;dbl&gt; | Metadata_cells_per_well &lt;int&gt; | UMAP0 &lt;dbl&gt; | UMAP1 &lt;dbl&gt; | Metadata_timepoint &lt;dbl&gt; | Metadata_timepoint_hours &lt;chr&gt; |\n",
                            "|---|---|---|---|---|---|---|---|---|---|---|---|---|---|---|---|---|---|---|---|---|\n",
                            "| Media | C04 | 502 | 0001 | Media | 00 | NA | NA | NA | NA | \u22ef | /gpfs/alpine1/scratch/mlippincott@xsede.org/pyroptosis_live-cell_timelapse/Wave1_data/2.illumination_correction/illum_directory/W0052_F0001 | /gpfs/alpine1/scratch/mlippincott@xsede.org/pyroptosis_live-cell_timelapse/Wave1_data/2.illumination_correction/illum_directory/W0052_F0001 | /gpfs/alpine1/scratch/mlippincott@xsede.org/pyroptosis_live-cell_timelapse/Wave1_data/2.illumination_correction/illum_directory/W0052_F0001 | 601.2912 | 1567.22 | 56443 | 3.876339 | 2.409498 | 1 | 1 hours |\n",
                            "\n"
                        ],
                        "text/plain": [
                            "  Metadata_treatment Metadata_Well Metadata_number_of_singlecells Metadata_FOV\n",
                            "1 Media              C04           502                            0001        \n",
                            "  Metadata_treatment1 Metadata_Time Metadata_treatment2\n",
                            "1 Media               00            NA                 \n",
                            "  Metadata_treatment1_dose Metadata_treatment1_unit Metadata_treatment2_dose \u22ef\n",
                            "1 NA                       NA                       NA                       \u22ef\n",
                            "  Metadata_Image_PathName_CL561                                                                                                              \n",
                            "1 /gpfs/alpine1/scratch/mlippincott@xsede.org/pyroptosis_live-cell_timelapse/Wave1_data/2.illumination_correction/illum_directory/W0052_F0001\n",
                            "  Metadata_Image_PathName_DNA                                                                                                                \n",
                            "1 /gpfs/alpine1/scratch/mlippincott@xsede.org/pyroptosis_live-cell_timelapse/Wave1_data/2.illumination_correction/illum_directory/W0052_F0001\n",
                            "  Metadata_Image_PathName_GSDM                                                                                                               \n",
                            "1 /gpfs/alpine1/scratch/mlippincott@xsede.org/pyroptosis_live-cell_timelapse/Wave1_data/2.illumination_correction/illum_directory/W0052_F0001\n",
                            "  Metadata_Nuclei_Location_Center_X Metadata_Nuclei_Location_Center_Y\n",
                            "1 601.2912                          1567.22                          \n",
                            "  Metadata_cells_per_well UMAP0    UMAP1    Metadata_timepoint\n",
                            "1 56443                   3.876339 2.409498 1                 \n",
                            "  Metadata_timepoint_hours\n",
                            "1 1 hours                 "
                        ]
                    },
                    "metadata": {},
                    "output_type": "display_data"
                },
                {
                    "data": {
                        "text/html": [
                            "<table class=\"dataframe\">\n",
                            "<caption>A tibble: 1 \u00d7 35</caption>\n",
                            "<thead>\n",
                            "\t<tr><th scope=col>Metadata_treatment</th><th scope=col>Metadata_Well</th><th scope=col>Metadata_number_of_singlecells</th><th scope=col>Metadata_FOV</th><th scope=col>Metadata_treatment1</th><th scope=col>Metadata_Time</th><th scope=col>Metadata_treatment2</th><th scope=col>Metadata_treatment1_dose</th><th scope=col>Metadata_treatment1_unit</th><th scope=col>Metadata_treatment2_dose</th><th scope=col>\u22ef</th><th scope=col>Metadata_Image_PathName_BF</th><th scope=col>Metadata_Image_PathName_CL488</th><th scope=col>Metadata_Image_PathName_CL561</th><th scope=col>Metadata_Image_PathName_DNA</th><th scope=col>Metadata_Image_PathName_GSDM</th><th scope=col>Metadata_Nuclei_Location_Center_X</th><th scope=col>Metadata_Nuclei_Location_Center_Y</th><th scope=col>Metadata_cells_per_well</th><th scope=col>PCA0</th><th scope=col>PCA1</th></tr>\n",
                            "\t<tr><th scope=col>&lt;chr&gt;</th><th scope=col>&lt;chr&gt;</th><th scope=col>&lt;int&gt;</th><th scope=col>&lt;chr&gt;</th><th scope=col>&lt;chr&gt;</th><th scope=col>&lt;chr&gt;</th><th scope=col>&lt;chr&gt;</th><th scope=col>&lt;chr&gt;</th><th scope=col>&lt;chr&gt;</th><th scope=col>&lt;chr&gt;</th><th scope=col>\u22ef</th><th scope=col>&lt;chr&gt;</th><th scope=col>&lt;chr&gt;</th><th scope=col>&lt;chr&gt;</th><th scope=col>&lt;chr&gt;</th><th scope=col>&lt;chr&gt;</th><th scope=col>&lt;dbl&gt;</th><th scope=col>&lt;dbl&gt;</th><th scope=col>&lt;int&gt;</th><th scope=col>&lt;dbl&gt;</th><th scope=col>&lt;dbl&gt;</th></tr>\n",
                            "</thead>\n",
                            "<tbody>\n",
                            "\t<tr><td>Ab1-42 0.4 uM</td><td>N11</td><td>652</td><td>0002</td><td>Ab1-42</td><td>01</td><td>NA</td><td>0.4</td><td>uM</td><td>NA</td><td>\u22ef</td><td>/gpfs/alpine1/scratch/mlippincott@xsede.org/pyroptosis_live-cell_timelapse/Wave1_data/2.illumination_correction/illum_directory/W0323_F0002</td><td>/gpfs/alpine1/scratch/mlippincott@xsede.org/pyroptosis_live-cell_timelapse/Wave1_data/2.illumination_correction/illum_directory/W0323_F0002</td><td>/gpfs/alpine1/scratch/mlippincott@xsede.org/pyroptosis_live-cell_timelapse/Wave1_data/2.illumination_correction/illum_directory/W0323_F0002</td><td>/gpfs/alpine1/scratch/mlippincott@xsede.org/pyroptosis_live-cell_timelapse/Wave1_data/2.illumination_correction/illum_directory/W0323_F0002</td><td>/gpfs/alpine1/scratch/mlippincott@xsede.org/pyroptosis_live-cell_timelapse/Wave1_data/2.illumination_correction/illum_directory/W0323_F0002</td><td>16.93757</td><td>14.57341</td><td>68519</td><td>13923115</td><td>1941383</td></tr>\n",
                            "</tbody>\n",
                            "</table>\n"
                        ],
                        "text/latex": [
                            "A tibble: 1 \u00d7 35\n",
                            "\\begin{tabular}{lllllllllllllllllllll}\n",
                            " Metadata\\_treatment & Metadata\\_Well & Metadata\\_number\\_of\\_singlecells & Metadata\\_FOV & Metadata\\_treatment1 & Metadata\\_Time & Metadata\\_treatment2 & Metadata\\_treatment1\\_dose & Metadata\\_treatment1\\_unit & Metadata\\_treatment2\\_dose & \u22ef & Metadata\\_Image\\_PathName\\_BF & Metadata\\_Image\\_PathName\\_CL488 & Metadata\\_Image\\_PathName\\_CL561 & Metadata\\_Image\\_PathName\\_DNA & Metadata\\_Image\\_PathName\\_GSDM & Metadata\\_Nuclei\\_Location\\_Center\\_X & Metadata\\_Nuclei\\_Location\\_Center\\_Y & Metadata\\_cells\\_per\\_well & PCA0 & PCA1\\\\\n",
                            " <chr> & <chr> & <int> & <chr> & <chr> & <chr> & <chr> & <chr> & <chr> & <chr> & \u22ef & <chr> & <chr> & <chr> & <chr> & <chr> & <dbl> & <dbl> & <int> & <dbl> & <dbl>\\\\\n",
                            "\\hline\n",
                            "\t Ab1-42 0.4 uM & N11 & 652 & 0002 & Ab1-42 & 01 & NA & 0.4 & uM & NA & \u22ef & /gpfs/alpine1/scratch/mlippincott@xsede.org/pyroptosis\\_live-cell\\_timelapse/Wave1\\_data/2.illumination\\_correction/illum\\_directory/W0323\\_F0002 & /gpfs/alpine1/scratch/mlippincott@xsede.org/pyroptosis\\_live-cell\\_timelapse/Wave1\\_data/2.illumination\\_correction/illum\\_directory/W0323\\_F0002 & /gpfs/alpine1/scratch/mlippincott@xsede.org/pyroptosis\\_live-cell\\_timelapse/Wave1\\_data/2.illumination\\_correction/illum\\_directory/W0323\\_F0002 & /gpfs/alpine1/scratch/mlippincott@xsede.org/pyroptosis\\_live-cell\\_timelapse/Wave1\\_data/2.illumination\\_correction/illum\\_directory/W0323\\_F0002 & /gpfs/alpine1/scratch/mlippincott@xsede.org/pyroptosis\\_live-cell\\_timelapse/Wave1\\_data/2.illumination\\_correction/illum\\_directory/W0323\\_F0002 & 16.93757 & 14.57341 & 68519 & 13923115 & 1941383\\\\\n",
                            "\\end{tabular}\n"
                        ],
                        "text/markdown": [
                            "\n",
                            "A tibble: 1 \u00d7 35\n",
                            "\n",
                            "| Metadata_treatment &lt;chr&gt; | Metadata_Well &lt;chr&gt; | Metadata_number_of_singlecells &lt;int&gt; | Metadata_FOV &lt;chr&gt; | Metadata_treatment1 &lt;chr&gt; | Metadata_Time &lt;chr&gt; | Metadata_treatment2 &lt;chr&gt; | Metadata_treatment1_dose &lt;chr&gt; | Metadata_treatment1_unit &lt;chr&gt; | Metadata_treatment2_dose &lt;chr&gt; | \u22ef \u22ef | Metadata_Image_PathName_BF &lt;chr&gt; | Metadata_Image_PathName_CL488 &lt;chr&gt; | Metadata_Image_PathName_CL561 &lt;chr&gt; | Metadata_Image_PathName_DNA &lt;chr&gt; | Metadata_Image_PathName_GSDM &lt;chr&gt; | Metadata_Nuclei_Location_Center_X &lt;dbl&gt; | Metadata_Nuclei_Location_Center_Y &lt;dbl&gt; | Metadata_cells_per_well &lt;int&gt; | PCA0 &lt;dbl&gt; | PCA1 &lt;dbl&gt; |\n",
                            "|---|---|---|---|---|---|---|---|---|---|---|---|---|---|---|---|---|---|---|---|---|\n",
                            "| Ab1-42 0.4 uM | N11 | 652 | 0002 | Ab1-42 | 01 | NA | 0.4 | uM | NA | \u22ef | /gpfs/alpine1/scratch/mlippincott@xsede.org/pyroptosis_live-cell_timelapse/Wave1_data/2.illumination_correction/illum_directory/W0323_F0002 | /gpfs/alpine1/scratch/mlippincott@xsede.org/pyroptosis_live-cell_timelapse/Wave1_data/2.illumination_correction/illum_directory/W0323_F0002 | /gpfs/alpine1/scratch/mlippincott@xsede.org/pyroptosis_live-cell_timelapse/Wave1_data/2.illumination_correction/illum_directory/W0323_F0002 | /gpfs/alpine1/scratch/mlippincott@xsede.org/pyroptosis_live-cell_timelapse/Wave1_data/2.illumination_correction/illum_directory/W0323_F0002 | /gpfs/alpine1/scratch/mlippincott@xsede.org/pyroptosis_live-cell_timelapse/Wave1_data/2.illumination_correction/illum_directory/W0323_F0002 | 16.93757 | 14.57341 | 68519 | 13923115 | 1941383 |\n",
                            "\n"
                        ],
                        "text/plain": [
                            "  Metadata_treatment Metadata_Well Metadata_number_of_singlecells Metadata_FOV\n",
                            "1 Ab1-42 0.4 uM      N11           652                            0002        \n",
                            "  Metadata_treatment1 Metadata_Time Metadata_treatment2\n",
                            "1 Ab1-42              01            NA                 \n",
                            "  Metadata_treatment1_dose Metadata_treatment1_unit Metadata_treatment2_dose \u22ef\n",
                            "1 0.4                      uM                       NA                       \u22ef\n",
                            "  Metadata_Image_PathName_BF                                                                                                                 \n",
                            "1 /gpfs/alpine1/scratch/mlippincott@xsede.org/pyroptosis_live-cell_timelapse/Wave1_data/2.illumination_correction/illum_directory/W0323_F0002\n",
                            "  Metadata_Image_PathName_CL488                                                                                                              \n",
                            "1 /gpfs/alpine1/scratch/mlippincott@xsede.org/pyroptosis_live-cell_timelapse/Wave1_data/2.illumination_correction/illum_directory/W0323_F0002\n",
                            "  Metadata_Image_PathName_CL561                                                                                                              \n",
                            "1 /gpfs/alpine1/scratch/mlippincott@xsede.org/pyroptosis_live-cell_timelapse/Wave1_data/2.illumination_correction/illum_directory/W0323_F0002\n",
                            "  Metadata_Image_PathName_DNA                                                                                                                \n",
                            "1 /gpfs/alpine1/scratch/mlippincott@xsede.org/pyroptosis_live-cell_timelapse/Wave1_data/2.illumination_correction/illum_directory/W0323_F0002\n",
                            "  Metadata_Image_PathName_GSDM                                                                                                               \n",
                            "1 /gpfs/alpine1/scratch/mlippincott@xsede.org/pyroptosis_live-cell_timelapse/Wave1_data/2.illumination_correction/illum_directory/W0323_F0002\n",
                            "  Metadata_Nuclei_Location_Center_X Metadata_Nuclei_Location_Center_Y\n",
                            "1 16.93757                          14.57341                         \n",
                            "  Metadata_cells_per_well PCA0     PCA1   \n",
                            "1 68519                   13923115 1941383"
                        ]
                    },
                    "metadata": {},
                    "output_type": "display_data"
                },
                {
                    "data": {
                        "text/html": [
                            "<table class=\"dataframe\">\n",
                            "<caption>A tibble: 1 \u00d7 2</caption>\n",
                            "<thead>\n",
                            "\t<tr><th scope=col>Explained Variance</th><th scope=col>Principal Component</th></tr>\n",
                            "\t<tr><th scope=col>&lt;dbl&gt;</th><th scope=col>&lt;int&gt;</th></tr>\n",
                            "</thead>\n",
                            "<tbody>\n",
                            "\t<tr><td>0.5872091</td><td>1</td></tr>\n",
                            "</tbody>\n",
                            "</table>\n"
                        ],
                        "text/latex": [
                            "A tibble: 1 \u00d7 2\n",
                            "\\begin{tabular}{ll}\n",
                            " Explained Variance & Principal Component\\\\\n",
                            " <dbl> & <int>\\\\\n",
                            "\\hline\n",
                            "\t 0.5872091 & 1\\\\\n",
                            "\\end{tabular}\n"
                        ],
                        "text/markdown": [
                            "\n",
                            "A tibble: 1 \u00d7 2\n",
                            "\n",
                            "| Explained Variance &lt;dbl&gt; | Principal Component &lt;int&gt; |\n",
                            "|---|---|\n",
                            "| 0.5872091 | 1 |\n",
                            "\n"
                        ],
                        "text/plain": [
                            "  Explained Variance Principal Component\n",
                            "1 0.5872091          1                  "
                        ]
                    },
                    "metadata": {},
                    "output_type": "display_data"
                }
            ],
            "source": [
                "print(dim(umap_data))\n",
                "print(dim(pca_data))\n",
                "print(dim(scree_data))\n",
                "\n",
                "head(umap_data,1)\n",
                "head(pca_data,1)\n",
                "head(scree_data,1)"
            ]
        },
        {
            "cell_type": "code",
            "execution_count": 11,
            "metadata": {
                "vscode": {
                    "languageId": "r"
                }
            },
            "outputs": [
                {
                    "name": "stdout",
                    "output_type": "stream",
                    "text": [
                        "[1] 8223   37\n",
                        "[1] 3820888      35\n",
                        "[1] 8223   37\n",
                        "[1] 3820888      35\n"
                    ]
                }
            ],
            "source": [
                "print(dim(umap_data))\n",
                "print(dim(pca_data))\n",
                "\n",
                "# randomly mix the order of the rows to prevent plotting bias and artifacts\n",
                "umap_data <- umap_data[sample(nrow(umap_data)),]\n",
                "pca_data <- pca_data[sample(nrow(pca_data)),]\n",
                "\n",
                "print(dim(umap_data))\n",
                "print(dim(pca_data))"
            ]
        },
        {
            "cell_type": "code",
            "execution_count": 12,
            "metadata": {
                "vscode": {
                    "languageId": "r"
                }
            },
            "outputs": [
                {
                    "data": {
                        "text/html": [
                            "<style>\n",
                            ".list-inline {list-style: none; margin:0; padding: 0}\n",
                            ".list-inline>li {display: inline-block}\n",
                            ".list-inline>li:not(:last-child)::after {content: \"\\00b7\"; padding: 0 .5ex}\n",
                            "</style>\n",
                            "<ol class=list-inline><li>'Thapsigargin 10 uM'</li><li>'Ab1-42 10 uM'</li><li>'Flagellin 10 ug/ml'</li><li>'H2O2 100 uM'</li><li>'Flagellin 0.1 ug/ml'</li><li>'Thapsigargin 0.5uM'</li><li>'LPS 1 ug/ml + Nigericin 3uM'</li><li>'LPS 0.1 ug/ml'</li><li>'DMSO CTL'</li><li>'LPS 1 ug/ml + Nigericin 0.5uM'</li><li>'LPS 1 ug/ml + Nigericin 5uM'</li><li>'LPS 1 ug/ml + Nigericin 0.1 uM'</li><li>'Media'</li><li>'LPS 1 ug/ml + ATP 2.5 mM'</li><li>'LPS 10 ug/ml'</li><li>'Ab1-42 2 uM'</li><li>'LPS 1 ug/ml + Nigericin 1 uM'</li><li>'Thapsigargin 1 uM'</li><li>'Ab1-42 0.4 uM'</li><li>'Flagellin 1 ug/ml'</li><li>'LPS 1 ug/ml'</li><li>'H2O2 100 nM'</li><li>'H2O2 500 uM'</li></ol>\n"
                        ],
                        "text/latex": [
                            "\\begin{enumerate*}\n",
                            "\\item 'Thapsigargin 10 uM'\n",
                            "\\item 'Ab1-42 10 uM'\n",
                            "\\item 'Flagellin 10 ug/ml'\n",
                            "\\item 'H2O2 100 uM'\n",
                            "\\item 'Flagellin 0.1 ug/ml'\n",
                            "\\item 'Thapsigargin 0.5uM'\n",
                            "\\item 'LPS 1 ug/ml + Nigericin 3uM'\n",
                            "\\item 'LPS 0.1 ug/ml'\n",
                            "\\item 'DMSO CTL'\n",
                            "\\item 'LPS 1 ug/ml + Nigericin 0.5uM'\n",
                            "\\item 'LPS 1 ug/ml + Nigericin 5uM'\n",
                            "\\item 'LPS 1 ug/ml + Nigericin 0.1 uM'\n",
                            "\\item 'Media'\n",
                            "\\item 'LPS 1 ug/ml + ATP 2.5 mM'\n",
                            "\\item 'LPS 10 ug/ml'\n",
                            "\\item 'Ab1-42 2 uM'\n",
                            "\\item 'LPS 1 ug/ml + Nigericin 1 uM'\n",
                            "\\item 'Thapsigargin 1 uM'\n",
                            "\\item 'Ab1-42 0.4 uM'\n",
                            "\\item 'Flagellin 1 ug/ml'\n",
                            "\\item 'LPS 1 ug/ml'\n",
                            "\\item 'H2O2 100 nM'\n",
                            "\\item 'H2O2 500 uM'\n",
                            "\\end{enumerate*}\n"
                        ],
                        "text/markdown": [
                            "1. 'Thapsigargin 10 uM'\n",
                            "2. 'Ab1-42 10 uM'\n",
                            "3. 'Flagellin 10 ug/ml'\n",
                            "4. 'H2O2 100 uM'\n",
                            "5. 'Flagellin 0.1 ug/ml'\n",
                            "6. 'Thapsigargin 0.5uM'\n",
                            "7. 'LPS 1 ug/ml + Nigericin 3uM'\n",
                            "8. 'LPS 0.1 ug/ml'\n",
                            "9. 'DMSO CTL'\n",
                            "10. 'LPS 1 ug/ml + Nigericin 0.5uM'\n",
                            "11. 'LPS 1 ug/ml + Nigericin 5uM'\n",
                            "12. 'LPS 1 ug/ml + Nigericin 0.1 uM'\n",
                            "13. 'Media'\n",
                            "14. 'LPS 1 ug/ml + ATP 2.5 mM'\n",
                            "15. 'LPS 10 ug/ml'\n",
                            "16. 'Ab1-42 2 uM'\n",
                            "17. 'LPS 1 ug/ml + Nigericin 1 uM'\n",
                            "18. 'Thapsigargin 1 uM'\n",
                            "19. 'Ab1-42 0.4 uM'\n",
                            "20. 'Flagellin 1 ug/ml'\n",
                            "21. 'LPS 1 ug/ml'\n",
                            "22. 'H2O2 100 nM'\n",
                            "23. 'H2O2 500 uM'\n",
                            "\n",
                            "\n"
                        ],
                        "text/plain": [
                            " [1] \"Thapsigargin 10 uM\"             \"Ab1-42 10 uM\"                  \n",
                            " [3] \"Flagellin 10 ug/ml\"             \"H2O2 100 uM\"                   \n",
                            " [5] \"Flagellin 0.1 ug/ml\"            \"Thapsigargin 0.5uM\"            \n",
                            " [7] \"LPS 1 ug/ml + Nigericin 3uM\"    \"LPS 0.1 ug/ml\"                 \n",
                            " [9] \"DMSO CTL\"                       \"LPS 1 ug/ml + Nigericin 0.5uM\" \n",
                            "[11] \"LPS 1 ug/ml + Nigericin 5uM\"    \"LPS 1 ug/ml + Nigericin 0.1 uM\"\n",
                            "[13] \"Media\"                          \"LPS 1 ug/ml + ATP 2.5 mM\"      \n",
                            "[15] \"LPS 10 ug/ml\"                   \"Ab1-42 2 uM\"                   \n",
                            "[17] \"LPS 1 ug/ml + Nigericin 1 uM\"   \"Thapsigargin 1 uM\"             \n",
                            "[19] \"Ab1-42 0.4 uM\"                  \"Flagellin 1 ug/ml\"             \n",
                            "[21] \"LPS 1 ug/ml\"                    \"H2O2 100 nM\"                   \n",
                            "[23] \"H2O2 500 uM\"                   "
                        ]
                    },
                    "metadata": {},
                    "output_type": "display_data"
                },
                {
                    "data": {
                        "text/html": [
                            "<style>\n",
                            ".list-inline {list-style: none; margin:0; padding: 0}\n",
                            ".list-inline>li {display: inline-block}\n",
                            ".list-inline>li:not(:last-child)::after {content: \"\\00b7\"; padding: 0 .5ex}\n",
                            "</style>\n",
                            "<ol class=list-inline><li>Thapsigargin 10 uM</li><li>Ab1-42 10 uM</li><li>Flagellin 10 ug/ml</li><li>H2O2 100 uM</li><li>Flagellin 0.1 ug/ml</li><li>Thapsigargin 0.5uM</li><li>LPS 1 ug/ml + Nigericin 3uM</li><li>LPS 0.1 ug/ml</li><li>DMSO CTL</li><li>LPS 1 ug/ml + Nigericin 0.5uM</li><li>LPS 1 ug/ml + Nigericin 5uM</li><li>LPS 1 ug/ml + Nigericin 0.1 uM</li><li>Media</li><li>LPS 1 ug/ml + ATP 2.5 mM</li><li>LPS 10 ug/ml</li><li>Ab1-42 2 uM</li><li>LPS 1 ug/ml + Nigericin 1 uM</li><li>Thapsigargin 1 uM</li><li>Ab1-42 0.4 uM</li><li>Flagellin 1 ug/ml</li><li>LPS 1 ug/ml</li><li>H2O2 100 nM</li><li>H2O2 500 uM</li></ol>\n",
                            "\n",
                            "<details>\n",
                            "\t<summary style=display:list-item;cursor:pointer>\n",
                            "\t\t<strong>Levels</strong>:\n",
                            "\t</summary>\n",
                            "\t<style>\n",
                            "\t.list-inline {list-style: none; margin:0; padding: 0}\n",
                            "\t.list-inline>li {display: inline-block}\n",
                            "\t.list-inline>li:not(:last-child)::after {content: \"\\00b7\"; padding: 0 .5ex}\n",
                            "\t</style>\n",
                            "\t<ol class=list-inline><li>'Media'</li><li>'DMSO CTL'</li><li>'no Hoechst'</li><li>'LPS 0.1 ug/ml'</li><li>'LPS 1 ug/ml'</li><li>'LPS 10 ug/ml'</li><li>'LPS 1 ug/ml + ATP 2.5 mM'</li><li>'LPS 1 ug/ml + Nigericin 0.1 uM'</li><li>'LPS 1 ug/ml + Nigericin 0.5uM'</li><li>'LPS 1 ug/ml + Nigericin 1 uM'</li><li>'LPS 1 ug/ml + Nigericin 3uM'</li><li>'LPS 1 ug/ml + Nigericin 5uM'</li><li>'Flagellin 0.1 ug/ml'</li><li>'Flagellin 1 ug/ml'</li><li>'Flagellin 10 ug/ml'</li><li>'Thapsigargin 0.5uM'</li><li>'Thapsigargin 1 uM'</li><li>'Thapsigargin 10 uM'</li><li>'H2O2 100 nM'</li><li>'H2O2 100 uM'</li><li>'H2O2 500 uM'</li><li>'Ab1-42 0.4 uM'</li><li>'Ab1-42 2 uM'</li><li>'Ab1-42 10 uM'</li></ol>\n",
                            "</details>"
                        ],
                        "text/latex": [
                            "\\begin{enumerate*}\n",
                            "\\item Thapsigargin 10 uM\n",
                            "\\item Ab1-42 10 uM\n",
                            "\\item Flagellin 10 ug/ml\n",
                            "\\item H2O2 100 uM\n",
                            "\\item Flagellin 0.1 ug/ml\n",
                            "\\item Thapsigargin 0.5uM\n",
                            "\\item LPS 1 ug/ml + Nigericin 3uM\n",
                            "\\item LPS 0.1 ug/ml\n",
                            "\\item DMSO CTL\n",
                            "\\item LPS 1 ug/ml + Nigericin 0.5uM\n",
                            "\\item LPS 1 ug/ml + Nigericin 5uM\n",
                            "\\item LPS 1 ug/ml + Nigericin 0.1 uM\n",
                            "\\item Media\n",
                            "\\item LPS 1 ug/ml + ATP 2.5 mM\n",
                            "\\item LPS 10 ug/ml\n",
                            "\\item Ab1-42 2 uM\n",
                            "\\item LPS 1 ug/ml + Nigericin 1 uM\n",
                            "\\item Thapsigargin 1 uM\n",
                            "\\item Ab1-42 0.4 uM\n",
                            "\\item Flagellin 1 ug/ml\n",
                            "\\item LPS 1 ug/ml\n",
                            "\\item H2O2 100 nM\n",
                            "\\item H2O2 500 uM\n",
                            "\\end{enumerate*}\n",
                            "\n",
                            "\\emph{Levels}: \\begin{enumerate*}\n",
                            "\\item 'Media'\n",
                            "\\item 'DMSO CTL'\n",
                            "\\item 'no Hoechst'\n",
                            "\\item 'LPS 0.1 ug/ml'\n",
                            "\\item 'LPS 1 ug/ml'\n",
                            "\\item 'LPS 10 ug/ml'\n",
                            "\\item 'LPS 1 ug/ml + ATP 2.5 mM'\n",
                            "\\item 'LPS 1 ug/ml + Nigericin 0.1 uM'\n",
                            "\\item 'LPS 1 ug/ml + Nigericin 0.5uM'\n",
                            "\\item 'LPS 1 ug/ml + Nigericin 1 uM'\n",
                            "\\item 'LPS 1 ug/ml + Nigericin 3uM'\n",
                            "\\item 'LPS 1 ug/ml + Nigericin 5uM'\n",
                            "\\item 'Flagellin 0.1 ug/ml'\n",
                            "\\item 'Flagellin 1 ug/ml'\n",
                            "\\item 'Flagellin 10 ug/ml'\n",
                            "\\item 'Thapsigargin 0.5uM'\n",
                            "\\item 'Thapsigargin 1 uM'\n",
                            "\\item 'Thapsigargin 10 uM'\n",
                            "\\item 'H2O2 100 nM'\n",
                            "\\item 'H2O2 100 uM'\n",
                            "\\item 'H2O2 500 uM'\n",
                            "\\item 'Ab1-42 0.4 uM'\n",
                            "\\item 'Ab1-42 2 uM'\n",
                            "\\item 'Ab1-42 10 uM'\n",
                            "\\end{enumerate*}\n"
                        ],
                        "text/markdown": [
                            "1. Thapsigargin 10 uM\n",
                            "2. Ab1-42 10 uM\n",
                            "3. Flagellin 10 ug/ml\n",
                            "4. H2O2 100 uM\n",
                            "5. Flagellin 0.1 ug/ml\n",
                            "6. Thapsigargin 0.5uM\n",
                            "7. LPS 1 ug/ml + Nigericin 3uM\n",
                            "8. LPS 0.1 ug/ml\n",
                            "9. DMSO CTL\n",
                            "10. LPS 1 ug/ml + Nigericin 0.5uM\n",
                            "11. LPS 1 ug/ml + Nigericin 5uM\n",
                            "12. LPS 1 ug/ml + Nigericin 0.1 uM\n",
                            "13. Media\n",
                            "14. LPS 1 ug/ml + ATP 2.5 mM\n",
                            "15. LPS 10 ug/ml\n",
                            "16. Ab1-42 2 uM\n",
                            "17. LPS 1 ug/ml + Nigericin 1 uM\n",
                            "18. Thapsigargin 1 uM\n",
                            "19. Ab1-42 0.4 uM\n",
                            "20. Flagellin 1 ug/ml\n",
                            "21. LPS 1 ug/ml\n",
                            "22. H2O2 100 nM\n",
                            "23. H2O2 500 uM\n",
                            "\n",
                            "\n",
                            "\n",
                            "**Levels**: 1. 'Media'\n",
                            "2. 'DMSO CTL'\n",
                            "3. 'no Hoechst'\n",
                            "4. 'LPS 0.1 ug/ml'\n",
                            "5. 'LPS 1 ug/ml'\n",
                            "6. 'LPS 10 ug/ml'\n",
                            "7. 'LPS 1 ug/ml + ATP 2.5 mM'\n",
                            "8. 'LPS 1 ug/ml + Nigericin 0.1 uM'\n",
                            "9. 'LPS 1 ug/ml + Nigericin 0.5uM'\n",
                            "10. 'LPS 1 ug/ml + Nigericin 1 uM'\n",
                            "11. 'LPS 1 ug/ml + Nigericin 3uM'\n",
                            "12. 'LPS 1 ug/ml + Nigericin 5uM'\n",
                            "13. 'Flagellin 0.1 ug/ml'\n",
                            "14. 'Flagellin 1 ug/ml'\n",
                            "15. 'Flagellin 10 ug/ml'\n",
                            "16. 'Thapsigargin 0.5uM'\n",
                            "17. 'Thapsigargin 1 uM'\n",
                            "18. 'Thapsigargin 10 uM'\n",
                            "19. 'H2O2 100 nM'\n",
                            "20. 'H2O2 100 uM'\n",
                            "21. 'H2O2 500 uM'\n",
                            "22. 'Ab1-42 0.4 uM'\n",
                            "23. 'Ab1-42 2 uM'\n",
                            "24. 'Ab1-42 10 uM'\n",
                            "\n",
                            "\n"
                        ],
                        "text/plain": [
                            " [1] Thapsigargin 10 uM             Ab1-42 10 uM                  \n",
                            " [3] Flagellin 10 ug/ml             H2O2 100 uM                   \n",
                            " [5] Flagellin 0.1 ug/ml            Thapsigargin 0.5uM            \n",
                            " [7] LPS 1 ug/ml + Nigericin 3uM    LPS 0.1 ug/ml                 \n",
                            " [9] DMSO CTL                       LPS 1 ug/ml + Nigericin 0.5uM \n",
                            "[11] LPS 1 ug/ml + Nigericin 5uM    LPS 1 ug/ml + Nigericin 0.1 uM\n",
                            "[13] Media                          LPS 1 ug/ml + ATP 2.5 mM      \n",
                            "[15] LPS 10 ug/ml                   Ab1-42 2 uM                   \n",
                            "[17] LPS 1 ug/ml + Nigericin 1 uM   Thapsigargin 1 uM             \n",
                            "[19] Ab1-42 0.4 uM                  Flagellin 1 ug/ml             \n",
                            "[21] LPS 1 ug/ml                    H2O2 100 nM                   \n",
                            "[23] H2O2 500 uM                   \n",
                            "24 Levels: Media DMSO CTL no Hoechst LPS 0.1 ug/ml LPS 1 ug/ml ... Ab1-42 10 uM"
                        ]
                    },
                    "metadata": {},
                    "output_type": "display_data"
                }
            ],
            "source": [
                "unique(umap_data$Metadata_treatment)\n",
                "umap_data$Metadata_treatment <- factor(umap_data$Metadata_treatment, levels = c(\n",
                "    'Media',\n",
                "    'DMSO CTL',\n",
                "    'no Hoechst',\n",
                "\n",
                "    'LPS 0.1 ug/ml',\n",
                "    'LPS 1 ug/ml',\n",
                "    'LPS 10 ug/ml',\n",
                "    'LPS 1 ug/ml + ATP 2.5 mM',\n",
                "    'LPS 1 ug/ml + Nigericin 0.1 uM',\n",
                "    'LPS 1 ug/ml + Nigericin 0.5uM',\n",
                "    'LPS 1 ug/ml + Nigericin 1 uM',\n",
                "    'LPS 1 ug/ml + Nigericin 3uM',\n",
                "    'LPS 1 ug/ml + Nigericin 5uM',\n",
                "\n",
                "    'Flagellin 0.1 ug/ml',\n",
                "    'Flagellin 1 ug/ml',\n",
                "    'Flagellin 10 ug/ml',\n",
                "\n",
                "    'Thapsigargin 0.5uM',\n",
                "    'Thapsigargin 1 uM',\n",
                "    'Thapsigargin 10 uM',\n",
                "    'H2O2 100 nM',\n",
                "    'H2O2 100 uM',\n",
                "    'H2O2 500 uM',\n",
                "\n",
                "    'Ab1-42 0.4 uM',\n",
                "    'Ab1-42 2 uM',\n",
                "    'Ab1-42 10 uM'\n",
                "))\n",
                "unique(umap_data$Metadata_treatment)\n"
            ]
        },
        {
            "cell_type": "code",
            "execution_count": 13,
            "metadata": {
                "vscode": {
                    "languageId": "r"
                }
            },
            "outputs": [],
            "source": [
                "\n",
                "\n",
                "# 9 colors\n",
                "# col 1 - 3 hues\n",
                "# colorgrad1 <- c(\"white\", \"grey\", \"#585858\")\n",
                "colorgrad1 <- colorRampPalette(c(\"lightgrey\", \"grey\"))(3)\n",
                "# col 2 - 5 hues color ramp 5 hues\n",
                "colorgrad2 <- colorRampPalette(c(\"pink\", \"darkred\"))(11)\n",
                "# col 3 - 3 hues\n",
                "colorgrad3 <- colorRampPalette(c(\"yellow\", \"brown\"))(3)\n",
                "# col 4 - 3 hues\n",
                "colorgrad4 <- colorRampPalette(c(\"lightblue\", \"darkblue\"))(6)\n",
                "# col 5 - 2 hues\n",
                "colorgrad5 <- colorRampPalette(c(\"lightgreen\", \"darkgreen\"))(3)\n",
                "# col 6 - 3 hues\n",
                "colorgrad6 <- colorRampPalette(c(\"purple\", \"#2e004b\"))(3)\n",
                "# col 7 - 2 hues\n",
                "colorgrad7 <- colorRampPalette(c(\"cyan\", \"darkcyan\"))(4)\n",
                "# col 8 - 2 hues\n",
                "colorgrad8 <- colorRampPalette(c(\"#ebb676\", \"darkorange\"))(3)\n",
                "# col 9 - 3 hues\n",
                "colorgrad9 <- colorRampPalette(c(\"magenta\", \"#833b83\"))(3)"
            ]
        },
        {
            "cell_type": "code",
            "execution_count": 14,
            "metadata": {
                "vscode": {
                    "languageId": "r"
                }
            },
            "outputs": [],
            "source": [
                "# define the colors\n",
                "colors <- c(\n",
                "    'Media' = colorgrad1[1],\n",
                "    'DMSO CTL' = colorgrad1[2],\n",
                "    'no Hoechst' = colorgrad1[3],\n",
                "\n",
                "    'LPS 0.1 ug/ml' = colorgrad2[1],\n",
                "    'LPS 1 ug/ml' = colorgrad2[2],\n",
                "    'LPS 10 ug/ml' = colorgrad2[3],\n",
                "    'LPS 1 ug/ml + ATP 2.5 mM' = colorgrad2[4],\n",
                "    'LPS 1 ug/ml + Nigericin 0.1 uM' = colorgrad2[5],\n",
                "    'LPS 1 ug/ml + Nigericin 0.5uM' = colorgrad2[6],\n",
                "    'LPS 1 ug/ml + Nigericin 1 uM' = colorgrad2[7],\n",
                "    'LPS 1 ug/ml + Nigericin 3uM' = colorgrad2[8],\n",
                "    'LPS 1 ug/ml + Nigericin 5uM' = colorgrad2[9],\n",
                "\n",
                "    'Flagellin 0.1 ug/ml' = colorgrad5[1],\n",
                "    'Flagellin 1 ug/ml' = colorgrad5[2],\n",
                "    'Flagellin 10 ug/ml' = colorgrad5[3],\n",
                "\n",
                "    'Thapsigargin 0.5uM' = colorgrad8[1],\n",
                "    'Thapsigargin 1 uM' = colorgrad8[2],\n",
                "    'Thapsigargin 10 uM' = colorgrad8[3],\n",
                "    \n",
                "    'H2O2 100 nM' = colorgrad7[1],\n",
                "    'H2O2 100 uM' = colorgrad7[2],\n",
                "    'H2O2 500 uM' = colorgrad7[3],\n",
                "\n",
                "    'Ab1-42 0.4 uM' = colorgrad4[1],\n",
                "    'Ab1-42 2 uM' = colorgrad4[2],\n",
                "    'Ab1-42 10 uM' = colorgrad4[3]\n",
                ")"
            ]
        },
        {
            "cell_type": "code",
            "execution_count": 15,
            "metadata": {
                "vscode": {
                    "languageId": "r"
                }
            },
            "outputs": [
                {
                    "data": {
                        "text/html": [
                            "<table class=\"dataframe\">\n",
                            "<caption>A tibble: 6 \u00d7 37</caption>\n",
                            "<thead>\n",
                            "\t<tr><th scope=col>Metadata_treatment</th><th scope=col>Metadata_Well</th><th scope=col>Metadata_number_of_singlecells</th><th scope=col>Metadata_FOV</th><th scope=col>Metadata_treatment1</th><th scope=col>Metadata_Time</th><th scope=col>Metadata_treatment2</th><th scope=col>Metadata_treatment1_dose</th><th scope=col>Metadata_treatment1_unit</th><th scope=col>Metadata_treatment2_dose</th><th scope=col>\u22ef</th><th scope=col>Metadata_Image_PathName_CL561</th><th scope=col>Metadata_Image_PathName_DNA</th><th scope=col>Metadata_Image_PathName_GSDM</th><th scope=col>Metadata_Nuclei_Location_Center_X</th><th scope=col>Metadata_Nuclei_Location_Center_Y</th><th scope=col>Metadata_cells_per_well</th><th scope=col>UMAP0</th><th scope=col>UMAP1</th><th scope=col>Metadata_timepoint</th><th scope=col>Metadata_timepoint_hours</th></tr>\n",
                            "\t<tr><th scope=col>&lt;fct&gt;</th><th scope=col>&lt;chr&gt;</th><th scope=col>&lt;int&gt;</th><th scope=col>&lt;chr&gt;</th><th scope=col>&lt;chr&gt;</th><th scope=col>&lt;chr&gt;</th><th scope=col>&lt;chr&gt;</th><th scope=col>&lt;chr&gt;</th><th scope=col>&lt;chr&gt;</th><th scope=col>&lt;chr&gt;</th><th scope=col>\u22ef</th><th scope=col>&lt;chr&gt;</th><th scope=col>&lt;chr&gt;</th><th scope=col>&lt;chr&gt;</th><th scope=col>&lt;dbl&gt;</th><th scope=col>&lt;dbl&gt;</th><th scope=col>&lt;int&gt;</th><th scope=col>&lt;dbl&gt;</th><th scope=col>&lt;dbl&gt;</th><th scope=col>&lt;dbl&gt;</th><th scope=col>&lt;chr&gt;</th></tr>\n",
                            "</thead>\n",
                            "<tbody>\n",
                            "\t<tr><td>Flagellin 10 ug/ml          </td><td>H10</td><td>545</td><td>0001</td><td>Flagellin   </td><td>00</td><td>NA       </td><td>10 </td><td>ug/ml</td><td>NA </td><td>\u22ef</td><td>/gpfs/alpine1/scratch/mlippincott@xsede.org/pyroptosis_live-cell_timelapse/Wave1_data/2.illumination_correction/illum_directory/W0178_F0001</td><td>/gpfs/alpine1/scratch/mlippincott@xsede.org/pyroptosis_live-cell_timelapse/Wave1_data/2.illumination_correction/illum_directory/W0178_F0001</td><td>/gpfs/alpine1/scratch/mlippincott@xsede.org/pyroptosis_live-cell_timelapse/Wave1_data/2.illumination_correction/illum_directory/W0178_F0001</td><td>1442.7887</td><td>1896.46835</td><td>59073</td><td> 1.284234</td><td>-3.1407347</td><td>1</td><td>1 hours</td></tr>\n",
                            "\t<tr><td>LPS 1 ug/ml + Nigericin 1 uM</td><td>I09</td><td>429</td><td>0002</td><td>LPS         </td><td>00</td><td>Nigericin</td><td>1  </td><td>ug/ml</td><td>1  </td><td>\u22ef</td><td>/gpfs/alpine1/scratch/mlippincott@xsede.org/pyroptosis_live-cell_timelapse/Wave1_data/2.illumination_correction/illum_directory/W0201_F0002</td><td>/gpfs/alpine1/scratch/mlippincott@xsede.org/pyroptosis_live-cell_timelapse/Wave1_data/2.illumination_correction/illum_directory/W0201_F0002</td><td>/gpfs/alpine1/scratch/mlippincott@xsede.org/pyroptosis_live-cell_timelapse/Wave1_data/2.illumination_correction/illum_directory/W0201_F0002</td><td> 506.3431</td><td>  10.44567</td><td>22522</td><td>-3.531299</td><td>-3.5998526</td><td>1</td><td>1 hours</td></tr>\n",
                            "\t<tr><td>LPS 1 ug/ml + ATP 2.5 mM    </td><td>G06</td><td>401</td><td>0001</td><td>LPS         </td><td>00</td><td>ATP      </td><td>1  </td><td>ug/ml</td><td>2.5</td><td>\u22ef</td><td>/gpfs/alpine1/scratch/mlippincott@xsede.org/pyroptosis_live-cell_timelapse/Wave1_data/2.illumination_correction/illum_directory/W0150_F0001</td><td>/gpfs/alpine1/scratch/mlippincott@xsede.org/pyroptosis_live-cell_timelapse/Wave1_data/2.illumination_correction/illum_directory/W0150_F0001</td><td>/gpfs/alpine1/scratch/mlippincott@xsede.org/pyroptosis_live-cell_timelapse/Wave1_data/2.illumination_correction/illum_directory/W0150_F0001</td><td> 756.7606</td><td>1749.22673</td><td>35745</td><td> 4.258172</td><td>-1.4758145</td><td>1</td><td>1 hours</td></tr>\n",
                            "\t<tr><td>Ab1-42 0.4 uM               </td><td>N11</td><td>645</td><td>0002</td><td>Ab1-42      </td><td>00</td><td>NA       </td><td>0.4</td><td>uM   </td><td>NA </td><td>\u22ef</td><td>/gpfs/alpine1/scratch/mlippincott@xsede.org/pyroptosis_live-cell_timelapse/Wave1_data/2.illumination_correction/illum_directory/W0323_F0002</td><td>/gpfs/alpine1/scratch/mlippincott@xsede.org/pyroptosis_live-cell_timelapse/Wave1_data/2.illumination_correction/illum_directory/W0323_F0002</td><td>/gpfs/alpine1/scratch/mlippincott@xsede.org/pyroptosis_live-cell_timelapse/Wave1_data/2.illumination_correction/illum_directory/W0323_F0002</td><td>1979.9631</td><td> 971.92694</td><td>68519</td><td>-2.176770</td><td>-0.3089860</td><td>1</td><td>1 hours</td></tr>\n",
                            "\t<tr><td>Thapsigargin 10 uM          </td><td>D09</td><td>494</td><td>0005</td><td>Thapsigargin</td><td>00</td><td>NA       </td><td>10 </td><td>uM   </td><td>NA </td><td>\u22ef</td><td>/gpfs/alpine1/scratch/mlippincott@xsede.org/pyroptosis_live-cell_timelapse/Wave1_data/2.illumination_correction/illum_directory/W0081_F0005</td><td>/gpfs/alpine1/scratch/mlippincott@xsede.org/pyroptosis_live-cell_timelapse/Wave1_data/2.illumination_correction/illum_directory/W0081_F0005</td><td>/gpfs/alpine1/scratch/mlippincott@xsede.org/pyroptosis_live-cell_timelapse/Wave1_data/2.illumination_correction/illum_directory/W0081_F0005</td><td>1047.5517</td><td>1198.55348</td><td>29516</td><td>-4.447104</td><td>-4.2450676</td><td>1</td><td>1 hours</td></tr>\n",
                            "\t<tr><td>H2O2 100 nM                 </td><td>M08</td><td>396</td><td>0005</td><td>H2O2        </td><td>00</td><td>NA       </td><td>100</td><td>nM   </td><td>NA </td><td>\u22ef</td><td>/gpfs/alpine1/scratch/mlippincott@xsede.org/pyroptosis_live-cell_timelapse/Wave1_data/2.illumination_correction/illum_directory/W0296_F0005</td><td>/gpfs/alpine1/scratch/mlippincott@xsede.org/pyroptosis_live-cell_timelapse/Wave1_data/2.illumination_correction/illum_directory/W0296_F0005</td><td>/gpfs/alpine1/scratch/mlippincott@xsede.org/pyroptosis_live-cell_timelapse/Wave1_data/2.illumination_correction/illum_directory/W0296_F0005</td><td>1620.7431</td><td>1881.16882</td><td>49854</td><td> 4.749335</td><td>-0.2344532</td><td>1</td><td>1 hours</td></tr>\n",
                            "</tbody>\n",
                            "</table>\n"
                        ],
                        "text/latex": [
                            "A tibble: 6 \u00d7 37\n",
                            "\\begin{tabular}{lllllllllllllllllllll}\n",
                            " Metadata\\_treatment & Metadata\\_Well & Metadata\\_number\\_of\\_singlecells & Metadata\\_FOV & Metadata\\_treatment1 & Metadata\\_Time & Metadata\\_treatment2 & Metadata\\_treatment1\\_dose & Metadata\\_treatment1\\_unit & Metadata\\_treatment2\\_dose & \u22ef & Metadata\\_Image\\_PathName\\_CL561 & Metadata\\_Image\\_PathName\\_DNA & Metadata\\_Image\\_PathName\\_GSDM & Metadata\\_Nuclei\\_Location\\_Center\\_X & Metadata\\_Nuclei\\_Location\\_Center\\_Y & Metadata\\_cells\\_per\\_well & UMAP0 & UMAP1 & Metadata\\_timepoint & Metadata\\_timepoint\\_hours\\\\\n",
                            " <fct> & <chr> & <int> & <chr> & <chr> & <chr> & <chr> & <chr> & <chr> & <chr> & \u22ef & <chr> & <chr> & <chr> & <dbl> & <dbl> & <int> & <dbl> & <dbl> & <dbl> & <chr>\\\\\n",
                            "\\hline\n",
                            "\t Flagellin 10 ug/ml           & H10 & 545 & 0001 & Flagellin    & 00 & NA        & 10  & ug/ml & NA  & \u22ef & /gpfs/alpine1/scratch/mlippincott@xsede.org/pyroptosis\\_live-cell\\_timelapse/Wave1\\_data/2.illumination\\_correction/illum\\_directory/W0178\\_F0001 & /gpfs/alpine1/scratch/mlippincott@xsede.org/pyroptosis\\_live-cell\\_timelapse/Wave1\\_data/2.illumination\\_correction/illum\\_directory/W0178\\_F0001 & /gpfs/alpine1/scratch/mlippincott@xsede.org/pyroptosis\\_live-cell\\_timelapse/Wave1\\_data/2.illumination\\_correction/illum\\_directory/W0178\\_F0001 & 1442.7887 & 1896.46835 & 59073 &  1.284234 & -3.1407347 & 1 & 1 hours\\\\\n",
                            "\t LPS 1 ug/ml + Nigericin 1 uM & I09 & 429 & 0002 & LPS          & 00 & Nigericin & 1   & ug/ml & 1   & \u22ef & /gpfs/alpine1/scratch/mlippincott@xsede.org/pyroptosis\\_live-cell\\_timelapse/Wave1\\_data/2.illumination\\_correction/illum\\_directory/W0201\\_F0002 & /gpfs/alpine1/scratch/mlippincott@xsede.org/pyroptosis\\_live-cell\\_timelapse/Wave1\\_data/2.illumination\\_correction/illum\\_directory/W0201\\_F0002 & /gpfs/alpine1/scratch/mlippincott@xsede.org/pyroptosis\\_live-cell\\_timelapse/Wave1\\_data/2.illumination\\_correction/illum\\_directory/W0201\\_F0002 &  506.3431 &   10.44567 & 22522 & -3.531299 & -3.5998526 & 1 & 1 hours\\\\\n",
                            "\t LPS 1 ug/ml + ATP 2.5 mM     & G06 & 401 & 0001 & LPS          & 00 & ATP       & 1   & ug/ml & 2.5 & \u22ef & /gpfs/alpine1/scratch/mlippincott@xsede.org/pyroptosis\\_live-cell\\_timelapse/Wave1\\_data/2.illumination\\_correction/illum\\_directory/W0150\\_F0001 & /gpfs/alpine1/scratch/mlippincott@xsede.org/pyroptosis\\_live-cell\\_timelapse/Wave1\\_data/2.illumination\\_correction/illum\\_directory/W0150\\_F0001 & /gpfs/alpine1/scratch/mlippincott@xsede.org/pyroptosis\\_live-cell\\_timelapse/Wave1\\_data/2.illumination\\_correction/illum\\_directory/W0150\\_F0001 &  756.7606 & 1749.22673 & 35745 &  4.258172 & -1.4758145 & 1 & 1 hours\\\\\n",
                            "\t Ab1-42 0.4 uM                & N11 & 645 & 0002 & Ab1-42       & 00 & NA        & 0.4 & uM    & NA  & \u22ef & /gpfs/alpine1/scratch/mlippincott@xsede.org/pyroptosis\\_live-cell\\_timelapse/Wave1\\_data/2.illumination\\_correction/illum\\_directory/W0323\\_F0002 & /gpfs/alpine1/scratch/mlippincott@xsede.org/pyroptosis\\_live-cell\\_timelapse/Wave1\\_data/2.illumination\\_correction/illum\\_directory/W0323\\_F0002 & /gpfs/alpine1/scratch/mlippincott@xsede.org/pyroptosis\\_live-cell\\_timelapse/Wave1\\_data/2.illumination\\_correction/illum\\_directory/W0323\\_F0002 & 1979.9631 &  971.92694 & 68519 & -2.176770 & -0.3089860 & 1 & 1 hours\\\\\n",
                            "\t Thapsigargin 10 uM           & D09 & 494 & 0005 & Thapsigargin & 00 & NA        & 10  & uM    & NA  & \u22ef & /gpfs/alpine1/scratch/mlippincott@xsede.org/pyroptosis\\_live-cell\\_timelapse/Wave1\\_data/2.illumination\\_correction/illum\\_directory/W0081\\_F0005 & /gpfs/alpine1/scratch/mlippincott@xsede.org/pyroptosis\\_live-cell\\_timelapse/Wave1\\_data/2.illumination\\_correction/illum\\_directory/W0081\\_F0005 & /gpfs/alpine1/scratch/mlippincott@xsede.org/pyroptosis\\_live-cell\\_timelapse/Wave1\\_data/2.illumination\\_correction/illum\\_directory/W0081\\_F0005 & 1047.5517 & 1198.55348 & 29516 & -4.447104 & -4.2450676 & 1 & 1 hours\\\\\n",
                            "\t H2O2 100 nM                  & M08 & 396 & 0005 & H2O2         & 00 & NA        & 100 & nM    & NA  & \u22ef & /gpfs/alpine1/scratch/mlippincott@xsede.org/pyroptosis\\_live-cell\\_timelapse/Wave1\\_data/2.illumination\\_correction/illum\\_directory/W0296\\_F0005 & /gpfs/alpine1/scratch/mlippincott@xsede.org/pyroptosis\\_live-cell\\_timelapse/Wave1\\_data/2.illumination\\_correction/illum\\_directory/W0296\\_F0005 & /gpfs/alpine1/scratch/mlippincott@xsede.org/pyroptosis\\_live-cell\\_timelapse/Wave1\\_data/2.illumination\\_correction/illum\\_directory/W0296\\_F0005 & 1620.7431 & 1881.16882 & 49854 &  4.749335 & -0.2344532 & 1 & 1 hours\\\\\n",
                            "\\end{tabular}\n"
                        ],
                        "text/markdown": [
                            "\n",
                            "A tibble: 6 \u00d7 37\n",
                            "\n",
                            "| Metadata_treatment &lt;fct&gt; | Metadata_Well &lt;chr&gt; | Metadata_number_of_singlecells &lt;int&gt; | Metadata_FOV &lt;chr&gt; | Metadata_treatment1 &lt;chr&gt; | Metadata_Time &lt;chr&gt; | Metadata_treatment2 &lt;chr&gt; | Metadata_treatment1_dose &lt;chr&gt; | Metadata_treatment1_unit &lt;chr&gt; | Metadata_treatment2_dose &lt;chr&gt; | \u22ef \u22ef | Metadata_Image_PathName_CL561 &lt;chr&gt; | Metadata_Image_PathName_DNA &lt;chr&gt; | Metadata_Image_PathName_GSDM &lt;chr&gt; | Metadata_Nuclei_Location_Center_X &lt;dbl&gt; | Metadata_Nuclei_Location_Center_Y &lt;dbl&gt; | Metadata_cells_per_well &lt;int&gt; | UMAP0 &lt;dbl&gt; | UMAP1 &lt;dbl&gt; | Metadata_timepoint &lt;dbl&gt; | Metadata_timepoint_hours &lt;chr&gt; |\n",
                            "|---|---|---|---|---|---|---|---|---|---|---|---|---|---|---|---|---|---|---|---|---|\n",
                            "| Flagellin 10 ug/ml           | H10 | 545 | 0001 | Flagellin    | 00 | NA        | 10  | ug/ml | NA  | \u22ef | /gpfs/alpine1/scratch/mlippincott@xsede.org/pyroptosis_live-cell_timelapse/Wave1_data/2.illumination_correction/illum_directory/W0178_F0001 | /gpfs/alpine1/scratch/mlippincott@xsede.org/pyroptosis_live-cell_timelapse/Wave1_data/2.illumination_correction/illum_directory/W0178_F0001 | /gpfs/alpine1/scratch/mlippincott@xsede.org/pyroptosis_live-cell_timelapse/Wave1_data/2.illumination_correction/illum_directory/W0178_F0001 | 1442.7887 | 1896.46835 | 59073 |  1.284234 | -3.1407347 | 1 | 1 hours |\n",
                            "| LPS 1 ug/ml + Nigericin 1 uM | I09 | 429 | 0002 | LPS          | 00 | Nigericin | 1   | ug/ml | 1   | \u22ef | /gpfs/alpine1/scratch/mlippincott@xsede.org/pyroptosis_live-cell_timelapse/Wave1_data/2.illumination_correction/illum_directory/W0201_F0002 | /gpfs/alpine1/scratch/mlippincott@xsede.org/pyroptosis_live-cell_timelapse/Wave1_data/2.illumination_correction/illum_directory/W0201_F0002 | /gpfs/alpine1/scratch/mlippincott@xsede.org/pyroptosis_live-cell_timelapse/Wave1_data/2.illumination_correction/illum_directory/W0201_F0002 |  506.3431 |   10.44567 | 22522 | -3.531299 | -3.5998526 | 1 | 1 hours |\n",
                            "| LPS 1 ug/ml + ATP 2.5 mM     | G06 | 401 | 0001 | LPS          | 00 | ATP       | 1   | ug/ml | 2.5 | \u22ef | /gpfs/alpine1/scratch/mlippincott@xsede.org/pyroptosis_live-cell_timelapse/Wave1_data/2.illumination_correction/illum_directory/W0150_F0001 | /gpfs/alpine1/scratch/mlippincott@xsede.org/pyroptosis_live-cell_timelapse/Wave1_data/2.illumination_correction/illum_directory/W0150_F0001 | /gpfs/alpine1/scratch/mlippincott@xsede.org/pyroptosis_live-cell_timelapse/Wave1_data/2.illumination_correction/illum_directory/W0150_F0001 |  756.7606 | 1749.22673 | 35745 |  4.258172 | -1.4758145 | 1 | 1 hours |\n",
                            "| Ab1-42 0.4 uM                | N11 | 645 | 0002 | Ab1-42       | 00 | NA        | 0.4 | uM    | NA  | \u22ef | /gpfs/alpine1/scratch/mlippincott@xsede.org/pyroptosis_live-cell_timelapse/Wave1_data/2.illumination_correction/illum_directory/W0323_F0002 | /gpfs/alpine1/scratch/mlippincott@xsede.org/pyroptosis_live-cell_timelapse/Wave1_data/2.illumination_correction/illum_directory/W0323_F0002 | /gpfs/alpine1/scratch/mlippincott@xsede.org/pyroptosis_live-cell_timelapse/Wave1_data/2.illumination_correction/illum_directory/W0323_F0002 | 1979.9631 |  971.92694 | 68519 | -2.176770 | -0.3089860 | 1 | 1 hours |\n",
                            "| Thapsigargin 10 uM           | D09 | 494 | 0005 | Thapsigargin | 00 | NA        | 10  | uM    | NA  | \u22ef | /gpfs/alpine1/scratch/mlippincott@xsede.org/pyroptosis_live-cell_timelapse/Wave1_data/2.illumination_correction/illum_directory/W0081_F0005 | /gpfs/alpine1/scratch/mlippincott@xsede.org/pyroptosis_live-cell_timelapse/Wave1_data/2.illumination_correction/illum_directory/W0081_F0005 | /gpfs/alpine1/scratch/mlippincott@xsede.org/pyroptosis_live-cell_timelapse/Wave1_data/2.illumination_correction/illum_directory/W0081_F0005 | 1047.5517 | 1198.55348 | 29516 | -4.447104 | -4.2450676 | 1 | 1 hours |\n",
                            "| H2O2 100 nM                  | M08 | 396 | 0005 | H2O2         | 00 | NA        | 100 | nM    | NA  | \u22ef | /gpfs/alpine1/scratch/mlippincott@xsede.org/pyroptosis_live-cell_timelapse/Wave1_data/2.illumination_correction/illum_directory/W0296_F0005 | /gpfs/alpine1/scratch/mlippincott@xsede.org/pyroptosis_live-cell_timelapse/Wave1_data/2.illumination_correction/illum_directory/W0296_F0005 | /gpfs/alpine1/scratch/mlippincott@xsede.org/pyroptosis_live-cell_timelapse/Wave1_data/2.illumination_correction/illum_directory/W0296_F0005 | 1620.7431 | 1881.16882 | 49854 |  4.749335 | -0.2344532 | 1 | 1 hours |\n",
                            "\n"
                        ],
                        "text/plain": [
                            "  Metadata_treatment           Metadata_Well Metadata_number_of_singlecells\n",
                            "1 Flagellin 10 ug/ml           H10           545                           \n",
                            "2 LPS 1 ug/ml + Nigericin 1 uM I09           429                           \n",
                            "3 LPS 1 ug/ml + ATP 2.5 mM     G06           401                           \n",
                            "4 Ab1-42 0.4 uM                N11           645                           \n",
                            "5 Thapsigargin 10 uM           D09           494                           \n",
                            "6 H2O2 100 nM                  M08           396                           \n",
                            "  Metadata_FOV Metadata_treatment1 Metadata_Time Metadata_treatment2\n",
                            "1 0001         Flagellin           00            NA                 \n",
                            "2 0002         LPS                 00            Nigericin          \n",
                            "3 0001         LPS                 00            ATP                \n",
                            "4 0002         Ab1-42              00            NA                 \n",
                            "5 0005         Thapsigargin        00            NA                 \n",
                            "6 0005         H2O2                00            NA                 \n",
                            "  Metadata_treatment1_dose Metadata_treatment1_unit Metadata_treatment2_dose \u22ef\n",
                            "1 10                       ug/ml                    NA                       \u22ef\n",
                            "2 1                        ug/ml                    1                        \u22ef\n",
                            "3 1                        ug/ml                    2.5                      \u22ef\n",
                            "4 0.4                      uM                       NA                       \u22ef\n",
                            "5 10                       uM                       NA                       \u22ef\n",
                            "6 100                      nM                       NA                       \u22ef\n",
                            "  Metadata_Image_PathName_CL561                                                                                                              \n",
                            "1 /gpfs/alpine1/scratch/mlippincott@xsede.org/pyroptosis_live-cell_timelapse/Wave1_data/2.illumination_correction/illum_directory/W0178_F0001\n",
                            "2 /gpfs/alpine1/scratch/mlippincott@xsede.org/pyroptosis_live-cell_timelapse/Wave1_data/2.illumination_correction/illum_directory/W0201_F0002\n",
                            "3 /gpfs/alpine1/scratch/mlippincott@xsede.org/pyroptosis_live-cell_timelapse/Wave1_data/2.illumination_correction/illum_directory/W0150_F0001\n",
                            "4 /gpfs/alpine1/scratch/mlippincott@xsede.org/pyroptosis_live-cell_timelapse/Wave1_data/2.illumination_correction/illum_directory/W0323_F0002\n",
                            "5 /gpfs/alpine1/scratch/mlippincott@xsede.org/pyroptosis_live-cell_timelapse/Wave1_data/2.illumination_correction/illum_directory/W0081_F0005\n",
                            "6 /gpfs/alpine1/scratch/mlippincott@xsede.org/pyroptosis_live-cell_timelapse/Wave1_data/2.illumination_correction/illum_directory/W0296_F0005\n",
                            "  Metadata_Image_PathName_DNA                                                                                                                \n",
                            "1 /gpfs/alpine1/scratch/mlippincott@xsede.org/pyroptosis_live-cell_timelapse/Wave1_data/2.illumination_correction/illum_directory/W0178_F0001\n",
                            "2 /gpfs/alpine1/scratch/mlippincott@xsede.org/pyroptosis_live-cell_timelapse/Wave1_data/2.illumination_correction/illum_directory/W0201_F0002\n",
                            "3 /gpfs/alpine1/scratch/mlippincott@xsede.org/pyroptosis_live-cell_timelapse/Wave1_data/2.illumination_correction/illum_directory/W0150_F0001\n",
                            "4 /gpfs/alpine1/scratch/mlippincott@xsede.org/pyroptosis_live-cell_timelapse/Wave1_data/2.illumination_correction/illum_directory/W0323_F0002\n",
                            "5 /gpfs/alpine1/scratch/mlippincott@xsede.org/pyroptosis_live-cell_timelapse/Wave1_data/2.illumination_correction/illum_directory/W0081_F0005\n",
                            "6 /gpfs/alpine1/scratch/mlippincott@xsede.org/pyroptosis_live-cell_timelapse/Wave1_data/2.illumination_correction/illum_directory/W0296_F0005\n",
                            "  Metadata_Image_PathName_GSDM                                                                                                               \n",
                            "1 /gpfs/alpine1/scratch/mlippincott@xsede.org/pyroptosis_live-cell_timelapse/Wave1_data/2.illumination_correction/illum_directory/W0178_F0001\n",
                            "2 /gpfs/alpine1/scratch/mlippincott@xsede.org/pyroptosis_live-cell_timelapse/Wave1_data/2.illumination_correction/illum_directory/W0201_F0002\n",
                            "3 /gpfs/alpine1/scratch/mlippincott@xsede.org/pyroptosis_live-cell_timelapse/Wave1_data/2.illumination_correction/illum_directory/W0150_F0001\n",
                            "4 /gpfs/alpine1/scratch/mlippincott@xsede.org/pyroptosis_live-cell_timelapse/Wave1_data/2.illumination_correction/illum_directory/W0323_F0002\n",
                            "5 /gpfs/alpine1/scratch/mlippincott@xsede.org/pyroptosis_live-cell_timelapse/Wave1_data/2.illumination_correction/illum_directory/W0081_F0005\n",
                            "6 /gpfs/alpine1/scratch/mlippincott@xsede.org/pyroptosis_live-cell_timelapse/Wave1_data/2.illumination_correction/illum_directory/W0296_F0005\n",
                            "  Metadata_Nuclei_Location_Center_X Metadata_Nuclei_Location_Center_Y\n",
                            "1 1442.7887                         1896.46835                       \n",
                            "2  506.3431                           10.44567                       \n",
                            "3  756.7606                         1749.22673                       \n",
                            "4 1979.9631                          971.92694                       \n",
                            "5 1047.5517                         1198.55348                       \n",
                            "6 1620.7431                         1881.16882                       \n",
                            "  Metadata_cells_per_well UMAP0     UMAP1      Metadata_timepoint\n",
                            "1 59073                    1.284234 -3.1407347 1                 \n",
                            "2 22522                   -3.531299 -3.5998526 1                 \n",
                            "3 35745                    4.258172 -1.4758145 1                 \n",
                            "4 68519                   -2.176770 -0.3089860 1                 \n",
                            "5 29516                   -4.447104 -4.2450676 1                 \n",
                            "6 49854                    4.749335 -0.2344532 1                 \n",
                            "  Metadata_timepoint_hours\n",
                            "1 1 hours                 \n",
                            "2 1 hours                 \n",
                            "3 1 hours                 \n",
                            "4 1 hours                 \n",
                            "5 1 hours                 \n",
                            "6 1 hours                 "
                        ]
                    },
                    "metadata": {},
                    "output_type": "display_data"
                }
            ],
            "source": [
                "# order the df by time \n",
                "umap_data <- umap_data %>% arrange(Metadata_Time)\n",
                "head(umap_data)"
            ]
        },
        {
            "cell_type": "code",
            "execution_count": 16,
            "metadata": {
                "vscode": {
                    "languageId": "r"
                }
            },
            "outputs": [
                {
                    "data": {
                        "text/html": [
                            "<table class=\"dataframe\">\n",
                            "<caption>A tibble: 6 \u00d7 38</caption>\n",
                            "<thead>\n",
                            "\t<tr><th scope=col>Metadata_treatment_original</th><th scope=col>Metadata_Well</th><th scope=col>Metadata_number_of_singlecells</th><th scope=col>Metadata_FOV</th><th scope=col>Metadata_treatment1</th><th scope=col>Metadata_Time</th><th scope=col>Metadata_treatment2</th><th scope=col>Metadata_treatment1_dose</th><th scope=col>Metadata_treatment1_unit</th><th scope=col>Metadata_treatment2_dose</th><th scope=col>\u22ef</th><th scope=col>Metadata_Image_PathName_DNA</th><th scope=col>Metadata_Image_PathName_GSDM</th><th scope=col>Metadata_Nuclei_Location_Center_X</th><th scope=col>Metadata_Nuclei_Location_Center_Y</th><th scope=col>Metadata_cells_per_well</th><th scope=col>UMAP0</th><th scope=col>UMAP1</th><th scope=col>Metadata_timepoint</th><th scope=col>Metadata_timepoint_hours</th><th scope=col>Metadata_treatment</th></tr>\n",
                            "\t<tr><th scope=col>&lt;fct&gt;</th><th scope=col>&lt;chr&gt;</th><th scope=col>&lt;int&gt;</th><th scope=col>&lt;chr&gt;</th><th scope=col>&lt;chr&gt;</th><th scope=col>&lt;chr&gt;</th><th scope=col>&lt;chr&gt;</th><th scope=col>&lt;chr&gt;</th><th scope=col>&lt;chr&gt;</th><th scope=col>&lt;chr&gt;</th><th scope=col>\u22ef</th><th scope=col>&lt;chr&gt;</th><th scope=col>&lt;chr&gt;</th><th scope=col>&lt;dbl&gt;</th><th scope=col>&lt;dbl&gt;</th><th scope=col>&lt;int&gt;</th><th scope=col>&lt;dbl&gt;</th><th scope=col>&lt;dbl&gt;</th><th scope=col>&lt;dbl&gt;</th><th scope=col>&lt;chr&gt;</th><th scope=col>&lt;fct&gt;</th></tr>\n",
                            "</thead>\n",
                            "<tbody>\n",
                            "\t<tr><td>Media</td><td>C04</td><td>306</td><td>0004</td><td>Media</td><td>03</td><td>NA</td><td>NA</td><td>NA</td><td>NA</td><td>\u22ef</td><td>/gpfs/alpine1/scratch/mlippincott@xsede.org/pyroptosis_live-cell_timelapse/Wave1_data/2.illumination_correction/illum_directory/W0052_F0004</td><td>/gpfs/alpine1/scratch/mlippincott@xsede.org/pyroptosis_live-cell_timelapse/Wave1_data/2.illumination_correction/illum_directory/W0052_F0004</td><td>1086.644</td><td>448.5613</td><td>56443</td><td>1.522591</td><td>0.8496187</td><td>10</td><td>10 hours</td><td>Media        </td></tr>\n",
                            "\t<tr><td>Media</td><td>C04</td><td>306</td><td>0004</td><td>Media</td><td>03</td><td>NA</td><td>NA</td><td>NA</td><td>NA</td><td>\u22ef</td><td>/gpfs/alpine1/scratch/mlippincott@xsede.org/pyroptosis_live-cell_timelapse/Wave1_data/2.illumination_correction/illum_directory/W0052_F0004</td><td>/gpfs/alpine1/scratch/mlippincott@xsede.org/pyroptosis_live-cell_timelapse/Wave1_data/2.illumination_correction/illum_directory/W0052_F0004</td><td>1086.644</td><td>448.5613</td><td>56443</td><td>1.522591</td><td>0.8496187</td><td>10</td><td>10 hours</td><td>DMSO CTL     </td></tr>\n",
                            "\t<tr><td>Media</td><td>C04</td><td>306</td><td>0004</td><td>Media</td><td>03</td><td>NA</td><td>NA</td><td>NA</td><td>NA</td><td>\u22ef</td><td>/gpfs/alpine1/scratch/mlippincott@xsede.org/pyroptosis_live-cell_timelapse/Wave1_data/2.illumination_correction/illum_directory/W0052_F0004</td><td>/gpfs/alpine1/scratch/mlippincott@xsede.org/pyroptosis_live-cell_timelapse/Wave1_data/2.illumination_correction/illum_directory/W0052_F0004</td><td>1086.644</td><td>448.5613</td><td>56443</td><td>1.522591</td><td>0.8496187</td><td>10</td><td>10 hours</td><td>no Hoechst   </td></tr>\n",
                            "\t<tr><td>Media</td><td>C04</td><td>306</td><td>0004</td><td>Media</td><td>03</td><td>NA</td><td>NA</td><td>NA</td><td>NA</td><td>\u22ef</td><td>/gpfs/alpine1/scratch/mlippincott@xsede.org/pyroptosis_live-cell_timelapse/Wave1_data/2.illumination_correction/illum_directory/W0052_F0004</td><td>/gpfs/alpine1/scratch/mlippincott@xsede.org/pyroptosis_live-cell_timelapse/Wave1_data/2.illumination_correction/illum_directory/W0052_F0004</td><td>1086.644</td><td>448.5613</td><td>56443</td><td>1.522591</td><td>0.8496187</td><td>10</td><td>10 hours</td><td>LPS 0.1 ug/ml</td></tr>\n",
                            "\t<tr><td>Media</td><td>C04</td><td>306</td><td>0004</td><td>Media</td><td>03</td><td>NA</td><td>NA</td><td>NA</td><td>NA</td><td>\u22ef</td><td>/gpfs/alpine1/scratch/mlippincott@xsede.org/pyroptosis_live-cell_timelapse/Wave1_data/2.illumination_correction/illum_directory/W0052_F0004</td><td>/gpfs/alpine1/scratch/mlippincott@xsede.org/pyroptosis_live-cell_timelapse/Wave1_data/2.illumination_correction/illum_directory/W0052_F0004</td><td>1086.644</td><td>448.5613</td><td>56443</td><td>1.522591</td><td>0.8496187</td><td>10</td><td>10 hours</td><td>LPS 1 ug/ml  </td></tr>\n",
                            "\t<tr><td>Media</td><td>C04</td><td>306</td><td>0004</td><td>Media</td><td>03</td><td>NA</td><td>NA</td><td>NA</td><td>NA</td><td>\u22ef</td><td>/gpfs/alpine1/scratch/mlippincott@xsede.org/pyroptosis_live-cell_timelapse/Wave1_data/2.illumination_correction/illum_directory/W0052_F0004</td><td>/gpfs/alpine1/scratch/mlippincott@xsede.org/pyroptosis_live-cell_timelapse/Wave1_data/2.illumination_correction/illum_directory/W0052_F0004</td><td>1086.644</td><td>448.5613</td><td>56443</td><td>1.522591</td><td>0.8496187</td><td>10</td><td>10 hours</td><td>LPS 10 ug/ml </td></tr>\n",
                            "</tbody>\n",
                            "</table>\n"
                        ],
                        "text/latex": [
                            "A tibble: 6 \u00d7 38\n",
                            "\\begin{tabular}{lllllllllllllllllllll}\n",
                            " Metadata\\_treatment\\_original & Metadata\\_Well & Metadata\\_number\\_of\\_singlecells & Metadata\\_FOV & Metadata\\_treatment1 & Metadata\\_Time & Metadata\\_treatment2 & Metadata\\_treatment1\\_dose & Metadata\\_treatment1\\_unit & Metadata\\_treatment2\\_dose & \u22ef & Metadata\\_Image\\_PathName\\_DNA & Metadata\\_Image\\_PathName\\_GSDM & Metadata\\_Nuclei\\_Location\\_Center\\_X & Metadata\\_Nuclei\\_Location\\_Center\\_Y & Metadata\\_cells\\_per\\_well & UMAP0 & UMAP1 & Metadata\\_timepoint & Metadata\\_timepoint\\_hours & Metadata\\_treatment\\\\\n",
                            " <fct> & <chr> & <int> & <chr> & <chr> & <chr> & <chr> & <chr> & <chr> & <chr> & \u22ef & <chr> & <chr> & <dbl> & <dbl> & <int> & <dbl> & <dbl> & <dbl> & <chr> & <fct>\\\\\n",
                            "\\hline\n",
                            "\t Media & C04 & 306 & 0004 & Media & 03 & NA & NA & NA & NA & \u22ef & /gpfs/alpine1/scratch/mlippincott@xsede.org/pyroptosis\\_live-cell\\_timelapse/Wave1\\_data/2.illumination\\_correction/illum\\_directory/W0052\\_F0004 & /gpfs/alpine1/scratch/mlippincott@xsede.org/pyroptosis\\_live-cell\\_timelapse/Wave1\\_data/2.illumination\\_correction/illum\\_directory/W0052\\_F0004 & 1086.644 & 448.5613 & 56443 & 1.522591 & 0.8496187 & 10 & 10 hours & Media        \\\\\n",
                            "\t Media & C04 & 306 & 0004 & Media & 03 & NA & NA & NA & NA & \u22ef & /gpfs/alpine1/scratch/mlippincott@xsede.org/pyroptosis\\_live-cell\\_timelapse/Wave1\\_data/2.illumination\\_correction/illum\\_directory/W0052\\_F0004 & /gpfs/alpine1/scratch/mlippincott@xsede.org/pyroptosis\\_live-cell\\_timelapse/Wave1\\_data/2.illumination\\_correction/illum\\_directory/W0052\\_F0004 & 1086.644 & 448.5613 & 56443 & 1.522591 & 0.8496187 & 10 & 10 hours & DMSO CTL     \\\\\n",
                            "\t Media & C04 & 306 & 0004 & Media & 03 & NA & NA & NA & NA & \u22ef & /gpfs/alpine1/scratch/mlippincott@xsede.org/pyroptosis\\_live-cell\\_timelapse/Wave1\\_data/2.illumination\\_correction/illum\\_directory/W0052\\_F0004 & /gpfs/alpine1/scratch/mlippincott@xsede.org/pyroptosis\\_live-cell\\_timelapse/Wave1\\_data/2.illumination\\_correction/illum\\_directory/W0052\\_F0004 & 1086.644 & 448.5613 & 56443 & 1.522591 & 0.8496187 & 10 & 10 hours & no Hoechst   \\\\\n",
                            "\t Media & C04 & 306 & 0004 & Media & 03 & NA & NA & NA & NA & \u22ef & /gpfs/alpine1/scratch/mlippincott@xsede.org/pyroptosis\\_live-cell\\_timelapse/Wave1\\_data/2.illumination\\_correction/illum\\_directory/W0052\\_F0004 & /gpfs/alpine1/scratch/mlippincott@xsede.org/pyroptosis\\_live-cell\\_timelapse/Wave1\\_data/2.illumination\\_correction/illum\\_directory/W0052\\_F0004 & 1086.644 & 448.5613 & 56443 & 1.522591 & 0.8496187 & 10 & 10 hours & LPS 0.1 ug/ml\\\\\n",
                            "\t Media & C04 & 306 & 0004 & Media & 03 & NA & NA & NA & NA & \u22ef & /gpfs/alpine1/scratch/mlippincott@xsede.org/pyroptosis\\_live-cell\\_timelapse/Wave1\\_data/2.illumination\\_correction/illum\\_directory/W0052\\_F0004 & /gpfs/alpine1/scratch/mlippincott@xsede.org/pyroptosis\\_live-cell\\_timelapse/Wave1\\_data/2.illumination\\_correction/illum\\_directory/W0052\\_F0004 & 1086.644 & 448.5613 & 56443 & 1.522591 & 0.8496187 & 10 & 10 hours & LPS 1 ug/ml  \\\\\n",
                            "\t Media & C04 & 306 & 0004 & Media & 03 & NA & NA & NA & NA & \u22ef & /gpfs/alpine1/scratch/mlippincott@xsede.org/pyroptosis\\_live-cell\\_timelapse/Wave1\\_data/2.illumination\\_correction/illum\\_directory/W0052\\_F0004 & /gpfs/alpine1/scratch/mlippincott@xsede.org/pyroptosis\\_live-cell\\_timelapse/Wave1\\_data/2.illumination\\_correction/illum\\_directory/W0052\\_F0004 & 1086.644 & 448.5613 & 56443 & 1.522591 & 0.8496187 & 10 & 10 hours & LPS 10 ug/ml \\\\\n",
                            "\\end{tabular}\n"
                        ],
                        "text/markdown": [
                            "\n",
                            "A tibble: 6 \u00d7 38\n",
                            "\n",
                            "| Metadata_treatment_original &lt;fct&gt; | Metadata_Well &lt;chr&gt; | Metadata_number_of_singlecells &lt;int&gt; | Metadata_FOV &lt;chr&gt; | Metadata_treatment1 &lt;chr&gt; | Metadata_Time &lt;chr&gt; | Metadata_treatment2 &lt;chr&gt; | Metadata_treatment1_dose &lt;chr&gt; | Metadata_treatment1_unit &lt;chr&gt; | Metadata_treatment2_dose &lt;chr&gt; | \u22ef \u22ef | Metadata_Image_PathName_DNA &lt;chr&gt; | Metadata_Image_PathName_GSDM &lt;chr&gt; | Metadata_Nuclei_Location_Center_X &lt;dbl&gt; | Metadata_Nuclei_Location_Center_Y &lt;dbl&gt; | Metadata_cells_per_well &lt;int&gt; | UMAP0 &lt;dbl&gt; | UMAP1 &lt;dbl&gt; | Metadata_timepoint &lt;dbl&gt; | Metadata_timepoint_hours &lt;chr&gt; | Metadata_treatment &lt;fct&gt; |\n",
                            "|---|---|---|---|---|---|---|---|---|---|---|---|---|---|---|---|---|---|---|---|---|\n",
                            "| Media | C04 | 306 | 0004 | Media | 03 | NA | NA | NA | NA | \u22ef | /gpfs/alpine1/scratch/mlippincott@xsede.org/pyroptosis_live-cell_timelapse/Wave1_data/2.illumination_correction/illum_directory/W0052_F0004 | /gpfs/alpine1/scratch/mlippincott@xsede.org/pyroptosis_live-cell_timelapse/Wave1_data/2.illumination_correction/illum_directory/W0052_F0004 | 1086.644 | 448.5613 | 56443 | 1.522591 | 0.8496187 | 10 | 10 hours | Media         |\n",
                            "| Media | C04 | 306 | 0004 | Media | 03 | NA | NA | NA | NA | \u22ef | /gpfs/alpine1/scratch/mlippincott@xsede.org/pyroptosis_live-cell_timelapse/Wave1_data/2.illumination_correction/illum_directory/W0052_F0004 | /gpfs/alpine1/scratch/mlippincott@xsede.org/pyroptosis_live-cell_timelapse/Wave1_data/2.illumination_correction/illum_directory/W0052_F0004 | 1086.644 | 448.5613 | 56443 | 1.522591 | 0.8496187 | 10 | 10 hours | DMSO CTL      |\n",
                            "| Media | C04 | 306 | 0004 | Media | 03 | NA | NA | NA | NA | \u22ef | /gpfs/alpine1/scratch/mlippincott@xsede.org/pyroptosis_live-cell_timelapse/Wave1_data/2.illumination_correction/illum_directory/W0052_F0004 | /gpfs/alpine1/scratch/mlippincott@xsede.org/pyroptosis_live-cell_timelapse/Wave1_data/2.illumination_correction/illum_directory/W0052_F0004 | 1086.644 | 448.5613 | 56443 | 1.522591 | 0.8496187 | 10 | 10 hours | no Hoechst    |\n",
                            "| Media | C04 | 306 | 0004 | Media | 03 | NA | NA | NA | NA | \u22ef | /gpfs/alpine1/scratch/mlippincott@xsede.org/pyroptosis_live-cell_timelapse/Wave1_data/2.illumination_correction/illum_directory/W0052_F0004 | /gpfs/alpine1/scratch/mlippincott@xsede.org/pyroptosis_live-cell_timelapse/Wave1_data/2.illumination_correction/illum_directory/W0052_F0004 | 1086.644 | 448.5613 | 56443 | 1.522591 | 0.8496187 | 10 | 10 hours | LPS 0.1 ug/ml |\n",
                            "| Media | C04 | 306 | 0004 | Media | 03 | NA | NA | NA | NA | \u22ef | /gpfs/alpine1/scratch/mlippincott@xsede.org/pyroptosis_live-cell_timelapse/Wave1_data/2.illumination_correction/illum_directory/W0052_F0004 | /gpfs/alpine1/scratch/mlippincott@xsede.org/pyroptosis_live-cell_timelapse/Wave1_data/2.illumination_correction/illum_directory/W0052_F0004 | 1086.644 | 448.5613 | 56443 | 1.522591 | 0.8496187 | 10 | 10 hours | LPS 1 ug/ml   |\n",
                            "| Media | C04 | 306 | 0004 | Media | 03 | NA | NA | NA | NA | \u22ef | /gpfs/alpine1/scratch/mlippincott@xsede.org/pyroptosis_live-cell_timelapse/Wave1_data/2.illumination_correction/illum_directory/W0052_F0004 | /gpfs/alpine1/scratch/mlippincott@xsede.org/pyroptosis_live-cell_timelapse/Wave1_data/2.illumination_correction/illum_directory/W0052_F0004 | 1086.644 | 448.5613 | 56443 | 1.522591 | 0.8496187 | 10 | 10 hours | LPS 10 ug/ml  |\n",
                            "\n"
                        ],
                        "text/plain": [
                            "  Metadata_treatment_original Metadata_Well Metadata_number_of_singlecells\n",
                            "1 Media                       C04           306                           \n",
                            "2 Media                       C04           306                           \n",
                            "3 Media                       C04           306                           \n",
                            "4 Media                       C04           306                           \n",
                            "5 Media                       C04           306                           \n",
                            "6 Media                       C04           306                           \n",
                            "  Metadata_FOV Metadata_treatment1 Metadata_Time Metadata_treatment2\n",
                            "1 0004         Media               03            NA                 \n",
                            "2 0004         Media               03            NA                 \n",
                            "3 0004         Media               03            NA                 \n",
                            "4 0004         Media               03            NA                 \n",
                            "5 0004         Media               03            NA                 \n",
                            "6 0004         Media               03            NA                 \n",
                            "  Metadata_treatment1_dose Metadata_treatment1_unit Metadata_treatment2_dose \u22ef\n",
                            "1 NA                       NA                       NA                       \u22ef\n",
                            "2 NA                       NA                       NA                       \u22ef\n",
                            "3 NA                       NA                       NA                       \u22ef\n",
                            "4 NA                       NA                       NA                       \u22ef\n",
                            "5 NA                       NA                       NA                       \u22ef\n",
                            "6 NA                       NA                       NA                       \u22ef\n",
                            "  Metadata_Image_PathName_DNA                                                                                                                \n",
                            "1 /gpfs/alpine1/scratch/mlippincott@xsede.org/pyroptosis_live-cell_timelapse/Wave1_data/2.illumination_correction/illum_directory/W0052_F0004\n",
                            "2 /gpfs/alpine1/scratch/mlippincott@xsede.org/pyroptosis_live-cell_timelapse/Wave1_data/2.illumination_correction/illum_directory/W0052_F0004\n",
                            "3 /gpfs/alpine1/scratch/mlippincott@xsede.org/pyroptosis_live-cell_timelapse/Wave1_data/2.illumination_correction/illum_directory/W0052_F0004\n",
                            "4 /gpfs/alpine1/scratch/mlippincott@xsede.org/pyroptosis_live-cell_timelapse/Wave1_data/2.illumination_correction/illum_directory/W0052_F0004\n",
                            "5 /gpfs/alpine1/scratch/mlippincott@xsede.org/pyroptosis_live-cell_timelapse/Wave1_data/2.illumination_correction/illum_directory/W0052_F0004\n",
                            "6 /gpfs/alpine1/scratch/mlippincott@xsede.org/pyroptosis_live-cell_timelapse/Wave1_data/2.illumination_correction/illum_directory/W0052_F0004\n",
                            "  Metadata_Image_PathName_GSDM                                                                                                               \n",
                            "1 /gpfs/alpine1/scratch/mlippincott@xsede.org/pyroptosis_live-cell_timelapse/Wave1_data/2.illumination_correction/illum_directory/W0052_F0004\n",
                            "2 /gpfs/alpine1/scratch/mlippincott@xsede.org/pyroptosis_live-cell_timelapse/Wave1_data/2.illumination_correction/illum_directory/W0052_F0004\n",
                            "3 /gpfs/alpine1/scratch/mlippincott@xsede.org/pyroptosis_live-cell_timelapse/Wave1_data/2.illumination_correction/illum_directory/W0052_F0004\n",
                            "4 /gpfs/alpine1/scratch/mlippincott@xsede.org/pyroptosis_live-cell_timelapse/Wave1_data/2.illumination_correction/illum_directory/W0052_F0004\n",
                            "5 /gpfs/alpine1/scratch/mlippincott@xsede.org/pyroptosis_live-cell_timelapse/Wave1_data/2.illumination_correction/illum_directory/W0052_F0004\n",
                            "6 /gpfs/alpine1/scratch/mlippincott@xsede.org/pyroptosis_live-cell_timelapse/Wave1_data/2.illumination_correction/illum_directory/W0052_F0004\n",
                            "  Metadata_Nuclei_Location_Center_X Metadata_Nuclei_Location_Center_Y\n",
                            "1 1086.644                          448.5613                         \n",
                            "2 1086.644                          448.5613                         \n",
                            "3 1086.644                          448.5613                         \n",
                            "4 1086.644                          448.5613                         \n",
                            "5 1086.644                          448.5613                         \n",
                            "6 1086.644                          448.5613                         \n",
                            "  Metadata_cells_per_well UMAP0    UMAP1     Metadata_timepoint\n",
                            "1 56443                   1.522591 0.8496187 10                \n",
                            "2 56443                   1.522591 0.8496187 10                \n",
                            "3 56443                   1.522591 0.8496187 10                \n",
                            "4 56443                   1.522591 0.8496187 10                \n",
                            "5 56443                   1.522591 0.8496187 10                \n",
                            "6 56443                   1.522591 0.8496187 10                \n",
                            "  Metadata_timepoint_hours Metadata_treatment\n",
                            "1 10 hours                 Media             \n",
                            "2 10 hours                 DMSO CTL          \n",
                            "3 10 hours                 no Hoechst        \n",
                            "4 10 hours                 LPS 0.1 ug/ml     \n",
                            "5 10 hours                 LPS 1 ug/ml       \n",
                            "6 10 hours                 LPS 10 ug/ml      "
                        ]
                    },
                    "metadata": {},
                    "output_type": "display_data"
                }
            ],
            "source": [
                "name_repair_function <- function(names) {\n",
                "  names[1] <- paste0(names[1], \"_original\")\n",
                "  return(names)\n",
                "}\n",
                "df_background <- tidyr::crossing(\n",
                "    umap_data,\n",
                "    Metadata_treatment = unique(umap_data$Metadata_treatment),\n",
                "    .name_repair = name_repair_function\n",
                ")\n",
                "head(df_background)"
            ]
        },
        {
            "cell_type": "code",
            "execution_count": 17,
            "metadata": {
                "vscode": {
                    "languageId": "r"
                }
            },
            "outputs": [
                {
                    "name": "stderr",
                    "output_type": "stream",
                    "text": [
                        "\u001b[1m\u001b[22m`summarise()` has grouped output by 'Metadata_treatment'. You can override\n",
                        "using the `.groups` argument.\n"
                    ]
                },
                {
                    "data": {
                        "text/html": [
                            "<table class=\"dataframe\">\n",
                            "<caption>A tibble: 6 \u00d7 4</caption>\n",
                            "<thead>\n",
                            "\t<tr><th scope=col>Metadata_treatment</th><th scope=col>Metadata_timepoint</th><th scope=col>UMAP0</th><th scope=col>UMAP1</th></tr>\n",
                            "\t<tr><th scope=col>&lt;fct&gt;</th><th scope=col>&lt;dbl&gt;</th><th scope=col>&lt;dbl&gt;</th><th scope=col>&lt;dbl&gt;</th></tr>\n",
                            "</thead>\n",
                            "<tbody>\n",
                            "\t<tr><td>Media</td><td> 1</td><td>0.0411703</td><td>-0.241198319</td></tr>\n",
                            "\t<tr><td>Media</td><td> 4</td><td>1.1689104</td><td> 0.387649519</td></tr>\n",
                            "\t<tr><td>Media</td><td> 7</td><td>0.5269035</td><td>-0.208976064</td></tr>\n",
                            "\t<tr><td>Media</td><td>10</td><td>0.6707974</td><td>-0.662022722</td></tr>\n",
                            "\t<tr><td>Media</td><td>13</td><td>1.7833123</td><td> 0.155922435</td></tr>\n",
                            "\t<tr><td>Media</td><td>16</td><td>1.0948147</td><td>-0.008035474</td></tr>\n",
                            "</tbody>\n",
                            "</table>\n"
                        ],
                        "text/latex": [
                            "A tibble: 6 \u00d7 4\n",
                            "\\begin{tabular}{llll}\n",
                            " Metadata\\_treatment & Metadata\\_timepoint & UMAP0 & UMAP1\\\\\n",
                            " <fct> & <dbl> & <dbl> & <dbl>\\\\\n",
                            "\\hline\n",
                            "\t Media &  1 & 0.0411703 & -0.241198319\\\\\n",
                            "\t Media &  4 & 1.1689104 &  0.387649519\\\\\n",
                            "\t Media &  7 & 0.5269035 & -0.208976064\\\\\n",
                            "\t Media & 10 & 0.6707974 & -0.662022722\\\\\n",
                            "\t Media & 13 & 1.7833123 &  0.155922435\\\\\n",
                            "\t Media & 16 & 1.0948147 & -0.008035474\\\\\n",
                            "\\end{tabular}\n"
                        ],
                        "text/markdown": [
                            "\n",
                            "A tibble: 6 \u00d7 4\n",
                            "\n",
                            "| Metadata_treatment &lt;fct&gt; | Metadata_timepoint &lt;dbl&gt; | UMAP0 &lt;dbl&gt; | UMAP1 &lt;dbl&gt; |\n",
                            "|---|---|---|---|\n",
                            "| Media |  1 | 0.0411703 | -0.241198319 |\n",
                            "| Media |  4 | 1.1689104 |  0.387649519 |\n",
                            "| Media |  7 | 0.5269035 | -0.208976064 |\n",
                            "| Media | 10 | 0.6707974 | -0.662022722 |\n",
                            "| Media | 13 | 1.7833123 |  0.155922435 |\n",
                            "| Media | 16 | 1.0948147 | -0.008035474 |\n",
                            "\n"
                        ],
                        "text/plain": [
                            "  Metadata_treatment Metadata_timepoint UMAP0     UMAP1       \n",
                            "1 Media               1                 0.0411703 -0.241198319\n",
                            "2 Media               4                 1.1689104  0.387649519\n",
                            "3 Media               7                 0.5269035 -0.208976064\n",
                            "4 Media              10                 0.6707974 -0.662022722\n",
                            "5 Media              13                 1.7833123  0.155922435\n",
                            "6 Media              16                 1.0948147 -0.008035474"
                        ]
                    },
                    "metadata": {},
                    "output_type": "display_data"
                }
            ],
            "source": [
                "# get the centroids of each treatment, at each timepoint \n",
                "centroids <- umap_data %>% \n",
                "  group_by(Metadata_treatment, Metadata_timepoint) %>% \n",
                "  summarize(\n",
                "    UMAP0 = mean(UMAP0),\n",
                "    UMAP1 = mean(UMAP1)\n",
                "  ) %>% \n",
                "  ungroup()\n",
                "head(centroids)\n"
            ]
        },
        {
            "cell_type": "code",
            "execution_count": 18,
            "metadata": {
                "vscode": {
                    "languageId": "r"
                }
            },
            "outputs": [],
            "source": [
                "\n",
                "# plot the centroids over time\n",
                "width <- 10\n",
                "height <- 10\n",
                "options(repr.plot.width=width, repr.plot.height=height)\n",
                "centroids_umap_plot <- (\n",
                "    # plot the whole dataset in grey with low alpha\n",
                "    ggplot(centroids, aes(x=UMAP0, y=UMAP1))\n",
                "    + geom_point(\n",
                "        data = df_background,\n",
                "        color = \"lightgrey\",\n",
                "        size = 0.5,\n",
                "        alpha = 0.1\n",
                "    )\n",
                "    + geom_point(aes(color=Metadata_treatment), size=1.5, alpha=0.9)\n",
                "\n",
                "    + scale_color_manual(\n",
                "        values = colors\n",
                "    )\n",
                "    + theme_bw()\n",
                "    + theme(\n",
                "        axis.text.x = element_text(size=14),\n",
                "        axis.text.y = element_text(size=14),\n",
                "        axis.title.x = element_text(size=14),\n",
                "        axis.title.y = element_text(size=14),\n",
                "        legend.text = element_text(size=14),\n",
                "        legend.title = element_text(size=14, hjust=0.5),\n",
                "        legend.position=\"bottom\",\n",
                "        legend.title.position=\"top\"\n",
                "    )\n",
                "    # + facet_wrap(~Metadata_treatment, ncol = 6)\n",
                "    + transition_time(Metadata_timepoint)\n",
                "    + labs(title = \"Time: {frame_time}\")\n",
                ")\n",
                "\n",
                "n_timepoints <- length(unique(centroids$Metadata_timepoint))\n",
                "fps <- 15\n",
                "\n",
                "nframes <- n_timepoints * fps\n",
                "anim_save(\"../figures/pyroptosis_timelapsed_centroids.gif\", animate(centroids_umap_plot,fps = fps, nframes = nframes))"
            ]
        },
        {
            "cell_type": "code",
            "execution_count": 19,
            "metadata": {
                "vscode": {
                    "languageId": "r"
                }
            },
            "outputs": [],
            "source": [
                "\n",
                "# plot the centroids over time\n",
                "width <- 30\n",
                "height <- 30\n",
                "options(repr.plot.width=width, repr.plot.height=height)\n",
                "centroids_umap_plot <- (\n",
                "    # plot the whole dataset in grey with low alpha\n",
                "    ggplot(centroids, aes(x=UMAP0, y=UMAP1))\n",
                "    + geom_point(\n",
                "        data = df_background,\n",
                "        color = \"lightgrey\",\n",
                "        size = 0.5,\n",
                "        alpha = 0.1\n",
                "    )\n",
                "    + geom_point(aes(color=Metadata_treatment), size=1.5, alpha=0.9)\n",
                "\n",
                "    + scale_color_manual(\n",
                "        values = colors\n",
                "    )\n",
                "    + theme_bw()\n",
                "    + theme(\n",
                "        axis.text.x = element_text(size=14),\n",
                "        axis.text.y = element_text(size=14),\n",
                "        axis.title.x = element_text(size=14),\n",
                "        axis.title.y = element_text(size=14),\n",
                "        legend.text = element_text(size=14),\n",
                "        legend.title = element_text(size=14, hjust=0.5),\n",
                "        legend.position=\"bottom\",\n",
                "        legend.title.position=\"top\"\n",
                "    )\n",
                "    + facet_wrap(~Metadata_treatment, ncol = 6)\n",
                "    + transition_time(Metadata_timepoint)\n",
                "    + labs(title = \"Time: {frame_time}\")\n",
                ")\n",
                "\n",
                "n_timepoints <- length(unique(centroids$Metadata_timepoint))\n",
                "fps <- 15\n",
                "\n",
                "nframes <- n_timepoints * fps\n",
                "anim_save(\"../figures/pyroptosis_timelapsed_centroids_facet_by_treatment.gif\", animate(centroids_umap_plot,fps = fps, nframes = nframes))"
            ]
        }
    ],
    "metadata": {
        "kernelspec": {
            "display_name": "R",
            "language": "R",
            "name": "ir"
        },
        "language_info": {
            "codemirror_mode": "r",
            "file_extension": ".r",
            "mimetype": "text/x-r-source",
            "name": "R",
            "pygments_lexer": "r",
            "version": "4.2.2"
        }
    },
    "nbformat": 4,
    "nbformat_minor": 2
}
