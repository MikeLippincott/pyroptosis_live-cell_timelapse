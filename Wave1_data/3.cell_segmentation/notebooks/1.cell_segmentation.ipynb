{
    "cells": [
        {
            "cell_type": "markdown",
            "id": "f9ea7d3c",
            "metadata": {
                "papermill": {
                    "duration": 0.002433,
                    "end_time": "2024-12-24T21:55:05.257111",
                    "exception": false,
                    "start_time": "2024-12-24T21:55:05.254678",
                    "status": "completed"
                },
                "tags": []
            },
            "source": [
                "This notebook focuses on trying to find a way to segment cells within organoids properly.\n",
                "The end goals is to segment cell and extract morphology features from cellprofiler.\n",
                "These masks must be imported into cellprofiler to extract features."
            ]
        },
        {
            "cell_type": "code",
            "execution_count": 1,
            "id": "650c9514",
            "metadata": {
                "execution": {
                    "iopub.execute_input": "2024-12-24T21:55:05.261609Z",
                    "iopub.status.busy": "2024-12-24T21:55:05.261349Z",
                    "iopub.status.idle": "2024-12-24T21:55:08.245306Z",
                    "shell.execute_reply": "2024-12-24T21:55:08.244944Z"
                },
                "papermill": {
                    "duration": 2.986983,
                    "end_time": "2024-12-24T21:55:08.246045",
                    "exception": false,
                    "start_time": "2024-12-24T21:55:05.259062",
                    "status": "completed"
                },
                "tags": []
            },
            "outputs": [
                {
                    "name": "stdout",
                    "output_type": "stream",
                    "text": [
                        "True\n"
                    ]
                }
            ],
            "source": [
                "import argparse\n",
                "import pathlib\n",
                "\n",
                "import matplotlib.pyplot as plt\n",
                "\n",
                "# Import dependencies\n",
                "import numpy as np\n",
                "import skimage\n",
                "import tifffile\n",
                "from cellpose import models\n",
                "from PIL import Image\n",
                "from stardist.plot import render_label\n",
                "\n",
                "# check if in a jupyter notebook\n",
                "try:\n",
                "    cfg = get_ipython().config\n",
                "    in_notebook = True\n",
                "except NameError:\n",
                "    in_notebook = False\n",
                "\n",
                "print(in_notebook)"
            ]
        },
        {
            "cell_type": "code",
            "execution_count": null,
            "id": "c3210af2",
            "metadata": {
                "execution": {
                    "iopub.execute_input": "2024-12-24T21:55:08.251968Z",
                    "iopub.status.busy": "2024-12-24T21:55:08.251641Z",
                    "iopub.status.idle": "2024-12-24T21:55:08.254839Z",
                    "shell.execute_reply": "2024-12-24T21:55:08.254560Z"
                },
                "papermill": {
                    "duration": 0.006684,
                    "end_time": "2024-12-24T21:55:08.255398",
                    "exception": false,
                    "start_time": "2024-12-24T21:55:08.248714",
                    "status": "completed"
                },
                "tags": []
            },
            "outputs": [],
            "source": [
                "if not in_notebook:\n",
                "    # set up arg parser\n",
                "    parser = argparse.ArgumentParser(description=\"Segment the nuclei of a tiff image\")\n",
                "\n",
                "    parser.add_argument(\n",
                "        \"--input_dir\",\n",
                "        type=str,\n",
                "        help=\"Path to the input directory containing the tiff images\",\n",
                "    )\n",
                "\n",
                "    parser.add_argument(\n",
                "        \"--clip_limit\",\n",
                "        type=float,\n",
                "        help=\"Clip limit for the adaptive histogram equalization\",\n",
                "    )\n",
                "\n",
                "    args = parser.parse_args()\n",
                "    clip_limit = args.clip_limit\n",
                "    input_dir = pathlib.Path(args.input_dir).resolve(strict=True)\n",
                "\n",
                "else:\n",
                "    input_dir = pathlib.Path(\n",
                "        \"../../2.illumination_correction/illum_directory/W0052_F0001\"\n",
                "    ).resolve(strict=True)\n",
                "    clip_limit = 0.4"
            ]
        },
        {
            "cell_type": "markdown",
            "id": "5f30f887",
            "metadata": {
                "papermill": {
                    "duration": 0.002462,
                    "end_time": "2024-12-24T21:55:08.260049",
                    "exception": false,
                    "start_time": "2024-12-24T21:55:08.257587",
                    "status": "completed"
                },
                "tags": []
            },
            "source": [
                "## Set up images, paths and functions"
            ]
        },
        {
            "cell_type": "code",
            "execution_count": 3,
            "id": "13eea109",
            "metadata": {
                "execution": {
                    "iopub.execute_input": "2024-12-24T21:55:08.265518Z",
                    "iopub.status.busy": "2024-12-24T21:55:08.265378Z",
                    "iopub.status.idle": "2024-12-24T21:55:08.267646Z",
                    "shell.execute_reply": "2024-12-24T21:55:08.267377Z"
                },
                "papermill": {
                    "duration": 0.005712,
                    "end_time": "2024-12-24T21:55:08.268201",
                    "exception": false,
                    "start_time": "2024-12-24T21:55:08.262489",
                    "status": "completed"
                },
                "tags": []
            },
            "outputs": [],
            "source": [
                "image_extensions = {\".tif\", \".tiff\"}\n",
                "files = sorted(input_dir.glob(\"*\"))\n",
                "files = [str(x) for x in files if x.suffix in image_extensions]"
            ]
        },
        {
            "cell_type": "code",
            "execution_count": 4,
            "id": "adcd16b6",
            "metadata": {},
            "outputs": [],
            "source": [
                "image_dict = {\n",
                "    \"nuclei_file_paths\": [],\n",
                "    \"nuclei\": [],\n",
                "    \"cytoplasm1\": [],\n",
                "    \"cytoplasm2\": [],\n",
                "    \"cytoplasm3\": [],\n",
                "}"
            ]
        },
        {
            "cell_type": "code",
            "execution_count": 5,
            "id": "1c01a59c",
            "metadata": {},
            "outputs": [
                {
                    "name": "stderr",
                    "output_type": "stream",
                    "text": [
                        "dtype.py (527): Downcasting int32 to uint16 without scaling because max value 57587 fits in uint16\n",
                        "dtype.py (527): Downcasting int32 to uint16 without scaling because max value 64547 fits in uint16\n"
                    ]
                },
                {
                    "name": "stdout",
                    "output_type": "stream",
                    "text": [
                        "(18, 2000, 2000) (18, 2000, 2000)\n"
                    ]
                }
            ],
            "source": [
                "# split files by channel\n",
                "for file in files:\n",
                "    if \"C4\" in file.split(\"/\")[-1]:\n",
                "        image_dict[\"nuclei_file_paths\"].append(file)\n",
                "        image_dict[\"nuclei\"].append(tifffile.imread(file).astype(np.float32))\n",
                "    elif \"C1\" in file.split(\"/\")[-1]:\n",
                "        image_dict[\"cytoplasm1\"].append(tifffile.imread(file).astype(np.float32))\n",
                "    elif \"C2\" in file.split(\"/\")[-1]:\n",
                "        image_dict[\"cytoplasm2\"].append(tifffile.imread(file).astype(np.float32))\n",
                "    elif \"C3\" in file.split(\"/\")[-1]:\n",
                "        image_dict[\"cytoplasm3\"].append(tifffile.imread(file).astype(np.float32))\n",
                "\n",
                "cytoplasm_image_list = [\n",
                "    np.max(np.array([cytoplasm1, cytoplasm2, cytoplasm3]), axis=0)\n",
                "    for cytoplasm1, cytoplasm2, cytoplasm3 in zip(\n",
                "        image_dict[\"cytoplasm1\"], image_dict[\"cytoplasm2\"], image_dict[\"cytoplasm3\"]\n",
                "    )\n",
                "]\n",
                "nuclei_image_list = [np.array(nuclei) for nuclei in image_dict[\"nuclei\"]]\n",
                "\n",
                "cyto = np.array(cytoplasm_image_list).astype(np.int32)\n",
                "nuclei = np.array(nuclei_image_list).astype(np.int32)\n",
                "\n",
                "cyto = skimage.exposure.equalize_adapthist(cyto, clip_limit=clip_limit)\n",
                "nuclei = skimage.exposure.equalize_adapthist(nuclei, clip_limit=clip_limit)\n",
                "\n",
                "\n",
                "print(cyto.shape, nuclei.shape)"
            ]
        },
        {
            "cell_type": "code",
            "execution_count": 6,
            "id": "81fe6132",
            "metadata": {
                "execution": {
                    "iopub.execute_input": "2024-12-24T21:55:08.273247Z",
                    "iopub.status.busy": "2024-12-24T21:55:08.273113Z",
                    "iopub.status.idle": "2024-12-24T21:55:16.649436Z",
                    "shell.execute_reply": "2024-12-24T21:55:16.649004Z"
                },
                "papermill": {
                    "duration": 8.380184,
                    "end_time": "2024-12-24T21:55:16.650351",
                    "exception": false,
                    "start_time": "2024-12-24T21:55:08.270167",
                    "status": "completed"
                },
                "tags": []
            },
            "outputs": [],
            "source": [
                "original_nuclei_image = nuclei.copy()\n",
                "original_cyto_image = cyto.copy()"
            ]
        },
        {
            "cell_type": "code",
            "execution_count": 7,
            "id": "abd8f561",
            "metadata": {
                "execution": {
                    "iopub.execute_input": "2024-12-24T21:55:19.384305Z",
                    "iopub.status.busy": "2024-12-24T21:55:19.384158Z",
                    "iopub.status.idle": "2024-12-24T21:55:20.150003Z",
                    "shell.execute_reply": "2024-12-24T21:55:20.149539Z"
                },
                "papermill": {
                    "duration": 0.771956,
                    "end_time": "2024-12-24T21:55:20.150969",
                    "exception": false,
                    "start_time": "2024-12-24T21:55:19.379013",
                    "status": "completed"
                },
                "tags": []
            },
            "outputs": [],
            "source": [
                "imgs = []\n",
                "# save each z-slice as an RGB png\n",
                "for z in range(nuclei.shape[0]):\n",
                "\n",
                "    nuclei_tmp = nuclei[z, :, :]\n",
                "    cyto_tmp = cyto[z, :, :]\n",
                "    nuclei_tmp = (nuclei_tmp / nuclei_tmp.max() * 255).astype(np.uint8)\n",
                "    cyto_tmp = (cyto_tmp / cyto_tmp.max() * 255).astype(np.uint8)\n",
                "    # save the image as an RGB png with nuclei in blue and cytoplasm in red\n",
                "    RGB = np.stack([cyto_tmp, np.zeros_like(cyto_tmp), nuclei_tmp], axis=-1)\n",
                "\n",
                "    # change to 8-bit\n",
                "    RGB = (RGB / RGB.max() * 255).astype(np.uint8)\n",
                "\n",
                "    rgb_image_pil = Image.fromarray(RGB)\n",
                "\n",
                "    imgs.append(rgb_image_pil)"
            ]
        },
        {
            "cell_type": "markdown",
            "id": "8c41f152",
            "metadata": {
                "papermill": {
                    "duration": 0.00613,
                    "end_time": "2024-12-24T21:55:20.162034",
                    "exception": false,
                    "start_time": "2024-12-24T21:55:20.155904",
                    "status": "completed"
                },
                "tags": []
            },
            "source": [
                "## Cellpose"
            ]
        },
        {
            "cell_type": "code",
            "execution_count": null,
            "id": "e65e3c70",
            "metadata": {
                "execution": {
                    "iopub.execute_input": "2024-12-24T21:55:20.174953Z",
                    "iopub.status.busy": "2024-12-24T21:55:20.174802Z",
                    "iopub.status.idle": "2024-12-24T21:55:40.143956Z",
                    "shell.execute_reply": "2024-12-24T21:55:40.143583Z"
                },
                "papermill": {
                    "duration": 19.976679,
                    "end_time": "2024-12-24T21:55:40.144808",
                    "exception": false,
                    "start_time": "2024-12-24T21:55:20.168129",
                    "status": "completed"
                },
                "tags": []
            },
            "outputs": [
                {
                    "name": "stderr",
                    "output_type": "stream",
                    "text": [
                        "resnet_torch.py (271): You are using `torch.load` with `weights_only=False` (the current default value), which uses the default pickle module implicitly. It is possible to construct malicious pickle data which will execute arbitrary code during unpickling (See https://github.com/pytorch/pytorch/blob/main/SECURITY.md#untrusted-models for more details). In a future release, the default value for `weights_only` will be flipped to `True`. This limits the functions that could be executed during unpickling. Arbitrary objects will no longer be allowed to be loaded via this mode unless they are explicitly allowlisted by the user via `torch.serialization.add_safe_globals`. We recommend you start setting `weights_only=True` for any use case where you don't have full control of the loaded file. Please open an issue on GitHub for any issues related to this experimental feature.\n"
                    ]
                }
            ],
            "source": [
                "# model_type='cyto' or 'nuclei' or 'cyto2' or 'cyto3'\n",
                "model_name = \"cyto3\"\n",
                "model = models.Cellpose(model_type=model_name, gpu=True)\n",
                "\n",
                "channels = [[1, 3]]  # channels=[red cells, blue nuclei]\n",
                "\n",
                "masks_all_dict = {\"masks\": [], \"imgs\": []}\n",
                "imgs = np.array(imgs)\n",
                "\n",
                "# get masks for all the images\n",
                "# save to a dict for later use\n",
                "for img in imgs:\n",
                "    # masks, flows, styles, diams = model.eval(img, diameter=diameter, channels=channels)\n",
                "    masks, flows, styles, diams = model.eval(img, channels=channels)\n",
                "\n",
                "    masks_all_dict[\"masks\"].append(masks)\n",
                "    masks_all_dict[\"imgs\"].append(img)\n",
                "print(len(masks_all_dict))\n",
                "masks_all = masks_all_dict[\"masks\"]\n",
                "imgs = masks_all_dict[\"imgs\"]"
            ]
        },
        {
            "cell_type": "code",
            "execution_count": null,
            "metadata": {},
            "outputs": [],
            "source": [
                "for frame_index, frame in enumerate(image_dict[\"nuclei_file_paths\"]):\n",
                "    frame\n",
                "    tifffile.imwrite(\n",
                "        f\"{input_dir}/{str(frame).split('/')[-1].split('_C4')[0]}_cell_mask.tiff\",\n",
                "        nuclei[frame_index, :, :],\n",
                "    )"
            ]
        },
        {
            "cell_type": "code",
            "execution_count": null,
            "id": "a9512aaf",
            "metadata": {},
            "outputs": [],
            "source": [
                "if in_notebook:\n",
                "    for z in range(len(masks_all)):\n",
                "        plt.figure(figsize=(30, 10))\n",
                "        plt.title(f\"z: {z}\")\n",
                "        plt.axi(\"off\")\n",
                "        plt.subplot(1, 4, 1)\n",
                "        plt.imshow(nuclei[z], cmap=\"gray\")\n",
                "        plt.title(\"Nuclei\")\n",
                "        plt.axis(\"off\")\n",
                "\n",
                "        plt.subplot(142)\n",
                "        plt.imshow(cyto[z], cmap=\"gray\")\n",
                "        plt.title(\"Cytoplasm\")\n",
                "        plt.axis(\"off\")\n",
                "\n",
                "        plt.subplot(143)\n",
                "        plt.imshow(imgs[z], cmap=\"gray\")\n",
                "        plt.title(\"Red: Cytoplasm, Blue: Nuclei\")\n",
                "        plt.axis(\"off\")\n",
                "\n",
                "        plt.subplot(144)\n",
                "        plt.imshow(render_label(masks_all[z]))\n",
                "        plt.title(\"Cell masks\")\n",
                "        plt.axis(\"off\")\n",
                "        plt.show()"
            ]
        }
    ],
    "metadata": {
        "kernelspec": {
            "display_name": "timelapse_segmentation_env",
            "language": "python",
            "name": "python3"
        },
        "language_info": {
            "codemirror_mode": {
                "name": "ipython",
                "version": 3
            },
            "file_extension": ".py",
            "mimetype": "text/x-python",
            "name": "python",
            "nbconvert_exporter": "python",
            "pygments_lexer": "ipython3",
            "version": "3.10.16"
        },
        "papermill": {
            "default_parameters": {},
            "duration": 56.050777,
            "end_time": "2024-12-24T21:56:00.651478",
            "environment_variables": {},
            "exception": null,
            "input_path": "1.segment_cells_organoids.ipynb",
            "output_path": "1.segment_cells_organoids.ipynb",
            "parameters": {},
            "start_time": "2024-12-24T21:55:04.600701",
            "version": "2.6.0"
        }
    },
    "nbformat": 4,
    "nbformat_minor": 5
}
