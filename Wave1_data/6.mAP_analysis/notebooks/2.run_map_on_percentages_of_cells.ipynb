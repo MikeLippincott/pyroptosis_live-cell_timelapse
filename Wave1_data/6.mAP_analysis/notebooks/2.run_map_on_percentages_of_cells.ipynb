{
    "cells": [
        {
            "cell_type": "code",
            "execution_count": 1,
            "metadata": {},
            "outputs": [],
            "source": [
                "import argparse\n",
                "import pathlib\n",
                "import random\n",
                "\n",
                "import numpy as np\n",
                "import pandas as pd\n",
                "from copairs import map\n",
                "from copairs.matching import assign_reference_index\n",
                "\n",
                "# check if in a jupyter notebook\n",
                "try:\n",
                "    cfg = get_ipython().config\n",
                "    in_notebook = True\n",
                "except NameError:\n",
                "    in_notebook = False\n",
                "import warnings\n",
                "\n",
                "import pycytominer.aggregate\n",
                "import tqdm\n",
                "\n",
                "# Suppress all RuntimeWarnings\n",
                "warnings.filterwarnings(\"ignore\", category=RuntimeWarning)\n",
                "\n",
                "#"
            ]
        },
        {
            "cell_type": "code",
            "execution_count": 2,
            "metadata": {},
            "outputs": [],
            "source": [
                "if not in_notebook:\n",
                "    # setup the argument parser\n",
                "    parser = argparse.ArgumentParser(\n",
                "        description=\"Generate a map for differing cell counts\"\n",
                "    )\n",
                "\n",
                "    parser.add_argument(\n",
                "        \"--percentage\", type=float, help=\"Percentage of wells to use for the map file\"\n",
                "    )\n",
                "    parser.add_argument(\"--seed\", type=int, help=\"Seed for the random number generator\")\n",
                "    parser.add_argument(\n",
                "        \"--shuffle\", action=\"store_true\", help=\"Shuffle the order of the wells\"\n",
                "    )\n",
                "    # parse the arguments\n",
                "    args = parser.parse_args()\n",
                "    percentage = args.percentage\n",
                "    set_seed = args.seed\n",
                "    shuffle = args.shuffle\n",
                "else:\n",
                "    percentage = 0.4\n",
                "    set_seed = 0\n",
                "    shuffle = False\n",
                "\n",
                "output_file = pathlib.Path(\n",
                "    f\"../results/mAP_cell_percentages/{percentage}_{set_seed}_{shuffle}.parquet\"\n",
                ")\n",
                "output_file.parent.mkdir(exist_ok=True, parents=True)"
            ]
        },
        {
            "cell_type": "code",
            "execution_count": 3,
            "metadata": {},
            "outputs": [],
            "source": [
                "def run_mAP_across_time(\n",
                "    df: pd.DataFrame,\n",
                "):\n",
                "    \"\"\"\n",
                "    Run mAP across timepoints specifies and hardcoded columns for this data\n",
                "\n",
                "    Parameters\n",
                "    ----------\n",
                "    df : pd.DataFrame\n",
                "        An aggregated dataframe with metadata and features and temporal information\n",
                "\n",
                "    Returns\n",
                "    -------\n",
                "    dict\n",
                "        A dictionary of dataframes with the mAP results for each\n",
                "        timepoint.\n",
                "    \"\"\"\n",
                "    unique_timepoints = df.Metadata_Time.unique()\n",
                "    dict_of_map_dfs = {}\n",
                "    for timepoint in unique_timepoints:\n",
                "        single_time_df = df.loc[df.Metadata_Time == timepoint]\n",
                "        reference_col = \"Metadata_reference_index\"\n",
                "        df_activity = assign_reference_index(\n",
                "            single_time_df,\n",
                "            \"Metadata_treatment == 'DMSO CTL'\",\n",
                "            reference_col=reference_col,\n",
                "            default_value=-1,\n",
                "        )\n",
                "        pos_sameby = [\"Metadata_treatment\", reference_col]\n",
                "        pos_diffby = []\n",
                "        neg_sameby = []\n",
                "        neg_diffby = [\"Metadata_treatment\", reference_col]\n",
                "        metadata = df_activity.filter(regex=\"Metadata\")\n",
                "        profiles = df_activity.filter(regex=\"^(?!Metadata)\").values\n",
                "\n",
                "        activity_ap = map.average_precision(\n",
                "            metadata, profiles, pos_sameby, pos_diffby, neg_sameby, neg_diffby\n",
                "        )\n",
                "\n",
                "        activity_ap = activity_ap.query(\"Metadata_treatment != 'DMSO CTL'\")\n",
                "        activity_map = map.mean_average_precision(\n",
                "            activity_ap, pos_sameby, null_size=1000000, threshold=0.05, seed=0\n",
                "        )\n",
                "        activity_map[\"-log10(p-value)\"] = -activity_map[\"corrected_p_value\"].apply(\n",
                "            np.log10\n",
                "        )\n",
                "        # flatten the multi-index columns to make it easier to work with\n",
                "        dict_of_map_dfs[timepoint] = activity_map\n",
                "    return dict_of_map_dfs"
            ]
        },
        {
            "cell_type": "code",
            "execution_count": 4,
            "metadata": {},
            "outputs": [],
            "source": [
                "sc_metadata_cols_to_drop = [\n",
                "    \"Metadata_ImageNumber\",\n",
                "    \"Metadata_Cells_Number_Object_Number\",\n",
                "    \"Metadata_Cytoplasm_Parent_Cells\",\n",
                "    \"Metadata_Cytoplasm_Parent_Nuclei\",\n",
                "    \"Metadata_ImageNumber_1\",\n",
                "    \"Metadata_ImageNumber_2\",\n",
                "    \"Metadata_ImageNumber_3\",\n",
                "    \"Metadata_Nuclei_Number_Object_Number\",\n",
                "    \"Metadata_Image_FileName_BF\",\n",
                "    \"Metadata_Image_FileName_CL488\",\n",
                "    \"Metadata_Image_FileName_CL561\",\n",
                "    \"Metadata_Image_FileName_DNA\",\n",
                "    \"Metadata_Image_FileName_GSDM\",\n",
                "    \"Metadata_Image_PathName_BF\",\n",
                "    \"Metadata_Image_PathName_CL488\",\n",
                "    \"Metadata_Image_PathName_CL561\",\n",
                "    \"Metadata_Image_PathName_DNA\",\n",
                "    \"Metadata_Image_PathName_GSDM\",\n",
                "    \"Metadata_Nuclei_Location_Center_X\",\n",
                "    \"Metadata_Nuclei_Location_Center_Y\",\n",
                "    \"Metadata_number_of_singlecells\",\n",
                "    \"Metadata_FOV\",\n",
                "]"
            ]
        },
        {
            "cell_type": "code",
            "execution_count": 5,
            "metadata": {},
            "outputs": [
                {
                    "data": {
                        "text/html": [
                            "<div>\n",
                            "<style scoped>\n",
                            "    .dataframe tbody tr th:only-of-type {\n",
                            "        vertical-align: middle;\n",
                            "    }\n",
                            "\n",
                            "    .dataframe tbody tr th {\n",
                            "        vertical-align: top;\n",
                            "    }\n",
                            "\n",
                            "    .dataframe thead th {\n",
                            "        text-align: right;\n",
                            "    }\n",
                            "</style>\n",
                            "<table border=\"1\" class=\"dataframe\">\n",
                            "  <thead>\n",
                            "    <tr style=\"text-align: right;\">\n",
                            "      <th></th>\n",
                            "      <th>Metadata_treatment</th>\n",
                            "      <th>Metadata_Well</th>\n",
                            "      <th>Metadata_number_of_singlecells</th>\n",
                            "      <th>Metadata_FOV</th>\n",
                            "      <th>Metadata_treatment1</th>\n",
                            "      <th>Metadata_Time</th>\n",
                            "      <th>Metadata_treatment2</th>\n",
                            "      <th>Metadata_treatment1_dose</th>\n",
                            "      <th>Metadata_treatment1_unit</th>\n",
                            "      <th>Metadata_treatment2_dose</th>\n",
                            "      <th>...</th>\n",
                            "      <th>Nuclei_Texture_InfoMeas2_BF_3_03_256</th>\n",
                            "      <th>Nuclei_Texture_InverseDifferenceMoment_CL488_3_00_256</th>\n",
                            "      <th>Nuclei_Texture_InverseDifferenceMoment_CL561_3_01_256</th>\n",
                            "      <th>Nuclei_Texture_InverseDifferenceMoment_DNA_3_00_256</th>\n",
                            "      <th>Nuclei_Texture_InverseDifferenceMoment_GSDM_3_01_256</th>\n",
                            "      <th>Nuclei_Texture_SumAverage_BF_3_03_256</th>\n",
                            "      <th>Nuclei_Texture_SumAverage_CL488_3_01_256</th>\n",
                            "      <th>Nuclei_Texture_SumAverage_CL561_3_03_256</th>\n",
                            "      <th>Nuclei_Texture_SumAverage_GSDM_3_00_256</th>\n",
                            "      <th>Metadata_cells_per_well</th>\n",
                            "    </tr>\n",
                            "  </thead>\n",
                            "  <tbody>\n",
                            "    <tr>\n",
                            "      <th>0</th>\n",
                            "      <td>Media</td>\n",
                            "      <td>C04</td>\n",
                            "      <td>502</td>\n",
                            "      <td>0001</td>\n",
                            "      <td>Media</td>\n",
                            "      <td>00</td>\n",
                            "      <td>None</td>\n",
                            "      <td>None</td>\n",
                            "      <td>None</td>\n",
                            "      <td>None</td>\n",
                            "      <td>...</td>\n",
                            "      <td>-0.508520</td>\n",
                            "      <td>0.175213</td>\n",
                            "      <td>0.752187</td>\n",
                            "      <td>0.098034</td>\n",
                            "      <td>0.539390</td>\n",
                            "      <td>0.723292</td>\n",
                            "      <td>-0.103324</td>\n",
                            "      <td>0.235447</td>\n",
                            "      <td>-0.166432</td>\n",
                            "      <td>56443</td>\n",
                            "    </tr>\n",
                            "    <tr>\n",
                            "      <th>1</th>\n",
                            "      <td>Media</td>\n",
                            "      <td>C04</td>\n",
                            "      <td>502</td>\n",
                            "      <td>0001</td>\n",
                            "      <td>Media</td>\n",
                            "      <td>00</td>\n",
                            "      <td>None</td>\n",
                            "      <td>None</td>\n",
                            "      <td>None</td>\n",
                            "      <td>None</td>\n",
                            "      <td>...</td>\n",
                            "      <td>1.336084</td>\n",
                            "      <td>-2.123982</td>\n",
                            "      <td>-0.684702</td>\n",
                            "      <td>1.086309</td>\n",
                            "      <td>-1.168241</td>\n",
                            "      <td>1.152753</td>\n",
                            "      <td>4.695296</td>\n",
                            "      <td>2.018079</td>\n",
                            "      <td>-0.675315</td>\n",
                            "      <td>56443</td>\n",
                            "    </tr>\n",
                            "    <tr>\n",
                            "      <th>2</th>\n",
                            "      <td>Media</td>\n",
                            "      <td>C04</td>\n",
                            "      <td>474</td>\n",
                            "      <td>0002</td>\n",
                            "      <td>Media</td>\n",
                            "      <td>00</td>\n",
                            "      <td>None</td>\n",
                            "      <td>None</td>\n",
                            "      <td>None</td>\n",
                            "      <td>None</td>\n",
                            "      <td>...</td>\n",
                            "      <td>-1.051741</td>\n",
                            "      <td>0.936068</td>\n",
                            "      <td>-1.509714</td>\n",
                            "      <td>1.476585</td>\n",
                            "      <td>-1.168241</td>\n",
                            "      <td>-0.683012</td>\n",
                            "      <td>-0.383226</td>\n",
                            "      <td>-0.970753</td>\n",
                            "      <td>-0.675315</td>\n",
                            "      <td>56443</td>\n",
                            "    </tr>\n",
                            "    <tr>\n",
                            "      <th>3</th>\n",
                            "      <td>Media</td>\n",
                            "      <td>C04</td>\n",
                            "      <td>474</td>\n",
                            "      <td>0002</td>\n",
                            "      <td>Media</td>\n",
                            "      <td>00</td>\n",
                            "      <td>None</td>\n",
                            "      <td>None</td>\n",
                            "      <td>None</td>\n",
                            "      <td>None</td>\n",
                            "      <td>...</td>\n",
                            "      <td>-1.073423</td>\n",
                            "      <td>0.024511</td>\n",
                            "      <td>0.230210</td>\n",
                            "      <td>0.535240</td>\n",
                            "      <td>1.165398</td>\n",
                            "      <td>-1.397708</td>\n",
                            "      <td>-0.136373</td>\n",
                            "      <td>0.251703</td>\n",
                            "      <td>-0.235567</td>\n",
                            "      <td>56443</td>\n",
                            "    </tr>\n",
                            "    <tr>\n",
                            "      <th>4</th>\n",
                            "      <td>Media</td>\n",
                            "      <td>C04</td>\n",
                            "      <td>525</td>\n",
                            "      <td>0005</td>\n",
                            "      <td>Media</td>\n",
                            "      <td>00</td>\n",
                            "      <td>None</td>\n",
                            "      <td>None</td>\n",
                            "      <td>None</td>\n",
                            "      <td>None</td>\n",
                            "      <td>...</td>\n",
                            "      <td>1.489020</td>\n",
                            "      <td>-0.805110</td>\n",
                            "      <td>0.810185</td>\n",
                            "      <td>-0.158104</td>\n",
                            "      <td>1.165398</td>\n",
                            "      <td>1.827503</td>\n",
                            "      <td>0.222441</td>\n",
                            "      <td>0.186214</td>\n",
                            "      <td>-0.235567</td>\n",
                            "      <td>56443</td>\n",
                            "    </tr>\n",
                            "  </tbody>\n",
                            "</table>\n",
                            "<p>5 rows \u00d7 710 columns</p>\n",
                            "</div>"
                        ],
                        "text/plain": [
                            "  Metadata_treatment Metadata_Well  Metadata_number_of_singlecells  \\\n",
                            "0              Media           C04                             502   \n",
                            "1              Media           C04                             502   \n",
                            "2              Media           C04                             474   \n",
                            "3              Media           C04                             474   \n",
                            "4              Media           C04                             525   \n",
                            "\n",
                            "  Metadata_FOV Metadata_treatment1 Metadata_Time Metadata_treatment2  \\\n",
                            "0         0001               Media            00                None   \n",
                            "1         0001               Media            00                None   \n",
                            "2         0002               Media            00                None   \n",
                            "3         0002               Media            00                None   \n",
                            "4         0005               Media            00                None   \n",
                            "\n",
                            "  Metadata_treatment1_dose Metadata_treatment1_unit Metadata_treatment2_dose  \\\n",
                            "0                     None                     None                     None   \n",
                            "1                     None                     None                     None   \n",
                            "2                     None                     None                     None   \n",
                            "3                     None                     None                     None   \n",
                            "4                     None                     None                     None   \n",
                            "\n",
                            "   ... Nuclei_Texture_InfoMeas2_BF_3_03_256  \\\n",
                            "0  ...                            -0.508520   \n",
                            "1  ...                             1.336084   \n",
                            "2  ...                            -1.051741   \n",
                            "3  ...                            -1.073423   \n",
                            "4  ...                             1.489020   \n",
                            "\n",
                            "  Nuclei_Texture_InverseDifferenceMoment_CL488_3_00_256  \\\n",
                            "0                                           0.175213      \n",
                            "1                                          -2.123982      \n",
                            "2                                           0.936068      \n",
                            "3                                           0.024511      \n",
                            "4                                          -0.805110      \n",
                            "\n",
                            "   Nuclei_Texture_InverseDifferenceMoment_CL561_3_01_256  \\\n",
                            "0                                           0.752187       \n",
                            "1                                          -0.684702       \n",
                            "2                                          -1.509714       \n",
                            "3                                           0.230210       \n",
                            "4                                           0.810185       \n",
                            "\n",
                            "   Nuclei_Texture_InverseDifferenceMoment_DNA_3_00_256  \\\n",
                            "0                                           0.098034     \n",
                            "1                                           1.086309     \n",
                            "2                                           1.476585     \n",
                            "3                                           0.535240     \n",
                            "4                                          -0.158104     \n",
                            "\n",
                            "   Nuclei_Texture_InverseDifferenceMoment_GSDM_3_01_256  \\\n",
                            "0                                           0.539390      \n",
                            "1                                          -1.168241      \n",
                            "2                                          -1.168241      \n",
                            "3                                           1.165398      \n",
                            "4                                           1.165398      \n",
                            "\n",
                            "   Nuclei_Texture_SumAverage_BF_3_03_256  \\\n",
                            "0                               0.723292   \n",
                            "1                               1.152753   \n",
                            "2                              -0.683012   \n",
                            "3                              -1.397708   \n",
                            "4                               1.827503   \n",
                            "\n",
                            "   Nuclei_Texture_SumAverage_CL488_3_01_256  \\\n",
                            "0                                 -0.103324   \n",
                            "1                                  4.695296   \n",
                            "2                                 -0.383226   \n",
                            "3                                 -0.136373   \n",
                            "4                                  0.222441   \n",
                            "\n",
                            "   Nuclei_Texture_SumAverage_CL561_3_03_256  \\\n",
                            "0                                  0.235447   \n",
                            "1                                  2.018079   \n",
                            "2                                 -0.970753   \n",
                            "3                                  0.251703   \n",
                            "4                                  0.186214   \n",
                            "\n",
                            "   Nuclei_Texture_SumAverage_GSDM_3_00_256  Metadata_cells_per_well  \n",
                            "0                                -0.166432                    56443  \n",
                            "1                                -0.675315                    56443  \n",
                            "2                                -0.675315                    56443  \n",
                            "3                                -0.235567                    56443  \n",
                            "4                                -0.235567                    56443  \n",
                            "\n",
                            "[5 rows x 710 columns]"
                        ]
                    },
                    "execution_count": 5,
                    "metadata": {},
                    "output_type": "execute_result"
                }
            ],
            "source": [
                "data_file_path = pathlib.Path(\n",
                "    \"../../4.processing_profiled_features/data/preprocessed_data/live_cell_pyroptosis_wave1_sc_first_time_norm_fs_subset.parquet\"\n",
                ").resolve(strict=True)\n",
                "df = pd.read_parquet(data_file_path)\n",
                "df.reset_index(drop=True, inplace=True)\n",
                "df = df[~df.Metadata_serum.str.contains(\"NuSerum\")]\n",
                "\n",
                "df.head()"
            ]
        },
        {
            "cell_type": "code",
            "execution_count": 6,
            "metadata": {},
            "outputs": [
                {
                    "data": {
                        "application/vnd.jupyter.widget-view+json": {
                            "model_id": "21eb23c9b112477b9665805a76160a6a",
                            "version_major": 2,
                            "version_minor": 0
                        },
                        "text/plain": [
                            "  0%|          | 0/1 [00:00<?, ?it/s]"
                        ]
                    },
                    "metadata": {},
                    "output_type": "display_data"
                },
                {
                    "data": {
                        "application/vnd.jupyter.widget-view+json": {
                            "model_id": "58114cf0373c442b9f8627de552fb2e7",
                            "version_major": 2,
                            "version_minor": 0
                        },
                        "text/plain": [
                            "  0%|          | 0/1 [00:00<?, ?it/s]"
                        ]
                    },
                    "metadata": {},
                    "output_type": "display_data"
                },
                {
                    "data": {
                        "application/vnd.jupyter.widget-view+json": {
                            "model_id": "cb8f276dda424a0d9fb32f1af1c14dad",
                            "version_major": 2,
                            "version_minor": 0
                        },
                        "text/plain": [
                            "  0%|          | 0/1 [00:00<?, ?it/s]"
                        ]
                    },
                    "metadata": {},
                    "output_type": "display_data"
                },
                {
                    "data": {
                        "application/vnd.jupyter.widget-view+json": {
                            "model_id": "b79044433ec740b89ca38fe4b485779b",
                            "version_major": 2,
                            "version_minor": 0
                        },
                        "text/plain": [
                            "  0%|          | 0/22 [00:00<?, ?it/s]"
                        ]
                    },
                    "metadata": {},
                    "output_type": "display_data"
                },
                {
                    "data": {
                        "application/vnd.jupyter.widget-view+json": {
                            "model_id": "5a523c5305204a02857438539efb6301",
                            "version_major": 2,
                            "version_minor": 0
                        },
                        "text/plain": [
                            "  0%|          | 0/1 [00:00<?, ?it/s]"
                        ]
                    },
                    "metadata": {},
                    "output_type": "display_data"
                },
                {
                    "data": {
                        "application/vnd.jupyter.widget-view+json": {
                            "model_id": "295e51fce45b402a8fc0bcb9c530c574",
                            "version_major": 2,
                            "version_minor": 0
                        },
                        "text/plain": [
                            "  0%|          | 0/1 [00:00<?, ?it/s]"
                        ]
                    },
                    "metadata": {},
                    "output_type": "display_data"
                },
                {
                    "data": {
                        "application/vnd.jupyter.widget-view+json": {
                            "model_id": "2f988e9abeb24026ae040a9baba3ba16",
                            "version_major": 2,
                            "version_minor": 0
                        },
                        "text/plain": [
                            "  0%|          | 0/1 [00:00<?, ?it/s]"
                        ]
                    },
                    "metadata": {},
                    "output_type": "display_data"
                },
                {
                    "data": {
                        "application/vnd.jupyter.widget-view+json": {
                            "model_id": "eb6673cdb6fc44778fb6c58910bdc0b1",
                            "version_major": 2,
                            "version_minor": 0
                        },
                        "text/plain": [
                            "  0%|          | 0/22 [00:00<?, ?it/s]"
                        ]
                    },
                    "metadata": {},
                    "output_type": "display_data"
                },
                {
                    "data": {
                        "application/vnd.jupyter.widget-view+json": {
                            "model_id": "6d3a21c504f84f81b1375ae29d532041",
                            "version_major": 2,
                            "version_minor": 0
                        },
                        "text/plain": [
                            "  0%|          | 0/1 [00:00<?, ?it/s]"
                        ]
                    },
                    "metadata": {},
                    "output_type": "display_data"
                },
                {
                    "data": {
                        "application/vnd.jupyter.widget-view+json": {
                            "model_id": "59a8eeb8e48540b08039c8a22fb8bee5",
                            "version_major": 2,
                            "version_minor": 0
                        },
                        "text/plain": [
                            "  0%|          | 0/1 [00:00<?, ?it/s]"
                        ]
                    },
                    "metadata": {},
                    "output_type": "display_data"
                },
                {
                    "data": {
                        "application/vnd.jupyter.widget-view+json": {
                            "model_id": "73f2129b350540e1ae9f62b9cf53b427",
                            "version_major": 2,
                            "version_minor": 0
                        },
                        "text/plain": [
                            "  0%|          | 0/1 [00:00<?, ?it/s]"
                        ]
                    },
                    "metadata": {},
                    "output_type": "display_data"
                },
                {
                    "data": {
                        "application/vnd.jupyter.widget-view+json": {
                            "model_id": "57b0ea1cd29a4fef914251499d6d096c",
                            "version_major": 2,
                            "version_minor": 0
                        },
                        "text/plain": [
                            "  0%|          | 0/22 [00:00<?, ?it/s]"
                        ]
                    },
                    "metadata": {},
                    "output_type": "display_data"
                },
                {
                    "data": {
                        "application/vnd.jupyter.widget-view+json": {
                            "model_id": "8e598cd06ad940ceb23674164fd18351",
                            "version_major": 2,
                            "version_minor": 0
                        },
                        "text/plain": [
                            "  0%|          | 0/1 [00:00<?, ?it/s]"
                        ]
                    },
                    "metadata": {},
                    "output_type": "display_data"
                },
                {
                    "data": {
                        "application/vnd.jupyter.widget-view+json": {
                            "model_id": "573a7516d68f425abcf555f037aeeb84",
                            "version_major": 2,
                            "version_minor": 0
                        },
                        "text/plain": [
                            "  0%|          | 0/1 [00:00<?, ?it/s]"
                        ]
                    },
                    "metadata": {},
                    "output_type": "display_data"
                },
                {
                    "data": {
                        "application/vnd.jupyter.widget-view+json": {
                            "model_id": "38def9877c9444f7a29f3536df88ac74",
                            "version_major": 2,
                            "version_minor": 0
                        },
                        "text/plain": [
                            "  0%|          | 0/1 [00:00<?, ?it/s]"
                        ]
                    },
                    "metadata": {},
                    "output_type": "display_data"
                },
                {
                    "data": {
                        "application/vnd.jupyter.widget-view+json": {
                            "model_id": "91f3c43a12544df6aa74e9be05805ee8",
                            "version_major": 2,
                            "version_minor": 0
                        },
                        "text/plain": [
                            "  0%|          | 0/22 [00:00<?, ?it/s]"
                        ]
                    },
                    "metadata": {},
                    "output_type": "display_data"
                },
                {
                    "data": {
                        "application/vnd.jupyter.widget-view+json": {
                            "model_id": "6222d3df3ffe49cfa1d18339d6c791e6",
                            "version_major": 2,
                            "version_minor": 0
                        },
                        "text/plain": [
                            "  0%|          | 0/1 [00:00<?, ?it/s]"
                        ]
                    },
                    "metadata": {},
                    "output_type": "display_data"
                },
                {
                    "data": {
                        "application/vnd.jupyter.widget-view+json": {
                            "model_id": "0a95e88c10d54238885ce944b104d306",
                            "version_major": 2,
                            "version_minor": 0
                        },
                        "text/plain": [
                            "  0%|          | 0/1 [00:00<?, ?it/s]"
                        ]
                    },
                    "metadata": {},
                    "output_type": "display_data"
                },
                {
                    "data": {
                        "application/vnd.jupyter.widget-view+json": {
                            "model_id": "c7cd4126ad594613aa2238da6ec57137",
                            "version_major": 2,
                            "version_minor": 0
                        },
                        "text/plain": [
                            "  0%|          | 0/1 [00:00<?, ?it/s]"
                        ]
                    },
                    "metadata": {},
                    "output_type": "display_data"
                },
                {
                    "data": {
                        "application/vnd.jupyter.widget-view+json": {
                            "model_id": "52e66a5549604b1bb17c7b1b5e4bd3f5",
                            "version_major": 2,
                            "version_minor": 0
                        },
                        "text/plain": [
                            "  0%|          | 0/22 [00:00<?, ?it/s]"
                        ]
                    },
                    "metadata": {},
                    "output_type": "display_data"
                },
                {
                    "data": {
                        "application/vnd.jupyter.widget-view+json": {
                            "model_id": "a8ffbb3000084fb6bf44f3776cd422ec",
                            "version_major": 2,
                            "version_minor": 0
                        },
                        "text/plain": [
                            "  0%|          | 0/1 [00:00<?, ?it/s]"
                        ]
                    },
                    "metadata": {},
                    "output_type": "display_data"
                },
                {
                    "data": {
                        "application/vnd.jupyter.widget-view+json": {
                            "model_id": "be799782635c4337b481aa7c494a25ef",
                            "version_major": 2,
                            "version_minor": 0
                        },
                        "text/plain": [
                            "  0%|          | 0/1 [00:00<?, ?it/s]"
                        ]
                    },
                    "metadata": {},
                    "output_type": "display_data"
                },
                {
                    "data": {
                        "application/vnd.jupyter.widget-view+json": {
                            "model_id": "7aa445c98fe84ab9adee066e4a0c3e6d",
                            "version_major": 2,
                            "version_minor": 0
                        },
                        "text/plain": [
                            "  0%|          | 0/1 [00:00<?, ?it/s]"
                        ]
                    },
                    "metadata": {},
                    "output_type": "display_data"
                },
                {
                    "data": {
                        "application/vnd.jupyter.widget-view+json": {
                            "model_id": "b069f36387eb4e6cb540dc159c9d7da8",
                            "version_major": 2,
                            "version_minor": 0
                        },
                        "text/plain": [
                            "  0%|          | 0/22 [00:00<?, ?it/s]"
                        ]
                    },
                    "metadata": {},
                    "output_type": "display_data"
                },
                {
                    "data": {
                        "application/vnd.jupyter.widget-view+json": {
                            "model_id": "9dbc8b90e45a42dca0f0ef6fc771d8ce",
                            "version_major": 2,
                            "version_minor": 0
                        },
                        "text/plain": [
                            "  0%|          | 0/1 [00:00<?, ?it/s]"
                        ]
                    },
                    "metadata": {},
                    "output_type": "display_data"
                },
                {
                    "data": {
                        "application/vnd.jupyter.widget-view+json": {
                            "model_id": "513798ef72dd4e2f911fa7ac36fe3acc",
                            "version_major": 2,
                            "version_minor": 0
                        },
                        "text/plain": [
                            "  0%|          | 0/1 [00:00<?, ?it/s]"
                        ]
                    },
                    "metadata": {},
                    "output_type": "display_data"
                },
                {
                    "data": {
                        "application/vnd.jupyter.widget-view+json": {
                            "model_id": "82f59a71a3d941f2a68b3e07605c5b25",
                            "version_major": 2,
                            "version_minor": 0
                        },
                        "text/plain": [
                            "  0%|          | 0/1 [00:00<?, ?it/s]"
                        ]
                    },
                    "metadata": {},
                    "output_type": "display_data"
                },
                {
                    "data": {
                        "application/vnd.jupyter.widget-view+json": {
                            "model_id": "92532a22c7864552bc0e0cc0f7d7004b",
                            "version_major": 2,
                            "version_minor": 0
                        },
                        "text/plain": [
                            "  0%|          | 0/22 [00:00<?, ?it/s]"
                        ]
                    },
                    "metadata": {},
                    "output_type": "display_data"
                },
                {
                    "data": {
                        "application/vnd.jupyter.widget-view+json": {
                            "model_id": "d2e213cff35142f492d544b8c7ccaa45",
                            "version_major": 2,
                            "version_minor": 0
                        },
                        "text/plain": [
                            "  0%|          | 0/1 [00:00<?, ?it/s]"
                        ]
                    },
                    "metadata": {},
                    "output_type": "display_data"
                },
                {
                    "data": {
                        "application/vnd.jupyter.widget-view+json": {
                            "model_id": "66bf9f7e5842446b9c414c31a97c93a4",
                            "version_major": 2,
                            "version_minor": 0
                        },
                        "text/plain": [
                            "  0%|          | 0/1 [00:00<?, ?it/s]"
                        ]
                    },
                    "metadata": {},
                    "output_type": "display_data"
                },
                {
                    "data": {
                        "application/vnd.jupyter.widget-view+json": {
                            "model_id": "126c5d3f85ce4605bba14ca88de55f0e",
                            "version_major": 2,
                            "version_minor": 0
                        },
                        "text/plain": [
                            "  0%|          | 0/1 [00:00<?, ?it/s]"
                        ]
                    },
                    "metadata": {},
                    "output_type": "display_data"
                },
                {
                    "data": {
                        "application/vnd.jupyter.widget-view+json": {
                            "model_id": "a188de51c2e1478f9b6fc906b8e02ba7",
                            "version_major": 2,
                            "version_minor": 0
                        },
                        "text/plain": [
                            "  0%|          | 0/22 [00:00<?, ?it/s]"
                        ]
                    },
                    "metadata": {},
                    "output_type": "display_data"
                },
                {
                    "data": {
                        "application/vnd.jupyter.widget-view+json": {
                            "model_id": "eba3af12cc3a4bae88b1519bad6745c9",
                            "version_major": 2,
                            "version_minor": 0
                        },
                        "text/plain": [
                            "  0%|          | 0/1 [00:00<?, ?it/s]"
                        ]
                    },
                    "metadata": {},
                    "output_type": "display_data"
                },
                {
                    "data": {
                        "application/vnd.jupyter.widget-view+json": {
                            "model_id": "62218cd09b014631a62b6ec95c46b4f7",
                            "version_major": 2,
                            "version_minor": 0
                        },
                        "text/plain": [
                            "  0%|          | 0/1 [00:00<?, ?it/s]"
                        ]
                    },
                    "metadata": {},
                    "output_type": "display_data"
                },
                {
                    "data": {
                        "application/vnd.jupyter.widget-view+json": {
                            "model_id": "7e918863e3864e5a94a023880da19131",
                            "version_major": 2,
                            "version_minor": 0
                        },
                        "text/plain": [
                            "  0%|          | 0/1 [00:00<?, ?it/s]"
                        ]
                    },
                    "metadata": {},
                    "output_type": "display_data"
                },
                {
                    "data": {
                        "application/vnd.jupyter.widget-view+json": {
                            "model_id": "b884a7c4a4b74c0781899db6a130a9d5",
                            "version_major": 2,
                            "version_minor": 0
                        },
                        "text/plain": [
                            "  0%|          | 0/22 [00:00<?, ?it/s]"
                        ]
                    },
                    "metadata": {},
                    "output_type": "display_data"
                },
                {
                    "data": {
                        "application/vnd.jupyter.widget-view+json": {
                            "model_id": "56d0c03a965749d787afe62950839303",
                            "version_major": 2,
                            "version_minor": 0
                        },
                        "text/plain": [
                            "  0%|          | 0/1 [00:00<?, ?it/s]"
                        ]
                    },
                    "metadata": {},
                    "output_type": "display_data"
                },
                {
                    "data": {
                        "application/vnd.jupyter.widget-view+json": {
                            "model_id": "88cfe89789d64776a91ef42cabf43f43",
                            "version_major": 2,
                            "version_minor": 0
                        },
                        "text/plain": [
                            "  0%|          | 0/1 [00:00<?, ?it/s]"
                        ]
                    },
                    "metadata": {},
                    "output_type": "display_data"
                },
                {
                    "data": {
                        "application/vnd.jupyter.widget-view+json": {
                            "model_id": "1b9337197ca6454dac37694b3849df58",
                            "version_major": 2,
                            "version_minor": 0
                        },
                        "text/plain": [
                            "  0%|          | 0/1 [00:00<?, ?it/s]"
                        ]
                    },
                    "metadata": {},
                    "output_type": "display_data"
                },
                {
                    "data": {
                        "application/vnd.jupyter.widget-view+json": {
                            "model_id": "cd5cfde307bd494889f1b0d64c0c4836",
                            "version_major": 2,
                            "version_minor": 0
                        },
                        "text/plain": [
                            "  0%|          | 0/22 [00:00<?, ?it/s]"
                        ]
                    },
                    "metadata": {},
                    "output_type": "display_data"
                },
                {
                    "data": {
                        "application/vnd.jupyter.widget-view+json": {
                            "model_id": "20e9d9f873b548408074e8a6f5047c2e",
                            "version_major": 2,
                            "version_minor": 0
                        },
                        "text/plain": [
                            "  0%|          | 0/1 [00:00<?, ?it/s]"
                        ]
                    },
                    "metadata": {},
                    "output_type": "display_data"
                },
                {
                    "data": {
                        "application/vnd.jupyter.widget-view+json": {
                            "model_id": "22bcf6e7f7604de99051b58f7871e24c",
                            "version_major": 2,
                            "version_minor": 0
                        },
                        "text/plain": [
                            "  0%|          | 0/1 [00:00<?, ?it/s]"
                        ]
                    },
                    "metadata": {},
                    "output_type": "display_data"
                },
                {
                    "data": {
                        "application/vnd.jupyter.widget-view+json": {
                            "model_id": "146d828c07894ee782e919ea264503b2",
                            "version_major": 2,
                            "version_minor": 0
                        },
                        "text/plain": [
                            "  0%|          | 0/1 [00:00<?, ?it/s]"
                        ]
                    },
                    "metadata": {},
                    "output_type": "display_data"
                },
                {
                    "data": {
                        "application/vnd.jupyter.widget-view+json": {
                            "model_id": "9c9ec2d4c1db48289f9240bb1c52c745",
                            "version_major": 2,
                            "version_minor": 0
                        },
                        "text/plain": [
                            "  0%|          | 0/22 [00:00<?, ?it/s]"
                        ]
                    },
                    "metadata": {},
                    "output_type": "display_data"
                },
                {
                    "data": {
                        "application/vnd.jupyter.widget-view+json": {
                            "model_id": "3cc8726e6dad4b3aa833904e37fa30d0",
                            "version_major": 2,
                            "version_minor": 0
                        },
                        "text/plain": [
                            "  0%|          | 0/1 [00:00<?, ?it/s]"
                        ]
                    },
                    "metadata": {},
                    "output_type": "display_data"
                },
                {
                    "data": {
                        "application/vnd.jupyter.widget-view+json": {
                            "model_id": "11d69288c63d4cfb823639d1d69c5821",
                            "version_major": 2,
                            "version_minor": 0
                        },
                        "text/plain": [
                            "  0%|          | 0/1 [00:00<?, ?it/s]"
                        ]
                    },
                    "metadata": {},
                    "output_type": "display_data"
                },
                {
                    "data": {
                        "application/vnd.jupyter.widget-view+json": {
                            "model_id": "99cce9bed3be49c29a6b097ebec95f6d",
                            "version_major": 2,
                            "version_minor": 0
                        },
                        "text/plain": [
                            "  0%|          | 0/1 [00:00<?, ?it/s]"
                        ]
                    },
                    "metadata": {},
                    "output_type": "display_data"
                },
                {
                    "data": {
                        "application/vnd.jupyter.widget-view+json": {
                            "model_id": "467ce36fea324b5eb994d2c9f3cbfaa7",
                            "version_major": 2,
                            "version_minor": 0
                        },
                        "text/plain": [
                            "  0%|          | 0/22 [00:00<?, ?it/s]"
                        ]
                    },
                    "metadata": {},
                    "output_type": "display_data"
                },
                {
                    "data": {
                        "application/vnd.jupyter.widget-view+json": {
                            "model_id": "ef880b8761d549579f7bc84a9dada002",
                            "version_major": 2,
                            "version_minor": 0
                        },
                        "text/plain": [
                            "  0%|          | 0/1 [00:00<?, ?it/s]"
                        ]
                    },
                    "metadata": {},
                    "output_type": "display_data"
                },
                {
                    "data": {
                        "application/vnd.jupyter.widget-view+json": {
                            "model_id": "8fa5e2d156094b74aa0782f6d7da6458",
                            "version_major": 2,
                            "version_minor": 0
                        },
                        "text/plain": [
                            "  0%|          | 0/1 [00:00<?, ?it/s]"
                        ]
                    },
                    "metadata": {},
                    "output_type": "display_data"
                },
                {
                    "data": {
                        "application/vnd.jupyter.widget-view+json": {
                            "model_id": "da5430cfec4e4394817e70e05a922791",
                            "version_major": 2,
                            "version_minor": 0
                        },
                        "text/plain": [
                            "  0%|          | 0/1 [00:00<?, ?it/s]"
                        ]
                    },
                    "metadata": {},
                    "output_type": "display_data"
                },
                {
                    "data": {
                        "application/vnd.jupyter.widget-view+json": {
                            "model_id": "f2359e295a434435bd84bfa5791151e9",
                            "version_major": 2,
                            "version_minor": 0
                        },
                        "text/plain": [
                            "  0%|          | 0/22 [00:00<?, ?it/s]"
                        ]
                    },
                    "metadata": {},
                    "output_type": "display_data"
                },
                {
                    "data": {
                        "application/vnd.jupyter.widget-view+json": {
                            "model_id": "026aecc15a40482185f53118192126ef",
                            "version_major": 2,
                            "version_minor": 0
                        },
                        "text/plain": [
                            "  0%|          | 0/1 [00:00<?, ?it/s]"
                        ]
                    },
                    "metadata": {},
                    "output_type": "display_data"
                },
                {
                    "data": {
                        "application/vnd.jupyter.widget-view+json": {
                            "model_id": "00098c9f408f450387698fdf9cb2cf85",
                            "version_major": 2,
                            "version_minor": 0
                        },
                        "text/plain": [
                            "  0%|          | 0/1 [00:00<?, ?it/s]"
                        ]
                    },
                    "metadata": {},
                    "output_type": "display_data"
                },
                {
                    "data": {
                        "application/vnd.jupyter.widget-view+json": {
                            "model_id": "934eae6d4cae4ef78cc5c2798d182b75",
                            "version_major": 2,
                            "version_minor": 0
                        },
                        "text/plain": [
                            "  0%|          | 0/1 [00:00<?, ?it/s]"
                        ]
                    },
                    "metadata": {},
                    "output_type": "display_data"
                },
                {
                    "data": {
                        "application/vnd.jupyter.widget-view+json": {
                            "model_id": "508cce77aebd4bba89a70433d4d6d32e",
                            "version_major": 2,
                            "version_minor": 0
                        },
                        "text/plain": [
                            "  0%|          | 0/22 [00:00<?, ?it/s]"
                        ]
                    },
                    "metadata": {},
                    "output_type": "display_data"
                },
                {
                    "data": {
                        "application/vnd.jupyter.widget-view+json": {
                            "model_id": "e8f8467843c94414a96429e38e988f29",
                            "version_major": 2,
                            "version_minor": 0
                        },
                        "text/plain": [
                            "  0%|          | 0/1 [00:00<?, ?it/s]"
                        ]
                    },
                    "metadata": {},
                    "output_type": "display_data"
                },
                {
                    "data": {
                        "application/vnd.jupyter.widget-view+json": {
                            "model_id": "d861055a7c6d454caa42fdff61bcf150",
                            "version_major": 2,
                            "version_minor": 0
                        },
                        "text/plain": [
                            "  0%|          | 0/1 [00:00<?, ?it/s]"
                        ]
                    },
                    "metadata": {},
                    "output_type": "display_data"
                },
                {
                    "data": {
                        "application/vnd.jupyter.widget-view+json": {
                            "model_id": "c20b31c666c748f294caf4cd29028559",
                            "version_major": 2,
                            "version_minor": 0
                        },
                        "text/plain": [
                            "  0%|          | 0/1 [00:00<?, ?it/s]"
                        ]
                    },
                    "metadata": {},
                    "output_type": "display_data"
                },
                {
                    "data": {
                        "application/vnd.jupyter.widget-view+json": {
                            "model_id": "77fabfdadea2429587c34514293ca7a7",
                            "version_major": 2,
                            "version_minor": 0
                        },
                        "text/plain": [
                            "  0%|          | 0/22 [00:00<?, ?it/s]"
                        ]
                    },
                    "metadata": {},
                    "output_type": "display_data"
                },
                {
                    "data": {
                        "application/vnd.jupyter.widget-view+json": {
                            "model_id": "fdd791c66fff4cf192c195fde85b8ea8",
                            "version_major": 2,
                            "version_minor": 0
                        },
                        "text/plain": [
                            "  0%|          | 0/1 [00:00<?, ?it/s]"
                        ]
                    },
                    "metadata": {},
                    "output_type": "display_data"
                },
                {
                    "data": {
                        "application/vnd.jupyter.widget-view+json": {
                            "model_id": "6211360dc0a14232b0f0a3b4ae599322",
                            "version_major": 2,
                            "version_minor": 0
                        },
                        "text/plain": [
                            "  0%|          | 0/1 [00:00<?, ?it/s]"
                        ]
                    },
                    "metadata": {},
                    "output_type": "display_data"
                },
                {
                    "data": {
                        "application/vnd.jupyter.widget-view+json": {
                            "model_id": "1594595128784c8dac12a72168cf33a2",
                            "version_major": 2,
                            "version_minor": 0
                        },
                        "text/plain": [
                            "  0%|          | 0/1 [00:00<?, ?it/s]"
                        ]
                    },
                    "metadata": {},
                    "output_type": "display_data"
                },
                {
                    "data": {
                        "application/vnd.jupyter.widget-view+json": {
                            "model_id": "a9b5d2b4dc6e4140ba665a7f13751be3",
                            "version_major": 2,
                            "version_minor": 0
                        },
                        "text/plain": [
                            "  0%|          | 0/22 [00:00<?, ?it/s]"
                        ]
                    },
                    "metadata": {},
                    "output_type": "display_data"
                },
                {
                    "data": {
                        "application/vnd.jupyter.widget-view+json": {
                            "model_id": "577c73209c764ab6a06af26588b6140b",
                            "version_major": 2,
                            "version_minor": 0
                        },
                        "text/plain": [
                            "  0%|          | 0/1 [00:00<?, ?it/s]"
                        ]
                    },
                    "metadata": {},
                    "output_type": "display_data"
                },
                {
                    "data": {
                        "application/vnd.jupyter.widget-view+json": {
                            "model_id": "5778602a289543ec9c115784c193d06b",
                            "version_major": 2,
                            "version_minor": 0
                        },
                        "text/plain": [
                            "  0%|          | 0/1 [00:00<?, ?it/s]"
                        ]
                    },
                    "metadata": {},
                    "output_type": "display_data"
                },
                {
                    "data": {
                        "application/vnd.jupyter.widget-view+json": {
                            "model_id": "9aca6e795de64cd488cb4338cfa6d773",
                            "version_major": 2,
                            "version_minor": 0
                        },
                        "text/plain": [
                            "  0%|          | 0/1 [00:00<?, ?it/s]"
                        ]
                    },
                    "metadata": {},
                    "output_type": "display_data"
                },
                {
                    "data": {
                        "application/vnd.jupyter.widget-view+json": {
                            "model_id": "a32d07fe19ac415ab9b85459c17713e1",
                            "version_major": 2,
                            "version_minor": 0
                        },
                        "text/plain": [
                            "  0%|          | 0/22 [00:00<?, ?it/s]"
                        ]
                    },
                    "metadata": {},
                    "output_type": "display_data"
                },
                {
                    "data": {
                        "application/vnd.jupyter.widget-view+json": {
                            "model_id": "0205fac7d86b4e13a1e34e39ee863379",
                            "version_major": 2,
                            "version_minor": 0
                        },
                        "text/plain": [
                            "  0%|          | 0/1 [00:00<?, ?it/s]"
                        ]
                    },
                    "metadata": {},
                    "output_type": "display_data"
                },
                {
                    "data": {
                        "application/vnd.jupyter.widget-view+json": {
                            "model_id": "46becc78789048738bccf56bd194eb66",
                            "version_major": 2,
                            "version_minor": 0
                        },
                        "text/plain": [
                            "  0%|          | 0/1 [00:00<?, ?it/s]"
                        ]
                    },
                    "metadata": {},
                    "output_type": "display_data"
                },
                {
                    "data": {
                        "application/vnd.jupyter.widget-view+json": {
                            "model_id": "9e88e9bf8d02435da3ad32c50b682580",
                            "version_major": 2,
                            "version_minor": 0
                        },
                        "text/plain": [
                            "  0%|          | 0/1 [00:00<?, ?it/s]"
                        ]
                    },
                    "metadata": {},
                    "output_type": "display_data"
                },
                {
                    "data": {
                        "application/vnd.jupyter.widget-view+json": {
                            "model_id": "559cc86772b2419482659a867e7a3705",
                            "version_major": 2,
                            "version_minor": 0
                        },
                        "text/plain": [
                            "  0%|          | 0/22 [00:00<?, ?it/s]"
                        ]
                    },
                    "metadata": {},
                    "output_type": "display_data"
                },
                {
                    "data": {
                        "text/html": [
                            "<div>\n",
                            "<style scoped>\n",
                            "    .dataframe tbody tr th:only-of-type {\n",
                            "        vertical-align: middle;\n",
                            "    }\n",
                            "\n",
                            "    .dataframe tbody tr th {\n",
                            "        vertical-align: top;\n",
                            "    }\n",
                            "\n",
                            "    .dataframe thead th {\n",
                            "        text-align: right;\n",
                            "    }\n",
                            "</style>\n",
                            "<table border=\"1\" class=\"dataframe\">\n",
                            "  <thead>\n",
                            "    <tr style=\"text-align: right;\">\n",
                            "      <th></th>\n",
                            "      <th>mean_average_precision</th>\n",
                            "      <th>indices</th>\n",
                            "      <th>p_value</th>\n",
                            "      <th>corrected_p_value</th>\n",
                            "      <th>below_p</th>\n",
                            "      <th>below_corrected_p</th>\n",
                            "      <th>-log10(p-value)</th>\n",
                            "      <th>percentage_of_cells</th>\n",
                            "      <th>seed</th>\n",
                            "      <th>shuffle</th>\n",
                            "    </tr>\n",
                            "  </thead>\n",
                            "  <tbody>\n",
                            "    <tr>\n",
                            "      <th>0</th>\n",
                            "      <td>0.716667</td>\n",
                            "      <td>[63, 64, 65]</td>\n",
                            "      <td>0.299861</td>\n",
                            "      <td>0.471210</td>\n",
                            "      <td>False</td>\n",
                            "      <td>False</td>\n",
                            "      <td>0.326786</td>\n",
                            "      <td>0.4</td>\n",
                            "      <td>0</td>\n",
                            "      <td>False</td>\n",
                            "    </tr>\n",
                            "    <tr>\n",
                            "      <th>1</th>\n",
                            "      <td>0.719444</td>\n",
                            "      <td>[52, 54, 56]</td>\n",
                            "      <td>0.299861</td>\n",
                            "      <td>0.471210</td>\n",
                            "      <td>False</td>\n",
                            "      <td>False</td>\n",
                            "      <td>0.326786</td>\n",
                            "      <td>0.4</td>\n",
                            "      <td>0</td>\n",
                            "      <td>False</td>\n",
                            "    </tr>\n",
                            "    <tr>\n",
                            "      <th>2</th>\n",
                            "      <td>0.525000</td>\n",
                            "      <td>[58, 60, 62]</td>\n",
                            "      <td>0.499343</td>\n",
                            "      <td>0.549277</td>\n",
                            "      <td>False</td>\n",
                            "      <td>False</td>\n",
                            "      <td>0.260209</td>\n",
                            "      <td>0.4</td>\n",
                            "      <td>0</td>\n",
                            "      <td>False</td>\n",
                            "    </tr>\n",
                            "    <tr>\n",
                            "      <th>3</th>\n",
                            "      <td>0.352778</td>\n",
                            "      <td>[39, 41, 43]</td>\n",
                            "      <td>0.899782</td>\n",
                            "      <td>0.899782</td>\n",
                            "      <td>False</td>\n",
                            "      <td>False</td>\n",
                            "      <td>0.045863</td>\n",
                            "      <td>0.4</td>\n",
                            "      <td>0</td>\n",
                            "      <td>False</td>\n",
                            "    </tr>\n",
                            "    <tr>\n",
                            "      <th>4</th>\n",
                            "      <td>0.555556</td>\n",
                            "      <td>[33, 35, 37]</td>\n",
                            "      <td>0.499343</td>\n",
                            "      <td>0.549277</td>\n",
                            "      <td>False</td>\n",
                            "      <td>False</td>\n",
                            "      <td>0.260209</td>\n",
                            "      <td>0.4</td>\n",
                            "      <td>0</td>\n",
                            "      <td>False</td>\n",
                            "    </tr>\n",
                            "  </tbody>\n",
                            "</table>\n",
                            "</div>"
                        ],
                        "text/plain": [
                            "   mean_average_precision       indices   p_value  corrected_p_value  below_p  \\\n",
                            "0                0.716667  [63, 64, 65]  0.299861           0.471210    False   \n",
                            "1                0.719444  [52, 54, 56]  0.299861           0.471210    False   \n",
                            "2                0.525000  [58, 60, 62]  0.499343           0.549277    False   \n",
                            "3                0.352778  [39, 41, 43]  0.899782           0.899782    False   \n",
                            "4                0.555556  [33, 35, 37]  0.499343           0.549277    False   \n",
                            "\n",
                            "   below_corrected_p  -log10(p-value)  percentage_of_cells  seed  shuffle  \n",
                            "0              False         0.326786                  0.4     0    False  \n",
                            "1              False         0.326786                  0.4     0    False  \n",
                            "2              False         0.260209                  0.4     0    False  \n",
                            "3              False         0.045863                  0.4     0    False  \n",
                            "4              False         0.260209                  0.4     0    False  "
                        ]
                    },
                    "execution_count": 6,
                    "metadata": {},
                    "output_type": "execute_result"
                }
            ],
            "source": [
                "random.seed(set_seed)\n",
                "subset_df = df.groupby([\"Metadata_Time\", \"Metadata_treatment\"]).apply(\n",
                "    lambda x: x.sample(frac=percentage, random_state=set_seed),\n",
                "    include_groups=False,\n",
                ")\n",
                "if shuffle:\n",
                "    random.seed(0)\n",
                "    # permutate the data\n",
                "    for col in subset_df.columns:\n",
                "        subset_df[col] = np.random.permutation(subset_df[col])\n",
                "metadata_cols = [cols for cols in df.columns if \"Metadata\" in cols]\n",
                "features_cols = [cols for cols in df.columns if \"Metadata\" not in cols]\n",
                "features_cols = features_cols + [\"Metadata_number_of_singlecells\"]\n",
                "aggregate_df = pycytominer.aggregate(\n",
                "    population_df=df,\n",
                "    strata=[\"Metadata_Well\", \"Metadata_Time\"],\n",
                "    features=features_cols,\n",
                "    operation=\"median\",\n",
                ")\n",
                "# Drop metadata columns\n",
                "metadata_cols = [x for x in metadata_cols if x not in sc_metadata_cols_to_drop]\n",
                "\n",
                "metadata_df = df[metadata_cols]\n",
                "metadata_df = metadata_df.drop_duplicates()\n",
                "aggregate_df = pd.merge(\n",
                "    metadata_df, aggregate_df, on=[\"Metadata_Well\", \"Metadata_Time\"]\n",
                ")\n",
                "dict_of_map_dfs = run_mAP_across_time(aggregate_df)\n",
                "# add the percentage of cells to the keys\n",
                "output_df = pd.concat(dict_of_map_dfs.values())\n",
                "output_df[\"percentage_of_cells\"] = percentage\n",
                "output_df[\"seed\"] = set_seed\n",
                "output_df[\"shuffle\"] = shuffle\n",
                "output_df.reset_index(drop=True, inplace=True)\n",
                "output_df.to_parquet(output_file)\n",
                "output_df.head()"
            ]
        }
    ],
    "metadata": {
        "kernelspec": {
            "display_name": "timelapse_map_env",
            "language": "python",
            "name": "python3"
        },
        "language_info": {
            "codemirror_mode": {
                "name": "ipython",
                "version": 3
            },
            "file_extension": ".py",
            "mimetype": "text/x-python",
            "name": "python",
            "nbconvert_exporter": "python",
            "pygments_lexer": "ipython3",
            "version": "3.11.11"
        }
    },
    "nbformat": 4,
    "nbformat_minor": 2
}
